{
 "cells": [
  {
   "cell_type": "markdown",
   "metadata": {},
   "source": [
    "---\n",
    "title       : \"Assignment: pharmacy entry\"\n",
    "subtitle    : \"Part IV-??\" \n",
    "author      : Paul Schrimpf\n",
    "date        : `j using Dates; print(Dates.today())`\n",
    "bibliography: \"entry.bib\"\n",
    "link-citations: true\n",
    "---\n",
    "\n",
    "<a rel=\"license\"\n",
    "href=\"http://creativecommons.org/licenses/by-sa/4.0/\"><img alt=\"Creative\n",
    "Commons License\" style=\"border-width:0\"\n",
    "src=\"https://i.creativecommons.org/l/by-sa/4.0/88x31.png\"\n",
    "/></a><br />This work is licensed under a <a rel=\"license\"\n",
    "href=\"http://creativecommons.org/licenses/by-sa/4.0/\">Creative\n",
    "Commons Attribution-ShareAlike 4.0 International License</a>.\n",
    "\n",
    "### About this document {-}\n",
    "\n",
    "This document was created using Weave.jl. The code is available in\n",
    "[on github](https://github.com/ECON567/PharmacyEntry). The same\n",
    "document generates both static webpages and associated jupyter\n",
    "notebooks. \n",
    "\n",
    "$$\n",
    "\\def\\indep{\\perp\\!\\!\\!\\perp}\n",
    "\\def\\Er{\\mathrm{E}}\n",
    "\\def\\R{\\mathbb{R}}\n",
    "\\def\\En{{\\mathbb{E}_n}}\n",
    "\\def\\Pr{\\mathrm{P}}\n",
    "\\newcommand{\\norm}[1]{\\left\\Vert {#1} \\right\\Vert}\n",
    "\\newcommand{\\abs}[1]{\\left\\vert {#1} \\right\\vert}\n",
    "\\DeclareMathOperator*{\\argmax}{arg\\,max}\n",
    "\\DeclareMathOperator*{\\argmin}{arg\\,min}\n",
    "\\def\\inprob{\\,{\\buildrel p \\over \\rightarrow}\\,} \n",
    "\\def\\indist{\\,{\\buildrel d \\over \\rightarrow}\\,} \n",
    "$$"
   ]
  },
  {
   "cell_type": "code",
   "execution_count": 1,
   "metadata": {},
   "outputs": [
    {
     "name": "stdout",
     "output_type": "stream",
     "text": [
      "\u001b[32m\u001b[1m Resolving\u001b[22m\u001b[39m package versions...\n"
     ]
    },
    {
     "data": {
      "text/html": [
       "    <script class='js-collapse-script'>\n",
       "        var curMatch =\n",
       "            window.location.href\n",
       "            .match(/(.*?)\\/notebooks\\/.*\\.ipynb/);\n",
       "\n",
       "        curMatch = curMatch ||\n",
       "            window.location.href\n",
       "            .match(/(.*?)\\/apps\\/.*\\.ipynb/);\n",
       "\n",
       "        if ( curMatch ) {\n",
       "            $('head').append('<base href=\"' + curMatch[1] + '/\">');\n",
       "        }\n",
       "    </script>\n"
      ],
      "text/plain": [
       "HTML{String}(\"    <script class='js-collapse-script'>\\n        var curMatch =\\n            window.location.href\\n            .match(/(.*?)\\\\/notebooks\\\\/.*\\\\.ipynb/);\\n\\n        curMatch = curMatch ||\\n            window.location.href\\n            .match(/(.*?)\\\\/apps\\\\/.*\\\\.ipynb/);\\n\\n        if ( curMatch ) {\\n            \\$('head').append('<base href=\\\"' + curMatch[1] + '/\\\">');\\n        }\\n    </script>\\n\")"
      ]
     },
     "metadata": {},
     "output_type": "display_data"
    },
    {
     "data": {
      "text/html": [
       "<script class='js-collapse-script' src='/assetserver/2fdf54a55c85c93975004f0c2902566112dc6902-assets/webio/dist/bundle.js'></script>"
      ],
      "text/plain": [
       "HTML{String}(\"<script class='js-collapse-script' src='/assetserver/2fdf54a55c85c93975004f0c2902566112dc6902-assets/webio/dist/bundle.js'></script>\")"
      ]
     },
     "metadata": {},
     "output_type": "display_data"
    },
    {
     "data": {
      "text/html": [
       "<script class='js-collapse-script' src='/assetserver/2fdf54a55c85c93975004f0c2902566112dc6902-assets/providers/ijulia_setup.js'></script>"
      ],
      "text/plain": [
       "HTML{String}(\"<script class='js-collapse-script' src='/assetserver/2fdf54a55c85c93975004f0c2902566112dc6902-assets/providers/ijulia_setup.js'></script>\")"
      ]
     },
     "metadata": {},
     "output_type": "display_data"
    },
    {
     "data": {
      "text/html": [
       "  <script class='js-collapse-script'>\n",
       "    $('.js-collapse-script').parent('.output_subarea').css('padding', '0');\n",
       "  </script>\n"
      ],
      "text/plain": [
       "HTML{String}(\"  <script class='js-collapse-script'>\\n    \\$('.js-collapse-script').parent('.output_subarea').css('padding', '0');\\n  </script>\\n\")"
      ]
     },
     "metadata": {},
     "output_type": "display_data"
    },
    {
     "name": "stdout",
     "output_type": "stream",
     "text": [
      "\u001b[32m\u001b[1m  Updating\u001b[22m\u001b[39m `~/565/assignments/PharmacyEntry/Project.toml`\n",
      "\u001b[90m [no changes]\u001b[39m\n",
      "\u001b[32m\u001b[1m  Updating\u001b[22m\u001b[39m `~/565/assignments/PharmacyEntry/Manifest.toml`\n",
      "\u001b[90m [no changes]\u001b[39m\n"
     ]
    }
   ],
   "source": [
    "using Pkg \n",
    "Pkg.activate(\"..\") \n",
    "Pkg.resolve()\n",
    "\n",
    "using Revise\n",
    "if (!(\"../src\" ∈ LOAD_PATH))\n",
    "  push!(LOAD_PATH, \"../src\") \n",
    "end\n",
    "using PharmacyEntry"
   ]
  },
  {
   "cell_type": "markdown",
   "metadata": {},
   "source": [
    "# Part IV - Model\n",
    "\n",
    "As in @br1991, we will assume that the profits per pharmacy in\n",
    "market $m$ with $N$ pharmacies is \n",
    "\n",
    "$$\n",
    "\\begin{align*}\n",
    "    \\pi_{m,N} = s_m \\underbrace{(\\alpha_1 + x_m\\beta + \\sum_{n=2}^N\n",
    "    \\alpha_n)}_{\\text{variable profits}} - \\underbrace{\\left(\\gamma_1 + \\delta\n",
    "    w_m + \\sum_{n=2}^N \\gamma_n \\right)}_{\\text{fixed costs}} +\n",
    "    \\epsilon_m \n",
    "\\end{align*}\n",
    "$$\n",
    "\n",
    "where $s_m$ is the size of the market. To simplify, I am omitting the\n",
    "$\\lambda$ and the other size shifting variables from the model. You may add\n",
    "these if you wish. \n",
    "\n",
    "Let $\\theta = (\\alpha, \\beta, \\gamma)$ denote the model parameters.\n",
    "If we assume $\\epsilon_m$ has cdf $F_\\epsilon()$ (conditional on $s$,\n",
    "$x$, and $w$), then the likelihood of observing $N_m$ pharmacies in\n",
    "market $m$ is\n",
    "\n",
    "$$\n",
    "\\begin{align*}\n",
    "   P(N = N_m | s_m, x_m, w_m; \\theta) = & P(\\pi_{m,N} \\geq 0 \\;\\&\\;\n",
    "   \\pi_{m,N+1} < 0) \\\\\n",
    "   = & P\\left(-\\left[s_m (\\alpha_1 + x_m\\beta - \\sum_{n=2}^{N_m}\n",
    "    \\alpha_n) - \\left(\\gamma_1 + \\delta\n",
    "    w_m + \\sum_{n=2}^{N_m} \\gamma_n \\right)\\right] \\leq\n",
    "    \\epsilon_m \\leq -\\left[s_m (\\alpha_1 + x_m\\beta - \\sum_{n=2}^{N_m+1}\n",
    "    \\alpha_n) - \\left(\\gamma_1 + \\delta\n",
    "    w_m + \\sum_{n=2}^{N_m+1} \\gamma_n \\right)\\right] \\right) \\\\\n",
    "   = & F_\\epsilon\\left(-\\left[s_m (\\alpha_1 + x_m\\beta - \\sum_{n=2}^{N_m+1}\n",
    "    \\alpha_n) - \\left(\\gamma_1 + \\delta\n",
    "    w_m + \\sum_{n=2}^{N_m+1} \\gamma_n \\right)\\right]\\right) -\n",
    "    F_\\epsilon\\left( -\\left[s_m (\\alpha_1 + x_m\\beta - \\sum_{n=2}^{N_m}\n",
    "    \\alpha_n) - \\left(\\gamma_1 + \\delta\n",
    "    w_m + \\sum_{n=2}^{N_m} \\gamma_n \\right)\\right] \\right)\n",
    "\\end{align*}\n",
    "$$\n",
    "\n",
    "The loglikelihood is then\n",
    "\n",
    "$$\n",
    "\\mathcal{L}(\\theta) = \\sum_{m=1}^M \\log P(N = N_m | s_m, x_m, w_m;\n",
    "\\theta),\n",
    "$$\n",
    "\n",
    "and $\\theta$ can be estimated by maximizing,\n",
    "\n",
    "$$\n",
    "\\hat{\\theta} = \\argmax_\\theta \\mathcal{L}(\\theta).\n",
    "$$\n",
    "\n",
    "### Problem 1: loglikelihood\n",
    "\n",
    "Write a function to compute the loglikelihood. You may do this however\n",
    "you want, but I suggest using the following skeleton code."
   ]
  },
  {
   "cell_type": "code",
   "execution_count": 2,
   "metadata": {},
   "outputs": [
    {
     "ename": "UndefVarError",
     "evalue": "UndefVarError: AbstractDataFrame not defined",
     "output_type": "error",
     "traceback": [
      "UndefVarError: AbstractDataFrame not defined",
      "",
      "Stacktrace:",
      " [1] top-level scope at In[2]:2"
     ]
    }
   ],
   "source": [
    "using Distributions\n",
    "\n",
    "\"\"\"\n",
    "         brentrymodel(data::AbstractDataFrame,\n",
    "                      n::Symbol,\n",
    "                      s::Symbol,\n",
    "                      x::Array{Symbol,1},\n",
    "                      w::Array{Symbol,1};\n",
    "                      Fϵ)\n",
    "\n",
    "Create loglikelihood for Bresnehan & Reiss style entry model\n",
    "\n",
    "Inputs:\n",
    "- `data` DataFrame \n",
    "- `n` name of number of firm variable in data\n",
    "- `s` name of market size variable in data\n",
    "- `x` array of names of variable profit shifters\n",
    "- `w` array of names of fixed cost shifters \n",
    "- `Fϵ` cdf of ϵ, optional, defaults to standard normal cdf\n",
    "\n",
    "The same variables may be included in both `x` and `w`.\n",
    "\n",
    "\n",
    "\"\"\"\n",
    "function brentrymodel(data::AbstractDataFrame,\n",
    "                      n::Symbol,\n",
    "                      s::Symbol,\n",
    "                      x::Array{Symbol,1},\n",
    "                      w::Array{Symbol,1};\n",
    "                      Fϵ = x->cdf(Normal(),x))\n",
    "  # skip observations with missings\n",
    "  vars = [n, s, x..., w...]\n",
    "  inc = completecases(data[vars])\n",
    "\n",
    "  N = disallowmissing(data[n][inc])\n",
    "  S = disallowmissing(data[s][inc])\n",
    "  X = disallowmissing(convert(Matrix, data[x][inc,:]))\n",
    "  W = disallowmissing(convert(Matrix, data[w][inc,:]))\n",
    "  Nmax = maximum(N)\n",
    "  function packparam(α,β,γ,δ)\n",
    "    θ = (α,β,γ,δ)\n",
    "  end\n",
    "  function unpackparam(θ)\n",
    "    α = θ[1:Nmax]\n",
    "    β = θ[(Nmax+1):(Nmax+size(X,2))]\n",
    "    γ = θ[(Nmax+size(X,2)+1):(Nmax+size(X,2)+Nmax)]\n",
    "    δ = θ[(Nmax+size(X,2)+Nmax+1):end]\n",
    "    (α,β,γ,δ)\n",
    "  end\n",
    "  function loglike(θ)\n",
    "    (α,β,γ,δ) = unpackparam(θ)\n",
    "    error(\"You must write the body of this function\")    \n",
    "  end\n",
    "  \n",
    "  return(loglike=loglike, unpack=unpackparam, pack=packparam)\n",
    "end"
   ]
  },
  {
   "cell_type": "markdown",
   "metadata": {},
   "source": [
    "### Problem 2: estimate on simulated data \n",
    "\n",
    "It is good practice to test any estimation method on simulated\n",
    "data. The function `brentrysim` in `PharmacyEntry/src/entrymodel.jl`\n",
    "simulates this model. Use it to test your likelihood. Here is some\n",
    "code to simulate. You may need to adjust the parameters to get a\n",
    "decent distribution of number of firms (i.e. not all 0 or 5)."
   ]
  },
  {
   "cell_type": "code",
   "execution_count": 3,
   "metadata": {},
   "outputs": [
    {
     "name": "stdout",
     "output_type": "stream",
     "text": [
      "Distribution of number of firms\n",
      "0.2468354430379747\n",
      "0.2911392405063291\n",
      "0.15822784810126583\n",
      "0.08227848101265822\n",
      "0.05063291139240506\n",
      "0.17088607594936708\n"
     ]
    }
   ],
   "source": [
    "# Simulating data\n",
    "using DataFrames\n",
    "import CSV\n",
    "df = CSV.read(\"cleandata.csv\")\n",
    "\n",
    "# parameters for simulation\n",
    "α = [-0.13, -0.29, -0.19, -0.2, -0.1] # loosely taken from Bresnehan & Reiss\n",
    "                                      # Table 4, note that my\n",
    "                                      # notation has α[2:n] equal to\n",
    "                                      # their -α[2:n]\n",
    "γ = [0.5,   1.,  1.,  1., 1.]\n",
    "# you may have to adjust the parameters to get a reasonable distribution of\n",
    "# number of pharmacies across markets\n",
    "svar = Symbol(\"Population, 2016\")\n",
    "α = α./mean(df[svar])  # scale to fit this data better\n",
    "β = [1., 10., 2.]\n",
    "xvars = [Symbol(\"Employment rate\"),\n",
    "         Symbol(\"Average total income in 2015 among recipients (\\$)\"),\n",
    "         Symbol(\"65 years and over\")]\n",
    "for j in 1:length(β)\n",
    "  β[j] = β[j] / mean(df[xvars[j]].*df[svar])\n",
    "end\n",
    "δ = [1., 1.]\n",
    "wvars = [Symbol(\"Population density per square kilometre\"),\n",
    "         Symbol(\"Land area in square kilometres\")]\n",
    "for j in 1:length(δ)\n",
    "  δ[j] = δ[j] / maximum(df[wvars[j]])\n",
    "end\n",
    "\n",
    "df[:nsim] = brentrysim(df, svar, xvars, wvars, α,β,γ,δ)\n",
    "println(\"Distribution of number of firms\")\n",
    "for i in 0:length(α)\n",
    "  println(\"$(mean(df[:nsim].==i))\") \n",
    "end"
   ]
  },
  {
   "cell_type": "markdown",
   "metadata": {},
   "source": [
    "To estimate from the simulated data, you could do the following."
   ]
  },
  {
   "cell_type": "code",
   "execution_count": 4,
   "metadata": {},
   "outputs": [
    {
     "ename": "UndefVarError",
     "evalue": "UndefVarError: brentrymodel not defined",
     "output_type": "error",
     "traceback": [
      "UndefVarError: brentrymodel not defined",
      "",
      "Stacktrace:",
      " [1] top-level scope at In[4]:2"
     ]
    }
   ],
   "source": [
    "using Optim\n",
    "\n",
    "(loglike, unpack, pack) = brentrymodel(df, :nsim, svar, xvars, wvars)\n",
    "θ0 = pack(α,β,γ,δ)\n",
    "res = optimize(loglike, zeros(size(θ0)), BFGS(), autodiff=:forward)\n",
    "θhat = res.minimizer\n",
    "(αhat, βhat, γhat, δhat) = unpack(θhat)"
   ]
  },
  {
   "cell_type": "markdown",
   "metadata": {},
   "source": [
    "Ideally, you would do this many times, and verify that on average the\n",
    "estimates are close to the true parameters. \n",
    "\n",
    "\n",
    "TO BE CONTINUED"
   ]
  }
 ],
 "metadata": {
  "kernelspec": {
   "display_name": "Julia 1.1.0",
   "language": "julia",
   "name": "julia-1.1"
  },
  "language_info": {
   "file_extension": ".jl",
   "mimetype": "application/julia",
   "name": "julia",
   "version": "1.1.0"
  }
 },
 "nbformat": 4,
 "nbformat_minor": 2
}
