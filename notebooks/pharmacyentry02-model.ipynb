{
 "cells": [
  {
   "cell_type": "markdown",
   "metadata": {},
   "source": [
    "---\n",
    "title       : \"Assignment: pharmacy entry\"\n",
    "subtitle    : \"Part IV-??\" \n",
    "author      : Paul Schrimpf\n",
    "date        : \n",
    "\n",
    "\n",
    "`j using Dates; print(Dates.today())`\n",
    "bibliography: \"entry.bib\"\n",
    "link-citations: true\n",
    "---\n",
    "\n",
    "<a rel=\"license\"\n",
    "href=\"http://creativecommons.org/licenses/by-sa/4.0/\"><img alt=\"Creative\n",
    "Commons License\" style=\"border-width:0\"\n",
    "src=\"https://i.creativecommons.org/l/by-sa/4.0/88x31.png\"\n",
    "/></a><br />This work is licensed under a <a rel=\"license\"\n",
    "href=\"http://creativecommons.org/licenses/by-sa/4.0/\">Creative\n",
    "Commons Attribution-ShareAlike 4.0 International License</a>.\n",
    "\n",
    "### About this document {-}\n",
    "\n",
    "This document was created using Weave.jl. The code is available in\n",
    "[on github](https://github.com/ECON567/PharmacyEntry). The same\n",
    "document generates both static webpages and associated jupyter\n",
    "notebooks. \n",
    "\n",
    "$$\n",
    "\\def\\indep{\\perp\\!\\!\\!\\perp}\n",
    "\\def\\Er{\\mathrm{E}}\n",
    "\\def\\R{\\mathbb{R}}\n",
    "\\def\\En{{\\mathbb{E}_n}}\n",
    "\\def\\Pr{\\mathrm{P}}\n",
    "\\newcommand{\\norm}[1]{\\left\\Vert {#1} \\right\\Vert}\n",
    "\\newcommand{\\abs}[1]{\\left\\vert {#1} \\right\\vert}\n",
    "\\DeclareMathOperator*{\\argmax}{arg\\,max}\n",
    "\\DeclareMathOperator*{\\argmin}{arg\\,min}\n",
    "\\def\\inprob{\\,{\\buildrel p \\over \\rightarrow}\\,} \n",
    "\\def\\indist{\\,{\\buildrel d \\over \\rightarrow}\\,} \n",
    "$$"
   ]
  },
  {
   "cell_type": "code",
   "execution_count": 1,
   "metadata": {},
   "outputs": [
    {
     "name": "stdout",
     "output_type": "stream",
     "text": [
      "\u001b[32m\u001b[1m Resolving\u001b[22m\u001b[39m package versions...\n"
     ]
    },
    {
     "data": {
      "text/html": [
       "    <script class='js-collapse-script'>\n",
       "        var curMatch =\n",
       "            window.location.href\n",
       "            .match(/(.*?)\\/notebooks\\/.*\\.ipynb/);\n",
       "\n",
       "        curMatch = curMatch ||\n",
       "            window.location.href\n",
       "            .match(/(.*?)\\/apps\\/.*\\.ipynb/);\n",
       "\n",
       "        if ( curMatch ) {\n",
       "            $('head').append('<base href=\"' + curMatch[1] + '/\">');\n",
       "        }\n",
       "    </script>\n"
      ],
      "text/plain": [
       "HTML{String}(\"    <script class='js-collapse-script'>\\n        var curMatch =\\n            window.location.href\\n            .match(/(.*?)\\\\/notebooks\\\\/.*\\\\.ipynb/);\\n\\n        curMatch = curMatch ||\\n            window.location.href\\n            .match(/(.*?)\\\\/apps\\\\/.*\\\\.ipynb/);\\n\\n        if ( curMatch ) {\\n            \\$('head').append('<base href=\\\"' + curMatch[1] + '/\\\">');\\n        }\\n    </script>\\n\")"
      ]
     },
     "metadata": {},
     "output_type": "display_data"
    },
    {
     "data": {
      "text/html": [
       "<script class='js-collapse-script' src='/assetserver/2fdf54a55c85c93975004f0c2902566112dc6902-assets/webio/dist/bundle.js'></script>"
      ],
      "text/plain": [
       "HTML{String}(\"<script class='js-collapse-script' src='/assetserver/2fdf54a55c85c93975004f0c2902566112dc6902-assets/webio/dist/bundle.js'></script>\")"
      ]
     },
     "metadata": {},
     "output_type": "display_data"
    },
    {
     "data": {
      "text/html": [
       "<script class='js-collapse-script' src='/assetserver/2fdf54a55c85c93975004f0c2902566112dc6902-assets/providers/ijulia_setup.js'></script>"
      ],
      "text/plain": [
       "HTML{String}(\"<script class='js-collapse-script' src='/assetserver/2fdf54a55c85c93975004f0c2902566112dc6902-assets/providers/ijulia_setup.js'></script>\")"
      ]
     },
     "metadata": {},
     "output_type": "display_data"
    },
    {
     "data": {
      "text/html": [
       "  <script class='js-collapse-script'>\n",
       "    $('.js-collapse-script').parent('.output_subarea').css('padding', '0');\n",
       "  </script>\n"
      ],
      "text/plain": [
       "HTML{String}(\"  <script class='js-collapse-script'>\\n    \\$('.js-collapse-script').parent('.output_subarea').css('padding', '0');\\n  </script>\\n\")"
      ]
     },
     "metadata": {},
     "output_type": "display_data"
    },
    {
     "name": "stdout",
     "output_type": "stream",
     "text": [
      "\u001b[32m\u001b[1m  Updating\u001b[22m\u001b[39m `~/565/assignments/PharmacyEntry/Project.toml`\n",
      "\u001b[90m [no changes]\u001b[39m\n",
      "\u001b[32m\u001b[1m  Updating\u001b[22m\u001b[39m `~/565/assignments/PharmacyEntry/Manifest.toml`\n",
      "\u001b[90m [no changes]\u001b[39m\n"
     ]
    }
   ],
   "source": [
    "using Pkg \n",
    "Pkg.activate(\"..\") \n",
    "Pkg.resolve()\n",
    "\n",
    "using Revise\n",
    "if (!(\"../src\" ∈ LOAD_PATH))\n",
    "  push!(LOAD_PATH, \"../src\") \n",
    "end\n",
    "using PharmacyEntry"
   ]
  },
  {
   "cell_type": "markdown",
   "metadata": {},
   "source": [
    "### Problem 0: rerun part 1\n",
    "\n",
    "I have merged everyone's province specific parsing code, geocoded the\n",
    "pharmacies, and updated the data in the git repository. Update your\n",
    "git folder, and rerun your notebook from part 1 to create a\n",
    "`cleandata.csv` with data from all the parsed provinces. When\n",
    "complete, cleandata.csv should have about 222 rows (perhaps less if\n",
    "you decided to eliminate population centres that are too big or too\n",
    "close together). \n",
    "\n",
    "# Part IV - Model\n",
    "\n",
    "As in @br1991, we will assume that the profits per pharmacy in\n",
    "market $m$ with $N$ pharmacies is \n",
    "\n",
    "$$\n",
    "\\begin{align*}\n",
    "    \\pi_{m,N} = s_m \\underbrace{(\\alpha_1 + x_m\\beta + \\sum_{n=2}^N\n",
    "    \\alpha_n)}_{\\text{variable profits}} - \\underbrace{\\left(\\gamma_1 + \\delta\n",
    "    w_m + \\sum_{n=2}^N \\gamma_n \\right)}_{\\text{fixed costs}} +\n",
    "    \\epsilon_m \n",
    "\\end{align*}\n",
    "$$\n",
    "\n",
    "where $s_m$ is the size of the market. To simplify, I am omitting the\n",
    "$\\lambda$ and the other size shifting variables from the model. You may add\n",
    "these if you wish. \n",
    "\n",
    "Let $\\theta = (\\alpha, \\beta, \\gamma)$ denote the model parameters.\n",
    "If we assume $\\epsilon_m$ has cdf $F_\\epsilon()$ (conditional on $s$,\n",
    "$x$, and $w$), then the likelihood of observing $N_m$ pharmacies in\n",
    "market $m$ is\n",
    "\n",
    "$$\n",
    "\\begin{align*}\n",
    "   P(N = N_m | s_m, x_m, w_m; \\theta) = & P(\\pi_{m,N} \\geq 0 \\;\\&\\;\n",
    "   \\pi_{m,N+1} < 0) \\\\\n",
    "   = & P\\left(-\\left[s_m (\\alpha_1 + x_m\\beta + \\sum_{n=2}^{N_m}\n",
    "    \\alpha_n) - \\left(\\gamma_1 + \\delta\n",
    "    w_m + \\sum_{n=2}^{N_m} \\gamma_n \\right)\\right] \\leq\n",
    "    \\epsilon_m \\leq -\\left[s_m (\\alpha_1 + x_m\\beta + \\sum_{n=2}^{N_m+1}\n",
    "    \\alpha_n) - \\left(\\gamma_1 + \\delta\n",
    "    w_m + \\sum_{n=2}^{N_m+1} \\gamma_n \\right)\\right] \\right) \\\\\n",
    "   = & F_\\epsilon\\left(-\\left[s_m (\\alpha_1 + x_m\\beta + \\sum_{n=2}^{N_m+1}\n",
    "    \\alpha_n) - \\left(\\gamma_1 + \\delta\n",
    "    w_m + \\sum_{n=2}^{N_m+1} \\gamma_n \\right)\\right]\\right) -\n",
    "    F_\\epsilon\\left( -\\left[s_m (\\alpha_1 + x_m\\beta + \\sum_{n=2}^{N_m}\n",
    "    \\alpha_n) - \\left(\\gamma_1 + \\delta\n",
    "    w_m + \\sum_{n=2}^{N_m} \\gamma_n \\right)\\right] \\right)\n",
    "\\end{align*}\n",
    "$$\n",
    "\n",
    "The loglikelihood is then\n",
    "\n",
    "$$\n",
    "\\mathcal{L}(\\theta) = \\frac{1}{M} \\sum_{m=1}^M \\log P(N = N_m | s_m, x_m, w_m;\n",
    "\\theta),\n",
    "$$\n",
    "\n",
    "and $\\theta$ can be estimated by maximizing,\n",
    "\n",
    "$$\n",
    "\\hat{\\theta} = \\argmax_\\theta \\mathcal{L}(\\theta).\n",
    "$$\n",
    "\n",
    "### Problem 1: loglikelihood\n",
    "\n",
    "Write a function to compute the loglikelihood. You may do this however\n",
    "you want, but I suggest using the following skeleton code."
   ]
  },
  {
   "cell_type": "code",
   "execution_count": 2,
   "metadata": {},
   "outputs": [
    {
     "data": {
      "text/plain": [
       "brentrymodel"
      ]
     },
     "execution_count": 2,
     "metadata": {},
     "output_type": "execute_result"
    }
   ],
   "source": [
    "using Distributions, DataFrames\n",
    "\n",
    "\"\"\"\n",
    "         brentrymodel(data::AbstractDataFrame,\n",
    "                      n::Symbol,\n",
    "                      s::Symbol,\n",
    "                      x::Array{Symbol,1},\n",
    "                      w::Array{Symbol,1};\n",
    "                      Fϵ)\n",
    "\n",
    "Create loglikelihood for Bresnehan & Reiss style entry model\n",
    "\n",
    "Inputs:\n",
    "- `data` DataFrame \n",
    "- `n` name of number of firm variable in data\n",
    "- `s` name of market size variable in data\n",
    "- `x` array of names of variable profit shifters\n",
    "- `w` array of names of fixed cost shifters \n",
    "- `Fϵ` cdf of ϵ, optional, defaults to standard normal cdf\n",
    "\n",
    "The same variables may be included in both `x` and `w`.\n",
    "\"\"\"\n",
    "function brentrymodel(data::AbstractDataFrame,\n",
    "                      n::Symbol,\n",
    "                      s::Symbol,\n",
    "                      x::Array{Symbol,1},\n",
    "                      w::Array{Symbol,1};\n",
    "                      Fϵ = x->cdf(Normal(),x))\n",
    "  # skip observations with missings\n",
    "  vars = unique([n, s, x..., w...])\n",
    "  inc = completecases(data[vars])\n",
    "\n",
    "  N = disallowmissing(data[n][inc])\n",
    "  S = disallowmissing(data[s][inc])\n",
    "  X = disallowmissing(convert(Matrix, data[x][inc,:]))\n",
    "  W = disallowmissing(convert(Matrix, data[w][inc,:]))\n",
    "  Nmax = maximum(N)\n",
    "  function packparam(α,β,γ,δ)\n",
    "    θ = [α;β;γ;δ]\n",
    "  end\n",
    "  function unpackparam(θ)\n",
    "    α = θ[1:Nmax]\n",
    "    β = θ[(Nmax+1):(Nmax+size(X,2))]\n",
    "    γ = θ[(Nmax+size(X,2)+1):(Nmax+size(X,2)+Nmax)]\n",
    "    δ = θ[(Nmax+size(X,2)+Nmax+1):end]\n",
    "    (α,β,γ,δ)\n",
    "  end\n",
    "\n",
    "  # While maximizing the likelihood some parameters might result in\n",
    "  # the likelihood being 0 (or very close to 0) taking log would \n",
    "  # create problems. Use logfinite from PharmacyEntry.jl instead\n",
    "  logf = logfinite(exp(-100.0) ) # could adjust the exp(-100.0)\n",
    "\n",
    "  function loglike(θ)\n",
    "    (α,β,γ,δ) = unpackparam(θ)\n",
    "    error(\"You must write the body of this function\")\n",
    "    # P = array of likelihoods for each observation\n",
    "    # return(mean(logf.(P))) \n",
    "  end\n",
    "  \n",
    "  return(loglike=loglike, unpack=unpackparam, pack=packparam)\n",
    "end"
   ]
  },
  {
   "cell_type": "markdown",
   "metadata": {},
   "source": [
    "### Problem 2: estimate on simulated data \n",
    "\n",
    "It is good practice to test any estimation method on simulated\n",
    "data. The function `brentrysim` in `PharmacyEntry/src/entrymodel.jl`\n",
    "simulates this model. Use it to test your likelihood. Here is some\n",
    "code to simulate. You may need to adjust the parameters to get a\n",
    "decent distribution of number of firms (i.e. not all 0 or 5)."
   ]
  },
  {
   "cell_type": "code",
   "execution_count": 3,
   "metadata": {},
   "outputs": [
    {
     "name": "stdout",
     "output_type": "stream",
     "text": [
      "Distribution of number of firms\n",
      "0.434\n",
      "0.254\n",
      "0.312\n"
     ]
    }
   ],
   "source": [
    "# Simulating data\n",
    "using DataFrames, Statistics, StatsBase\n",
    "import CSV\n",
    "df = CSV.read(\"cleandata.csv\")\n",
    "\n",
    "# Important to scale variables to avoid numerical problems in both\n",
    "# simulation & estimation\n",
    "df[:pop10k] = df[Symbol(\"Population, 2016\")]./10000\n",
    "df[:logpop10k] = log.(df[:pop10k])\n",
    "df[:income10k] = df[Symbol(\"Average total income in 2015 among recipients (\\$)\")]./10000\n",
    "df[:density1k] = df[Symbol(\"Population density per square kilometre\")]./1000\n",
    "df[:logdensity] = log.(df[:density1k])\n",
    "df[:logarea] = log.(df[Symbol(\"Land area in square kilometres\")])\n",
    "df[:mediumage] = df[Symbol(\"15 to 64 years\")]./100\n",
    "# parameters for simulation\n",
    "n_obs_sim = 500 # you might want to adjust this. You want it to be\n",
    "                # large enough that your estimates are close to the\n",
    "                # true values, but small enough that it doesn't take\n",
    "                # too long to estimate\n",
    "\n",
    "# the maximum number of pharmacies in the simulated data will be\n",
    "# length(α) + 1\n",
    "α = [1.0, -1.]  \n",
    "γ = [1.0,  1.]\n",
    "# you may have to adjust the parameters to get a reasonable distribution of\n",
    "# number of pharmacies across markets\n",
    "svar = :pop10k\n",
    "β = [1., 1.]\n",
    "xvars = [:income10k,\n",
    "         :mediumage]\n",
    "δ = [1., 1.]\n",
    "wvars = [:logdensity,\n",
    "         :logarea]\n",
    "simdf = df[sample(1:nrow(df), n_obs_sim),:]\n",
    "\n",
    "simdf[:nsim] = brentrysim(simdf, svar, xvars, wvars, α,β,γ,δ)\n",
    "println(\"Distribution of number of firms\")\n",
    "for i in 0:length(α)\n",
    "  println(\"$(mean(simdf[:nsim].==i))\") \n",
    "end"
   ]
  },
  {
   "cell_type": "markdown",
   "metadata": {},
   "source": [
    "To estimate from the simulated data, you could do the following."
   ]
  },
  {
   "cell_type": "code",
   "execution_count": 4,
   "metadata": {},
   "outputs": [
    {
     "name": "stderr",
     "output_type": "stream",
     "text": [
      "WARNING: using EntrySolution.brentrymodel in module Main conflicts with an existing identifier.\n"
     ]
    },
    {
     "ename": "ErrorException",
     "evalue": "You must write the body of this function",
     "output_type": "error",
     "traceback": [
      "You must write the body of this function",
      "",
      "Stacktrace:",
      " [1] (::getfield(Main, Symbol(\"#loglike#8\")){getfield(Main, Symbol(\"#unpackparam#7\")){Array{Float64,2},Int64}})(::Array{Float64,1}) at ./In[2]:56",
      " [2] top-level scope at In[4]:11"
     ]
    }
   ],
   "source": [
    "using Optim, ForwardDiff, LinearAlgebra, PrettyTables\n",
    "try \n",
    "  using EntrySolution\n",
    "  # this contains my code for the likelihood and\n",
    "  # it's intentionally not included in the assignment\n",
    "catch\n",
    "end\n",
    "\n",
    "(loglike, unpack, pack) = brentrymodel(simdf, :nsim, svar, xvars, wvars)\n",
    "θ0 = pack(α,β,γ,δ)\n",
    "loglike(θ0)\n",
    "\n",
    "# initial values --- note that you may run into optimization problems\n",
    "# with poor initial values. This is especially likely if\n",
    "# s*cumsum(α)[c] - cumsum(γ)[c] is not decreasing with c. You can\n",
    "# ensure this by making α < 0 and γ>0\n",
    "βi = zeros(size(β))\n",
    "δi = zeros(size(δ))\n",
    "αi = zeros(size(α))\n",
    "γi = ones(size(γ))\n",
    "θi = pack(αi, βi, γi, δi);\n",
    "loglike(θi)\n",
    "\n",
    "res = optimize((x)->(-loglike(x)), θi, method=BFGS(),\n",
    "               autodiff=:forward, show_trace=true)\n",
    "# if you have problems, maybe look at one parameter at a time, e.g.\n",
    "# res = optimize((x)->(-loglike(pack(x, β, γ, δ))), αi, method=BFGS(), autodiff=:forward, show_trace=true) \n",
    "θhat = res.minimizer\n",
    "(αhat, βhat, γhat, δhat) = unpack(θhat)\n",
    "\n",
    "# calculate standard errors\n",
    "H = ForwardDiff.hessian(loglike,θhat)\n",
    "Varθ = -inv(H)./nrow(simdf);\n",
    "(seα, seβ, seγ, seδ) = unpack(sqrt.(diag(Varθ)))\n",
    "\n",
    "# Print a nice(ish) table\n",
    "header= [\"Parameter\", \"Truth\", \"Estimate\", \"(SE)\"];\n",
    "param = [[\"α[$i]\" for i in eachindex(α)];\n",
    "         [\"β[$i]\" for i in eachindex(β)];\n",
    "         [\"γ[$i]\" for i in eachindex(γ)];\n",
    "         [\"δ[$i]\" for i in eachindex(δ)]];\n",
    "# highlight estimates that reject H0 : estimate = true at 99% level\n",
    "h1 = Highlighter(\n",
    "  f = (tbl, i, j)->( (j==3 || j==4) &&\n",
    "                   abs((tbl[i,2]-tbl[i,3])/tbl[i,4]).>quantile(Normal(),\n",
    "                                                               0.995)),\n",
    "  crayon = crayon\"red bold\"\n",
    ");"
   ]
  },
  {
   "cell_type": "code",
   "execution_count": 5,
   "metadata": {},
   "outputs": [
    {
     "ename": "UndefVarError",
     "evalue": "UndefVarError: Varθ not defined",
     "output_type": "error",
     "traceback": [
      "UndefVarError: Varθ not defined",
      "",
      "Stacktrace:",
      " [1] top-level scope at In[5]:1"
     ]
    }
   ],
   "source": [
    "tbl = pretty_table(hcat(param, θ0, θhat, sqrt.(diag(Varθ))), header,\n",
    "                   formatter = Dict(3 => (v,i) -> round(v,digits=3),\n",
    "                                    4 => (v,i) -> \"($(round(v,digits=3)))\"),\n",
    "                   highlighters=tuple(h1))"
   ]
  },
  {
   "cell_type": "markdown",
   "metadata": {},
   "source": [
    "Ideally, you would do this many times, and verify that as the sample\n",
    "size increases, the estimates are close to the true parameters. Note\n",
    "that maximum likelihood is generally only consistent, not\n",
    "unbiased. Also, I have semi-deliberately setup the simulation so that\n",
    "there is a pair of parameters that are not well identified\n",
    "separately. Can you figure out what the problem is?\n",
    "\n",
    "### Problem 3: estimation\n",
    "\n",
    "Estimate the model on the real data. oBriefly discuss your choice of \"X\" and\n",
    "\"W\" variables. Be sure to check the output of `optimize().` You may\n",
    "have to do some tweaking of initial values and/or optimization\n",
    "algorithm to get convergence. As in the simulation, report both your\n",
    "parameter estimates and standard errors.\n",
    "\n",
    "### Problem 4: fit\n",
    "\n",
    "Create tables and/or figures that show how well your estimates and\n",
    "model fit the data. \n",
    "\n",
    "### Problem 5: entry thresholds\n",
    "\n",
    "Compute entry thresholds and create a figure similar to Figure 4 from\n",
    "@br1991. Since this data generally has more pharmacies than in\n",
    "@br1991, you should probably choose something larger than 5 for the\n",
    "maximum N to plot. Use the delta method to compute standard errors for\n",
    "your $s_N$ and add confidence bands to the figure."
   ]
  },
  {
   "cell_type": "code",
   "execution_count": 6,
   "metadata": {},
   "outputs": [
    {
     "data": {
      "text/plain": [
       "3×3 Array{Float64,2}:\n",
       "  3.0  -3.0   1.0\n",
       " -3.0   3.0  -1.0\n",
       "  1.0  -1.0   3.0"
      ]
     },
     "execution_count": 6,
     "metadata": {},
     "output_type": "execute_result"
    }
   ],
   "source": [
    "using ForwardDiff\n",
    "# delta method demo\n",
    "estimate = [1.0, 1.0]\n",
    "variance_estimate = [1.0 0.0;\n",
    "                     0.0 2.0]\n",
    "function func_of_estimate(θ)\n",
    "  # you'd replace this with your function to calculate the size thresholds\n",
    "  [sum((θ) ./ (θ.*θ)), θ[1]*θ[2], θ[1] - θ[2]]\n",
    "end\n",
    "sn = func_of_estimate(estimate)\n",
    "∇sn = ForwardDiff.jacobian(func_of_estimate, estimate)\n",
    "variance_sn = ∇sn*variance_estimate*∇sn'"
   ]
  }
 ],
 "metadata": {
  "kernelspec": {
   "display_name": "Julia 1.1.0",
   "language": "julia",
   "name": "julia-1.1"
  },
  "language_info": {
   "file_extension": ".jl",
   "mimetype": "application/julia",
   "name": "julia",
   "version": "1.1.0"
  }
 },
 "nbformat": 4,
 "nbformat_minor": 2
}
