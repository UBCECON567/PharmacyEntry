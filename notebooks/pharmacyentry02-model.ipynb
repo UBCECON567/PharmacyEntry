{
 "cells": [
  {
   "cell_type": "markdown",
   "metadata": {},
   "source": [
    "---\n",
    "title       : \"Assignment: pharmacy entry\"\n",
    "subtitle    : \"Part IV-??\" \n",
    "author      : Paul Schrimpf\n",
    "date        : `j using Dates; print(Dates.today())`\n",
    "bibliography: \"entry.bib\"\n",
    "link-citations: true\n",
    "---\n",
    "\n",
    "<a rel=\"license\"\n",
    "href=\"http://creativecommons.org/licenses/by-sa/4.0/\"><img alt=\"Creative\n",
    "Commons License\" style=\"border-width:0\"\n",
    "src=\"https://i.creativecommons.org/l/by-sa/4.0/88x31.png\"\n",
    "/></a><br />This work is licensed under a <a rel=\"license\"\n",
    "href=\"http://creativecommons.org/licenses/by-sa/4.0/\">Creative\n",
    "Commons Attribution-ShareAlike 4.0 International License</a>.\n",
    "\n",
    "### About this document {-}\n",
    "\n",
    "This document was created using Weave.jl. The code is available in\n",
    "[on github](https://github.com/ECON567/PharmacyEntry). The same\n",
    "document generates both static webpages and associated jupyter\n",
    "notebooks. \n",
    "\n",
    "$$\n",
    "\\def\\indep{\\perp\\!\\!\\!\\perp}\n",
    "\\def\\Er{\\mathrm{E}}\n",
    "\\def\\R{\\mathbb{R}}\n",
    "\\def\\En{{\\mathbb{E}_n}}\n",
    "\\def\\Pr{\\mathrm{P}}\n",
    "\\newcommand{\\norm}[1]{\\left\\Vert {#1} \\right\\Vert}\n",
    "\\newcommand{\\abs}[1]{\\left\\vert {#1} \\right\\vert}\n",
    "\\DeclareMathOperator*{\\argmax}{arg\\,max}\n",
    "\\DeclareMathOperator*{\\argmin}{arg\\,min}\n",
    "\\def\\inprob{\\,{\\buildrel p \\over \\rightarrow}\\,} \n",
    "\\def\\indist{\\,{\\buildrel d \\over \\rightarrow}\\,} \n",
    "$$"
   ]
  },
  {
   "cell_type": "code",
   "execution_count": 1,
   "metadata": {},
   "outputs": [
    {
     "name": "stdout",
     "output_type": "stream",
     "text": [
      "\u001b[32m\u001b[1m  Updating\u001b[22m\u001b[39m registry at `~/.julia/registries/General`\n",
      "\u001b[32m\u001b[1m  Updating\u001b[22m\u001b[39m git-repo `https://github.com/JuliaRegistries/General.git`\n",
      "\u001b[?25l\u001b[2K\u001b[?25h"
     ]
    },
    {
     "data": {
      "text/html": [
       "    <script class='js-collapse-script'>\n",
       "        var curMatch =\n",
       "            window.location.href\n",
       "            .match(/(.*?)\\/notebooks\\/.*\\.ipynb/);\n",
       "\n",
       "        curMatch = curMatch ||\n",
       "            window.location.href\n",
       "            .match(/(.*?)\\/apps\\/.*\\.ipynb/);\n",
       "\n",
       "        if ( curMatch ) {\n",
       "            $('head').append('<base href=\"' + curMatch[1] + '/\">');\n",
       "        }\n",
       "    </script>\n"
      ],
      "text/plain": [
       "HTML{String}(\"    <script class='js-collapse-script'>\\n        var curMatch =\\n            window.location.href\\n            .match(/(.*?)\\\\/notebooks\\\\/.*\\\\.ipynb/);\\n\\n        curMatch = curMatch ||\\n            window.location.href\\n            .match(/(.*?)\\\\/apps\\\\/.*\\\\.ipynb/);\\n\\n        if ( curMatch ) {\\n            \\$('head').append('<base href=\\\"' + curMatch[1] + '/\\\">');\\n        }\\n    </script>\\n\")"
      ]
     },
     "metadata": {},
     "output_type": "display_data"
    },
    {
     "data": {
      "text/html": [
       "<script class='js-collapse-script' src='/assetserver/2fdf54a55c85c93975004f0c2902566112dc6902-assets/webio/dist/bundle.js'></script>"
      ],
      "text/plain": [
       "HTML{String}(\"<script class='js-collapse-script' src='/assetserver/2fdf54a55c85c93975004f0c2902566112dc6902-assets/webio/dist/bundle.js'></script>\")"
      ]
     },
     "metadata": {},
     "output_type": "display_data"
    },
    {
     "data": {
      "text/html": [
       "<script class='js-collapse-script' src='/assetserver/2fdf54a55c85c93975004f0c2902566112dc6902-assets/providers/ijulia_setup.js'></script>"
      ],
      "text/plain": [
       "HTML{String}(\"<script class='js-collapse-script' src='/assetserver/2fdf54a55c85c93975004f0c2902566112dc6902-assets/providers/ijulia_setup.js'></script>\")"
      ]
     },
     "metadata": {},
     "output_type": "display_data"
    },
    {
     "data": {
      "text/html": [
       "  <script class='js-collapse-script'>\n",
       "    $('.js-collapse-script').parent('.output_subarea').css('padding', '0');\n",
       "  </script>\n"
      ],
      "text/plain": [
       "HTML{String}(\"  <script class='js-collapse-script'>\\n    \\$('.js-collapse-script').parent('.output_subarea').css('padding', '0');\\n  </script>\\n\")"
      ]
     },
     "metadata": {},
     "output_type": "display_data"
    }
   ],
   "source": [
    "using Pkg \n",
    "Pkg.activate(\"..\") \n",
    "Pkg.instantiate()\n",
    "\n",
    "using Revise\n",
    "if (!(\"../src\" ∈ LOAD_PATH))\n",
    "  push!(LOAD_PATH, \"../src\") \n",
    "end\n",
    "using PharmacyEntry"
   ]
  },
  {
   "cell_type": "markdown",
   "metadata": {},
   "source": [
    "# Part IV"
   ]
  },
  {
   "cell_type": "code",
   "execution_count": 2,
   "metadata": {},
   "outputs": [
    {
     "data": {
      "text/html": [
       "<table class=\"data-frame\"><thead><tr><th></th><th>variable</th><th>mean</th><th>min</th><th>median</th><th>max</th><th>nunique</th><th>nmissing</th><th>eltype</th></tr><tr><th></th><th>Symbol</th><th>Union…</th><th>Any</th><th>Union…</th><th>Any</th><th>Union…</th><th>Int64</th><th>Type</th></tr></thead><tbody><p>56 rows × 8 columns</p><tr><th>1</th><td>GEO_CODE</td><td>805.651</td><td>1</td><td>788.0</td><td>1576</td><td></td><td>0</td><td>Int64</td></tr><tr><th>2</th><td>GEO_NAME</td><td></td><td>Abbotsford</td><td></td><td>Évain</td><td>993</td><td>0</td><td>String</td></tr><tr><th>3</th><td>0 to 14 years</td><td>17.566</td><td>4.1</td><td>16.9</td><td>41.3</td><td></td><td>0</td><td>Float64</td></tr><tr><th>4</th><td>15 to 29 minutes</td><td>4403.29</td><td>10.0</td><td>315.0</td><td>732785.0</td><td></td><td>0</td><td>Float64</td></tr><tr><th>5</th><td>15 to 64 years</td><td>62.5046</td><td>35.9</td><td>62.7</td><td>82.5</td><td></td><td>0</td><td>Float64</td></tr><tr><th>6</th><td>3 Health occupations</td><td>1027.47</td><td>0.0</td><td>105.0</td><td>160610.0</td><td></td><td>0</td><td>Float64</td></tr><tr><th>7</th><td>30 to 44 minutes</td><td>2714.22</td><td>0.0</td><td>170.0</td><td>668925.0</td><td></td><td>0</td><td>Float64</td></tr><tr><th>8</th><td>45 to 59 minutes</td><td>1171.81</td><td>0.0</td><td>70.0</td><td>335205.0</td><td></td><td>0</td><td>Float64</td></tr><tr><th>9</th><td>60 minutes and over</td><td>1251.07</td><td>0.0</td><td>80.0</td><td>427450.0</td><td></td><td>0</td><td>Float64</td></tr><tr><th>10</th><td>65 years and over</td><td>258.313</td><td>0.0</td><td>10.0</td><td>70895.0</td><td></td><td>0</td><td>Float64</td></tr><tr><th>11</th><td>All occupations</td><td>14875.7</td><td>145.0</td><td>1435.0</td><td>2.86844e6</td><td></td><td>0</td><td>Float64</td></tr><tr><th>12</th><td>Apprenticeship or trades certificate or diploma</td><td>1476.69</td><td>10.0</td><td>220.0</td><td>273400.0</td><td></td><td>0</td><td>Float64</td></tr><tr><th>13</th><td>Average government transfers in 2015 among recipients ($)</td><td>8792.88</td><td>2920.0</td><td>8942.0</td><td>12848.0</td><td></td><td>0</td><td>Float64</td></tr><tr><th>14</th><td>Average total income in 2015 among recipients ($)</td><td>43616.4</td><td>17319.0</td><td>41701.0</td><td>155851.0</td><td></td><td>0</td><td>Float64</td></tr><tr><th>15</th><td>Bachelor's degree</td><td>3204.81</td><td>0.0</td><td>165.0</td><td>821300.0</td><td></td><td>0</td><td>Float64</td></tr><tr><th>16</th><td>Certificate of Apprenticeship or Certificate of Qualification</td><td>637.547</td><td>0.0</td><td>100.0</td><td>72885.0</td><td></td><td>0</td><td>Float64</td></tr><tr><th>17</th><td>College, CEGEP or other non-university certificate or diploma</td><td>3387.33</td><td>15.0</td><td>365.0</td><td>589090.0</td><td></td><td>0</td><td>Float64</td></tr><tr><th>18</th><td>Degree in medicine, dentistry, veterinary medicine or optometry</td><td>135.333</td><td>0.0</td><td>10.0</td><td>34910.0</td><td></td><td>0</td><td>Float64</td></tr><tr><th>19</th><td>Earned doctorate</td><td>162.522</td><td>0.0</td><td>0.0</td><td>36215.0</td><td></td><td>0</td><td>Float64</td></tr><tr><th>20</th><td>Employment rate</td><td>57.5631</td><td>18.9</td><td>58.2</td><td>85.8</td><td></td><td>0</td><td>Float64</td></tr><tr><th>21</th><td>Health and related fields</td><td>1432.35</td><td>0.0</td><td>145.0</td><td>239960.0</td><td></td><td>0</td><td>Float64</td></tr><tr><th>22</th><td>Land area in square kilometres</td><td>16.7281</td><td>0.18</td><td>3.4</td><td>1792.99</td><td></td><td>0</td><td>Float64</td></tr><tr><th>23</th><td>Less than 15 minutes</td><td>3584.89</td><td>35.0</td><td>550.0</td><td>341440.0</td><td></td><td>0</td><td>Float64</td></tr><tr><th>24</th><td>Master's degree</td><td>1030.61</td><td>0.0</td><td>35.0</td><td>293070.0</td><td></td><td>0</td><td>Float64</td></tr><tr><th>25</th><td>Median after-tax income in 2015 among recipients ($)</td><td>31427.1</td><td>7184.0</td><td>30592.0</td><td>69449.0</td><td></td><td>0</td><td>Float64</td></tr><tr><th>26</th><td>Median government transfers in 2015 among recipients ($)</td><td>7564.66</td><td>520.0</td><td>7952.0</td><td>13435.0</td><td></td><td>0</td><td>Float64</td></tr><tr><th>27</th><td>Median total income in 2015 among recipients ($)</td><td>34957.8</td><td>7184.0</td><td>33977.0</td><td>90560.0</td><td></td><td>0</td><td>Float64</td></tr><tr><th>28</th><td>No certificate, diploma or degree</td><td>1598.53</td><td>0.0</td><td>235.0</td><td>292270.0</td><td></td><td>0</td><td>Float64</td></tr><tr><th>29</th><td>Number of government transfers recipients aged 15 years and over in private households - 100% data</td><td>15930.4</td><td>375.0</td><td>1670.0</td><td>3.0684e6</td><td></td><td>0</td><td>Float64</td></tr><tr><th>&vellip;</th><td>&vellip;</td><td>&vellip;</td><td>&vellip;</td><td>&vellip;</td><td>&vellip;</td><td>&vellip;</td><td>&vellip;</td><td>&vellip;</td></tr></tbody></table>"
      ],
      "text/latex": [
       "\\begin{tabular}{r|cccccccc}\n",
       "\t& variable & mean & min & median & max & nunique & nmissing & eltype\\\\\n",
       "\t\\hline\n",
       "\t1 & GEO\\_CODE & 805.651 & 1 & 788.0 & 1576 &  & 0 & Int64 \\\\\n",
       "\t2 & GEO\\_NAME &  & Abbotsford &  & Évain & 993 & 0 & String \\\\\n",
       "\t3 & 0 to 14 years & 17.566 & 4.1 & 16.9 & 41.3 &  & 0 & Float64 \\\\\n",
       "\t4 & 15 to 29 minutes & 4403.29 & 10.0 & 315.0 & 732785.0 &  & 0 & Float64 \\\\\n",
       "\t5 & 15 to 64 years & 62.5046 & 35.9 & 62.7 & 82.5 &  & 0 & Float64 \\\\\n",
       "\t6 & 3 Health occupations & 1027.47 & 0.0 & 105.0 & 160610.0 &  & 0 & Float64 \\\\\n",
       "\t7 & 30 to 44 minutes & 2714.22 & 0.0 & 170.0 & 668925.0 &  & 0 & Float64 \\\\\n",
       "\t8 & 45 to 59 minutes & 1171.81 & 0.0 & 70.0 & 335205.0 &  & 0 & Float64 \\\\\n",
       "\t9 & 60 minutes and over & 1251.07 & 0.0 & 80.0 & 427450.0 &  & 0 & Float64 \\\\\n",
       "\t10 & 65 years and over & 258.313 & 0.0 & 10.0 & 70895.0 &  & 0 & Float64 \\\\\n",
       "\t11 & All occupations & 14875.7 & 145.0 & 1435.0 & 2.86844e6 &  & 0 & Float64 \\\\\n",
       "\t12 & Apprenticeship or trades certificate or diploma & 1476.69 & 10.0 & 220.0 & 273400.0 &  & 0 & Float64 \\\\\n",
       "\t13 & Average government transfers in 2015 among recipients (\\$) & 8792.88 & 2920.0 & 8942.0 & 12848.0 &  & 0 & Float64 \\\\\n",
       "\t14 & Average total income in 2015 among recipients (\\$) & 43616.4 & 17319.0 & 41701.0 & 155851.0 &  & 0 & Float64 \\\\\n",
       "\t15 & Bachelor's degree & 3204.81 & 0.0 & 165.0 & 821300.0 &  & 0 & Float64 \\\\\n",
       "\t16 & Certificate of Apprenticeship or Certificate of Qualification & 637.547 & 0.0 & 100.0 & 72885.0 &  & 0 & Float64 \\\\\n",
       "\t17 & College, CEGEP or other non-university certificate or diploma & 3387.33 & 15.0 & 365.0 & 589090.0 &  & 0 & Float64 \\\\\n",
       "\t18 & Degree in medicine, dentistry, veterinary medicine or optometry & 135.333 & 0.0 & 10.0 & 34910.0 &  & 0 & Float64 \\\\\n",
       "\t19 & Earned doctorate & 162.522 & 0.0 & 0.0 & 36215.0 &  & 0 & Float64 \\\\\n",
       "\t20 & Employment rate & 57.5631 & 18.9 & 58.2 & 85.8 &  & 0 & Float64 \\\\\n",
       "\t21 & Health and related fields & 1432.35 & 0.0 & 145.0 & 239960.0 &  & 0 & Float64 \\\\\n",
       "\t22 & Land area in square kilometres & 16.7281 & 0.18 & 3.4 & 1792.99 &  & 0 & Float64 \\\\\n",
       "\t23 & Less than 15 minutes & 3584.89 & 35.0 & 550.0 & 341440.0 &  & 0 & Float64 \\\\\n",
       "\t24 & Master's degree & 1030.61 & 0.0 & 35.0 & 293070.0 &  & 0 & Float64 \\\\\n",
       "\t25 & Median after-tax income in 2015 among recipients (\\$) & 31427.1 & 7184.0 & 30592.0 & 69449.0 &  & 0 & Float64 \\\\\n",
       "\t26 & Median government transfers in 2015 among recipients (\\$) & 7564.66 & 520.0 & 7952.0 & 13435.0 &  & 0 & Float64 \\\\\n",
       "\t27 & Median total income in 2015 among recipients (\\$) & 34957.8 & 7184.0 & 33977.0 & 90560.0 &  & 0 & Float64 \\\\\n",
       "\t28 & No certificate, diploma or degree & 1598.53 & 0.0 & 235.0 & 292270.0 &  & 0 & Float64 \\\\\n",
       "\t29 & Number of government transfers recipients aged 15 years and over in private households - 100\\% data & 15930.4 & 375.0 & 1670.0 & 3.0684e6 &  & 0 & Float64 \\\\\n",
       "\t30 & Participation rate & 62.6825 & 26.9 & 63.0 & 89.5 &  & 0 & Float64 \\\\\n",
       "\t31 & Population density per square kilometre & 1021.16 & 400.2 & 934.2 & 5897.7 &  & 0 & Float64 \\\\\n",
       "\t32 & Population, 2011 & 26846.3 & 0.0 & 2839.0 & 5.14441e6 &  & 0 & Float64 \\\\\n",
       "\t33 & Population, 2016 & 28434.2 & 1003.0 & 2939.0 & 5.42952e6 &  & 0 & Float64 \\\\\n",
       "\t34 & Postsecondary certificate, diploma or degree & 10210.1 & 75.0 & 880.0 & 2.08069e6 &  & 0 & Float64 \\\\\n",
       "\t35 & Prevalence of low income based on the Low-income measure, after tax (LIM-AT) (\\%) & 13.4564 & 0.0 & 13.1 & 57.1 &  & 0 & Float64 \\\\\n",
       "\t36 & Secondary (high) school diploma or equivalency certificate & 3584.88 & 30.0 & 385.0 & 647655.0 &  & 0 & Float64 \\\\\n",
       "\t37 & Total - Commuting duration for the employed labour force aged 15 years and over in private households with a usual place of work or no fixed workplace address - 25\\% sample data & 13125.3 & 120.0 & 1265.0 & 2.50581e6 &  & 0 & Float64 \\\\\n",
       "\t38 & Total - Highest certificate, diploma or degree for the population aged 15 years and over in private households - 25\\% sample data & 23183.1 & 610.0 & 2330.0 & 4.48573e6 &  & 0 & Float64 \\\\\n",
       "\t39 & Total - Highest certificate, diploma or degree for the population aged 25 to 64 years in private households - 25\\% sample data & 15393.4 & 370.0 & 1475.0 & 3.02062e6 &  & 0 & Float64 \\\\\n",
       "\t40 & Total - Major field of study - Classification of Instructional Programs (CIP) 2016 for the population aged 15 years and over in private households - 25\\% sample data & 23183.1 & 610.0 & 2330.0 & 4.48573e6 &  & 0 & Float64 \\\\\n",
       "\t41 & Trades certificate or diploma other than Certificate of Apprenticeship or Certificate of Qualification & 839.1 & 0.0 & 120.0 & 200515.0 &  & 0 & Float64 \\\\\n",
       "\t42 & Unemployment rate & 8.48 & 1.4 & 7.4 & 43.7 &  & 0 & Float64 \\\\\n",
       "\t43 & University certificate or diploma above bachelor level & 324.721 & 0.0 & 15.0 & 81920.0 &  & 0 & Float64 \\\\\n",
       "\t44 & University certificate or diploma below bachelor level & 487.502 & 0.0 & 35.0 & 94740.0 &  & 0 & Float64 \\\\\n",
       "\t45 & University certificate, diploma or degree at bachelor level or above & 4858.27 & 0.0 & 230.0 & 1.26741e6 &  & 0 & Float64 \\\\\n",
       "\t46 & GEO\\_ID\\_CODE & 805.651 & 1 & 788.0 & 1576 &  & 0 & Int64 \\\\\n",
       "\t47 & GEO\\_UID &  & 2016S05100001 &  & 2016S05101576 & 1005 & 0 & String \\\\\n",
       "\t48 & PROV\\_TERR\\_ID\\_CODE & 35.4488 & 10 & 35.0 & 62 &  & 0 & Int64 \\\\\n",
       "\t49 & PROV\\_TERR\\_NAME\\_NOM &  & Alberta &  & Yukon & 17 & 0 & String \\\\\n",
       "\t50 & GEO\\_NAME\\_NOM &  & Abbotsford &  & Évain & 993 & 0 & String \\\\\n",
       "\t51 & GEO\\_TYPE &  &  &  &  &  & 1005 & Union\\{\\} \\\\\n",
       "\t52 & GEO\\_GNR\\_SF & 4.97244 & 1.2 & 4.5 & 38.6 &  & 0 & Float64 \\\\\n",
       "\t53 & GEO\\_GNR\\_LF & 6.31841 & 0.0 & 5.6 & 37.7 &  & 0 & Float64 \\\\\n",
       "\t54 & GEO\\_DQ & 59.9224 & 0 & 0.0 & 3333 &  & 0 & Int64 \\\\\n",
       "\t55 & lng & -87.4664 & -135.098 & -79.8811 & -52.8146 &  & 0 & Float64 \\\\\n",
       "\t56 & lat & 47.9987 & 41.9989 & 47.0119 & 69.1178 &  & 0 & Float64 \\\\\n",
       "\\end{tabular}\n"
      ],
      "text/plain": [
       "56×8 DataFrame\n",
       "│ Row │ variable             │ mean     │ min           │ median   │ max           │ nunique │ nmissing │ eltype  │\n",
       "│     │ \u001b[90mSymbol\u001b[39m               │ \u001b[90mUnion…\u001b[39m   │ \u001b[90mAny\u001b[39m           │ \u001b[90mUnion…\u001b[39m   │ \u001b[90mAny\u001b[39m           │ \u001b[90mUnion…\u001b[39m  │ \u001b[90mInt64\u001b[39m    │ \u001b[90mType\u001b[39m    │\n",
       "├─────┼──────────────────────┼──────────┼───────────────┼──────────┼───────────────┼─────────┼──────────┼─────────┤\n",
       "│ 1   │ GEO_CODE             │ 805.651  │ 1             │ 788.0    │ 1576          │         │ 0        │ Int64   │\n",
       "│ 2   │ GEO_NAME             │          │ Abbotsford    │          │ Évain         │ 993     │ 0        │ String  │\n",
       "│ 3   │ 0 to 14 years        │ 17.566   │ 4.1           │ 16.9     │ 41.3          │         │ 0        │ Float64 │\n",
       "│ 4   │ 15 to 29 minutes     │ 4403.29  │ 10.0          │ 315.0    │ 732785.0      │         │ 0        │ Float64 │\n",
       "│ 5   │ 15 to 64 years       │ 62.5046  │ 35.9          │ 62.7     │ 82.5          │         │ 0        │ Float64 │\n",
       "│ 6   │ 3 Health occupations │ 1027.47  │ 0.0           │ 105.0    │ 160610.0      │         │ 0        │ Float64 │\n",
       "│ 7   │ 30 to 44 minutes     │ 2714.22  │ 0.0           │ 170.0    │ 668925.0      │         │ 0        │ Float64 │\n",
       "│ 8   │ 45 to 59 minutes     │ 1171.81  │ 0.0           │ 70.0     │ 335205.0      │         │ 0        │ Float64 │\n",
       "│ 9   │ 60 minutes and over  │ 1251.07  │ 0.0           │ 80.0     │ 427450.0      │         │ 0        │ Float64 │\n",
       "│ 10  │ 65 years and over    │ 258.313  │ 0.0           │ 10.0     │ 70895.0       │         │ 0        │ Float64 │\n",
       "⋮\n",
       "│ 46  │ GEO_ID_CODE          │ 805.651  │ 1             │ 788.0    │ 1576          │         │ 0        │ Int64   │\n",
       "│ 47  │ GEO_UID              │          │ 2016S05100001 │          │ 2016S05101576 │ 1005    │ 0        │ String  │\n",
       "│ 48  │ PROV_TERR_ID_CODE    │ 35.4488  │ 10            │ 35.0     │ 62            │         │ 0        │ Int64   │\n",
       "│ 49  │ PROV_TERR_NAME_NOM   │          │ Alberta       │          │ Yukon         │ 17      │ 0        │ String  │\n",
       "│ 50  │ GEO_NAME_NOM         │          │ Abbotsford    │          │ Évain         │ 993     │ 0        │ String  │\n",
       "│ 51  │ GEO_TYPE             │          │               │          │               │         │ 1005     │ Union{} │\n",
       "│ 52  │ GEO_GNR_SF           │ 4.97244  │ 1.2           │ 4.5      │ 38.6          │         │ 0        │ Float64 │\n",
       "│ 53  │ GEO_GNR_LF           │ 6.31841  │ 0.0           │ 5.6      │ 37.7          │         │ 0        │ Float64 │\n",
       "│ 54  │ GEO_DQ               │ 59.9224  │ 0             │ 0.0      │ 3333          │         │ 0        │ Int64   │\n",
       "│ 55  │ lng                  │ -87.4664 │ -135.098      │ -79.8811 │ -52.8146      │         │ 0        │ Float64 │\n",
       "│ 56  │ lat                  │ 47.9987  │ 41.9989       │ 47.0119  │ 69.1178       │         │ 0        │ Float64 │"
      ]
     },
     "execution_count": 2,
     "metadata": {},
     "output_type": "execute_result"
    }
   ],
   "source": [
    "using DataFrames\n",
    "import CSV\n",
    "df = CSV.read(\"cleandata.csv\")\n",
    "describe(df)"
   ]
  },
  {
   "cell_type": "markdown",
   "metadata": {},
   "source": [
    "TO BE CONTINUED"
   ]
  }
 ],
 "metadata": {
  "kernelspec": {
   "display_name": "Julia 1.1.0",
   "language": "julia",
   "name": "julia-1.1"
  },
  "language_info": {
   "file_extension": ".jl",
   "mimetype": "application/julia",
   "name": "julia",
   "version": "1.1.0"
  }
 },
 "nbformat": 4,
 "nbformat_minor": 2
}
