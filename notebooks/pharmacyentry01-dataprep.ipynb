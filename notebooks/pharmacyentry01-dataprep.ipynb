{
 "cells": [
  {
   "cell_type": "markdown",
   "metadata": {},
   "source": [
    "---\n",
    "title       : \"Assignment: pharmacy entry\"\n",
    "subtitle    : \"Part I-III: data preparation\"\n",
    "author      : Paul Schrimpf\n",
    "date        : `j using Dates; print(Dates.today())`\n",
    "bibliography: \"entry.bib\"\n",
    "link-citations: true\n",
    "---\n",
    "\n",
    "<a rel=\"license\"\n",
    "href=\"http://creativecommons.org/licenses/by-sa/4.0/\"><img alt=\"Creative\n",
    "Commons License\" style=\"border-width:0\"\n",
    "src=\"https://i.creativecommons.org/l/by-sa/4.0/88x31.png\"\n",
    "/></a><br />This work is licensed under a <a rel=\"license\"\n",
    "href=\"http://creativecommons.org/licenses/by-sa/4.0/\">Creative\n",
    "Commons Attribution-ShareAlike 4.0 International License</a>.\n",
    "\n",
    "### About this document {-}\n",
    "\n",
    "This document was created using Weave.jl. The code is available in\n",
    "[on github](https://github.com/ECON567/PharmacyEntry). The same\n",
    "document generates both static webpages and associated jupyter\n",
    "notebooks. \n",
    "\n",
    "$$\n",
    "\\def\\indep{\\perp\\!\\!\\!\\perp}\n",
    "\\def\\Er{\\mathrm{E}}\n",
    "\\def\\R{\\mathbb{R}}\n",
    "\\def\\En{{\\mathbb{E}_n}}\n",
    "\\def\\Pr{\\mathrm{P}}\n",
    "\\newcommand{\\norm}[1]{\\left\\Vert {#1} \\right\\Vert}\n",
    "\\newcommand{\\abs}[1]{\\left\\vert {#1} \\right\\vert}\n",
    "\\DeclareMathOperator*{\\argmax}{arg\\,max}\n",
    "\\DeclareMathOperator*{\\argmin}{arg\\,min}\n",
    "\\def\\inprob{\\,{\\buildrel p \\over \\rightarrow}\\,} \n",
    "\\def\\indist{\\,{\\buildrel d \\over \\rightarrow}\\,} \n",
    "$$\n",
    "\n",
    "# Introduction\n",
    "\n",
    "This assignment will estimate a model of pharmacy entry inspired by\n",
    "@br1991. \n",
    "\n",
    "## Getting started \n",
    "\n",
    "[https://vse.syzygy.ca](https://vse.syzygy.ca) provides a convenient\n",
    "browser based interface to Julia. Open it and log in. This assignment\n",
    "is in a git repository at\n",
    "[https://github.com/UBCECON567/PharmacyEntry](https://github.com/UBCECON567/PharmacyEntry). Start\n",
    "by cloning the git repository to your syzygy directory. Open a\n",
    "terminal in syzygy (File -> New -> Terminal). This will open a Linux\n",
    "shell in your browser. To clone the git repository, enter \n",
    "\n",
    "`\n",
    "git clone https://github.com/UBCECON567/PharmacyEntry\n",
    "`\n",
    "\n",
    "This will create a directory called `PharmacyEntry` containing all the\n",
    "files related to this assignment. \n",
    "\n",
    "Clicking on the folder icon near the top left of the screen opens a\n",
    "file browser panel. Use it to open the `PharmacyEntry/notebooks`\n",
    "folder. You can complete this assignment by modifying the\n",
    "`pharmacyentry.ipynb` notebook. I recommend creating a copy of this\n",
    "notebook, and then working on the copy. You can create a copy by right\n",
    "clicking in the file browser panel. Now open your copy of the\n",
    "notebook.\n",
    "\n",
    "There might be some problem with previously installed julia packages\n",
    "and the upgrade to vse.syzygy.ca . If you can no longer run Julia\n",
    "notebooks, and are seeing \"No Kernel!\" in the top right of the screen,\n",
    "you can try removing your previously installed julia packages. Open a\n",
    "terminal and type \"rm -rf ~/.julia\". Afterward, you will have to\n",
    "re-add any packages you need.\n",
    "\n",
    "<!-- ## Optional: setup a local working environment -->\n",
    "\n",
    "<!-- If you are happy with working on vse.syzygy.ca, then you can skip this -->\n",
    "<!-- section. However, you might prefer to install Julia and related tools -->\n",
    "<!-- on your own computer.  -->\n",
    "\n",
    "# Part I: scraping pharmacy data\n",
    "\n",
    "As in the previous assignment, we begin by loading required packages."
   ]
  },
  {
   "cell_type": "code",
   "execution_count": 1,
   "metadata": {},
   "outputs": [
    {
     "name": "stdout",
     "output_type": "stream",
     "text": [
      "\u001b[32m\u001b[1m  Updating\u001b[22m\u001b[39m registry at `~/.julia/registries/General`\n",
      "\u001b[32m\u001b[1m  Updating\u001b[22m\u001b[39m git-repo `https://github.com/JuliaRegistries/General.git`\n",
      "\u001b[?25l\u001b[2K\u001b[?25h"
     ]
    },
    {
     "data": {
      "text/html": [
       "    <script class='js-collapse-script'>\n",
       "        var curMatch =\n",
       "            window.location.href\n",
       "            .match(/(.*?)\\/notebooks\\/.*\\.ipynb/);\n",
       "\n",
       "        curMatch = curMatch ||\n",
       "            window.location.href\n",
       "            .match(/(.*?)\\/apps\\/.*\\.ipynb/);\n",
       "\n",
       "        if ( curMatch ) {\n",
       "            $('head').append('<base href=\"' + curMatch[1] + '/\">');\n",
       "        }\n",
       "    </script>\n"
      ],
      "text/plain": [
       "HTML{String}(\"    <script class='js-collapse-script'>\\n        var curMatch =\\n            window.location.href\\n            .match(/(.*?)\\\\/notebooks\\\\/.*\\\\.ipynb/);\\n\\n        curMatch = curMatch ||\\n            window.location.href\\n            .match(/(.*?)\\\\/apps\\\\/.*\\\\.ipynb/);\\n\\n        if ( curMatch ) {\\n            \\$('head').append('<base href=\\\"' + curMatch[1] + '/\\\">');\\n        }\\n    </script>\\n\")"
      ]
     },
     "metadata": {},
     "output_type": "display_data"
    },
    {
     "data": {
      "text/html": [
       "<script class='js-collapse-script' src='/assetserver/2fdf54a55c85c93975004f0c2902566112dc6902-assets/webio/dist/bundle.js'></script>"
      ],
      "text/plain": [
       "HTML{String}(\"<script class='js-collapse-script' src='/assetserver/2fdf54a55c85c93975004f0c2902566112dc6902-assets/webio/dist/bundle.js'></script>\")"
      ]
     },
     "metadata": {},
     "output_type": "display_data"
    },
    {
     "data": {
      "text/html": [
       "<script class='js-collapse-script' src='/assetserver/2fdf54a55c85c93975004f0c2902566112dc6902-assets/providers/ijulia_setup.js'></script>"
      ],
      "text/plain": [
       "HTML{String}(\"<script class='js-collapse-script' src='/assetserver/2fdf54a55c85c93975004f0c2902566112dc6902-assets/providers/ijulia_setup.js'></script>\")"
      ]
     },
     "metadata": {},
     "output_type": "display_data"
    },
    {
     "data": {
      "text/html": [
       "  <script class='js-collapse-script'>\n",
       "    $('.js-collapse-script').parent('.output_subarea').css('padding', '0');\n",
       "  </script>\n"
      ],
      "text/plain": [
       "HTML{String}(\"  <script class='js-collapse-script'>\\n    \\$('.js-collapse-script').parent('.output_subarea').css('padding', '0');\\n  </script>\\n\")"
      ]
     },
     "metadata": {},
     "output_type": "display_data"
    }
   ],
   "source": [
    "using Pkg \n",
    "Pkg.activate(\"..\") \n",
    "Pkg.instantiate()\n",
    "\n",
    "using Revise\n",
    "if (!(\"../src\" ∈ LOAD_PATH))\n",
    "  push!(LOAD_PATH, \"../src\") \n",
    "end\n",
    "using PharmacyEntry"
   ]
  },
  {
   "cell_type": "markdown",
   "metadata": {},
   "source": [
    "Part of the appeal of entry models is that they can be estimated using\n",
    "readily available data. @br1991 used data on market demographic\n",
    "information and the number of firms within a category in each\n",
    "market. We can easily gather similar information. We will focus on\n",
    "pharmacies. We chose pharmacies because it was one of the industries\n",
    "included in @br1991, it fits with the theme of focusing on the\n",
    "industrial organization of health related industries, and a list of\n",
    "pharamacies in Canada is available. Pharmacies in Canada are\n",
    "provincially regulated. A list with the website of each provincial\n",
    "regulator can be found\n",
    "[here](https://www.pharmacists.ca/pharmacy-in-canada/directory-of-pharmacy-organizations/provincial-regulatory-authorities1/). \n",
    "\n",
    "Each provincial regulator provides a list of pharmacies with\n",
    "addresses. These can be downloaded and saved as DataFrames. Doing so\n",
    "is slightly tedious though because each provincial regulator's website\n",
    "is different, so different code will be needed to parse each. \n",
    "\n",
    "Let's look at community pharmacies in BC,\n",
    "[http://www.bcpharmacists.org/list-community-pharmacies](http://www.bcpharmacists.org/list-community-pharmacies). This\n",
    "list is already nicely formatted as a table. We could simply copy and\n",
    "paste its contents into a spreadsheet, save as cvs, and then load into\n",
    "Julia. That would be an okay method, but copying and pasting is\n",
    "slightly more error prone (or at least prone to undocumented and\n",
    "unreproducible errors) than writing code to parse the website. More\n",
    "importantly, other provinces have websites that are not so nicely\n",
    "formatted and will require code to parse. We will\n",
    "[HTTP.jl](https://github.com/JuliaWeb/HTTP.jl) to request webpages,\n",
    "[Cascadia.jl](https://github.com/Algocircle/Cascadia.jl) to select by\n",
    "CSS paths, and [regular\n",
    "expressions](https://docs.julialang.org/en/v1.0/manual/strings/#Regular-Expressions-1)\n",
    "to find patterns in text. Although our code will be in Julia, CSS\n",
    "selectors and regular expressions are common and useful tools for scraping\n",
    "webpages with any programming language. \n",
    "\n",
    "To scrape websites well, you need some understanding of html, CSS, and\n",
    "sometimes\n",
    "javascript. [https://www.w3schools.com/](https://www.w3schools.com/)\n",
    "is a pretty comprehensive reference. Here is a very short\n",
    "explanation. \n",
    "CSS stands for \"cascading style sheets.\" CSS is used to control the\n",
    "formatting of webpages. html documents consist of a bunch of tagged\n",
    "elements (headlines, links, tables, paragraphs, divs, etc) with optional\n",
    "class specifications. CSS contain information about how to display\n",
    "each combination of tag and class. The combination(s) of tags and\n",
    "classes to which a given display style (font, color, etc) applies is\n",
    "called a CSS selector. Each part of a webpage that looks different\n",
    "will have a different CSS selector. If we want to scrape some\n",
    "particular information off a webpage, CSS selectors are usually a good\n",
    "way to pick out the pieces we need. \n",
    "\n",
    "Returning to\n",
    "[http://www.bcpharmacists.org/list-community-pharmacies](http://www.bcpharmacists.org/list-community-pharmacies),\n",
    "we can see that the pharmacy names and addresses are in table rows\n",
    "with alternating background shades of gray. There will be CSS\n",
    "selectors to pick out these rows. Most web browsers include tools to\n",
    "create css selectors. In either Firefox or Chrome (Safari and Edge\n",
    "likely have similar behavior, but I have not checked), if you right click\n",
    "anywhere on a website, there is an \"Inspect Element\" option (you\n",
    "possibly need to enable developer tools in the web browser options\n",
    "first). This will open the developer toolbar. In the toolbar there\n",
    "will be a collapsible tree listing the nested html tags on the\n",
    "website. As you hover over different tags, the corresponding part of\n",
    "the website will be highlighted. If you right click a tag, there will\n",
    "be an option to copy the corresponding CSS selector. Doing this on\n",
    "[http://www.bcpharmacists.org/list-community-pharmacies](http://www.bcpharmacists.org/list-community-pharmacies),\n",
    "you will see that `tr.odd` and `tr.even` will select all rows from the\n",
    "table that we want. Here's some Julia code to select these rows."
   ]
  },
  {
   "cell_type": "code",
   "execution_count": 2,
   "metadata": {},
   "outputs": [
    {
     "data": {
      "text/plain": [
       "HTMLElement{:tr}:\n",
       "<tr class=\"odd\">\n",
       "  <td>\n",
       "    108 STOP PHARMACY\n",
       "  </td>\n",
       "  <td>\n",
       "    13444 108 Ave\n",
       "    Surrey, BC  V3T 2K1\n",
       "    CANADA\n",
       "  </td>\n",
       "  <td>\n",
       "    Moheb Michael\n",
       "  </td>\n",
       "  <td>\n",
       "    (604) 957-0711\n",
       "  </td>\n",
       "  <td>\n",
       "    (604) 953-1700\n",
       "  </td>\n",
       "</tr>\n"
      ]
     },
     "metadata": {},
     "output_type": "display_data"
    },
    {
     "data": {
      "text/plain": [
       "5-element Array{HTMLNode,1}:\n",
       " HTMLElement{:td}:\n",
       "<td>\n",
       "  108 STOP PHARMACY\n",
       "</td>\n",
       "                           \n",
       " HTMLElement{:td}:\n",
       "<td>\n",
       "  13444 108 Ave\n",
       "  Surrey, BC  V3T 2K1\n",
       "  CANADA\n",
       "</td>\n",
       "\n",
       " HTMLElement{:td}:\n",
       "<td>\n",
       "  Moheb Michael\n",
       "</td>\n",
       "                               \n",
       " HTMLElement{:td}:\n",
       "<td>\n",
       "  (604) 957-0711\n",
       "</td>\n",
       "                              \n",
       " HTMLElement{:td}:\n",
       "<td>\n",
       "  (604) 953-1700\n",
       "</td>\n",
       "                              "
      ]
     },
     "metadata": {},
     "output_type": "display_data"
    },
    {
     "name": "stdout",
     "output_type": "stream",
     "text": [
      "length(rows) = 1357\n",
      "typeof(rows) = Array{HTMLNode,1}\n",
      "typeof(rows[1]) = HTMLElement{:tr}\n"
     ]
    }
   ],
   "source": [
    "using HTTP, Gumbo, Cascadia\n",
    "\n",
    "# download website\n",
    "r =  HTTP.get(\"http://www.bcpharmacists.org/list-community-pharmacies\");  \n",
    "\n",
    "# parse website into tree using Gumbo.jl\n",
    "h = Gumbo.parsehtml(String(r.body));\n",
    "\n",
    "# select elements by CSS with Cascadia\n",
    "rows = eachmatch(Cascadia.Selector(\"tr.odd, tr.even\"), h.root);\n",
    "@show length(rows)\n",
    "@show typeof(rows)\n",
    "@show typeof(rows[1])\n",
    "display(rows[1])\n",
    "display(rows[1].children)"
   ]
  },
  {
   "cell_type": "markdown",
   "metadata": {},
   "source": [
    "As you saw from the developer tools in your browser, html documents\n",
    "can be organized into a tree structure of nested\n",
    "tags. [Gumbo.jl](https://github.com/JuliaWeb/Gumbo.jl) is a Julia\n",
    "package that stores html pages in exactly this sort of tree\n",
    "structure. From the output of the code, we can see that it\n",
    "successfully selected all 1000+ rows of the table of pharmacies. Each\n",
    "row is a HTMLElement as described in the documentation for\n",
    "[Gumbo.jl](https://github.com/JuliaWeb/Gumbo.jl). Each row has\n",
    "children corresponding to the 5 columns of the table. Now, we can\n",
    "extract the text from the 5 columns of each row and store it in a\n",
    "DataFrame."
   ]
  },
  {
   "cell_type": "code",
   "execution_count": 3,
   "metadata": {},
   "outputs": [
    {
     "data": {
      "text/html": [
       "<table class=\"data-frame\"><thead><tr><th></th><th>variable</th><th>mean</th><th>min</th><th>median</th><th>max</th><th>nunique</th><th>nmissing</th><th>eltype</th></tr><tr><th></th><th>Symbol</th><th>Nothing</th><th>String</th><th>Nothing</th><th>String</th><th>Int64</th><th>Nothing</th><th>DataType</th></tr></thead><tbody><p>5 rows × 8 columns</p><tr><th>1</th><td>name</td><td></td><td>108 STOP PHARMACY</td><td></td><td>YYOUNG MEDICINE MART MAIN</td><td>1357</td><td></td><td>String</td></tr><tr><th>2</th><td>address</td><td></td><td>#1 - 1499 Gordon Dr\\nKelowna, BC  V1Y 9R2\\nCANADA</td><td></td><td>Yaohan Centre\\n#2260 - 3700 No. 3 Road\\nRichmond, BC  V6X 3X2\\nCANADA</td><td>1357</td><td></td><td>String</td></tr><tr><th>3</th><td>manager</td><td></td><td> Arshad</td><td></td><td>Zohreh Khalili Samani</td><td>1355</td><td></td><td>String</td></tr><tr><th>4</th><td>phone</td><td></td><td>(236) 420-2882</td><td></td><td>604-931-0503</td><td>1356</td><td></td><td>String</td></tr><tr><th>5</th><td>fax</td><td></td><td>(236) 420-2881</td><td></td><td>604392-2212</td><td>1357</td><td></td><td>String</td></tr></tbody></table>"
      ],
      "text/latex": [
       "\\begin{tabular}{r|cccccccc}\n",
       "\t& variable & mean & min & median & max & nunique & nmissing & eltype\\\\\n",
       "\t\\hline\n",
       "\t1 & name &  & 108 STOP PHARMACY &  & YYOUNG MEDICINE MART MAIN & 1357 &  & String \\\\\n",
       "\t2 & address &  & \\#1 - 1499 Gordon Dr\\textbackslash{}nKelowna, BC  V1Y 9R2\\textbackslash{}nCANADA &  & Yaohan Centre\\textbackslash{}n\\#2260 - 3700 No. 3 Road\\textbackslash{}nRichmond, BC  V6X 3X2\\textbackslash{}nCANADA & 1357 &  & String \\\\\n",
       "\t3 & manager &  &  Arshad &  & Zohreh Khalili Samani & 1355 &  & String \\\\\n",
       "\t4 & phone &  & (236) 420-2882 &  & 604-931-0503 & 1356 &  & String \\\\\n",
       "\t5 & fax &  & (236) 420-2881 &  & 604392-2212 & 1357 &  & String \\\\\n",
       "\\end{tabular}\n"
      ],
      "text/plain": [
       "5×8 DataFrame. Omitted printing of 4 columns\n",
       "│ Row │ variable │ mean    │ min                                               │ median  │\n",
       "│     │ \u001b[90mSymbol\u001b[39m   │ \u001b[90mNothing\u001b[39m │ \u001b[90mString\u001b[39m                                            │ \u001b[90mNothing\u001b[39m │\n",
       "├─────┼──────────┼─────────┼───────────────────────────────────────────────────┼─────────┤\n",
       "│ 1   │ name     │         │ 108 STOP PHARMACY                                 │         │\n",
       "│ 2   │ address  │         │ #1 - 1499 Gordon Dr\\nKelowna, BC  V1Y 9R2\\nCANADA │         │\n",
       "│ 3   │ manager  │         │  Arshad                                           │         │\n",
       "│ 4   │ phone    │         │ (236) 420-2882                                    │         │\n",
       "│ 5   │ fax      │         │ (236) 420-2881                                    │         │"
      ]
     },
     "execution_count": 3,
     "metadata": {},
     "output_type": "execute_result"
    }
   ],
   "source": [
    "using DataFrames\n",
    "function parserow(row)\n",
    "  fields = nodeText.(row.children)\n",
    "  fields = reshape(fields, (1, length(fields)))\n",
    "end\n",
    "txt = vcat(parserow.(rows)...)\n",
    "bc = DataFrame(txt, [:name, :address, :manager, :phone, :fax])\n",
    "describe(bc)"
   ]
  },
  {
   "cell_type": "markdown",
   "metadata": {},
   "source": [
    "Later we are going to assign these pharmacies into isolated local\n",
    "markets and match them with census data. We will do so based on\n",
    "addresses. For this, it will be useful to parse the addresses into a\n",
    "consistent format. We will divide the address field into street, city,\n",
    "zip, and province. The dominant tool for matching, splitting, and\n",
    "substiting text based on patterns are [regular\n",
    "expressions](https://en.wikipedia.org/wiki/Regular_expression). Regular\n",
    "expressions are nearly as old as computers themselves, and they remain\n",
    "an important and powerfull tool for text processing. \n",
    "\n",
    "### Problem 1: familiarize yourself with regular expressions\n",
    "\n",
    "[This interactive tutorial](https://regexone.com/) is a good way to\n",
    "learn the basics of regular expressions. Work through it. There is\n",
    "nothing to turn in for this part, but there is a small task below.\n",
    "\n",
    "Here is some Julia code using regular expressions to split addresses\n",
    "into their parts. See [Julia's\n",
    "documentation](https://docs.julialang.org/en/v1.0/manual/strings/#Regular-Expressions-1)\n",
    "for more information."
   ]
  },
  {
   "cell_type": "code",
   "execution_count": 4,
   "metadata": {},
   "outputs": [
    {
     "data": {
      "text/html": [
       "<table class=\"data-frame\"><thead><tr><th></th><th>variable</th><th>mean</th><th>min</th><th>median</th><th>max</th><th>nunique</th><th>nmissing</th><th>eltype</th></tr><tr><th></th><th>Symbol</th><th>Nothing</th><th>String</th><th>Nothing</th><th>String</th><th>Int64</th><th>Nothing</th><th>DataType</th></tr></thead><tbody><p>10 rows × 8 columns</p><tr><th>1</th><td>name</td><td></td><td>108 STOP PHARMACY</td><td></td><td>YYOUNG MEDICINE MART MAIN</td><td>1357</td><td></td><td>String</td></tr><tr><th>2</th><td>address</td><td></td><td>#1 - 1499 Gordon Dr\\nKelowna, BC  V1Y 9R2\\nCANADA</td><td></td><td>Yaohan Centre\\n#2260 - 3700 No. 3 Road\\nRichmond, BC  V6X 3X2\\nCANADA</td><td>1357</td><td></td><td>String</td></tr><tr><th>3</th><td>manager</td><td></td><td> Arshad</td><td></td><td>Zohreh Khalili Samani</td><td>1355</td><td></td><td>String</td></tr><tr><th>4</th><td>phone</td><td></td><td>(236) 420-2882</td><td></td><td>604-931-0503</td><td>1356</td><td></td><td>String</td></tr><tr><th>5</th><td>fax</td><td></td><td>(236) 420-2881</td><td></td><td>604392-2212</td><td>1357</td><td></td><td>String</td></tr><tr><th>6</th><td>street</td><td></td><td>#1 - 1499 Gordon Dr</td><td></td><td>Yaohan Centre\\n#2260 - 3700 No. 3 Road</td><td>1357</td><td></td><td>String</td></tr><tr><th>7</th><td>city</td><td></td><td>#1173 - 88 Pender St W\\nVancouver, BC  V6B 6N9</td><td></td><td>Winfield</td><td>138</td><td></td><td>String</td></tr><tr><th>8</th><td>zip</td><td></td><td>V0A 0A0</td><td></td><td>V9Z 1H8</td><td>1203</td><td></td><td>String</td></tr><tr><th>9</th><td>zipalt</td><td></td><td>101- 45863 Yale Rd\\nChilliwack, BC  V2P2N6\\nCANADA</td><td></td><td>V9Z 1H8</td><td>1203</td><td></td><td>String</td></tr><tr><th>10</th><td>province</td><td></td><td>BC</td><td></td><td>BC</td><td>1</td><td></td><td>String</td></tr></tbody></table>"
      ],
      "text/latex": [
       "\\begin{tabular}{r|cccccccc}\n",
       "\t& variable & mean & min & median & max & nunique & nmissing & eltype\\\\\n",
       "\t\\hline\n",
       "\t1 & name &  & 108 STOP PHARMACY &  & YYOUNG MEDICINE MART MAIN & 1357 &  & String \\\\\n",
       "\t2 & address &  & \\#1 - 1499 Gordon Dr\\textbackslash{}nKelowna, BC  V1Y 9R2\\textbackslash{}nCANADA &  & Yaohan Centre\\textbackslash{}n\\#2260 - 3700 No. 3 Road\\textbackslash{}nRichmond, BC  V6X 3X2\\textbackslash{}nCANADA & 1357 &  & String \\\\\n",
       "\t3 & manager &  &  Arshad &  & Zohreh Khalili Samani & 1355 &  & String \\\\\n",
       "\t4 & phone &  & (236) 420-2882 &  & 604-931-0503 & 1356 &  & String \\\\\n",
       "\t5 & fax &  & (236) 420-2881 &  & 604392-2212 & 1357 &  & String \\\\\n",
       "\t6 & street &  & \\#1 - 1499 Gordon Dr &  & Yaohan Centre\\textbackslash{}n\\#2260 - 3700 No. 3 Road & 1357 &  & String \\\\\n",
       "\t7 & city &  & \\#1173 - 88 Pender St W\\textbackslash{}nVancouver, BC  V6B 6N9 &  & Winfield & 138 &  & String \\\\\n",
       "\t8 & zip &  & V0A 0A0 &  & V9Z 1H8 & 1203 &  & String \\\\\n",
       "\t9 & zipalt &  & 101- 45863 Yale Rd\\textbackslash{}nChilliwack, BC  V2P2N6\\textbackslash{}nCANADA &  & V9Z 1H8 & 1203 &  & String \\\\\n",
       "\t10 & province &  & BC &  & BC & 1 &  & String \\\\\n",
       "\\end{tabular}\n"
      ],
      "text/plain": [
       "10×8 DataFrame. Omitted printing of 4 columns\n",
       "│ Row │ variable │ mean    │ min                                                │ median  │\n",
       "│     │ \u001b[90mSymbol\u001b[39m   │ \u001b[90mNothing\u001b[39m │ \u001b[90mString\u001b[39m                                             │ \u001b[90mNothing\u001b[39m │\n",
       "├─────┼──────────┼─────────┼────────────────────────────────────────────────────┼─────────┤\n",
       "│ 1   │ name     │         │ 108 STOP PHARMACY                                  │         │\n",
       "│ 2   │ address  │         │ #1 - 1499 Gordon Dr\\nKelowna, BC  V1Y 9R2\\nCANADA  │         │\n",
       "│ 3   │ manager  │         │  Arshad                                            │         │\n",
       "│ 4   │ phone    │         │ (236) 420-2882                                     │         │\n",
       "│ 5   │ fax      │         │ (236) 420-2881                                     │         │\n",
       "│ 6   │ street   │         │ #1 - 1499 Gordon Dr                                │         │\n",
       "│ 7   │ city     │         │ #1173 - 88 Pender St W\\nVancouver, BC  V6B 6N9     │         │\n",
       "│ 8   │ zip      │         │ V0A 0A0                                            │         │\n",
       "│ 9   │ zipalt   │         │ 101- 45863 Yale Rd\\nChilliwack, BC  V2P2N6\\nCANADA │         │\n",
       "│ 10  │ province │         │ BC                                                 │         │"
      ]
     },
     "execution_count": 4,
     "metadata": {},
     "output_type": "execute_result"
    }
   ],
   "source": [
    "bc[:street] = (a->replace(a, r\"(.+)\\n.+, BC.+\\n.+\"s => s\"\\1\")).(bc[:address])\n",
    "bc[:city]   = (a->replace(a, r\".+\\n(.+), BC.+\\n.+\"s => s\"\\1\")).(bc[:address])\n",
    "bc[:zip]  =     (a->replace(a,r\".+(\\p{L}\\d\\p{L}).?(\\d\\p{L}\\d).*\"s => s\"\\1 \\2\")).(bc[:address])\n",
    "bc[:zipalt]    = (a->replace(a, r\".+(\\p{L}\\d\\p{L} \\d\\p{L}\\d).*\"s => s\"\\1\")).(bc[:address])\n",
    "bc[:province] = \"BC\" \n",
    "describe(bc)"
   ]
  },
  {
   "cell_type": "markdown",
   "metadata": {},
   "source": [
    "Compare :zip and :zipalt in the code above? What is the difference\n",
    "between the regular expressions used? Give an example of a pattern\n",
    "that one matches, but not the other. What is the problem with :zipalt?\n",
    "\n",
    "### Problem 2: parse an additional province\n",
    "\n",
    "The function `loadpharmacydata` in `PharmacyEntry/src/pharmacies.jl`\n",
    "downloads and parses the lists of pharmacies in BC and Manitoba. Add\n",
    "code to download data from at least one additional province. Note that\n",
    "the function `loadBCdata` and `loadMBdata` are not exported from the\n",
    "`PharmacyEntry.jl` module. To call non-exported functions from outside\n",
    "the module you must preface with the module name,\n",
    "e.g. `bc = PharmacyEntry.loadBCdata(true)`. Either include your\n",
    "modified version of pharmacies.jl with what you turn in, or include\n",
    "the new function definitions in this notebook. \n",
    "\n",
    "# Part II: downloading census data\n",
    "\n",
    "### Problem 3: market definition \n",
    "\n",
    "We will download information on area demographic and economic\n",
    "conditions from Statistics Canada. An important choice in entry models\n",
    "is deciding what geographic area should define a market. See\n",
    "e.g. @br1991 or @ellickson2007. \n",
    "Statistics\n",
    "Canada provides data at various [geographic\n",
    "levels](https://www12.statcan.gc.ca/census-recensement/2016/dp-pd/prof/about-apropos/about-apropos.cfm?Lang=E). \n",
    "I somewhat arbitrarily chose to download data at the population centre\n",
    "level. Criticise or defend this choice. Optionally, modify `census.jl`\n",
    "to download census data at a different geographic level (the changes\n",
    "might be somewhat extensive).\n",
    "\n",
    "### Problem 4: choose census variables to extract\n",
    "\n",
    "The census data contains a lot of information. For example, all the\n",
    "information for the [Vancouver population centre is\n",
    "here](https://www12.statcan.gc.ca/census-recensement/2016/dp-pd/prof/details/page.cfm?Lang=E&Geo1=POPC&Code1=0973&Geo2=PR&Code2=59&Data=Count&SearchText=Vancouver&SearchType=Begins&SearchPR=01&B1=All). The\n",
    "documentation for the variables from StatCan is included in the\n",
    "assignment git repo as,\n",
    "[https://github.com/ECON567/PharmacyEntry/data/98-401-X2016048_English_meta.txt](https://github.com/ECON567/PharmacyEntry/data/98-401-X2016048_English_meta.txt). The\n",
    "`const vars` defined at the start of `PharmacyEntry/src/census.jl` is\n",
    "a list of variables from the census data to extract for future\n",
    "use. Briefly review these and add or delete variables as you see\n",
    "fit. We want variables that are related to either the revenues or\n",
    "costs of pharmacies. It is probably better to err on the side of\n",
    "including too much instead of too little because you can always choose\n",
    "to ignore some variables later. \n",
    "\n",
    "# Part III: geocoding\n",
    "\n",
    "We must now link pharmacies and population centres together based on\n",
    "location. Statistics Canada provides shapefiles giving the boundaries\n",
    "of population centres. The `loadcensusdata` function in `census.jl`\n",
    "records the latitude and longitude of the geographic center of each\n",
    "population centre. For pharmacies we have have their addresses. There\n",
    "are number of online service that geocode addresses into latitude and\n",
    "longitude. I looked at a few of them and settled on using\n",
    "[https://www.geocod.io/](https://www.geocod.io/) for this project. The\n",
    "main reasons I chose this service are that its terms of service allow\n",
    "using and storing data generated from it in any way, and a free\n",
    "account allows enough lookups to complete this project. The function\n",
    "`geocode!` in `geo.jl` uses geocod.io to geocode the pharmacy\n",
    "addresses. If you want to run it (e.g. because you scraped pharmacies\n",
    "from additional provinces), you will need to get a free API key by\n",
    "signing up with [https://www.geocod.io/](https://www.geocod.io/). Save\n",
    "the key in a text file named `geocodio.key` and place it in\n",
    "`PharmacyEntry/src/`. Let me know if you have any problems or the free\n",
    "key is insufficient. \n",
    "\n",
    "Geocoding is imperfect due to typos and\n",
    "errors in the address data, and possibly missing information in\n",
    "geocod.io's map data. The function `checklatlng!` partially checks for\n",
    "errors by comparing the latitude and longitude from geocod.io with the\n",
    "boundaries of forward sortation areas (first 3 characters of zip\n",
    "codes). The `plotmap` function plots population centres and\n",
    "pharmacies. Pharmacies for which the latitude and longitude is not in\n",
    "the boundaries of the forward sortation area of its zip code are\n",
    "red. The others are green. For red pharmacies, the line goes from the\n",
    "pharmacy to the latitude and longitude at the center of its FSA. You\n",
    "can clearly see some pharmacies are misplaced, but other red ones\n",
    "might be okay."
   ]
  },
  {
   "cell_type": "code",
   "execution_count": 5,
   "metadata": {},
   "outputs": [
    {
     "name": "stdout",
     "output_type": "stream",
     "text": [
      "reading pharmacy data from /home/paul/565/assignments/PharmacyEntry/data/pharmacies.csv\n"
     ]
    },
    {
     "name": "stderr",
     "output_type": "stream",
     "text": [
      "┌ Info: reading cleaned census data from /home/paul/565/assignments/PharmacyEntry/data/popcentres.csv\n",
      "└ @ PharmacyEntry /home/paul/565/assignments/PharmacyEntry/src/census.jl:147\n"
     ]
    },
    {
     "name": "stdout",
     "output_type": "stream",
     "text": [
      "mean(pharm[:zipmatch]) = 0.6256921373200443\n"
     ]
    },
    {
     "data": {
      "text/plain": [
       "0.6256921373200443"
      ]
     },
     "execution_count": 5,
     "metadata": {},
     "output_type": "execute_result"
    }
   ],
   "source": [
    "using Statistics\n",
    "pharm = loadpharmacydata()\n",
    "census= loadcensusdata()\n",
    "\n",
    "checklatlng!(pharm, :lat, :lng, :zip)\n",
    "@show mean(pharm[:zipmatch])"
   ]
  },
  {
   "cell_type": "code",
   "execution_count": 6,
   "metadata": {},
   "outputs": [
    {
     "name": "stdout",
     "output_type": "stream",
     "text": [
      "Array{PlotlyBase.GenericTrace{Dict{Symbol,Any}},1}\n",
      "679\n"
     ]
    },
    {
     "data": {
      "application/vnd.plotly.v1+json": {
       "data": [
        {
         "hoverinfo": "text",
         "lat": [
          43.6307126272872,
          45.6472539800036,
          51.2759404697719,
          46.0632786609302,
          45.3074465981972,
          45.5609962941708,
          44.1569119766428,
          48.5421689621295,
          45.225741947749,
          49.1015086018737,
          45.8232942829019,
          42.1192022323195,
          48.5756876474053,
          48.4666205269866,
          44.3074706792672,
          45.6232033002459,
          50.4448513100121,
          45.4353078949787,
          43.8356390194775,
          45.7746743840892,
          50.7290878674206,
          49.6280013606124,
          48.7588045555516,
          42.7747461846112,
          43.2873287839215,
          49.2168645364746,
          47.4419953205122,
          51.0567851120185,
          51.1764475504551,
          48.4371177103948,
          54.1219797869169,
          44.3737228962905,
          45.4877122406126,
          47.6760671630856,
          47.6024053298474,
          46.212201406994,
          47.0348141763969,
          50.0592408102245,
          55.2122322587736,
          44.4343443580778,
          46.4008228650368,
          45.1214163632729,
          44.0839094299034,
          44.1550836444093,
          45.5605477544775,
          46.0820407839496,
          45.0429646775532,
          52.058254706871,
          49.0104449329997,
          49.6074874408229,
          42.3363834203681,
          46.1895172510199,
          44.5395585720123,
          49.2304977168013,
          45.9580846216342,
          43.8710453772643,
          48.0496132837575,
          48.6532997194351,
          54.2653600808272,
          49.1434817480063,
          49.8688976520958,
          43.9142156262439,
          45.048320099868,
          44.1118807677912,
          49.8436836061515,
          43.1504075849418,
          44.3739131948092,
          44.3822635249335,
          44.0346058828735,
          44.6034915893612,
          50.5682927718648,
          46.4721032167604,
          47.6147772058643,
          54.2339006543337,
          47.6947370928673,
          43.0676969249525,
          51.0350108897204,
          49.9959335516974,
          44.3035702183206,
          47.9961546017104,
          53.011907912332,
          51.09113278598,
          44.3515900561804,
          51.6294536806665,
          47.3785849033881,
          49.0927110411027,
          46.7076683420671,
          47.7898644206105,
          49.8707745486475,
          47.7153330446543,
          44.7923811706748,
          49.1961522598222,
          45.1314869699197,
          49.6290599600509,
          49.504826401631,
          49.1755691260888,
          45.3131210846234,
          49.2951005573657,
          48.3541305175628,
          42.9489002653555,
          48.3499544820695,
          47.5797621634846,
          49.7816373211128,
          47.8424066693336,
          46.2509967705237,
          50.8222044560169,
          46.968707436474,
          42.4017200635942,
          48.9258041995004,
          44.3011810060689,
          44.5455207981841,
          45.1020173092627,
          49.918142181074,
          48.4207917860439,
          49.1460917197094,
          49.125202386811,
          48.1700209388718,
          50.0249187696968,
          47.6939986713165,
          43.6165339928835,
          49.7227266241911,
          45.1312552832823,
          43.9681872925934,
          51.1866831608965,
          49.0664236585241,
          44.0049385475303,
          44.4975140545778,
          45.8535765894955,
          45.4121610465856,
          48.9471240842948,
          45.0332727238778,
          49.6921445922716,
          45.2104483247502,
          45.9689424667145,
          49.512072796171,
          49.0988649539354,
          49.6242032226609,
          48.0627505530242,
          51.1507135645493,
          55.7574483752814,
          46.1094005151145,
          49.1777443701423,
          47.5496598775061,
          42.8496033753128,
          44.1947467972453,
          53.3526512640247,
          51.6596233638179,
          44.6243564724281,
          45.9031256151652,
          48.8777072156428,
          46.6751649618317,
          53.2206393411894,
          42.5899672000488,
          51.4619291575108,
          45.8695052024723,
          49.7725209644104,
          48.7869092436061,
          44.1694042220757,
          42.9076067886583,
          44.1761090036795,
          45.4843158807107,
          46.2218451818488,
          53.5296840154837,
          47.3814869532794,
          53.5892316790799,
          45.5407657239336,
          46.3790126403565,
          43.5924061285732,
          44.582460391742,
          45.2737699474172,
          50.5550093665225,
          47.8251621092025,
          43.7715034592972,
          48.3446005906413,
          46.2567159680447,
          42.1708689472302,
          50.6547281369909,
          49.1434288612731,
          43.3524431581736,
          56.0696135532154,
          45.2831925923403,
          44.5390403049286,
          43.6987592262042,
          46.7008998018164,
          49.4996400244468,
          54.7601311739898,
          51.6427921256955,
          43.0951654205877,
          48.7378250959851,
          48.6091324255625,
          49.7217833070393,
          56.7327496760463,
          58.8106063700238,
          50.7666260762271,
          54.4381459819839,
          56.2453092121112,
          45.8495960854769,
          47.072236937441,
          54.4038687643012,
          46.6076361398366,
          44.1997956038737,
          45.946894905969,
          63.7487692221962,
          44.3338142278484,
          48.9532632354097,
          43.6469540066282,
          49.717031879918,
          49.4046207367019,
          50.6321905083069,
          46.1958029137089,
          42.7470979939001,
          43.7370475586076,
          51.2997482301158,
          45.3984032753416,
          47.0973383929782,
          54.4140527732412,
          47.050468306756,
          48.943387716933,
          49.02887999788,
          53.8836165230507,
          55.1697521308258,
          48.4033213567839,
          44.9236624403822,
          56.1864843026318,
          43.5394474879632,
          42.9589636156207,
          47.4394194925115,
          44.7063284410488,
          43.2604489225654,
          45.5278526124902,
          51.6433714343826,
          44.1567790383757,
          45.068692084342,
          53.3059992217327,
          43.91340224099,
          42.0375343947224,
          44.4347365948049,
          50.2453513311539,
          45.6271785971594,
          60.8101438109574,
          49.6870827585081,
          48.4724004320991,
          58.514756127352,
          55.4354369500403,
          50.5799673644772,
          53.4025330316387,
          49.3758234236263,
          45.4194533242242,
          52.8557980371972,
          52.2001352922636,
          45.0866486822478,
          45.3286696547916,
          50.5353220899972,
          43.035604073719,
          52.0228947161267,
          68.3601484496149,
          50.5036126000936,
          46.2287888318462,
          44.848095801366,
          48.7626245228229,
          47.9935673754096,
          46.0333325032094,
          50.6879912768024,
          51.5630657012771,
          45.2970327091806,
          49.418860150356,
          49.8648129094059,
          45.0156901075387,
          49.7702546827962,
          46.4352273681285,
          45.0753292919755,
          49.1805943589222,
          49.6803263720115,
          44.1696232376437,
          51.4685145165926,
          44.2454056114158,
          44.9790616243538,
          48.1506392956696,
          43.4297285434764,
          54.0572445796509,
          45.8363362316488,
          45.8490328903913,
          45.62587709667,
          47.6489586544642,
          47.3707633333579,
          48.8025423614629,
          47.4178744270417,
          46.2761058806674,
          52.9227108189735,
          54.7686879522211,
          46.3960185514305,
          45.5822590460036,
          45.6455653425733,
          45.0810564351959,
          52.471489014997,
          48.974789222743,
          48.8256773124191,
          44.4256384050393,
          51.8466465489238,
          45.824766766098,
          45.8832783350057,
          42.0404536740016,
          49.0587845539851,
          53.2963185597011,
          49.6841327296026,
          49.2401791876873,
          50.6945881687895,
          44.3572397014795,
          46.0607216412679,
          43.7291476354866,
          45.9796876660493,
          44.0378278205926,
          53.2696701268063,
          42.9798030195965,
          49.7773086154829,
          46.255607070456,
          43.189295837358,
          48.5252236739375,
          43.9603526135917,
          44.3797566953915,
          48.7640779367169,
          55.3355654954467,
          44.5053405306599,
          45.2734951171184,
          49.4153230067743,
          48.1400054714004,
          49.1257606189017,
          46.3818139726699,
          56.9226318745766,
          49.9044101304551,
          48.7116040388967,
          45.4324892951502,
          44.3168963141702,
          44.482909183521,
          47.1610159715831,
          49.7591780107655,
          48.8402404470267,
          46.3126557471483,
          53.9517544553723,
          54.1264370791402,
          44.6050863295654,
          50.0264490882496,
          52.861498453804,
          50.931797129494,
          50.1095352187677,
          44.9492876401221,
          44.7568167090221,
          43.5119049441956,
          43.5660676901203,
          50.2482922514447,
          43.4703094666138,
          46.0898422571905,
          48.595990215084,
          46.5506287174448,
          46.167109656759,
          46.9799463282183,
          45.5465702190074,
          50.3987254759476,
          50.1420869511006,
          49.1949092173416,
          53.7982067498697,
          49.3523761688162,
          44.8967997224044,
          42.906267980639,
          43.9819145445578,
          48.3908094849497,
          46.0025148444845,
          47.6139606762327,
          50.242042555396,
          49.1994806607458,
          44.248759653281,
          45.1888248266796,
          50.2299740742799,
          49.4929772551292,
          45.577360156641,
          43.3885488789208,
          48.1719873916415,
          46.239473416712,
          46.2341283639782,
          53.3608020511317,
          48.8364064577468,
          52.7815459464556,
          46.2826014879894,
          42.9887688306669,
          44.3810307700231,
          50.7259975197518,
          51.7963779074527,
          49.1844998877823,
          43.9182681442608,
          44.6087172072648,
          45.1242016983696,
          45.8427812286143,
          43.9812707125344,
          43.9042006994681,
          49.0365243305577,
          45.4657373134496,
          51.4868372057003,
          44.5714686401894,
          49.2325226865047,
          43.8323679476466,
          45.617018770825,
          43.193948179462,
          43.1624641792225,
          49.3372455934817,
          45.3472955924175,
          56.2491157232554,
          45.8214444223331,
          49.4829698181669,
          44.9011516647442,
          44.3052985302243,
          42.8773287477251,
          44.0068039106273,
          45.6818825224878,
          49.8735585951119,
          46.0712263668773,
          50.1492571262939,
          49.4880645373838,
          46.220429610833,
          52.6798256683729,
          46.7531574264254,
          49.2595021667066,
          42.7905832266941,
          44.4379056243732,
          45.6182092613179,
          43.9561647129534,
          44.111340846036,
          42.6681755644312,
          50.025729049209,
          49.9705445314721,
          46.6987090922793,
          46.0820841205762,
          49.8544162112758,
          44.7156978953071,
          48.5993753482814,
          53.1948552759466,
          53.9154426785258,
          54.3132593689419,
          49.4581078522505,
          46.1633565792066,
          52.3550561869172,
          46.8169404600771,
          52.9788064031582,
          46.0497052476042,
          49.4627205144313,
          52.2710007973731,
          53.9522780346896,
          50.4532843659868,
          45.4735661916647,
          50.9921560634305,
          45.1949291825047,
          45.6615339957942,
          42.4377670010387,
          45.4768749111746,
          52.6444618417585,
          48.4472097294189,
          50.032727264388,
          47.8246915518167,
          48.5181542890603,
          51.2304500307438,
          45.5453047196713,
          52.3763685916976,
          51.5572199220487,
          52.6621351698166,
          48.252201109189,
          45.5734457761465,
          50.7798135534002,
          45.8967757451285,
          45.2895613464906,
          46.0277077510762,
          50.7032433265655,
          42.992192379348,
          52.1348717065959,
          46.5273458247822,
          43.5518366028118,
          50.1367429198844,
          48.3871111003799,
          50.2288083135505,
          49.6498635274079,
          46.5708176072961,
          45.6053900127267,
          46.2203191183752,
          43.7648659439014,
          44.080962239004,
          53.2222843572634,
          45.3897989144027,
          49.8055696753096,
          47.7432852185038,
          42.8392803197574,
          50.1085459622643,
          55.2843214163594,
          54.7972271577761,
          44.8975740747725,
          43.0988632004089,
          46.0205878388879,
          49.6188755116515,
          49.7510570945105,
          49.5008078384117,
          45.6438993283372,
          53.5571501935176,
          49.7325214583811,
          45.0787305883164,
          51.3701206073137,
          43.1363081049521,
          47.5509896873376,
          43.2597417146958,
          53.9899503073525,
          47.5097551315907,
          45.1900367657623,
          42.776167858407,
          46.5626861001895,
          46.46407320876,
          48.5575881529198,
          45.7231400694776,
          46.6297366466755,
          46.7563056737082,
          45.4120978195042,
          45.5234828886495,
          46.6232138596358,
          46.3215392873419,
          48.2930698079535,
          48.6521866641466,
          46.1637482245018,
          46.2959790011071,
          45.8547265562379,
          46.1200309320396,
          45.8403983255665,
          46.6961183784275,
          48.5353741279746,
          45.6285957999414,
          45.9461884106015,
          45.3160351592766,
          47.2134769409864,
          48.4384959395851,
          45.7758473564144,
          46.305431504463,
          45.9652350636588,
          46.1258674180617,
          46.6844811723183,
          46.6764720225348,
          47.5285490163919,
          45.5076076712251,
          46.213339319356,
          46.7940149717548,
          46.8904690651325,
          45.2644851501748,
          45.8919490112324,
          46.7280980935061,
          44.418906571059,
          49.6682963715014,
          45.9467463732371,
          49.124249055775,
          46.6011059311768,
          46.6221639199495,
          45.5874021493665,
          46.4535063058989,
          45.2548556848521,
          46.8140550679451,
          49.5234457740317,
          48.5545272697082,
          52.320469492629,
          44.2937619018541,
          50.1357499983991,
          50.0900156103452,
          43.3671335644413,
          51.0521297949747,
          42.9609795416345,
          46.366826611418,
          46.4965501028477,
          46.4071780513393,
          45.7216667727165,
          44.374459542455,
          54.7176083432508,
          52.1127705733411,
          50.291735671684,
          46.1274416815679,
          46.2388848515351,
          52.3050648366521,
          49.796060019897,
          43.3206167903824,
          46.7201599537282,
          54.5174179450733,
          43.0545202707891,
          53.8129475576853,
          46.2571783235925,
          46.102600573381,
          55.7418894876401,
          44.5558106509181,
          51.7036321980504,
          48.4123565915883,
          45.5982154263119,
          42.2599226867559,
          42.8638738632948,
          52.8528415660766,
          43.7380964885911,
          44.0250184788448,
          47.5166168233345,
          48.126594770994,
          46.3633831795973,
          45.3660633356345,
          44.4776967004313,
          48.9344596996412,
          52.4465345273988,
          44.1083704234884,
          48.1267750930221,
          45.4971627320375,
          46.3748484145958,
          46.6364161061653,
          45.26530266441,
          55.0693415888911,
          49.2072228092815,
          54.0175965451965,
          45.5186536334713,
          45.6740795215751,
          53.4944556456909,
          45.7703791983032,
          53.3559561625989,
          50.2541779949861,
          48.5079108623541,
          46.0533456330715,
          53.0977953876715,
          47.3317727039219,
          49.8496694598147,
          50.3998561588317,
          47.6398046343056,
          51.948937699931,
          52.8381831665261,
          44.1249346130947,
          42.5930193923681,
          45.9449367928808,
          42.9303774195562,
          45.3470906151863,
          42.9499815749944,
          51.6770918967962,
          42.6021518427907,
          54.1566431197391,
          52.9711506074519,
          49.6680200575006,
          42.0909760817687,
          43.9695673688332,
          49.0446753583437,
          54.1360692858144,
          60.7390465402532,
          44.7418800494524,
          52.4054910028061,
          52.1253960537055,
          45.0900275279561,
          44.9856606637239,
          42.2857797882472,
          45.5714857070451,
          43.8878550608854,
          49.1824673690486,
          49.8860463105785,
          45.0894512207197,
          46.1544944696221,
          43.1319907826361,
          51.767936880082,
          42.9452661307815,
          46.2804129096843,
          43.844210043924,
          62.4571898981427,
          51.211175515504,
          51.6384346654592,
          49.0491718666375,
          45.5752142532966,
          52.7933554041627,
          42.9039466107288,
          42.8814775896147,
          48.8345568622315,
          48.9957553793841,
          44.232820374748,
          43.9110192007404,
          48.3300246032306,
          43.1665489657796,
          43.2483737843685,
          46.5897839872236,
          45.9006145397169,
          50.7228445870187,
          48.3793035019506,
          48.4818028541834,
          48.4821570212571,
          46.426074255079,
          47.0188073970145,
          49.5943098438057,
          46.2297243046687,
          46.2021829968671,
          45.2637851674069,
          44.3045137719973,
          43.8986081322879,
          44.3277764293226,
          49.6005404873807,
          52.3260375120822,
          50.3435655361489,
          50.6831316020147,
          51.5537216967264,
          53.8147139178564,
          50.0084807339705,
          50.4904402612394,
          46.2278462516947,
          41.9989263627232,
          45.9311000873443,
          42.8864513025478,
          50.6456708877614,
          46.4097326143397,
          47.1699927703889,
          51.8026423375219,
          53.3720008228044,
          42.6661960314524,
          49.1907412384931,
          52.3877605474507,
          52.8780110000225,
          50.2510302080727,
          44.4981961994359,
          45.3410279014126,
          45.7636535285432,
          45.956965180152,
          45.7844741224687,
          55.0923277208263,
          50.5848263759665,
          55.1493660500554,
          52.1353154969788,
          53.7654915232638,
          53.902083307676,
          53.087545025511,
          53.3523694127531,
          49.0136024417216,
          45.6754299179621,
          43.6145856599037,
          50.4825183426647,
          52.3429871662799,
          52.2889805008609,
          53.8392103088978,
          51.4344382518894,
          49.4626392191933,
          49.0584065259936,
          50.8232641243614,
          54.3940496587888,
          50.6587963778481,
          50.2528797927826,
          52.3587540868541,
          52.332776958899,
          46.0645749903565,
          48.3713038163735,
          42.8841084583114,
          55.1324644816671,
          44.305429342036,
          55.352143996314,
          43.5367884049913,
          44.190574252734,
          49.7438815453182,
          45.8995319373781,
          49.673139786992,
          43.3979175492832,
          49.0780593543451,
          53.5261815568893,
          45.8242070562671,
          50.044101599912,
          45.1442375179671,
          44.7363612328713,
          43.1556552017024,
          45.7185516353198,
          44.1417523192244,
          47.6813948426256,
          50.7894842529858,
          49.1937058393115,
          49.0043919990095,
          46.543266120703,
          45.8565108781915,
          43.7425963409141,
          43.3042420479608,
          43.4755545007727,
          49.4692158646161,
          44.0414290379957,
          53.7120500018441,
          45.8022433356239,
          45.2565521000395,
          44.2997700581561,
          44.1505043717337,
          50.1152470366698,
          54.7121582307183,
          42.3092078801219,
          49.0717826344319,
          43.2453552646356,
          43.7543734970328,
          45.8331354097971,
          43.8635058174562,
          62.8124195906909,
          45.4965436616695,
          45.2329157377064,
          49.2365469330509,
          44.6993915670439,
          50.4391269293724,
          50.4884144245462,
          44.1952270540393,
          44.4903292836722,
          45.4378146387282,
          45.4693735006458,
          45.8223092045182,
          45.649677723898,
          48.1043677898981,
          48.9445786284662,
          50.416484721964,
          53.7958076667503,
          46.4847689885999,
          45.8591439203509,
          45.0580344036142,
          55.252872403432,
          58.1862314975722,
          50.8788320675065,
          50.3221760730868,
          46.1455314087415,
          44.5541608168108,
          43.8775425711151,
          43.9985973337238,
          46.2724231000697,
          45.3140902608178,
          53.26606983816,
          45.3110710907654,
          45.4634211434573,
          45.6302510270181,
          49.9375052023569,
          50.9711374882515,
          51.0369708976003,
          51.3180087373777,
          44.0440593070473,
          43.2198464842452,
          49.7410883398522,
          50.7917292851724,
          48.8712039551371,
          49.4252039305808,
          49.2962386108668,
          55.4106083663135,
          51.4839323751843,
          51.9314892799853,
          51.0168489236198,
          51.2752374019996,
          69.1177976848908,
          61.1007668357203,
          44.6991018016721,
          45.8981914411109,
          50.2143131181999,
          46.6026937729641,
          46.8411264131777,
          45.8961049134989,
          48.0644475895854,
          45.2604530220256,
          44.1829228613829,
          43.1199609020563,
          43.0792335802276,
          49.8800991038966,
          49.0547099878183,
          49.3848156286149,
          48.7353250121265,
          49.5334710349775,
          53.7009532828648,
          53.8274984217974,
          49.406510887787,
          56.3380305249951,
          49.6033285873716,
          51.8245264703535,
          52.3627061478771,
          54.911010736066,
          52.9863720158355,
          55.1723204355783,
          49.4763406075468,
          51.2570142968992,
          43.3504881913174,
          44.2625726542773,
          46.7713328928984,
          47.2192770375157,
          45.8619571851691,
          45.8315893172874,
          45.2425579846619,
          45.3519861190349,
          45.2354566772388,
          64.3215549756315,
          67.8238530717693,
          52.3644322244197,
          48.9365230053643,
          47.6485248498549,
          45.1299503096542,
          44.9689295739536,
          44.7434768848674,
          45.9339815721028,
          45.099362770775,
          45.904358513213,
          45.407673032489,
          46.5891467277742,
          46.3656301645358,
          45.3820480033477,
          45.5276630637124,
          46.8318970997065,
          46.0489659943971,
          45.4662303740969,
          47.0325434457334,
          48.2429849542374,
          46.8776993754624,
          46.2967913539436,
          58.4582689749331,
          58.1100971205675,
          45.9000487356176,
          45.4269449845616,
          48.1806163432156,
          45.3136364797861,
          46.7037127951213,
          48.6582976170695,
          46.562682560003,
          46.2969985876304,
          60.0357533538407,
          45.6413227824702,
          46.0796605956605,
          46.4975290571494,
          46.4966947795609,
          45.1037119256714,
          46.031850395566,
          46.9792119996232,
          46.4063935630337,
          45.5103669253124,
          46.1086107070669,
          46.8702002846403,
          45.3018668855865,
          48.5985201087041,
          46.0166062737733,
          62.2037193383523,
          46.8880751774311,
          45.0115192584483,
          47.0119001178026,
          45.3725504874236,
          47.9024821627215,
          52.9256631477681,
          46.5507972183723,
          43.5597458131103,
          45.4384996866587,
          46.0184150392392,
          46.5702032503978,
          43.0507180969378,
          43.9741174416395,
          47.3995860599251,
          46.4905897486941,
          42.8828689056002,
          42.9876573181488,
          45.0535100525573,
          45.0007052952736,
          44.3149827260495,
          43.9311661509607,
          45.3352006522984,
          45.0322561347545,
          44.6135907792666,
          42.1452083627699,
          47.5105969629515,
          43.9093551046259,
          44.4462777466359,
          43.9461254873114,
          43.309685223427,
          42.8925275983023,
          42.6247636701798,
          42.940333610518,
          44.7480708586719,
          43.0026922290393,
          45.5715885954678,
          50.9092710381374,
          54.6491739738056,
          49.7113692620022,
          49.6943662184816,
          49.6714473110419,
          49.7759060581403,
          49.4401481785102,
          50.3842137382296,
          52.737758264182,
          51.9268277564088,
          53.6732165705293,
          52.466317605627,
          54.4691971674664,
          49.6354977625548,
          50.7290751158081,
          55.7331542327645,
          53.6904857347655,
          50.8422249887357,
          53.6700648841032,
          53.9489974364972,
          50.07296635977,
          52.1792734400585,
          50.6691967839644,
          50.0696315915727,
          55.2171443554729,
          50.7519417615785,
          49.2817181658465,
          48.6891854683958,
          49.2054588325195,
          49.092596697193,
          49.149339828095,
          49.5929282216888,
          49.3398673227176,
          49.779923733071,
          49.6717879064736,
          50.7990448686817,
          49.1837779753102,
          48.6509978346195,
          54.6893069892644,
          49.0939521991339,
          49.017962122322,
          60.0066784313724,
          68.6265517096694,
          46.060348577978,
          47.2476146973856,
          49.1069429343024
         ],
         "locationmode": "ISO-3",
         "lon": [
          -80.0331821616776,
          -72.5692909534327,
          -114.012822143418,
          -73.1319647520581,
          -74.6347143399694,
          -74.8811067224624,
          -79.8502025603996,
          -71.6497324730681,
          -76.1955033834664,
          -97.5609256894579,
          -64.2052657161713,
          -83.1013739305684,
          -78.1184044161772,
          -67.4315749117355,
          -79.8810854299637,
          -61.9909741702926,
          -119.19785053074,
          -76.3672331472666,
          -80.5417198191074,
          -71.9283275041143,
          -121.273514404526,
          -105.990033874284,
          -91.6115902565501,
          -80.9853048136856,
          -80.4545082206485,
          -68.1622928962527,
          -70.508623535525,
          -93.7442019745293,
          -115.566336226609,
          -77.6383625443018,
          -114.40736366675,
          -79.6855600369909,
          -77.6772639771854,
          -65.6843502130585,
          -53.2807744953012,
          -70.7788998625486,
          -70.9141605295361,
          -96.5152486397001,
          -119.420381302459,
          -79.1657927155506,
          -72.2719615305106,
          -72.9842475933959,
          -79.7884356092311,
          -77.447496000818,
          -73.2056115310957,
          -73.1844523778665,
          -64.7368029358313,
          -107.988527952201,
          -55.4976203279771,
          -114.446189056928,
          -81.9988763634316,
          -82.9480625938229,
          -78.5456768630589,
          -100.059843921742,
          -70.6521791956325,
          -79.7316623668449,
          -65.4800040475434,
          -53.1093941723061,
          -110.734183578476,
          -55.3540681956933,
          -111.379976624061,
          -78.6900034691311,
          -79.3150988374362,
          -79.5780010773879,
          -99.9575330049332,
          -80.267384374617,
          -78.4031510928875,
          -64.5251237678368,
          -77.7302584598583,
          -75.6969447338931,
          -111.896981503693,
          -64.7183639013081,
          -57.6219378523908,
          -125.752546515258,
          -68.8923331211159,
          -79.9555016159104,
          -114.068486872956,
          -125.242753689108,
          -77.7990768585753,
          -66.7001737575328,
          -112.836122120354,
          -115.35165554486,
          -79.0375924539828,
          -102.435763154446,
          -61.8734140641466,
          -66.6926754410198,
          -80.9237919459378,
          -64.9389964135421,
          -99.3644418353616,
          -53.2266436185542,
          -75.3805137908139,
          -113.307535836957,
          -76.1353483013341,
          -102.266940541802,
          -98.0083336175955,
          -101.793564139637,
          -75.0903492604549,
          -117.657853884216,
          -67.2316656434251,
          -79.8524886061769,
          -64.6780697093712,
          -59.1541572591622,
          -74.8536534662882,
          -83.4011260750675,
          -63.1247912696963,
          -119.687910294146,
          -71.0251326872998,
          -82.1937850221741,
          -123.724983800109,
          -81.095229075554,
          -64.2397897661185,
          -75.2346045287475,
          -74.3748175848389,
          -71.1290100569853,
          -121.962409016999,
          -68.3939975987758,
          -53.9775988270907,
          -113.585257773927,
          -70.2222316123678,
          -81.5382192933586,
          -112.6197201842,
          -71.8057934563581,
          -78.1734261119156,
          -114.470389823399,
          -81.024346410731,
          -77.8878394378562,
          -80.2191681688407,
          -73.2350562679021,
          -71.6161133514615,
          -57.9598519757598,
          -74.7310916848336,
          -124.947820044487,
          -72.7447538215276,
          -73.4751130794107,
          -115.757604975153,
          -116.512267400317,
          -125.030008514707,
          -66.3720991925819,
          -100.049047068036,
          -120.228595992706,
          -77.4924632059976,
          -57.4389226196333,
          -68.6418260327318,
          -80.4946446890649,
          -77.0554653927035,
          -113.725930547347,
          -114.135788546725,
          -65.7613515493698,
          -71.3575038125052,
          -72.2171422594617,
          -71.7480912545458,
          -114.974551940936,
          -82.1811808015953,
          -112.731461618779,
          -72.4768415759322,
          -92.834356653377,
          -123.697912607301,
          -80.3929260932653,
          -79.615651910797,
          -80.8214908193025,
          -71.6632913117205,
          -71.0776623296876,
          -113.49633560394,
          -68.3341996676482,
          -116.429641683437,
          -77.102056631686,
          -82.6511143042753,
          -80.5640992647629,
          -79.8661595830103,
          -75.2774736426372,
          -119.143881302485,
          -79.8713981243109,
          -80.0661471940436,
          -69.4046476165742,
          -81.7725475611098,
          -82.8243494559788,
          -102.076025525012,
          -102.989101544635,
          -81.4803941654032,
          -118.388571924802,
          -72.9760765601159,
          -78.7461948035717,
          -80.398357211241,
          -75.4502301541678,
          -115.06773784052,
          -101.871224839526,
          -103.530433412559,
          -81.9966741071397,
          -69.0883470138541,
          -93.4076182474818,
          -113.402212137424,
          -111.414328813195,
          -122.694008964118,
          -103.795055051423,
          -124.257003532447,
          -120.841038426628,
          -76.7320007967228,
          -55.8248375062256,
          -116.807203276319,
          -71.5093771896594,
          -77.5959753338304,
          -66.6279895874762,
          -68.5130841577683,
          -76.1663177082106,
          -54.5933094747605,
          -79.9030166157502,
          -86.9499414293776,
          -123.522415571444,
          -96.9938417074877,
          -59.9854743014143,
          -81.7094171320135,
          -81.7095589231673,
          -116.963087567699,
          -72.7320760670756,
          -55.7541474435609,
          -110.253953607927,
          -67.7413252720658,
          -55.6480623003597,
          -118.447044493615,
          -119.131715379632,
          -118.805373193424,
          -64.4867781109299,
          -79.3723526203309,
          -117.607754311416,
          -80.2470631143153,
          -80.0525321760534,
          -79.637576994284,
          -63.6139675873987,
          -79.8288999860818,
          -65.8277999040543,
          -111.936863019751,
          -81.0241206153051,
          -64.1812722470056,
          -60.3311235603312,
          -80.8709222029317,
          -82.9172616342508,
          -77.8854024739901,
          -63.5950398411225,
          -74.6005257972574,
          -115.789775989282,
          -83.6688923233551,
          -71.6522529354245,
          -117.14268193701,
          -116.479500542265,
          -113.866571716208,
          -117.57433450167,
          -121.442618314106,
          -74.1449720990354,
          -102.391456996844,
          -105.125523722181,
          -74.1786634707929,
          -79.2193419008024,
          -103.667873697483,
          -80.8836974927668,
          -113.954777627371,
          -133.725449605029,
          -116.029748163945,
          -61.2985760193598,
          -75.3148171119535,
          -80.685736024828,
          -84.7762151068555,
          -73.4462394578912,
          -120.342176245325,
          -101.894273909327,
          -75.9067739028432,
          -82.4159621631431,
          -119.498465368833,
          -75.6481477248085,
          -94.4907832060025,
          -63.6398364559172,
          -64.4813474876411,
          -99.6663152115854,
          -115.982457472264,
          -81.6387294194334,
          -109.158949239229,
          -76.5407464999616,
          -64.9455691866198,
          -80.0285930185409,
          -80.4355762542531,
          -128.645504811174,
          -73.4281324468803,
          -73.5085584849108,
          -74.681536807245,
          -70.156421494085,
          -70.0291254232615,
          -79.2009914030488,
          -72.7884645968326,
          -74.734838883355,
          -66.8855537211462,
          -111.970806980129,
          -70.5042326153892,
          -70.9000644346073,
          -74.3429757126567,
          -73.3733053333838,
          -113.736719685579,
          -123.800609951147,
          -124.047819380742,
          -78.2697190973303,
          -105.021718886077,
          -73.7378924809076,
          -73.2860062829345,
          -82.6598893833344,
          -76.968756591378,
          -113.559271960004,
          -112.828889376357,
          -55.0651208398032,
          -121.933742149206,
          -78.7453851002666,
          -70.5243443795584,
          -80.9562916152893,
          -81.931370381822,
          -64.7192505859542,
          -110.028194525329,
          -81.2541730763721,
          -86.5341748640063,
          -72.9468142810081,
          -81.4058101908244,
          -68.3443829785684,
          -81.5131103820093,
          -64.3188812916604,
          -78.9976311720729,
          -123.092380848164,
          -77.4732856852716,
          -72.1420245156537,
          -112.867458767291,
          -78.1271133501575,
          -85.8393805578487,
          -75.9778529710954,
          -117.6312482348,
          -109.481605650022,
          -86.3713105216659,
          -73.1647462025725,
          -80.6507871926617,
          -77.6812259384415,
          -55.1828216092027,
          -77.6276975749018,
          -67.5417322625682,
          -78.7126136075735,
          -115.13683346398,
          -108.435420002363,
          -80.5926380051871,
          -110.679248003633,
          -104.606773697191,
          -102.803538827054,
          -120.784341707765,
          -65.066284827093,
          -79.9015926660508,
          -79.8689705399225,
          -80.9210321271329,
          -99.8400212029685,
          -81.1994313433046,
          -64.771480227293,
          -68.2001935072309,
          -75.505363180554,
          -62.6482678796887,
          -70.556613985584,
          -73.6584349353312,
          -105.545984970381,
          -101.666898605386,
          -98.1114181098616,
          -113.638437281806,
          -97.3608992284439,
          -75.1856138780029,
          -81.4964037657029,
          -80.735598179551,
          -71.6819731807342,
          -72.3411156702001,
          -68.7889449066811,
          -117.801918837737,
          -123.997462803671,
          -76.9539085973737,
          -73.4069827156434,
          -99.4641957919559,
          -117.286990552382,
          -62.6661306889899,
          -80.6973803712601,
          -65.8602243932564,
          -60.0892464377656,
          -72.6090732560123,
          -104.007755759701,
          -72.5276459487182,
          -108.296563745063,
          -79.4396227404126,
          -80.600423492332,
          -77.9758795648886,
          -113.968362964703,
          -114.120056390418,
          -119.550228427645,
          -80.1052415697369,
          -79.4145352993846,
          -73.9910063441536,
          -66.4900533184113,
          -78.6157093398555,
          -78.8856049957936,
          -119.460474805124,
          -75.7287047966526,
          -107.056573087979,
          -80.9344800411658,
          -102.174699130498,
          -80.845294696369,
          -75.0111880463102,
          -80.3855345012226,
          -81.6849355622791,
          -124.376572167462,
          -80.0270044131475,
          -117.286543131563,
          -77.1067139939611,
          -119.586243183928,
          -76.2594379199619,
          -78.3267261499271,
          -82.1505593157409,
          -77.1464432563131,
          -62.7167785977955,
          -112.78453251029,
          -72.8094305053797,
          -95.8805809837588,
          -113.952576385233,
          -71.775095708849,
          -113.580905508361,
          -71.7026464892235,
          -124.808568858222,
          -80.2041185827299,
          -81.3895408267969,
          -61.3488090413938,
          -78.2982234066817,
          -78.9465486620521,
          -81.2136699720165,
          -66.8698720720618,
          -98.2882116718665,
          -71.8851029217911,
          -79.3617767376918,
          -124.523607531136,
          -75.5165396388541,
          -68.1213183058482,
          -105.738771981803,
          -122.779904435565,
          -130.31351897199,
          -120.513427391899,
          -71.8794929187835,
          -110.255692120443,
          -71.2886439283458,
          -122.477559338914,
          -73.7178636554728,
          -112.661445802607,
          -113.79713353188,
          -113.116919815144,
          -104.614450277612,
          -76.6788387652559,
          -118.193620781562,
          -75.8331207156931,
          -72.1476742546182,
          -81.8843116270897,
          -74.3022224101947,
          -114.235090633417,
          -68.5276163844323,
          -100.239212970773,
          -69.5190372541332,
          -72.2168382619055,
          -101.357448483729,
          -75.2862201608538,
          -114.928813809971,
          -107.986358379409,
          -106.339275687498,
          -79.0123479758825,
          -72.5198875265645,
          -101.283251787852,
          -64.3723732139746,
          -66.0981062351046,
          -65.03518792521,
          -119.260259671357,
          -82.3517862775075,
          -106.646787045045,
          -84.3277384966762,
          -81.395804568599,
          -96.8862376583474,
          -77.2473895313723,
          -66.3879842493877,
          -108.409566499776,
          -72.7291800751842,
          -76.486638785573,
          -64.5265312434759,
          -65.3202313398941,
          -80.2035116691376,
          -106.387274041316,
          -71.9330153591838,
          -99.6489743464852,
          -64.7186950453885,
          -80.3091570071329,
          -91.9112902963411,
          -114.772798101823,
          -127.17179345406,
          -76.0171803353136,
          -79.552086139659,
          -73.1264392085463,
          -100.258239394415,
          -114.880596561523,
          -56.0835408358883,
          -64.0557380986333,
          -113.907476199223,
          -123.138804114149,
          -67.0515108185907,
          -55.5847150177346,
          -79.1852742293696,
          -52.8146357857216,
          -81.1385214580094,
          -111.299960330778,
          -67.3892381502782,
          -67.2853246979046,
          -81.1774383293925,
          -71.4365375833446,
          -73.1467346155799,
          -71.324990685289,
          -75.0565115362676,
          -70.9642696985804,
          -71.824503850504,
          -73.0093216578073,
          -73.0038500036181,
          -70.6633250467815,
          -74.2219576002818,
          -68.8655402531945,
          -72.4329987239696,
          -73.4371125623137,
          -73.3823677460044,
          -70.6377412256052,
          -70.6684514062173,
          -72.5718364097865,
          -71.0703488053291,
          -71.0871923094297,
          -72.9540427395564,
          -73.5704009559293,
          -73.2670990801273,
          -70.2632391239723,
          -71.8780043232904,
          -74.0333599444116,
          -70.8736003783066,
          -73.2236436796123,
          -74.5809649356491,
          -72.0606438072266,
          -73.9135550593379,
          -69.8040159839392,
          -72.9045550311475,
          -70.4888174748723,
          -70.7550824641092,
          -71.8270440972388,
          -73.6153710475703,
          -74.1608876256225,
          -72.5633336818805,
          -80.0911054860698,
          -96.6482707882074,
          -74.1290472338101,
          -66.4789080593823,
          -70.86707425896,
          -71.7339712785987,
          -73.0926447030532,
          -71.0312463036887,
          -73.7950082270033,
          -72.4998378868981,
          -96.6782036802765,
          -58.5828993720884,
          -112.718258728578,
          -77.5523442765519,
          -97.3324301260675,
          -97.2190709385488,
          -80.9846898135522,
          -113.399268395592,
          -81.6196096311827,
          -79.9295817045277,
          -80.9636221280699,
          -63.7878883389568,
          -65.4969191580373,
          -79.3916973701589,
          -115.401251961968,
          -101.256723927867,
          -107.792651312517,
          -60.1945697815276,
          -60.2447461761426,
          -114.097898242475,
          -112.145223331103,
          -80.8349572874983,
          -79.1014851570993,
          -128.57946650754,
          -80.9982500000391,
          -101.242391676586,
          -83.5609450362923,
          -71.2901688733315,
          -97.8689344028415,
          -80.4581739396874,
          -113.268366944715,
          -89.264147359949,
          -75.2401482076717,
          -82.4332552420154,
          -80.7337836938726,
          -104.049481050489,
          -79.4968511073473,
          -79.8058709825005,
          -64.9194295090442,
          -69.1695021661041,
          -72.5690756418115,
          -63.2619910768449,
          -77.3130901886373,
          -125.543075697539,
          -109.157339744352,
          -79.1186440475279,
          -77.7952283414583,
          -72.3060778919781,
          -70.921779509045,
          -80.9877253270891,
          -74.1137494730878,
          -117.277641617237,
          -122.901989500728,
          -124.003094204977,
          -74.6489509591679,
          -73.42881073657,
          -112.049684708724,
          -73.3570137571581,
          -110.857344277916,
          -119.273622685765,
          -123.416587530942,
          -71.9548629942417,
          -111.776886868429,
          -79.4404625667687,
          -100.93216733306,
          -113.267571166356,
          -52.9484731244608,
          -103.796025321361,
          -110.84686326272,
          -81.1503341244845,
          -82.386968658986,
          -71.9891252525164,
          -80.2926481396716,
          -72.5233271869164,
          -81.8818656097829,
          -105.461565474342,
          -81.6063629068884,
          -113.850076325481,
          -113.370428801337,
          -103.845216578201,
          -82.4591225902276,
          -79.251840773146,
          -122.803648214343,
          -115.676786724426,
          -135.098480213626,
          -81.1350944228153,
          -108.707989427196,
          -122.123514238627,
          -75.3518428845434,
          -64.1427114815223,
          -82.9609256731303,
          -72.0031839797106,
          -81.3097070460581,
          -97.9295155927275,
          -97.1433636525538,
          -64.3608079995209,
          -67.5787859755553,
          -80.7401170442249,
          -104.183911176289,
          -82.1198433478566,
          -72.8321643267341,
          -66.1084660665467,
          -114.406615964046,
          -102.46427936499,
          -121.295926999694,
          -122.298793731497,
          -75.4219002829575,
          -67.0901733210946,
          -78.9432649679054,
          -79.0470682135334,
          -64.498314796316,
          -64.3877162642108,
          -79.4818036286408,
          -79.6470905669892,
          -70.8778313274839,
          -79.4787367072252,
          -79.082878412704,
          -81.3362729429508,
          -77.2730752945653,
          -127.501982118881,
          -123.732590001329,
          -81.3489965326211,
          -81.2068953147374,
          -81.142848523503,
          -65.5154048458467,
          -119.661872176966,
          -63.2165566707659,
          -72.1328167356371,
          -74.2190911716411,
          -81.2733320532139,
          -80.3140667316678,
          -80.1042627655014,
          -97.0363020654825,
          -106.578418485248,
          -113.777079804664,
          -114.232724424098,
          -114.100585658528,
          -113.333771254523,
          -114.923743169716,
          -120.811596107358,
          -73.0185399992526,
          -82.9575706155757,
          -72.4244961266129,
          -80.1103661852515,
          -104.871015630413,
          -70.351676160939,
          -67.9237121337476,
          -114.633980344133,
          -112.662464481303,
          -81.5049041772957,
          -117.280267686729,
          -113.799921514892,
          -118.087974448002,
          -118.967815587045,
          -81.364791663487,
          -73.7569576928658,
          -73.8146209990359,
          -73.7296204212779,
          -72.0166833413752,
          -105.288529694451,
          -127.077600857154,
          -119.139992256271,
          -113.868679472304,
          -112.785786440384,
          -110.905805046524,
          -113.47780056197,
          -113.41534941315,
          -57.6037747004937,
          -74.409216832666,
          -80.1317235605528,
          -104.42191182027,
          -106.770453236645,
          -106.658719773983,
          -113.407043593252,
          -114.037382903405,
          -123.235691475081,
          -122.478776468342,
          -118.980370402502,
          -126.649911852707,
          -120.167730903657,
          -96.0621176056646,
          -106.962548189906,
          -109.94070020818,
          -70.9507742708485,
          -68.708710259797,
          -81.0849449675698,
          -120.999218741495,
          -77.9575897839518,
          -118.780483481348,
          -80.5524784810571,
          -79.6992009905629,
          -112.926184303057,
          -73.7683399077867,
          -97.1125644983887,
          -79.9734330808494,
          -117.797829383289,
          -113.992832954864,
          -73.364410995724,
          -119.421604645099,
          -75.6042259898608,
          -63.389467696837,
          -79.3853375620206,
          -74.1142294284372,
          -79.3100659451905,
          -69.6194024822928,
          -112.467813605844,
          -68.2754038271983,
          -58.1211461400066,
          -71.6282914948063,
          -72.0740088125355,
          -81.2502756384357,
          -81.7640362662279,
          -80.7619242482601,
          -123.755382900527,
          -81.1194437807556,
          -111.737330527621,
          -81.721535755901,
          -75.3602003680684,
          -78.5634422762761,
          -78.4516960531065,
          -122.97077529676,
          -113.286621946345,
          -82.5452621182564,
          -121.969691761726,
          -80.2507070985492,
          -80.6704458564379,
          -74.0509184356224,
          -79.9911086210797,
          -92.1028940284418,
          -76.0885619361845,
          -75.4728766816152,
          -121.76897681411,
          -79.3763955984452,
          -104.371294537611,
          -104.272079637532,
          -79.9350699806456,
          -80.0393481523818,
          -73.0591009045416,
          -72.6552199993727,
          -73.9646254748656,
          -72.7615161615012,
          -66.1184095982636,
          -68.6442228242125,
          -73.8665063785507,
          -78.9053616642563,
          -72.7102080606961,
          -73.5927888967355,
          -64.5919576279562,
          -118.783735750918,
          -116.413656649775,
          -119.384085359421,
          -122.802128184998,
          -64.7838089322001,
          -63.718031311942,
          -79.8720446539481,
          -79.6835247671883,
          -72.5127890805069,
          -72.6539469789533,
          -113.809504542068,
          -74.0589883113641,
          -74.0866722003959,
          -74.0160105233317,
          -96.8424445816038,
          -113.672765529886,
          -113.823969158368,
          -113.601661474346,
          -79.2865612235507,
          -79.1225369105363,
          -96.8683903736016,
          -104.978061022357,
          -123.650585200715,
          -123.644297657616,
          -121.780890300579,
          -104.567472887054,
          -78.7497830399253,
          -114.028161036624,
          -93.8265846656072,
          -80.6383837667343,
          -105.057086397768,
          -94.0614349674295,
          -63.8322996245889,
          -66.7575366660122,
          -66.1971617711674,
          -71.2262588787725,
          -71.6154769447866,
          -73.4266889846512,
          -77.3510365116545,
          -75.5777148242172,
          -76.776102257078,
          -79.8171969240665,
          -81.3761986346759,
          -113.051778650971,
          -122.451425497928,
          -123.334126013444,
          -123.613357241284,
          -96.7635695943221,
          -100.330240326985,
          -94.8510960312824,
          -96.860319858042,
          -94.7777573791577,
          -96.7005962017309,
          -113.232162963521,
          -114.371557305887,
          -103.372457424628,
          -105.436492171317,
          -102.92518731043,
          -123.877451504305,
          -80.6046640491953,
          -80.5334172433296,
          -79.0675458374478,
          -70.9415640721594,
          -74.38850084335,
          -74.0636614284544,
          -73.8081629952922,
          -73.5776463009603,
          -72.9358582595447,
          -73.1229419736335,
          -96.0188978877705,
          -115.099088251988,
          -106.538090781067,
          -57.8935051424616,
          -53.2125694026462,
          -64.5224290044925,
          -63.503002602744,
          -63.7862218766919,
          -60.6269611810828,
          -64.4168958564154,
          -66.6839585110609,
          -65.9780055749041,
          -64.9931143855368,
          -64.7509571369843,
          -65.9368059948057,
          -75.4891837463549,
          -71.0109629157153,
          -71.3643560716267,
          -71.9426326676574,
          -70.4494196070303,
          -79.1186583637564,
          -71.6224846530556,
          -72.5344344533895,
          -78.1052146124612,
          -68.3937722910182,
          -73.9706880940667,
          -72.8133796234465,
          -65.977987496017,
          -73.9538580984794,
          -71.5773623656736,
          -74.9392749472993,
          -71.2632882401609,
          -72.6525933558443,
          -77.2800925112007,
          -73.3025400041805,
          -73.5172114419146,
          -71.139194185378,
          -72.8295177143151,
          -73.7550248084283,
          -74.2383696566651,
          -71.2008938373057,
          -71.0619806907556,
          -73.1259574518742,
          -72.3724267047958,
          -70.9259545983724,
          -74.304509439122,
          -72.3292991217503,
          -73.3489619985234,
          -75.642689212386,
          -71.5135667655488,
          -72.0979277190061,
          -71.3574492414742,
          -72.6574582300201,
          -73.7817088953589,
          -82.4239024162034,
          -81.1210332755781,
          -81.6998182266245,
          -75.1648021392348,
          -77.4541574056813,
          -81.1915761654401,
          -79.0579359604655,
          -79.131638345063,
          -79.6818837554512,
          -80.854069259885,
          -82.4474180445407,
          -81.0611854943584,
          -78.5079388334649,
          -74.9914094936603,
          -79.5362192944476,
          -79.5298434269432,
          -75.2510704629052,
          -74.8951303831582,
          -79.4998617913954,
          -82.9550986884176,
          -79.6784920603185,
          -78.5942522530446,
          -79.4758332470594,
          -79.8381338176881,
          -80.6176204892999,
          -79.2590873754346,
          -80.4616808997264,
          -79.0562722507391,
          -79.7811338287698,
          -79.2709684490313,
          -75.1185936942063,
          -97.2163086498693,
          -97.7559629193708,
          -96.9905975914798,
          -97.2608598758284,
          -96.8176713439249,
          -97.3345696485882,
          -96.9867022957176,
          -97.2598520423531,
          -108.3081109368,
          -107.134200259688,
          -114.361332837807,
          -114.046132510849,
          -110.189465940133,
          -114.497551002032,
          -111.907077235705,
          -117.197321567951,
          -113.226572825189,
          -113.994390486788,
          -113.492426063775,
          -113.594994077181,
          -110.786270471593,
          -113.871242129691,
          -114.282952466425,
          -112.10855259917,
          -118.80911478553,
          -119.235043796097,
          -124.134012465796,
          -123.571904598418,
          -119.829273216621,
          -123.071484972143,
          -122.304248221247,
          -119.583160294533,
          -119.565232119775,
          -119.731583304245,
          -125.026826374603,
          -120.317225617397,
          -121.786741023995,
          -123.609412928444,
          -127.057535524562,
          -117.627321781109,
          -123.071793635025,
          -111.886634950023,
          -95.8723049757321,
          -60.2562198275144,
          -53.9677987353085,
          -123.856286093459
         ],
         "marker": {
          "line": {
           "color": "black",
           "width": 2
          },
          "size": [
           9.155039056191093,
           8.593969030218288,
           11.019972502738868,
           7.3537223303996315,
           7.953318346560431,
           7.077498053569231,
           9.842090757670805,
           9.971426535544321,
           8.524962928680598,
           8.334951631422454,
           9.164296433474776,
           9.540363284917488,
           9.210840247017833,
           8.414274137408396,
           9.444621667700849,
           8.517593111437565,
           8.539737155851132,
           9.252057965328051,
           7.75491027202143,
           8.557374981049069,
           6.988413181999592,
           7.77863014732581,
           7.572502985020384,
           8.938662873666118,
           8.335911094196945,
           9.170559501964338,
           8.490438454107418,
           7.050989447068045,
           8.968396191198256,
           7.002155954403621,
           8.386400901166214,
           11.888714563968392,
           7.138073034044347,
           9.652265977087122,
           8.867850063029406,
           8.234564993267135,
           8.68084148294457,
           7.970740390007095,
           7.752335163302292,
           7.945201132412759,
           7.422373700986824,
           7.843848638152472,
           8.266421472984554,
           11.122339117090533,
           10.836537068225239,
           8.458504195067558,
           7.803435056952168,
           7.68017564043659,
           7.855932199718614,
           7.3427791893318455,
           8.37655086161377,
           7.7336835707759,
           8.16763571524637,
           7.412160334945205,
           7.366445148327599,
           10.18028560838583,
           7.271703706887368,
           8.0519780789023,
           8.533263371593732,
           7.924072324923417,
           7.480428306074208,
           10.580784783666008,
           9.13043098874788,
           10.304342048086609,
           10.785683610639454,
           11.494547622186369,
           7.987864096085687,
           9.05157907959124,
           8.676075516476429,
           9.992139250130691,
           9.577480365762678,
           7.451241684987676,
           7.175489713624222,
           7.566311014772463,
           7.798933310041217,
           9.177197153382929,
           14.028729826086073,
           10.467038444924999,
           8.152774052744075,
           9.2794932306645,
           9.82660650820017,
           9.372799299673886,
           7.520234556474628,
           7.438383530044307,
           7.614805364711073,
           6.977281341630747,
           7.942717540573791,
           8.041734711487537,
           7.427738840532894,
           8.782629654920699,
           7.448333860897476,
           8.08886878916199,
           9.387314322443542,
           7.315218389752975,
           7.9996785794994505,
           6.930494765951626,
           8.178358165605836,
           9.107532151994501,
           6.947937068614969,
           7.44600149832412,
           7.734121303328305,
           8.206583614320753,
           7.183870715062453,
           7.064759027791802,
           10.708600883430892,
           7.724446645633537,
           7.315218389752975,
           10.68166498228065,
           8.013343181386672,
           7.519149957669823,
           7.284820912568604,
           7.424761761823209,
           8.833754223418396,
           11.554278518453707,
           11.200417771082792,
           6.9650803456014065,
           8.667163717992533,
           8.138564737261632,
           7.9247959139564355,
           8.022568946988255,
           9.006141236662911,
           8.783242963740905,
           9.853824507517027,
           10.138124797561552,
           8.201934351194222,
           7.3632795869630385,
           9.908574591584685,
           8.738094230177667,
           6.928537818164665,
           9.880577100953023,
           10.73035673255396,
           10.714817688773783,
           9.376617231601282,
           8.007700012884026,
           9.865733762924211,
           8.561401446080557,
           8.1886891244442,
           7.762596048540069,
           8.999001866111735,
           9.356516482133785,
           8.204671828950811,
           8.434246270595311,
           7.494430215031565,
           8.352318548226004,
           7.405495663199472,
           8.791486026749002,
           8.560635749259074,
           7.630461261783627,
           7.701652362642226,
           9.340315448397929,
           9.038127549330516,
           8.834482608620677,
           7.804251383528112,
           8.770128527538184,
           11.136062390867204,
           8.628018746505122,
           10.055263987501922,
           7.6236419465115715,
           8.658519127506672,
           7.866722285136729,
           8.15248607578024,
           7.513163545234075,
           13.876269758959818,
           9.399803036921504,
           9.005527777346696,
           6.92951677076365,
           9.258940041812245,
           9.22631214148588,
           7.746732907753622,
           8.841881989497114,
           7.994294986415977,
           7.257002707092073,
           7.881182202227102,
           7.199678345691172,
           8.214194414852564,
           8.915432254432663,
           7.769378609513984,
           9.328834266023971,
           8.444407421690585,
           7.862497197230545,
           8.814479000010714,
           7.80954132465341,
           9.941120467342978,
           7.441906728051625,
           8.48673398393153,
           8.474494436883122,
           6.92951677076365,
           7.7306140660637395,
           7.75491027202143,
           8.911934336161426,
           7.903965634032166,
           11.106054368924086,
           8.121480374750751,
           7.560080465021827,
           7.31986492980897,
           9.898324245579248,
           7.765993079407675,
           6.914730892718563,
           7.450079569807499,
           8.112227958349724,
           7.946263643580541,
           10.992133676892388,
           8.86531163267185,
           8.54849804124465,
           9.232101863757695,
           10.648349188782753,
           7.510977752014095,
           9.119540007649686,
           7.716906135298388,
           9.773151050808124,
           7.661997558901893,
           8.927446816256198,
           8.083328608786376,
           10.996936534247357,
           7.709756864454165,
           8.889583991794973,
           8.347827345782498,
           9.396487933603666,
           8.282230063296685,
           8.097426298597213,
           11.04003768054463,
           7.324489979348532,
           8.58466490653125,
           7.8628820346414905,
           11.793560263618064,
           7.985824666418917,
           8.09132127353041,
           12.665713390084107,
           13.449715581236658,
           8.142063283104147,
           7.754481547470383,
           8.910990494656719,
           7.352441100243583,
           8.765302488748196,
           7.493873886783559,
           7.904703913873747,
           7.069023426578259,
           7.981049759665957,
           9.368625350941896,
           7.911324018963353,
           8.251924713801357,
           7.470793774195062,
           7.916078096302786,
           7.724888439323074,
           9.504501410525673,
           9.127502093667179,
           8.310660905907225,
           9.972033657571142,
           7.174724309836376,
           8.491259809389733,
           7.83399634170946,
           8.776784383701493,
           7.496652438168283,
           9.440419814291506,
           8.843182098022606,
           8.0519780789023,
           7.966239776559467,
           7.129297548929373,
           6.934397209928558,
           7.991253929840199,
           7.867105500316739,
           10.725643413659608,
           11.264797383461849,
           7.4815557019095165,
           11.672524134656916,
           8.906257878156621,
           11.931352865069307,
           8.271548374755515,
           9.276783328524896,
           7.3537223303996315,
           9.399968503952575,
           7.673223121121708,
           8.414717399827001,
           9.025816391627028,
           8.023552392404348,
           11.675554388418448,
           8.836228571526014,
           8.74909824839902,
           13.060519888070589,
           8.763115329619787,
           9.67445167551708,
           8.885302512980633,
           7.27931883541462,
           8.166216268592143,
           8.275885669474356,
           8.42726848388825,
           8.955577146281511,
           7.035268599281097,
           9.06207235530708,
           7.738052297689316,
           7.485491608030754,
           8.638879709672837,
           9.218506934642576,
           7.160845906664299,
           9.428833125074965,
           9.272093768251665,
           8.0106915391303,
           7.920446505142607,
           7.10085190894405,
           9.4501443641835,
           9.284241179815718,
           10.403990075979044,
           7.608374474380783,
           10.294042047908539,
           11.380216591127226,
           7.684324067681155,
           7.352441100243583,
           9.938516801455522,
           7.233455418621439,
           8.92665032079394,
           7.351158226430694,
           7.8434564043761155,
           10.354563171896345,
           12.856930609893038,
           7.2682230211595655,
           8.593413217327646,
           7.840312983320164,
           7.013915474810528,
           7.02197642307216,
           7.642524134232902,
           7.175489713624222,
           8.09009578318096,
           7.336285660021297,
           9.944149534255018,
           7.68662133494462,
           7.99699040583765,
           7.443078374348516,
           8.236950048061455,
           6.977281341630747,
           7.637234388789473,
           8.051340933292979,
           9.09279480812114,
           7.103322062526113,
           7.395721608602045,
           7.89989532313973,
           7.241366283322318,
           9.28609698437543,
           7.487733761436444,
           7.094234845924755,
           8.569026340056254,
           8.499029220788566,
           11.049857726725605,
           8.661812881026181,
           8.325306029752582,
           8.579416534596369,
           7.237778191923443,
           10.100410324207255,
           11.529930063786052,
           7.362645270417825,
           7.686162303492906,
           8.427924723658055,
           11.595610831588836,
           8.631235907456897,
           8.941676305360163,
           7.51425465281641,
           9.109525066737367,
           15.073856484136554,
           10.39586403263359,
           7.843064016692054,
           8.975503722070927,
           9.19502366786429,
           7.446585099157725,
           7.776954403322442,
           7.518607216815252,
           8.443115988019922,
           6.98933526597456,
           6.925595197110468,
           7.076653815443951,
           7.029972911706386,
           11.429587333346895,
           8.914491710191342,
           8.457018468380168,
           8.278682162970906,
           9.274628861858545,
           9.834405391348684,
           9.51745735706657,
           7.550135342488429,
           8.901638932300326,
           8.642768014324304,
           8.291295851905407,
           7.554858521040676,
           9.515395652485308,
           10.82766708583052,
           7.955775781534187,
           7.22983877815125,
           10.269275843491394,
           9.09873819539488,
           8.571491964823617,
           10.333124812615278,
           10.34586301466439,
           7.455876687491824,
           9.083075020930307,
           7.007600613951853,
           12.64069194329091,
           8.416267272826277,
           13.805022752697607,
           7.511524648390866,
           10.000251220968437,
           7.026426808699636,
           7.8724551500639794,
           7.007600613951853,
           9.4181672191785,
           7.459914766241105,
           10.067899688786515,
           8.751632702472298,
           8.274866820685254,
           9.676586952344206,
           10.422787170381499,
           8.625688787569537,
           11.315620211162134,
           8.589513852995864,
           8.455743229100015,
           7.905072849498666,
           7.438383530044307,
           7.020190708311925,
           7.193685818395112,
           8.167068178341237,
           8.881141619321468,
           8.839131752546109,
           8.738575192110787,
           9.938468521431373,
           8.725994381014571,
           8.969796305981806,
           8.007700012884026,
           9.440419814291506,
           9.154087430425385,
           7.672292455628756,
           8.632127729508337,
           9.46877384406884,
           7.602900462204755,
           7.202661196523238,
           9.424160595829509,
           8.285261134068948,
           7.425953657077541,
           10.466013387887635,
           11.089958081725921,
           9.370160663423624,
           7.917536353943631,
           8.385716828627851,
           7.573017256052546,
           13.466099170413724,
           9.397981090247738,
           8.554103545436334,
           8.169902647359145,
           11.510101481279127,
           7.372118028337787,
           12.276675553545772,
           9.00601857490256,
           8.81269461292015,
           8.307705966549513,
           8.021584533455107,
           8.007034012193408,
           8.19229373114764,
           7.643003635560718,
           10.517104394139265,
           7.136483208590247,
           9.796625910752034,
           9.012377119192271,
           7.3864708488298945,
           9.417517129768314,
           8.768574284141687,
           7.754052639035757,
           7.305188215393037,
           10.064925898413659,
           6.910750787961936,
           7.240649694255466,
           7.993957547573565,
           10.974060384172992,
           7.335633981927201,
           9.463042725531936,
           11.186156003810401,
           12.409751992276771,
           11.102141235384464,
           7.893572073504902,
           9.194109358865765,
           7.713784616598755,
           10.008658050141667,
           7.4377951216719325,
           10.55087871125787,
           7.0925737159746784,
           8.879611609982035,
           7.1929342212158,
           9.002824076547672,
           7.152268856032539,
           11.846285721543437,
           7.257707677160043,
           7.6638772587034705,
           9.541225601728613,
           7.9865049385539955,
           8.725020038618554,
           8.585038738311304,
           9.092119740588751,
           8.610501368549889,
           10.493715679088233,
           7.53689712956617,
           8.157657015196472,
           7.640123172695364,
           7.916807490937603,
           10.495017203717081,
           9.774915271736365,
           7.313886831633462,
           7.6251071482389,
           12.342550941765836,
           12.091934832967983,
           8.846640813100485,
           8.653121708640482,
           7.693481640835175,
           8.081165777725433,
           10.640962574945574,
           7.974532844130228,
           7.343426229147367,
           7.425357887027151,
           7.551186867296149,
           7.840312983320164,
           7.234898420314831,
           8.246695943718557,
           7.037027614686276,
           7.0925737159746784,
           7.10085190894405,
           7.0431599159883405,
           8.867286523989415,
           7.999007213243955,
           7.88758403166028,
           7.340835554123275,
           10.200661930171254,
           8.156223323194624,
           7.45876269238096,
           7.725330037917135,
           10.820418079697623,
           7.661997558901893,
           11.346693769325222,
           7.249215057114389,
           7.660585461703256,
           11.253455009396003,
           8.214735833382303,
           7.853993087224244,
           8.615226931687603,
           7.665753431861699,
           7.030857476116121,
           7.81237820598861,
           7.9996785794994505,
           7.7488913372555315,
           7.014814351275545,
           8.079308192051961,
           8.837971491357209,
           8.968141414126814,
           7.7752758464868625,
           8.301273485191347,
           7.656337166430183,
           8.66319648553608,
           8.094683648698815,
           7.77863014732581,
           7.244941546337007,
           7.580189417944541,
           9.313167681775653,
           8.27664912542186,
           7.195187320178709,
           9.599201730917567,
           8.8698199525084,
           8.676246121270838,
           7.615791072035833,
           8.443331342817782,
           7.495541943884256,
           10.343450701051859,
           9.517236663351769,
           9.575052927597383,
           8.824383730256061,
           11.385705541626173,
           9.533437849648918,
           8.575084669832014,
           8.926783114101351,
           7.150701457592526,
           8.285008895449879,
           9.681718056775063,
           10.305747529695344,
           9.458995712459116,
           9.611931318535747,
           9.053452616439039,
           7.991253929840199,
           7.215975002651466,
           9.522446728338489,
           7.65728279297819,
           8.588210678651517,
           7.069023426578259,
           9.691160293655768,
           9.463275708098129,
           7.818027938530729,
           8.032035314398824,
           11.450539292534133,
           7.837159650001675,
           8.469682208745185,
           9.654641503869545,
           8.0507033814703,
           15.50736202692585,
           8.545391845774915,
           8.065893546964274,
           8.025516386489008,
           11.64573284556128,
           10.041247492240613,
           7.438971592395862,
           7.362645270417825,
           7.813995675002791,
           9.378563004390635,
           10.148040283087838,
           7.498869733976931,
           7.145196134997171,
           9.767152232578871,
           10.572546937566983,
           7.259116128097101,
           14.633007168150373,
           7.590346945602565,
           7.462789157412448,
           9.93183202554527,
           8.600798775271034,
           8.395929103923198,
           8.193400231952097,
           10.78047596792754,
           12.723961267496483,
           10.708511471981696,
           6.946013991099227,
           7.655864017616056,
           8.033334015880062,
           7.426549072397305,
           7.1891677384203225,
           7.033506484287697,
           8.724695046740491,
           8.415603335654604,
           9.22009266341886,
           8.070906088787819,
           8.049427057110695,
           8.131824785007195,
           7.336936913707618,
           7.5310163320779155,
           7.198183577101943,
           8.450625947144124,
           9.43236329562169,
           9.276034475171546,
           7.961370201719511,
           10.393109968651016,
           11.44816291874091,
           9.16062477973025,
           9.986541107671414,
           7.5953872788539725,
           7.046647277848756,
           9.259892150805431,
           7.780720886117918,
           8.565602330623925,
           12.56747788396442,
           8.529911963824013,
           7.984121958702927,
           9.568783751310876,
           13.475727847767121,
           8.341648618901306,
           8.361007108226909,
           10.606684068949075,
           7.4570320891223805,
           7.766840537085513,
           7.122866658599083,
           8.884194633072273,
           9.846070281666178,
           9.682903223616842,
           7.501634457883413,
           11.70584895545962,
           9.722265391185474,
           7.7354333524996886,
           9.590214130417438,
           9.050640993218508,
           7.866722285136729,
           6.97914527506881,
           10.194551400334317,
           8.4368504387337,
           9.537122958049878,
           9.378732023236639,
           8.447199819595703,
           7.290292882446597,
           9.525224101853109,
           8.200562797008564,
           9.134430777875833,
           10.286400256173781,
           8.458716261657262,
           8.631949428714426,
           9.335121088873489,
           9.07589427542326,
           7.807916628926408,
           7.119635638017636,
           9.76399557371753,
           6.951772164398911,
           7.404279118037268,
           7.064759027791802,
           8.314587291319576,
           9.302098797215724,
           7.583247524303362,
           7.844632644464681,
           8.03268487596762,
           7.886457270977689,
           7.468513271496337,
           7.0967213784947605,
           7.221105098182496,
           7.709308333385869,
           7.103322062526113,
           6.9440872082295275,
           7.508787170634276,
           6.981934677156389,
           7.002155954403621,
           7.531552381407289,
           7.5251007461258,
           7.221105098182496,
           7.039660349862076,
           9.076694687106265,
           8.280964400553373,
           7.172424577124845,
           8.210124405164267,
           11.172742351554666,
           9.29330189269053,
           8.09040229659332,
           7.3632795869630385,
           8.643120748014027,
           7.6324011266014535,
           7.323830566202317,
           8.059908334578276,
           7.205635176410364,
           7.270312886079025,
           7.552237287560802,
           9.76399557371753,
           7.937374696163295,
           7.261927092702751,
           8.44009614103127,
           7.495541943884256,
           7.478169694159785,
           9.162514742493578,
           7.332369205929062,
           7.997326822998097,
           7.195937226475569,
           9.393245092030718,
           7.487733761436444,
           7.661997558901893,
           8.4071550862073,
           6.9930151229329605,
           7.1846291527173145,
           7.084226422097916,
           7.233455418621439,
           7.016609683894219,
           7.038783541388542,
           7.591861714889934,
           7.016609683894219,
           7.8083230503910555,
           7.59488438721652,
           7.101675971619444,
           7.872073979866873,
           7.8160138391590275,
           7.216709486709457,
           7.533158807455563,
           8.076826031298808,
           9.69713966113932,
           7.469083884921234,
           8.851090687664982,
           7.8547691834991324,
           7.83002808253384,
           8.31238059678675,
           9.272657678041044,
           8.502079553606189,
           7.1731917424865985,
           7.086737934510577,
           9.354354132115088,
           7.0630481633881725,
           7.546446273746024,
           7.280697195384741,
           7.05444965813294,
           7.895063498091573,
           8.085178748074537,
           9.086136768516877,
           7.105786129481271,
           7.088408778675395,
           7.201916317531627,
           8.403800504061147,
           7.147559271189454,
           7.43543801981455,
           9.072571442231286,
           7.1308988302963465,
           6.99117688712121,
           6.959398512133975,
           8.08794755464267,
           7.65491704784832,
           8.111928063310739,
           7.301147805856032,
           7.80016307039296,
           7.746732907753622,
           7.4821189235521155,
           8.243282523048375,
           7.3427791893318455,
           8.350902451694811,
           7.4645098346365275,
           7.4205789054108005,
           9.787403073515327,
           7.300472814267799,
           7.741099090035366,
           8.405814603432848,
           7.4815557019095165,
           7.00397413672268,
           7.652070746116482,
           7.9617188159813645,
           7.995306620290822,
           6.994849985833071,
           7.224753405767971,
           7.02197642307216,
           7.561121589530238,
           7.528331766707247,
           7.588829878307813,
           7.579167967396076,
           7.2875606403097235,
           7.273092595999522,
           8.362175469149628,
           7.897668150726906,
           7.24422751560335,
           8.267448958304849,
           7.522400231387125,
           7.711101251840158,
           7.134093721192866,
           9.148358579620302,
           8.434680769841773,
           8.52912176228151,
           9.876732815227308,
           7.05617528410041,
           8.078067881815437,
           7.98514393119862,
           7.973844375944687,
           7.395721608602045,
           7.224753405767971,
           7.521859252201629,
           7.124478262493424,
           7.3427791893318455,
           7.516977224604321,
           7.122866658599083,
           7.0707241072602764,
           7.247792581767846,
           7.389563953677635,
           7.829630389150193,
           7.368970402194793,
           7.6624678152002375,
           7.217443431696533,
           7.8009820712577405,
           7.398174092970465,
           7.970394907191429,
           7.1252830915107115,
           8.65486599654131,
           7.07326971745971,
           9.081824949740755,
           7.526178913346146,
           7.15305163493748,
           8.157943507105037,
           7.00033446027523,
           7.780720886117918,
           7.833203948641057,
           7.110696122978827,
           6.945051063725834,
           7.426549072397305,
           6.943122422819428,
           7.423568444259167,
           6.964135612418245,
           6.98933526597456,
           6.952728644624869,
           6.940222469119639,
           7.571473648851271,
           7.025538314638521,
           7.499423290592229,
           7.020190708311925,
           7.1252830915107115,
           7.301147805856032,
           7.4073177104694174,
           8.358900612421644,
           7.327123292259293,
           7.351158226430694,
           7.368339686311381,
           6.996681488176539,
           7.432483807917119,
           6.963189985870238,
           7.1204443723924875,
           7.397561535524052,
           7.040536390215956,
           7.029087564149662,
           8.825706773447951,
           7.048386408721883,
           7.659171367666058,
           7.02108396428914,
           7.704811922932594,
           10.104180975012746,
           6.959398512133975,
           7.132497551660044,
           7.143617602704121,
           8.84980082722101,
           7.098375638590786,
           8.101071503119543,
           7.9102237070973445,
           7.101675971619444,
           7.793999089503996,
           7.926241523170962,
           7.251344983372214,
           7.179307969504034,
           7.210079628170788,
           7.10002716662926,
           7.321849713788356,
           7.024649030453636,
           7.8713112033234065,
           7.79770203551669,
           7.247080584585756,
           7.027314514039777,
           8.868413284672005,
           6.945051063725834,
           9.157572306437528,
           7.411556287811163,
           6.980075940561763,
           6.942156705699469,
           7.1049654482698426,
           9.31542084842669,
           8.27308133366583,
           6.963189985870238,
           7.440146680662688,
           7.197435354096591,
           7.044032897274685,
           7.060476365999801,
           6.928537818164665,
           7.240649694255466,
           6.980075940561763,
           7.953669778649798,
           7.29641326877392,
           7.5251007461258,
           7.419380582918692,
           6.945051063725834,
           7.313886831633462,
           8.44741429680832,
           7.013915474810528,
           7.063903961472068,
           6.9363427358340495,
           8.734721003944811,
           8.634086942887738,
           7.091742115095153,
           7.0192966537150445,
           7.503289630675082,
           8.645762292210945,
           8.271548374755515,
           7.046647277848756,
           7.232733136177615,
           10.085475720428844,
           8.84937050375457,
           7.6246189861593985,
           7.483806687665835,
           7.0825485693553,
           7.527793987721444,
           8.389814262086407,
           9.123365357961776,
           7.43307534889858,
           6.950814768442584,
           7.2196420401307355,
           9.61826910952232,
           7.004881989712859,
           7.072421900537371,
           8.5956346177228,
           11.041128228171717,
           7.487173694213739,
           7.108244139731541,
           7.609862200913554,
           7.331714969726466,
           7.370860166536716,
           7.1204443723924875,
           6.957497370876951,
           7.064759027791802,
           6.9985096422506015,
           8.229511118964457,
           6.945051063725834,
           7.093404625868766,
           6.934397209928558,
           8.8065738205036,
           7.29641326877392,
           6.9167150203536085,
           6.939253946041508,
           10.081424511012258,
           7.637716432664798,
           7.313886831633462,
           7.034387929915503,
           8.607764889600624,
           7.31455283232408,
           7.718240951959316,
           7.108244139731541,
           7.217443431696533,
           6.985641817639208,
           7.044905117129371,
           8.183118079394745,
           7.446585099157725,
           10.007532202822729,
           10.412140818440461,
           6.910750787961936,
           7.681099001536359,
           8.454892165218858,
           7.234898420314831,
           7.576097340623111,
           7.462214939768189,
           8.85666093701725,
           7.05617528410041,
           9.444858981311897,
           9.979892883738533,
           7.616283561580385,
           7.087573705557973,
           7.457609289715606,
           7.347943823148687,
           7.422971251049421
          ]
         },
         "text": [
          "Acton pop: 9462.0",
          "Acton Vale pop: 5399.0",
          "Airdrie pop: 61082.0",
          "Alençon pop: 1562.0",
          "Alexandria pop: 2845.0",
          "Alfred pop: 1185.0",
          "Alliston pop: 18809.0",
          "Alma pop: 21406.0",
          "Almonte pop: 5039.0",
          "Altona pop: 4167.0",
          "Amherst pop: 9550.0",
          "Amherstburg pop: 13910.0",
          "Amos pop: 10005.0",
          "Amqui pop: 4511.0",
          "Angus - Borden CFB-BFC pop: 12640.0",
          "Antigonish pop: 5002.0",
          "Armstrong pop: 5114.0",
          "Arnprior pop: 10426.0",
          "Arthur pop: 2333.0",
          "Asbestos pop: 5205.0",
          "Ashcroft pop: 1084.0",
          "Assiniboia pop: 2389.0",
          "Atikokan pop: 1944.0",
          "Aylmer pop: 7621.0",
          "Ayr pop: 4171.0",
          "Baie-Comeau pop: 9610.0",
          "Baie-Saint-Paul pop: 4868.0",
          "Golden pop: 1154.0",
          "Banff pop: 7851.0",
          "Barraute pop: 1099.0",
          "Barrhead pop: 4387.0",
          "Barrie pop: 145614.0",
          "Barry's Bay pop: 1259.0",
          "Bathurst pop: 15557.0",
          "Bay Roberts pop: 7100.0",
          "Beauceville pop: 3769.0",
          "Beaupré pop: 5889.0",
          "Beausejour pop: 2895.0",
          "Beaverlodge pop: 2327.0",
          "Beaverton pop: 2822.0",
          "Gentilly pop: 1673.0",
          "Bedford pop: 2550.0",
          "Beeton pop: 3891.0",
          "Belleville pop: 67666.0",
          "Beloeil pop: 50845.0",
          "Berthierville pop: 4715.0",
          "Berwick pop: 2449.0",
          "Biggar pop: 2165.0",
          "Bishop's Falls pop: 2581.0",
          "Blairmore pop: 1545.0",
          "Blenheim pop: 4344.0",
          "Blind River pop: 2284.0",
          "Bobcaygeon pop: 3525.0",
          "Boissevain pop: 1656.0",
          "Saint-Martin pop: 1582.0",
          "Bolton pop: 26378.0",
          "Bonaventure pop: 1439.0",
          "Bonavista pop: 3140.0",
          "Bonnyville pop: 5081.0",
          "Botwood pop: 2763.0",
          "Bow Island pop: 1773.0",
          "Bowmanville pop: 39371.0",
          "Bracebridge pop: 9232.0",
          "Bradford pop: 29862.0",
          "Brandon pop: 48324.0",
          "Brantford pop: 98179.0",
          "Bridgenorth - Chemong Park Area pop: 2945.0",
          "Bridgewater pop: 8532.0",
          "Brighton pop: 5861.0",
          "Brockville pop: 21854.0",
          "Brooks pop: 14436.0",
          "Bouctouche pop: 1722.0",
          "Burgeo pop: 1307.0",
          "Burns Lake pop: 1932.0",
          "Cabano pop: 2438.0",
          "Caledonia pop: 9674.0",
          "Calgary pop: 1.237656e6",
          "Campbell River pop: 35138.0",
          "Campbellford pop: 3473.0",
          "Campbellton pop: 10716.0",
          "Camrose pop: 18520.0",
          "Canmore pop: 11764.0",
          "Cannington pop: 1845.0",
          "Canora pop: 1700.0",
          "Cap-aux-Meules pop: 2028.0",
          "Cap-Chat pop: 1072.0",
          "Capreol pop: 2815.0",
          "Caraquet pop: 3108.0",
          "Carberry pop: 1682.0",
          "Carbonear pop: 6520.0",
          "Cardinal pop: 1717.0",
          "Cardston pop: 3258.0",
          "Carleton Place pop: 11936.0",
          "Carlyle pop: 1503.0",
          "Carman pop: 2980.0",
          "Carnduff pop: 1023.0",
          "Casselman pop: 3563.0",
          "Castlegar pop: 9023.0",
          "Causapscal pop: 1041.0",
          "Cayuga pop: 1713.0",
          "Chandler pop: 2285.0",
          "Channel-Port aux Basques pop: 3665.0",
          "Chapais pop: 1318.0",
          "Chapleau pop: 1170.0",
          "Charlottetown pop: 44739.0",
          "Chase pop: 2263.0",
          "Château-Richer pop: 1503.0",
          "Chatham pop: 43550.0",
          "Chemainus pop: 3021.0",
          "Chesley pop: 1843.0",
          "Chester pop: 1458.0",
          "Chesterville pop: 1677.0",
          "Chibougamau pop: 6862.0",
          "Chicoutimi - Jonquière pop: 104222.0",
          "Chilliwack pop: 73161.0",
          "Chute-aux-Outardes pop: 1059.0",
          "Clarenville-Shoal Harbour pop: 5809.0",
          "Claresholm pop: 3424.0",
          "Clermont pop: 2765.0",
          "Clinton pop: 3049.0",
          "Coaldale pop: 8153.0",
          "Coaticook pop: 6524.0",
          "Cobourg pop: 19031.0",
          "Cochrane pop: 25289.0",
          "Cochrane pop: 3648.0",
          "Colborne pop: 1577.0",
          "Collingwood pop: 20102.0",
          "Contrecoeur pop: 6236.0",
          "Cookshire pop: 1021.0",
          "Corner Brook pop: 19547.0",
          "Cornwall pop: 45723.0",
          "Courtenay pop: 45018.0",
          "Cowansville pop: 11809.0",
          "Crabtree pop: 3004.0",
          "Cranbrook pop: 19259.0",
          "Creston pop: 5226.0",
          "Cumberland pop: 3600.0",
          "Dalhousie pop: 2351.0",
          "Dauphin pop: 8095.0",
          "Dawson Creek pop: 11574.0",
          "Deep River pop: 3658.0",
          "Deer Lake pop: 4602.0",
          "Dégelis pop: 1798.0",
          "Delhi pop: 4240.0",
          "Deseronto pop: 1645.0",
          "Devon pop: 6578.0",
          "Didsbury pop: 5222.0",
          "Digby pop: 2060.0",
          "Disraeli pop: 2212.0",
          "Dolbeau pop: 11388.0",
          "Donnacona pop: 8418.0",
          "Drayton Valley pop: 6867.0",
          "Dresden pop: 2451.0",
          "Drumheller pop: 6439.0",
          "Drummondville pop: 68601.0",
          "Dryden pop: 5586.0",
          "Duncan pop: 23278.0",
          "Dundalk pop: 2046.0",
          "Dunnville pop: 5759.0",
          "Durham pop: 2609.0",
          "East Angus pop: 3472.0",
          "East Broughton pop: 1832.0",
          "Edmonton pop: 1.062643e6",
          "Edmundston pop: 12086.0",
          "Edson pop: 8148.0",
          "Eganville pop: 1022.0",
          "Elliot Lake pop: 10498.0",
          "Elmira pop: 10161.0",
          "Elmvale pop: 2314.0",
          "Embrun pop: 6918.0",
          "Enderby pop: 2964.0",
          "Englehart pop: 1418.0",
          "Erin pop: 2647.0",
          "Les Escoumins pop: 1339.0",
          "Espanola pop: 3693.0",
          "Essex pop: 7446.0",
          "Esterhazy pop: 2367.0",
          "Estevan pop: 11258.0",
          "Exeter pop: 4649.0",
          "Fairview pop: 2598.0",
          "Farnham pop: 6731.0",
          "Fenelon Falls pop: 2464.0",
          "Fergus pop: 20767.0",
          "Ferme-Neuve pop: 1706.0",
          "Fernie pop: 4850.0",
          "Flin Flon pop: 4791.0",
          "Foam Lake pop: 1022.0",
          "Forest pop: 2277.0",
          "Forestville pop: 2333.0",
          "Fort Frances pop: 7420.0",
          "Fort Macleod pop: 2708.0",
          "Fort McMurray pop: 66573.0",
          "Fort Nelson pop: 3366.0",
          "Fort Qu'Appelle pop: 1920.0",
          "Fort St. James pop: 1510.0",
          "Fort St. John pop: 19897.0",
          "Fort-Coulonge pop: 2359.0",
          "Fortune pop: 1007.0",
          "Fox Creek pop: 1720.0",
          "Saint-Apollinaire pop: 3335.0",
          "Frankford pop: 2825.0",
          "Fredericton pop: 59405.0",
          "Iqaluit pop: 7082.0",
          "Gananoque pop: 5159.0",
          "Gander pop: 10220.0",
          "Georgetown pop: 42123.0",
          "Geraldton pop: 1828.0",
          "Gibsons pop: 9132.0",
          "Gimli pop: 2246.0",
          "Glace Bay pop: 17556.0",
          "Glencoe pop: 2126.0",
          "Goderich pop: 7536.0",
          "Golden pop: 3240.0",
          "Granby pop: 59691.0",
          "Grand Bank pop: 2230.0",
          "Grand Centre pop: 7256.0",
          "Grand Falls / Grand-Sault pop: 4221.0",
          "Grand Falls-Windsor pop: 12046.0",
          "Grand Forks pop: 3953.0",
          "Grande Cache pop: 3286.0",
          "Grande Prairie pop: 62320.0",
          "Grande-Rivière pop: 1517.0",
          "Gravenhurst pop: 5349.0",
          "Grimshaw pop: 2599.0",
          "Guelph pop: 132397.0",
          "Hagersville pop: 2939.0",
          "Haileybury pop: 3266.0",
          "Halifax pop: 316701.0",
          "Hamilton pop: 693645.0",
          "Hampton pop: 3436.0",
          "Hanna pop: 2332.0",
          "Hanover pop: 7413.0",
          "Hantsport pop: 1560.0",
          "Happy Valley-Goose Bay pop: 6408.0",
          "Harriston pop: 1797.0",
          "Harrow pop: 2710.0",
          "Havelock pop: 1175.0",
          "Havre-Saint-Pierre pop: 2925.0",
          "Hawkesbury pop: 11715.0",
          "Hay River pop: 2728.0",
          "Hearst pop: 3835.0",
          "Saint-Bruno pop: 1756.0",
          "High Level pop: 2741.0",
          "High Prairie pop: 2264.0",
          "High River pop: 13420.0",
          "Hinton pop: 9205.0",
          "Hope pop: 4067.0",
          "Hudson pop: 21419.0",
          "Hudson Bay pop: 1306.0",
          "Humboldt pop: 4872.0",
          "Huntingdon pop: 2525.0",
          "Huntsville pop: 6482.0",
          "Indian Head pop: 1802.0",
          "Ingersoll pop: 12587.0",
          "Innisfail pop: 6927.0",
          "Inuvik pop: 3140.0",
          "Invermere pop: 2882.0",
          "Inverness pop: 1248.0",
          "Iroquois pop: 1027.0",
          "Iroquois Falls pop: 2955.0",
          "Wawa pop: 2610.0",
          "Joliette pop: 45508.0",
          "Kamloops pop: 78026.0",
          "Kamsack pop: 1775.0",
          "Kanata pop: 117304.0",
          "Kapuskasing pop: 7378.0",
          "Kelowna pop: 151957.0",
          "Kemptville pop: 3911.0",
          "Kenora pop: 10687.0",
          "Kensington pop: 1562.0",
          "Kentville pop: 12088.0",
          "Killarney pop: 2150.0",
          "Kimberley pop: 4513.0",
          "Kincardine pop: 8315.0",
          "Kindersley pop: 3052.0",
          "Kingston pop: 117660.0",
          "Kingston - Greenwood pop: 6879.0",
          "Kirkland Lake pop: 6305.0",
          "Kitchener pop: 470015.0",
          "Kitimat pop: 6394.0",
          "L'Assomption pop: 15906.0",
          "L'Épiphanie pop: 7225.0",
          "L'Orignal pop: 1450.0",
          "La Malbaie pop: 3520.0",
          "La Pocatière pop: 3928.0",
          "La Sarre pop: 4570.0",
          "La Tuque pop: 7751.0",
          "Labelle pop: 1136.0",
          "Labrador City pop: 8622.0",
          "Lac la Biche pop: 2294.0",
          "Lac-Etchemin pop: 1782.0",
          "Lac-Mégantic pop: 5647.0",
          "Lachute pop: 10082.0",
          "Lacolle pop: 1288.0",
          "Lacombe pop: 12442.0",
          "Ladysmith pop: 10637.0",
          "Lake Cowichan pop: 3013.0",
          "Lakefield pop: 2753.0",
          "Lanigan pop: 1213.0",
          "Laurentides pop: 12710.0",
          "Lavaltrie pop: 10767.0",
          "Leamington pop: 32991.0",
          "Lebel-sur-Quévillon pop: 2015.0",
          "Leduc pop: 29556.0",
          "Lethbridge pop: 87572.0",
          "Lewisporte pop: 2174.0",
          "Lillooet pop: 1560.0",
          "Lindsay pop: 20713.0",
          "Linière pop: 1385.0",
          "Listowel pop: 7530.0",
          "Little Current pop: 1558.0",
          "Liverpool pop: 2549.0",
          "Lloydminster pop: 31400.0",
          "London pop: 383437.0",
          "Longlac pop: 1434.0",
          "Louiseville pop: 5396.0",
          "Lucan pop: 2541.0",
          "Luceville pop: 1112.0",
          "Lucknow pop: 1121.0",
          "Lunenburg pop: 2085.0",
          "Macamic pop: 1307.0",
          "Mackenzie pop: 3262.0",
          "Madoc pop: 1535.0",
          "Magog pop: 20830.0",
          "Magrath pop: 2179.0",
          "Malartic pop: 2972.0",
          "Manitouwadge pop: 1708.0",
          "Maniwaki pop: 3778.0",
          "Manning pop: 1072.0",
          "Maple Creek pop: 2074.0",
          "Marathon pop: 3138.0",
          "Marieville pop: 8891.0",
          "Markdale pop: 1216.0",
          "Marmora pop: 1629.0",
          "Marystown pop: 2697.0",
          "Matagami pop: 1396.0",
          "Matane pop: 10787.0",
          "Mattawa pop: 1786.0",
          "Mayerthorpe pop: 1205.0",
          "Meadow Lake pop: 5266.0",
          "Meaford pop: 4910.0",
          "Medicine Hat pop: 62935.0",
          "Melfort pop: 5778.0",
          "Melville pop: 4127.0",
          "Merritt pop: 5321.0",
          "Middleton pop: 1391.0",
          "Midland pop: 24353.0",
          "Milton pop: 101715.0",
          "Milverton pop: 1576.0",
          "Minnedosa pop: 2178.0",
          "Mitchell pop: 4573.0",
          "Moncton pop: 108620.0",
          "Mont-Joli pop: 5604.0",
          "Mont-Laurier pop: 7644.0",
          "Montague pop: 1834.0",
          "Montmagny pop: 9041.0",
          "Montréal pop: 3.519595e6",
          "Moose Jaw pop: 32724.0",
          "Moosomin pop: 2548.0",
          "Morden pop: 7907.0",
          "Morinville pop: 9848.0",
          "Morris pop: 1714.0",
          "Morrisburg pop: 2385.0",
          "Mount Brydges pop: 1842.0",
          "Mount Forest pop: 4643.0",
          "Hébertville pop: 1085.0",
          "Notre-Dame-du-Bon-Conseil pop: 1018.0",
          "Notre-Dame-du-Lac pop: 1184.0",
          "Nakusp pop: 1130.0",
          "Nanaimo pop: 92004.0",
          "Napanee pop: 7439.0",
          "Napierville pop: 4708.0",
          "Neepawa pop: 3939.0",
          "Nelson pop: 10664.0",
          "New Glasgow pop: 18665.0",
          "New Hamburg pop: 13595.0",
          "New Richmond pop: 1901.0",
          "New Waterford pop: 7344.0",
          "Nicolet pop: 5669.0",
          "Nipawin pop: 3989.0",
          "Normandin pop: 1910.0",
          "North Battleford pop: 13567.0",
          "North Bay pop: 50396.0",
          "Norwich pop: 2852.0",
          "Norwood pop: 1380.0",
          "Okotoks pop: 28833.0",
          "Olds pop: 8944.0",
          "Oliver pop: 5279.0",
          "Orangeville pop: 30734.0",
          "Orillia pop: 31128.0",
          "Ormstown pop: 1730.0",
          "Oromocto pop: 8805.0",
          "Orono pop: 1105.0",
          "Oshawa pop: 308875.0",
          "Osoyoos pop: 4520.0",
          "Ottawa - Gatineau pop: 989567.0",
          "Outlook pop: 1829.0",
          "Owen Sound pop: 22032.0",
          "Oxbow pop: 1126.0",
          "Palmerston pop: 2624.0",
          "Papineauville pop: 1105.0",
          "Paris pop: 12310.0",
          "Parkhill pop: 1737.0",
          "Parksville pop: 23574.0",
          "Parry Sound pop: 6321.0",
          "Peace River pop: 3924.0",
          "Pembroke pop: 15940.0",
          "Penticton pop: 33617.0",
          "Perth pop: 5573.0",
          "Peterborough pop: 82094.0",
          "Petrolia pop: 5375.0",
          "Picton pop: 4702.0",
          "Pictou pop: 2711.0",
          "Picture Butte pop: 1700.0",
          "Pierreville pop: 1119.0",
          "Pinawa pop: 1331.0",
          "Pincher Creek pop: 3523.0",
          "Plessisville pop: 7195.0",
          "Ponoka pop: 6899.0",
          "Pont-Rouge pop: 6239.0",
          "Port Alberni pop: 20712.0",
          "Port Dover pop: 6161.0",
          "Port Elgin pop: 7862.0",
          "Port Hawkesbury pop: 3004.0",
          "Port Hope pop: 12587.0",
          "Port Perry pop: 9453.0",
          "Port Stanley pop: 2148.0",
          "Port-Cartier pop: 5609.0",
          "Portage la Prairie pop: 12949.0",
          "Portneuf pop: 2004.0",
          "Powassan pop: 1343.0",
          "Powell River pop: 12384.0",
          "Prescott pop: 3965.0",
          "Price pop: 1679.0",
          "Prince Albert pop: 35102.0",
          "Prince George pop: 65510.0",
          "Prince Rupert pop: 11733.0",
          "Princeton pop: 2745.0",
          "Princeville pop: 4384.0",
          "Provost pop: 1945.0",
          "Québec pop: 705103.0",
          "Quesnel pop: 12064.0",
          "Rawdon pop: 5188.0",
          "Raymond pop: 3533.0",
          "Red Deer pop: 99718.0",
          "Redwater pop: 1591.0",
          "Regina pop: 214631.0",
          "Renfrew pop: 8152.0",
          "Revelstoke pop: 6719.0",
          "Richmond pop: 4055.0",
          "Richmond pop: 3046.0",
          "Ridgetown pop: 3002.0",
          "Rigaud pop: 3613.0",
          "Rimbey pop: 2086.0",
          "Rimouski pop: 36942.0",
          "Rivers pop: 1257.0",
          "Rivière-du-Loup pop: 17973.0",
          "Roberval pop: 8204.0",
          "Roblin pop: 1614.0",
          "Rockland pop: 12302.0",
          "Rocky Mountain House pop: 6429.0",
          "Rosetown pop: 2331.0",
          "Rosthern pop: 1488.0",
          "Rouyn-Noranda pop: 23504.0",
          "Roxton Falls pop: 1003.0",
          "Russell pop: 1395.0",
          "Sackville pop: 2963.0",
          "Saint John pop: 58341.0",
          "Salisbury pop: 1534.0",
          "Salmon Arm pop: 12875.0",
          "Sarnia pop: 72125.0",
          "Saskatoon pop: 245181.0",
          "Sault Ste. Marie pop: 66313.0",
          "Seaforth pop: 2680.0",
          "Selkirk pop: 9839.0",
          "Senneterre pop: 2239.0",
          "Sept-Îles pop: 22218.0",
          "Shaunavon pop: 1699.0",
          "Shawinigan pop: 38211.0",
          "Shawville pop: 1203.0",
          "Shediac pop: 7184.0",
          "Shelburne pop: 1330.0",
          "Shelburne pop: 8126.0",
          "Shellbrook pop: 1277.0",
          "Sherbrooke pop: 139565.0",
          "Shilo CFB-BFC pop: 1419.0",
          "Shippagan pop: 2130.0",
          "Simcoe pop: 13922.0",
          "Sioux Lookout pop: 2941.0",
          "Slave Lake pop: 6155.0",
          "Smithers pop: 5351.0",
          "Smiths Falls pop: 8885.0",
          "Smithville pop: 5489.0",
          "Sorel pop: 36088.0",
          "Souris pop: 1876.0",
          "Sparwood pop: 3490.0",
          "Springdale pop: 2080.0",
          "Springhill pop: 2743.0",
          "Spruce Grove pop: 36135.0",
          "Squamish pop: 17587.0",
          "Saint Andrews pop: 1501.0",
          "St. Anthony pop: 2049.0",
          "St. Catharines - Niagara Falls pop: 229246.0",
          "St. John's pop: 178427.0",
          "St. Marys pop: 6951.0",
          "St. Paul pop: 5728.0",
          "Saint-Quentin pop: 2194.0",
          "St. Stephen pop: 3233.0",
          "St. Thomas pop: 41813.0",
          "Saint-Agapit pop: 2906.0",
          "Saint-Alexis-des-Monts pop: 1546.0",
          "Saint-Ambroise pop: 1678.0",
          "Saint-André-Avellin pop: 1903.0",
          "Saint-Anselme pop: 2541.0",
          "Saint-Basile-Sud pop: 1387.0",
          "Saint-Césaire pop: 3815.0",
          "Saint-Damase pop: 1138.0",
          "Saint-Damien-de-Buckland pop: 1203.0",
          "Saint-Donat-de-Montcalm pop: 1213.0",
          "Saint-Fabien pop: 1145.0",
          "Saint-Félicien pop: 7096.0",
          "Saint-Félix-de-Valois pop: 2978.0",
          "Saint-Gabriel pop: 2664.0",
          "Saint-Gédéon pop: 1542.0",
          "Saint-Georges pop: 26921.0",
          "Saint-Germain-de-Grantham pop: 3485.0",
          "Saint-Henri-de-Lévis pop: 1735.0",
          "Saint-Honoré pop: 2265.0",
          "Saint-Hyacinthe pop: 50032.0",
          "Saint-Jacques pop: 2126.0",
          "Saint-Jean-sur-Richelieu pop: 84685.0",
          "Saint-Jean-Port-Joli pop: 1407.0",
          "Métabetchouan pop: 2123.0",
          "Saint-Jérôme pop: 77146.0",
          "Saint-Joseph-de-Beauce pop: 3695.0",
          "Saint-Joseph-de-Lanoraie pop: 2576.0",
          "Saint-Jovite pop: 5515.0",
          "Saint-Marc-des-Carrières pop: 2134.0",
          "Saint-Michel-des-Saints pop: 1131.0",
          "Saint-Pascal pop: 2471.0",
          "Saint-Pie pop: 2980.0",
          "Saint-Prosper pop: 2319.0",
          "Saint-Raphaël pop: 1113.0",
          "Saint-Raymond pop: 3227.0",
          "Saint-Rémi pop: 6891.0",
          "Saint-Sauveur-des-Monts pop: 7849.0",
          "Saint-Tite pop: 2381.0",
          "Stayner pop: 4029.0",
          "Ste. Anne pop: 2114.0",
          "Sainte-Adèle pop: 5786.0",
          "Sainte-Anne-des-Monts pop: 3277.0",
          "Sainte-Claire pop: 2389.0",
          "Sainte-Croix pop: 1401.0",
          "Sainte-Madeleine pop: 1959.0",
          "Sainte-Marie pop: 11083.0",
          "Sainte-Martine pop: 3931.0",
          "Sainte-Thècle pop: 1333.0",
          "Steinbach pop: 14753.0",
          "Stephenville pop: 7114.0",
          "Stettler pop: 5862.0",
          "Stirling pop: 2030.0",
          "Stonewall pop: 4644.0",
          "Stony Mountain pop: 1800.0",
          "Stratford pop: 31053.0",
          "Strathmore pop: 13592.0",
          "Strathroy pop: 14401.0",
          "Sturgeon Falls pop: 6798.0",
          "Sudbury pop: 88054.0",
          "Summerside pop: 13814.0",
          "Sussex pop: 5298.0",
          "Sutton pop: 7531.0",
          "Swan Hills pop: 1275.0",
          "Swan River pop: 3964.0",
          "Swift Current pop: 16022.0",
          "Cape Breton - Sydney pop: 29904.0",
          "Sydney Mines pop: 12823.0",
          "Sylvan Lake pop: 14942.0",
          "Taber pop: 8548.0",
          "Tavistock pop: 2955.0",
          "Témiscaming pop: 1361.0",
          "Terrace pop: 13663.0",
          "Thamesford pop: 2116.0",
          "The Pas pop: 5368.0",
          "Thessalon pop: 1175.0",
          "Thetford Mines pop: 16174.0",
          "Thompson pop: 12878.0",
          "Thornbury pop: 2485.0",
          "Three Hills pop: 3078.0",
          "Thunder Bay pop: 93952.0",
          "Thurso pop: 2533.0",
          "Tilbury pop: 4768.0",
          "Tillsonburg pop: 15594.0",
          "Tisdale pop: 3136.0",
          "Toronto pop: 5.429524e6",
          "Tottenham pop: 5143.0",
          "Tracadie-Sheila pop: 3184.0",
          "Trois-Pistoles pop: 3058.0",
          "Trois-Rivières pop: 114203.0",
          "Truro pop: 22954.0",
          "Tweed pop: 1701.0",
          "Ucluelet pop: 1576.0",
          "Unity pop: 2475.0",
          "Uxbridge pop: 11832.0",
          "Val-d'Or pop: 25541.0",
          "Valcourt pop: 1806.0",
          "Vallée-Jonction pop: 1268.0",
          "Valley East pop: 17451.0",
          "Salaberry-de-Valleyfield pop: 39048.0",
          "Valleyview pop: 1421.0",
          "Vancouver pop: 2.264823e6",
          "Vanderhoof pop: 1979.0",
          "Vankleek Hill pop: 1742.0",
          "Varennes pop: 20575.0",
          "Vegreville pop: 5436.0",
          "Verchères pop: 4429.0",
          "Vermilion pop: 3617.0",
          "Vernon pop: 48073.0",
          "Victoria pop: 335696.0",
          "Victoriaville pop: 44735.0",
          "Viking pop: 1039.0",
          "Ville-Marie pop: 2113.0",
          "Virden pop: 3082.0",
          "Vulcan pop: 1680.0",
          "Wabana pop: 1325.0",
          "Wadena pop: 1134.0",
          "Wainwright pop: 6153.0",
          "Walkerton pop: 4517.0",
          "Wallaceburg pop: 10098.0",
          "Warwick pop: 3200.0",
          "Waterford pop: 3132.0",
          "Waterloo pop: 3401.0",
          "Watford pop: 1536.0",
          "Watrous pop: 1865.0",
          "West Lorne pop: 1337.0",
          "Westlock pop: 4678.0",
          "Wetaskiwin pop: 12486.0",
          "Weyburn pop: 10679.0",
          "Wheatley pop: 2868.0",
          "Stouffville pop: 32634.0",
          "White Rock pop: 93729.0",
          "Whitecourt pop: 9515.0",
          "Whitehorse pop: 21732.0",
          "Wiarton pop: 1989.0",
          "Wilkie pop: 1149.0",
          "Williams Lake pop: 10508.0",
          "Winchester pop: 2394.0",
          "Windsor pop: 5248.0",
          "Windsor pop: 287069.0",
          "Windsor pop: 5064.0",
          "Wingham pop: 2934.0",
          "Winkler pop: 14311.0",
          "Winnipeg pop: 711925.0",
          "Wolfville pop: 4195.0",
          "Woodstock pop: 4277.0",
          "Woodstock pop: 40404.0",
          "Wynyard pop: 1732.0",
          "Wyoming pop: 2361.0",
          "Yamachiche pop: 1240.0",
          "Yarmouth pop: 7217.0",
          "Yellowknife pop: 18884.0",
          "Yorkton pop: 16041.0",
          "One Hundred Mile House pop: 1811.0",
          "Abbotsford pop: 121279.0",
          "Buckingham pop: 16685.0",
          "Fermont pop: 2288.0",
          "Fort Erie pop: 14621.0",
          "Crystal Beach pop: 8524.0",
          "Gaspé pop: 2609.0",
          "Rivière-au-Renard pop: 1074.0",
          "Keswick - Elmhurst Beach pop: 26757.0",
          "Nobleton pop: 4614.0",
          "Port-Alfred-Bagotville pop: 13865.0",
          "Beamsville pop: 11834.0",
          "Mississauga Beach pop: 4662.0",
          "Dowling pop: 1466.0",
          "Petawawa pop: 13701.0",
          "Port Hardy pop: 3643.0",
          "Sooke pop: 9269.0",
          "Timmins pop: 29331.0",
          "Porcupine pop: 4716.0",
          "Lively pop: 5608.0",
          "Chatham - Douglastown pop: 11329.0",
          "Summerland pop: 8742.0",
          "Cornwall pop: 2460.0",
          "Daveluyville pop: 1236.0",
          "Les Coteaux pop: 17396.0",
          "Paisley pop: 1045.0",
          "Grand Valley pop: 1643.0",
          "Creemore pop: 1170.0",
          "Niverville pop: 4083.0",
          "Warman pop: 10961.0",
          "Nanton pop: 1965.0",
          "Black Diamond pop: 2552.0",
          "Carstairs pop: 3080.0",
          "Gibbons pop: 2661.0",
          "Elkford pop: 1752.0",
          "Logan Lake pop: 1208.0",
          "Maskinongé pop: 1368.0",
          "Colchester pop: 2229.0",
          "Saint-Cyrille-de-Wendover pop: 1216.0",
          "Jarvis pop: 1037.0",
          "Lumsden pop: 1824.0",
          "Sainte-Justine pop: 1077.0",
          "St. Leonard pop: 1099.0",
          "Sundre pop: 1866.0",
          "Tofield pop: 1854.0",
          "Dutton pop: 1368.0",
          "Salmo pop: 1141.0",
          "Blackfalds pop: 8749.0",
          "Jasper pop: 3948.0",
          "Lumby pop: 1303.0",
          "Southampton pop: 3678.0",
          "Châteauguay pop: 71164.0",
          "Sainte-Anne-des-Plaines pop: 10865.0",
          "Sainte-Julienne pop: 3263.0",
          "Danville pop: 1577.0",
          "La Ronge pop: 5671.0",
          "Port McNeill pop: 2064.0",
          "Wembley pop: 1516.0",
          "Penhold pop: 3165.0",
          "Lamont pop: 1347.0",
          "Elk Point pop: 1437.0",
          "Millet pop: 1905.0",
          "Beaumont pop: 17396.0",
          "Pasadena pop: 2800.0",
          "Brownsburg pop: 1425.0",
          "Rockwood pop: 4629.0",
          "Pilot Butte pop: 1800.0",
          "Dalmeny pop: 1769.0",
          "Martensville pop: 9533.0",
          "Bon Accord pop: 1529.0",
          "Crossfield pop: 2973.0",
          "Lions Bay pop: 1334.0",
          "Aldergrove pop: 12007.0",
          "Sicamous pop: 1786.0",
          "Houston pop: 2126.0",
          "Dallas pop: 4479.0",
          "Lac du Bonnet pop: 1089.0",
          "Langham pop: 1319.0",
          "Macklin pop: 1193.0",
          "Saint-Éphrem-de-Tring pop: 1385.0",
          "Le Bic pop: 1115.0",
          "Belmont pop: 1140.0",
          "Tumbler Ridge pop: 1982.0",
          "Hastings pop: 1115.0",
          "Sexsmith pop: 2461.0",
          "St. Jacobs pop: 1988.0",
          "Cookstown pop: 1214.0",
          "Coalhurst pop: 2623.0",
          "Lac-Lapierre pop: 2480.0",
          "St. Adolphe pop: 1362.0",
          "Carlisle pop: 1869.0",
          "Rossland pop: 3219.0",
          "Stony Plain pop: 16271.0",
          "Saint-Sulpice pop: 1753.0",
          "Duck Lake pop: 6982.0",
          "Osgoode pop: 2578.0",
          "Lake Echo pop: 2515.0",
          "Vineland pop: 4074.0",
          "Saint-Canut pop: 10643.0",
          "Mount Albert pop: 4925.0",
          "Saint-Alexandre pop: 1304.0",
          "Bassano pop: 1196.0",
          "Hauterive pop: 11549.0",
          "Humber Arm South pop: 1168.0",
          "Laurier-Station pop: 1894.0",
          "Kingsey Falls pop: 1452.0",
          "Brussels pop: 1158.0",
          "Grand Bend pop: 2684.0",
          "Wellesley pop: 3246.0",
          "Sechelt pop: 8832.0",
          "Mildmay pop: 1219.0",
          "Two Hills pop: 1198.0",
          "Wikwemikong pop: 1342.0",
          "Russell pop: 4464.0",
          "Omemee pop: 1271.0",
          "Millbrook pop: 1695.0",
          "Whistler pop: 8713.0",
          "Athabasca pop: 1250.0",
          "Stoney Point pop: 1087.0",
          "Cultus Lake pop: 1053.0",
          "St. George pop: 3255.0",
          "Drayton pop: 2111.0",
          "Filion pop: 3334.0",
          "Caledon pop: 1482.0",
          "Rankin Inlet pop: 2441.0",
          "Constance Bay pop: 2314.0",
          "Metcalfe pop: 1776.0",
          "Kent pop: 3802.0",
          "Amigo Beach pop: 1545.0",
          "White City pop: 4234.0",
          "Balgonie pop: 1745.0",
          "Everett pop: 1670.0",
          "Wasaga Beach pop: 17808.0",
          "Rougemont pop: 1481.0",
          "Roxton Pond pop: 2301.0",
          "Lac-Alouette pop: 4473.0",
          "Saint-Liboire pop: 1775.0",
          "Carleton pop: 1101.0",
          "Betsiamites pop: 2105.0",
          "Mistissini pop: 2869.0",
          "Chisasibi pop: 2967.0",
          "Notre-Dame-du-Mont-Carmel pop: 1091.0",
          "Saint-Roch-de-l'Achigan pop: 1373.0",
          "Hayes Subdivision pop: 1121.0",
          "Clairmont pop: 1922.0",
          "La Crète pop: 1860.0",
          "Blind Bay pop: 1976.0",
          "Pemberton pop: 1957.0",
          "McEwen pop: 1462.0",
          "Brookside pop: 1441.0",
          "Caledon East pop: 4282.0",
          "Schomberg pop: 2691.0",
          "Saint Grégoire pop: 1400.0",
          "Bromont pop: 3895.0",
          "Calmar pop: 1849.0",
          "Les Cèdres pop: 2233.0",
          "Oka pop: 1254.0",
          "Saint-Augustin pop: 9399.0",
          "Oakbank pop: 4604.0",
          "Langdon pop: 5060.0",
          "Chestermere pop: 19472.0",
          "Irricana pop: 1160.0",
          "Ballantrae pop: 3223.0",
          "Virgil pop: 2937.0",
          "Lorette pop: 2904.0",
          "Regina Beach pop: 1629.0",
          "Crofton pop: 1373.0",
          "Roberts Creek pop: 1848.0",
          "Harrison Hot Springs pop: 1242.0",
          "Stanley 157 pop: 1545.0",
          "Waskaganish pop: 1839.0",
          "Bowden pop: 1240.0",
          "Red Lake pop: 1177.0",
          "Moosonee pop: 1405.0",
          "Cambridge Bay pop: 1619.0",
          "Arviat pop: 2514.0",
          "Still Water Lake pop: 1586.0",
          "Starlight Village pop: 2127.0",
          "Maliotenam pop: 1363.0",
          "Ville Lambert pop: 2443.0",
          "Sainte-Catherine-de-la-Jacques-Cartier pop: 1633.0",
          "Domaine-Ouellet pop: 2894.0",
          "Lac-Simon pop: 1243.0",
          "Manotick Station pop: 5738.0",
          "Bath pop: 1180.0",
          "Binbrook pop: 8794.0",
          "Ilderton pop: 1856.0",
          "Nobleford pop: 1278.0",
          "Aldergrove East pop: 3491.0",
          "Miller's Landing pop: 1097.0",
          "Cowichan Bay pop: 2394.0",
          "Mitchell pop: 2523.0",
          "Moose Lake pop: 1225.0",
          "St. Theresa Point pop: 1038.0",
          "Grunthal pop: 1680.0",
          "Gillam pop: 1036.0",
          "Blumenort pop: 1675.0",
          "Trochu pop: 1058.0",
          "Eckville pop: 1085.0",
          "Kimosom Pwatinahk 203 (Deschambault Lake) pop: 1046.0",
          "Birch Hills pop: 1033.0",
          "Pelican Narrows pop: 1942.0",
          "Welcome Beach pop: 1125.0",
          "Factory Island pop: 1807.0",
          "New Dundee pop: 1119.0",
          "Sunderland pop: 1243.0",
          "Saint-Charles pop: 1482.0",
          "Manawan pop: 1648.0",
          "Terrasse-des-Pins pop: 4268.0",
          "Domaine-C.-L.-C. pop: 1521.0",
          "Saint-Michel pop: 1558.0",
          "L'Ange-Gardien pop: 1585.0",
          "Saint-Alexandre pop: 1093.0",
          "Baker Lake pop: 1690.0",
          "Kugluktuk pop: 1057.0",
          "Osler pop: 1237.0",
          "Massey Drive pop: 1632.0",
          "Upper Island Cove pop: 1142.0",
          "Centreville pop: 1129.0",
          "Enfield - Lantz pop: 6807.0",
          "English Corner pop: 1151.0",
          "Eskasoni 3 pop: 2120.0",
          "Port Williams pop: 1120.0",
          "New Maryland pop: 2219.0",
          "Quispamsis - Rothesay pop: 24445.0",
          "Richibucto 15 pop: 1053.0",
          "Saint-Antoine pop: 1252.0",
          "Wells pop: 1266.0",
          "Angers pop: 6973.0",
          "Beaumont pop: 1210.0",
          "Black Lake pop: 3298.0",
          "Bromptonville pop: 2725.0",
          "Cap-Saint-Ignace pop: 1214.0",
          "Évain pop: 2426.0",
          "Fossambault-sur-le-Lac pop: 2769.0",
          "Godefroy pop: 1410.0",
          "Inukjuak pop: 1312.0",
          "Kuujjuaq pop: 1353.0",
          "Lac-Connelly pop: 1212.0",
          "LeBlanc pop: 1513.0",
          "Maria pop: 1124.0",
          "Melocheville pop: 2621.0",
          "Neuville pop: 2435.0",
          "Obedjiwan pop: 1404.0",
          "Parc-Boutin pop: 1127.0",
          "Pointe-du-Lac pop: 7104.0",
          "Puvirnituq pop: 1038.0",
          "Saint-Amable pop: 9486.0",
          "Saint-Ambroise-de-Kildare pop: 1655.0",
          "Saint-Bernard pop: 1075.0",
          "Saint-Boniface pop: 1035.0",
          "Saint-Chrysostome pop: 1218.0",
          "Sainte-Agathe-des-Monts - Val-David pop: 11108.0",
          "Sainte-Brigitte-de-Laval pop: 3917.0",
          "Saint-Elzéar pop: 1057.0",
          "Saint-Jean-Baptiste pop: 1703.0",
          "Saint-Léonard-d'Aston pop: 1336.0",
          "Saint-Michel-de-Bellechasse pop: 1146.0",
          "Saint-Polycarpe pop: 1165.0",
          "Saint-Prime pop: 1021.0",
          "Saint-Thomas pop: 1395.0",
          "Salluit pop: 1075.0",
          "Shannon pop: 2846.0",
          "Stanstead pop: 1475.0",
          "Stoneham pop: 1854.0",
          "Val-Maher pop: 1668.0",
          "Wemotaci pop: 1038.0",
          "Attawapiskat 91A pop: 1501.0",
          "Azilda pop: 4663.0",
          "Bayfield pop: 1112.0",
          "Bourget pop: 1169.0",
          "Chalk River pop: 1029.0",
          "Chelmsford pop: 6215.0",
          "Chippawa pop: 5620.0",
          "Claremont pop: 1202.0",
          "Cobalt pop: 1118.0",
          "Coniston pop: 1814.0",
          "Corunna pop: 5686.0",
          "Dorchester pop: 3911.0",
          "Haliburton Village pop: 1149.0",
          "Ingleside pop: 1384.0",
          "Innisfil pop: 23992.0",
          "King pop: 6970.0",
          "Limoges pop: 2048.0",
          "Long Sault pop: 1779.0",
          "Marchmont - Bass Lake pop: 1191.0",
          "McGregor pop: 1859.0",
          "New Liskeard pop: 4402.0",
          "Newcastle pop: 9167.0",
          "Oro Station - Hawkestone pop: 1691.0",
          "Palgrave pop: 1044.0",
          "Plattsville pop: 1366.0",
          "Port Colborne pop: 15037.0",
          "Port Rowan pop: 1102.0",
          "Stevensville pop: 1179.0",
          "Tay pop: 5408.0",
          "Welland - Pelham pop: 62388.0",
          "Wendover pop: 1785.0",
          "Arborg pop: 1222.0",
          "Cross Lake 19A pop: 2018.0",
          "Ile des Chênes pop: 1528.0",
          "La Salle pop: 1589.0",
          "Landmark pop: 1237.0",
          "Oak Bluff pop: 1051.0",
          "St-Pierre-Jolys pop: 1170.0",
          "Teulon pop: 1095.0",
          "Battleford pop: 3750.0",
          "Delisle pop: 1038.0",
          "Alberta Beach - Val Quentin pop: 1204.0",
          "Bentley pop: 1027.0",
          "Cold Lake pop: 6678.0",
          "Coleman pop: 1475.0",
          "Duchess pop: 1009.0",
          "Falher pop: 1032.0",
          "Fort Saskatchewan pop: 23895.0",
          "Heritage Pointe pop: 2075.0",
          "Lancaster Park pop: 1501.0",
          "Legal pop: 1135.0",
          "Redcliff pop: 5474.0",
          "Springbrook pop: 1502.0",
          "Turner Valley pop: 2249.0",
          "Vauxhall pop: 1222.0",
          "Westlake pop: 1363.0",
          "Canoe pop: 1081.0",
          "Fairwinds pop: 1147.0",
          "Cobble Hill pop: 3580.0",
          "Keremeos pop: 1714.0",
          "Ladner pop: 22193.0",
          "Mission pop: 33261.0",
          "Naramata pop: 1003.0",
          "Okanagan Falls pop: 2167.0",
          "Peachland pop: 4698.0",
          "Puntledge pop: 1387.0",
          "Rayleigh pop: 1951.0",
          "Rosedale pop: 1741.0",
          "Shawnigan - Mill Bay pop: 7021.0",
          "Telkwa pop: 1160.0",
          "Trail - Fruitvale pop: 12643.0",
          "Tsawwassen pop: 21588.0",
          "Fort Smith pop: 2031.0",
          "Gjoa Haven pop: 1197.0",
          "Howie Centre pop: 1733.0",
          "Placentia pop: 1553.0",
          "Cedar pop: 1674.0"
         ],
         "type": "scattergeo"
        },
        {
         "lat": [
          49.0292,
          48.428821,
          49.05798,
          49.054932,
          49.172018,
          49.23298,
          49.262001,
          49.260742,
          49.059278,
          50.577234,
          49.167398,
          49.232972,
          49.077394,
          49.187112,
          49.860072,
          49.280985,
          50.448974,
          50.720988,
          50.737506,
          49.038359,
          49.150454,
          48.940769,
          49.373711,
          49.253399,
          49.267685,
          49.280985,
          49.027553,
          49.172018,
          49.179555,
          50.1102,
          49.067104,
          49.262639,
          49.229924,
          49.219898,
          49.264084,
          49.076129,
          49.075217,
          49.043287,
          49.272436,
          49.223174,
          49.172955,
          49.26636,
          49.269616,
          50.01634,
          49.184202,
          49.280985,
          49.178077,
          49.178077,
          49.135796,
          49.211505,
          49.885994,
          48.436194,
          49.483353,
          49.316435,
          49.3847,
          49.242179,
          49.168645,
          49.184356,
          49.163548,
          49.252325,
          49.216323,
          49.16638,
          48.928631,
          49.172018,
          49.16638,
          49.458439,
          55.75984,
          50.671374,
          49.280985,
          49.674874,
          49.192914,
          48.42685,
          48.532384,
          49.278285,
          49.280033,
          49.253339,
          49.191987,
          49.152089,
          49.885994,
          50.655161,
          49.05798,
          49.260744,
          48.460496,
          49.119841,
          49.278536,
          49.674392,
          49.143445,
          48.861708,
          49.721265,
          49.721265,
          50.042856,
          49.47512,
          49.492452,
          48.42444,
          49.05798,
          49.26378,
          49.152089,
          49.326776,
          49.150454,
          51.64982,
          49.283293,
          49.221934,
          49.483353,
          50.26676,
          54.2331,
          52.114795,
          49.282973,
          49.284807,
          49.88202,
          49.886319,
          49.901178,
          49.221934,
          50.05007,
          50.5498,
          48.438166,
          49.281743,
          49.219898,
          49.140837,
          49.223174,
          49.150454,
          49.029286,
          48.429117,
          48.439161,
          48.465052,
          48.457248,
          53.25494,
          58.805029,
          48.430064,
          48.438252,
          50.448974,
          49.379483,
          49.198845,
          54.05814,
          49.10107,
          52.982877,
          50.31641,
          49.116016,
          49.051692,
          49.280946,
          49.215134,
          49.263363,
          49.105496,
          49.223174,
          49.034977,
          49.280926,
          50.66648,
          49.21939,
          51.30913,
          48.4153,
          48.474572,
          51.29995,
          49.166133,
          49.21939,
          49.158457,
          50.588149,
          48.94153,
          50.72418,
          53.990521,
          49.261974,
          49.090243,
          49.286103,
          49.21308,
          49.184568,
          49.321875,
          48.415523,
          49.13298,
          49.047949,
          48.99016,
          49.16638,
          50.265318,
          49.379483,
          49.434226,
          49.511052,
          49.202713,
          48.779254,
          49.15379,
          48.825982,
          48.827393,
          48.780465,
          48.778507,
          48.721283,
          48.65055,
          49.91658,
          50.668486,
          50.66648,
          50.675707,
          50.66648,
          49.458439,
          52.126314,
          50.025927,
          48.424638,
          48.431782,
          50.51666,
          49.24966,
          49.880638,
          49.048346,
          49.109878,
          48.409593,
          49.264012,
          50.6856,
          49.279605,
          49.721265,
          49.259247,
          49.152089,
          49.143445,
          50.026249,
          49.229019,
          49.28297,
          49.71371,
          50.287029,
          49.458439,
          49.839934,
          49.49991,
          49.150454,
          49.22119,
          49.19268,
          49.184657,
          49.034977,
          49.13298,
          49.117916,
          48.792346,
          49.26497,
          49.674874,
          49.09983,
          49.49996,
          50.697209,
          49.215843,
          49.47512,
          54.013891,
          49.262867,
          49.220453,
          49.03309,
          52.964568,
          50.121877,
          49.094789,
          48.432946,
          49.16638,
          49.286103,
          49.23288,
          49.881963,
          49.28297,
          49.150454,
          49.249684,
          50.676678,
          49.091666,
          50.265318,
          49.326792,
          49.21939,
          53.9166,
          49.129464,
          49.267132,
          49.413647,
          49.68657,
          49.476938,
          49.200859,
          49.221091,
          49.119581,
          49.839934,
          48.784871,
          49.282662,
          49.270288,
          49.202124,
          50.248817,
          49.263664,
          55.344178,
          55.33637,
          49.280158,
          48.783372,
          50.677569,
          50.689316,
          49.21939,
          49.150454,
          49.278574,
          49.038423,
          49.035421,
          49.166487,
          49.267685,
          49.271236,
          49.287948,
          49.190381,
          48.483249,
          49.035421,
          49.178077,
          49.31947,
          49.47512,
          48.432549,
          49.244642,
          49.24133,
          49.34783,
          49.126427,
          49.166487,
          49.231785,
          49.261802,
          49.176147,
          49.05798,
          49.119517,
          49.25062,
          49.828375,
          50.256801,
          49.675971,
          49.28073,
          49.829445,
          49.458439,
          49.88307,
          49.228651,
          49.281743,
          49.26637,
          49.152089,
          49.172018,
          49.21939,
          49.323599,
          49.16638,
          49.323864,
          49.060143,
          50.6998,
          49.261974,
          50.01634,
          49.060461,
          50.88311,
          48.657057,
          50.24987,
          49.27237,
          49.150454,
          49.489714,
          49.489548,
          49.69925,
          50.126341,
          49.035421,
          49.130349,
          50.26729,
          50.264568,
          55.782237,
          50.256801,
          50.01634,
          50.692843,
          49.323864,
          49.784686,
          49.948077,
          49.198876,
          49.068109,
          49.153848,
          49.26637,
          49.228179,
          49.239444,
          50.5498,
          49.791427,
          48.78056,
          48.647645,
          53.907171,
          55.75984,
          49.227289,
          50.817209,
          50.909873,
          49.095034,
          49.162257,
          49.258451,
          49.104836,
          49.034977,
          49.03223,
          54.39976,
          54.78036,
          49.780848,
          49.35,
          53.914128,
          49.195797,
          49.232065,
          49.275652,
          49.133775,
          50.26729,
          49.323864,
          53.926586,
          50.676504,
          48.91633,
          54.798563,
          49.028586,
          49.294059,
          48.431782,
          51.64982,
          48.995609,
          49.489548,
          49.157368,
          49.180128,
          49.323599,
          48.779275,
          49.28122,
          49.379483,
          50.51666,
          48.64964,
          49.163123,
          51.002454,
          49.343541,
          51.644409,
          49.780848,
          50.6998,
          49.093097,
          49.606946,
          49.19975,
          49.941244,
          49.49991,
          49.47512,
          54.2331,
          49.685491,
          49.16638,
          49.202124,
          49.88307,
          49.280985,
          49.097503,
          49.280874,
          49.095524,
          48.514488,
          48.44883,
          49.002539,
          49.104836,
          49.82969,
          48.37463,
          49.049339,
          49.882742,
          55.696636,
          50.026249,
          49.732095,
          54.51634,
          50.670676,
          50.11225,
          48.861708,
          49.263353,
          49.26894,
          49.165302,
          49.22119,
          49.279227,
          49.03306,
          49.10107,
          49.506706,
          50.007511,
          49.31947,
          49.273046,
          49.283062,
          49.15314,
          49.276701,
          49.038423,
          49.234236,
          48.432956,
          49.249155,
          49.501125,
          49.054742,
          49.115372,
          49.275374,
          49.10107,
          49.17178,
          49.038359,
          49.870935,
          49.223968,
          49.683402,
          49.046502,
          48.415849,
          49.178077,
          49.116766,
          49.279403,
          53.91525,
          49.046502,
          49.263548,
          50.722015,
          49.828375,
          50.672106,
          49.864813,
          49.172018,
          49.152089,
          49.45802,
          49.164099,
          49.103822,
          49.133737,
          49.278841,
          49.266898,
          49.170261,
          49.710357,
          48.43839,
          49.34783,
          49.188553,
          49.458439,
          54.054139,
          49.279337,
          52.97842,
          49.846476,
          49.31947,
          48.654725,
          49.280793,
          49.110359,
          49.096257,
          49.88307,
          49.92906,
          49.228651,
          50.999892,
          48.44883,
          48.91633,
          48.423531,
          50.652591,
          48.414093,
          48.432406,
          49.188351,
          49.828375,
          49.104836,
          49.224897,
          49.13298,
          49.228866,
          49.03223,
          49.0292,
          49.029286,
          49.463254,
          49.184356,
          49.839934,
          49.26636,
          50.120474,
          48.423904,
          49.198845,
          50.1164,
          48.430537,
          49.249722,
          49.119581,
          49.865842,
          49.888993,
          54.2331,
          54.01657,
          49.471423,
          48.99016,
          49.090338,
          49.162426,
          49.184356,
          49.179892,
          49.323864,
          49.264498,
          49.885994,
          50.264568,
          49.290819,
          49.343541,
          49.280985,
          49.10107,
          50.699531,
          49.224175,
          50.265318,
          52.97842,
          54.314893,
          49.202713,
          49.23171,
          49.051692,
          50.66648,
          49.227289,
          49.15502,
          49.03223,
          49.232065,
          49.268469,
          54.51634,
          49.499955,
          49.155611,
          49.13298,
          54.78036,
          49.458439,
          52.128277,
          49.315841,
          49.8863,
          49.841822,
          49.261781,
          49.157538,
          49.316435,
          49.21939,
          55.757456,
          49.49991,
          49.219898,
          49.266521,
          49.19986,
          50.6998,
          48.772109,
          49.140837,
          49.05798,
          49.25062,
          49.152089,
          49.508429,
          48.431035,
          48.648814,
          49.21939,
          51.64982,
          54.051236,
          50.666209,
          49.780848,
          48.78293,
          49.21939,
          49.269616,
          49.271236,
          49.002539,
          49.129464,
          49.187084,
          49.140837,
          49.828383,
          49.260744,
          49.476938,
          53.868161,
          53.909961,
          53.988672,
          54.314313,
          52.972926,
          50.692661,
          49.69925,
          49.039151,
          49.49996,
          54.51634,
          49.162999,
          49.87022,
          52.128277,
          49.119507,
          49.254765,
          49.22119,
          49.28297,
          49.051692,
          50.771942,
          49.15502,
          49.03309,
          49.09987,
          58.80533,
          48.460496,
          49.200859,
          49.10107,
          49.323864,
          49.233132,
          49.27479,
          49.277265,
          49.221934,
          49.292624,
          49.260021,
          49.458439,
          49.262386,
          49.05798,
          48.426977,
          50.029074,
          49.002539,
          52.979167,
          55.75984,
          49.16638,
          49.69925,
          48.426088,
          48.37463,
          49.890772,
          50.256801,
          49.263506,
          49.234889,
          49.267917,
          49.16269,
          49.166545,
          49.684595,
          49.59977,
          48.648814,
          49.326792,
          49.25062,
          50.6998,
          49.266521,
          49.315841,
          48.78293,
          49.092469,
          50.66648,
          49.029347,
          54.51634,
          49.097503,
          49.280996,
          49.03223,
          49.49985,
          49.87022,
          50.671374,
          52.132978,
          49.075529,
          49.49991,
          49.283263,
          49.293133,
          49.10107,
          49.133519,
          50.700093,
          49.458133,
          49.18306,
          49.280985,
          49.780848,
          49.23298,
          49.973118,
          49.227289,
          49.191662,
          50.060438,
          49.8863,
          49.28297,
          49.21939,
          49.13298,
          49.22119,
          48.431782,
          49.316435,
          49.31947,
          49.154372,
          49.152089,
          49.269616,
          49.184584,
          49.20678,
          49.276701,
          49.279473,
          49.237229,
          49.225878,
          49.107851,
          54.31507,
          54.781883,
          54.51868,
          54.054139,
          49.045534,
          50.281969,
          49.26685,
          49.692235,
          49.095524,
          53.990458,
          49.039151,
          49.68294,
          49.275737,
          49.286103,
          50.252736,
          49.261092,
          49.319923,
          49.205656,
          49.690327,
          49.05798,
          49.316435,
          49.495972,
          48.647645,
          49.13298,
          49.205061,
          49.23473,
          49.19735,
          49.73332,
          49.230581,
          49.69925,
          49.882742,
          49.269616,
          50.23194,
          50.260938,
          49.126427,
          48.428839,
          48.791161,
          49.604568,
          49.475073,
          49.403055,
          49.61967,
          49.458439,
          49.249155,
          49.17178,
          49.152089,
          49.319922,
          53.912262,
          49.157538,
          49.269848,
          49.038359,
          49.780848,
          49.236114,
          49.002539,
          53.917541,
          55.24973,
          48.415392,
          49.31947,
          49.231785,
          50.028077,
          49.278645,
          48.784801,
          49.060214,
          49.710357,
          49.721265,
          49.153,
          49.281743,
          49.064778,
          49.002539,
          55.125479,
          50.060647,
          49.233974,
          49.26685,
          54.01657,
          49.230385,
          48.423194,
          48.42465,
          49.251118,
          49.254715,
          48.429428,
          49.19268,
          49.084868,
          49.722744,
          49.26497,
          50.123536,
          50.026249,
          49.839934,
          50.692661,
          49.259226,
          52.113719,
          49.258388,
          49.13298,
          54.31507,
          49.228651,
          49.28297,
          49.224123,
          49.249684,
          49.033872,
          48.803131,
          49.88616,
          49.49985,
          49.48062,
          49.87022,
          49.196803,
          48.496753,
          49.121094,
          49.721265,
          50.26729,
          49.527587,
          52.970033,
          53.863934,
          55.772736,
          49.193528,
          54.51634,
          49.164543,
          49.26379,
          49.10107,
          49.155611,
          49.244356,
          49.21939,
          49.279711,
          49.150454,
          49.280985,
          49.188351,
          49.150454,
          49.246548,
          49.027553,
          49.260869,
          49.246548,
          49.15502,
          49.292624,
          49.269616,
          49.901515,
          49.888736,
          49.501013,
          49.190034,
          50.908101,
          49.87086,
          49.872424,
          49.904146,
          49.952533,
          49.883656,
          50.0622,
          49.4992,
          50.4225,
          49.1817,
          49.840601,
          49.840566,
          49.883701,
          49.91619,
          49.914261,
          49.90265,
          49.880529,
          50.144174,
          49.895267,
          49.504077,
          49.4992,
          49.4992,
          49.893161,
          58.76811,
          49.815663,
          55.741703,
          49.863735,
          49.81852,
          49.893042,
          51.147735,
          51.14699,
          49.877271,
          49.822098,
          53.82509,
          52.106945,
          49.923499,
          49.17787,
          49.2406,
          49.915939,
          49.003831,
          49.919493,
          50.862516,
          49.89762,
          49.901328,
          49.871174,
          49.89459,
          51.082621,
          49.84692,
          54.76824,
          49.931148,
          51.1497,
          50.22569,
          49.55582,
          49.917169,
          49.875515,
          49.878325,
          51.1742,
          50.229095,
          49.189254,
          49.230285,
          49.868317,
          49.867155,
          49.881751,
          49.886006,
          49.909337,
          49.827384,
          49.96923,
          49.973026,
          50.258265,
          49.828947,
          49.913876,
          49.901318,
          49.860141,
          49.851517,
          49.882309,
          49.882484,
          49.93875,
          49.884289,
          49.52579,
          49.895267,
          49.880908,
          49.1817,
          49.928064,
          49.856882,
          49.842015,
          49.861621,
          51.148907,
          50.144956,
          49.966207,
          49.927529,
          49.911766,
          49.947749,
          49.933794,
          49.823733,
          49.910788,
          49.907025,
          49.889579,
          49.932741,
          49.902825,
          49.843779,
          49.271939,
          49.902293,
          49.890101,
          49.84692,
          50.251276,
          49.878833,
          51.230739,
          49.190067,
          49.352095,
          49.910034,
          50.498443,
          49.911887,
          49.88436,
          49.905069,
          50.234311,
          50.22892,
          49.60559,
          56.34745,
          54.62747,
          49.890613,
          49.886378,
          49.868171,
          49.853668,
          49.881682,
          50.14227,
          49.948847,
          49.5331,
          49.905627,
          49.879693,
          49.10469,
          49.879832,
          49.1817,
          49.526168,
          49.51688,
          49.66969,
          49.930234,
          50.631909,
          49.189742,
          54.76867,
          54.764557,
          49.203173,
          50.1489,
          49.982127,
          49.853285,
          49.894889,
          50.130997,
          50.781481,
          49.859461,
          49.925871,
          49.853941,
          49.916977,
          49.894032,
          49.90173,
          49.893258,
          49.895158,
          50.779195,
          49.10469,
          49.88025,
          49.90959,
          49.847938,
          50.134693,
          50.0622,
          49.867971,
          49.847938,
          49.926932,
          49.881708,
          49.887794,
          49.890494,
          50.144956,
          49.945077,
          50.99831,
          49.868875,
          51.222447,
          49.878467,
          50.668502,
          49.84862,
          49.937459,
          50.777815,
          49.894655,
          49.945742,
          49.884289,
          49.924248,
          50.147485,
          49.866563,
          55.745527,
          49.881921,
          49.863476,
          49.924533,
          49.895267,
          49.855763,
          49.900724,
          49.878602,
          49.853668,
          52.106201,
          50.1436,
          50.142313,
          50.150449,
          49.8844,
          50.43781,
          49.884982,
          49.878474,
          49.884057,
          49.190332,
          49.932011,
          49.842302,
          49.824434,
          49.86378,
          49.957212,
          49.81852,
          50.38581,
          53.822857,
          49.867737,
          49.895267,
          49.973085,
          49.525305,
          50.144956,
          49.858579,
          55.741412,
          49.892836,
          49.84692,
          49.938525,
          49.187796,
          49.854215,
          49.529213,
          49.877852,
          54.87903,
          49.853763,
          49.926932,
          49.911119,
          49.824498,
          49.52579,
          49.8844,
          49.508844,
          49.83039,
          49.1817,
          49.909266,
          49.817397,
          49.884057,
          49.881363,
          49.863766,
          51.052422,
          49.903467,
          49.52579,
          49.42623,
          50.13441,
          53.82509,
          49.827287,
          51.151115,
          50.182118,
          50.121351,
          50.142525,
          49.846678,
          52.105349,
          52.106296,
          52.1058,
          49.884752,
          50.631909,
          49.932965,
          49.878819,
          49.878986,
          49.853668,
          49.84692,
          53.822107,
          53.828188,
          49.867737,
          49.894891,
          55.747613,
          49.62941,
          49.357066,
          49.855192,
          49.193843,
          50.156408,
          49.52579,
          49.855688,
          49.847938,
          49.866227,
          51.14499,
          49.975553,
          55.745527,
          49.895267,
          49.896479,
          49.853668,
          54.76824,
          49.924533,
          49.885749,
          49.936363,
          49.853385,
          49.84692,
          49.970582,
          49.885852,
          49.953061,
          49.616567,
          49.181851,
          50.49972,
          49.889436,
          49.912074
         ],
         "lon": [
          -122.780686,
          -123.352762,
          -122.25257,
          -122.324,
          -123.136467,
          -121.76926,
          -123.069422,
          -123.069471,
          -122.471183,
          -126.915144,
          -122.988422,
          -122.593763,
          -117.807014,
          -123.962622,
          -119.551296,
          -122.997475,
          -119.184324,
          -121.280406,
          -119.271692,
          -122.799908,
          -122.89155,
          -125.545235,
          -123.274942,
          -122.892914,
          -122.689284,
          -122.997475,
          -122.799747,
          -123.136467,
          -123.071441,
          -120.789491,
          -122.345171,
          -123.096001,
          -122.994201,
          -123.140105,
          -123.151229,
          -122.67036,
          -122.666538,
          -122.290711,
          -122.771733,
          -122.932914,
          -123.14783,
          -122.95263,
          -123.114817,
          -125.24459,
          -122.812078,
          -122.997475,
          -122.888808,
          -122.888808,
          -122.288496,
          -124.03502,
          -119.425878,
          -123.369771,
          -119.570299,
          -117.664148,
          -123.33622,
          -124.026424,
          -123.940401,
          -123.958646,
          -123.938001,
          -124.123013,
          -124.03353,
          -123.94003,
          -123.719044,
          -123.136467,
          -121.95257,
          -119.578094,
          -120.2403,
          -120.318994,
          -122.997475,
          -124.924234,
          -123.128129,
          -123.363941,
          -123.377355,
          -123.098541,
          -123.100178,
          -122.919024,
          -123.129503,
          -122.841664,
          -119.425878,
          -120.388446,
          -122.25257,
          -122.746465,
          -123.496108,
          -122.655167,
          -123.110205,
          -125.01926,
          -121.978222,
          -123.513476,
          -124.995004,
          -124.995004,
          -125.206008,
          -123.75903,
          -115.748373,
          -123.366825,
          -122.25257,
          -122.989395,
          -122.841664,
          -122.951938,
          -122.89155,
          -121.28594,
          -123.091806,
          -122.94505,
          -119.570299,
          -119.273781,
          -125.7533,
          -122.121322,
          -123.101568,
          -123.063553,
          -119.495043,
          -119.491804,
          -119.453189,
          -122.94505,
          -114.8854,
          -119.15234,
          -123.312134,
          -122.796097,
          -123.140105,
          -121.960056,
          -122.932914,
          -122.89155,
          -122.801112,
          -123.3306,
          -123.370126,
          -123.43043,
          -123.497393,
          -132.08788,
          -122.708149,
          -123.330838,
          -123.364065,
          -119.184324,
          -121.441653,
          -122.786988,
          -124.8504,
          -122.65883,
          -122.498951,
          -122.80273,
          -117.542318,
          -122.331194,
          -123.09874,
          -123.031027,
          -123.113356,
          -121.966958,
          -122.932914,
          -122.31559,
          -122.801751,
          -120.3192,
          -122.60193,
          -116.976435,
          -123.328958,
          -123.336274,
          -116.9689,
          -122.637348,
          -122.60193,
          -122.667046,
          -127.091952,
          -125.54635,
          -127.49496,
          -122.785745,
          -123.098669,
          -123.062905,
          -123.031289,
          -122.937415,
          -123.091519,
          -123.056331,
          -123.327035,
          -122.30258,
          -122.330007,
          -123.81699,
          -121.95257,
          -119.272264,
          -121.441653,
          -123.485454,
          -115.053518,
          -122.911419,
          -123.710473,
          -123.7058,
          -124.053226,
          -124.050489,
          -123.702028,
          -123.707189,
          -123.604691,
          -123.64494,
          -116.91887,
          -120.186557,
          -120.3192,
          -120.334632,
          -120.3192,
          -119.578094,
          -122.137355,
          -119.405131,
          -123.352402,
          -123.39429,
          -116.03538,
          -123.11934,
          -119.458211,
          -122.33104,
          -122.650919,
          -123.510009,
          -123.123308,
          -121.942,
          -122.794326,
          -124.995004,
          -123.035854,
          -122.841664,
          -121.978222,
          -125.241328,
          -124.043523,
          -122.75262,
          -124.959443,
          -119.270652,
          -119.578094,
          -119.618572,
          -115.76879,
          -122.89155,
          -122.68965,
          -122.816946,
          -123.136555,
          -122.31559,
          -122.30258,
          -122.673349,
          -123.736189,
          -124.791436,
          -124.924234,
          -117.70223,
          -115.06871,
          -120.360844,
          -123.030419,
          -123.75903,
          -124.008086,
          -123.111741,
          -122.512498,
          -118.4356,
          -122.466882,
          -120.760198,
          -116.502501,
          -123.39431,
          -121.95257,
          -123.031289,
          -123.123902,
          -119.447619,
          -122.75262,
          -122.89155,
          -122.893966,
          -120.331993,
          -123.086563,
          -119.272264,
          -123.137792,
          -122.60193,
          -122.75301,
          -122.312205,
          -123.00261,
          -123.518393,
          -124.9936,
          -119.577723,
          -122.984126,
          -124.022992,
          -122.708741,
          -119.618572,
          -123.708316,
          -123.107959,
          -123.106099,
          -122.909873,
          -118.955999,
          -123.125127,
          -123.094221,
          -123.09374,
          -123.099261,
          -123.710244,
          -120.349348,
          -120.3578,
          -122.60193,
          -122.89155,
          -123.129295,
          -122.254483,
          -122.29309,
          -123.131495,
          -122.689284,
          -122.741404,
          -123.141142,
          -122.989226,
          -123.396395,
          -122.29309,
          -122.888808,
          -124.31575,
          -123.75903,
          -123.323482,
          -123.064799,
          -124.8028,
          -124.44231,
          -123.184253,
          -123.131495,
          -124.029789,
          -124.952485,
          -123.946941,
          -122.25257,
          -122.659121,
          -124.797829,
          -124.520571,
          -119.271326,
          -124.936882,
          -122.793407,
          -119.62774,
          -119.578094,
          -119.48568,
          -122.601248,
          -122.796097,
          -122.76932,
          -122.841664,
          -123.136467,
          -122.60193,
          -124.441417,
          -121.95257,
          -123.102143,
          -122.705658,
          -119.30237,
          -123.098669,
          -125.24459,
          -122.376633,
          -119.4691,
          -123.416824,
          -117.80226,
          -124.19332,
          -122.89155,
          -117.286499,
          -117.300508,
          -123.15631,
          -122.956461,
          -122.29309,
          -122.893618,
          -119.27337,
          -119.270722,
          -120.279041,
          -119.271326,
          -125.24459,
          -120.360027,
          -123.102143,
          -119.718501,
          -119.389092,
          -119.628635,
          -122.535888,
          -123.936189,
          -122.76932,
          -122.819275,
          -123.053583,
          -119.15234,
          -119.702779,
          -123.28056,
          -123.400307,
          -122.755424,
          -120.2403,
          -122.795615,
          -119.69278,
          -119.448268,
          -117.705914,
          -122.658927,
          -123.238577,
          -122.689032,
          -122.31559,
          -122.82688,
          -126.67008,
          -127.17428,
          -119.572195,
          -119.56667,
          -122.748607,
          -119.555513,
          -123.118855,
          -123.130477,
          -122.332501,
          -119.27337,
          -123.102143,
          -122.802831,
          -120.33499,
          -123.71937,
          -127.191322,
          -118.459743,
          -117.641242,
          -123.39429,
          -121.28594,
          -123.820843,
          -117.300508,
          -122.903962,
          -123.96573,
          -124.441417,
          -123.708327,
          -122.756098,
          -121.441653,
          -116.03538,
          -123.40262,
          -122.638911,
          -118.199239,
          -123.257935,
          -120.044441,
          -119.572195,
          -119.30237,
          -123.085974,
          -119.675546,
          -119.8357,
          -119.43118,
          -115.76879,
          -123.75903,
          -125.7533,
          -124.900507,
          -123.94003,
          -122.909873,
          -119.48568,
          -122.997475,
          -117.711043,
          -123.058285,
          -116.508319,
          -123.52018,
          -123.425693,
          -123.06868,
          -122.689032,
          -119.630457,
          -123.72762,
          -118.206877,
          -119.493495,
          -121.627931,
          -125.241328,
          -114.886968,
          -128.60345,
          -120.226486,
          -120.7942,
          -123.513476,
          -122.779722,
          -123.045648,
          -122.660971,
          -122.68965,
          -123.128405,
          -119.45237,
          -122.65883,
          -115.778805,
          -125.238194,
          -124.31575,
          -123.125063,
          -122.825872,
          -125.90744,
          -122.852449,
          -122.254483,
          -123.153533,
          -123.380867,
          -122.978198,
          -119.610998,
          -122.271638,
          -122.853924,
          -122.946372,
          -122.65883,
          -121.954917,
          -122.799908,
          -125.141724,
          -122.695281,
          -124.991479,
          -122.336984,
          -123.374134,
          -122.888808,
          -122.666709,
          -123.095461,
          -122.765825,
          -122.336984,
          -123.20988,
          -127.493095,
          -124.520571,
          -120.333936,
          -119.491228,
          -123.136467,
          -122.841664,
          -120.51076,
          -121.960605,
          -121.93518,
          -122.862311,
          -123.115953,
          -123.136099,
          -122.578602,
          -124.965591,
          -123.358144,
          -124.44231,
          -122.941178,
          -119.578094,
          -128.652711,
          -123.128157,
          -122.4931,
          -124.517702,
          -124.31575,
          -123.402852,
          -123.087397,
          -122.647748,
          -122.611414,
          -119.48568,
          -119.384485,
          -122.601248,
          -118.184016,
          -123.425693,
          -123.71937,
          -123.366042,
          -120.366741,
          -123.357318,
          -123.32283,
          -122.777198,
          -124.520571,
          -122.689032,
          -123.090403,
          -122.30258,
          -123.000777,
          -122.82688,
          -122.780686,
          -122.801112,
          -119.587841,
          -123.958646,
          -119.618572,
          -122.95263,
          -122.955808,
          -123.353364,
          -122.786988,
          -122.95275,
          -123.33022,
          -122.865528,
          -122.708741,
          -119.563781,
          -119.395652,
          -125.7533,
          -124.01982,
          -123.756351,
          -123.81699,
          -122.607402,
          -122.656089,
          -123.958646,
          -123.969068,
          -123.102143,
          -123.167389,
          -119.425878,
          -119.270722,
          -123.13506,
          -123.257935,
          -122.997475,
          -122.65883,
          -120.362355,
          -122.916321,
          -119.272264,
          -122.4931,
          -130.323269,
          -122.911419,
          -123.031877,
          -122.331194,
          -120.3192,
          -122.795615,
          -121.961339,
          -122.82688,
          -123.118855,
          -123.157857,
          -128.60345,
          -117.282168,
          -123.169836,
          -122.30258,
          -127.17428,
          -119.578094,
          -122.138718,
          -122.993638,
          -119.482752,
          -124.522363,
          -123.068058,
          -123.181116,
          -117.664148,
          -122.60193,
          -120.22456,
          -115.76879,
          -123.140105,
          -122.883743,
          -117.2689,
          -119.30237,
          -123.461841,
          -121.960056,
          -122.25257,
          -124.797829,
          -122.841664,
          -115.751741,
          -123.323727,
          -123.395235,
          -122.60193,
          -121.28594,
          -128.649545,
          -120.351274,
          -119.572195,
          -123.70266,
          -122.60193,
          -123.114817,
          -122.741404,
          -123.06868,
          -122.312205,
          -123.985525,
          -121.960056,
          -119.629065,
          -122.746465,
          -119.577723,
          -122.774998,
          -122.758697,
          -122.791864,
          -130.322244,
          -122.506592,
          -119.32947,
          -123.15631,
          -122.220005,
          -115.06871,
          -128.60345,
          -122.636442,
          -124.54926,
          -122.138718,
          -122.661725,
          -123.236283,
          -122.68965,
          -122.75262,
          -122.331194,
          -120.341971,
          -121.961339,
          -118.4356,
          -116.50211,
          -122.7002,
          -123.496108,
          -122.984126,
          -122.65883,
          -123.102143,
          -122.90136,
          -121.709256,
          -123.12937,
          -122.94505,
          -123.133719,
          -123.138285,
          -119.578094,
          -123.097583,
          -122.25257,
          -123.335039,
          -125.245529,
          -123.06868,
          -122.493949,
          -120.2403,
          -121.95257,
          -123.15631,
          -123.365445,
          -123.72762,
          -119.465809,
          -119.271326,
          -122.858981,
          -123.159794,
          -123.157949,
          -123.158854,
          -123.141065,
          -125.007203,
          -119.66911,
          -123.395235,
          -123.137792,
          -124.797829,
          -119.30237,
          -122.883743,
          -122.993638,
          -123.70266,
          -122.60805,
          -120.3192,
          -119.461366,
          -128.60345,
          -117.711043,
          -123.131603,
          -122.82688,
          -117.28553,
          -124.54926,
          -120.318994,
          -122.145364,
          -122.668954,
          -115.76879,
          -122.828115,
          -122.728211,
          -122.65883,
          -123.151771,
          -120.394362,
          -120.505191,
          -119.5524,
          -122.997475,
          -119.572195,
          -121.76926,
          -125.229811,
          -122.795615,
          -122.848021,
          -119.408932,
          -119.482752,
          -122.75262,
          -122.60193,
          -122.30258,
          -122.68965,
          -123.39429,
          -117.664148,
          -124.31575,
          -123.971689,
          -122.841664,
          -123.114817,
          -123.10275,
          -122.91092,
          -122.852449,
          -123.116883,
          -124.799174,
          -123.002789,
          -121.947292,
          -130.32098,
          -127.16222,
          -128.596526,
          -128.652711,
          -122.782769,
          -119.266722,
          -123.239517,
          -115.969655,
          -116.508319,
          -122.789918,
          -122.220005,
          -124.93613,
          -123.126941,
          -123.031289,
          -119.266037,
          -123.06842,
          -124.316833,
          -123.010135,
          -115.978375,
          -122.25257,
          -117.664148,
          -119.589749,
          -123.400307,
          -122.30258,
          -119.81872,
          -123.167395,
          -123.063463,
          -114.88532,
          -122.817501,
          -123.15631,
          -119.493495,
          -123.114817,
          -121.58196,
          -119.273682,
          -123.184253,
          -123.360882,
          -123.712858,
          -119.677682,
          -123.756308,
          -123.52417,
          -124.02319,
          -119.578094,
          -122.978198,
          -121.954917,
          -122.841664,
          -124.309997,
          -122.780889,
          -123.181116,
          -123.069304,
          -122.799908,
          -119.572195,
          -123.040773,
          -123.06868,
          -122.748593,
          -127.67025,
          -123.375198,
          -124.31575,
          -124.029789,
          -125.254965,
          -122.828298,
          -123.687518,
          -122.798199,
          -124.965591,
          -124.995004,
          -125.906615,
          -122.796097,
          -122.359903,
          -123.06868,
          -120.99975,
          -119.418315,
          -123.03487,
          -123.239517,
          -124.01982,
          -123.090239,
          -123.354613,
          -123.36032,
          -122.900742,
          -123.086279,
          -123.329371,
          -122.816946,
          -117.622227,
          -123.150841,
          -124.791436,
          -120.750664,
          -125.241328,
          -119.618572,
          -119.32947,
          -123.027288,
          -122.12569,
          -122.73781,
          -122.30258,
          -130.32098,
          -122.601248,
          -122.75262,
          -122.999931,
          -122.893966,
          -122.270986,
          -123.725622,
          -119.425295,
          -117.28553,
          -119.58584,
          -124.54926,
          -122.796514,
          -123.390411,
          -122.662799,
          -124.995004,
          -119.27337,
          -115.745749,
          -122.509026,
          -122.784111,
          -120.263287,
          -122.940023,
          -128.60345,
          -123.938057,
          -123.122237,
          -122.65883,
          -123.169836,
          -123.025893,
          -122.60193,
          -123.10763,
          -122.89155,
          -122.997475,
          -122.777198,
          -122.89155,
          -122.748054,
          -122.799747,
          -122.781116,
          -122.748054,
          -121.961339,
          -123.133719,
          -123.114817,
          -97.159541,
          -97.158586,
          -98.004418,
          -98.102481,
          -97.218394,
          -97.090417,
          -97.114177,
          -97.168024,
          -97.05574,
          -97.207381,
          -96.51669,
          -98.00156,
          -101.0484,
          -97.94104,
          -99.938971,
          -99.937663,
          -97.211897,
          -97.1469,
          -97.114631,
          -97.158281,
          -97.286387,
          -96.874354,
          -96.994215,
          -98.001779,
          -98.00156,
          -98.00156,
          -97.169721,
          -94.16674,
          -97.210044,
          -97.853955,
          -97.196541,
          -97.208906,
          -97.156912,
          -100.061038,
          -100.06195,
          -97.234426,
          -97.083081,
          -101.25413,
          -101.260132,
          -97.091216,
          -97.956029,
          -98.53749,
          -97.131968,
          -97.215701,
          -97.155501,
          -98.103731,
          -97.141547,
          -97.208534,
          -99.358528,
          -97.216538,
          -97.602938,
          -99.95306,
          -101.86497,
          -97.06898,
          -100.48865,
          -98.950569,
          -99.29191,
          -97.149758,
          -97.252718,
          -97.273988,
          -100.69867,
          -99.466543,
          -100.493853,
          -100.059363,
          -97.110584,
          -97.081469,
          -97.118944,
          -97.168521,
          -97.133572,
          -99.951899,
          -98.279153,
          -98.287797,
          -96.059349,
          -97.216361,
          -97.138888,
          -97.150081,
          -97.107499,
          -97.100815,
          -97.123419,
          -97.122997,
          -97.116552,
          -97.216715,
          -96.68451,
          -96.994215,
          -97.288381,
          -97.94104,
          -97.072233,
          -97.10508,
          -99.949599,
          -97.187226,
          -100.051166,
          -96.872634,
          -98.778254,
          -97.140636,
          -97.132779,
          -97.182727,
          -97.165016,
          -97.113773,
          -97.133238,
          -97.134144,
          -97.146994,
          -97.206609,
          -97.132555,
          -99.961703,
          -100.993635,
          -97.148883,
          -97.152863,
          -99.95306,
          -99.838551,
          -97.160453,
          -101.348992,
          -98.098542,
          -97.369831,
          -97.133214,
          -99.912847,
          -97.081411,
          -97.175214,
          -97.10634,
          -99.464379,
          -99.46642,
          -97.04234,
          -94.70808,
          -97.777004,
          -97.182429,
          -97.145411,
          -97.255986,
          -97.111622,
          -97.120042,
          -96.876293,
          -97.134027,
          -98.55856,
          -97.172828,
          -97.145062,
          -97.55961,
          -97.202438,
          -97.94104,
          -96.510416,
          -96.50029,
          -96.65,
          -97.122828,
          -97.000384,
          -98.101691,
          -101.877983,
          -101.876499,
          -98.894766,
          -95.88115,
          -98.296331,
          -97.167584,
          -97.005838,
          -97.328169,
          -101.287975,
          -97.165037,
          -97.124742,
          -97.074197,
          -97.119908,
          -97.14186,
          -97.145054,
          -97.164173,
          -97.020869,
          -99.495462,
          -97.55961,
          -97.271553,
          -97.133467,
          -97.077145,
          -97.33073,
          -96.51669,
          -97.161405,
          -97.077145,
          -97.105126,
          -97.294051,
          -97.159938,
          -97.142719,
          -96.872634,
          -97.086283,
          -96.99676,
          -97.12202,
          -101.361186,
          -97.273461,
          -100.81067,
          -99.949595,
          -97.080207,
          -101.276269,
          -97.14634,
          -97.086495,
          -97.216715,
          -97.143407,
          -96.877285,
          -99.96177,
          -97.850873,
          -97.115232,
          -97.133055,
          -97.195351,
          -96.994215,
          -97.102869,
          -96.986487,
          -97.148346,
          -97.111622,
          -101.264651,
          -96.88452,
          -96.870719,
          -96.882673,
          -97.14704,
          -100.59196,
          -97.171515,
          -97.216024,
          -97.123588,
          -97.93125,
          -97.166092,
          -99.937654,
          -97.083787,
          -97.316767,
          -97.094805,
          -97.208906,
          -97.26176,
          -101.250474,
          -97.136935,
          -96.994215,
          -98.289287,
          -96.683426,
          -96.872634,
          -97.167238,
          -97.851767,
          -97.145916,
          -99.95306,
          -97.092387,
          -98.100964,
          -97.071266,
          -96.679568,
          -97.228864,
          -100.0374,
          -97.16611,
          -97.105126,
          -97.028334,
          -97.102157,
          -96.68451,
          -97.14704,
          -96.68721,
          -97.100996,
          -97.94104,
          -97.025196,
          -97.132104,
          -97.123588,
          -97.121393,
          -97.157925,
          -99.523896,
          -97.160925,
          -96.68451,
          -98.754269,
          -97.32676,
          -101.25413,
          -99.953638,
          -100.048266,
          -100.594953,
          -100.031362,
          -96.870407,
          -100.927685,
          -101.268411,
          -101.263159,
          -101.26759,
          -97.123486,
          -97.000384,
          -97.172089,
          -97.219244,
          -97.210198,
          -97.111622,
          -99.95306,
          -101.251069,
          -101.250635,
          -97.136935,
          -97.006345,
          -97.870541,
          -98.69856,
          -97.364246,
          -100.9268,
          -97.936392,
          -96.898165,
          -96.68451,
          -97.158653,
          -97.077145,
          -99.961773,
          -100.054969,
          -98.321759,
          -97.850873,
          -96.994215,
          -97.195571,
          -97.111622,
          -101.86497,
          -97.195351,
          -97.153797,
          -97.118218,
          -99.946114,
          -99.95306,
          -98.304101,
          -97.156759,
          -95.972889,
          -100.257792,
          -97.93945,
          -96.97535,
          -97.147104,
          -97.107416
         ],
         "marker": {
          "color": "green",
          "size": 10
         },
         "type": "scattergeo"
        },
        {
         "hoverinfo": "text",
         "lat": [
          49.198845,
          49.051692,
          49.225844,
          59.785092,
          49.140937,
          49.320258,
          48.426922,
          49.321018,
          49.038359,
          49.152089,
          49.286551,
          49.10635,
          49.262639,
          49.10635,
          49.26636,
          48.696901,
          49.047077,
          49.185612,
          49.27706,
          49.170794,
          49.313175,
          49.038359,
          49.258451,
          49.155659,
          49.170794,
          49.172724,
          49.321018,
          49.213447,
          49.152089,
          49.060135,
          49.05798,
          49.27706,
          49.24966,
          49.038359,
          49.10635,
          49.202124,
          48.423997,
          49.170794,
          49.14399,
          49.27706,
          49.187084,
          53.884408,
          49.26636,
          49.17003,
          49.213447,
          49.21709,
          49.343248,
          null,
          49.237983,
          49.19268,
          49.152089,
          49.286103,
          48.429315,
          49.26636,
          49.176992,
          49.176465,
          49.262639,
          49.038359,
          48.441949,
          48.43294,
          48.427779,
          49.669456,
          49.257164,
          49.257164,
          49.257164,
          49.257164,
          49.152089,
          49.224089,
          49.152089,
          49.256766,
          49.193214,
          46.493607,
          49.249386,
          49.152089,
          49.187062,
          49.184657,
          49.27706,
          48.436934,
          48.43605,
          49.213447,
          49.191526,
          49.19268,
          48.54964,
          49.221947,
          49.202124,
          49.237983,
          49.258282,
          49.26636,
          54.99489,
          48.465052,
          48.445786,
          49.286103,
          49.24966,
          49.24966,
          49.19268,
          49.170919,
          49.261974,
          49.24966,
          49.10635,
          49.88307,
          null,
          49.173571,
          49.278841,
          49.343248,
          49.25403,
          49.234939,
          49.287334,
          49.28297,
          50.668392,
          48.434318,
          49.188351,
          49.285309,
          53.888619,
          null,
          null,
          49.321018,
          49.249386,
          49.839659,
          49.10635,
          48.500672,
          49.219898,
          49.101973,
          49.262639,
          49.321018,
          49.213447,
          49.152089,
          49.038359,
          49.212489,
          48.428514,
          49.05798,
          49.10107,
          49.278841,
          49.261974,
          48.425042,
          49.176147,
          49.1598,
          49.045534,
          48.39781,
          49.21709,
          49.133519,
          49.27706,
          48.43294,
          49.960525,
          49.262639,
          49.740523,
          49.050184,
          49.05798,
          49.320258,
          49.321018,
          49.25403,
          49.27706,
          49.31636,
          49.262639,
          49.242265,
          49.24966,
          49.237983,
          49.28297,
          49.25403,
          49.25403,
          49.281922,
          49.234939,
          49.28297,
          49.16312,
          49.116954,
          49.152089,
          49.17003,
          49.17246,
          49.202124,
          49.060309,
          49.27706,
          49.168284,
          49.263597,
          49.257164,
          48.43605,
          49.26636,
          49.16638,
          49.257193,
          49.10635,
          49.16638,
          49.178077,
          49.10635,
          49.17003,
          49.88307,
          53.923123,
          49.213447,
          49.169284,
          49.152089,
          49.27706,
          49.128334,
          49.27706,
          49.206701,
          49.10107,
          49.10635,
          49.16312,
          49.10635,
          49.25403,
          null,
          49.286103,
          49.20678,
          49.320024,
          49.322966,
          49.321018,
          49.23473,
          49.210534,
          49.28297,
          49.282576,
          null,
          48.39781,
          49.286103,
          49.257164,
          49.133737,
          49.089931,
          49.178077,
          null,
          49.17003,
          58.515507,
          49.10635,
          49.178077,
          49.185736,
          49.321018,
          49.25403,
          49.220453,
          49.218549,
          49.214683,
          49.178077,
          49.05798,
          49.26636,
          49.339497,
          49.839659,
          49.178077,
          49.195547,
          49.106579,
          49.17003,
          49.257164,
          49.17003,
          49.25403,
          49.237983,
          49.326389,
          49.25403,
          49.245293,
          49.249057,
          48.696901,
          49.10635,
          49.215457,
          49.187062,
          54.99489,
          48.499238,
          49.10635,
          49.172724,
          49.865752,
          49.155611,
          48.444956,
          49.337373,
          49.007399,
          49.10107,
          49.007399,
          49.257738,
          null,
          49.36672,
          49.26636,
          49.17003,
          49.10635,
          49.219898,
          49.262639,
          49.227254,
          49.261974,
          49.278841,
          49.188351,
          49.10635,
          49.26225,
          49.218753,
          49.88307,
          49.264925,
          49.173571,
          48.426448,
          50.314003,
          49.157538,
          49.103818,
          49.25403,
          49.300229,
          49.152089,
          49.098831,
          49.213447,
          49.045534,
          49.26911,
          49.262639,
          49.264797,
          49.36672,
          49.227254,
          49.330058,
          49.26636,
          49.202124,
          49.263243,
          49.330498,
          49.17003,
          48.428514,
          49.261974,
          49.237983,
          49.137854,
          49.10107,
          49.865752,
          48.471742,
          48.440045,
          null,
          48.471742,
          49.32862,
          null,
          null,
          49.219898,
          49.102246,
          48.447204,
          49.280165,
          53.923123,
          48.43294,
          49.16312,
          49.237983,
          49.351186,
          49.289784,
          null,
          48.43294,
          49.17003,
          49.224089,
          59.785092,
          49.152089,
          49.150454,
          49.326389,
          49.280985,
          49.045534,
          49.164395,
          49.038359,
          49.281903,
          49.249057,
          49.21709,
          49.178077,
          49.247912,
          49.229929,
          49.31636,
          49.184657,
          59.785092,
          49.116954,
          49.16638,
          null,
          49.261974,
          49.25403,
          49.10635,
          49.315453,
          59.785092,
          49.10635,
          49.213447,
          49.202124,
          49.038359,
          49.20678,
          48.43294,
          48.43294,
          53.335937,
          49.162062,
          49.248745,
          49.187084,
          49.350817,
          49.959714,
          49.14399,
          53.910279,
          49.17003,
          49.17003,
          48.43294,
          48.429315,
          null,
          null,
          49.31636,
          49.309314,
          49.249057,
          49.26636,
          49.168336,
          49.152089,
          49.800693,
          49.26636,
          49.88307,
          49.213447,
          49.01636,
          49.24966,
          49.10635,
          49.150454,
          49.10635,
          49.17003,
          49.262639,
          53.9166,
          49.351186,
          49.280985,
          49.257164,
          48.448202,
          49.17003,
          49.155611,
          48.429315,
          49.262639,
          49.26636,
          49.213447,
          49.10107,
          48.462936,
          49.262639,
          49.244658,
          49.10635,
          53.9166,
          48.696901,
          null,
          48.43294,
          null,
          49.24966,
          null,
          50.66648,
          49.264797,
          49.31636,
          49.144061,
          49.10107,
          48.54964,
          50.121427,
          49.212675,
          49.86563,
          49.16638,
          49.309314,
          null,
          49.321018,
          49.10107,
          49.220453,
          49.26636,
          49.16638,
          49.038359,
          56.895941,
          49.865752,
          49.261781,
          49.317636,
          49.198845,
          49.31636,
          53.9166,
          49.234939,
          49.24966,
          49.137854,
          49.10635,
          49.178077,
          49.28297,
          49.162062,
          49.10635,
          49.05798,
          49.281881,
          49.248173,
          49.25403,
          49.202124,
          49.26636,
          49.245685,
          59.785092,
          49.88307,
          49.10635,
          49.226132,
          49.28298,
          49.257164,
          49.219898,
          49.227254,
          49.213447,
          49.261974,
          49.05798,
          49.351186,
          49.88307,
          49.839659,
          49.237983,
          49.875416,
          49.28297,
          49.21082,
          49.055292,
          49.281863,
          49.178077,
          49.10635,
          48.442176,
          49.286103,
          49.178077,
          49.119581,
          49.038359,
          49.152089,
          49.157538,
          49.257164,
          49.261974,
          49.10635,
          49.26637,
          49.17003,
          49.213447,
          49.176465,
          48.428514,
          49.25403,
          49.202124,
          49.051268,
          48.43605,
          49.21709,
          48.43294,
          49.17246,
          49.155659,
          49.24966,
          49.262537,
          49.126712,
          49.14399,
          49.05798,
          null,
          49.20678,
          49.152089,
          49.150454,
          50.66648,
          49.339497,
          49.16638,
          49.16638,
          48.434318,
          49.170211,
          46.364022,
          49.16312,
          49.188351,
          49.176992,
          49.321018,
          49.257164,
          49.170794,
          49.150454,
          49.263243,
          49.262953,
          49.324839,
          49.263195,
          49.10107,
          null,
          49.05798,
          49.219898,
          49.264797,
          49.170794,
          49.050755,
          49.25403,
          49.923323,
          49.895136,
          49.89326,
          49.8844,
          null,
          49.8844,
          49.8844,
          null,
          49.880009,
          null,
          49.89241,
          null,
          49.8844,
          49.919633,
          49.8844,
          49.911708,
          49.911708,
          49.895444,
          49.904651,
          49.8844,
          49.952317,
          null,
          53.55118,
          49.83001,
          49.878474,
          49.8844,
          49.891612,
          null,
          49.8844,
          44.237201,
          49.199853,
          49.8844,
          49.903397,
          49.8844,
          49.904075,
          49.84692,
          null,
          49.8844,
          49.8844,
          null,
          null,
          49.8844,
          49.8844,
          49.947999,
          49.801454,
          49.897611,
          49.8844,
          43.679544,
          49.8844,
          49.521822,
          null,
          null,
          null,
          null,
          49.937843,
          49.906724,
          49.8844,
          49.8844,
          43.679544,
          null,
          null,
          49.84692,
          null,
          null,
          49.8844,
          49.8844,
          49.878474,
          49.8844,
          43.253854,
          49.8844,
          49.8844,
          49.8844,
          49.824498,
          null,
          49.923179,
          49.853668,
          49.926932,
          49.8844,
          49.868121,
          49.8844,
          49.8844,
          49.8844,
          49.896425,
          49.8844,
          49.8844,
          49.868121,
          49.878474,
          49.944074,
          49.856574,
          49.864279,
          49.8844,
          49.929974,
          49.896671,
          49.8844,
          49.929974,
          49.901745,
          49.8844,
          49.911708,
          49.890558,
          49.8844,
          49.89445,
          49.948715,
          49.8844,
          49.8844,
          49.878474,
          49.8844,
          49.824498,
          49.923179,
          49.868121,
          49.954514,
          49.8844,
          49.8844,
          49.901087,
          49.924533,
          null,
          49.864279,
          49.8844,
          49.877823,
          49.902623,
          49.923179,
          49.818635,
          49.878474,
          49.8844,
          44.72159,
          null,
          null,
          null,
          45.263492,
          49.8844,
          null,
          49.66969,
          49.923179,
          49.911708,
          49.8844,
          49.8844,
          49.8844,
          49.889043,
          49.8844,
          49.8844,
          49.8844,
          49.8844,
          49.896552,
          49.878474,
          49.929974,
          49.864279,
          null,
          49.8844,
          50.659655
         ],
         "lon": [
          -122.786988,
          -122.331194,
          -122.977389,
          -134.944639,
          -122.773234,
          -123.107836,
          -123.347157,
          -123.072348,
          -122.799908,
          -122.841664,
          -123.120916,
          -122.82509,
          -123.096001,
          -122.82509,
          -122.95263,
          -123.457804,
          -122.875286,
          -122.861874,
          -123.065614,
          -122.868057,
          -123.081815,
          -122.799908,
          -123.238577,
          -121.815256,
          -122.868057,
          -123.959447,
          -123.072348,
          -122.937887,
          -122.841664,
          -122.702525,
          -122.25257,
          -123.065614,
          -123.11934,
          -122.799908,
          -122.82509,
          -122.909873,
          -123.357167,
          -122.868057,
          -122.9068,
          -123.065614,
          -123.985525,
          -122.771814,
          -122.95263,
          -123.13683,
          -122.937887,
          -123.064673,
          -123.068524,
          null,
          -123.068585,
          -122.816946,
          -122.841664,
          -123.031289,
          -123.361795,
          -122.95263,
          -122.753373,
          -122.655969,
          -123.096001,
          -122.799908,
          -123.369235,
          -123.3693,
          -123.357812,
          -115.971299,
          -123.089441,
          -123.089441,
          -123.089441,
          -123.089441,
          -122.841664,
          -122.940994,
          -122.841664,
          -123.013939,
          -122.804226,
          -84.075776,
          -122.892765,
          -122.841664,
          -122.785431,
          -123.136555,
          -123.065614,
          -123.312889,
          -123.333662,
          -122.937887,
          -122.84331,
          -122.816946,
          -123.36931,
          -122.961767,
          -122.909873,
          -123.068585,
          -122.964601,
          -122.95263,
          -129.89385,
          -123.43043,
          -123.3711,
          -123.031289,
          -123.11934,
          -123.11934,
          -122.816946,
          -122.87532,
          -123.098669,
          -123.11934,
          -122.82509,
          -119.48568,
          null,
          -122.68227,
          -123.115953,
          -123.068524,
          -123.029302,
          -123.197167,
          -123.005744,
          -122.75262,
          -120.355123,
          -123.381812,
          -122.777198,
          -123.112468,
          -122.769478,
          null,
          null,
          -123.072348,
          -122.892765,
          -119.482181,
          -122.82509,
          -123.50605,
          -123.140105,
          -123.072077,
          -123.096001,
          -123.072348,
          -122.937887,
          -122.841664,
          -122.799908,
          -122.937299,
          -123.358915,
          -122.25257,
          -122.65883,
          -123.115953,
          -123.098669,
          -123.357665,
          -123.946941,
          -121.9459,
          -122.782769,
          -123.61749,
          -123.064673,
          -123.151771,
          -123.065614,
          -123.3693,
          -125.230421,
          -123.096001,
          -123.129111,
          -122.830992,
          -122.25257,
          -123.107836,
          -123.072348,
          -123.029302,
          -123.065614,
          -123.06934,
          -123.096001,
          -123.0416,
          -123.11934,
          -123.068585,
          -122.75262,
          -123.029302,
          -123.029302,
          -123.105221,
          -123.197167,
          -122.75262,
          -122.792145,
          -122.839876,
          -122.841664,
          -123.13683,
          -122.580791,
          -122.909873,
          -122.302132,
          -123.065614,
          -122.799114,
          -123.121382,
          -123.089441,
          -123.333662,
          -122.95263,
          -123.94003,
          -123.139226,
          -122.82509,
          -123.94003,
          -122.888808,
          -122.82509,
          -123.13683,
          -119.48568,
          -122.806159,
          -122.937887,
          -123.182501,
          -122.841664,
          -123.065614,
          -123.184243,
          -123.065614,
          -123.059569,
          -122.65883,
          -122.82509,
          -122.792145,
          -122.82509,
          -123.029302,
          null,
          -123.031289,
          -122.91092,
          -123.075547,
          -123.059976,
          -123.072348,
          -123.167395,
          -123.15075,
          -122.75262,
          -123.103734,
          null,
          -123.61749,
          -123.031289,
          -123.089441,
          -122.862311,
          -122.979477,
          -122.888808,
          null,
          -123.13683,
          -117.126333,
          -122.82509,
          -122.888808,
          -122.756478,
          -123.072348,
          -123.029302,
          -122.512498,
          -123.09345,
          -122.961388,
          -122.888808,
          -122.25257,
          -122.95263,
          -123.114487,
          -119.482181,
          -122.888808,
          -122.560105,
          -122.631953,
          -123.13683,
          -123.089441,
          -123.13683,
          -123.029302,
          -123.068585,
          -123.089469,
          -123.029302,
          -122.96726,
          -122.829877,
          -123.457804,
          -122.82509,
          -122.934213,
          -122.785431,
          -129.89385,
          -123.390997,
          -122.82509,
          -123.959447,
          -119.146072,
          -123.169836,
          -123.333787,
          -123.056295,
          -122.260811,
          -122.65883,
          -122.260811,
          -123.111115,
          null,
          -123.16652,
          -122.95263,
          -123.13683,
          -122.82509,
          -123.140105,
          -123.096001,
          -123.128281,
          -123.098669,
          -123.115953,
          -122.777198,
          -122.82509,
          -123.042626,
          -122.982918,
          -119.48568,
          -123.105063,
          -122.68227,
          -123.328163,
          -122.729335,
          -123.181116,
          -122.490041,
          -123.029302,
          -122.761371,
          -122.841664,
          -122.884104,
          -122.937887,
          -122.782769,
          -123.214999,
          -123.096001,
          -123.183769,
          -123.16652,
          -123.128281,
          -123.094079,
          -122.95263,
          -122.909873,
          -123.170153,
          -123.172648,
          -123.13683,
          -123.358915,
          -123.098669,
          -123.068585,
          -123.147848,
          -122.65883,
          -119.146072,
          -123.352616,
          -123.337232,
          null,
          -123.352616,
          -123.158906,
          null,
          null,
          -123.140105,
          -121.962567,
          -123.465962,
          -123.102599,
          -122.806159,
          -123.3693,
          -122.792145,
          -123.068585,
          -123.266198,
          -123.129403,
          null,
          -123.3693,
          -123.13683,
          -122.940994,
          -134.944639,
          -122.841664,
          -122.89155,
          -123.089469,
          -122.997475,
          -122.782769,
          -122.6685,
          -122.799908,
          -117.214998,
          -122.829877,
          -123.064673,
          -122.888808,
          -123.023814,
          -123.15868,
          -123.06934,
          -123.136555,
          -134.944639,
          -122.839876,
          -121.95257,
          null,
          -123.098669,
          -123.029302,
          -122.82509,
          -124.280345,
          -134.944639,
          -122.82509,
          -122.937887,
          -122.909873,
          -122.799908,
          -122.91092,
          -123.3693,
          -123.3693,
          -111.183402,
          -122.890423,
          -123.099075,
          -123.985525,
          -124.404516,
          -125.234061,
          -122.9068,
          -122.782228,
          -123.13683,
          -123.13683,
          -123.3693,
          -123.361795,
          null,
          null,
          -123.06934,
          -123.040457,
          -122.829877,
          -122.95263,
          -122.907147,
          -122.841664,
          -112.145186,
          -122.95263,
          -119.48568,
          -122.937887,
          -122.8026,
          -123.11934,
          -122.82509,
          -122.89155,
          -122.82509,
          -123.13683,
          -123.096001,
          -122.75301,
          -123.266198,
          -122.997475,
          -123.089441,
          -123.337429,
          -123.13683,
          -123.169836,
          -123.361795,
          -123.096001,
          -122.95263,
          -122.937887,
          -122.65883,
          -123.386205,
          -123.096001,
          -122.810124,
          -122.82509,
          -122.75301,
          -123.457804,
          null,
          -123.3693,
          null,
          -123.11934,
          null,
          -120.3192,
          -123.183769,
          -123.06934,
          -123.19359,
          -122.65883,
          -123.36931,
          -122.93677,
          -122.815105,
          -119.145556,
          -121.95257,
          -123.040457,
          null,
          -123.072348,
          -122.65883,
          -122.512498,
          -122.95263,
          -123.94003,
          -122.799908,
          -121.250291,
          -119.146072,
          -123.068058,
          -123.089597,
          -122.786988,
          -123.06934,
          -122.75301,
          -123.197167,
          -123.11934,
          -123.147848,
          -122.82509,
          -122.888808,
          -122.75262,
          -122.890423,
          -122.82509,
          -122.25257,
          -123.124969,
          -123.098101,
          -123.029302,
          -122.909873,
          -122.95263,
          -122.997971,
          -134.944639,
          -119.48568,
          -122.82509,
          -123.11812,
          -123.049331,
          -123.089441,
          -123.140105,
          -123.128281,
          -122.937887,
          -123.098669,
          -122.25257,
          -123.266198,
          -119.48568,
          -119.482181,
          -123.068585,
          -119.488232,
          -122.75262,
          -122.905853,
          -122.316623,
          -123.123839,
          -122.888808,
          -122.82509,
          -123.469686,
          -123.031289,
          -122.888808,
          -122.708741,
          -122.799908,
          -122.841664,
          -123.181116,
          -123.089441,
          -123.098669,
          -122.82509,
          -122.76932,
          -123.13683,
          -122.937887,
          -122.655969,
          -123.358915,
          -123.029302,
          -122.909873,
          -122.842836,
          -123.333662,
          -123.064673,
          -123.3693,
          -122.580791,
          -121.815256,
          -123.11934,
          -123.059629,
          -122.888841,
          -122.9068,
          -122.25257,
          null,
          -122.91092,
          -122.841664,
          -122.89155,
          -120.3192,
          -123.114487,
          -123.94003,
          -121.95257,
          -123.381812,
          -123.144622,
          -66.566883,
          -122.792145,
          -122.777198,
          -122.753373,
          -123.072348,
          -123.089441,
          -122.868057,
          -122.89155,
          -123.170153,
          -123.063767,
          -123.113344,
          -123.10413,
          -122.65883,
          null,
          -122.25257,
          -123.140105,
          -123.183769,
          -122.868057,
          -122.26036,
          -123.029302,
          -97.153295,
          -97.185236,
          -97.20057,
          -97.14704,
          null,
          -97.14704,
          -97.14704,
          null,
          -97.203048,
          null,
          -97.14708,
          null,
          -97.14704,
          -97.213584,
          -97.14704,
          -97.053601,
          -97.053601,
          -97.051031,
          -97.199666,
          -97.14704,
          -95.969321,
          null,
          -113.143169,
          -100.29619,
          -97.216024,
          -97.14704,
          -97.139498,
          null,
          -97.14704,
          -76.493413,
          -98.894906,
          -97.14704,
          -97.156352,
          -97.14704,
          -97.135082,
          -99.95306,
          null,
          -97.14704,
          -97.14704,
          null,
          null,
          -97.14704,
          -97.14704,
          -97.152778,
          -97.1591,
          -97.198939,
          -97.14704,
          -79.298336,
          -97.14704,
          -96.655492,
          null,
          null,
          null,
          null,
          -97.209788,
          -97.153982,
          -97.14704,
          -97.14704,
          -79.298336,
          null,
          null,
          -99.95306,
          null,
          null,
          -97.14704,
          -97.14704,
          -97.216024,
          -97.14704,
          -79.862839,
          -97.14704,
          -97.14704,
          -97.14704,
          -97.102157,
          null,
          -97.126986,
          -97.111622,
          -97.105126,
          -97.14704,
          -97.161405,
          -97.14704,
          -97.14704,
          -97.14704,
          -97.158997,
          -97.14704,
          -97.14704,
          -97.161405,
          -97.216024,
          -97.151758,
          -97.194067,
          -97.206181,
          -97.14704,
          -97.168025,
          -97.200368,
          -97.14704,
          -97.168025,
          -97.157485,
          -97.14704,
          -97.053601,
          -97.296427,
          -97.14704,
          -97.02527,
          -97.132856,
          -97.14704,
          -97.14704,
          -97.216024,
          -97.14704,
          -97.102157,
          -97.126986,
          -97.161405,
          -97.199626,
          -97.14704,
          -97.14704,
          -97.157966,
          -97.195351,
          null,
          -97.206181,
          -97.14704,
          -99.961769,
          -97.065803,
          -97.126986,
          -97.157206,
          -97.216024,
          -97.14704,
          -76.56915,
          null,
          null,
          null,
          -75.287396,
          -97.14704,
          null,
          -96.65,
          -97.126986,
          -97.053601,
          -97.14704,
          -97.14704,
          -97.14704,
          -97.152965,
          -97.14704,
          -97.14704,
          -97.14704,
          -97.14704,
          -97.163898,
          -97.216024,
          -97.168025,
          -97.206181,
          null,
          -97.14704,
          -99.975127
         ],
         "marker": {
          "color": "red",
          "size": 10
         },
         "text": [
          "13444 108 Ave, Surrey, BC  V3T 2K1, Canada zip: V3T 2K1",
          "6 - 33324 South Fraser Way, Abbotsford, BC  V2S 2B4, Canada zip: V2S 2B4",
          "118 - 5589 Byrne Rd, Burnaby, BC  V5J 3J1, Canada zip: V5J 3J1",
          "106 - 27105 Fraser Hwy, Aldergrove, BC  V4W 3R2, Canada zip: V4W 3R2",
          "101 - 12827 76 Ave, Surrey, BC  V3W 2V3, Canada zip: V3W 2V3",
          "127 3rd St W, North Vancouver, BC  V7M 1E7, Canada zip: V7M 1E7",
          "888 Pandora Ave, Victoria, BC  V8W 1P4, Canada zip: V8W 1P4",
          "102 - 88 Lonsdale Ave, North Vancouver, BC  V7M 2E6, Canada zip: V7M 2E6",
          "206 - 2828 152 St, Surrey, BC  V4P 1G6, Canada zip: V4P 1G6",
          "10519 King George Blvd, Surrey, BC  V3T 2X1, Canada zip: V3T 2X1",
          "400 - 1055 Dunsmuir St\nPO Box 49326 - Van Stn Bentall Centre, Vancouver, BC  V7X 1L4, Canada zip: V7X 1L4",
          "#101 - 19211 Fraser Hwy, Surrey, BC  V3S 7C9, Canada zip: V3S 7C9",
          "845 Broadway W, Vancouver, BC  V5Z 1J9, Canada zip: V5Z 1J9",
          "1673 - 128 Street, Surrey, BC  V4A 3V2, Canada zip: V4A 3V2",
          "4451 Lougheed Hwy, Burnaby, BC  V5C 3Z2, Canada zip: V5C 3Z2",
          "7143 W. Saanich Road, Brentwood Bay, BC  V8M 1P7, Canada zip: V8M 1P7",
          "105 - 11267 125A St, Surrey, BC  V3V 8C5, Canada zip: V3V 8C5",
          "#202 - 8322 130 St, Surrey, BC  V3W 8J9, Canada zip: V3W 8J9",
          "5853 Victoria Drive, Vancouver, BC  V5P 3W5, Canada zip: V5P 3W5",
          "177 - 8138 128 St, Surrey, BC  V3W 1R1, Canada zip: V3W 1R1",
          "108 - 930 1st St W, North Vancouver, BC  V7P 3N4, Canada zip: V7P 3N4",
          "107 - 8927 152 St, Surrey, BC  V3R 4E5, Canada zip: V3R 4E5",
          "3317 Wesbrook Mall, Vancouver, BC  V6S 0B1, Canada zip: V6S 0B1",
          "Unit A - 46298 Yale Rd, Chilliwack, BC  V2P 2P6, Canada zip: V2P 2P6",
          "10269 128 St, Surrey, BC  V3T 2Z2, Canada zip: V3T 2Z2",
          "#16 - 2220 Bowen Road, Nanaimo, BC  V9S 1H9, Canada zip: V9S 1H9",
          "1562 Lonsdale Ave, North Vancouver, BC  V7M 2J3, Canada zip: V7M 2J3",
          "3963 Kingsway, Burnaby, BC  V5H 1Y7, Canada zip: V5H 1Y7",
          "105 - 9093 King George Blvd., Surrey, BC  V3V 5V7, Canada zip: V3V 5V7",
          "102 - 7170 188 St, Surrey, BC  V4N 6R4, Canada zip: V4N 6R4",
          "#1 - 2629 Cedar Park Place, Abbotsford, BC  V2T 3S4, Canada zip: V2T 3S4",
          "4918 Victoria Drive, Vancouver, BC  V5P 3T6, Canada zip: V5P 3T6",
          "Unit B - 622 Bute St, Vancouver, BC  V6E 3M1, Canada zip: V6E 3M1",
          "101 - 10183 152A St, Surrey, BC  V3R 4H6, Canada zip: V3R 4H6",
          "103 - 15420 Fraser Hwy, Surrey, BC  V3R 3P5, Canada zip: V3R 3P5",
          "317 Columbia St E, New Westminster, BC  V3L 3W8, Canada zip: V3L 3W8",
          "210 - 990 Fort Street, Victoria, BC  V8V 3K2, Canada zip: V8V 3K2",
          "#102 - 9648 - 128th St, Surrey, BC  V3T 2X9, Canada zip: V3T 2X9",
          "Unit 5 - 1080 Cliveden Ave, Delta, BC  V3M 6G6, Canada zip: V3M 6G6",
          "5316 Victoria Dr, Vancouver, BC  V5P 3V7, Canada zip: V5P 3V7",
          "6700 Island Highway, Nanaimo, BC  V9V 1K8, Canada zip: V9V 1K8",
          "2555 Range Road, Prince George, BC  V2N 4G8, Canada zip: V2N 4G8",
          "4500 Still Creek Dr, Burnaby, BC  V5C 0E5, Canada zip: V5C 0E5",
          "Unit 103 - 7435 Nelson Rd, Richmond, BC  V6W 1G3, Canada zip: V6W 1G3",
          "1611 - 4500 Kingsway, Burnaby, BC  V5H 2A9, Canada zip: V5H 2A9",
          "1232 Davie St, Vancouver, BC  V6E 1N3, Canada zip: V6E 1N3",
          "1401 St. Georges Ave., North Vancouver, BC  V7L 3J3, Canada zip: V7L 3J3",
          "1111 Springfield Road, Kelowna, BC  V1Y 8R7, Canada zip: V1Y 8R7",
          "2021 Commercial Drive, Vancouver, BC  V5N 4B1, Canada zip: V5N 4B1",
          "102 - 14045 104 Ave, Surrey, BC  V3T 1X4, Canada zip: V3T 1X4",
          "#101 - 10663 King George Blvd, Surrey, BC  V3T 2X6, Canada zip: V3T 2X6",
          "398 Hastings St E, Vancouver, BC  V6A 1P4, Canada zip: V6A 1P4",
          "3540 Blanshard St, Victoria, BC  V8X 1W3, Canada zip: V8X 1W3",
          "Unit 125 - 2250 Boundary Rd, Burnaby, BC  V5M 3Z3, Canada zip: V5M 3Z3",
          "12815B  96 Ave, Surrey, BC  V3V 6V9, Canada zip: V3V 6V9",
          "5581 204 St, Langley, BC  V3A 1Z4, Canada zip: V3A 1Z4",
          "1111 West Broadway, Vancouver, BC  V6H 1G1, Canada zip: V6H 1G1",
          "305 - 9014 152 St, Surrey, BC  V3R 4E7, Canada zip: V3R 4E7",
          "1 - 101 Burnside Rd, Victoria, BC  V9A 1B7, Canada zip: V9A 1B7",
          "Unit 111 - 755 Goldstream Ave, Victoria, BC  V9B 2X4, Canada zip: V9B 2X4",
          "922 Pandora Ave, Victoria, BC  V8V 3P3, Canada zip: V8V 3P3",
          "#300 - 9730 - 101st Ave, Fort St. John, BC  V1J 2A8, Canada zip: V1J 2A8",
          "3373 Fraser Street, Vancouver, BC  V5V 4C2, Canada zip: V5V 4C2",
          "4127 Fraser St, Vancouver, BC  V5V 4E9, Canada zip: V5V 4E9",
          "4207 Fraser St, Vancouver, BC  V5V 4G1, Canada zip: V5V 4G1",
          "6448 Fraser St., Vancouver, BC  V5W 3A4, Canada zip: V5W 3A4",
          "#101 - 10677 King George Blvd, Surrey, BC  V3T 2X6, Canada zip: V3T 2X6",
          "4315 Canada Way, Burnaby, BC  V5G 1J3, Canada zip: V5G 1J3",
          "101 - 10751 King George Blvd, Surrey, BC  V3T 2X6, Canada zip: V3T 2X6",
          "320 Gilmore Ave, Burnaby, BC  V5C 4R1, Canada zip: V5C 4R1",
          "105-106, 19515 - 56th Ave, Surrey, BC  V3S 6K3, Canada zip: V3S 6K3",
          "Bay B\n417 304th St, Marysville, BC  V1A 3H4, Canada zip: V1A 3H4",
          "210 - 329 North Rd, Coquitlam, BC  V3K 3V8, Canada zip: V3K 3V8",
          "103 - 6321 King George Blvd, Surrey, BC  V3X 1G1, Canada zip: V3X 1G1",
          "200 - 15135 101 Ave, Surrey, BC  V3R 7Z1, Canada zip: V3R 7Z1",
          "170 - 8980 No. 3 Rd, Richmond, BC  V6Y 2E8, Canada zip: V6Y 2E8",
          "5448 Victoria Drive, Vancouver, BC  V5P 3V8, Canada zip: V5P 3V8",
          "3825 Cadboro Bay Road, Victoria, BC  V8N 4G1, Canada zip: V8N 4G1",
          "3643 Shelbourne Street, Victoria, BC  V8P 4H1, Canada zip: V8P 4H1",
          "#102 - 7188 Kingsway, Burnaby, BC  V5E 1G3, Canada zip: V5E 1G3",
          "110 - 6245 136 St, Surrey, BC  V3X 1H3, Canada zip: V3X 1H3",
          "103 - 13805 104 Ave, Surrey, BC  V3T 1W7, Canada zip: V3T 1W7",
          "#103 - 7784 East Saanich Road, Saanichton, BC  V8M 2B3, Canada zip: V8M 2B3",
          "4648 Imperial St, Burnaby, BC  V5J 1B8, Canada zip: V5J 1B8",
          "447 East Columbia Street, New Westminster, BC  V3L 3X3, Canada zip: V3L 3X3",
          "1623 Commercial Dr, Vancouver, BC  V5L 3Y3, Canada zip: V5L 3Y3",
          "7944 Winston St, Burnaby, BC  V5A 2H5, Canada zip: V5A 2H5",
          "Unit 1 - 4655 Central Blvd, Burnaby, BC  V5H 4J5, Canada zip: V5H 4J5",
          "Unit A - 845 Deloume Rd\nRR 2, Mill Bay, BC  V0R 2P2, Canada zip: V0R 2P2",
          "#106 - 284 Helmcken Road, Victoria, BC  V9B 1T2, Canada zip: V9B 1T2",
          "211 - 3214 Douglas St, Victoria, BC  V8Z 3K6, Canada zip: V8Z 3K6",
          "410 East Hastings Street, Vancouver, BC  V6A 1P7, Canada zip: V6A 1P7",
          "Unit 290 - 2083 Alma St., Vancouver, BC  V6R 4N6, Canada zip: V6R 4N6",
          "5591 West Boulevard, Vancouver, BC  V6M 3W6, Canada zip: V6M 3W6",
          "102 - 14333 104 Ave, Surrey, BC  V3T 0E1, Canada zip: V3T 0E1",
          "10051 Whalley Blvd, Surrey, BC  V3T 4G1, Canada zip: V3T 4G1",
          "1671 Kingsway, Vancouver, BC  V5N 2S2, Canada zip: V5N 2S2",
          "5413 West Blvd, Vancouver, BC  V6M 3W5, Canada zip: V6M 3W5",
          "North Surrey Medical Building\n#100 - 9656 King George Blvd, Surrey, BC  V3T 2V5, Canada zip: V3T 2V5",
          "#112A - 2365 Gordon Drive, Kelowna, BC  V1W 3C2, Canada zip: V1W 3C2",
          "374B Stuart Dr W\nBox 760, Fort St. James, BC  V0J 1P0, Canada zip: V0J 1P0",
          "#101 - 13710  94A Ave, Surrey, BC  V3V 1N1, Canada zip: V3V 1N1",
          "1519 Robson St, Vancouver, BC  V6G 1C3, Canada zip: V6G 1C3",
          "1309 St. Georges Ave, North Vancouver, BC  V7L 3J2, Canada zip: V7L 3J2",
          "4484 Main Street, Vancouver, BC  V5V 3R3, Canada zip: V5V 3R3",
          "350 Marine Dr SE, Vancouver, BC  V5X 2S5, Canada zip: V5X 2S5",
          "1105 Eaton Centre\n4700 Kingsway, Burnaby, BC  V5H 4M1, Canada zip: V5H 4M1",
          "1301 Lougheed Highway, Coquitlam, BC  V3K 6P9, Canada zip: V3K 6P9",
          "910 Columbia Street W., Kamloops, BC  V2C 1L2, Canada zip: V2C 1L2",
          "835 Langford Pky, Victoria, BC  V9B 4V5, Canada zip: V9B 4V5",
          "2332 160 St, Surrey, BC  V3Z 0R5, Canada zip: V3Z 0R5",
          "333 Seymour Blvd., North Vancouver, BC  V7J 2J4, Canada zip: V7J 2J4",
          "2155 Ferry Ave, Prince George, BC  V2N 5E8, Canada zip: V2N 5E8",
          "2280 Baron Rd, Kelowna, BC  V1X 7W3, Canada zip: V1X 7W3",
          "Unit 1 - 9831 98A Ave, Fort St. John, BC  V1J 1S3, Canada zip: V1J 1S3",
          "1650 Lonsdale Ave, North Vancouver, BC  V7M 2J3, Canada zip: V7M 2J3",
          "455 North Rd, Coquitlam, BC  V3K 3V9, Canada zip: V3K 3V9",
          "127 - 1835 Gordon Drive, Kelowna, BC  V1Y 3H4, Canada zip: V1Y 3H4",
          "18765 Fraser Hwy\nRR 10, Surrey, BC  V3S 8E7, Canada zip: V3S 8E7",
          "1900 Garibaldi Way\nBox 190, Garibaldi Highlands, BC  V0N 1T0, Canada zip: V0N 1T0",
          "710 Granville St, Vancouver, BC  V6Z 1E4, Canada zip: V6Z 1E4",
          "Westminster Centre\n#100 - 555 Sixth St, New Westminster, BC  V3L 5H1, Canada zip: V3L 5H1",
          "525 Broadway W, Vancouver, BC  V5Z 1E6, Canada zip: V5Z 1E6",
          "2032 Lonsdale Ave., North Vancouver, BC  V7M 2K5, Canada zip: V7M 2K5",
          "4970 Kingsway, Burnaby, BC  V5H 2E2, Canada zip: V5H 2E2",
          "10348 King George Blvd, Surrey, BC  V3T 2W5, Canada zip: V3T 2W5",
          "2300 10355 152nd St, Surrey, BC  V3R 7B9, Canada zip: V3R 7B9",
          "London Plaza\n5971 No. 3 Road, Richmond, BC  V6X 2E3, Canada zip: V6X 2E3",
          "#127 - 3995 Quadra St., Victoria, BC  V8X 1J8, Canada zip: V8X 1J8",
          "West Oaks Mall\n#26 - 32700 S. Fraser Way, Abbotsford, BC  V2T 4M5, Canada zip: V2T 4M5",
          "Unit B1 - 20202  66 Ave, Langley, BC  V2Y 1P3, Canada zip: V2Y 1P3",
          "1187 Robson St., Vancouver, BC  V6E 1B5, Canada zip: V6E 1B5",
          "3328 Kingsway, Vancouver, BC  V5R 5L1, Canada zip: V5R 5L1",
          "#201 - 911 Yates St., Victoria, BC  V8V 3M4, Canada zip: V8V 3M4",
          "#2 - 650 Terminal Ave, Nanaimo, BC  V9R 5E2, Canada zip: V9R 5E2",
          "Cottonwood Mall\n#21 - 45585 Luckakuck Way, Chilliwack, BC  V2R 1A1, Canada zip: V2R 1A1",
          "#100 - 15355 - 24 Ave, Surrey, BC  V4A 2H9, Canada zip: V4A 2H9",
          "1907 Sooke Rd, Victoria, BC  V9B 1V8, Canada zip: V9B 1V8",
          "1650 Davie Street, Vancouver, BC  V6G 1V9, Canada zip: V6G 1V9",
          "#3200 - 11666 Steveston Hwy., Richmond, BC  V7A 5J3, Canada zip: V7A 5J3",
          "5639 Victoria Drive, Vancouver, BC  V5P 3W2, Canada zip: V5P 3W2",
          "Box 3\n3170 Tillicum Road, Victoria, BC  V9A 7C5, Canada zip: V9A 7C5",
          "Mariner Square\n#260 - 1400 Dogwood St, Campbell River, BC  V9W 3A6, Canada zip: V9W 3A6",
          "2230 Broadway W, Vancouver, BC  V6K 2E3, Canada zip: V6K 2E3",
          "Garibaldi Village\nUnit G - 40282 Glenalder Pl, Squamish, BC  V8B 0G2, Canada zip: V8B 0G2",
          "#130 - 15850 26 Ave, Surrey, BC  V3Z 2N6, Canada zip: V3Z 2N6",
          "Highstreet Mall\nL110 - 3122 Mt Lehman Rd, Abbotsford, BC  V2T 0C5, Canada zip: V2T 0C5",
          "105 3rd St E, North Vancouver, BC  V7M 2G1, Canada zip: V7M 2G1",
          "1531 Lonsdale Ave, North Vancouver, BC  V7M 2J2, Canada zip: V7M 2J2",
          "535 Main St., Vancouver, BC  V6A 2V1, Canada zip: V6A 2V1",
          "#7 - 5579 Victoria Dr, Vancouver, BC  V5P 3W2, Canada zip: V5P 3W2",
          "104 - 1200 Lynn Valley Rd, North Vancouver, BC  V7J 2A2, Canada zip: V7J 2A2",
          "2188 W. Broadway, Vancouver, BC  V6K 2C8, Canada zip: V6K 2C8",
          "Fairmont Medical Bldg.\n746 W. Broadway, Vancouver, BC  V5Z 1G8, Canada zip: V5Z 1G8",
          "2nd Floor - 148 West 6th Ave, Vancouver, BC  V5Y 1K6, Canada zip: V5Y 1K6",
          "2591 Commercial Dr, Vancouver, BC  V5N 4C1, Canada zip: V5N 4C1",
          "Rm.108 - 1015 Austin Ave., Coquitlam, BC  V3K 3N9, Canada zip: V3K 3N9",
          "1149 Main St, Vancouver, BC  V6A 4B6, Canada zip: V6A 4B6",
          "7297 Main St, Vancouver, BC  V5X 3J3, Canada zip: V5X 3J3",
          "15 E. Hastings St., Vancouver, BC  V6A 1M9, Canada zip: V6A 1M9",
          "239 Marine Dr SE, Vancouver, BC  V5X 2S4, Canada zip: V5X 2S4",
          "#201B - 1194 Lansdowne Dr, Coquitlam, BC  V3E 1J7, Canada zip: V3E 1J7",
          "110 - 13588 88 Ave, Surrey, BC  V3W 3K8, Canada zip: V3W 3K8",
          "9839 138 St, Surrey, BC  V3T 5E3, Canada zip: V3T 5E3",
          "10225 King George Blvd, Surrey, BC  V3T 2W6, Canada zip: V3T 2W6",
          "Unit 190 - 7031 Westminster Hwy, Richmond, BC  V6X 1A3, Canada zip: V6X 1A3",
          "20435 Douglas Cres, Langley, BC  V3A 4B6, Canada zip: V3A 4B6",
          "413 East Columbia St., New Westminster, BC  V3L 0B4, Canada zip: V3L 0B4",
          "#9 - 31205 MacLure Rd, Abbotsford, BC  V2T 5E5, Canada zip: V2T 5E5",
          "6495 Victoria Dr., Vancouver, BC  V5P 3X5, Canada zip: V5P 3X5",
          "Fleetwood Professional Centre\n#104 - 16088 - 84th Ave, Surrey, BC  V4N 0V9, Canada zip: V4N 0V9",
          "#101 - 777 West Broadway, Vancouver, BC  V5Z 4J7, Canada zip: V5Z 4J7",
          "6180 Fraser St, Vancouver, BC  V5W 3A1, Canada zip: V5W 3A1",
          "#4 - 4071 Shelbourne St, Victoria, BC  V8N 5Y1, Canada zip: V8N 5Y1",
          "Unit M41 - 4277 Kingsway, Burnaby, BC  V5H 3Z2, Canada zip: V5H 3Z2",
          "2A - 1834 Cedar Rd, Nanaimo, BC  V9X 1H9, Canada zip: V9X 1H9",
          "#6 - 3195 Granville St., Vancouver, BC  V6H 3K2, Canada zip: V6H 3K2",
          "#303 - 15988 Fraser Hwy, Surrey, BC  V4N 0X8, Canada zip: V4N 0X8",
          "A - 4186 Departure Bay Rd, Nanaimo, BC  V9T 4B7, Canada zip: V9T 4B7",
          "#2 - 8181 - 120A Street, Surrey, BC  V3W 3P2, Canada zip: V3W 3P2",
          "Unit 12 - 6828 128 St, Surrey, BC  V3W 4C9, Canada zip: V3W 4C9",
          "Unit 1110, Ground Floor\n13560 Maycrest Way, Richmond, BC  V6V 2W9, Canada zip: V6V 2W9",
          "180 - 1516 Keehn Rd, Kelowna, BC  V1X 5T3, Canada zip: V1X 5T3",
          "1531 Victoria St, Prince George, BC  V2L 2L4, Canada zip: V2L 2L4",
          "4649 Kingsway, Burnaby, BC  V5H 2B3, Canada zip: V5H 2B3",
          "#102 - 7380 Westminster Hwy, Richmond, BC  V6X 1A1, Canada zip: V6X 1A1",
          "100 - 6329 King George Blvd, Surrey, BC  V3X 1G1, Canada zip: V3X 1G1",
          "6255 Victoria Dr, Vancouver, BC  V5P 3X5, Canada zip: V5P 3X5",
          "Richmond Public Market\n1130 - 8260 Westminster Hwy, Richmond, BC  V6X 3Y2, Canada zip: V6X 3Y2",
          "6689 Victoria Dr, Vancouver, BC  V5P 3Y2, Canada zip: V5P 3Y2",
          "1299 Nanaimo St, Vancouver, BC  V5L 4T5, Canada zip: V5L 4T5",
          "PO Box 1680\n102 - 9103 Glover Rd, Langley, BC  V1M 0E8, Canada zip: V1M 0E8",
          "113 - 12578 72nd Ave, Surrey, BC  V3W 2M6, Canada zip: V3W 2M6",
          "101 - 12565 88 Ave, Surrey, BC  V3W 3J7, Canada zip: V3W 3J7",
          "Unit 17 - 15300 105 Ave, Surrey, BC  V3R 6A7, Canada zip: V3R 6A7",
          "6410 Main St., Vancouver, BC  V5W 2V4, Canada zip: V5W 2V4",
          "9000 University High St, Burnaby, BC  V5A 0C1, Canada zip: V5A 0C1",
          "463 Hastings St E, Vancouver, BC  V6A 1P5, Canada zip: V6A 1P5",
          "25 - Eighth Ave, New Westminster, BC  V3L 1X6, Canada zip: V3L 1X6",
          "#101 - 145 East 13th St., North Vancouver, BC  V7L 2L4, Canada zip: V7L 2L4",
          "113 West 16th St, North Vancouver, BC  V7M 1T3, Canada zip: V7M 1T3",
          "120 - 1100 Lonsdale Ave, North Vancouver, BC  V7M 2H3, Canada zip: V7M 2H3",
          "2732 41st Ave E, Vancouver, BC  V5R 2X1, Canada zip: V5R 2X1",
          "1880 Marine Drive, West Vancouver, BC  V7V 1J6, Canada zip: V7V 1J6",
          "#100A - 504 Cottonwood Ave, Coquitlam, BC  V3J 2R5, Canada zip: V3J 2R5",
          "#130 - 1 East Cordova St, Vancouver, BC  V6A 4H3, Canada zip: V6A 4H3",
          "152 - 1876 Cooper Rd, Kelowna, BC  V1Y 9N6, Canada zip: V1Y 9N6",
          "103 - 1910 Sooke Rd, Victoria, BC  V9B 1V7, Canada zip: V9B 1V7",
          "199 East Hastings St., Vancouver, BC  V6A 1N5, Canada zip: V6A 1N5",
          "4336 Fraser St., Vancouver, BC  V5V 4G3, Canada zip: V5V 4G3",
          "101 - 15122 72 Ave, Surrey, BC  V3S 2G2, Canada zip: V3S 2G2",
          "11944 88 Ave, Delta, BC  V4C 3C8, Canada zip: V4C 3C8",
          "101 - 8386 120 St, Surrey, BC  V3W 3N4, Canada zip: V3W 3N4",
          "#110 - 3001 Gordon Ave, Coquitlam, BC  V3C 2K7, Canada zip: V3C 2K7",
          "Yaohan Centre\n#2260 - 3700 No. 3 Road, Richmond, BC  V6X 3X2, Canada zip: V6X 3X2",
          "9840 101 Ave, Fort St. John, BC  V1J 2B2, Canada zip: V1J 2B2",
          "107 - 15551 Fraser Hwy, Surrey, BC  V3S 2V8, Canada zip: V3S 2V8",
          "104 - 8140 120 St, Surrey, BC  V3W 3N3, Canada zip: V3W 3N3",
          "115 - 6363 168 St, Surrey, BC  V3S 2Y2, Canada zip: V3S 2Y2",
          "102 - 1200 Lonsdale Ave, North Vancouver, BC  V7M 3H6, Canada zip: V7M 3H6",
          "3882 Main St, Vancouver, BC  V5V 3N9, Canada zip: V5V 3N9",
          "100 - 22470 Dewdney Trunk Rd, Maple Ridge, BC  V2X 5Z6, Canada zip: V2X 5Z6",
          "571 West 57th Ave., Vancouver, BC  V6P 1R8, Canada zip: V6P 1R8",
          "5203 Rumble Street, Burnaby, BC  V5J 2B7, Canada zip: V5J 2B7",
          "101 - 8338 120 St, Surrey, BC  V3W 3N4, Canada zip: V3W 3N4",
          "Unit 102 - 2752 Allwood St, Abbotsford, BC  V2T 3R7, Canada zip: V2T 3R7",
          "Unit A - 7487 Edmonds St, Burnaby, BC  V3N 1B3, Canada zip: V3N 1B3",
          "Capilano Mall\n60 - 935 Marine Dr, North Vancouver, BC  V7P 1S3, Canada zip: V7P 1S3",
          "104 - 1824 Gordon Dr, Kelowna, BC  V1Y 0E2, Canada zip: V1Y 0E2",
          "110 - 6350 120 St, Surrey, BC  V3X 3K1, Canada zip: V3X 3K1",
          "101 - 12005 238B St, Maple Ridge, BC  V4R 1W1, Canada zip: V4R 1W1",
          "1517 57 Ave W, Vancouver, BC  V6P 6E9, Canada zip: V6P 6E9",
          "Suite 1103.8 - 3880 Grant McConachie Way\nVanc. Int'l Airport, Domestic Terminal, Richmond, BC  V7B 0A5, Canada zip: V7B 0A5",
          "6447 Fraser St, Vancouver, BC  V5W 3A6, Canada zip: V5W 3A6",
          "Unit 1020 - 4151 Hazelbridge Way, Richmond, BC  V6X 4J7, Canada zip: V6X 4J7",
          "16 - 2949 Main St, Vancouver, BC  V5T 3G4, Canada zip: V5T 3G4",
          "1308 Commercial Dr, Vancouver, BC  V5L 3X6, Canada zip: V5L 3X6",
          "103 - 2609 Westview Dr, North Vancouver, BC  V7N 4M2, Canada zip: V7N 4M2",
          "4628 Main St, Vancouver, BC  V5V 3R7, Canada zip: V5V 3R7",
          "1007 - 3713 Kensington Ave, Burnaby, BC  V5B 0A7, Canada zip: V5B 0A7",
          "1109 Austin Ave., Coquitlam, BC  V3K 3P4, Canada zip: V3K 3P4",
          "101-7111 West Saanich Rd, Brentwood Bay, BC  V8M 1P7, Canada zip: V8M 1P7",
          "Dell Shopping Centre\n10654 King George Blvd, Surrey, BC  V3T 2X3, Canada zip: V3T 2X3",
          "8697 - 10th Ave, Burnaby, BC  V3N 2S9, Canada zip: V3N 2S9",
          "#119 - 15280 - 101st Ave., Surrey, BC  V3R 8X7, Canada zip: V3R 8X7",
          "#11A - 2720 Mill Bay Road\nBox 160, Mill Bay, BC  V0R 2P0, Canada zip: V0R 2P0",
          "#310 - 777 Royal Oak Dr., Victoria, BC  V8X 4V1, Canada zip: V8X 4V1",
          "#409 - 15940 Fraser Highway, Surrey, BC  V4N 0X8, Canada zip: V4N 0X8",
          "1816 Bowen Rd, Nanaimo, BC  V9S 5W4, Canada zip: V9S 5W4",
          "104 - 330 Highway 33 W, Kelowna, BC  V1X 1X9, Canada zip: V1X 1X9",
          "130 - 8780 Blundell Rd, Richmond, BC  V6Y 3Y8, Canada zip: V6Y 3Y8",
          "1641 Hillside Ave., Victoria, BC  V8T 5G1, Canada zip: V8T 5G1",
          "3233 Connaught Cres, North Vancouver, BC  V7R 2V7, Canada zip: V7R 2V7",
          "376 175A St, Surrey, BC  V3S 6S7, Canada zip: V3S 6S7",
          "P.O. Box 940 Stn Fort Langley\n#100 - 23148 96 Ave, Langley, BC  V1M 2S3, Canada zip: V1M 2S3",
          "5778 - 176A St, Surrey, BC  V3S 4H3, Canada zip: V3S 4H3",
          "1025 15th Ave W, Vancouver, BC  V6H 1R7, Canada zip: V6H 1R7",
          "#103 - 625 - 5th Ave, New Westminster, BC  V3M 1X4, Canada zip: V3M 1X4",
          "Unit J3 - 925 Main Street, West Vancouver, BC  V7T 2Z3, Canada zip: V7T 2Z3",
          "Summitview Medical Centre\n100A - 3300 Boundary Rd, Burnaby, BC  V5M 4A4, Canada zip: V5M 4A4",
          "Richlea Shopping Centre\n116 - 10151 No. 3 Rd, Richmond, BC  V7A 4R6, Canada zip: V7A 4R6",
          "15168 Fraser Hwy, Surrey, BC  V3R 3P1, Canada zip: V3R 3P1",
          "2580 Granville St, Vancouver, BC  V6H 3G8, Canada zip: V6H 3G8",
          "1671 Broadway E, Vancouver, BC  V5N 1V9, Canada zip: V5N 1V9",
          "5791 Oak St, Vancouver, BC  V6M 2V7, Canada zip: V6M 2V7",
          "1808 Kingsway, Vancouver, BC  V5N 2S7, Canada zip: V5N 2S7",
          "1747 Robson St, Vancouver, BC  V6G 1C9, Canada zip: V6G 1C9",
          "#10 - 2448 160 St, Surrey, BC  V3Z 0C8, Canada zip: V3Z 0C8",
          "Unit 103B - 19161 Fraser Hwy, Surrey, BC  V3S 7H2, Canada zip: V3S 7H2",
          "2957 Broadway W, Vancouver, BC  V6K 2G9, Canada zip: V6K 2G9",
          "4390 Beresford St, Burnaby, BC  V5H 0E7, Canada zip: V5H 0E7",
          "304 - 1750 Pier Mac Way, Kelowna, BC  V1V 3E7, Canada zip: V1V 3E7",
          "#1 - 1530 West 7th Avenue, Vancouver, BC  V6J 1S2, Canada zip: V6J 1S2",
          "#110 - 13798 - 94A Ave., Surrey, BC  V3V 1N1, Canada zip: V3V 1N1",
          "2200 Oak Bay Ave., Victoria, BC  V8R 1G3, Canada zip: V8R 1G3",
          "Old Mill Plaza\nBox 910, Lillooet, BC  V0K 1V0, Canada zip: V0K 1V0",
          "105 - 12420 No. 1 Rd, Richmond, BC  V7E 6N2, Canada zip: V7E 6N2",
          "#101 - 20560 56 Ave, Langley, BC  V3A 3Y8, Canada zip: V3A 3Y8",
          "223 Main St, Vancouver, BC  V6A 2S7, Canada zip: V6A 2S7",
          "103 - 3007 Glen Dr, Coquitlam, BC  V3B 0L8, Canada zip: V3B 0L8",
          "3 - 3238 King George Blvd, Surrey, BC  V4P 1A5, Canada zip: V4P 1A5",
          "233 - 18525 53 Ave\nSurrey, BC  V3S 7A4, 233 - 18525 53 Ave\nSurrey, BC  V3S 7A4, BC  V3S 7A4, Canada zip: V3S 7A4",
          "110 - 4650 Kingsway, Burnaby, BC  V5H 4L9, Canada zip: V5H 4L9",
          "111 - 15388 24 Ave, Surrey, BC  V4A 2J2, Canada zip: V4A 2J2",
          "3533 4th Ave W, Vancouver, BC  V6R 1N9, Canada zip: V6R 1N9",
          "2685 Broadway W, Vancouver, BC  V6K 2G2, Canada zip: V6K 2G2",
          "3228 Dunbar Street, Vancouver, BC  V6S 2B7, Canada zip: V6S 2B7",
          "Hollyburn Plaza\n#117 - 1760 Marine Dr, West Vancouver, BC  V7V 1J4, Canada zip: V7V 1J4",
          "3750 Oak St, Vancouver, BC  V6H 2M3, Canada zip: V6H 2M3",
          "103 - 3053 Edgemont Blvd, North Vancouver, BC  V7R 2N5, Canada zip: V7R 2N5",
          "105A - 7635 North Fraser Way, Burnaby, BC  V5J 0B8, Canada zip: V5J 0B8",
          "#101 - 301 Columbia St E, New Westminster, BC  V3L 3W5, Canada zip: V3L 3W5",
          "4444 10th Ave W, Vancouver, BC  V6R 2H9, Canada zip: V6R 2H9",
          "1405 Bellevue Ave, West Vancouver, BC  V7T 1C3, Canada zip: V7T 1C3",
          "Unit 160 - 6111 River Rd, Richmond, BC  V7C 0A2, Canada zip: V7C 0A2",
          "Quadra Centre\n108 - 3960 Quadra St, Victoria, BC  V8X 4A3, Canada zip: V8X 4A3",
          "2235 Kingsway, Vancouver, BC  V5N 2T6, Canada zip: V5N 2T6",
          "1145 Commercial Drive, Vancouver, BC  V5L 3X3, Canada zip: V5L 3X3",
          "#100 - 6091 Gilbert Road, Richmond, BC  V7C 5L9, Canada zip: V7C 5L9",
          "1A - 20363 65 Ave, Langley, BC  V2Y 3E3, Canada zip: V2Y 3E3",
          "115 Hwy 33 W, Kelowna, BC  V1X 1X6, Canada zip: V1X 1X6",
          "103 - 1646 McKenzie Ave, Victoria, BC  V8N 0A3, Canada zip: V8N 0A3",
          "Victoria Med-Dental Bldg.\n#120 - 1120 Yates St., Victoria, BC  V8V 3M9, Canada zip: V8V 3M9",
          "Unit B - 2241 Louie Dr, Westbank, BC  V4T 3K3, Canada zip: V4T 3K3",
          "#210 - 1595 McKenzie Ave., Victoria, BC  V8N 1A4, Canada zip: V8N 1A4",
          "#107 - 575 16th St, West Vancouver, BC  V7V 4Y1, Canada zip: V7V 4Y1",
          "700 Sixth St, New Westminster, BC  V3L 3C5, Canada zip: V3L 3C5",
          "Ocean Park Shopping Ctr.\n12851 - 16th Ave., Surrey, BC  V4A 1N5, Canada zip: V4A 1N5",
          "499 Granville St, Vancouver, BC  V6C 1T1, Canada zip: V6C 1T1",
          "9200 Mary St., Chilliwack, BC  V2P 4H6, Canada zip: V2P 4H6",
          "102 - 1880 Island Hwy, Victoria, BC  V9B 1J2, Canada zip: V9B 1J2",
          "#1173 - 88 Pender St W\nVancouver, BC  V6B 6N9, #1173 - 88 Pender St W\nVancouver, BC  V6B 6N9, BC  V6B 6N9, Canada zip: V6B 6N9",
          "Victoria Medical Bldg.\n1669 Victoria Street, Prince George, BC  V2L 2L5, Canada zip: V2L 2L5",
          "Unit B\n3388 Douglas St, Victoria, BC  V8Z 3L3, Canada zip: V8Z 3L3",
          "#103 - 12837 88 Ave, Surrey, BC  V3W 3K2, Canada zip: V3W 3K2",
          "908 Commercial Dr, Vancouver, BC  V5L 3W7, Canada zip: V5L 3W7",
          "1483 Marine Dr, West Vancouver, BC  V7T 1B8, Canada zip: V7T 1B8",
          "#122 - 1055 Georgia St W, Vancouver, BC  V6E 3P3, Canada zip: V6E 3P3",
          "708 Sixth Street, New Westminster, BC  V3L 3C5, Canada zip: V3L 3C5",
          "DT 1200 - 1952 Bay St, Victoria, BC  V8R 1J8, Canada zip: V8R 1J8",
          "2nd Floor\n1133 - 11871 Horseshoe Way, Richmond, BC  V7A 5H5, Canada zip: V7A 5H5",
          "4695 Canada Way, Burnaby, BC  V5G 1K8, Canada zip: V5G 1K8",
          "27265 Fraser Hwy, Aldergrove, BC  V4W 3P9, Canada zip: V4W 3P9",
          "10355 King George Blvd, Surrey, BC  V3T 2W6, Canada zip: V3T 2W6",
          "6401 - 120th Street, Delta, BC  V4E 3G3, Canada zip: V4E 3G3",
          "Westview Shopping Centre\n#780 - 2601 Westview Dr, North Vancouver, BC  V7N 3X4, Canada zip: V7N 3X4",
          "6564 Hastings St., Burnaby, BC  V5B 1S2, Canada zip: V5B 1S2",
          "#700 - 15355 - 24th Ave, Surrey, BC  V4A 2H9, Canada zip: V4A 2H9",
          "6153 - 200th Street, Langley, BC  V2Y 1A2, Canada zip: V2Y 1A2",
          "8870 - 152nd Street, Surrey, BC  V3R 4E4, Canada zip: V3R 4E4",
          "1599 - 2nd Avenue, Trail, BC  V1R 1M3, Canada zip: V1R 1M3",
          "1038 Austin Ave, Coquitlam, BC  V3K 3P3, Canada zip: V3K 3P3",
          "1682 Davie St, Vancouver, BC  V6G 1V9, Canada zip: V6G 1V9",
          "7450 - 120th Street, Surrey, BC  V3W 3M9, Canada zip: V3W 3M9",
          "990 West 25th Ave., Vancouver, BC  V5Z 2E2, Canada zip: V5Z 2E2",
          "4189 Yew St, Vancouver, BC  V6L 0B4, Canada zip: V6L 0B4",
          "Westlynn Mall\n1170 East 27th Street, North Vancouver, BC  V7J 1S1, Canada zip: V7J 1S1",
          "10151 No. 3 Road, Richmond, BC  V7A 4R6, Canada zip: V7A 4R6",
          "PO Box 48\n27566 Fraser Hwy, Aldergrove, BC  V4W 3N5, Canada zip: V4W 3N5",
          "7165 - 138th Street, Surrey, BC  V3W 7T9, Canada zip: V3W 7T9",
          "Chilliwack Mall\n45610 Luckakuck Way, Chilliwack, BC  V2R 1A2, Canada zip: V2R 1A2",
          "9123 - 100 St, Fort St. John, BC  V1J 3X3, Canada zip: V1J 3X3",
          "1080 Kingsway, Vancouver, BC  V5V 3C6, Canada zip: V5V 3C6",
          "465 Main St., Vancouver, BC  V6A 2T7, Canada zip: V6A 2T7",
          "Satnam Plaza\n#115 - 7130 120 St, Surrey, BC  V3W 3M8, Canada zip: V3W 3M8",
          "818 Island Hwy W, Parksville, BC  V9P 2B7, Canada zip: V9P 2B7",
          "26310 Fraser Highway, Aldergrove, BC  V4W 2Z7, Canada zip: V4W 2Z7",
          "South Point Exchange\n3033 - 152nd Street, Surrey, BC  V4P 3K1, Canada zip: V4P 3K1",
          "200 - 7155 Kingsway, Burnaby, BC  V5E 2V1, Canada zip: V5E 2V1",
          "270 Columbia St E, New Westminster, BC  V3L 0E3, Canada zip: V3L 0E3",
          "9014 - 152nd St, Surrey, BC  V3R 4E7, Canada zip: V3R 4E7",
          "Lower Level\n198 - 610 Sixth St, New Westminster, BC  V3L 3C2, Canada zip: V3L 3C2",
          "Tillicum Mall\n108 - 3170 Tillicum Road, Victoria, BC  V9A 7C5, Canada zip: V9A 7C5",
          "University Heights Shopping Ctr.\n3958 Shelbourne St., Victoria, BC  V8N 3E2, Canada zip: V8N 3E2",
          "5186 - 48 Ave, Ladner, BC  V4K 1W3, Canada zip: V4K 1W3",
          "12130 Nordel Way, Surrey, BC  V3W 1P6, Canada zip: V3W 1P6",
          "1403 King Edward Ave E, Vancouver, BC  V5N 5Z4, Canada zip: V5N 5Z4",
          "6901 Island Hwy N, Nanaimo, BC  V9T 6N8, Canada zip: V9T 6N8",
          "Country Club Mall\n3200 N. Island Hwy., Nanaimo, BC  V9T 1W1, Canada zip: V9T 1W1",
          "#400 - 1400 Dogwood St, Campbell River, BC  V9W 3A6, Canada zip: V9W 3A6",
          "Scottsdale Mall\n7015 - 120th St., North Delta, BC  V4E 2A9, Canada zip: V4E 2A9",
          "555 Central St W, Prince George, BC  V2M 3C6, Canada zip: V2M 3C6",
          "Ironwood Mall\n#3000-11666 Steveston Hwy., Richmond, BC  V7A 5J3, Canada zip: V7A 5J3",
          "Terra Nova Village\n3673 Westminster Highway, Richmond, BC  V7C 5V2, Canada zip: V7C 5V2",
          "Westside Village\n#100 - 172 Wilson St, Victoria, BC  V9A 7N6, Canada zip: V9A 7N6",
          "3510 Blanshard St., Victoria, BC  V8X 1W3, Canada zip: V8X 1W3",
          "#101 - 1876 Cooper Rd, Kelowna, BC  V1Y 9N6, Canada zip: V1Y 9N6",
          "4900 - 27th St, Vernon, BC  V1T 7G7, Canada zip: V1T 7G7",
          "1221 - 1199 Lynn Valley Rd, North Vancouver, BC  V7J 3H2, Canada zip: V7J 3H2",
          "333 Brooksbank Ave., North Vancouver, BC  V7J 3S8, Canada zip: V7J 3S8",
          "2662 Austin Ave, Coquitlam, BC  V3K 6C4, Canada zip: V3K 6C4",
          "4399 Lougheed Hwy., Burnaby, BC  V5C 3Y7, Canada zip: V5C 3Y7",
          "Pemberton Plaza\n1250 Marine Drive, North Vancouver, BC  V7P 1T2, Canada zip: V7P 1T2",
          "10312 King George Blvd, Surrey, BC  V3T 2W5, Canada zip: V3T 2W5",
          "17745 64 Ave, Cloverdale, BC  V3X 1Z2, Canada zip: V3X 1Z2",
          "#102 - 3433 North Rd, Burnaby, BC  V3J 0A9, Canada zip: V3J 0A9",
          "600 - 1984 Kane Rd, Kelowna, BC  V1V 3C4, Canada zip: V1V 3C4",
          "4469 Kingsway, Burnaby, BC  V5H 2A1, Canada zip: V5H 2A1",
          "1641 - 152nd St, White Rock, BC  V4A 4N3, Canada zip: V4A 4N3",
          "6455 West Boulevard, Vancouver, BC  V6M 3X6, Canada zip: V6M 3X6",
          "18710 Fraser Hwy, Surrey, BC  V3S 7Y4, Canada zip: V3S 7Y4",
          "102 - 6905 120th St, Delta, BC  V4E 2A8, Canada zip: V4E 2A8",
          "Unit 202 - 204 9278 120 St, Surrey, BC  V3V 4B8, Canada zip: V3V 4B8",
          "Unit 1560 - 4380 No. 3 Rd, Richmond, BC  V6X 3V7, Canada zip: V6X 3V7",
          "1265 W Broadway, Vancouver, BC  V6H 1G7, Canada zip: V6H 1G7",
          "Spruceland Shopping Ctr.\n693 Central St. W, Prince George, BC  V2M 3C6, Canada zip: V2M 3C6",
          "1583 Marine Drive, West Vancouver, BC  V7V 1H9, Canada zip: V7V 1H9",
          "6508 Hastings St., Burnaby, BC  V5B 1S2, Canada zip: V5B 1S2",
          "6305 Fraser St., Vancouver, BC  V5W 3A3, Canada zip: V5W 3A3",
          "Hillside Shopping Centre\n#126 - 1644 Hillside Ave., Victoria, BC  V8T 2C5, Canada zip: V8T 2C5",
          "#11  - 8671 No. 1 Road, Richmond, BC  V7C 1V2, Canada zip: V7C 1V2",
          "#380 - 9100 Blundell Road, Richmond, BC  V6Y 3X9, Canada zip: V6Y 3X9",
          "3511 Blanshard St, Victoria, BC  V8Z 0B9, Canada zip: V8Z 0B9",
          "3020 Broadway W, Vancouver, BC  V6K 2H1, Canada zip: V6K 2H1",
          "Old Orchard Shopping Ctr.\n4429 Kingsway, Burnaby, BC  V5H 2A1, Canada zip: V5H 2A1",
          "#250 - 7155 Kingsway, Burnaby, BC  V5E 2V1, Canada zip: V5E 2V1",
          "Langley Crossing\n101 - 6339 200 St, Langley, BC  V2Y 1A2, Canada zip: V2Y 1A2",
          "2947 Tillicum Road, Victoria, BC  V9A 2A6, Canada zip: V9A 2A6",
          "885 West Broadway, Vancouver, BC  V5Z 1J9, Canada zip: V5Z 1J9",
          "Clover Square Village\nUnit 104 - 17790 No. 10 Highway, Surrey, BC  V3S 1C7, Canada zip: V3S 1C7",
          "Central City Shopping Centre\n#3100 - 10153 King George Blvd, Surrey, BC  V3T 2W1, Canada zip: V3T 2W1",
          "Unit 185 - 3055 Massey Drive, Prince George, BC  V2N 2S9, Canada zip: V2N 2S9",
          "#100 - 4440 W. Saanich Road, Victoria, BC  V8Z 3E9, Canada zip: V8Z 3E9",
          "10351 100 St, Fort St. John, BC  V1J 3Z2, Canada zip: V1J 3Z2",
          "Westshore Town Centre\n#300 - 2945 Jacklin Rd., Victoria, BC  V9B 5E3, Canada zip: V9B 5E3",
          "#141 - 610 Sixth St, New Westminster, BC  V3L 3C2, Canada zip: V3L 3C2",
          "The Hub\n1755 East Broadway, Vancouver, BC  V5N 1W2, Canada zip: V5N 1W2",
          "6681 Mary Ellen Dr, Nanaimo, BC  V9V 1T7, Canada zip: V9V 1T7",
          "North Hills Shop. Centre\n#48 - 700 Tranquille Road, Kamloops, BC  V2B 3H9, Canada zip: V2B 3H9",
          "4326 Dunbar St., Vancouver, BC  V6S 2G3, Canada zip: V6S 2G3",
          "Lynn Valley Shopping Centre\n1199 Lynn Valley Rd, North Vancouver, BC  V7J 3H2, Canada zip: V7J 3H2",
          "#100 - 7820 Williams Rd, Richmond, BC  V7A 1G3, Canada zip: V7A 1G3",
          "A100 - 20678 Willoughby Town Centre Dr, Langley, BC  V2Y 0L7, Canada zip: V2Y 0L7",
          "7816 E. Saanich Road, Saanichton, BC  V8M 2B3, Canada zip: V8M 2B3",
          "121 - 4295 Blackcomb Way\nRR 4, Whistler, BC  V8E 0X2, Canada zip: V8E 0X2",
          "Surrey Outpatient Clinic\nUnit 151 - 9750 140 St, Surrey, BC  V3V 5Z5, Canada zip: V3V 5Z5",
          "#31 - 590 Hwy. 33 West, Kelowna, BC  V1X 6A8, Canada zip: V1X 6A8",
          "110F - 6640 Vedder Rd, Chilliwack, BC  V2R 0J2, Canada zip: V2R 0J2",
          "730 - 333 Brooksbank Ave, North Vancouver, BC  V7J 3S8, Canada zip: V7J 3S8",
          "#217 - 5000 Canoe Pass Way, Tsawwassen, BC  V4M 0B3, Canada zip: V4M 0B3",
          "1306 Lonsdale Avenue, North Vancouver, BC  V7M 2H8, Canada zip: V7M 2H8",
          "Thunderbird Village\n20159 88 Ave, Langley, BC  V1M 0A4, Canada zip: V1M 0A4",
          "#102 - 22441 Dewdney Trunk Rd, Maple Ridge, BC  V2X 7X7, Canada zip: V2X 7X7",
          "4460 Lougheed Hwy, Burnaby, BC  V5C 3Z3, Canada zip: V5C 3Z3",
          "#38 - 3200 North Island Hwy., Nanaimo, BC  V9T 1W1, Canada zip: V9T 1W1",
          "8962 152 St, Surrey, BC  V3R 4E4, Canada zip: V3R 4E4",
          "Town Centre Mall\n3 - 2475 Dobbin Rd, Westbank, BC  V4T 2E9, Canada zip: V4T 2E9",
          "#38 - 301 Highway 33 W, Kelowna, BC  V1X 1X8, Canada zip: V1X 1X8",
          "1780 Broadway W, Vancouver, BC  V6J 1Y1, Canada zip: V6J 1Y1",
          "#120 - 150 Esplanade W, North Vancouver, BC  V7M 1A3, Canada zip: V7M 1A3",
          "14867A 108 Ave, Surrey, BC  V3R 1W2, Canada zip: V3R 1W2",
          "Unit 110 - 879 Marine Dr, North Vancouver, BC  V7P 1R7, Canada zip: V7P 1R7",
          "College Heights Plaza\n470 - 5240 Domano Blvd, Prince George, BC  V2N 4A1, Canada zip: V2N 4A1",
          "432 Marine Dr SW, Vancouver, BC  V5X 0C4, Canada zip: V5X 0C4",
          "Champlain Square\n7160 Kerr Street, Vancouver, BC  V5S 4W2, Canada zip: V5S 4W2",
          "#155-5555 Gilbert Road, Richmond, BC  V7C 0B8, Canada zip: V7C 0B8",
          "Unit 6 - 12830 96 Ave, Surrey, BC  V3V 6A8, Canada zip: V3V 6A8",
          "7538 120 St, Surrey, BC  V3W 3N1, Canada zip: V3W 3N1",
          "F8 - 1410 Parkway Blvd, Coquitlam, BC  V3E 3J7, Canada zip: V3E 3J7",
          "101-12080 Nordel Way, Surrey, BC  V3W 1P6, Canada zip: V3W 1P6",
          "18677 Fraser Hwy, Surrey, BC  V3S 8E7, Canada zip: V3S 8E7",
          "Unit 1 - 2871 Livingstone Ave, Abbotsford, BC  V2T 0E2, Canada zip: V2T 0E2",
          "748 Burrard St, Vancouver, BC  V6Z 2V6, Canada zip: V6Z 2V6",
          "5968 Webber Lane, Vancouver, BC  V6S 0J9, Canada zip: V6S 0J9",
          "3303 Main St, Vancouver, BC  V5V 0B7, Canada zip: V5V 0B7",
          "288 Columbia St E, New Westminster, BC  V3L 0E7, Canada zip: V3L 0E7",
          "104 - 3433 North Rd, Burnaby, BC  V3J 0A9, Canada zip: V3J 0A9",
          "876 Village Dr, Port Coquitlam, BC  V3B 0G9, Canada zip: V3B 0G9",
          "Unit 700 - 26310 Fraser Hwy, Aldergrove, BC  V4W 2Z7, Canada zip: V4W 2Z7",
          "Unit 100 - 1972 Kane Road, Kelowna, BC  V1V 3C4, Canada zip: V1V 3C4",
          "100 - 15157 - No. 10 Hwy, Surrey, BC  V3S 9A5, Canada zip: V3S 9A5",
          "#102 - 2607 East 49th Ave, Vancouver, BC  V5S 1J9, Canada zip: V5S 1J9",
          "1202 Pender St W, Vancouver, BC  V6E 2S8, Canada zip: V6E 2S8",
          "4590 Fraser St, Vancouver, BC  V5V 4G7, Canada zip: V5V 4G7",
          "586 Granville St, Vancouver, BC  V6C 1X5, Canada zip: V6C 1X5",
          "2730 Oak St, Vancouver, BC  V6H 0A5, Canada zip: V6H 0A5",
          "4827 Kingsway, Burnaby, BC  V5H 4T6, Canada zip: V5H 4T6",
          "2330 Kingsway, Vancouver, BC  V5R 5G9, Canada zip: V5R 5G9",
          "Unit 1 - 32390 South Fraser Way, Abbotsford, BC  V2T 1X2, Canada zip: V2T 1X2",
          "2490 Marine Dr, West Vancouver, BC  V7V 1L1, Canada zip: V7V 1L1",
          "Unit 100 - 525 Highway 97 S, Kelowna, BC  V1Z 4C9, Canada zip: V1Z 4C9",
          "#1 - 1499 Gordon Dr, Kelowna, BC  V1Y 9R2, Canada zip: V1Y 9R2",
          "1517 Commercial Drive, Vancouver, BC  V5L 3Y1, Canada zip: V5L 3Y1",
          "#103 - 3320 Richter St, Kelowna, BC  V1W 4V5, Canada zip: V1W 4V5",
          "G - 1001 Austin Ave, Coquitlam, BC  V3K 3N9, Canada zip: V3K 3N9",
          "601 Queens Avenue, New Westminster, BC  V3M 1L1, Canada zip: V3M 1L1",
          "8 - 32442 George Ferguson Way, Abbotsford, BC  V2T 4Y4, Canada zip: V2T 4Y4",
          "505 Smithe St, Vancouver, BC  V6B 6H1, Canada zip: V6B 6H1",
          "103 - 7110 120 St, Surrey, BC  V3W 3M8, Canada zip: V3W 3M8",
          "#7 - 13791 - 72nd Ave, Surrey, BC  V3W 9Y9, Canada zip: V3W 9Y9",
          "582 Goldstream Ave, Victoria, BC  V9B 2W7, Canada zip: V9B 2W7",
          "1979 East Hastings Street, Vancouver, BC  V5L 1T5, Canada zip: V5L 1T5",
          "7166 120 St, Surrey, BC  V3W 3M8, Canada zip: V3W 3M8",
          "#105 - 14340 64 Ave, Surrey, BC  V3W 1Z1, Canada zip: V3W 1Z1",
          "#202 - 6355 152 St, Surrey, BC  V3S 3K8, Canada zip: V3S 3K8",
          "2397 King George Blvd, Surrey, BC  V4A 5A4, Canada zip: V4A 5A4",
          "12051 No. 1 Road, Richmond, BC  V7E 1T5, Canada zip: V7E 1T5",
          "5848 Fraser St., Vancouver, BC  V5W 2Z5, Canada zip: V5W 2Z5",
          "3443 Kingsway, Vancouver, BC  V5R 5L3, Canada zip: V5R 5L3",
          "105 - 19475 Fraser Hwy, Surrey, BC  V3S 6K7, Canada zip: V3S 6K7",
          "106 -3200 Westwood Street, Port Coquitlam, BC  V3C 6C7, Canada zip: V3C 6C7",
          "MAJ1 - 8311 Lansdowne Rd, Richmond, BC  V6X 3A4, Canada zip: V6X 3A4",
          "147 - 4800 Kingsway, Burnaby, BC  V5H 4J2, Canada zip: V5H 4J2",
          "116 - 5501 204 St, Langley, BC  V3A 5N8, Canada zip: V3A 5N8",
          "3475 Quadra Street, Victoria, BC  V8X 1G8, Canada zip: V8X 1G8",
          "6604 Main St, Vancouver, BC  V5X 3H2, Canada zip: V5X 3H2",
          "424 Columbia St, New Westminster, BC  V3L 1B1, Canada zip: V3L 1B1",
          "1115 - 7318 137 St, Surrey, BC  V3W 1A3, Canada zip: V3W 1A3",
          "317 - 3980 Shelbourne St, Victoria, BC  V8N 6J1, Canada zip: V8N 6J1",
          "177 Davie St, Vancouver, BC  V6Z 2Y1, Canada zip: V6Z 2Y1",
          "University of Victoria, S.U.B. #B138\n3800 Finnerty Rd, Victoria, BC  V8P 5C2, Canada zip: V8P 5C2",
          "20577 Douglas Crescent, Langley, BC  V3A 4B6, Canada zip: V3A 4B6",
          "Unit 10 - 45955 Yale Rd, Chilliwack, BC  V2P 2M4, Canada zip: V2P 2M4",
          "The Lux\n67 Hastings St E, Vancouver, BC  V6A 0A7, Canada zip: V6A 0A7",
          "2215 West Broadway, Vancouver, BC  V6K 2E4, Canada zip: V6K 2E4",
          "#126 - 15299 68 Ave, Surrey, BC  V3S 2C1, Canada zip: V3S 2C1",
          "Unit 120 - 6345 120 St, Delta, BC  V4E 2A6, Canada zip: V4E 2A6",
          "Ground Level\n3122 Mt Lehman Rd, Abbotsford, BC  V2T 0E5, Canada zip: V2T 0E5",
          "5143 Canoe Pass Way, Tsawwassen, BC  V4M 0B2, Canada zip: V4M 0B2",
          "Royal City Center\n610 Sixth St, New Westminster, BC  V3L 3C2, Canada zip: V3L 3C2",
          "2151 - 10153 King George Blvd, Surrey, BC  V3T 2W3, Canada zip: V3T 2W3",
          "7155 120 St, Delta, BC  V4E 2B1, Canada zip: V4E 2B1",
          "Unit #100 - 1055 Hillside Drive, Kamloops, BC  V2E 2S5, Canada zip: V2E 2S5",
          "Capilano Mall\n925 Marine Drive, North Vancouver, BC  V7P 1S2, Canada zip: V7P 1S2",
          "Woodgrove Centre\n6801 Island Hwy N, Nanaimo, BC  V9T 6N8, Canada zip: V9T 6N8",
          "Eagle Landing South\n8249 Eagle Landing Pky, Chilliwack, BC  V2R 0P9, Canada zip: V2R 0P9",
          "860 Langford Parkway, Victoria, BC  V9B 2P3, Canada zip: V9B 2P3",
          "9251 Alderbridge Way, Richmond, BC  V6X 0N1, Canada zip: V6X 0N1",
          "9007 96A St, Fort St. John, BC  V1J 7B6, Canada zip: V1J 7B6",
          "12451 - 88 Ave, Surrey, BC  V3W 1P8, Canada zip: V3W 1P8",
          "2355 160 St, Surrey, BC  V3Z 9N6, Canada zip: V3Z 9N6",
          "103 - 13737 96 Ave, Surrey, BC  V3V 0C6, Canada zip: V3V 0C6",
          "100 - 1133 Lonsdale Ave, North Vancouver, BC  V7M 2H4, Canada zip: V7M 2H4",
          "6686 Fraser St., Vancouver, BC  V5X 3T5, Canada zip: V5X 3T5",
          "#7 - 8388 - 128th Street, Surrey, BC  V3W 4G2, Canada zip: V3W 4G2",
          "#103 - 6935 - 120 St, Delta, BC  V4E 2A8, Canada zip: V4E 2A8",
          "4307 West 10th Ave., Vancouver, BC  V6R 2H6, Canada zip: V6R 2H6",
          "2004 Eighth Ave., New Westminster, BC  V3M 2T5, Canada zip: V3M 2T5",
          "1 - 137 17th St W, North Vancouver, BC  V7M 1V5, Canada zip: V7M 1V5",
          "33 Broadway W, Vancouver, BC  V5Y 1P1, Canada zip: V5Y 1P1",
          "158B - 19653 Willowbrook Dr, Langley, BC  V2Y 1A5, Canada zip: V2Y 1A5",
          "Unit 50 - 9522 Main St, Winfield, BC  V4V 2L9, Canada zip: V4V 2L9",
          "#104 - 32450 Simon Ave, Abbotsford, BC  V2T 4J2, Canada zip: V2T 4J2",
          "1284 Granville St, Vancouver, BC  V6Z 1M4, Canada zip: V6Z 1M4",
          "4198 Dunbar St, Vancouver, BC  V6S 2E7, Canada zip: V6S 2E7",
          "110 - 7938 128 St, Surrey, BC  V3W 4E8, Canada zip: V3W 4E8",
          "104 - 2596 McMillan Rd, Abbotsford, BC  V3G 1C2, Canada zip: V3G 1C2",
          "1721 Main St, Vancouver, BC  V5T 3B5, Canada zip: V5T 3B5",
          "1553 Arlington Street, Winnipeg, MB  R2X 1V3, Canada zip: R2X 1V3",
          "1332 Clifton Street, Winnipeg, MB  R3E 2V2, Canada zip: R3E 2V2",
          "975 St. James Street, Winnipeg, MB  R3H 0X2, Canada zip: R3H 0X2",
          "Unit 5B - 851 Lagimodiere Blvd., Winnipeg, MB  R2J 3K4, Canada zip: R2J 3K4",
          "Box 490, Ashern, MB  R0C 0E0, Canada zip: R0C 0E0",
          "D-3111 Portage Avenue, Winnipeg, MB  R3K 0W4, Canada zip: R3K 0W4",
          "Unit 10, 414 Westmount Drive, Winnipeg, MB  R2J 1P3, Canada zip: R2J 1P3",
          "531 Elizabeth Avenue E., Box 99, Baldur, MB  R0K 0B0, Canada zip: R0K 0B0",
          "101-1661 Portage Avenue, Winnipeg, MB  R3J 3T7, Canada zip: R3J 3T7",
          "P.O. Box 130, 2 Bear Road, Scanterbury, MB  R0E 1W0, Canada zip: R0E 1W0",
          "384 Portage Avenue, Winnipeg, MB  R3C 0C7, Canada zip: R3C 0C7",
          "P.O. Box 159, Peguis Mall, Peguis, MB  R0C 3J0, Canada zip: R0C 3J0",
          "1600 Pembina Highway, Winnipeg, MB  R3T 5Z2, Canada zip: R3T 5Z2",
          "101-1020 Lorimer Blvd., Winnipeg, MB  R3P 1C7, Canada zip: R3P 1C7",
          "Unit 1 - 1099 Kingsbury Avenue, Winnipeg, MB  R2P 2P9, Canada zip: R2P 2P9",
          "4-1095 Concordia Avenue, Winnipeg, MB  R2K 3S8, Canada zip: R2K 3S8",
          "1095 Concordia Avenue, Winnipeg, MB  R2K 3S8, Canada zip: R2K 3S8",
          "1499 Regent Avenue, Winnipeg, MB  R2C 4M4, Canada zip: R2C 4M4",
          "1315 St. James Street, Winnipeg, MB  R3H 0K9, Canada zip: R3H 0K9",
          "Unit 2, 505 Sargent Avenue, Winnipeg, MB  R3B 1V9, Canada zip: R3B 1V9",
          "207 Railway Avenue, Box 190, Vita, MB  R0A 2K0, Canada zip: R0A 2K0",
          "Unit 4 - 3014 Henderson Highway, East St. Paul, MB  R2E 0H9, Canada zip: R2E 0H9",
          "7 Main Street, Box 160, Elie, MB  R0H 0H0, Canada zip: R0H 0H0",
          "Box 248, Fort Alexander, MB  R0E 0P0, Canada zip: R0E 0P0",
          "3012 Portage Avenue, Winnipeg, MB  R3K 0X8, Canada zip: R3K 0X8",
          "SR171 - 820 Sherbrook Street, Winnipeg, MB  R3A 1R9, Canada zip: R3A 1R9",
          "220 Cree Crescent, Suite A, Winnipeg, MB  R3J 3W1, Canada zip: R3J 3W1",
          "Box 87, Lot 39, Hwy 325, Hodgson, MB  R0C 1N0, Canada zip: R0C 1N0",
          "B-2750 Pembina Highway, Winnipeg, MB  R3T 2H8, Canada zip: R3T 2H8",
          "112 Main Street, Box 1011, Grunthal, MB  R0A 0R0, Canada zip: R0A 0R0",
          "104-650 South Railway Avenue, Box 1024, Winkler, MB  R6W 4B1, Canada zip: R6W 4B1",
          "Unit 10, 1320 Concordia Avenue, Winnipeg, MB  R3W 0G6, Canada zip: R3W 0G6",
          "820 Sherbrook Street, Winnipeg, MB  R3A 1R9, Canada zip: R3A 1R9",
          "Room PX 155, 771 Bannatyne Avenue, Winnipeg, MB  R3E 3N4, Canada zip: R3E 3N4",
          "670 Main Street, Winnipeg, MB  R3B 1E4, Canada zip: R3B 1E4",
          "Unit A, 3000 Victoria Avenue, Brandon, MB  R7B 3Y3, Canada zip: R7B 3Y3",
          "Box 1120, Unit 7 - 449 Main Street, Ile-des-Chenes, MB  R0A 0T0, Canada zip: R0A 0T0",
          "Unit 6, 20 Island Shore Blvd., Winnipeg, MB  R3X 1N6, Canada zip: R3X 1N6",
          "Unit 6 - 998 Keewatin Street, Winnipeg, MB  R2R 2V1, Canada zip: R2R 2V1",
          "Box 850, 7A-530 Williams Avenue, Killarney, MB  R0K 1G0, Canada zip: R0K 1G0",
          "Unit 2, 49 Rue Principale, Box 529, La Salle, MB  R0G 1B0, Canada zip: R0G 1B0",
          "1686 Pembina Highway, Winnipeg , MB  R3T 2G2, Canada zip: R3T 2G2",
          "2A - 230 Osborne Street, Winnipeg, MB  R3L 1Y8, Canada zip: R3L 1Y8",
          "2132 McPhillips Street, Winnipeg, MB  R2V 3C8, Canada zip: R2V 3C8",
          "80 Bison Drive, Winnipeg, MB  R3T 4Z7, Canada zip: R3T 4Z7",
          "1385 Sargent Avenue, Winnipeg, MB  R3E 3P8, Canada zip: R3E 3P8",
          "#23C-1225 St. Mary's Road, Winnipeg, MB  R2M 5E5, Canada zip: R2M 5E5",
          "18 Main Street, Lundar, MB  R0C 1Y0, Canada zip: R0C 1Y0",
          "Unit 3A - 1353 McPhillips Street, Winnipeg, MB  R2X 3A6, Canada zip: R2X 3A6",
          "1287 Jefferson Street, Winnipeg, MB  R2P 1S7, Canada zip: R2P 1S7",
          "Canex Mall, CFB Shilo, PO Box 87, Shilo, MB  R0K 2A0, Canada zip: R0K 2A0",
          "Box 550, 102-19 Pine Street, Pine Falls, MB  R0E 1M0, Canada zip: R0E 1M0",
          "Box 520, Kistapinanihk Shopping Mall, Norway House, MB  R0B 1B0, Canada zip: R0B 1B0",
          "Box 339, Unit #1, 559 Main Street, Oakbank, MB  R0E 1J0, Canada zip: R0E 1J0",
          "105 - 1021 Court Avenue, Winnipeg, MB  R2P 1V7, Canada zip: R2P 1V7",
          "940 Sherbrook Street, Winnipeg, MB  R3A 1N4, Canada zip: R3A 1N4",
          "Unit 17 - 2595 Main Street, Winnipeg, MB  R2V 4W3, Canada zip: R2V 4W3",
          "2725 Pembina Highway - Unit 3, Winnipeg, MB  R3T 2H5, Canada zip: R3T 2H5",
          "18 Main Street, Ashern, MB  R0C 0E0, Canada zip: R0C 0E0",
          "10-1321 Dawson Road, Box 229, Lorette, MB  R5K 0S2, Canada zip: R5K 0S2",
          "Box 730, 465 Rue Sabourin, St. Pierre-Jolys, MB  R0A 1V0, Canada zip: R0A 1V0",
          "2425 Unit C Victoria Avenue West, Brandon, MB  R7B 0M6, Canada zip: R7B 0M6",
          "Box 2000, 37 Maple Street, Pine Falls, MB  R0E 1M0, Canada zip: R0E 1M0",
          "Box 520, Pine Falls, MB  R0E 1M0, Canada zip: R0E 1M0",
          "Unit 15 - 801 Regent Avenue, Winnipeg, MB  R2C 3A7, Canada zip: R2C 3A7",
          "200-1383 Pembina Highway, Winnipeg, MB  R3T 2B9, Canada zip: R3T 2B9",
          "3250 Portage Avenue, Winnipeg, MB  R3K 0Y9, Canada zip: R3K 0Y9",
          "3556 Pembina Highway, Winnipeg, MB  R3V 1A7, Canada zip: R3V 1A7",
          "171 Main Street, Powerview, MB  R0E 1P0, Canada zip: R0E 1P0",
          "120 - 600 St. Anne's Road, Winnipeg, MB  R2M 2S2, Canada zip: R2M 2S2",
          "Unit 365, 550 Century Street, Winnipeg, MB  R3H 0Y1, Canada zip: R3H 0Y1",
          "15-584 Pembina Highway, Winnipeg, MB  R3M 3X7, Canada zip: R3M 3X7",
          "850 Dakota Street, Winnipeg, MB  R2M 5R9, Canada zip: R2M 5R9",
          "P.O. Box 459, 209-4th Street, Reston, MB  R0M 1X0, Canada zip: R0M 1X0",
          "2110 Main Street, Winnipeg, MB  R2V 2C2, Canada zip: R2V 2C2",
          "1633 St. Mary's Road Unit F, Winnipeg, MB  R2N 1Z3, Canada zip: R2N 1Z3",
          "1795 Henderson Highway, Winnipeg, MB  R2G 1P3, Canada zip: R2G 1P3",
          "2271 Pembina Highway, Winnipeg, MB  R3T 2H1, Canada zip: R3T 2H1",
          "1425 Corydon Avenue, Suite 101A, Winnipeg, MB  R3N 2C7, Canada zip: R3N 2C7",
          "Unit 5 - 6500 Roblin Blvd., Winnipeg, MB  R3R 3P9, Canada zip: R3R 3P9",
          "Unit D - 1046 Henderson Highway, Winnipeg, MB  R2K 2M5, Canada zip: R2K 2M5",
          "Unit F - 228 Waterfront Drive, Winnipeg, MB  R3B 0C5, Canada zip: R3B 0C5",
          "600 Sargent Avenue, Winnipeg, MB  R3E 0A1, Canada zip: R3E 0A1",
          "1319 Pembina Highway, Winnipeg, MB  R3T 2B6, Canada zip: R3T 2B6",
          "2155 Pembina Highway, Winnipeg, MB  R3T 2H1, Canada zip: R3T 2H1",
          "2025 Corydon Avenue, Winnipeg, MB  R3P 0N5, Canada zip: R3P 0N5",
          "3393 Portage Avenue, Winnipeg, MB  R3K 2G7, Canada zip: R3K 2G7",
          "920 Jefferson Avenue, Winnipeg, MB  R2P 1W1, Canada zip: R2P 1W1",
          "3900 Grant Avenue, Winnipeg, MB  R3R 3C2, Canada zip: R3R 3C2",
          "1625 Kenaston Blvd, Winnipeg, MB  R3P 2M4, Canada zip: R3P 2M4",
          "#410 - 400 North Town Road, Winnipeg, MB  R3Y 0Y3, Canada zip: R3Y 0Y3",
          "1399 McPhillips Street, Winnipeg, MB  R2V 3C4, Canada zip: R2V 3C4",
          "850 St. James Street, Winnipeg, MB  R3G 3L7, Canada zip: R3G 3L7",
          "1189 Pembina Highway, Winnipeg, MB  R3T 2A5, Canada zip: R3T 2A5",
          "2300 McPhillips Street, Winnipeg, MB  R2V 3M3, Canada zip: R2V 3M3",
          "777 Sherbrook Street W., Winnipeg, MB  R3A 1M2, Canada zip: R3A 1M2",
          "1122 Pembina Highway, Winnipeg, MB  R3T 2A2, Canada zip: R3T 2A2",
          "100-1155 Concordia Avenue, Winnipeg, MB  R2K 2M9, Canada zip: R2K 2M9",
          "700-50 Sage Creek Blvd., Winnipeg, MB  R3X 0J6, Canada zip: R3X 0J6",
          "520 - 350 North Town Road, Winnipeg, MB  R3Y 0Y4, Canada zip: R3Y 0Y4",
          "1750 Plessis Road, Winnipeg, MB  R3W 0H5, Canada zip: R3W 0H5",
          "1050 Leila Avenue, Winnipeg, MB  R2P 1W6, Canada zip: R2P 1W6",
          "2656 Pembina Highway, Winnipeg, MB  R3T 2H6, Canada zip: R3T 2H6",
          "Unit C - 1155 Main Street, Winnipeg, MB  R2W 3S4, Canada zip: R2W 3S4",
          "3665 Portage Avenue, Winnipeg, MB  R3K 2G6, Canada zip: R3K 2G6",
          "2211 Pembina Highway, Winnipeg, MB  R3T 2H1, Canada zip: R3T 2H1",
          "1-785 Dakota Street, Winnipeg, MB  R2M 5M3, Canada zip: R2M 5M3",
          "2-360 Main Street, Winnipeg, MB  R3C 3Z8, Canada zip: R3C 3Z8",
          "2025 Corydon Avenue, Winnipeg, MB  R3P 0N5, Canada zip: R3P 0N5",
          "43 Marion Street, Winnipeg, MB  R2H 0S8, Canada zip: R2H 0S8",
          "L178, 1485 Portage Avenue, Winnipeg, MB  R3G 0W4, Canada zip: R3G 0W4",
          "1A - 3900 Grant Avenue, Winnipeg, MB  R3R 3C2, Canada zip: R3R 3C2",
          "790 Sherbrook Street, Winnipeg, MB  R3A 1M3, Canada zip: R3A 1M3",
          "795 Keewatin Street, Winnipeg, MB  R2X 3B9, Canada zip: R2X 3B9",
          "P.O. Box 38108, East St. Paul, MB  R2E 1H3, Canada zip: R2E 1H3",
          "1660 Kenaston Blvd., Winnipeg, MB  R3P 2M6, Canada zip: R3P 2M6",
          "2850 Pembina Highway, Winnipeg, MB  R3T 6E4, Canada zip: R3T 6E4",
          "1570 - 18th Street, Brandon, MB  R7A 5C5, Canada zip: R7A 5C5",
          "7 Reenders Drive, Winnipeg, MB  R2C 5K5, Canada zip: R2C 5K5",
          "2575 Main Street, Winnipeg, MB  R2V 4G4, Canada zip: R2V 4G4",
          "1939 Bishop Grandin Blvd., Winnipeg, MB  R2M 5S1, Canada zip: R2M 5S1",
          "3635 Portage Avenue, Winnipeg, MB  R3K 2G6, Canada zip: R3K 2G6",
          "103-1151 Pembina Highway, Winnipeg, MB  R3T 2A3, Canada zip: R3T 2A3",
          "2-30 Co-op Drive, PO Box 255, Oakbank, MB  R0E 1J0, Canada zip: R0E 1J0",
          "P.O. Box 394, 457 Main Street, St. Adolphe, MB  R5A 1A2, Canada zip: R5A 1A2",
          "Box 235, 109 Aspen Avenue S., St. Claude, MB  R0G 1Z0, Canada zip: R0G 1Z0",
          "Box 355, St. Laurent, MB  R0C 2S0, Canada zip: R0C 2S0",
          "122 St. Malo Street, P.O. Box 70, St. Malo, MB  R0A 1T0, Canada zip: R0A 1T0",
          "6-980 St. Anne's Road, Winnipeg, MB  R2N 0A5, Canada zip: R2N 0A5",
          "480-3rd Avenue S.E., Ste. Rose Du Lac, MB  R0L 1S0, Canada zip: R0L 1S0",
          "Box 489, 5 Main Street, Stony Mountain, MB  R0C 3A0, Canada zip: R0C 3A0",
          "Main Floor, 2300 McPhillips Street, Winnipeg, MB  R2V 3M3, Canada zip: R2V 3M3",
          "115-1100 Concordia Avenue, Winnipeg, MB  R2K 4B8, Canada zip: R2K 4B8",
          "101-2800 Pembina Highway, Winnipeg, MB  R3T 5P3, Canada zip: R3T 5P3",
          "Unit 10 - 1399 McPhillips Street, Winnipeg, MB  R2V 3C4, Canada zip: R2V 3C4",
          "Unit 1A - 660 Osborne Street, Winnipeg, MB  R3L 2B6, Canada zip: R3L 2B6",
          "#3-555 Balmoral Street, Winnipeg, MB  R3B 2R2, Canada zip: R3B 2R2",
          "Suite 103 -1780 Wellington Avenue, Winnipeg, MB  R3H 1B3, Canada zip: R3H 1B3",
          "301 Nassau Street N., Winnipeg, MB  R3L 2J5, Canada zip: R3L 2J5",
          "Rm.111, Univ. Centre Bldg., University Of Manitoba, Winnipeg, MB  R3T 2N2, Canada zip: R3T 2N2",
          "2340 Pembina Highway, Winnipeg, MB  R3T 2E8, Canada zip: R3T 2E8",
          "709 Sargent Avenue, Winnipeg, MB  R3E 0B1, Canada zip: R3E 0B1",
          "3655 Portage Avenue, Winnipeg, MB  R3K 2G6, Canada zip: R3K 2G6",
          "2370 McPhillips Street, Winnipeg, MB  R2V 4S6, Canada zip: R2V 4S6",
          "1665 Kenaston Blvd., Winnipeg, MB  R3P 2M4, Canada zip: R3P 2M4",
          "Box 278, 445 Norton Avenue, Miami, MB  R0G 1H0, Canada zip: R0G 1H0",
          "7-1421 St. James Street, Winnipeg, MB  R3H 0Y9, Canada zip: R3H 0Y9",
          "200-1st Street, Winnipegosis, MB  R0L 2G0, Canada zip: R0L 2G0"
         ],
         "type": "scattergeo"
        },
        {
         "hoverinfo": "none",
         "lat": [
          49.198845,
          49.190394728435
         ],
         "line": {
          "color": "black"
         },
         "lon": [
          -122.786988,
          -122.848462790325
         ],
         "mode": "lines",
         "type": "scattergeo"
        },
        {
         "hoverinfo": "none",
         "lat": [
          49.051692,
          49.0397175093574
         ],
         "line": {
          "color": "black"
         },
         "lon": [
          -122.331194,
          -122.285383962384
         ],
         "mode": "lines",
         "type": "scattergeo"
        },
        {
         "hoverinfo": "none",
         "lat": [
          49.225844,
          49.2031043659851
         ],
         "line": {
          "color": "black"
         },
         "lon": [
          -122.977389,
          -122.992325673539
         ],
         "mode": "lines",
         "type": "scattergeo"
        },
        {
         "hoverinfo": "none",
         "lat": [
          59.785092,
          49.0691909915843
         ],
         "line": {
          "color": "black"
         },
         "lon": [
          -134.944639,
          -122.502340746886
         ],
         "mode": "lines",
         "type": "scattergeo"
        },
        {
         "hoverinfo": "none",
         "lat": [
          49.140937,
          49.1410042094931
         ],
         "line": {
          "color": "black"
         },
         "lon": [
          -122.773234,
          -122.856837478998
         ],
         "mode": "lines",
         "type": "scattergeo"
        },
        {
         "hoverinfo": "none",
         "lat": [
          49.320258,
          49.3224863139215
         ],
         "line": {
          "color": "black"
         },
         "lon": [
          -123.107836,
          -123.084865113587
         ],
         "mode": "lines",
         "type": "scattergeo"
        },
        {
         "hoverinfo": "none",
         "lat": [
          48.426922,
          48.4276915424915
         ],
         "line": {
          "color": "black"
         },
         "lon": [
          -123.347157,
          -123.364360876863
         ],
         "mode": "lines",
         "type": "scattergeo"
        },
        {
         "hoverinfo": "none",
         "lat": [
          49.321018,
          49.3224863139215
         ],
         "line": {
          "color": "black"
         },
         "lon": [
          -123.072348,
          -123.084865113587
         ],
         "mode": "lines",
         "type": "scattergeo"
        },
        {
         "hoverinfo": "none",
         "lat": [
          49.038359,
          49.0552243022838
         ],
         "line": {
          "color": "black"
         },
         "lon": [
          -122.799908,
          -122.828060602292
         ],
         "mode": "lines",
         "type": "scattergeo"
        },
        {
         "hoverinfo": "none",
         "lat": [
          49.152089,
          49.190394728435
         ],
         "line": {
          "color": "black"
         },
         "lon": [
          -122.841664,
          -122.848462790325
         ],
         "mode": "lines",
         "type": "scattergeo"
        },
        {
         "hoverinfo": "none",
         "lat": [
          49.286551,
          0.0
         ],
         "line": {
          "color": "black"
         },
         "lon": [
          -123.120916,
          0.0
         ],
         "mode": "lines",
         "type": "scattergeo"
        },
        {
         "hoverinfo": "none",
         "lat": [
          49.10635,
          49.1176110168489
         ],
         "line": {
          "color": "black"
         },
         "lon": [
          -122.82509,
          -122.754853365374
         ],
         "mode": "lines",
         "type": "scattergeo"
        },
        {
         "hoverinfo": "none",
         "lat": [
          49.262639,
          49.2474770879481
         ],
         "line": {
          "color": "black"
         },
         "lon": [
          -123.096001,
          -123.121233343796
         ],
         "mode": "lines",
         "type": "scattergeo"
        },
        {
         "hoverinfo": "none",
         "lat": [
          49.10635,
          49.0385145601345
         ],
         "line": {
          "color": "black"
         },
         "lon": [
          -122.82509,
          -122.83110874713
         ],
         "mode": "lines",
         "type": "scattergeo"
        },
        {
         "hoverinfo": "none",
         "lat": [
          49.26636,
          49.2766738428341
         ],
         "line": {
          "color": "black"
         },
         "lon": [
          -122.95263,
          -123.007422486654
         ],
         "mode": "lines",
         "type": "scattergeo"
        },
        {
         "hoverinfo": "none",
         "lat": [
          48.696901,
          48.5816953672664
         ],
         "line": {
          "color": "black"
         },
         "lon": [
          -123.457804,
          -123.422318363172
         ],
         "mode": "lines",
         "type": "scattergeo"
        },
        {
         "hoverinfo": "none",
         "lat": [
          49.047077,
          49.1831831533453
         ],
         "line": {
          "color": "black"
         },
         "lon": [
          -122.875286,
          -122.876242276909
         ],
         "mode": "lines",
         "type": "scattergeo"
        },
        {
         "hoverinfo": "none",
         "lat": [
          49.185612,
          49.1410042094931
         ],
         "line": {
          "color": "black"
         },
         "lon": [
          -122.861874,
          -122.856837478998
         ],
         "mode": "lines",
         "type": "scattergeo"
        },
        {
         "hoverinfo": "none",
         "lat": [
          49.27706,
          49.2235963510792
         ],
         "line": {
          "color": "black"
         },
         "lon": [
          -123.065614,
          -123.067835340981
         ],
         "mode": "lines",
         "type": "scattergeo"
        },
        {
         "hoverinfo": "none",
         "lat": [
          49.170794,
          49.1410042094931
         ],
         "line": {
          "color": "black"
         },
         "lon": [
          -122.868057,
          -122.856837478998
         ],
         "mode": "lines",
         "type": "scattergeo"
        },
        {
         "hoverinfo": "none",
         "lat": [
          49.313175,
          49.322209821279
         ],
         "line": {
          "color": "black"
         },
         "lon": [
          -123.081815,
          -123.113622357888
         ],
         "mode": "lines",
         "type": "scattergeo"
        },
        {
         "hoverinfo": "none",
         "lat": [
          49.038359,
          49.1963107379676
         ],
         "line": {
          "color": "black"
         },
         "lon": [
          -122.799908,
          -122.824169757623
         ],
         "mode": "lines",
         "type": "scattergeo"
        },
        {
         "hoverinfo": "none",
         "lat": [
          49.258451,
          49.2508143510126
         ],
         "line": {
          "color": "black"
         },
         "lon": [
          -123.238577,
          -123.215501310984
         ],
         "mode": "lines",
         "type": "scattergeo"
        },
        {
         "hoverinfo": "none",
         "lat": [
          49.155659,
          49.1806404435479
         ],
         "line": {
          "color": "black"
         },
         "lon": [
          -121.815256,
          -121.900229531001
         ],
         "mode": "lines",
         "type": "scattergeo"
        },
        {
         "hoverinfo": "none",
         "lat": [
          49.170794,
          49.190394728435
         ],
         "line": {
          "color": "black"
         },
         "lon": [
          -122.868057,
          -122.848462790325
         ],
         "mode": "lines",
         "type": "scattergeo"
        },
        {
         "hoverinfo": "none",
         "lat": [
          49.172724,
          49.1894387656804
         ],
         "line": {
          "color": "black"
         },
         "lon": [
          -123.959447,
          -123.963586439922
         ],
         "mode": "lines",
         "type": "scattergeo"
        },
        {
         "hoverinfo": "none",
         "lat": [
          49.321018,
          49.3224863139215
         ],
         "line": {
          "color": "black"
         },
         "lon": [
          -123.072348,
          -123.084865113587
         ],
         "mode": "lines",
         "type": "scattergeo"
        },
        {
         "hoverinfo": "none",
         "lat": [
          49.213447,
          49.2287120398275
         ],
         "line": {
          "color": "black"
         },
         "lon": [
          -122.937887,
          -122.996471986297
         ],
         "mode": "lines",
         "type": "scattergeo"
        },
        {
         "hoverinfo": "none",
         "lat": [
          49.152089,
          49.1831831533453
         ],
         "line": {
          "color": "black"
         },
         "lon": [
          -122.841664,
          -122.876242276909
         ],
         "mode": "lines",
         "type": "scattergeo"
        },
        {
         "hoverinfo": "none",
         "lat": [
          49.060135,
          49.1719889563992
         ],
         "line": {
          "color": "black"
         },
         "lon": [
          -122.702525,
          -122.734851508864
         ],
         "mode": "lines",
         "type": "scattergeo"
        },
        {
         "hoverinfo": "none",
         "lat": [
          49.05798,
          49.0391641015383
         ],
         "line": {
          "color": "black"
         },
         "lon": [
          -122.25257,
          -122.347843226749
         ],
         "mode": "lines",
         "type": "scattergeo"
        },
        {
         "hoverinfo": "none",
         "lat": [
          49.27706,
          49.2235963510792
         ],
         "line": {
          "color": "black"
         },
         "lon": [
          -123.065614,
          -123.067835340981
         ],
         "mode": "lines",
         "type": "scattergeo"
        },
        {
         "hoverinfo": "none",
         "lat": [
          49.24966,
          49.2834575694212
         ],
         "line": {
          "color": "black"
         },
         "lon": [
          -123.11934,
          -123.129406113292
         ],
         "mode": "lines",
         "type": "scattergeo"
        },
        {
         "hoverinfo": "none",
         "lat": [
          49.038359,
          49.1963107379676
         ],
         "line": {
          "color": "black"
         },
         "lon": [
          -122.799908,
          -122.824169757623
         ],
         "mode": "lines",
         "type": "scattergeo"
        },
        {
         "hoverinfo": "none",
         "lat": [
          49.10635,
          49.1963107379676
         ],
         "line": {
          "color": "black"
         },
         "lon": [
          -122.82509,
          -122.824169757623
         ],
         "mode": "lines",
         "type": "scattergeo"
        },
        {
         "hoverinfo": "none",
         "lat": [
          49.202124,
          49.2211306947439
         ],
         "line": {
          "color": "black"
         },
         "lon": [
          -122.909873,
          -122.898883878006
         ],
         "mode": "lines",
         "type": "scattergeo"
        },
        {
         "hoverinfo": "none",
         "lat": [
          48.423997,
          48.4164754620703
         ],
         "line": {
          "color": "black"
         },
         "lon": [
          -123.357167,
          -123.365138868897
         ],
         "mode": "lines",
         "type": "scattergeo"
        },
        {
         "hoverinfo": "none",
         "lat": [
          49.170794,
          49.190394728435
         ],
         "line": {
          "color": "black"
         },
         "lon": [
          -122.868057,
          -122.848462790325
         ],
         "mode": "lines",
         "type": "scattergeo"
        },
        {
         "hoverinfo": "none",
         "lat": [
          49.14399,
          49.1984065446686
         ],
         "line": {
          "color": "black"
         },
         "lon": [
          -122.9068,
          -122.934408509512
         ],
         "mode": "lines",
         "type": "scattergeo"
        },
        {
         "hoverinfo": "none",
         "lat": [
          49.27706,
          49.2235963510792
         ],
         "line": {
          "color": "black"
         },
         "lon": [
          -123.065614,
          -123.067835340981
         ],
         "mode": "lines",
         "type": "scattergeo"
        },
        {
         "hoverinfo": "none",
         "lat": [
          49.187084,
          49.2391998662373
         ],
         "line": {
          "color": "black"
         },
         "lon": [
          -123.985525,
          -124.023245438063
         ],
         "mode": "lines",
         "type": "scattergeo"
        },
        {
         "hoverinfo": "none",
         "lat": [
          53.884408,
          53.6493565080645
         ],
         "line": {
          "color": "black"
         },
         "lon": [
          -122.771814,
          -122.957816392392
         ],
         "mode": "lines",
         "type": "scattergeo"
        },
        {
         "hoverinfo": "none",
         "lat": [
          49.26636,
          49.2766738428341
         ],
         "line": {
          "color": "black"
         },
         "lon": [
          -122.95263,
          -123.007422486654
         ],
         "mode": "lines",
         "type": "scattergeo"
        },
        {
         "hoverinfo": "none",
         "lat": [
          49.17003,
          49.1546181747017
         ],
         "line": {
          "color": "black"
         },
         "lon": [
          -123.13683,
          -123.050841826166
         ],
         "mode": "lines",
         "type": "scattergeo"
        },
        {
         "hoverinfo": "none",
         "lat": [
          49.213447,
          49.2287120398275
         ],
         "line": {
          "color": "black"
         },
         "lon": [
          -122.937887,
          -122.996471986297
         ],
         "mode": "lines",
         "type": "scattergeo"
        },
        {
         "hoverinfo": "none",
         "lat": [
          49.21709,
          49.2834575694212
         ],
         "line": {
          "color": "black"
         },
         "lon": [
          -123.064673,
          -123.129406113292
         ],
         "mode": "lines",
         "type": "scattergeo"
        },
        {
         "hoverinfo": "none",
         "lat": [
          49.343248,
          49.3157977072378
         ],
         "line": {
          "color": "black"
         },
         "lon": [
          -123.068524,
          -123.057394813444
         ],
         "mode": "lines",
         "type": "scattergeo"
        },
        {
         "hoverinfo": "none",
         "lat": [
          null,
          49.892071734828
         ],
         "line": {
          "color": "black"
         },
         "lon": [
          null,
          -119.484658444334
         ],
         "mode": "lines",
         "type": "scattergeo"
        },
        {
         "hoverinfo": "none",
         "lat": [
          49.237983,
          49.2553846831502
         ],
         "line": {
          "color": "black"
         },
         "lon": [
          -123.068585,
          -123.066013649185
         ],
         "mode": "lines",
         "type": "scattergeo"
        },
        {
         "hoverinfo": "none",
         "lat": [
          49.19268,
          49.190394728435
         ],
         "line": {
          "color": "black"
         },
         "lon": [
          -122.816946,
          -122.848462790325
         ],
         "mode": "lines",
         "type": "scattergeo"
        },
        {
         "hoverinfo": "none",
         "lat": [
          49.152089,
          49.190394728435
         ],
         "line": {
          "color": "black"
         },
         "lon": [
          -122.841664,
          -122.848462790325
         ],
         "mode": "lines",
         "type": "scattergeo"
        },
        {
         "hoverinfo": "none",
         "lat": [
          49.286103,
          49.2792476329574
         ],
         "line": {
          "color": "black"
         },
         "lon": [
          -123.031289,
          -123.089566417568
         ],
         "mode": "lines",
         "type": "scattergeo"
        },
        {
         "hoverinfo": "none",
         "lat": [
          48.429315,
          48.477480017302
         ],
         "line": {
          "color": "black"
         },
         "lon": [
          -123.361795,
          -123.36608053282
         ],
         "mode": "lines",
         "type": "scattergeo"
        },
        {
         "hoverinfo": "none",
         "lat": [
          49.26636,
          49.2599844835188
         ],
         "line": {
          "color": "black"
         },
         "lon": [
          -122.95263,
          -123.039291252264
         ],
         "mode": "lines",
         "type": "scattergeo"
        },
        {
         "hoverinfo": "none",
         "lat": [
          49.176992,
          49.1831831533453
         ],
         "line": {
          "color": "black"
         },
         "lon": [
          -122.753373,
          -122.876242276909
         ],
         "mode": "lines",
         "type": "scattergeo"
        },
        {
         "hoverinfo": "none",
         "lat": [
          49.176465,
          49.0938916038734
         ],
         "line": {
          "color": "black"
         },
         "lon": [
          -122.655969,
          -122.647453561111
         ],
         "mode": "lines",
         "type": "scattergeo"
        },
        {
         "hoverinfo": "none",
         "lat": [
          49.262639,
          49.2560324587443
         ],
         "line": {
          "color": "black"
         },
         "lon": [
          -123.096001,
          -123.132777904483
         ],
         "mode": "lines",
         "type": "scattergeo"
        },
        {
         "hoverinfo": "none",
         "lat": [
          49.038359,
          49.1963107379676
         ],
         "line": {
          "color": "black"
         },
         "lon": [
          -122.799908,
          -122.824169757623
         ],
         "mode": "lines",
         "type": "scattergeo"
        },
        {
         "hoverinfo": "none",
         "lat": [
          48.441949,
          48.438852542965
         ],
         "line": {
          "color": "black"
         },
         "lon": [
          -123.369235,
          -123.407442429181
         ],
         "mode": "lines",
         "type": "scattergeo"
        },
        {
         "hoverinfo": "none",
         "lat": [
          48.43294,
          48.4827382013408
         ],
         "line": {
          "color": "black"
         },
         "lon": [
          -123.3693,
          -123.506344576293
         ],
         "mode": "lines",
         "type": "scattergeo"
        },
        {
         "hoverinfo": "none",
         "lat": [
          48.427779,
          48.4164754620703
         ],
         "line": {
          "color": "black"
         },
         "lon": [
          -123.357812,
          -123.365138868897
         ],
         "mode": "lines",
         "type": "scattergeo"
        },
        {
         "hoverinfo": "none",
         "lat": [
          49.669456,
          56.2740795809477
         ],
         "line": {
          "color": "black"
         },
         "lon": [
          -115.971299,
          -120.801104114379
         ],
         "mode": "lines",
         "type": "scattergeo"
        },
        {
         "hoverinfo": "none",
         "lat": [
          49.257164,
          49.2483683725875
         ],
         "line": {
          "color": "black"
         },
         "lon": [
          -123.089441,
          -123.090270017544
         ],
         "mode": "lines",
         "type": "scattergeo"
        },
        {
         "hoverinfo": "none",
         "lat": [
          49.257164,
          49.2483683725875
         ],
         "line": {
          "color": "black"
         },
         "lon": [
          -123.089441,
          -123.090270017544
         ],
         "mode": "lines",
         "type": "scattergeo"
        },
        {
         "hoverinfo": "none",
         "lat": [
          49.257164,
          49.2483683725875
         ],
         "line": {
          "color": "black"
         },
         "lon": [
          -123.089441,
          -123.090270017544
         ],
         "mode": "lines",
         "type": "scattergeo"
        },
        {
         "hoverinfo": "none",
         "lat": [
          49.257164,
          49.2329747531744
         ],
         "line": {
          "color": "black"
         },
         "lon": [
          -123.089441,
          -123.092112415841
         ],
         "mode": "lines",
         "type": "scattergeo"
        },
        {
         "hoverinfo": "none",
         "lat": [
          49.152089,
          49.190394728435
         ],
         "line": {
          "color": "black"
         },
         "lon": [
          -122.841664,
          -122.848462790325
         ],
         "mode": "lines",
         "type": "scattergeo"
        },
        {
         "hoverinfo": "none",
         "lat": [
          49.224089,
          49.2493050777848
         ],
         "line": {
          "color": "black"
         },
         "lon": [
          -122.940994,
          -122.993815083006
         ],
         "mode": "lines",
         "type": "scattergeo"
        },
        {
         "hoverinfo": "none",
         "lat": [
          49.152089,
          49.190394728435
         ],
         "line": {
          "color": "black"
         },
         "lon": [
          -122.841664,
          -122.848462790325
         ],
         "mode": "lines",
         "type": "scattergeo"
        },
        {
         "hoverinfo": "none",
         "lat": [
          49.256766,
          49.2766738428341
         ],
         "line": {
          "color": "black"
         },
         "lon": [
          -123.013939,
          -123.007422486654
         ],
         "mode": "lines",
         "type": "scattergeo"
        },
        {
         "hoverinfo": "none",
         "lat": [
          49.193214,
          49.1176110168489
         ],
         "line": {
          "color": "black"
         },
         "lon": [
          -122.804226,
          -122.754853365374
         ],
         "mode": "lines",
         "type": "scattergeo"
        },
        {
         "hoverinfo": "none",
         "lat": [
          46.493607,
          49.6960071548991
         ],
         "line": {
          "color": "black"
         },
         "lon": [
          -84.075776,
          -116.33379949076
         ],
         "mode": "lines",
         "type": "scattergeo"
        },
        {
         "hoverinfo": "none",
         "lat": [
          49.249386,
          49.2364668900495
         ],
         "line": {
          "color": "black"
         },
         "lon": [
          -122.892765,
          -122.852141086465
         ],
         "mode": "lines",
         "type": "scattergeo"
        },
        {
         "hoverinfo": "none",
         "lat": [
          49.152089,
          49.1073342505904
         ],
         "line": {
          "color": "black"
         },
         "lon": [
          -122.841664,
          -122.855372149511
         ],
         "mode": "lines",
         "type": "scattergeo"
        },
        {
         "hoverinfo": "none",
         "lat": [
          49.187062,
          49.1963107379676
         ],
         "line": {
          "color": "black"
         },
         "lon": [
          -122.785431,
          -122.824169757623
         ],
         "mode": "lines",
         "type": "scattergeo"
        },
        {
         "hoverinfo": "none",
         "lat": [
          49.184657,
          49.159590837299
         ],
         "line": {
          "color": "black"
         },
         "lon": [
          -123.136555,
          -123.11946654448
         ],
         "mode": "lines",
         "type": "scattergeo"
        },
        {
         "hoverinfo": "none",
         "lat": [
          49.27706,
          49.2235963510792
         ],
         "line": {
          "color": "black"
         },
         "lon": [
          -123.065614,
          -123.067835340981
         ],
         "mode": "lines",
         "type": "scattergeo"
        },
        {
         "hoverinfo": "none",
         "lat": [
          48.436934,
          48.4765793361461
         ],
         "line": {
          "color": "black"
         },
         "lon": [
          -123.312889,
          -123.314845757847
         ],
         "mode": "lines",
         "type": "scattergeo"
        },
        {
         "hoverinfo": "none",
         "lat": [
          48.43605,
          48.4585245729765
         ],
         "line": {
          "color": "black"
         },
         "lon": [
          -123.333662,
          -123.332376533154
         ],
         "mode": "lines",
         "type": "scattergeo"
        },
        {
         "hoverinfo": "none",
         "lat": [
          49.213447,
          49.231084104224
         ],
         "line": {
          "color": "black"
         },
         "lon": [
          -122.937887,
          -122.954299843948
         ],
         "mode": "lines",
         "type": "scattergeo"
        },
        {
         "hoverinfo": "none",
         "lat": [
          49.191526,
          49.1073342505904
         ],
         "line": {
          "color": "black"
         },
         "lon": [
          -122.84331,
          -122.855372149511
         ],
         "mode": "lines",
         "type": "scattergeo"
        },
        {
         "hoverinfo": "none",
         "lat": [
          49.19268,
          49.190394728435
         ],
         "line": {
          "color": "black"
         },
         "lon": [
          -122.816946,
          -122.848462790325
         ],
         "mode": "lines",
         "type": "scattergeo"
        },
        {
         "hoverinfo": "none",
         "lat": [
          48.54964,
          48.5816953672664
         ],
         "line": {
          "color": "black"
         },
         "lon": [
          -123.36931,
          -123.422318363172
         ],
         "mode": "lines",
         "type": "scattergeo"
        },
        {
         "hoverinfo": "none",
         "lat": [
          49.221947,
          49.2031043659851
         ],
         "line": {
          "color": "black"
         },
         "lon": [
          -122.961767,
          -122.992325673539
         ],
         "mode": "lines",
         "type": "scattergeo"
        },
        {
         "hoverinfo": "none",
         "lat": [
          49.202124,
          49.2211306947439
         ],
         "line": {
          "color": "black"
         },
         "lon": [
          -122.909873,
          -122.898883878006
         ],
         "mode": "lines",
         "type": "scattergeo"
        },
        {
         "hoverinfo": "none",
         "lat": [
          49.237983,
          49.2798017113343
         ],
         "line": {
          "color": "black"
         },
         "lon": [
          -123.068585,
          -123.066047262467
         ],
         "mode": "lines",
         "type": "scattergeo"
        },
        {
         "hoverinfo": "none",
         "lat": [
          49.258282,
          49.2687688423554
         ],
         "line": {
          "color": "black"
         },
         "lon": [
          -122.964601,
          -122.929926374963
         ],
         "mode": "lines",
         "type": "scattergeo"
        },
        {
         "hoverinfo": "none",
         "lat": [
          49.26636,
          49.2287120398275
         ],
         "line": {
          "color": "black"
         },
         "lon": [
          -122.95263,
          -122.996471986297
         ],
         "mode": "lines",
         "type": "scattergeo"
        },
        {
         "hoverinfo": "none",
         "lat": [
          54.99489,
          49.1018732261522
         ],
         "line": {
          "color": "black"
         },
         "lon": [
          -129.89385,
          -125.019665241324
         ],
         "mode": "lines",
         "type": "scattergeo"
        },
        {
         "hoverinfo": "none",
         "lat": [
          48.465052,
          48.4827382013408
         ],
         "line": {
          "color": "black"
         },
         "lon": [
          -123.43043,
          -123.506344576293
         ],
         "mode": "lines",
         "type": "scattergeo"
        },
        {
         "hoverinfo": "none",
         "lat": [
          48.445786,
          48.4960159700356
         ],
         "line": {
          "color": "black"
         },
         "lon": [
          -123.3711,
          -123.400130211172
         ],
         "mode": "lines",
         "type": "scattergeo"
        },
        {
         "hoverinfo": "none",
         "lat": [
          49.286103,
          49.2792476329574
         ],
         "line": {
          "color": "black"
         },
         "lon": [
          -123.031289,
          -123.089566417568
         ],
         "mode": "lines",
         "type": "scattergeo"
        },
        {
         "hoverinfo": "none",
         "lat": [
          49.24966,
          49.2663229578375
         ],
         "line": {
          "color": "black"
         },
         "lon": [
          -123.11934,
          -123.197873679399
         ],
         "mode": "lines",
         "type": "scattergeo"
        },
        {
         "hoverinfo": "none",
         "lat": [
          49.24966,
          49.2337945141212
         ],
         "line": {
          "color": "black"
         },
         "lon": [
          -123.11934,
          -123.145782384338
         ],
         "mode": "lines",
         "type": "scattergeo"
        },
        {
         "hoverinfo": "none",
         "lat": [
          49.19268,
          49.190394728435
         ],
         "line": {
          "color": "black"
         },
         "lon": [
          -122.816946,
          -122.848462790325
         ],
         "mode": "lines",
         "type": "scattergeo"
        },
        {
         "hoverinfo": "none",
         "lat": [
          49.170919,
          49.190394728435
         ],
         "line": {
          "color": "black"
         },
         "lon": [
          -122.87532,
          -122.848462790325
         ],
         "mode": "lines",
         "type": "scattergeo"
        },
        {
         "hoverinfo": "none",
         "lat": [
          49.261974,
          49.2553846831502
         ],
         "line": {
          "color": "black"
         },
         "lon": [
          -123.098669,
          -123.066013649185
         ],
         "mode": "lines",
         "type": "scattergeo"
        },
        {
         "hoverinfo": "none",
         "lat": [
          49.24966,
          49.2337945141212
         ],
         "line": {
          "color": "black"
         },
         "lon": [
          -123.11934,
          -123.145782384338
         ],
         "mode": "lines",
         "type": "scattergeo"
        },
        {
         "hoverinfo": "none",
         "lat": [
          49.10635,
          49.190394728435
         ],
         "line": {
          "color": "black"
         },
         "lon": [
          -122.82509,
          -122.848462790325
         ],
         "mode": "lines",
         "type": "scattergeo"
        },
        {
         "hoverinfo": "none",
         "lat": [
          49.88307,
          49.825491060816
         ],
         "line": {
          "color": "black"
         },
         "lon": [
          -119.48568,
          -119.471541715992
         ],
         "mode": "lines",
         "type": "scattergeo"
        },
        {
         "hoverinfo": "none",
         "lat": [
          null,
          55.2162327988935
         ],
         "line": {
          "color": "black"
         },
         "lon": [
          null,
          -126.402446521041
         ],
         "mode": "lines",
         "type": "scattergeo"
        },
        {
         "hoverinfo": "none",
         "lat": [
          49.173571,
          49.1831831533453
         ],
         "line": {
          "color": "black"
         },
         "lon": [
          -122.68227,
          -122.876242276909
         ],
         "mode": "lines",
         "type": "scattergeo"
        },
        {
         "hoverinfo": "none",
         "lat": [
          49.278841,
          49.2990081073594
         ],
         "line": {
          "color": "black"
         },
         "lon": [
          -123.115953,
          -123.140823913795
         ],
         "mode": "lines",
         "type": "scattergeo"
        },
        {
         "hoverinfo": "none",
         "lat": [
          49.343248,
          49.3157977072378
         ],
         "line": {
          "color": "black"
         },
         "lon": [
          -123.068524,
          -123.057394813444
         ],
         "mode": "lines",
         "type": "scattergeo"
        },
        {
         "hoverinfo": "none",
         "lat": [
          49.25403,
          49.2483683725875
         ],
         "line": {
          "color": "black"
         },
         "lon": [
          -123.029302,
          -123.090270017544
         ],
         "mode": "lines",
         "type": "scattergeo"
        },
        {
         "hoverinfo": "none",
         "lat": [
          49.234939,
          49.2150978094316
         ],
         "line": {
          "color": "black"
         },
         "lon": [
          -123.197167,
          -123.097310727838
         ],
         "mode": "lines",
         "type": "scattergeo"
        },
        {
         "hoverinfo": "none",
         "lat": [
          49.287334,
          49.2287120398275
         ],
         "line": {
          "color": "black"
         },
         "lon": [
          -123.005744,
          -122.996471986297
         ],
         "mode": "lines",
         "type": "scattergeo"
        },
        {
         "hoverinfo": "none",
         "lat": [
          49.28297,
          49.2364668900495
         ],
         "line": {
          "color": "black"
         },
         "lon": [
          -122.75262,
          -122.852141086465
         ],
         "mode": "lines",
         "type": "scattergeo"
        },
        {
         "hoverinfo": "none",
         "lat": [
          50.668392,
          50.5376609383155
         ],
         "line": {
          "color": "black"
         },
         "lon": [
          -120.355123,
          -120.0112256856
         ],
         "mode": "lines",
         "type": "scattergeo"
        },
        {
         "hoverinfo": "none",
         "lat": [
          48.434318,
          48.4827382013408
         ],
         "line": {
          "color": "black"
         },
         "lon": [
          -123.381812,
          -123.506344576293
         ],
         "mode": "lines",
         "type": "scattergeo"
        },
        {
         "hoverinfo": "none",
         "lat": [
          49.188351,
          49.0571619551277
         ],
         "line": {
          "color": "black"
         },
         "lon": [
          -122.777198,
          -122.754315950226
         ],
         "mode": "lines",
         "type": "scattergeo"
        },
        {
         "hoverinfo": "none",
         "lat": [
          49.285309,
          49.3612978273612
         ],
         "line": {
          "color": "black"
         },
         "lon": [
          -123.112468,
          -123.01847527487
         ],
         "mode": "lines",
         "type": "scattergeo"
        },
        {
         "hoverinfo": "none",
         "lat": [
          53.888619,
          53.6493565080645
         ],
         "line": {
          "color": "black"
         },
         "lon": [
          -122.769478,
          -122.957816392392
         ],
         "mode": "lines",
         "type": "scattergeo"
        },
        {
         "hoverinfo": "none",
         "lat": [
          null,
          50.0457888438141
         ],
         "line": {
          "color": "black"
         },
         "lon": [
          null,
          -119.291583751319
         ],
         "mode": "lines",
         "type": "scattergeo"
        },
        {
         "hoverinfo": "none",
         "lat": [
          null,
          56.2740795809477
         ],
         "line": {
          "color": "black"
         },
         "lon": [
          null,
          -120.801104114379
         ],
         "mode": "lines",
         "type": "scattergeo"
        },
        {
         "hoverinfo": "none",
         "lat": [
          49.321018,
          49.3224863139215
         ],
         "line": {
          "color": "black"
         },
         "lon": [
          -123.072348,
          -123.084865113587
         ],
         "mode": "lines",
         "type": "scattergeo"
        },
        {
         "hoverinfo": "none",
         "lat": [
          49.249386,
          49.2364668900495
         ],
         "line": {
          "color": "black"
         },
         "lon": [
          -122.892765,
          -122.852141086465
         ],
         "mode": "lines",
         "type": "scattergeo"
        },
        {
         "hoverinfo": "none",
         "lat": [
          49.839659,
          49.892071734828
         ],
         "line": {
          "color": "black"
         },
         "lon": [
          -119.482181,
          -119.484658444334
         ],
         "mode": "lines",
         "type": "scattergeo"
        },
        {
         "hoverinfo": "none",
         "lat": [
          49.10635,
          49.1176110168489
         ],
         "line": {
          "color": "black"
         },
         "lon": [
          -122.82509,
          -122.754853365374
         ],
         "mode": "lines",
         "type": "scattergeo"
        },
        {
         "hoverinfo": "none",
         "lat": [
          48.500672,
          50.2542502949404
         ],
         "line": {
          "color": "black"
         },
         "lon": [
          -123.50605,
          -124.686309260507
         ],
         "mode": "lines",
         "type": "scattergeo"
        },
        {
         "hoverinfo": "none",
         "lat": [
          49.219898,
          49.2746756191813
         ],
         "line": {
          "color": "black"
         },
         "lon": [
          -123.140105,
          -123.125856387968
         ],
         "mode": "lines",
         "type": "scattergeo"
        },
        {
         "hoverinfo": "none",
         "lat": [
          49.101973,
          49.2211306947439
         ],
         "line": {
          "color": "black"
         },
         "lon": [
          -123.072077,
          -122.898883878006
         ],
         "mode": "lines",
         "type": "scattergeo"
        },
        {
         "hoverinfo": "none",
         "lat": [
          49.262639,
          49.2474770879481
         ],
         "line": {
          "color": "black"
         },
         "lon": [
          -123.096001,
          -123.121233343796
         ],
         "mode": "lines",
         "type": "scattergeo"
        },
        {
         "hoverinfo": "none",
         "lat": [
          49.321018,
          49.3224863139215
         ],
         "line": {
          "color": "black"
         },
         "lon": [
          -123.072348,
          -123.084865113587
         ],
         "mode": "lines",
         "type": "scattergeo"
        },
        {
         "hoverinfo": "none",
         "lat": [
          49.213447,
          49.2287120398275
         ],
         "line": {
          "color": "black"
         },
         "lon": [
          -122.937887,
          -122.996471986297
         ],
         "mode": "lines",
         "type": "scattergeo"
        },
        {
         "hoverinfo": "none",
         "lat": [
          49.152089,
          49.190394728435
         ],
         "line": {
          "color": "black"
         },
         "lon": [
          -122.841664,
          -122.848462790325
         ],
         "mode": "lines",
         "type": "scattergeo"
        },
        {
         "hoverinfo": "none",
         "lat": [
          49.038359,
          49.1963107379676
         ],
         "line": {
          "color": "black"
         },
         "lon": [
          -122.799908,
          -122.824169757623
         ],
         "mode": "lines",
         "type": "scattergeo"
        },
        {
         "hoverinfo": "none",
         "lat": [
          49.212489,
          49.1863745873237
         ],
         "line": {
          "color": "black"
         },
         "lon": [
          -122.937299,
          -123.111677711376
         ],
         "mode": "lines",
         "type": "scattergeo"
        },
        {
         "hoverinfo": "none",
         "lat": [
          48.428514,
          48.477480017302
         ],
         "line": {
          "color": "black"
         },
         "lon": [
          -123.358915,
          -123.36608053282
         ],
         "mode": "lines",
         "type": "scattergeo"
        },
        {
         "hoverinfo": "none",
         "lat": [
          49.05798,
          49.0391641015383
         ],
         "line": {
          "color": "black"
         },
         "lon": [
          -122.25257,
          -122.347843226749
         ],
         "mode": "lines",
         "type": "scattergeo"
        },
        {
         "hoverinfo": "none",
         "lat": [
          49.10107,
          49.1277794033541
         ],
         "line": {
          "color": "black"
         },
         "lon": [
          -122.65883,
          -122.621185397052
         ],
         "mode": "lines",
         "type": "scattergeo"
        },
        {
         "hoverinfo": "none",
         "lat": [
          49.278841,
          49.2834575694212
         ],
         "line": {
          "color": "black"
         },
         "lon": [
          -123.115953,
          -123.129406113292
         ],
         "mode": "lines",
         "type": "scattergeo"
        },
        {
         "hoverinfo": "none",
         "lat": [
          49.261974,
          49.2397224546965
         ],
         "line": {
          "color": "black"
         },
         "lon": [
          -123.098669,
          -123.040753717645
         ],
         "mode": "lines",
         "type": "scattergeo"
        },
        {
         "hoverinfo": "none",
         "lat": [
          48.425042,
          48.4164754620703
         ],
         "line": {
          "color": "black"
         },
         "lon": [
          -123.357665,
          -123.365138868897
         ],
         "mode": "lines",
         "type": "scattergeo"
        },
        {
         "hoverinfo": "none",
         "lat": [
          49.176147,
          49.1637063144196
         ],
         "line": {
          "color": "black"
         },
         "lon": [
          -123.946941,
          -123.977995931183
         ],
         "mode": "lines",
         "type": "scattergeo"
        },
        {
         "hoverinfo": "none",
         "lat": [
          49.1598,
          49.0771170456374
         ],
         "line": {
          "color": "black"
         },
         "lon": [
          -121.9459,
          -121.991756609719
         ],
         "mode": "lines",
         "type": "scattergeo"
        },
        {
         "hoverinfo": "none",
         "lat": [
          49.045534,
          49.0385145601345
         ],
         "line": {
          "color": "black"
         },
         "lon": [
          -122.782769,
          -122.83110874713
         ],
         "mode": "lines",
         "type": "scattergeo"
        },
        {
         "hoverinfo": "none",
         "lat": [
          48.39781,
          48.4827382013408
         ],
         "line": {
          "color": "black"
         },
         "lon": [
          -123.61749,
          -123.506344576293
         ],
         "mode": "lines",
         "type": "scattergeo"
        },
        {
         "hoverinfo": "none",
         "lat": [
          49.21709,
          49.2990081073594
         ],
         "line": {
          "color": "black"
         },
         "lon": [
          -123.064673,
          -123.140823913795
         ],
         "mode": "lines",
         "type": "scattergeo"
        },
        {
         "hoverinfo": "none",
         "lat": [
          49.133519,
          49.117565817857
         ],
         "line": {
          "color": "black"
         },
         "lon": [
          -123.151771,
          -123.117052820606
         ],
         "mode": "lines",
         "type": "scattergeo"
        },
        {
         "hoverinfo": "none",
         "lat": [
          49.27706,
          49.2235963510792
         ],
         "line": {
          "color": "black"
         },
         "lon": [
          -123.065614,
          -123.067835340981
         ],
         "mode": "lines",
         "type": "scattergeo"
        },
        {
         "hoverinfo": "none",
         "lat": [
          48.43294,
          48.438852542965
         ],
         "line": {
          "color": "black"
         },
         "lon": [
          -123.3693,
          -123.407442429181
         ],
         "mode": "lines",
         "type": "scattergeo"
        },
        {
         "hoverinfo": "none",
         "lat": [
          49.960525,
          50.0290593358728
         ],
         "line": {
          "color": "black"
         },
         "lon": [
          -125.230421,
          -125.312111889001
         ],
         "mode": "lines",
         "type": "scattergeo"
        },
        {
         "hoverinfo": "none",
         "lat": [
          49.262639,
          49.2653172633961
         ],
         "line": {
          "color": "black"
         },
         "lon": [
          -123.096001,
          -123.165649863758
         ],
         "mode": "lines",
         "type": "scattergeo"
        },
        {
         "hoverinfo": "none",
         "lat": [
          49.740523,
          49.7066694937424
         ],
         "line": {
          "color": "black"
         },
         "lon": [
          -123.129111,
          -123.134752654783
         ],
         "mode": "lines",
         "type": "scattergeo"
        },
        {
         "hoverinfo": "none",
         "lat": [
          49.050184,
          49.0571619551277
         ],
         "line": {
          "color": "black"
         },
         "lon": [
          -122.830992,
          -122.754315950226
         ],
         "mode": "lines",
         "type": "scattergeo"
        },
        {
         "hoverinfo": "none",
         "lat": [
          49.05798,
          49.0391641015383
         ],
         "line": {
          "color": "black"
         },
         "lon": [
          -122.25257,
          -122.347843226749
         ],
         "mode": "lines",
         "type": "scattergeo"
        },
        {
         "hoverinfo": "none",
         "lat": [
          49.320258,
          49.3224863139215
         ],
         "line": {
          "color": "black"
         },
         "lon": [
          -123.107836,
          -123.084865113587
         ],
         "mode": "lines",
         "type": "scattergeo"
        },
        {
         "hoverinfo": "none",
         "lat": [
          49.321018,
          49.3224863139215
         ],
         "line": {
          "color": "black"
         },
         "lon": [
          -123.072348,
          -123.084865113587
         ],
         "mode": "lines",
         "type": "scattergeo"
        },
        {
         "hoverinfo": "none",
         "lat": [
          49.25403,
          49.2792476329574
         ],
         "line": {
          "color": "black"
         },
         "lon": [
          -123.029302,
          -123.089566417568
         ],
         "mode": "lines",
         "type": "scattergeo"
        },
        {
         "hoverinfo": "none",
         "lat": [
          49.27706,
          49.2235963510792
         ],
         "line": {
          "color": "black"
         },
         "lon": [
          -123.065614,
          -123.067835340981
         ],
         "mode": "lines",
         "type": "scattergeo"
        },
        {
         "hoverinfo": "none",
         "lat": [
          49.31636,
          49.3612978273612
         ],
         "line": {
          "color": "black"
         },
         "lon": [
          -123.06934,
          -123.01847527487
         ],
         "mode": "lines",
         "type": "scattergeo"
        },
        {
         "hoverinfo": "none",
         "lat": [
          49.262639,
          49.2653172633961
         ],
         "line": {
          "color": "black"
         },
         "lon": [
          -123.096001,
          -123.165649863758
         ],
         "mode": "lines",
         "type": "scattergeo"
        },
        {
         "hoverinfo": "none",
         "lat": [
          49.242265,
          49.2474770879481
         ],
         "line": {
          "color": "black"
         },
         "lon": [
          -123.0416,
          -123.121233343796
         ],
         "mode": "lines",
         "type": "scattergeo"
        },
        {
         "hoverinfo": "none",
         "lat": [
          49.24966,
          49.2501828672927
         ],
         "line": {
          "color": "black"
         },
         "lon": [
          -123.11934,
          -123.109998145249
         ],
         "mode": "lines",
         "type": "scattergeo"
        },
        {
         "hoverinfo": "none",
         "lat": [
          49.237983,
          49.2553846831502
         ],
         "line": {
          "color": "black"
         },
         "lon": [
          -123.068585,
          -123.066013649185
         ],
         "mode": "lines",
         "type": "scattergeo"
        },
        {
         "hoverinfo": "none",
         "lat": [
          49.28297,
          49.2364668900495
         ],
         "line": {
          "color": "black"
         },
         "lon": [
          -122.75262,
          -122.852141086465
         ],
         "mode": "lines",
         "type": "scattergeo"
        },
        {
         "hoverinfo": "none",
         "lat": [
          49.25403,
          49.2792476329574
         ],
         "line": {
          "color": "black"
         },
         "lon": [
          -123.029302,
          -123.089566417568
         ],
         "mode": "lines",
         "type": "scattergeo"
        },
        {
         "hoverinfo": "none",
         "lat": [
          49.25403,
          49.2150978094316
         ],
         "line": {
          "color": "black"
         },
         "lon": [
          -123.029302,
          -123.097310727838
         ],
         "mode": "lines",
         "type": "scattergeo"
        },
        {
         "hoverinfo": "none",
         "lat": [
          49.281922,
          49.2792476329574
         ],
         "line": {
          "color": "black"
         },
         "lon": [
          -123.105221,
          -123.089566417568
         ],
         "mode": "lines",
         "type": "scattergeo"
        },
        {
         "hoverinfo": "none",
         "lat": [
          49.234939,
          49.2150978094316
         ],
         "line": {
          "color": "black"
         },
         "lon": [
          -123.197167,
          -123.097310727838
         ],
         "mode": "lines",
         "type": "scattergeo"
        },
        {
         "hoverinfo": "none",
         "lat": [
          49.28297,
          49.3193274323444
         ],
         "line": {
          "color": "black"
         },
         "lon": [
          -122.75262,
          -122.739297891156
         ],
         "mode": "lines",
         "type": "scattergeo"
        },
        {
         "hoverinfo": "none",
         "lat": [
          49.16312,
          49.1410042094931
         ],
         "line": {
          "color": "black"
         },
         "lon": [
          -122.792145,
          -122.856837478998
         ],
         "mode": "lines",
         "type": "scattergeo"
        },
        {
         "hoverinfo": "none",
         "lat": [
          49.116954,
          49.190394728435
         ],
         "line": {
          "color": "black"
         },
         "lon": [
          -122.839876,
          -122.848462790325
         ],
         "mode": "lines",
         "type": "scattergeo"
        },
        {
         "hoverinfo": "none",
         "lat": [
          49.152089,
          49.190394728435
         ],
         "line": {
          "color": "black"
         },
         "lon": [
          -122.841664,
          -122.848462790325
         ],
         "mode": "lines",
         "type": "scattergeo"
        },
        {
         "hoverinfo": "none",
         "lat": [
          49.17003,
          49.1863745873237
         ],
         "line": {
          "color": "black"
         },
         "lon": [
          -123.13683,
          -123.111677711376
         ],
         "mode": "lines",
         "type": "scattergeo"
        },
        {
         "hoverinfo": "none",
         "lat": [
          49.17246,
          49.0938916038734
         ],
         "line": {
          "color": "black"
         },
         "lon": [
          -122.580791,
          -122.647453561111
         ],
         "mode": "lines",
         "type": "scattergeo"
        },
        {
         "hoverinfo": "none",
         "lat": [
          49.202124,
          49.2211306947439
         ],
         "line": {
          "color": "black"
         },
         "lon": [
          -122.909873,
          -122.898883878006
         ],
         "mode": "lines",
         "type": "scattergeo"
        },
        {
         "hoverinfo": "none",
         "lat": [
          49.060309,
          49.0391641015383
         ],
         "line": {
          "color": "black"
         },
         "lon": [
          -122.302132,
          -122.347843226749
         ],
         "mode": "lines",
         "type": "scattergeo"
        },
        {
         "hoverinfo": "none",
         "lat": [
          49.27706,
          49.2235963510792
         ],
         "line": {
          "color": "black"
         },
         "lon": [
          -123.065614,
          -123.067835340981
         ],
         "mode": "lines",
         "type": "scattergeo"
        },
        {
         "hoverinfo": "none",
         "lat": [
          49.168284,
          49.1719889563992
         ],
         "line": {
          "color": "black"
         },
         "lon": [
          -122.799114,
          -122.734851508864
         ],
         "mode": "lines",
         "type": "scattergeo"
        },
        {
         "hoverinfo": "none",
         "lat": [
          49.263597,
          49.2474770879481
         ],
         "line": {
          "color": "black"
         },
         "lon": [
          -123.121382,
          -123.121233343796
         ],
         "mode": "lines",
         "type": "scattergeo"
        },
        {
         "hoverinfo": "none",
         "lat": [
          49.257164,
          49.2329747531744
         ],
         "line": {
          "color": "black"
         },
         "lon": [
          -123.089441,
          -123.092112415841
         ],
         "mode": "lines",
         "type": "scattergeo"
        },
        {
         "hoverinfo": "none",
         "lat": [
          48.43605,
          48.4765793361461
         ],
         "line": {
          "color": "black"
         },
         "lon": [
          -123.333662,
          -123.314845757847
         ],
         "mode": "lines",
         "type": "scattergeo"
        },
        {
         "hoverinfo": "none",
         "lat": [
          49.26636,
          49.2287120398275
         ],
         "line": {
          "color": "black"
         },
         "lon": [
          -122.95263,
          -122.996471986297
         ],
         "mode": "lines",
         "type": "scattergeo"
        },
        {
         "hoverinfo": "none",
         "lat": [
          49.16638,
          49.1202165306208
         ],
         "line": {
          "color": "black"
         },
         "lon": [
          -123.94003,
          -124.264420416604
         ],
         "mode": "lines",
         "type": "scattergeo"
        },
        {
         "hoverinfo": "none",
         "lat": [
          49.257193,
          49.2560324587443
         ],
         "line": {
          "color": "black"
         },
         "lon": [
          -123.139226,
          -123.132777904483
         ],
         "mode": "lines",
         "type": "scattergeo"
        },
        {
         "hoverinfo": "none",
         "lat": [
          49.10635,
          49.1719889563992
         ],
         "line": {
          "color": "black"
         },
         "lon": [
          -122.82509,
          -122.734851508864
         ],
         "mode": "lines",
         "type": "scattergeo"
        },
        {
         "hoverinfo": "none",
         "lat": [
          49.16638,
          49.2168198317455
         ],
         "line": {
          "color": "black"
         },
         "lon": [
          -123.94003,
          -124.006702443619
         ],
         "mode": "lines",
         "type": "scattergeo"
        },
        {
         "hoverinfo": "none",
         "lat": [
          49.178077,
          49.1410042094931
         ],
         "line": {
          "color": "black"
         },
         "lon": [
          -122.888808,
          -122.856837478998
         ],
         "mode": "lines",
         "type": "scattergeo"
        },
        {
         "hoverinfo": "none",
         "lat": [
          49.10635,
          49.1410042094931
         ],
         "line": {
          "color": "black"
         },
         "lon": [
          -122.82509,
          -122.856837478998
         ],
         "mode": "lines",
         "type": "scattergeo"
        },
        {
         "hoverinfo": "none",
         "lat": [
          49.17003,
          49.1849260491468
         ],
         "line": {
          "color": "black"
         },
         "lon": [
          -123.13683,
          -123.031056110956
         ],
         "mode": "lines",
         "type": "scattergeo"
        },
        {
         "hoverinfo": "none",
         "lat": [
          49.88307,
          50.0457888438141
         ],
         "line": {
          "color": "black"
         },
         "lon": [
          -119.48568,
          -119.291583751319
         ],
         "mode": "lines",
         "type": "scattergeo"
        },
        {
         "hoverinfo": "none",
         "lat": [
          53.923123,
          53.9016967692326
         ],
         "line": {
          "color": "black"
         },
         "lon": [
          -122.806159,
          -122.754683060268
         ],
         "mode": "lines",
         "type": "scattergeo"
        },
        {
         "hoverinfo": "none",
         "lat": [
          49.213447,
          49.2287120398275
         ],
         "line": {
          "color": "black"
         },
         "lon": [
          -122.937887,
          -122.996471986297
         ],
         "mode": "lines",
         "type": "scattergeo"
        },
        {
         "hoverinfo": "none",
         "lat": [
          49.169284,
          49.1863745873237
         ],
         "line": {
          "color": "black"
         },
         "lon": [
          -123.182501,
          -123.111677711376
         ],
         "mode": "lines",
         "type": "scattergeo"
        },
        {
         "hoverinfo": "none",
         "lat": [
          49.152089,
          49.1073342505904
         ],
         "line": {
          "color": "black"
         },
         "lon": [
          -122.841664,
          -122.855372149511
         ],
         "mode": "lines",
         "type": "scattergeo"
        },
        {
         "hoverinfo": "none",
         "lat": [
          49.27706,
          49.2235963510792
         ],
         "line": {
          "color": "black"
         },
         "lon": [
          -123.065614,
          -123.067835340981
         ],
         "mode": "lines",
         "type": "scattergeo"
        },
        {
         "hoverinfo": "none",
         "lat": [
          49.128334,
          49.1863745873237
         ],
         "line": {
          "color": "black"
         },
         "lon": [
          -123.184243,
          -123.111677711376
         ],
         "mode": "lines",
         "type": "scattergeo"
        },
        {
         "hoverinfo": "none",
         "lat": [
          49.27706,
          49.2235963510792
         ],
         "line": {
          "color": "black"
         },
         "lon": [
          -123.065614,
          -123.067835340981
         ],
         "mode": "lines",
         "type": "scattergeo"
        },
        {
         "hoverinfo": "none",
         "lat": [
          49.206701,
          49.2798017113343
         ],
         "line": {
          "color": "black"
         },
         "lon": [
          -123.059569,
          -123.066047262467
         ],
         "mode": "lines",
         "type": "scattergeo"
        },
        {
         "hoverinfo": "none",
         "lat": [
          49.10107,
          49.166916594348
         ],
         "line": {
          "color": "black"
         },
         "lon": [
          -122.65883,
          -122.579859195355
         ],
         "mode": "lines",
         "type": "scattergeo"
        },
        {
         "hoverinfo": "none",
         "lat": [
          49.10635,
          49.1410042094931
         ],
         "line": {
          "color": "black"
         },
         "lon": [
          -122.82509,
          -122.856837478998
         ],
         "mode": "lines",
         "type": "scattergeo"
        },
        {
         "hoverinfo": "none",
         "lat": [
          49.16312,
          49.1410042094931
         ],
         "line": {
          "color": "black"
         },
         "lon": [
          -122.792145,
          -122.856837478998
         ],
         "mode": "lines",
         "type": "scattergeo"
        },
        {
         "hoverinfo": "none",
         "lat": [
          49.10635,
          49.1963107379676
         ],
         "line": {
          "color": "black"
         },
         "lon": [
          -122.82509,
          -122.824169757623
         ],
         "mode": "lines",
         "type": "scattergeo"
        },
        {
         "hoverinfo": "none",
         "lat": [
          49.25403,
          49.2329747531744
         ],
         "line": {
          "color": "black"
         },
         "lon": [
          -123.029302,
          -123.092112415841
         ],
         "mode": "lines",
         "type": "scattergeo"
        },
        {
         "hoverinfo": "none",
         "lat": [
          null,
          49.2687688423554
         ],
         "line": {
          "color": "black"
         },
         "lon": [
          null,
          -122.929926374963
         ],
         "mode": "lines",
         "type": "scattergeo"
        },
        {
         "hoverinfo": "none",
         "lat": [
          49.286103,
          49.2792476329574
         ],
         "line": {
          "color": "black"
         },
         "lon": [
          -123.031289,
          -123.089566417568
         ],
         "mode": "lines",
         "type": "scattergeo"
        },
        {
         "hoverinfo": "none",
         "lat": [
          49.20678,
          49.2211306947439
         ],
         "line": {
          "color": "black"
         },
         "lon": [
          -122.91092,
          -122.898883878006
         ],
         "mode": "lines",
         "type": "scattergeo"
        },
        {
         "hoverinfo": "none",
         "lat": [
          49.320024,
          49.3157977072378
         ],
         "line": {
          "color": "black"
         },
         "lon": [
          -123.075547,
          -123.057394813444
         ],
         "mode": "lines",
         "type": "scattergeo"
        },
        {
         "hoverinfo": "none",
         "lat": [
          49.322966,
          49.3224863139215
         ],
         "line": {
          "color": "black"
         },
         "lon": [
          -123.059976,
          -123.084865113587
         ],
         "mode": "lines",
         "type": "scattergeo"
        },
        {
         "hoverinfo": "none",
         "lat": [
          49.321018,
          49.3224863139215
         ],
         "line": {
          "color": "black"
         },
         "lon": [
          -123.072348,
          -123.084865113587
         ],
         "mode": "lines",
         "type": "scattergeo"
        },
        {
         "hoverinfo": "none",
         "lat": [
          49.23473,
          49.2397224546965
         ],
         "line": {
          "color": "black"
         },
         "lon": [
          -123.167395,
          -123.040753717645
         ],
         "mode": "lines",
         "type": "scattergeo"
        },
        {
         "hoverinfo": "none",
         "lat": [
          49.210534,
          49.3397464394847
         ],
         "line": {
          "color": "black"
         },
         "lon": [
          -123.15075,
          -123.192793552348
         ],
         "mode": "lines",
         "type": "scattergeo"
        },
        {
         "hoverinfo": "none",
         "lat": [
          49.28297,
          49.2598783495975
         ],
         "line": {
          "color": "black"
         },
         "lon": [
          -122.75262,
          -122.859911962369
         ],
         "mode": "lines",
         "type": "scattergeo"
        },
        {
         "hoverinfo": "none",
         "lat": [
          49.282576,
          49.2792476329574
         ],
         "line": {
          "color": "black"
         },
         "lon": [
          -123.103734,
          -123.089566417568
         ],
         "mode": "lines",
         "type": "scattergeo"
        },
        {
         "hoverinfo": "none",
         "lat": [
          null,
          49.892071734828
         ],
         "line": {
          "color": "black"
         },
         "lon": [
          null,
          -119.484658444334
         ],
         "mode": "lines",
         "type": "scattergeo"
        },
        {
         "hoverinfo": "none",
         "lat": [
          48.39781,
          48.4827382013408
         ],
         "line": {
          "color": "black"
         },
         "lon": [
          -123.61749,
          -123.506344576293
         ],
         "mode": "lines",
         "type": "scattergeo"
        },
        {
         "hoverinfo": "none",
         "lat": [
          49.286103,
          49.2792476329574
         ],
         "line": {
          "color": "black"
         },
         "lon": [
          -123.031289,
          -123.089566417568
         ],
         "mode": "lines",
         "type": "scattergeo"
        },
        {
         "hoverinfo": "none",
         "lat": [
          49.257164,
          49.2483683725875
         ],
         "line": {
          "color": "black"
         },
         "lon": [
          -123.089441,
          -123.090270017544
         ],
         "mode": "lines",
         "type": "scattergeo"
        },
        {
         "hoverinfo": "none",
         "lat": [
          49.133737,
          49.1176110168489
         ],
         "line": {
          "color": "black"
         },
         "lon": [
          -122.862311,
          -122.754853365374
         ],
         "mode": "lines",
         "type": "scattergeo"
        },
        {
         "hoverinfo": "none",
         "lat": [
          49.089931,
          49.1562750066142
         ],
         "line": {
          "color": "black"
         },
         "lon": [
          -122.979477,
          -122.910958159732
         ],
         "mode": "lines",
         "type": "scattergeo"
        },
        {
         "hoverinfo": "none",
         "lat": [
          49.178077,
          49.1410042094931
         ],
         "line": {
          "color": "black"
         },
         "lon": [
          -122.888808,
          -122.856837478998
         ],
         "mode": "lines",
         "type": "scattergeo"
        },
        {
         "hoverinfo": "none",
         "lat": [
          null,
          49.2434793968708
         ],
         "line": {
          "color": "black"
         },
         "lon": [
          null,
          -122.786754985938
         ],
         "mode": "lines",
         "type": "scattergeo"
        },
        {
         "hoverinfo": "none",
         "lat": [
          49.17003,
          49.1863745873237
         ],
         "line": {
          "color": "black"
         },
         "lon": [
          -123.13683,
          -123.111677711376
         ],
         "mode": "lines",
         "type": "scattergeo"
        },
        {
         "hoverinfo": "none",
         "lat": [
          58.515507,
          56.2740795809477
         ],
         "line": {
          "color": "black"
         },
         "lon": [
          -117.126333,
          -120.801104114379
         ],
         "mode": "lines",
         "type": "scattergeo"
        },
        {
         "hoverinfo": "none",
         "lat": [
          49.10635,
          49.1176110168489
         ],
         "line": {
          "color": "black"
         },
         "lon": [
          -122.82509,
          -122.754853365374
         ],
         "mode": "lines",
         "type": "scattergeo"
        },
        {
         "hoverinfo": "none",
         "lat": [
          49.178077,
          49.1410042094931
         ],
         "line": {
          "color": "black"
         },
         "lon": [
          -122.888808,
          -122.856837478998
         ],
         "mode": "lines",
         "type": "scattergeo"
        },
        {
         "hoverinfo": "none",
         "lat": [
          49.185736,
          49.1176110168489
         ],
         "line": {
          "color": "black"
         },
         "lon": [
          -122.756478,
          -122.754853365374
         ],
         "mode": "lines",
         "type": "scattergeo"
        },
        {
         "hoverinfo": "none",
         "lat": [
          49.321018,
          49.3224863139215
         ],
         "line": {
          "color": "black"
         },
         "lon": [
          -123.072348,
          -123.084865113587
         ],
         "mode": "lines",
         "type": "scattergeo"
        },
        {
         "hoverinfo": "none",
         "lat": [
          49.25403,
          49.2483683725875
         ],
         "line": {
          "color": "black"
         },
         "lon": [
          -123.029302,
          -123.090270017544
         ],
         "mode": "lines",
         "type": "scattergeo"
        },
        {
         "hoverinfo": "none",
         "lat": [
          49.220453,
          49.2197678565689
         ],
         "line": {
          "color": "black"
         },
         "lon": [
          -122.512498,
          -122.615084831127
         ],
         "mode": "lines",
         "type": "scattergeo"
        },
        {
         "hoverinfo": "none",
         "lat": [
          49.218549,
          49.2151894721671
         ],
         "line": {
          "color": "black"
         },
         "lon": [
          -123.09345,
          -123.139811386092
         ],
         "mode": "lines",
         "type": "scattergeo"
        },
        {
         "hoverinfo": "none",
         "lat": [
          49.214683,
          49.2031043659851
         ],
         "line": {
          "color": "black"
         },
         "lon": [
          -122.961388,
          -122.992325673539
         ],
         "mode": "lines",
         "type": "scattergeo"
        },
        {
         "hoverinfo": "none",
         "lat": [
          49.178077,
          49.1410042094931
         ],
         "line": {
          "color": "black"
         },
         "lon": [
          -122.888808,
          -122.856837478998
         ],
         "mode": "lines",
         "type": "scattergeo"
        },
        {
         "hoverinfo": "none",
         "lat": [
          49.05798,
          49.0391641015383
         ],
         "line": {
          "color": "black"
         },
         "lon": [
          -122.25257,
          -122.347843226749
         ],
         "mode": "lines",
         "type": "scattergeo"
        },
        {
         "hoverinfo": "none",
         "lat": [
          49.26636,
          49.2264196469788
         ],
         "line": {
          "color": "black"
         },
         "lon": [
          -122.95263,
          -122.930978717438
         ],
         "mode": "lines",
         "type": "scattergeo"
        },
        {
         "hoverinfo": "none",
         "lat": [
          49.339497,
          49.322209821279
         ],
         "line": {
          "color": "black"
         },
         "lon": [
          -123.114487,
          -123.113622357888
         ],
         "mode": "lines",
         "type": "scattergeo"
        },
        {
         "hoverinfo": "none",
         "lat": [
          49.839659,
          49.892071734828
         ],
         "line": {
          "color": "black"
         },
         "lon": [
          -119.482181,
          -119.484658444334
         ],
         "mode": "lines",
         "type": "scattergeo"
        },
        {
         "hoverinfo": "none",
         "lat": [
          49.178077,
          49.1073342505904
         ],
         "line": {
          "color": "black"
         },
         "lon": [
          -122.888808,
          -122.855372149511
         ],
         "mode": "lines",
         "type": "scattergeo"
        },
        {
         "hoverinfo": "none",
         "lat": [
          49.195547,
          49.2895690694205
         ],
         "line": {
          "color": "black"
         },
         "lon": [
          -122.560105,
          -122.515863836411
         ],
         "mode": "lines",
         "type": "scattergeo"
        },
        {
         "hoverinfo": "none",
         "lat": [
          49.106579,
          49.2151894721671
         ],
         "line": {
          "color": "black"
         },
         "lon": [
          -122.631953,
          -123.139811386092
         ],
         "mode": "lines",
         "type": "scattergeo"
        },
        {
         "hoverinfo": "none",
         "lat": [
          49.17003,
          49.2017555361651
         ],
         "line": {
          "color": "black"
         },
         "lon": [
          -123.13683,
          -123.184036593146
         ],
         "mode": "lines",
         "type": "scattergeo"
        },
        {
         "hoverinfo": "none",
         "lat": [
          49.257164,
          49.2329747531744
         ],
         "line": {
          "color": "black"
         },
         "lon": [
          -123.089441,
          -123.092112415841
         ],
         "mode": "lines",
         "type": "scattergeo"
        },
        {
         "hoverinfo": "none",
         "lat": [
          49.17003,
          49.1863745873237
         ],
         "line": {
          "color": "black"
         },
         "lon": [
          -123.13683,
          -123.111677711376
         ],
         "mode": "lines",
         "type": "scattergeo"
        },
        {
         "hoverinfo": "none",
         "lat": [
          49.25403,
          49.2634062814426
         ],
         "line": {
          "color": "black"
         },
         "lon": [
          -123.029302,
          -123.090819401467
         ],
         "mode": "lines",
         "type": "scattergeo"
        },
        {
         "hoverinfo": "none",
         "lat": [
          49.237983,
          49.2798017113343
         ],
         "line": {
          "color": "black"
         },
         "lon": [
          -123.068585,
          -123.066047262467
         ],
         "mode": "lines",
         "type": "scattergeo"
        },
        {
         "hoverinfo": "none",
         "lat": [
          49.326389,
          49.3669503539618
         ],
         "line": {
          "color": "black"
         },
         "lon": [
          -123.089469,
          -123.061702768441
         ],
         "mode": "lines",
         "type": "scattergeo"
        },
        {
         "hoverinfo": "none",
         "lat": [
          49.25403,
          49.2483683725875
         ],
         "line": {
          "color": "black"
         },
         "lon": [
          -123.029302,
          -123.090270017544
         ],
         "mode": "lines",
         "type": "scattergeo"
        },
        {
         "hoverinfo": "none",
         "lat": [
          49.245293,
          49.2774564884192
         ],
         "line": {
          "color": "black"
         },
         "lon": [
          -122.96726,
          -122.975964564566
         ],
         "mode": "lines",
         "type": "scattergeo"
        },
        {
         "hoverinfo": "none",
         "lat": [
          49.249057,
          49.2364668900495
         ],
         "line": {
          "color": "black"
         },
         "lon": [
          -122.829877,
          -122.852141086465
         ],
         "mode": "lines",
         "type": "scattergeo"
        },
        {
         "hoverinfo": "none",
         "lat": [
          48.696901,
          48.5816953672664
         ],
         "line": {
          "color": "black"
         },
         "lon": [
          -123.457804,
          -123.422318363172
         ],
         "mode": "lines",
         "type": "scattergeo"
        },
        {
         "hoverinfo": "none",
         "lat": [
          49.10635,
          49.190394728435
         ],
         "line": {
          "color": "black"
         },
         "lon": [
          -122.82509,
          -122.848462790325
         ],
         "mode": "lines",
         "type": "scattergeo"
        },
        {
         "hoverinfo": "none",
         "lat": [
          49.215457,
          49.2264196469788
         ],
         "line": {
          "color": "black"
         },
         "lon": [
          -122.934213,
          -122.930978717438
         ],
         "mode": "lines",
         "type": "scattergeo"
        },
        {
         "hoverinfo": "none",
         "lat": [
          49.187062,
          49.1963107379676
         ],
         "line": {
          "color": "black"
         },
         "lon": [
          -122.785431,
          -122.824169757623
         ],
         "mode": "lines",
         "type": "scattergeo"
        },
        {
         "hoverinfo": "none",
         "lat": [
          54.99489,
          49.1018732261522
         ],
         "line": {
          "color": "black"
         },
         "lon": [
          -129.89385,
          -125.019665241324
         ],
         "mode": "lines",
         "type": "scattergeo"
        },
        {
         "hoverinfo": "none",
         "lat": [
          48.499238,
          48.477480017302
         ],
         "line": {
          "color": "black"
         },
         "lon": [
          -123.390997,
          -123.36608053282
         ],
         "mode": "lines",
         "type": "scattergeo"
        },
        {
         "hoverinfo": "none",
         "lat": [
          49.10635,
          49.1719889563992
         ],
         "line": {
          "color": "black"
         },
         "lon": [
          -122.82509,
          -122.734851508864
         ],
         "mode": "lines",
         "type": "scattergeo"
        },
        {
         "hoverinfo": "none",
         "lat": [
          49.172724,
          49.1894387656804
         ],
         "line": {
          "color": "black"
         },
         "lon": [
          -123.959447,
          -123.963586439922
         ],
         "mode": "lines",
         "type": "scattergeo"
        },
        {
         "hoverinfo": "none",
         "lat": [
          49.865752,
          50.0457888438141
         ],
         "line": {
          "color": "black"
         },
         "lon": [
          -119.146072,
          -119.291583751319
         ],
         "mode": "lines",
         "type": "scattergeo"
        },
        {
         "hoverinfo": "none",
         "lat": [
          49.155611,
          49.159590837299
         ],
         "line": {
          "color": "black"
         },
         "lon": [
          -123.169836,
          -123.11946654448
         ],
         "mode": "lines",
         "type": "scattergeo"
        },
        {
         "hoverinfo": "none",
         "lat": [
          48.444956,
          48.440018157679
         ],
         "line": {
          "color": "black"
         },
         "lon": [
          -123.333787,
          -123.357355323014
         ],
         "mode": "lines",
         "type": "scattergeo"
        },
        {
         "hoverinfo": "none",
         "lat": [
          49.337373,
          49.3744165251405
         ],
         "line": {
          "color": "black"
         },
         "lon": [
          -123.056295,
          -123.097541300827
         ],
         "mode": "lines",
         "type": "scattergeo"
        },
        {
         "hoverinfo": "none",
         "lat": [
          49.007399,
          49.1176110168489
         ],
         "line": {
          "color": "black"
         },
         "lon": [
          -122.260811,
          -122.754853365374
         ],
         "mode": "lines",
         "type": "scattergeo"
        },
        {
         "hoverinfo": "none",
         "lat": [
          49.10107,
          49.166916594348
         ],
         "line": {
          "color": "black"
         },
         "lon": [
          -122.65883,
          -122.579859195355
         ],
         "mode": "lines",
         "type": "scattergeo"
        },
        {
         "hoverinfo": "none",
         "lat": [
          49.007399,
          49.1176110168489
         ],
         "line": {
          "color": "black"
         },
         "lon": [
          -122.260811,
          -122.754853365374
         ],
         "mode": "lines",
         "type": "scattergeo"
        },
        {
         "hoverinfo": "none",
         "lat": [
          49.257738,
          49.2560324587443
         ],
         "line": {
          "color": "black"
         },
         "lon": [
          -123.111115,
          -123.132777904483
         ],
         "mode": "lines",
         "type": "scattergeo"
        },
        {
         "hoverinfo": "none",
         "lat": [
          null,
          49.1984065446686
         ],
         "line": {
          "color": "black"
         },
         "lon": [
          null,
          -122.934408509512
         ],
         "mode": "lines",
         "type": "scattergeo"
        },
        {
         "hoverinfo": "none",
         "lat": [
          49.36672,
          49.3311374602925
         ],
         "line": {
          "color": "black"
         },
         "lon": [
          -123.16652,
          -123.140270612201
         ],
         "mode": "lines",
         "type": "scattergeo"
        },
        {
         "hoverinfo": "none",
         "lat": [
          49.26636,
          49.2599844835188
         ],
         "line": {
          "color": "black"
         },
         "lon": [
          -122.95263,
          -123.039291252264
         ],
         "mode": "lines",
         "type": "scattergeo"
        },
        {
         "hoverinfo": "none",
         "lat": [
          49.17003,
          49.117565817857
         ],
         "line": {
          "color": "black"
         },
         "lon": [
          -123.13683,
          -123.117052820606
         ],
         "mode": "lines",
         "type": "scattergeo"
        },
        {
         "hoverinfo": "none",
         "lat": [
          49.10635,
          49.1963107379676
         ],
         "line": {
          "color": "black"
         },
         "lon": [
          -122.82509,
          -122.824169757623
         ],
         "mode": "lines",
         "type": "scattergeo"
        },
        {
         "hoverinfo": "none",
         "lat": [
          49.219898,
          49.2560324587443
         ],
         "line": {
          "color": "black"
         },
         "lon": [
          -123.140105,
          -123.132777904483
         ],
         "mode": "lines",
         "type": "scattergeo"
        },
        {
         "hoverinfo": "none",
         "lat": [
          49.262639,
          49.2553846831502
         ],
         "line": {
          "color": "black"
         },
         "lon": [
          -123.096001,
          -123.066013649185
         ],
         "mode": "lines",
         "type": "scattergeo"
        },
        {
         "hoverinfo": "none",
         "lat": [
          49.227254,
          49.2337945141212
         ],
         "line": {
          "color": "black"
         },
         "lon": [
          -123.128281,
          -123.145782384338
         ],
         "mode": "lines",
         "type": "scattergeo"
        },
        {
         "hoverinfo": "none",
         "lat": [
          49.261974,
          49.2553846831502
         ],
         "line": {
          "color": "black"
         },
         "lon": [
          -123.098669,
          -123.066013649185
         ],
         "mode": "lines",
         "type": "scattergeo"
        },
        {
         "hoverinfo": "none",
         "lat": [
          49.278841,
          49.2990081073594
         ],
         "line": {
          "color": "black"
         },
         "lon": [
          -123.115953,
          -123.140823913795
         ],
         "mode": "lines",
         "type": "scattergeo"
        },
        {
         "hoverinfo": "none",
         "lat": [
          49.188351,
          49.0571619551277
         ],
         "line": {
          "color": "black"
         },
         "lon": [
          -122.777198,
          -122.754315950226
         ],
         "mode": "lines",
         "type": "scattergeo"
        },
        {
         "hoverinfo": "none",
         "lat": [
          49.10635,
          49.1176110168489
         ],
         "line": {
          "color": "black"
         },
         "lon": [
          -122.82509,
          -122.754853365374
         ],
         "mode": "lines",
         "type": "scattergeo"
        },
        {
         "hoverinfo": "none",
         "lat": [
          49.26225,
          49.2653172633961
         ],
         "line": {
          "color": "black"
         },
         "lon": [
          -123.042626,
          -123.165649863758
         ],
         "mode": "lines",
         "type": "scattergeo"
        },
        {
         "hoverinfo": "none",
         "lat": [
          49.218753,
          49.2287120398275
         ],
         "line": {
          "color": "black"
         },
         "lon": [
          -122.982918,
          -122.996471986297
         ],
         "mode": "lines",
         "type": "scattergeo"
        },
        {
         "hoverinfo": "none",
         "lat": [
          49.88307,
          49.9494031638513
         ],
         "line": {
          "color": "black"
         },
         "lon": [
          -119.48568,
          -119.433353966091
         ],
         "mode": "lines",
         "type": "scattergeo"
        },
        {
         "hoverinfo": "none",
         "lat": [
          49.264925,
          49.2610047203502
         ],
         "line": {
          "color": "black"
         },
         "lon": [
          -123.105063,
          -123.145479801502
         ],
         "mode": "lines",
         "type": "scattergeo"
        },
        {
         "hoverinfo": "none",
         "lat": [
          49.173571,
          49.1831831533453
         ],
         "line": {
          "color": "black"
         },
         "lon": [
          -122.68227,
          -122.876242276909
         ],
         "mode": "lines",
         "type": "scattergeo"
        },
        {
         "hoverinfo": "none",
         "lat": [
          48.426448,
          48.4381324963577
         ],
         "line": {
          "color": "black"
         },
         "lon": [
          -123.328163,
          -123.318423151507
         ],
         "mode": "lines",
         "type": "scattergeo"
        },
        {
         "hoverinfo": "none",
         "lat": [
          50.314003,
          51.1250429917237
         ],
         "line": {
          "color": "black"
         },
         "lon": [
          -122.729335,
          -121.61558960958
         ],
         "mode": "lines",
         "type": "scattergeo"
        },
        {
         "hoverinfo": "none",
         "lat": [
          49.157538,
          49.1288299968612
         ],
         "line": {
          "color": "black"
         },
         "lon": [
          -123.181116,
          -123.148738771175
         ],
         "mode": "lines",
         "type": "scattergeo"
        },
        {
         "hoverinfo": "none",
         "lat": [
          49.103818,
          49.0938916038734
         ],
         "line": {
          "color": "black"
         },
         "lon": [
          -122.490041,
          -122.647453561111
         ],
         "mode": "lines",
         "type": "scattergeo"
        },
        {
         "hoverinfo": "none",
         "lat": [
          49.25403,
          49.2792476329574
         ],
         "line": {
          "color": "black"
         },
         "lon": [
          -123.029302,
          -123.089566417568
         ],
         "mode": "lines",
         "type": "scattergeo"
        },
        {
         "hoverinfo": "none",
         "lat": [
          49.300229,
          49.2724993577155
         ],
         "line": {
          "color": "black"
         },
         "lon": [
          -122.761371,
          -122.756523735201
         ],
         "mode": "lines",
         "type": "scattergeo"
        },
        {
         "hoverinfo": "none",
         "lat": [
          49.152089,
          49.0552243022838
         ],
         "line": {
          "color": "black"
         },
         "lon": [
          -122.841664,
          -122.828060602292
         ],
         "mode": "lines",
         "type": "scattergeo"
        },
        {
         "hoverinfo": "none",
         "lat": [
          49.098831,
          49.1176110168489
         ],
         "line": {
          "color": "black"
         },
         "lon": [
          -122.884104,
          -122.754853365374
         ],
         "mode": "lines",
         "type": "scattergeo"
        },
        {
         "hoverinfo": "none",
         "lat": [
          49.213447,
          49.2287120398275
         ],
         "line": {
          "color": "black"
         },
         "lon": [
          -122.937887,
          -122.996471986297
         ],
         "mode": "lines",
         "type": "scattergeo"
        },
        {
         "hoverinfo": "none",
         "lat": [
          49.045534,
          49.0385145601345
         ],
         "line": {
          "color": "black"
         },
         "lon": [
          -122.782769,
          -122.83110874713
         ],
         "mode": "lines",
         "type": "scattergeo"
        },
        {
         "hoverinfo": "none",
         "lat": [
          49.26911,
          49.2663229578375
         ],
         "line": {
          "color": "black"
         },
         "lon": [
          -123.214999,
          -123.197873679399
         ],
         "mode": "lines",
         "type": "scattergeo"
        },
        {
         "hoverinfo": "none",
         "lat": [
          49.262639,
          49.2653172633961
         ],
         "line": {
          "color": "black"
         },
         "lon": [
          -123.096001,
          -123.165649863758
         ],
         "mode": "lines",
         "type": "scattergeo"
        },
        {
         "hoverinfo": "none",
         "lat": [
          49.264797,
          49.2508143510126
         ],
         "line": {
          "color": "black"
         },
         "lon": [
          -123.183769,
          -123.215501310984
         ],
         "mode": "lines",
         "type": "scattergeo"
        },
        {
         "hoverinfo": "none",
         "lat": [
          49.36672,
          49.3397464394847
         ],
         "line": {
          "color": "black"
         },
         "lon": [
          -123.16652,
          -123.192793552348
         ],
         "mode": "lines",
         "type": "scattergeo"
        },
        {
         "hoverinfo": "none",
         "lat": [
          49.227254,
          49.2560324587443
         ],
         "line": {
          "color": "black"
         },
         "lon": [
          -123.128281,
          -123.132777904483
         ],
         "mode": "lines",
         "type": "scattergeo"
        },
        {
         "hoverinfo": "none",
         "lat": [
          49.330058,
          49.3744165251405
         ],
         "line": {
          "color": "black"
         },
         "lon": [
          -123.094079,
          -123.097541300827
         ],
         "mode": "lines",
         "type": "scattergeo"
        },
        {
         "hoverinfo": "none",
         "lat": [
          49.26636,
          49.2031043659851
         ],
         "line": {
          "color": "black"
         },
         "lon": [
          -122.95263,
          -122.992325673539
         ],
         "mode": "lines",
         "type": "scattergeo"
        },
        {
         "hoverinfo": "none",
         "lat": [
          49.202124,
          49.2211306947439
         ],
         "line": {
          "color": "black"
         },
         "lon": [
          -122.909873,
          -122.898883878006
         ],
         "mode": "lines",
         "type": "scattergeo"
        },
        {
         "hoverinfo": "none",
         "lat": [
          49.263243,
          49.2663229578375
         ],
         "line": {
          "color": "black"
         },
         "lon": [
          -123.170153,
          -123.197873679399
         ],
         "mode": "lines",
         "type": "scattergeo"
        },
        {
         "hoverinfo": "none",
         "lat": [
          49.330498,
          49.3311374602925
         ],
         "line": {
          "color": "black"
         },
         "lon": [
          -123.172648,
          -123.140270612201
         ],
         "mode": "lines",
         "type": "scattergeo"
        },
        {
         "hoverinfo": "none",
         "lat": [
          49.17003,
          49.1626286600844
         ],
         "line": {
          "color": "black"
         },
         "lon": [
          -123.13683,
          -123.172127771816
         ],
         "mode": "lines",
         "type": "scattergeo"
        },
        {
         "hoverinfo": "none",
         "lat": [
          48.428514,
          48.477480017302
         ],
         "line": {
          "color": "black"
         },
         "lon": [
          -123.358915,
          -123.36608053282
         ],
         "mode": "lines",
         "type": "scattergeo"
        },
        {
         "hoverinfo": "none",
         "lat": [
          49.261974,
          49.2553846831502
         ],
         "line": {
          "color": "black"
         },
         "lon": [
          -123.098669,
          -123.066013649185
         ],
         "mode": "lines",
         "type": "scattergeo"
        },
        {
         "hoverinfo": "none",
         "lat": [
          49.237983,
          49.2798017113343
         ],
         "line": {
          "color": "black"
         },
         "lon": [
          -123.068585,
          -123.066047262467
         ],
         "mode": "lines",
         "type": "scattergeo"
        },
        {
         "hoverinfo": "none",
         "lat": [
          49.137854,
          49.1626286600844
         ],
         "line": {
          "color": "black"
         },
         "lon": [
          -123.147848,
          -123.172127771816
         ],
         "mode": "lines",
         "type": "scattergeo"
        },
        {
         "hoverinfo": "none",
         "lat": [
          49.10107,
          49.1277794033541
         ],
         "line": {
          "color": "black"
         },
         "lon": [
          -122.65883,
          -122.621185397052
         ],
         "mode": "lines",
         "type": "scattergeo"
        },
        {
         "hoverinfo": "none",
         "lat": [
          49.865752,
          50.0457888438141
         ],
         "line": {
          "color": "black"
         },
         "lon": [
          -119.146072,
          -119.291583751319
         ],
         "mode": "lines",
         "type": "scattergeo"
        },
        {
         "hoverinfo": "none",
         "lat": [
          48.471742,
          48.4765793361461
         ],
         "line": {
          "color": "black"
         },
         "lon": [
          -123.352616,
          -123.314845757847
         ],
         "mode": "lines",
         "type": "scattergeo"
        },
        {
         "hoverinfo": "none",
         "lat": [
          48.440045,
          48.4164754620703
         ],
         "line": {
          "color": "black"
         },
         "lon": [
          -123.337232,
          -123.365138868897
         ],
         "mode": "lines",
         "type": "scattergeo"
        },
        {
         "hoverinfo": "none",
         "lat": [
          null,
          49.853974371311
         ],
         "line": {
          "color": "black"
         },
         "lon": [
          null,
          -119.62915661075
         ],
         "mode": "lines",
         "type": "scattergeo"
        },
        {
         "hoverinfo": "none",
         "lat": [
          48.471742,
          48.4765793361461
         ],
         "line": {
          "color": "black"
         },
         "lon": [
          -123.352616,
          -123.314845757847
         ],
         "mode": "lines",
         "type": "scattergeo"
        },
        {
         "hoverinfo": "none",
         "lat": [
          49.32862,
          49.3397464394847
         ],
         "line": {
          "color": "black"
         },
         "lon": [
          -123.158906,
          -123.192793552348
         ],
         "mode": "lines",
         "type": "scattergeo"
        },
        {
         "hoverinfo": "none",
         "lat": [
          null,
          49.2211306947439
         ],
         "line": {
          "color": "black"
         },
         "lon": [
          null,
          -122.898883878006
         ],
         "mode": "lines",
         "type": "scattergeo"
        },
        {
         "hoverinfo": "none",
         "lat": [
          null,
          49.0385145601345
         ],
         "line": {
          "color": "black"
         },
         "lon": [
          null,
          -122.83110874713
         ],
         "mode": "lines",
         "type": "scattergeo"
        },
        {
         "hoverinfo": "none",
         "lat": [
          49.219898,
          49.2894310875386
         ],
         "line": {
          "color": "black"
         },
         "lon": [
          -123.140105,
          -123.119462061727
         ],
         "mode": "lines",
         "type": "scattergeo"
        },
        {
         "hoverinfo": "none",
         "lat": [
          49.102246,
          49.1806404435479
         ],
         "line": {
          "color": "black"
         },
         "lon": [
          -121.962567,
          -121.900229531001
         ],
         "mode": "lines",
         "type": "scattergeo"
        },
        {
         "hoverinfo": "none",
         "lat": [
          48.447204,
          48.4827382013408
         ],
         "line": {
          "color": "black"
         },
         "lon": [
          -123.465962,
          -123.506344576293
         ],
         "mode": "lines",
         "type": "scattergeo"
        },
        {
         "hoverinfo": "none",
         "lat": [
          49.280165,
          49.2803210569917
         ],
         "line": {
          "color": "black"
         },
         "lon": [
          -123.102599,
          -123.113580759168
         ],
         "mode": "lines",
         "type": "scattergeo"
        },
        {
         "hoverinfo": "none",
         "lat": [
          53.923123,
          53.9016967692326
         ],
         "line": {
          "color": "black"
         },
         "lon": [
          -122.806159,
          -122.754683060268
         ],
         "mode": "lines",
         "type": "scattergeo"
        },
        {
         "hoverinfo": "none",
         "lat": [
          48.43294,
          48.4960159700356
         ],
         "line": {
          "color": "black"
         },
         "lon": [
          -123.3693,
          -123.400130211172
         ],
         "mode": "lines",
         "type": "scattergeo"
        },
        {
         "hoverinfo": "none",
         "lat": [
          49.16312,
          49.1410042094931
         ],
         "line": {
          "color": "black"
         },
         "lon": [
          -122.792145,
          -122.856837478998
         ],
         "mode": "lines",
         "type": "scattergeo"
        },
        {
         "hoverinfo": "none",
         "lat": [
          49.237983,
          49.2798017113343
         ],
         "line": {
          "color": "black"
         },
         "lon": [
          -123.068585,
          -123.066047262467
         ],
         "mode": "lines",
         "type": "scattergeo"
        },
        {
         "hoverinfo": "none",
         "lat": [
          49.351186,
          49.3311374602925
         ],
         "line": {
          "color": "black"
         },
         "lon": [
          -123.266198,
          -123.140270612201
         ],
         "mode": "lines",
         "type": "scattergeo"
        },
        {
         "hoverinfo": "none",
         "lat": [
          49.289784,
          49.2834575694212
         ],
         "line": {
          "color": "black"
         },
         "lon": [
          -123.129403,
          -123.129406113292
         ],
         "mode": "lines",
         "type": "scattergeo"
        },
        {
         "hoverinfo": "none",
         "lat": [
          null,
          49.2211306947439
         ],
         "line": {
          "color": "black"
         },
         "lon": [
          null,
          -122.898883878006
         ],
         "mode": "lines",
         "type": "scattergeo"
        },
        {
         "hoverinfo": "none",
         "lat": [
          48.43294,
          48.4381324963577
         ],
         "line": {
          "color": "black"
         },
         "lon": [
          -123.3693,
          -123.318423151507
         ],
         "mode": "lines",
         "type": "scattergeo"
        },
        {
         "hoverinfo": "none",
         "lat": [
          49.17003,
          49.117565817857
         ],
         "line": {
          "color": "black"
         },
         "lon": [
          -123.13683,
          -123.117052820606
         ],
         "mode": "lines",
         "type": "scattergeo"
        },
        {
         "hoverinfo": "none",
         "lat": [
          49.224089,
          49.2493050777848
         ],
         "line": {
          "color": "black"
         },
         "lon": [
          -122.940994,
          -122.993815083006
         ],
         "mode": "lines",
         "type": "scattergeo"
        },
        {
         "hoverinfo": "none",
         "lat": [
          59.785092,
          49.0691909915843
         ],
         "line": {
          "color": "black"
         },
         "lon": [
          -134.944639,
          -122.502340746886
         ],
         "mode": "lines",
         "type": "scattergeo"
        },
        {
         "hoverinfo": "none",
         "lat": [
          49.152089,
          49.190394728435
         ],
         "line": {
          "color": "black"
         },
         "lon": [
          -122.841664,
          -122.848462790325
         ],
         "mode": "lines",
         "type": "scattergeo"
        },
        {
         "hoverinfo": "none",
         "lat": [
          49.150454,
          49.1187964384755
         ],
         "line": {
          "color": "black"
         },
         "lon": [
          -122.89155,
          -122.903580634172
         ],
         "mode": "lines",
         "type": "scattergeo"
        },
        {
         "hoverinfo": "none",
         "lat": [
          49.326389,
          49.3669503539618
         ],
         "line": {
          "color": "black"
         },
         "lon": [
          -123.089469,
          -123.061702768441
         ],
         "mode": "lines",
         "type": "scattergeo"
        },
        {
         "hoverinfo": "none",
         "lat": [
          49.280985,
          49.2774564884192
         ],
         "line": {
          "color": "black"
         },
         "lon": [
          -122.997475,
          -122.975964564566
         ],
         "mode": "lines",
         "type": "scattergeo"
        },
        {
         "hoverinfo": "none",
         "lat": [
          49.045534,
          49.0385145601345
         ],
         "line": {
          "color": "black"
         },
         "lon": [
          -122.782769,
          -122.83110874713
         ],
         "mode": "lines",
         "type": "scattergeo"
        },
        {
         "hoverinfo": "none",
         "lat": [
          49.164395,
          49.1277794033541
         ],
         "line": {
          "color": "black"
         },
         "lon": [
          -122.6685,
          -122.621185397052
         ],
         "mode": "lines",
         "type": "scattergeo"
        },
        {
         "hoverinfo": "none",
         "lat": [
          49.038359,
          49.1963107379676
         ],
         "line": {
          "color": "black"
         },
         "lon": [
          -122.799908,
          -122.824169757623
         ],
         "mode": "lines",
         "type": "scattergeo"
        },
        {
         "hoverinfo": "none",
         "lat": [
          49.281903,
          49.1316251641677
         ],
         "line": {
          "color": "black"
         },
         "lon": [
          -117.214998,
          -117.87778874206
         ],
         "mode": "lines",
         "type": "scattergeo"
        },
        {
         "hoverinfo": "none",
         "lat": [
          49.249057,
          49.2364668900495
         ],
         "line": {
          "color": "black"
         },
         "lon": [
          -122.829877,
          -122.852141086465
         ],
         "mode": "lines",
         "type": "scattergeo"
        },
        {
         "hoverinfo": "none",
         "lat": [
          49.21709,
          49.2990081073594
         ],
         "line": {
          "color": "black"
         },
         "lon": [
          -123.064673,
          -123.140823913795
         ],
         "mode": "lines",
         "type": "scattergeo"
        },
        {
         "hoverinfo": "none",
         "lat": [
          49.178077,
          49.1410042094931
         ],
         "line": {
          "color": "black"
         },
         "lon": [
          -122.888808,
          -122.856837478998
         ],
         "mode": "lines",
         "type": "scattergeo"
        },
        {
         "hoverinfo": "none",
         "lat": [
          49.247912,
          49.2474770879481
         ],
         "line": {
          "color": "black"
         },
         "lon": [
          -123.023814,
          -123.121233343796
         ],
         "mode": "lines",
         "type": "scattergeo"
        },
        {
         "hoverinfo": "none",
         "lat": [
          49.229929,
          49.2494762920413
         ],
         "line": {
          "color": "black"
         },
         "lon": [
          -123.15868,
          -123.164322725527
         ],
         "mode": "lines",
         "type": "scattergeo"
        },
        {
         "hoverinfo": "none",
         "lat": [
          49.31636,
          49.3612978273612
         ],
         "line": {
          "color": "black"
         },
         "lon": [
          -123.06934,
          -123.01847527487
         ],
         "mode": "lines",
         "type": "scattergeo"
        },
        {
         "hoverinfo": "none",
         "lat": [
          49.184657,
          49.117565817857
         ],
         "line": {
          "color": "black"
         },
         "lon": [
          -123.136555,
          -123.117052820606
         ],
         "mode": "lines",
         "type": "scattergeo"
        },
        {
         "hoverinfo": "none",
         "lat": [
          59.785092,
          49.0691909915843
         ],
         "line": {
          "color": "black"
         },
         "lon": [
          -134.944639,
          -122.502340746886
         ],
         "mode": "lines",
         "type": "scattergeo"
        },
        {
         "hoverinfo": "none",
         "lat": [
          49.116954,
          49.1410042094931
         ],
         "line": {
          "color": "black"
         },
         "lon": [
          -122.839876,
          -122.856837478998
         ],
         "mode": "lines",
         "type": "scattergeo"
        },
        {
         "hoverinfo": "none",
         "lat": [
          49.16638,
          49.0771170456374
         ],
         "line": {
          "color": "black"
         },
         "lon": [
          -121.95257,
          -121.991756609719
         ],
         "mode": "lines",
         "type": "scattergeo"
        },
        {
         "hoverinfo": "none",
         "lat": [
          null,
          56.2740795809477
         ],
         "line": {
          "color": "black"
         },
         "lon": [
          null,
          -120.801104114379
         ],
         "mode": "lines",
         "type": "scattergeo"
        },
        {
         "hoverinfo": "none",
         "lat": [
          49.261974,
          49.2483683725875
         ],
         "line": {
          "color": "black"
         },
         "lon": [
          -123.098669,
          -123.090270017544
         ],
         "mode": "lines",
         "type": "scattergeo"
        },
        {
         "hoverinfo": "none",
         "lat": [
          49.25403,
          49.2792476329574
         ],
         "line": {
          "color": "black"
         },
         "lon": [
          -123.029302,
          -123.089566417568
         ],
         "mode": "lines",
         "type": "scattergeo"
        },
        {
         "hoverinfo": "none",
         "lat": [
          49.10635,
          49.1410042094931
         ],
         "line": {
          "color": "black"
         },
         "lon": [
          -122.82509,
          -122.856837478998
         ],
         "mode": "lines",
         "type": "scattergeo"
        },
        {
         "hoverinfo": "none",
         "lat": [
          49.315453,
          49.2787517880738
         ],
         "line": {
          "color": "black"
         },
         "lon": [
          -124.280345,
          -124.233946599315
         ],
         "mode": "lines",
         "type": "scattergeo"
        },
        {
         "hoverinfo": "none",
         "lat": [
          59.785092,
          49.0691909915843
         ],
         "line": {
          "color": "black"
         },
         "lon": [
          -134.944639,
          -122.502340746886
         ],
         "mode": "lines",
         "type": "scattergeo"
        },
        {
         "hoverinfo": "none",
         "lat": [
          49.10635,
          49.0552243022838
         ],
         "line": {
          "color": "black"
         },
         "lon": [
          -122.82509,
          -122.828060602292
         ],
         "mode": "lines",
         "type": "scattergeo"
        },
        {
         "hoverinfo": "none",
         "lat": [
          49.213447,
          49.231084104224
         ],
         "line": {
          "color": "black"
         },
         "lon": [
          -122.937887,
          -122.954299843948
         ],
         "mode": "lines",
         "type": "scattergeo"
        },
        {
         "hoverinfo": "none",
         "lat": [
          49.202124,
          49.2211306947439
         ],
         "line": {
          "color": "black"
         },
         "lon": [
          -122.909873,
          -122.898883878006
         ],
         "mode": "lines",
         "type": "scattergeo"
        },
        {
         "hoverinfo": "none",
         "lat": [
          49.038359,
          49.1963107379676
         ],
         "line": {
          "color": "black"
         },
         "lon": [
          -122.799908,
          -122.824169757623
         ],
         "mode": "lines",
         "type": "scattergeo"
        },
        {
         "hoverinfo": "none",
         "lat": [
          49.20678,
          49.2211306947439
         ],
         "line": {
          "color": "black"
         },
         "lon": [
          -122.91092,
          -122.898883878006
         ],
         "mode": "lines",
         "type": "scattergeo"
        },
        {
         "hoverinfo": "none",
         "lat": [
          48.43294,
          48.438852542965
         ],
         "line": {
          "color": "black"
         },
         "lon": [
          -123.3693,
          -123.407442429181
         ],
         "mode": "lines",
         "type": "scattergeo"
        },
        {
         "hoverinfo": "none",
         "lat": [
          48.43294,
          48.4765793361461
         ],
         "line": {
          "color": "black"
         },
         "lon": [
          -123.3693,
          -123.314845757847
         ],
         "mode": "lines",
         "type": "scattergeo"
        },
        {
         "hoverinfo": "none",
         "lat": [
          53.335937,
          49.0951064005428
         ],
         "line": {
          "color": "black"
         },
         "lon": [
          -111.183402,
          -123.03175653102
         ],
         "mode": "lines",
         "type": "scattergeo"
        },
        {
         "hoverinfo": "none",
         "lat": [
          49.162062,
          49.1410042094931
         ],
         "line": {
          "color": "black"
         },
         "lon": [
          -122.890423,
          -122.856837478998
         ],
         "mode": "lines",
         "type": "scattergeo"
        },
        {
         "hoverinfo": "none",
         "lat": [
          49.248745,
          49.2553846831502
         ],
         "line": {
          "color": "black"
         },
         "lon": [
          -123.099075,
          -123.066013649185
         ],
         "mode": "lines",
         "type": "scattergeo"
        },
        {
         "hoverinfo": "none",
         "lat": [
          49.187084,
          49.2168198317455
         ],
         "line": {
          "color": "black"
         },
         "lon": [
          -123.985525,
          -124.006702443619
         ],
         "mode": "lines",
         "type": "scattergeo"
        },
        {
         "hoverinfo": "none",
         "lat": [
          49.350817,
          49.2168198317455
         ],
         "line": {
          "color": "black"
         },
         "lon": [
          -124.404516,
          -124.006702443619
         ],
         "mode": "lines",
         "type": "scattergeo"
        },
        {
         "hoverinfo": "none",
         "lat": [
          49.959714,
          50.0290593358728
         ],
         "line": {
          "color": "black"
         },
         "lon": [
          -125.234061,
          -125.312111889001
         ],
         "mode": "lines",
         "type": "scattergeo"
        },
        {
         "hoverinfo": "none",
         "lat": [
          49.14399,
          49.1187964384755
         ],
         "line": {
          "color": "black"
         },
         "lon": [
          -122.9068,
          -122.903580634172
         ],
         "mode": "lines",
         "type": "scattergeo"
        },
        {
         "hoverinfo": "none",
         "lat": [
          53.910279,
          53.9120950136368
         ],
         "line": {
          "color": "black"
         },
         "lon": [
          -122.782228,
          -122.870537473543
         ],
         "mode": "lines",
         "type": "scattergeo"
        },
        {
         "hoverinfo": "none",
         "lat": [
          49.17003,
          49.117565817857
         ],
         "line": {
          "color": "black"
         },
         "lon": [
          -123.13683,
          -123.117052820606
         ],
         "mode": "lines",
         "type": "scattergeo"
        },
        {
         "hoverinfo": "none",
         "lat": [
          49.17003,
          49.1626286600844
         ],
         "line": {
          "color": "black"
         },
         "lon": [
          -123.13683,
          -123.172127771816
         ],
         "mode": "lines",
         "type": "scattergeo"
        },
        {
         "hoverinfo": "none",
         "lat": [
          48.43294,
          48.438852542965
         ],
         "line": {
          "color": "black"
         },
         "lon": [
          -123.3693,
          -123.407442429181
         ],
         "mode": "lines",
         "type": "scattergeo"
        },
        {
         "hoverinfo": "none",
         "lat": [
          48.429315,
          48.477480017302
         ],
         "line": {
          "color": "black"
         },
         "lon": [
          -123.361795,
          -123.36608053282
         ],
         "mode": "lines",
         "type": "scattergeo"
        },
        {
         "hoverinfo": "none",
         "lat": [
          null,
          49.892071734828
         ],
         "line": {
          "color": "black"
         },
         "lon": [
          null,
          -119.484658444334
         ],
         "mode": "lines",
         "type": "scattergeo"
        },
        {
         "hoverinfo": "none",
         "lat": [
          null,
          50.2582379440622
         ],
         "line": {
          "color": "black"
         },
         "lon": [
          null,
          -119.280102978158
         ],
         "mode": "lines",
         "type": "scattergeo"
        },
        {
         "hoverinfo": "none",
         "lat": [
          49.31636,
          49.3612978273612
         ],
         "line": {
          "color": "black"
         },
         "lon": [
          -123.06934,
          -123.01847527487
         ],
         "mode": "lines",
         "type": "scattergeo"
        },
        {
         "hoverinfo": "none",
         "lat": [
          49.309314,
          49.3612978273612
         ],
         "line": {
          "color": "black"
         },
         "lon": [
          -123.040457,
          -123.01847527487
         ],
         "mode": "lines",
         "type": "scattergeo"
        },
        {
         "hoverinfo": "none",
         "lat": [
          49.249057,
          49.2364668900495
         ],
         "line": {
          "color": "black"
         },
         "lon": [
          -122.829877,
          -122.852141086465
         ],
         "mode": "lines",
         "type": "scattergeo"
        },
        {
         "hoverinfo": "none",
         "lat": [
          49.26636,
          49.2766738428341
         ],
         "line": {
          "color": "black"
         },
         "lon": [
          -122.95263,
          -123.007422486654
         ],
         "mode": "lines",
         "type": "scattergeo"
        },
        {
         "hoverinfo": "none",
         "lat": [
          49.168336,
          49.322209821279
         ],
         "line": {
          "color": "black"
         },
         "lon": [
          -122.907147,
          -123.113622357888
         ],
         "mode": "lines",
         "type": "scattergeo"
        },
        {
         "hoverinfo": "none",
         "lat": [
          49.152089,
          49.190394728435
         ],
         "line": {
          "color": "black"
         },
         "lon": [
          -122.841664,
          -122.848462790325
         ],
         "mode": "lines",
         "type": "scattergeo"
        },
        {
         "hoverinfo": "none",
         "lat": [
          49.800693,
          49.1073342505904
         ],
         "line": {
          "color": "black"
         },
         "lon": [
          -112.145186,
          -122.855372149511
         ],
         "mode": "lines",
         "type": "scattergeo"
        },
        {
         "hoverinfo": "none",
         "lat": [
          49.26636,
          49.2598783495975
         ],
         "line": {
          "color": "black"
         },
         "lon": [
          -122.95263,
          -122.859911962369
         ],
         "mode": "lines",
         "type": "scattergeo"
        },
        {
         "hoverinfo": "none",
         "lat": [
          49.88307,
          49.9494031638513
         ],
         "line": {
          "color": "black"
         },
         "lon": [
          -119.48568,
          -119.433353966091
         ],
         "mode": "lines",
         "type": "scattergeo"
        },
        {
         "hoverinfo": "none",
         "lat": [
          49.213447,
          49.2287120398275
         ],
         "line": {
          "color": "black"
         },
         "lon": [
          -122.937887,
          -122.996471986297
         ],
         "mode": "lines",
         "type": "scattergeo"
        },
        {
         "hoverinfo": "none",
         "lat": [
          49.01636,
          49.0385145601345
         ],
         "line": {
          "color": "black"
         },
         "lon": [
          -122.8026,
          -122.83110874713
         ],
         "mode": "lines",
         "type": "scattergeo"
        },
        {
         "hoverinfo": "none",
         "lat": [
          49.24966,
          49.2337945141212
         ],
         "line": {
          "color": "black"
         },
         "lon": [
          -123.11934,
          -123.145782384338
         ],
         "mode": "lines",
         "type": "scattergeo"
        },
        {
         "hoverinfo": "none",
         "lat": [
          49.10635,
          49.1176110168489
         ],
         "line": {
          "color": "black"
         },
         "lon": [
          -122.82509,
          -122.754853365374
         ],
         "mode": "lines",
         "type": "scattergeo"
        },
        {
         "hoverinfo": "none",
         "lat": [
          49.150454,
          49.1187964384755
         ],
         "line": {
          "color": "black"
         },
         "lon": [
          -122.89155,
          -122.903580634172
         ],
         "mode": "lines",
         "type": "scattergeo"
        },
        {
         "hoverinfo": "none",
         "lat": [
          49.10635,
          49.1831831533453
         ],
         "line": {
          "color": "black"
         },
         "lon": [
          -122.82509,
          -122.876242276909
         ],
         "mode": "lines",
         "type": "scattergeo"
        },
        {
         "hoverinfo": "none",
         "lat": [
          49.17003,
          49.1863745873237
         ],
         "line": {
          "color": "black"
         },
         "lon": [
          -123.13683,
          -123.111677711376
         ],
         "mode": "lines",
         "type": "scattergeo"
        },
        {
         "hoverinfo": "none",
         "lat": [
          49.262639,
          49.2560324587443
         ],
         "line": {
          "color": "black"
         },
         "lon": [
          -123.096001,
          -123.132777904483
         ],
         "mode": "lines",
         "type": "scattergeo"
        },
        {
         "hoverinfo": "none",
         "lat": [
          53.9166,
          53.9120950136368
         ],
         "line": {
          "color": "black"
         },
         "lon": [
          -122.75301,
          -122.870537473543
         ],
         "mode": "lines",
         "type": "scattergeo"
        },
        {
         "hoverinfo": "none",
         "lat": [
          49.351186,
          49.3397464394847
         ],
         "line": {
          "color": "black"
         },
         "lon": [
          -123.266198,
          -123.192793552348
         ],
         "mode": "lines",
         "type": "scattergeo"
        },
        {
         "hoverinfo": "none",
         "lat": [
          49.280985,
          49.2774564884192
         ],
         "line": {
          "color": "black"
         },
         "lon": [
          -122.997475,
          -122.975964564566
         ],
         "mode": "lines",
         "type": "scattergeo"
        },
        {
         "hoverinfo": "none",
         "lat": [
          49.257164,
          49.2329747531744
         ],
         "line": {
          "color": "black"
         },
         "lon": [
          -123.089441,
          -123.092112415841
         ],
         "mode": "lines",
         "type": "scattergeo"
        },
        {
         "hoverinfo": "none",
         "lat": [
          48.448202,
          48.440018157679
         ],
         "line": {
          "color": "black"
         },
         "lon": [
          -123.337429,
          -123.357355323014
         ],
         "mode": "lines",
         "type": "scattergeo"
        },
        {
         "hoverinfo": "none",
         "lat": [
          49.17003,
          49.1626286600844
         ],
         "line": {
          "color": "black"
         },
         "lon": [
          -123.13683,
          -123.172127771816
         ],
         "mode": "lines",
         "type": "scattergeo"
        },
        {
         "hoverinfo": "none",
         "lat": [
          49.155611,
          49.159590837299
         ],
         "line": {
          "color": "black"
         },
         "lon": [
          -123.169836,
          -123.11946654448
         ],
         "mode": "lines",
         "type": "scattergeo"
        },
        {
         "hoverinfo": "none",
         "lat": [
          48.429315,
          48.4960159700356
         ],
         "line": {
          "color": "black"
         },
         "lon": [
          -123.361795,
          -123.400130211172
         ],
         "mode": "lines",
         "type": "scattergeo"
        },
        {
         "hoverinfo": "none",
         "lat": [
          49.262639,
          49.2653172633961
         ],
         "line": {
          "color": "black"
         },
         "lon": [
          -123.096001,
          -123.165649863758
         ],
         "mode": "lines",
         "type": "scattergeo"
        },
        {
         "hoverinfo": "none",
         "lat": [
          49.26636,
          49.2287120398275
         ],
         "line": {
          "color": "black"
         },
         "lon": [
          -122.95263,
          -122.996471986297
         ],
         "mode": "lines",
         "type": "scattergeo"
        },
        {
         "hoverinfo": "none",
         "lat": [
          49.213447,
          49.231084104224
         ],
         "line": {
          "color": "black"
         },
         "lon": [
          -122.937887,
          -122.954299843948
         ],
         "mode": "lines",
         "type": "scattergeo"
        },
        {
         "hoverinfo": "none",
         "lat": [
          49.10107,
          49.1277794033541
         ],
         "line": {
          "color": "black"
         },
         "lon": [
          -122.65883,
          -122.621185397052
         ],
         "mode": "lines",
         "type": "scattergeo"
        },
        {
         "hoverinfo": "none",
         "lat": [
          48.462936,
          48.438852542965
         ],
         "line": {
          "color": "black"
         },
         "lon": [
          -123.386205,
          -123.407442429181
         ],
         "mode": "lines",
         "type": "scattergeo"
        },
        {
         "hoverinfo": "none",
         "lat": [
          49.262639,
          49.2474770879481
         ],
         "line": {
          "color": "black"
         },
         "lon": [
          -123.096001,
          -123.121233343796
         ],
         "mode": "lines",
         "type": "scattergeo"
        },
        {
         "hoverinfo": "none",
         "lat": [
          49.244658,
          49.1176110168489
         ],
         "line": {
          "color": "black"
         },
         "lon": [
          -122.810124,
          -122.754853365374
         ],
         "mode": "lines",
         "type": "scattergeo"
        },
        {
         "hoverinfo": "none",
         "lat": [
          49.10635,
          49.190394728435
         ],
         "line": {
          "color": "black"
         },
         "lon": [
          -122.82509,
          -122.848462790325
         ],
         "mode": "lines",
         "type": "scattergeo"
        },
        {
         "hoverinfo": "none",
         "lat": [
          53.9166,
          53.6493565080645
         ],
         "line": {
          "color": "black"
         },
         "lon": [
          -122.75301,
          -122.957816392392
         ],
         "mode": "lines",
         "type": "scattergeo"
        },
        {
         "hoverinfo": "none",
         "lat": [
          48.696901,
          48.4960159700356
         ],
         "line": {
          "color": "black"
         },
         "lon": [
          -123.457804,
          -123.400130211172
         ],
         "mode": "lines",
         "type": "scattergeo"
        },
        {
         "hoverinfo": "none",
         "lat": [
          null,
          56.2740795809477
         ],
         "line": {
          "color": "black"
         },
         "lon": [
          null,
          -120.801104114379
         ],
         "mode": "lines",
         "type": "scattergeo"
        },
        {
         "hoverinfo": "none",
         "lat": [
          48.43294,
          48.4827382013408
         ],
         "line": {
          "color": "black"
         },
         "lon": [
          -123.3693,
          -123.506344576293
         ],
         "mode": "lines",
         "type": "scattergeo"
        },
        {
         "hoverinfo": "none",
         "lat": [
          null,
          49.2211306947439
         ],
         "line": {
          "color": "black"
         },
         "lon": [
          null,
          -122.898883878006
         ],
         "mode": "lines",
         "type": "scattergeo"
        },
        {
         "hoverinfo": "none",
         "lat": [
          49.24966,
          49.2553846831502
         ],
         "line": {
          "color": "black"
         },
         "lon": [
          -123.11934,
          -123.066013649185
         ],
         "mode": "lines",
         "type": "scattergeo"
        },
        {
         "hoverinfo": "none",
         "lat": [
          null,
          49.2391998662373
         ],
         "line": {
          "color": "black"
         },
         "lon": [
          null,
          -124.023245438063
         ],
         "mode": "lines",
         "type": "scattergeo"
        },
        {
         "hoverinfo": "none",
         "lat": [
          50.66648,
          50.7712259558725
         ],
         "line": {
          "color": "black"
         },
         "lon": [
          -120.3192,
          -120.375253448043
         ],
         "mode": "lines",
         "type": "scattergeo"
        },
        {
         "hoverinfo": "none",
         "lat": [
          49.264797,
          49.2508143510126
         ],
         "line": {
          "color": "black"
         },
         "lon": [
          -123.183769,
          -123.215501310984
         ],
         "mode": "lines",
         "type": "scattergeo"
        },
        {
         "hoverinfo": "none",
         "lat": [
          49.31636,
          49.3612978273612
         ],
         "line": {
          "color": "black"
         },
         "lon": [
          -123.06934,
          -123.01847527487
         ],
         "mode": "lines",
         "type": "scattergeo"
        },
        {
         "hoverinfo": "none",
         "lat": [
          49.144061,
          49.117565817857
         ],
         "line": {
          "color": "black"
         },
         "lon": [
          -123.19359,
          -123.117052820606
         ],
         "mode": "lines",
         "type": "scattergeo"
        },
        {
         "hoverinfo": "none",
         "lat": [
          49.10107,
          49.1277794033541
         ],
         "line": {
          "color": "black"
         },
         "lon": [
          -122.65883,
          -122.621185397052
         ],
         "mode": "lines",
         "type": "scattergeo"
        },
        {
         "hoverinfo": "none",
         "lat": [
          48.54964,
          48.5816953672664
         ],
         "line": {
          "color": "black"
         },
         "lon": [
          -123.36931,
          -123.422318363172
         ],
         "mode": "lines",
         "type": "scattergeo"
        },
        {
         "hoverinfo": "none",
         "lat": [
          50.121427,
          0.0
         ],
         "line": {
          "color": "black"
         },
         "lon": [
          -122.93677,
          0.0
         ],
         "mode": "lines",
         "type": "scattergeo"
        },
        {
         "hoverinfo": "none",
         "lat": [
          49.212675,
          49.1831831533453
         ],
         "line": {
          "color": "black"
         },
         "lon": [
          -122.815105,
          -122.876242276909
         ],
         "mode": "lines",
         "type": "scattergeo"
        },
        {
         "hoverinfo": "none",
         "lat": [
          49.86563,
          50.0457888438141
         ],
         "line": {
          "color": "black"
         },
         "lon": [
          -119.145556,
          -119.291583751319
         ],
         "mode": "lines",
         "type": "scattergeo"
        },
        {
         "hoverinfo": "none",
         "lat": [
          49.16638,
          49.0771170456374
         ],
         "line": {
          "color": "black"
         },
         "lon": [
          -121.95257,
          -121.991756609719
         ],
         "mode": "lines",
         "type": "scattergeo"
        },
        {
         "hoverinfo": "none",
         "lat": [
          49.309314,
          49.3612978273612
         ],
         "line": {
          "color": "black"
         },
         "lon": [
          -123.040457,
          -123.01847527487
         ],
         "mode": "lines",
         "type": "scattergeo"
        },
        {
         "hoverinfo": "none",
         "lat": [
          null,
          49.0311471806227
         ],
         "line": {
          "color": "black"
         },
         "lon": [
          null,
          -123.089212490261
         ],
         "mode": "lines",
         "type": "scattergeo"
        },
        {
         "hoverinfo": "none",
         "lat": [
          49.321018,
          49.3224863139215
         ],
         "line": {
          "color": "black"
         },
         "lon": [
          -123.072348,
          -123.084865113587
         ],
         "mode": "lines",
         "type": "scattergeo"
        },
        {
         "hoverinfo": "none",
         "lat": [
          49.10107,
          49.166916594348
         ],
         "line": {
          "color": "black"
         },
         "lon": [
          -122.65883,
          -122.579859195355
         ],
         "mode": "lines",
         "type": "scattergeo"
        },
        {
         "hoverinfo": "none",
         "lat": [
          49.220453,
          49.2197678565689
         ],
         "line": {
          "color": "black"
         },
         "lon": [
          -122.512498,
          -122.615084831127
         ],
         "mode": "lines",
         "type": "scattergeo"
        },
        {
         "hoverinfo": "none",
         "lat": [
          49.26636,
          49.2766738428341
         ],
         "line": {
          "color": "black"
         },
         "lon": [
          -122.95263,
          -123.007422486654
         ],
         "mode": "lines",
         "type": "scattergeo"
        },
        {
         "hoverinfo": "none",
         "lat": [
          49.16638,
          49.2168198317455
         ],
         "line": {
          "color": "black"
         },
         "lon": [
          -123.94003,
          -124.006702443619
         ],
         "mode": "lines",
         "type": "scattergeo"
        },
        {
         "hoverinfo": "none",
         "lat": [
          49.038359,
          49.1963107379676
         ],
         "line": {
          "color": "black"
         },
         "lon": [
          -122.799908,
          -122.824169757623
         ],
         "mode": "lines",
         "type": "scattergeo"
        },
        {
         "hoverinfo": "none",
         "lat": [
          56.895941,
          49.853974371311
         ],
         "line": {
          "color": "black"
         },
         "lon": [
          -121.250291,
          -119.62915661075
         ],
         "mode": "lines",
         "type": "scattergeo"
        },
        {
         "hoverinfo": "none",
         "lat": [
          49.865752,
          50.0457888438141
         ],
         "line": {
          "color": "black"
         },
         "lon": [
          -119.146072,
          -119.291583751319
         ],
         "mode": "lines",
         "type": "scattergeo"
        },
        {
         "hoverinfo": "none",
         "lat": [
          49.261781,
          49.2610047203502
         ],
         "line": {
          "color": "black"
         },
         "lon": [
          -123.068058,
          -123.145479801502
         ],
         "mode": "lines",
         "type": "scattergeo"
        },
        {
         "hoverinfo": "none",
         "lat": [
          49.317636,
          49.3224863139215
         ],
         "line": {
          "color": "black"
         },
         "lon": [
          -123.089597,
          -123.084865113587
         ],
         "mode": "lines",
         "type": "scattergeo"
        },
        {
         "hoverinfo": "none",
         "lat": [
          49.198845,
          49.1963107379676
         ],
         "line": {
          "color": "black"
         },
         "lon": [
          -122.786988,
          -122.824169757623
         ],
         "mode": "lines",
         "type": "scattergeo"
        },
        {
         "hoverinfo": "none",
         "lat": [
          49.31636,
          49.322209821279
         ],
         "line": {
          "color": "black"
         },
         "lon": [
          -123.06934,
          -123.113622357888
         ],
         "mode": "lines",
         "type": "scattergeo"
        },
        {
         "hoverinfo": "none",
         "lat": [
          53.9166,
          53.6493565080645
         ],
         "line": {
          "color": "black"
         },
         "lon": [
          -122.75301,
          -122.957816392392
         ],
         "mode": "lines",
         "type": "scattergeo"
        },
        {
         "hoverinfo": "none",
         "lat": [
          49.234939,
          49.2150978094316
         ],
         "line": {
          "color": "black"
         },
         "lon": [
          -123.197167,
          -123.097310727838
         ],
         "mode": "lines",
         "type": "scattergeo"
        },
        {
         "hoverinfo": "none",
         "lat": [
          49.24966,
          49.2163875370486
         ],
         "line": {
          "color": "black"
         },
         "lon": [
          -123.11934,
          -123.040409606919
         ],
         "mode": "lines",
         "type": "scattergeo"
        },
        {
         "hoverinfo": "none",
         "lat": [
          49.137854,
          49.1626286600844
         ],
         "line": {
          "color": "black"
         },
         "lon": [
          -123.147848,
          -123.172127771816
         ],
         "mode": "lines",
         "type": "scattergeo"
        },
        {
         "hoverinfo": "none",
         "lat": [
          49.10635,
          49.1831831533453
         ],
         "line": {
          "color": "black"
         },
         "lon": [
          -122.82509,
          -122.876242276909
         ],
         "mode": "lines",
         "type": "scattergeo"
        },
        {
         "hoverinfo": "none",
         "lat": [
          49.178077,
          49.1410042094931
         ],
         "line": {
          "color": "black"
         },
         "lon": [
          -122.888808,
          -122.856837478998
         ],
         "mode": "lines",
         "type": "scattergeo"
        },
        {
         "hoverinfo": "none",
         "lat": [
          49.28297,
          49.3193274323444
         ],
         "line": {
          "color": "black"
         },
         "lon": [
          -122.75262,
          -122.739297891156
         ],
         "mode": "lines",
         "type": "scattergeo"
        },
        {
         "hoverinfo": "none",
         "lat": [
          49.162062,
          49.1410042094931
         ],
         "line": {
          "color": "black"
         },
         "lon": [
          -122.890423,
          -122.856837478998
         ],
         "mode": "lines",
         "type": "scattergeo"
        },
        {
         "hoverinfo": "none",
         "lat": [
          49.10635,
          49.1176110168489
         ],
         "line": {
          "color": "black"
         },
         "lon": [
          -122.82509,
          -122.754853365374
         ],
         "mode": "lines",
         "type": "scattergeo"
        },
        {
         "hoverinfo": "none",
         "lat": [
          49.05798,
          49.0391641015383
         ],
         "line": {
          "color": "black"
         },
         "lon": [
          -122.25257,
          -122.347843226749
         ],
         "mode": "lines",
         "type": "scattergeo"
        },
        {
         "hoverinfo": "none",
         "lat": [
          49.281881,
          49.2746756191813
         ],
         "line": {
          "color": "black"
         },
         "lon": [
          -123.124969,
          -123.125856387968
         ],
         "mode": "lines",
         "type": "scattergeo"
        },
        {
         "hoverinfo": "none",
         "lat": [
          49.248173,
          49.2508143510126
         ],
         "line": {
          "color": "black"
         },
         "lon": [
          -123.098101,
          -123.215501310984
         ],
         "mode": "lines",
         "type": "scattergeo"
        },
        {
         "hoverinfo": "none",
         "lat": [
          49.25403,
          49.2483683725875
         ],
         "line": {
          "color": "black"
         },
         "lon": [
          -123.029302,
          -123.090270017544
         ],
         "mode": "lines",
         "type": "scattergeo"
        },
        {
         "hoverinfo": "none",
         "lat": [
          49.202124,
          49.2211306947439
         ],
         "line": {
          "color": "black"
         },
         "lon": [
          -122.909873,
          -122.898883878006
         ],
         "mode": "lines",
         "type": "scattergeo"
        },
        {
         "hoverinfo": "none",
         "lat": [
          49.26636,
          49.2598783495975
         ],
         "line": {
          "color": "black"
         },
         "lon": [
          -122.95263,
          -122.859911962369
         ],
         "mode": "lines",
         "type": "scattergeo"
        },
        {
         "hoverinfo": "none",
         "lat": [
          49.245685,
          49.2724993577155
         ],
         "line": {
          "color": "black"
         },
         "lon": [
          -122.997971,
          -122.756523735201
         ],
         "mode": "lines",
         "type": "scattergeo"
        },
        {
         "hoverinfo": "none",
         "lat": [
          59.785092,
          49.0691909915843
         ],
         "line": {
          "color": "black"
         },
         "lon": [
          -134.944639,
          -122.502340746886
         ],
         "mode": "lines",
         "type": "scattergeo"
        },
        {
         "hoverinfo": "none",
         "lat": [
          49.88307,
          49.9494031638513
         ],
         "line": {
          "color": "black"
         },
         "lon": [
          -119.48568,
          -119.433353966091
         ],
         "mode": "lines",
         "type": "scattergeo"
        },
        {
         "hoverinfo": "none",
         "lat": [
          49.10635,
          49.1176110168489
         ],
         "line": {
          "color": "black"
         },
         "lon": [
          -122.82509,
          -122.754853365374
         ],
         "mode": "lines",
         "type": "scattergeo"
        },
        {
         "hoverinfo": "none",
         "lat": [
          49.226132,
          49.2163875370486
         ],
         "line": {
          "color": "black"
         },
         "lon": [
          -123.11812,
          -123.040409606919
         ],
         "mode": "lines",
         "type": "scattergeo"
        },
        {
         "hoverinfo": "none",
         "lat": [
          49.28298,
          49.2834575694212
         ],
         "line": {
          "color": "black"
         },
         "lon": [
          -123.049331,
          -123.129406113292
         ],
         "mode": "lines",
         "type": "scattergeo"
        },
        {
         "hoverinfo": "none",
         "lat": [
          49.257164,
          49.2483683725875
         ],
         "line": {
          "color": "black"
         },
         "lon": [
          -123.089441,
          -123.090270017544
         ],
         "mode": "lines",
         "type": "scattergeo"
        },
        {
         "hoverinfo": "none",
         "lat": [
          49.219898,
          49.2894310875386
         ],
         "line": {
          "color": "black"
         },
         "lon": [
          -123.140105,
          -123.119462061727
         ],
         "mode": "lines",
         "type": "scattergeo"
        },
        {
         "hoverinfo": "none",
         "lat": [
          49.227254,
          49.2560324587443
         ],
         "line": {
          "color": "black"
         },
         "lon": [
          -123.128281,
          -123.132777904483
         ],
         "mode": "lines",
         "type": "scattergeo"
        },
        {
         "hoverinfo": "none",
         "lat": [
          49.213447,
          49.2287120398275
         ],
         "line": {
          "color": "black"
         },
         "lon": [
          -122.937887,
          -122.996471986297
         ],
         "mode": "lines",
         "type": "scattergeo"
        },
        {
         "hoverinfo": "none",
         "lat": [
          49.261974,
          49.2397224546965
         ],
         "line": {
          "color": "black"
         },
         "lon": [
          -123.098669,
          -123.040753717645
         ],
         "mode": "lines",
         "type": "scattergeo"
        },
        {
         "hoverinfo": "none",
         "lat": [
          49.05798,
          49.0391641015383
         ],
         "line": {
          "color": "black"
         },
         "lon": [
          -122.25257,
          -122.347843226749
         ],
         "mode": "lines",
         "type": "scattergeo"
        },
        {
         "hoverinfo": "none",
         "lat": [
          49.351186,
          49.3397464394847
         ],
         "line": {
          "color": "black"
         },
         "lon": [
          -123.266198,
          -123.192793552348
         ],
         "mode": "lines",
         "type": "scattergeo"
        },
        {
         "hoverinfo": "none",
         "lat": [
          49.88307,
          49.9151554494484
         ],
         "line": {
          "color": "black"
         },
         "lon": [
          -119.48568,
          -119.741065669257
         ],
         "mode": "lines",
         "type": "scattergeo"
        },
        {
         "hoverinfo": "none",
         "lat": [
          49.839659,
          49.892071734828
         ],
         "line": {
          "color": "black"
         },
         "lon": [
          -119.482181,
          -119.484658444334
         ],
         "mode": "lines",
         "type": "scattergeo"
        },
        {
         "hoverinfo": "none",
         "lat": [
          49.237983,
          49.2798017113343
         ],
         "line": {
          "color": "black"
         },
         "lon": [
          -123.068585,
          -123.066047262467
         ],
         "mode": "lines",
         "type": "scattergeo"
        },
        {
         "hoverinfo": "none",
         "lat": [
          49.875416,
          49.825491060816
         ],
         "line": {
          "color": "black"
         },
         "lon": [
          -119.488232,
          -119.471541715992
         ],
         "mode": "lines",
         "type": "scattergeo"
        },
        {
         "hoverinfo": "none",
         "lat": [
          49.28297,
          49.2364668900495
         ],
         "line": {
          "color": "black"
         },
         "lon": [
          -122.75262,
          -122.852141086465
         ],
         "mode": "lines",
         "type": "scattergeo"
        },
        {
         "hoverinfo": "none",
         "lat": [
          49.21082,
          49.1984065446686
         ],
         "line": {
          "color": "black"
         },
         "lon": [
          -122.905853,
          -122.934408509512
         ],
         "mode": "lines",
         "type": "scattergeo"
        },
        {
         "hoverinfo": "none",
         "lat": [
          49.055292,
          49.0391641015383
         ],
         "line": {
          "color": "black"
         },
         "lon": [
          -122.316623,
          -122.347843226749
         ],
         "mode": "lines",
         "type": "scattergeo"
        },
        {
         "hoverinfo": "none",
         "lat": [
          49.281863,
          49.2803210569917
         ],
         "line": {
          "color": "black"
         },
         "lon": [
          -123.123839,
          -123.113580759168
         ],
         "mode": "lines",
         "type": "scattergeo"
        },
        {
         "hoverinfo": "none",
         "lat": [
          49.178077,
          49.1410042094931
         ],
         "line": {
          "color": "black"
         },
         "lon": [
          -122.888808,
          -122.856837478998
         ],
         "mode": "lines",
         "type": "scattergeo"
        },
        {
         "hoverinfo": "none",
         "lat": [
          49.10635,
          49.1410042094931
         ],
         "line": {
          "color": "black"
         },
         "lon": [
          -122.82509,
          -122.856837478998
         ],
         "mode": "lines",
         "type": "scattergeo"
        },
        {
         "hoverinfo": "none",
         "lat": [
          48.442176,
          48.4827382013408
         ],
         "line": {
          "color": "black"
         },
         "lon": [
          -123.469686,
          -123.506344576293
         ],
         "mode": "lines",
         "type": "scattergeo"
        },
        {
         "hoverinfo": "none",
         "lat": [
          49.286103,
          49.2798017113343
         ],
         "line": {
          "color": "black"
         },
         "lon": [
          -123.031289,
          -123.066047262467
         ],
         "mode": "lines",
         "type": "scattergeo"
        },
        {
         "hoverinfo": "none",
         "lat": [
          49.178077,
          49.1410042094931
         ],
         "line": {
          "color": "black"
         },
         "lon": [
          -122.888808,
          -122.856837478998
         ],
         "mode": "lines",
         "type": "scattergeo"
        },
        {
         "hoverinfo": "none",
         "lat": [
          49.119581,
          49.1410042094931
         ],
         "line": {
          "color": "black"
         },
         "lon": [
          -122.708741,
          -122.856837478998
         ],
         "mode": "lines",
         "type": "scattergeo"
        },
        {
         "hoverinfo": "none",
         "lat": [
          49.038359,
          49.1176110168489
         ],
         "line": {
          "color": "black"
         },
         "lon": [
          -122.799908,
          -122.754853365374
         ],
         "mode": "lines",
         "type": "scattergeo"
        },
        {
         "hoverinfo": "none",
         "lat": [
          49.152089,
          49.0385145601345
         ],
         "line": {
          "color": "black"
         },
         "lon": [
          -122.841664,
          -122.83110874713
         ],
         "mode": "lines",
         "type": "scattergeo"
        },
        {
         "hoverinfo": "none",
         "lat": [
          49.157538,
          49.1288299968612
         ],
         "line": {
          "color": "black"
         },
         "lon": [
          -123.181116,
          -123.148738771175
         ],
         "mode": "lines",
         "type": "scattergeo"
        },
        {
         "hoverinfo": "none",
         "lat": [
          49.257164,
          49.2329747531744
         ],
         "line": {
          "color": "black"
         },
         "lon": [
          -123.089441,
          -123.092112415841
         ],
         "mode": "lines",
         "type": "scattergeo"
        },
        {
         "hoverinfo": "none",
         "lat": [
          49.261974,
          49.2397224546965
         ],
         "line": {
          "color": "black"
         },
         "lon": [
          -123.098669,
          -123.040753717645
         ],
         "mode": "lines",
         "type": "scattergeo"
        },
        {
         "hoverinfo": "none",
         "lat": [
          49.10635,
          49.1176110168489
         ],
         "line": {
          "color": "black"
         },
         "lon": [
          -122.82509,
          -122.754853365374
         ],
         "mode": "lines",
         "type": "scattergeo"
        },
        {
         "hoverinfo": "none",
         "lat": [
          49.26637,
          49.2434793968708
         ],
         "line": {
          "color": "black"
         },
         "lon": [
          -122.76932,
          -122.786754985938
         ],
         "mode": "lines",
         "type": "scattergeo"
        },
        {
         "hoverinfo": "none",
         "lat": [
          49.17003,
          49.1863745873237
         ],
         "line": {
          "color": "black"
         },
         "lon": [
          -123.13683,
          -123.111677711376
         ],
         "mode": "lines",
         "type": "scattergeo"
        },
        {
         "hoverinfo": "none",
         "lat": [
          49.213447,
          49.2287120398275
         ],
         "line": {
          "color": "black"
         },
         "lon": [
          -122.937887,
          -122.996471986297
         ],
         "mode": "lines",
         "type": "scattergeo"
        },
        {
         "hoverinfo": "none",
         "lat": [
          49.176465,
          49.0938916038734
         ],
         "line": {
          "color": "black"
         },
         "lon": [
          -122.655969,
          -122.647453561111
         ],
         "mode": "lines",
         "type": "scattergeo"
        },
        {
         "hoverinfo": "none",
         "lat": [
          48.428514,
          48.477480017302
         ],
         "line": {
          "color": "black"
         },
         "lon": [
          -123.358915,
          -123.36608053282
         ],
         "mode": "lines",
         "type": "scattergeo"
        },
        {
         "hoverinfo": "none",
         "lat": [
          49.25403,
          49.2150978094316
         ],
         "line": {
          "color": "black"
         },
         "lon": [
          -123.029302,
          -123.097310727838
         ],
         "mode": "lines",
         "type": "scattergeo"
        },
        {
         "hoverinfo": "none",
         "lat": [
          49.202124,
          49.2211306947439
         ],
         "line": {
          "color": "black"
         },
         "lon": [
          -122.909873,
          -122.898883878006
         ],
         "mode": "lines",
         "type": "scattergeo"
        },
        {
         "hoverinfo": "none",
         "lat": [
          49.051268,
          49.1410042094931
         ],
         "line": {
          "color": "black"
         },
         "lon": [
          -122.842836,
          -122.856837478998
         ],
         "mode": "lines",
         "type": "scattergeo"
        },
        {
         "hoverinfo": "none",
         "lat": [
          48.43605,
          48.4765793361461
         ],
         "line": {
          "color": "black"
         },
         "lon": [
          -123.333662,
          -123.314845757847
         ],
         "mode": "lines",
         "type": "scattergeo"
        },
        {
         "hoverinfo": "none",
         "lat": [
          49.21709,
          49.2746756191813
         ],
         "line": {
          "color": "black"
         },
         "lon": [
          -123.064673,
          -123.125856387968
         ],
         "mode": "lines",
         "type": "scattergeo"
        },
        {
         "hoverinfo": "none",
         "lat": [
          48.43294,
          48.4585245729765
         ],
         "line": {
          "color": "black"
         },
         "lon": [
          -123.3693,
          -123.332376533154
         ],
         "mode": "lines",
         "type": "scattergeo"
        },
        {
         "hoverinfo": "none",
         "lat": [
          49.17246,
          49.0938916038734
         ],
         "line": {
          "color": "black"
         },
         "lon": [
          -122.580791,
          -122.647453561111
         ],
         "mode": "lines",
         "type": "scattergeo"
        },
        {
         "hoverinfo": "none",
         "lat": [
          49.155659,
          49.1806404435479
         ],
         "line": {
          "color": "black"
         },
         "lon": [
          -121.815256,
          -121.900229531001
         ],
         "mode": "lines",
         "type": "scattergeo"
        },
        {
         "hoverinfo": "none",
         "lat": [
          49.24966,
          49.2792476329574
         ],
         "line": {
          "color": "black"
         },
         "lon": [
          -123.11934,
          -123.089566417568
         ],
         "mode": "lines",
         "type": "scattergeo"
        },
        {
         "hoverinfo": "none",
         "lat": [
          49.262537,
          49.2653172633961
         ],
         "line": {
          "color": "black"
         },
         "lon": [
          -123.059629,
          -123.165649863758
         ],
         "mode": "lines",
         "type": "scattergeo"
        },
        {
         "hoverinfo": "none",
         "lat": [
          49.126712,
          49.1176110168489
         ],
         "line": {
          "color": "black"
         },
         "lon": [
          -122.888841,
          -122.754853365374
         ],
         "mode": "lines",
         "type": "scattergeo"
        },
        {
         "hoverinfo": "none",
         "lat": [
          49.14399,
          49.1187964384755
         ],
         "line": {
          "color": "black"
         },
         "lon": [
          -122.9068,
          -122.903580634172
         ],
         "mode": "lines",
         "type": "scattergeo"
        },
        {
         "hoverinfo": "none",
         "lat": [
          49.05798,
          49.0391641015383
         ],
         "line": {
          "color": "black"
         },
         "lon": [
          -122.25257,
          -122.347843226749
         ],
         "mode": "lines",
         "type": "scattergeo"
        },
        {
         "hoverinfo": "none",
         "lat": [
          null,
          49.0311471806227
         ],
         "line": {
          "color": "black"
         },
         "lon": [
          null,
          -123.089212490261
         ],
         "mode": "lines",
         "type": "scattergeo"
        },
        {
         "hoverinfo": "none",
         "lat": [
          49.20678,
          49.2211306947439
         ],
         "line": {
          "color": "black"
         },
         "lon": [
          -122.91092,
          -122.898883878006
         ],
         "mode": "lines",
         "type": "scattergeo"
        },
        {
         "hoverinfo": "none",
         "lat": [
          49.152089,
          49.190394728435
         ],
         "line": {
          "color": "black"
         },
         "lon": [
          -122.841664,
          -122.848462790325
         ],
         "mode": "lines",
         "type": "scattergeo"
        },
        {
         "hoverinfo": "none",
         "lat": [
          49.150454,
          49.1187964384755
         ],
         "line": {
          "color": "black"
         },
         "lon": [
          -122.89155,
          -122.903580634172
         ],
         "mode": "lines",
         "type": "scattergeo"
        },
        {
         "hoverinfo": "none",
         "lat": [
          50.66648,
          50.6602204029918
         ],
         "line": {
          "color": "black"
         },
         "lon": [
          -120.3192,
          -120.332088855085
         ],
         "mode": "lines",
         "type": "scattergeo"
        },
        {
         "hoverinfo": "none",
         "lat": [
          49.339497,
          49.322209821279
         ],
         "line": {
          "color": "black"
         },
         "lon": [
          -123.114487,
          -123.113622357888
         ],
         "mode": "lines",
         "type": "scattergeo"
        },
        {
         "hoverinfo": "none",
         "lat": [
          49.16638,
          49.2168198317455
         ],
         "line": {
          "color": "black"
         },
         "lon": [
          -123.94003,
          -124.006702443619
         ],
         "mode": "lines",
         "type": "scattergeo"
        },
        {
         "hoverinfo": "none",
         "lat": [
          49.16638,
          49.0771170456374
         ],
         "line": {
          "color": "black"
         },
         "lon": [
          -121.95257,
          -121.991756609719
         ],
         "mode": "lines",
         "type": "scattergeo"
        },
        {
         "hoverinfo": "none",
         "lat": [
          48.434318,
          48.4827382013408
         ],
         "line": {
          "color": "black"
         },
         "lon": [
          -123.381812,
          -123.506344576293
         ],
         "mode": "lines",
         "type": "scattergeo"
        },
        {
         "hoverinfo": "none",
         "lat": [
          49.170211,
          49.1863745873237
         ],
         "line": {
          "color": "black"
         },
         "lon": [
          -123.144622,
          -123.111677711376
         ],
         "mode": "lines",
         "type": "scattergeo"
        },
        {
         "hoverinfo": "none",
         "lat": [
          46.364022,
          56.2740795809477
         ],
         "line": {
          "color": "black"
         },
         "lon": [
          -66.566883,
          -120.801104114379
         ],
         "mode": "lines",
         "type": "scattergeo"
        },
        {
         "hoverinfo": "none",
         "lat": [
          49.16312,
          49.1410042094931
         ],
         "line": {
          "color": "black"
         },
         "lon": [
          -122.792145,
          -122.856837478998
         ],
         "mode": "lines",
         "type": "scattergeo"
        },
        {
         "hoverinfo": "none",
         "lat": [
          49.188351,
          49.0571619551277
         ],
         "line": {
          "color": "black"
         },
         "lon": [
          -122.777198,
          -122.754315950226
         ],
         "mode": "lines",
         "type": "scattergeo"
        },
        {
         "hoverinfo": "none",
         "lat": [
          49.176992,
          49.1831831533453
         ],
         "line": {
          "color": "black"
         },
         "lon": [
          -122.753373,
          -122.876242276909
         ],
         "mode": "lines",
         "type": "scattergeo"
        },
        {
         "hoverinfo": "none",
         "lat": [
          49.321018,
          49.3224863139215
         ],
         "line": {
          "color": "black"
         },
         "lon": [
          -123.072348,
          -123.084865113587
         ],
         "mode": "lines",
         "type": "scattergeo"
        },
        {
         "hoverinfo": "none",
         "lat": [
          49.257164,
          49.2150978094316
         ],
         "line": {
          "color": "black"
         },
         "lon": [
          -123.089441,
          -123.097310727838
         ],
         "mode": "lines",
         "type": "scattergeo"
        },
        {
         "hoverinfo": "none",
         "lat": [
          49.170794,
          49.1410042094931
         ],
         "line": {
          "color": "black"
         },
         "lon": [
          -122.868057,
          -122.856837478998
         ],
         "mode": "lines",
         "type": "scattergeo"
        },
        {
         "hoverinfo": "none",
         "lat": [
          49.150454,
          49.1187964384755
         ],
         "line": {
          "color": "black"
         },
         "lon": [
          -122.89155,
          -122.903580634172
         ],
         "mode": "lines",
         "type": "scattergeo"
        },
        {
         "hoverinfo": "none",
         "lat": [
          49.263243,
          49.2663229578375
         ],
         "line": {
          "color": "black"
         },
         "lon": [
          -123.170153,
          -123.197873679399
         ],
         "mode": "lines",
         "type": "scattergeo"
        },
        {
         "hoverinfo": "none",
         "lat": [
          49.262953,
          49.1984065446686
         ],
         "line": {
          "color": "black"
         },
         "lon": [
          -123.063767,
          -122.934408509512
         ],
         "mode": "lines",
         "type": "scattergeo"
        },
        {
         "hoverinfo": "none",
         "lat": [
          49.324839,
          49.3224863139215
         ],
         "line": {
          "color": "black"
         },
         "lon": [
          -123.113344,
          -123.084865113587
         ],
         "mode": "lines",
         "type": "scattergeo"
        },
        {
         "hoverinfo": "none",
         "lat": [
          49.263195,
          49.2501828672927
         ],
         "line": {
          "color": "black"
         },
         "lon": [
          -123.10413,
          -123.109998145249
         ],
         "mode": "lines",
         "type": "scattergeo"
        },
        {
         "hoverinfo": "none",
         "lat": [
          49.10107,
          49.1277794033541
         ],
         "line": {
          "color": "black"
         },
         "lon": [
          -122.65883,
          -122.621185397052
         ],
         "mode": "lines",
         "type": "scattergeo"
        },
        {
         "hoverinfo": "none",
         "lat": [
          null,
          50.0763115301736
         ],
         "line": {
          "color": "black"
         },
         "lon": [
          null,
          -119.399707386739
         ],
         "mode": "lines",
         "type": "scattergeo"
        },
        {
         "hoverinfo": "none",
         "lat": [
          49.05798,
          49.0391641015383
         ],
         "line": {
          "color": "black"
         },
         "lon": [
          -122.25257,
          -122.347843226749
         ],
         "mode": "lines",
         "type": "scattergeo"
        },
        {
         "hoverinfo": "none",
         "lat": [
          49.219898,
          49.2746756191813
         ],
         "line": {
          "color": "black"
         },
         "lon": [
          -123.140105,
          -123.125856387968
         ],
         "mode": "lines",
         "type": "scattergeo"
        },
        {
         "hoverinfo": "none",
         "lat": [
          49.264797,
          49.2508143510126
         ],
         "line": {
          "color": "black"
         },
         "lon": [
          -123.183769,
          -123.215501310984
         ],
         "mode": "lines",
         "type": "scattergeo"
        },
        {
         "hoverinfo": "none",
         "lat": [
          49.170794,
          49.1410042094931
         ],
         "line": {
          "color": "black"
         },
         "lon": [
          -122.868057,
          -122.856837478998
         ],
         "mode": "lines",
         "type": "scattergeo"
        },
        {
         "hoverinfo": "none",
         "lat": [
          49.050755,
          49.074817840519
         ],
         "line": {
          "color": "black"
         },
         "lon": [
          -122.26036,
          -122.180158212858
         ],
         "mode": "lines",
         "type": "scattergeo"
        },
        {
         "hoverinfo": "none",
         "lat": [
          49.25403,
          49.2634062814426
         ],
         "line": {
          "color": "black"
         },
         "lon": [
          -123.029302,
          -123.090819401467
         ],
         "mode": "lines",
         "type": "scattergeo"
        },
        {
         "hoverinfo": "none",
         "lat": [
          49.923323,
          49.9321075397755
         ],
         "line": {
          "color": "black"
         },
         "lon": [
          -97.153295,
          -97.1735542589426
         ],
         "mode": "lines",
         "type": "scattergeo"
        },
        {
         "hoverinfo": "none",
         "lat": [
          49.895136,
          49.9085461037283
         ],
         "line": {
          "color": "black"
         },
         "lon": [
          -97.185236,
          -97.177989932005
         ],
         "mode": "lines",
         "type": "scattergeo"
        },
        {
         "hoverinfo": "none",
         "lat": [
          49.89326,
          49.9030174739611
         ],
         "line": {
          "color": "black"
         },
         "lon": [
          -97.20057,
          -97.2085643092654
         ],
         "mode": "lines",
         "type": "scattergeo"
        },
        {
         "hoverinfo": "none",
         "lat": [
          49.8844,
          49.8670743729595
         ],
         "line": {
          "color": "black"
         },
         "lon": [
          -97.14704,
          -97.0641263899241
         ],
         "mode": "lines",
         "type": "scattergeo"
        },
        {
         "hoverinfo": "none",
         "lat": [
          null,
          50.8573388683205
         ],
         "line": {
          "color": "black"
         },
         "lon": [
          null,
          -97.797425232004
         ],
         "mode": "lines",
         "type": "scattergeo"
        },
        {
         "hoverinfo": "none",
         "lat": [
          49.8844,
          49.8734500204612
         ],
         "line": {
          "color": "black"
         },
         "lon": [
          -97.14704,
          -97.2995596807409
         ],
         "mode": "lines",
         "type": "scattergeo"
        },
        {
         "hoverinfo": "none",
         "lat": [
          49.8844,
          49.8670743729595
         ],
         "line": {
          "color": "black"
         },
         "lon": [
          -97.14704,
          -97.0641263899241
         ],
         "mode": "lines",
         "type": "scattergeo"
        },
        {
         "hoverinfo": "none",
         "lat": [
          null,
          49.5732548274926
         ],
         "line": {
          "color": "black"
         },
         "lon": [
          null,
          -99.6763717618068
         ],
         "mode": "lines",
         "type": "scattergeo"
        },
        {
         "hoverinfo": "none",
         "lat": [
          49.880009,
          49.8927420100425
         ],
         "line": {
          "color": "black"
         },
         "lon": [
          -97.203048,
          -97.2433785402827
         ],
         "mode": "lines",
         "type": "scattergeo"
        },
        {
         "hoverinfo": "none",
         "lat": [
          null,
          51.0473387247898
         ],
         "line": {
          "color": "black"
         },
         "lon": [
          null,
          -96.3178031764161
         ],
         "mode": "lines",
         "type": "scattergeo"
        },
        {
         "hoverinfo": "none",
         "lat": [
          49.89241,
          50.0026996074731
         ],
         "line": {
          "color": "black"
         },
         "lon": [
          -97.14708,
          -97.260483095031
         ],
         "mode": "lines",
         "type": "scattergeo"
        },
        {
         "hoverinfo": "none",
         "lat": [
          null,
          50.8573388683205
         ],
         "line": {
          "color": "black"
         },
         "lon": [
          null,
          -97.797425232004
         ],
         "mode": "lines",
         "type": "scattergeo"
        },
        {
         "hoverinfo": "none",
         "lat": [
          49.8844,
          49.815247321227
         ],
         "line": {
          "color": "black"
         },
         "lon": [
          -97.14704,
          -97.1530208040786
         ],
         "mode": "lines",
         "type": "scattergeo"
        },
        {
         "hoverinfo": "none",
         "lat": [
          49.919633,
          49.8425075692549
         ],
         "line": {
          "color": "black"
         },
         "lon": [
          -97.213584,
          -97.2165857746472
         ],
         "mode": "lines",
         "type": "scattergeo"
        },
        {
         "hoverinfo": "none",
         "lat": [
          49.8844,
          49.967371584139
         ],
         "line": {
          "color": "black"
         },
         "lon": [
          -97.14704,
          -97.1559834424231
         ],
         "mode": "lines",
         "type": "scattergeo"
        },
        {
         "hoverinfo": "none",
         "lat": [
          49.911708,
          49.9216210047124
         ],
         "line": {
          "color": "black"
         },
         "lon": [
          -97.053601,
          -97.084751904388
         ],
         "mode": "lines",
         "type": "scattergeo"
        },
        {
         "hoverinfo": "none",
         "lat": [
          49.911708,
          49.9216210047124
         ],
         "line": {
          "color": "black"
         },
         "lon": [
          -97.053601,
          -97.084751904388
         ],
         "mode": "lines",
         "type": "scattergeo"
        },
        {
         "hoverinfo": "none",
         "lat": [
          49.895444,
          49.9216401834937
         ],
         "line": {
          "color": "black"
         },
         "lon": [
          -97.051031,
          -96.9624729438158
         ],
         "mode": "lines",
         "type": "scattergeo"
        },
        {
         "hoverinfo": "none",
         "lat": [
          49.904651,
          49.9030174739611
         ],
         "line": {
          "color": "black"
         },
         "lon": [
          -97.199666,
          -97.2085643092654
         ],
         "mode": "lines",
         "type": "scattergeo"
        },
        {
         "hoverinfo": "none",
         "lat": [
          49.8844,
          49.8978322535866
         ],
         "line": {
          "color": "black"
         },
         "lon": [
          -97.14704,
          -97.1400782950995
         ],
         "mode": "lines",
         "type": "scattergeo"
        },
        {
         "hoverinfo": "none",
         "lat": [
          49.952317,
          49.2786588938955
         ],
         "line": {
          "color": "black"
         },
         "lon": [
          -95.969321,
          -96.4733278772925
         ],
         "mode": "lines",
         "type": "scattergeo"
        },
        {
         "hoverinfo": "none",
         "lat": [
          null,
          49.9810801901537
         ],
         "line": {
          "color": "black"
         },
         "lon": [
          null,
          -97.0150480190604
         ],
         "mode": "lines",
         "type": "scattergeo"
        },
        {
         "hoverinfo": "none",
         "lat": [
          53.55118,
          50.2717833661156
         ],
         "line": {
          "color": "black"
         },
         "lon": [
          -113.143169,
          -98.6122338284385
         ],
         "mode": "lines",
         "type": "scattergeo"
        },
        {
         "hoverinfo": "none",
         "lat": [
          49.83001,
          51.0473387247898
         ],
         "line": {
          "color": "black"
         },
         "lon": [
          -100.29619,
          -96.3178031764161
         ],
         "mode": "lines",
         "type": "scattergeo"
        },
        {
         "hoverinfo": "none",
         "lat": [
          49.878474,
          49.8734500204612
         ],
         "line": {
          "color": "black"
         },
         "lon": [
          -97.216024,
          -97.2995596807409
         ],
         "mode": "lines",
         "type": "scattergeo"
        },
        {
         "hoverinfo": "none",
         "lat": [
          49.8844,
          49.9041875372142
         ],
         "line": {
          "color": "black"
         },
         "lon": [
          -97.14704,
          -97.1466666962781
         ],
         "mode": "lines",
         "type": "scattergeo"
        },
        {
         "hoverinfo": "none",
         "lat": [
          49.891612,
          49.8927420100425
         ],
         "line": {
          "color": "black"
         },
         "lon": [
          -97.139498,
          -97.2433785402827
         ],
         "mode": "lines",
         "type": "scattergeo"
        },
        {
         "hoverinfo": "none",
         "lat": [
          null,
          50.8573388683205
         ],
         "line": {
          "color": "black"
         },
         "lon": [
          null,
          -97.797425232004
         ],
         "mode": "lines",
         "type": "scattergeo"
        },
        {
         "hoverinfo": "none",
         "lat": [
          49.8844,
          49.815247321227
         ],
         "line": {
          "color": "black"
         },
         "lon": [
          -97.14704,
          -97.1530208040786
         ],
         "mode": "lines",
         "type": "scattergeo"
        },
        {
         "hoverinfo": "none",
         "lat": [
          44.237201,
          49.2786588938955
         ],
         "line": {
          "color": "black"
         },
         "lon": [
          -76.493413,
          -96.4733278772925
         ],
         "mode": "lines",
         "type": "scattergeo"
        },
        {
         "hoverinfo": "none",
         "lat": [
          49.199853,
          49.1349396525949
         ],
         "line": {
          "color": "black"
         },
         "lon": [
          -98.894906,
          -97.9553030681071
         ],
         "mode": "lines",
         "type": "scattergeo"
        },
        {
         "hoverinfo": "none",
         "lat": [
          49.8844,
          49.9173074257486
         ],
         "line": {
          "color": "black"
         },
         "lon": [
          -97.14704,
          -97.0387693609069
         ],
         "mode": "lines",
         "type": "scattergeo"
        },
        {
         "hoverinfo": "none",
         "lat": [
          49.903397,
          49.9041875372142
         ],
         "line": {
          "color": "black"
         },
         "lon": [
          -97.156352,
          -97.1466666962781
         ],
         "mode": "lines",
         "type": "scattergeo"
        },
        {
         "hoverinfo": "none",
         "lat": [
          49.8844,
          49.9085461037283
         ],
         "line": {
          "color": "black"
         },
         "lon": [
          -97.14704,
          -97.177989932005
         ],
         "mode": "lines",
         "type": "scattergeo"
        },
        {
         "hoverinfo": "none",
         "lat": [
          49.904075,
          49.8978322535866
         ],
         "line": {
          "color": "black"
         },
         "lon": [
          -97.135082,
          -97.1400782950995
         ],
         "mode": "lines",
         "type": "scattergeo"
        },
        {
         "hoverinfo": "none",
         "lat": [
          49.84692,
          49.8406716578271
         ],
         "line": {
          "color": "black"
         },
         "lon": [
          -99.95306,
          -99.981400840747
         ],
         "mode": "lines",
         "type": "scattergeo"
        },
        {
         "hoverinfo": "none",
         "lat": [
          null,
          49.2786588938955
         ],
         "line": {
          "color": "black"
         },
         "lon": [
          null,
          -96.4733278772925
         ],
         "mode": "lines",
         "type": "scattergeo"
        },
        {
         "hoverinfo": "none",
         "lat": [
          49.8844,
          49.8175963840014
         ],
         "line": {
          "color": "black"
         },
         "lon": [
          -97.14704,
          -97.0543700485492
         ],
         "mode": "lines",
         "type": "scattergeo"
        },
        {
         "hoverinfo": "none",
         "lat": [
          49.8844,
          49.9473841994423
         ],
         "line": {
          "color": "black"
         },
         "lon": [
          -97.14704,
          -97.2106383060693
         ],
         "mode": "lines",
         "type": "scattergeo"
        },
        {
         "hoverinfo": "none",
         "lat": [
          null,
          49.5732548274926
         ],
         "line": {
          "color": "black"
         },
         "lon": [
          null,
          -99.6763717618068
         ],
         "mode": "lines",
         "type": "scattergeo"
        },
        {
         "hoverinfo": "none",
         "lat": [
          null,
          49.4311206483548
         ],
         "line": {
          "color": "black"
         },
         "lon": [
          null,
          -98.0260802110283
         ],
         "mode": "lines",
         "type": "scattergeo"
        },
        {
         "hoverinfo": "none",
         "lat": [
          49.8844,
          49.815247321227
         ],
         "line": {
          "color": "black"
         },
         "lon": [
          -97.14704,
          -97.1530208040786
         ],
         "mode": "lines",
         "type": "scattergeo"
        },
        {
         "hoverinfo": "none",
         "lat": [
          49.8844,
          49.8674348090377
         ],
         "line": {
          "color": "black"
         },
         "lon": [
          -97.14704,
          -97.1351286124883
         ],
         "mode": "lines",
         "type": "scattergeo"
        },
        {
         "hoverinfo": "none",
         "lat": [
          49.947999,
          49.956763627294
         ],
         "line": {
          "color": "black"
         },
         "lon": [
          -97.152778,
          -97.1126084183615
         ],
         "mode": "lines",
         "type": "scattergeo"
        },
        {
         "hoverinfo": "none",
         "lat": [
          49.801454,
          49.815247321227
         ],
         "line": {
          "color": "black"
         },
         "lon": [
          -97.1591,
          -97.1530208040786
         ],
         "mode": "lines",
         "type": "scattergeo"
        },
        {
         "hoverinfo": "none",
         "lat": [
          49.897611,
          49.9085461037283
         ],
         "line": {
          "color": "black"
         },
         "lon": [
          -97.198939,
          -97.177989932005
         ],
         "mode": "lines",
         "type": "scattergeo"
        },
        {
         "hoverinfo": "none",
         "lat": [
          49.8844,
          49.8398976784109
         ],
         "line": {
          "color": "black"
         },
         "lon": [
          -97.14704,
          -97.1147932462383
         ],
         "mode": "lines",
         "type": "scattergeo"
        },
        {
         "hoverinfo": "none",
         "lat": [
          43.679544,
          50.8573388683205
         ],
         "line": {
          "color": "black"
         },
         "lon": [
          -79.298336,
          -97.797425232004
         ],
         "mode": "lines",
         "type": "scattergeo"
        },
        {
         "hoverinfo": "none",
         "lat": [
          49.8844,
          49.9321075397755
         ],
         "line": {
          "color": "black"
         },
         "lon": [
          -97.14704,
          -97.1735542589426
         ],
         "mode": "lines",
         "type": "scattergeo"
        },
        {
         "hoverinfo": "none",
         "lat": [
          49.521822,
          49.967371584139
         ],
         "line": {
          "color": "black"
         },
         "lon": [
          -96.655492,
          -97.1559834424231
         ],
         "mode": "lines",
         "type": "scattergeo"
        },
        {
         "hoverinfo": "none",
         "lat": [
          null,
          49.5732548274926
         ],
         "line": {
          "color": "black"
         },
         "lon": [
          null,
          -99.6763717618068
         ],
         "mode": "lines",
         "type": "scattergeo"
        },
        {
         "hoverinfo": "none",
         "lat": [
          null,
          51.0473387247898
         ],
         "line": {
          "color": "black"
         },
         "lon": [
          null,
          -96.3178031764161
         ],
         "mode": "lines",
         "type": "scattergeo"
        },
        {
         "hoverinfo": "none",
         "lat": [
          null,
          56.5689821099317
         ],
         "line": {
          "color": "black"
         },
         "lon": [
          null,
          -96.9362538147141
         ],
         "mode": "lines",
         "type": "scattergeo"
        },
        {
         "hoverinfo": "none",
         "lat": [
          null,
          51.0473387247898
         ],
         "line": {
          "color": "black"
         },
         "lon": [
          null,
          -96.3178031764161
         ],
         "mode": "lines",
         "type": "scattergeo"
        },
        {
         "hoverinfo": "none",
         "lat": [
          49.937843,
          49.967371584139
         ],
         "line": {
          "color": "black"
         },
         "lon": [
          -97.209788,
          -97.1559834424231
         ],
         "mode": "lines",
         "type": "scattergeo"
        },
        {
         "hoverinfo": "none",
         "lat": [
          49.906724,
          49.9041875372142
         ],
         "line": {
          "color": "black"
         },
         "lon": [
          -97.153982,
          -97.1466666962781
         ],
         "mode": "lines",
         "type": "scattergeo"
        },
        {
         "hoverinfo": "none",
         "lat": [
          49.8844,
          49.956763627294
         ],
         "line": {
          "color": "black"
         },
         "lon": [
          -97.14704,
          -97.1126084183615
         ],
         "mode": "lines",
         "type": "scattergeo"
        },
        {
         "hoverinfo": "none",
         "lat": [
          49.8844,
          49.815247321227
         ],
         "line": {
          "color": "black"
         },
         "lon": [
          -97.14704,
          -97.1530208040786
         ],
         "mode": "lines",
         "type": "scattergeo"
        },
        {
         "hoverinfo": "none",
         "lat": [
          43.679544,
          50.8573388683205
         ],
         "line": {
          "color": "black"
         },
         "lon": [
          -79.298336,
          -97.797425232004
         ],
         "mode": "lines",
         "type": "scattergeo"
        },
        {
         "hoverinfo": "none",
         "lat": [
          null,
          0.0
         ],
         "line": {
          "color": "black"
         },
         "lon": [
          null,
          0.0
         ],
         "mode": "lines",
         "type": "scattergeo"
        },
        {
         "hoverinfo": "none",
         "lat": [
          null,
          49.2786588938955
         ],
         "line": {
          "color": "black"
         },
         "lon": [
          null,
          -96.4733278772925
         ],
         "mode": "lines",
         "type": "scattergeo"
        },
        {
         "hoverinfo": "none",
         "lat": [
          49.84692,
          49.8406716578271
         ],
         "line": {
          "color": "black"
         },
         "lon": [
          -99.95306,
          -99.981400840747
         ],
         "mode": "lines",
         "type": "scattergeo"
        },
        {
         "hoverinfo": "none",
         "lat": [
          null,
          51.0473387247898
         ],
         "line": {
          "color": "black"
         },
         "lon": [
          null,
          -96.3178031764161
         ],
         "mode": "lines",
         "type": "scattergeo"
        },
        {
         "hoverinfo": "none",
         "lat": [
          null,
          51.0473387247898
         ],
         "line": {
          "color": "black"
         },
         "lon": [
          null,
          -96.3178031764161
         ],
         "mode": "lines",
         "type": "scattergeo"
        },
        {
         "hoverinfo": "none",
         "lat": [
          49.8844,
          49.9216401834937
         ],
         "line": {
          "color": "black"
         },
         "lon": [
          -97.14704,
          -96.9624729438158
         ],
         "mode": "lines",
         "type": "scattergeo"
        },
        {
         "hoverinfo": "none",
         "lat": [
          49.8844,
          49.815247321227
         ],
         "line": {
          "color": "black"
         },
         "lon": [
          -97.14704,
          -97.1530208040786
         ],
         "mode": "lines",
         "type": "scattergeo"
        },
        {
         "hoverinfo": "none",
         "lat": [
          49.878474,
          49.8734500204612
         ],
         "line": {
          "color": "black"
         },
         "lon": [
          -97.216024,
          -97.2995596807409
         ],
         "mode": "lines",
         "type": "scattergeo"
        },
        {
         "hoverinfo": "none",
         "lat": [
          49.8844,
          49.7490381026102
         ],
         "line": {
          "color": "black"
         },
         "lon": [
          -97.14704,
          -97.179578364092
         ],
         "mode": "lines",
         "type": "scattergeo"
        },
        {
         "hoverinfo": "none",
         "lat": [
          43.253854,
          51.0473387247898
         ],
         "line": {
          "color": "black"
         },
         "lon": [
          -79.862839,
          -96.3178031764161
         ],
         "mode": "lines",
         "type": "scattergeo"
        },
        {
         "hoverinfo": "none",
         "lat": [
          49.8844,
          49.8398976784109
         ],
         "line": {
          "color": "black"
         },
         "lon": [
          -97.14704,
          -97.1147932462383
         ],
         "mode": "lines",
         "type": "scattergeo"
        },
        {
         "hoverinfo": "none",
         "lat": [
          49.8844,
          49.9030174739611
         ],
         "line": {
          "color": "black"
         },
         "lon": [
          -97.14704,
          -97.2085643092654
         ],
         "mode": "lines",
         "type": "scattergeo"
        },
        {
         "hoverinfo": "none",
         "lat": [
          49.8844,
          49.8623491998175
         ],
         "line": {
          "color": "black"
         },
         "lon": [
          -97.14704,
          -97.1655013085463
         ],
         "mode": "lines",
         "type": "scattergeo"
        },
        {
         "hoverinfo": "none",
         "lat": [
          49.824498,
          49.8398976784109
         ],
         "line": {
          "color": "black"
         },
         "lon": [
          -97.102157,
          -97.1147932462383
         ],
         "mode": "lines",
         "type": "scattergeo"
        },
        {
         "hoverinfo": "none",
         "lat": [
          null,
          49.6892600620865
         ],
         "line": {
          "color": "black"
         },
         "lon": [
          null,
          -100.930436747744
         ],
         "mode": "lines",
         "type": "scattergeo"
        },
        {
         "hoverinfo": "none",
         "lat": [
          49.923179,
          49.956763627294
         ],
         "line": {
          "color": "black"
         },
         "lon": [
          -97.126986,
          -97.1126084183615
         ],
         "mode": "lines",
         "type": "scattergeo"
        },
        {
         "hoverinfo": "none",
         "lat": [
          49.853668,
          49.7844138289138
         ],
         "line": {
          "color": "black"
         },
         "lon": [
          -97.111622,
          -97.097847074096
         ],
         "mode": "lines",
         "type": "scattergeo"
        },
        {
         "hoverinfo": "none",
         "lat": [
          49.926932,
          49.9428476364164
         ],
         "line": {
          "color": "black"
         },
         "lon": [
          -97.105126,
          -97.0682276122556
         ],
         "mode": "lines",
         "type": "scattergeo"
        },
        {
         "hoverinfo": "none",
         "lat": [
          49.8844,
          49.815247321227
         ],
         "line": {
          "color": "black"
         },
         "lon": [
          -97.14704,
          -97.1530208040786
         ],
         "mode": "lines",
         "type": "scattergeo"
        },
        {
         "hoverinfo": "none",
         "lat": [
          49.868121,
          49.8651175625422
         ],
         "line": {
          "color": "black"
         },
         "lon": [
          -97.161405,
          -97.2041780002176
         ],
         "mode": "lines",
         "type": "scattergeo"
        },
        {
         "hoverinfo": "none",
         "lat": [
          49.8844,
          49.8546255598238
         ],
         "line": {
          "color": "black"
         },
         "lon": [
          -97.14704,
          -97.287282441911
         ],
         "mode": "lines",
         "type": "scattergeo"
        },
        {
         "hoverinfo": "none",
         "lat": [
          49.8844,
          49.9216210047124
         ],
         "line": {
          "color": "black"
         },
         "lon": [
          -97.14704,
          -97.084751904388
         ],
         "mode": "lines",
         "type": "scattergeo"
        },
        {
         "hoverinfo": "none",
         "lat": [
          49.8844,
          49.8978322535866
         ],
         "line": {
          "color": "black"
         },
         "lon": [
          -97.14704,
          -97.1400782950995
         ],
         "mode": "lines",
         "type": "scattergeo"
        },
        {
         "hoverinfo": "none",
         "lat": [
          49.896425,
          49.9085461037283
         ],
         "line": {
          "color": "black"
         },
         "lon": [
          -97.158997,
          -97.177989932005
         ],
         "mode": "lines",
         "type": "scattergeo"
        },
        {
         "hoverinfo": "none",
         "lat": [
          49.8844,
          49.815247321227
         ],
         "line": {
          "color": "black"
         },
         "lon": [
          -97.14704,
          -97.1530208040786
         ],
         "mode": "lines",
         "type": "scattergeo"
        },
        {
         "hoverinfo": "none",
         "lat": [
          49.8844,
          49.815247321227
         ],
         "line": {
          "color": "black"
         },
         "lon": [
          -97.14704,
          -97.1530208040786
         ],
         "mode": "lines",
         "type": "scattergeo"
        },
        {
         "hoverinfo": "none",
         "lat": [
          49.868121,
          49.8425075692549
         ],
         "line": {
          "color": "black"
         },
         "lon": [
          -97.161405,
          -97.2165857746472
         ],
         "mode": "lines",
         "type": "scattergeo"
        },
        {
         "hoverinfo": "none",
         "lat": [
          49.878474,
          49.8734500204612
         ],
         "line": {
          "color": "black"
         },
         "lon": [
          -97.216024,
          -97.2995596807409
         ],
         "mode": "lines",
         "type": "scattergeo"
        },
        {
         "hoverinfo": "none",
         "lat": [
          49.944074,
          49.967371584139
         ],
         "line": {
          "color": "black"
         },
         "lon": [
          -97.151758,
          -97.1559834424231
         ],
         "mode": "lines",
         "type": "scattergeo"
        },
        {
         "hoverinfo": "none",
         "lat": [
          49.856574,
          49.8546255598238
         ],
         "line": {
          "color": "black"
         },
         "lon": [
          -97.194067,
          -97.287282441911
         ],
         "mode": "lines",
         "type": "scattergeo"
        },
        {
         "hoverinfo": "none",
         "lat": [
          49.864279,
          49.8425075692549
         ],
         "line": {
          "color": "black"
         },
         "lon": [
          -97.206181,
          -97.2165857746472
         ],
         "mode": "lines",
         "type": "scattergeo"
        },
        {
         "hoverinfo": "none",
         "lat": [
          49.8844,
          49.7959671195233
         ],
         "line": {
          "color": "black"
         },
         "lon": [
          -97.14704,
          -97.1936027687693
         ],
         "mode": "lines",
         "type": "scattergeo"
        },
        {
         "hoverinfo": "none",
         "lat": [
          49.929974,
          49.956763627294
         ],
         "line": {
          "color": "black"
         },
         "lon": [
          -97.168025,
          -97.1126084183615
         ],
         "mode": "lines",
         "type": "scattergeo"
        },
        {
         "hoverinfo": "none",
         "lat": [
          49.896671,
          49.8881694617469
         ],
         "line": {
          "color": "black"
         },
         "lon": [
          -97.200368,
          -97.1814314509261
         ],
         "mode": "lines",
         "type": "scattergeo"
        },
        {
         "hoverinfo": "none",
         "lat": [
          49.8844,
          49.815247321227
         ],
         "line": {
          "color": "black"
         },
         "lon": [
          -97.14704,
          -97.1530208040786
         ],
         "mode": "lines",
         "type": "scattergeo"
        },
        {
         "hoverinfo": "none",
         "lat": [
          49.929974,
          49.956763627294
         ],
         "line": {
          "color": "black"
         },
         "lon": [
          -97.168025,
          -97.1126084183615
         ],
         "mode": "lines",
         "type": "scattergeo"
        },
        {
         "hoverinfo": "none",
         "lat": [
          49.901745,
          49.9041875372142
         ],
         "line": {
          "color": "black"
         },
         "lon": [
          -97.157485,
          -97.1466666962781
         ],
         "mode": "lines",
         "type": "scattergeo"
        },
        {
         "hoverinfo": "none",
         "lat": [
          49.8844,
          49.815247321227
         ],
         "line": {
          "color": "black"
         },
         "lon": [
          -97.14704,
          -97.1530208040786
         ],
         "mode": "lines",
         "type": "scattergeo"
        },
        {
         "hoverinfo": "none",
         "lat": [
          49.911708,
          49.9216210047124
         ],
         "line": {
          "color": "black"
         },
         "lon": [
          -97.053601,
          -97.084751904388
         ],
         "mode": "lines",
         "type": "scattergeo"
        },
        {
         "hoverinfo": "none",
         "lat": [
          49.890558,
          49.8175963840014
         ],
         "line": {
          "color": "black"
         },
         "lon": [
          -97.296427,
          -97.0543700485492
         ],
         "mode": "lines",
         "type": "scattergeo"
        },
        {
         "hoverinfo": "none",
         "lat": [
          49.8844,
          49.7959671195233
         ],
         "line": {
          "color": "black"
         },
         "lon": [
          -97.14704,
          -97.1936027687693
         ],
         "mode": "lines",
         "type": "scattergeo"
        },
        {
         "hoverinfo": "none",
         "lat": [
          49.89445,
          49.9173074257486
         ],
         "line": {
          "color": "black"
         },
         "lon": [
          -97.02527,
          -97.0387693609069
         ],
         "mode": "lines",
         "type": "scattergeo"
        },
        {
         "hoverinfo": "none",
         "lat": [
          49.948715,
          49.967371584139
         ],
         "line": {
          "color": "black"
         },
         "lon": [
          -97.132856,
          -97.1559834424231
         ],
         "mode": "lines",
         "type": "scattergeo"
        },
        {
         "hoverinfo": "none",
         "lat": [
          49.8844,
          49.815247321227
         ],
         "line": {
          "color": "black"
         },
         "lon": [
          -97.14704,
          -97.1530208040786
         ],
         "mode": "lines",
         "type": "scattergeo"
        },
        {
         "hoverinfo": "none",
         "lat": [
          49.8844,
          49.9195505643806
         ],
         "line": {
          "color": "black"
         },
         "lon": [
          -97.14704,
          -97.1349834808163
         ],
         "mode": "lines",
         "type": "scattergeo"
        },
        {
         "hoverinfo": "none",
         "lat": [
          49.878474,
          49.8734500204612
         ],
         "line": {
          "color": "black"
         },
         "lon": [
          -97.216024,
          -97.2995596807409
         ],
         "mode": "lines",
         "type": "scattergeo"
        },
        {
         "hoverinfo": "none",
         "lat": [
          49.8844,
          49.815247321227
         ],
         "line": {
          "color": "black"
         },
         "lon": [
          -97.14704,
          -97.1530208040786
         ],
         "mode": "lines",
         "type": "scattergeo"
        },
        {
         "hoverinfo": "none",
         "lat": [
          49.824498,
          49.8398976784109
         ],
         "line": {
          "color": "black"
         },
         "lon": [
          -97.102157,
          -97.1147932462383
         ],
         "mode": "lines",
         "type": "scattergeo"
        },
        {
         "hoverinfo": "none",
         "lat": [
          49.923179,
          50.0026996074731
         ],
         "line": {
          "color": "black"
         },
         "lon": [
          -97.126986,
          -97.260483095031
         ],
         "mode": "lines",
         "type": "scattergeo"
        },
        {
         "hoverinfo": "none",
         "lat": [
          49.868121,
          49.8425075692549
         ],
         "line": {
          "color": "black"
         },
         "lon": [
          -97.161405,
          -97.2165857746472
         ],
         "mode": "lines",
         "type": "scattergeo"
        },
        {
         "hoverinfo": "none",
         "lat": [
          49.954514,
          49.8850792463023
         ],
         "line": {
          "color": "black"
         },
         "lon": [
          -97.199626,
          -97.1170775188847
         ],
         "mode": "lines",
         "type": "scattergeo"
        },
        {
         "hoverinfo": "none",
         "lat": [
          49.8844,
          49.8881694617469
         ],
         "line": {
          "color": "black"
         },
         "lon": [
          -97.14704,
          -97.1814314509261
         ],
         "mode": "lines",
         "type": "scattergeo"
        },
        {
         "hoverinfo": "none",
         "lat": [
          49.8844,
          49.8546255598238
         ],
         "line": {
          "color": "black"
         },
         "lon": [
          -97.14704,
          -97.287282441911
         ],
         "mode": "lines",
         "type": "scattergeo"
        },
        {
         "hoverinfo": "none",
         "lat": [
          49.901087,
          49.9041875372142
         ],
         "line": {
          "color": "black"
         },
         "lon": [
          -97.157966,
          -97.1466666962781
         ],
         "mode": "lines",
         "type": "scattergeo"
        },
        {
         "hoverinfo": "none",
         "lat": [
          49.924533,
          49.9321075397755
         ],
         "line": {
          "color": "black"
         },
         "lon": [
          -97.195351,
          -97.1735542589426
         ],
         "mode": "lines",
         "type": "scattergeo"
        },
        {
         "hoverinfo": "none",
         "lat": [
          null,
          49.9810801901537
         ],
         "line": {
          "color": "black"
         },
         "lon": [
          null,
          -97.0150480190604
         ],
         "mode": "lines",
         "type": "scattergeo"
        },
        {
         "hoverinfo": "none",
         "lat": [
          49.864279,
          49.8425075692549
         ],
         "line": {
          "color": "black"
         },
         "lon": [
          -97.206181,
          -97.2165857746472
         ],
         "mode": "lines",
         "type": "scattergeo"
        },
        {
         "hoverinfo": "none",
         "lat": [
          49.8844,
          49.815247321227
         ],
         "line": {
          "color": "black"
         },
         "lon": [
          -97.14704,
          -97.1530208040786
         ],
         "mode": "lines",
         "type": "scattergeo"
        },
        {
         "hoverinfo": "none",
         "lat": [
          49.877823,
          49.7935270025983
         ],
         "line": {
          "color": "black"
         },
         "lon": [
          -99.961769,
          -99.9593823803396
         ],
         "mode": "lines",
         "type": "scattergeo"
        },
        {
         "hoverinfo": "none",
         "lat": [
          49.902623,
          49.9216401834937
         ],
         "line": {
          "color": "black"
         },
         "lon": [
          -97.065803,
          -96.9624729438158
         ],
         "mode": "lines",
         "type": "scattergeo"
        },
        {
         "hoverinfo": "none",
         "lat": [
          49.923179,
          49.956763627294
         ],
         "line": {
          "color": "black"
         },
         "lon": [
          -97.126986,
          -97.1126084183615
         ],
         "mode": "lines",
         "type": "scattergeo"
        },
        {
         "hoverinfo": "none",
         "lat": [
          49.818635,
          49.8398976784109
         ],
         "line": {
          "color": "black"
         },
         "lon": [
          -97.157206,
          -97.1147932462383
         ],
         "mode": "lines",
         "type": "scattergeo"
        },
        {
         "hoverinfo": "none",
         "lat": [
          49.878474,
          49.8734500204612
         ],
         "line": {
          "color": "black"
         },
         "lon": [
          -97.216024,
          -97.2995596807409
         ],
         "mode": "lines",
         "type": "scattergeo"
        },
        {
         "hoverinfo": "none",
         "lat": [
          49.8844,
          49.815247321227
         ],
         "line": {
          "color": "black"
         },
         "lon": [
          -97.14704,
          -97.1530208040786
         ],
         "mode": "lines",
         "type": "scattergeo"
        },
        {
         "hoverinfo": "none",
         "lat": [
          44.72159,
          51.0473387247898
         ],
         "line": {
          "color": "black"
         },
         "lon": [
          -76.56915,
          -96.3178031764161
         ],
         "mode": "lines",
         "type": "scattergeo"
        },
        {
         "hoverinfo": "none",
         "lat": [
          null,
          49.6501667851854
         ],
         "line": {
          "color": "black"
         },
         "lon": [
          null,
          -97.0927385025878
         ],
         "mode": "lines",
         "type": "scattergeo"
        },
        {
         "hoverinfo": "none",
         "lat": [
          null,
          49.4311206483548
         ],
         "line": {
          "color": "black"
         },
         "lon": [
          null,
          -98.0260802110283
         ],
         "mode": "lines",
         "type": "scattergeo"
        },
        {
         "hoverinfo": "none",
         "lat": [
          null,
          50.8573388683205
         ],
         "line": {
          "color": "black"
         },
         "lon": [
          null,
          -97.797425232004
         ],
         "mode": "lines",
         "type": "scattergeo"
        },
        {
         "hoverinfo": "none",
         "lat": [
          45.263492,
          49.2786588938955
         ],
         "line": {
          "color": "black"
         },
         "lon": [
          -75.287396,
          -96.4733278772925
         ],
         "mode": "lines",
         "type": "scattergeo"
        },
        {
         "hoverinfo": "none",
         "lat": [
          49.8844,
          49.7844138289138
         ],
         "line": {
          "color": "black"
         },
         "lon": [
          -97.14704,
          -97.097847074096
         ],
         "mode": "lines",
         "type": "scattergeo"
        },
        {
         "hoverinfo": "none",
         "lat": [
          null,
          52.3283909066327
         ],
         "line": {
          "color": "black"
         },
         "lon": [
          null,
          -98.7772322568499
         ],
         "mode": "lines",
         "type": "scattergeo"
        },
        {
         "hoverinfo": "none",
         "lat": [
          49.66969,
          50.8573388683205
         ],
         "line": {
          "color": "black"
         },
         "lon": [
          -96.65,
          -97.797425232004
         ],
         "mode": "lines",
         "type": "scattergeo"
        },
        {
         "hoverinfo": "none",
         "lat": [
          49.923179,
          49.956763627294
         ],
         "line": {
          "color": "black"
         },
         "lon": [
          -97.126986,
          -97.1126084183615
         ],
         "mode": "lines",
         "type": "scattergeo"
        },
        {
         "hoverinfo": "none",
         "lat": [
          49.911708,
          49.9216210047124
         ],
         "line": {
          "color": "black"
         },
         "lon": [
          -97.053601,
          -97.084751904388
         ],
         "mode": "lines",
         "type": "scattergeo"
        },
        {
         "hoverinfo": "none",
         "lat": [
          49.8844,
          49.815247321227
         ],
         "line": {
          "color": "black"
         },
         "lon": [
          -97.14704,
          -97.1530208040786
         ],
         "mode": "lines",
         "type": "scattergeo"
        },
        {
         "hoverinfo": "none",
         "lat": [
          49.8844,
          49.956763627294
         ],
         "line": {
          "color": "black"
         },
         "lon": [
          -97.14704,
          -97.1126084183615
         ],
         "mode": "lines",
         "type": "scattergeo"
        },
        {
         "hoverinfo": "none",
         "lat": [
          49.8844,
          49.8674348090377
         ],
         "line": {
          "color": "black"
         },
         "lon": [
          -97.14704,
          -97.1351286124883
         ],
         "mode": "lines",
         "type": "scattergeo"
        },
        {
         "hoverinfo": "none",
         "lat": [
          49.889043,
          49.8978322535866
         ],
         "line": {
          "color": "black"
         },
         "lon": [
          -97.152965,
          -97.1400782950995
         ],
         "mode": "lines",
         "type": "scattergeo"
        },
        {
         "hoverinfo": "none",
         "lat": [
          49.8844,
          49.9030174739611
         ],
         "line": {
          "color": "black"
         },
         "lon": [
          -97.14704,
          -97.2085643092654
         ],
         "mode": "lines",
         "type": "scattergeo"
        },
        {
         "hoverinfo": "none",
         "lat": [
          49.8844,
          49.8674348090377
         ],
         "line": {
          "color": "black"
         },
         "lon": [
          -97.14704,
          -97.1351286124883
         ],
         "mode": "lines",
         "type": "scattergeo"
        },
        {
         "hoverinfo": "none",
         "lat": [
          49.8844,
          49.815247321227
         ],
         "line": {
          "color": "black"
         },
         "lon": [
          -97.14704,
          -97.1530208040786
         ],
         "mode": "lines",
         "type": "scattergeo"
        },
        {
         "hoverinfo": "none",
         "lat": [
          49.8844,
          49.815247321227
         ],
         "line": {
          "color": "black"
         },
         "lon": [
          -97.14704,
          -97.1530208040786
         ],
         "mode": "lines",
         "type": "scattergeo"
        },
        {
         "hoverinfo": "none",
         "lat": [
          49.896552,
          49.9085461037283
         ],
         "line": {
          "color": "black"
         },
         "lon": [
          -97.163898,
          -97.177989932005
         ],
         "mode": "lines",
         "type": "scattergeo"
        },
        {
         "hoverinfo": "none",
         "lat": [
          49.878474,
          49.8734500204612
         ],
         "line": {
          "color": "black"
         },
         "lon": [
          -97.216024,
          -97.2995596807409
         ],
         "mode": "lines",
         "type": "scattergeo"
        },
        {
         "hoverinfo": "none",
         "lat": [
          49.929974,
          49.956763627294
         ],
         "line": {
          "color": "black"
         },
         "lon": [
          -97.168025,
          -97.1126084183615
         ],
         "mode": "lines",
         "type": "scattergeo"
        },
        {
         "hoverinfo": "none",
         "lat": [
          49.864279,
          49.8425075692549
         ],
         "line": {
          "color": "black"
         },
         "lon": [
          -97.206181,
          -97.2165857746472
         ],
         "mode": "lines",
         "type": "scattergeo"
        },
        {
         "hoverinfo": "none",
         "lat": [
          null,
          49.4311206483548
         ],
         "line": {
          "color": "black"
         },
         "lon": [
          null,
          -98.0260802110283
         ],
         "mode": "lines",
         "type": "scattergeo"
        },
        {
         "hoverinfo": "none",
         "lat": [
          49.8844,
          49.9030174739611
         ],
         "line": {
          "color": "black"
         },
         "lon": [
          -97.14704,
          -97.2085643092654
         ],
         "mode": "lines",
         "type": "scattergeo"
        },
        {
         "hoverinfo": "none",
         "lat": [
          50.659655,
          52.3283909066327
         ],
         "line": {
          "color": "black"
         },
         "lon": [
          -99.975127,
          -98.7772322568499
         ],
         "mode": "lines",
         "type": "scattergeo"
        }
       ],
       "layout": {
        "geo": {
         "countrycolor": "#d3d3d3",
         "countrywidth": 1.5,
         "lakecolor": "#fff",
         "landcolor": "#EAEAAE",
         "resolution": 50,
         "rivercolor": "#fff",
         "scope": "north america",
         "showlakes": true,
         "showland": true,
         "showrivers": true,
         "subunitcolor": "#d3d3d3",
         "subunitwidth": 1
        },
        "margin": {
         "b": 50,
         "l": 50,
         "r": 50,
         "t": 60
        },
        "showlegend": false,
        "title": "Canada population centres and pharmacies"
       }
      },
      "text/html": [
       "<div class='display:none'></div><unsafe-script style='display:none'>\n",
       "WebIO.mount(this.previousSibling,{&quot;props&quot;:{},&quot;nodeType&quot;:&quot;Scope&quot;,&quot;type&quot;:&quot;node&quot;,&quot;instanceArgs&quot;:{&quot;imports&quot;:{&quot;data&quot;:[{&quot;name&quot;:&quot;Plotly&quot;,&quot;type&quot;:&quot;js&quot;,&quot;url&quot;:&quot;/assetserver/fed8edb071e0745afe716f30e11f8f99b4504b6c-plotly-latest.min.js&quot;},{&quot;name&quot;:null,&quot;type&quot;:&quot;js&quot;,&quot;url&quot;:&quot;/assetserver/5ad19570f2720cd99c52e61ab92d08fab6586391-plotly_webio.bundle.js&quot;}],&quot;type&quot;:&quot;async_block&quot;},&quot;id&quot;:&quot;scope-57226ab5-272a-41be-a023-68af4c78d913&quot;,&quot;handlers&quot;:{&quot;_toImage&quot;:[(function (options){return this.Plotly.toImage(this.plotElem,options).then((function (data){return WebIO.setval({&quot;name&quot;:&quot;image&quot;,&quot;scope&quot;:&quot;scope-57226ab5-272a-41be-a023-68af4c78d913&quot;,&quot;id&quot;:&quot;ob_05&quot;,&quot;type&quot;:&quot;observable&quot;},data)}))})],&quot;__get_gd_contents&quot;:[(function (prop){prop==&quot;data&quot; ? (WebIO.setval({&quot;name&quot;:&quot;__gd_contents&quot;,&quot;scope&quot;:&quot;scope-57226ab5-272a-41be-a023-68af4c78d913&quot;,&quot;id&quot;:&quot;ob_06&quot;,&quot;type&quot;:&quot;observable&quot;},this.plotElem.data)) : undefined; return prop==&quot;layout&quot; ? (WebIO.setval({&quot;name&quot;:&quot;__gd_contents&quot;,&quot;scope&quot;:&quot;scope-57226ab5-272a-41be-a023-68af4c78d913&quot;,&quot;id&quot;:&quot;ob_06&quot;,&quot;type&quot;:&quot;observable&quot;},this.plotElem.layout)) : undefined})],&quot;_promises&quot;:{&quot;importsLoaded&quot;:[(function (Plotly){var gd=this.dom.querySelector(&quot;#plot-370e9f2f-5b39-41ae-9ce4-d1c0b798f736&quot;); this.plotElem=gd; this.Plotly=Plotly; (window.Blink!==undefined) ? (gd.style.width=&quot;100%&quot;, gd.style.height=&quot;100vh&quot;, gd.style.marginLeft=&quot;0%&quot;, gd.style.marginTop=&quot;0vh&quot;) : undefined; window.onresize=(function (){return Plotly.Plots.resize(gd)}); Plotly.newPlot(gd,[{&quot;type&quot;:&quot;scattergeo&quot;,&quot;lat&quot;:[43.6307126272872,45.6472539800036,51.2759404697719,46.0632786609302,45.3074465981972,45.5609962941708,44.1569119766428,48.5421689621295,45.225741947749,49.1015086018737,45.8232942829019,42.1192022323195,48.5756876474053,48.4666205269866,44.3074706792672,45.6232033002459,50.4448513100121,45.4353078949787,43.8356390194775,45.7746743840892,50.7290878674206,49.6280013606124,48.7588045555516,42.7747461846112,43.2873287839215,49.2168645364746,47.4419953205122,51.0567851120185,51.1764475504551,48.4371177103948,54.1219797869169,44.3737228962905,45.4877122406126,47.6760671630856,47.6024053298474,46.212201406994,47.0348141763969,50.0592408102245,55.2122322587736,44.4343443580778,46.4008228650368,45.1214163632729,44.0839094299034,44.1550836444093,45.5605477544775,46.0820407839496,45.0429646775532,52.058254706871,49.0104449329997,49.6074874408229,42.3363834203681,46.1895172510199,44.5395585720123,49.2304977168013,45.9580846216342,43.8710453772643,48.0496132837575,48.6532997194351,54.2653600808272,49.1434817480063,49.8688976520958,43.9142156262439,45.048320099868,44.1118807677912,49.8436836061515,43.1504075849418,44.3739131948092,44.3822635249335,44.0346058828735,44.6034915893612,50.5682927718648,46.4721032167604,47.6147772058643,54.2339006543337,47.6947370928673,43.0676969249525,51.0350108897204,49.9959335516974,44.3035702183206,47.9961546017104,53.011907912332,51.09113278598,44.3515900561804,51.6294536806665,47.3785849033881,49.0927110411027,46.7076683420671,47.7898644206105,49.8707745486475,47.7153330446543,44.7923811706748,49.1961522598222,45.1314869699197,49.6290599600509,49.504826401631,49.1755691260888,45.3131210846234,49.2951005573657,48.3541305175628,42.9489002653555,48.3499544820695,47.5797621634846,49.7816373211128,47.8424066693336,46.2509967705237,50.8222044560169,46.968707436474,42.4017200635942,48.9258041995004,44.3011810060689,44.5455207981841,45.1020173092627,49.918142181074,48.4207917860439,49.1460917197094,49.125202386811,48.1700209388718,50.0249187696968,47.6939986713165,43.6165339928835,49.7227266241911,45.1312552832823,43.9681872925934,51.1866831608965,49.0664236585241,44.0049385475303,44.4975140545778,45.8535765894955,45.4121610465856,48.9471240842948,45.0332727238778,49.6921445922716,45.2104483247502,45.9689424667145,49.512072796171,49.0988649539354,49.6242032226609,48.0627505530242,51.1507135645493,55.7574483752814,46.1094005151145,49.1777443701423,47.5496598775061,42.8496033753128,44.1947467972453,53.3526512640247,51.6596233638179,44.6243564724281,45.9031256151652,48.8777072156428,46.6751649618317,53.2206393411894,42.5899672000488,51.4619291575108,45.8695052024723,49.7725209644104,48.7869092436061,44.1694042220757,42.9076067886583,44.1761090036795,45.4843158807107,46.2218451818488,53.5296840154837,47.3814869532794,53.5892316790799,45.5407657239336,46.3790126403565,43.5924061285732,44.582460391742,45.2737699474172,50.5550093665225,47.8251621092025,43.7715034592972,48.3446005906413,46.2567159680447,42.1708689472302,50.6547281369909,49.1434288612731,43.3524431581736,56.0696135532154,45.2831925923403,44.5390403049286,43.6987592262042,46.7008998018164,49.4996400244468,54.7601311739898,51.6427921256955,43.0951654205877,48.7378250959851,48.6091324255625,49.7217833070393,56.7327496760463,58.8106063700238,50.7666260762271,54.4381459819839,56.2453092121112,45.8495960854769,47.072236937441,54.4038687643012,46.6076361398366,44.1997956038737,45.946894905969,63.7487692221962,44.3338142278484,48.9532632354097,43.6469540066282,49.717031879918,49.4046207367019,50.6321905083069,46.1958029137089,42.7470979939001,43.7370475586076,51.2997482301158,45.3984032753416,47.0973383929782,54.4140527732412,47.050468306756,48.943387716933,49.02887999788,53.8836165230507,55.1697521308258,48.4033213567839,44.9236624403822,56.1864843026318,43.5394474879632,42.9589636156207,47.4394194925115,44.7063284410488,43.2604489225654,45.5278526124902,51.6433714343826,44.1567790383757,45.068692084342,53.3059992217327,43.91340224099,42.0375343947224,44.4347365948049,50.2453513311539,45.6271785971594,60.8101438109574,49.6870827585081,48.4724004320991,58.514756127352,55.4354369500403,50.5799673644772,53.4025330316387,49.3758234236263,45.4194533242242,52.8557980371972,52.2001352922636,45.0866486822478,45.3286696547916,50.5353220899972,43.035604073719,52.0228947161267,68.3601484496149,50.5036126000936,46.2287888318462,44.848095801366,48.7626245228229,47.9935673754096,46.0333325032094,50.6879912768024,51.5630657012771,45.2970327091806,49.418860150356,49.8648129094059,45.0156901075387,49.7702546827962,46.4352273681285,45.0753292919755,49.1805943589222,49.6803263720115,44.1696232376437,51.4685145165926,44.2454056114158,44.9790616243538,48.1506392956696,43.4297285434764,54.0572445796509,45.8363362316488,45.8490328903913,45.62587709667,47.6489586544642,47.3707633333579,48.8025423614629,47.4178744270417,46.2761058806674,52.9227108189735,54.7686879522211,46.3960185514305,45.5822590460036,45.6455653425733,45.0810564351959,52.471489014997,48.974789222743,48.8256773124191,44.4256384050393,51.8466465489238,45.824766766098,45.8832783350057,42.0404536740016,49.0587845539851,53.2963185597011,49.6841327296026,49.2401791876873,50.6945881687895,44.3572397014795,46.0607216412679,43.7291476354866,45.9796876660493,44.0378278205926,53.2696701268063,42.9798030195965,49.7773086154829,46.255607070456,43.189295837358,48.5252236739375,43.9603526135917,44.3797566953915,48.7640779367169,55.3355654954467,44.5053405306599,45.2734951171184,49.4153230067743,48.1400054714004,49.1257606189017,46.3818139726699,56.9226318745766,49.9044101304551,48.7116040388967,45.4324892951502,44.3168963141702,44.482909183521,47.1610159715831,49.7591780107655,48.8402404470267,46.3126557471483,53.9517544553723,54.1264370791402,44.6050863295654,50.0264490882496,52.861498453804,50.931797129494,50.1095352187677,44.9492876401221,44.7568167090221,43.5119049441956,43.5660676901203,50.2482922514447,43.4703094666138,46.0898422571905,48.595990215084,46.5506287174448,46.167109656759,46.9799463282183,45.5465702190074,50.3987254759476,50.1420869511006,49.1949092173416,53.7982067498697,49.3523761688162,44.8967997224044,42.906267980639,43.9819145445578,48.3908094849497,46.0025148444845,47.6139606762327,50.242042555396,49.1994806607458,44.248759653281,45.1888248266796,50.2299740742799,49.4929772551292,45.577360156641,43.3885488789208,48.1719873916415,46.239473416712,46.2341283639782,53.3608020511317,48.8364064577468,52.7815459464556,46.2826014879894,42.9887688306669,44.3810307700231,50.7259975197518,51.7963779074527,49.1844998877823,43.9182681442608,44.6087172072648,45.1242016983696,45.8427812286143,43.9812707125344,43.9042006994681,49.0365243305577,45.4657373134496,51.4868372057003,44.5714686401894,49.2325226865047,43.8323679476466,45.617018770825,43.193948179462,43.1624641792225,49.3372455934817,45.3472955924175,56.2491157232554,45.8214444223331,49.4829698181669,44.9011516647442,44.3052985302243,42.8773287477251,44.0068039106273,45.6818825224878,49.8735585951119,46.0712263668773,50.1492571262939,49.4880645373838,46.220429610833,52.6798256683729,46.7531574264254,49.2595021667066,42.7905832266941,44.4379056243732,45.6182092613179,43.9561647129534,44.111340846036,42.6681755644312,50.025729049209,49.9705445314721,46.6987090922793,46.0820841205762,49.8544162112758,44.7156978953071,48.5993753482814,53.1948552759466,53.9154426785258,54.3132593689419,49.4581078522505,46.1633565792066,52.3550561869172,46.8169404600771,52.9788064031582,46.0497052476042,49.4627205144313,52.2710007973731,53.9522780346896,50.4532843659868,45.4735661916647,50.9921560634305,45.1949291825047,45.6615339957942,42.4377670010387,45.4768749111746,52.6444618417585,48.4472097294189,50.032727264388,47.8246915518167,48.5181542890603,51.2304500307438,45.5453047196713,52.3763685916976,51.5572199220487,52.6621351698166,48.252201109189,45.5734457761465,50.7798135534002,45.8967757451285,45.2895613464906,46.0277077510762,50.7032433265655,42.992192379348,52.1348717065959,46.5273458247822,43.5518366028118,50.1367429198844,48.3871111003799,50.2288083135505,49.6498635274079,46.5708176072961,45.6053900127267,46.2203191183752,43.7648659439014,44.080962239004,53.2222843572634,45.3897989144027,49.8055696753096,47.7432852185038,42.8392803197574,50.1085459622643,55.2843214163594,54.7972271577761,44.8975740747725,43.0988632004089,46.0205878388879,49.6188755116515,49.7510570945105,49.5008078384117,45.6438993283372,53.5571501935176,49.7325214583811,45.0787305883164,51.3701206073137,43.1363081049521,47.5509896873376,43.2597417146958,53.9899503073525,47.5097551315907,45.1900367657623,42.776167858407,46.5626861001895,46.46407320876,48.5575881529198,45.7231400694776,46.6297366466755,46.7563056737082,45.4120978195042,45.5234828886495,46.6232138596358,46.3215392873419,48.2930698079535,48.6521866641466,46.1637482245018,46.2959790011071,45.8547265562379,46.1200309320396,45.8403983255665,46.6961183784275,48.5353741279746,45.6285957999414,45.9461884106015,45.3160351592766,47.2134769409864,48.4384959395851,45.7758473564144,46.305431504463,45.9652350636588,46.1258674180617,46.6844811723183,46.6764720225348,47.5285490163919,45.5076076712251,46.213339319356,46.7940149717548,46.8904690651325,45.2644851501748,45.8919490112324,46.7280980935061,44.418906571059,49.6682963715014,45.9467463732371,49.124249055775,46.6011059311768,46.6221639199495,45.5874021493665,46.4535063058989,45.2548556848521,46.8140550679451,49.5234457740317,48.5545272697082,52.320469492629,44.2937619018541,50.1357499983991,50.0900156103452,43.3671335644413,51.0521297949747,42.9609795416345,46.366826611418,46.4965501028477,46.4071780513393,45.7216667727165,44.374459542455,54.7176083432508,52.1127705733411,50.291735671684,46.1274416815679,46.2388848515351,52.3050648366521,49.796060019897,43.3206167903824,46.7201599537282,54.5174179450733,43.0545202707891,53.8129475576853,46.2571783235925,46.102600573381,55.7418894876401,44.5558106509181,51.7036321980504,48.4123565915883,45.5982154263119,42.2599226867559,42.8638738632948,52.8528415660766,43.7380964885911,44.0250184788448,47.5166168233345,48.126594770994,46.3633831795973,45.3660633356345,44.4776967004313,48.9344596996412,52.4465345273988,44.1083704234884,48.1267750930221,45.4971627320375,46.3748484145958,46.6364161061653,45.26530266441,55.0693415888911,49.2072228092815,54.0175965451965,45.5186536334713,45.6740795215751,53.4944556456909,45.7703791983032,53.3559561625989,50.2541779949861,48.5079108623541,46.0533456330715,53.0977953876715,47.3317727039219,49.8496694598147,50.3998561588317,47.6398046343056,51.948937699931,52.8381831665261,44.1249346130947,42.5930193923681,45.9449367928808,42.9303774195562,45.3470906151863,42.9499815749944,51.6770918967962,42.6021518427907,54.1566431197391,52.9711506074519,49.6680200575006,42.0909760817687,43.9695673688332,49.0446753583437,54.1360692858144,60.7390465402532,44.7418800494524,52.4054910028061,52.1253960537055,45.0900275279561,44.9856606637239,42.2857797882472,45.5714857070451,43.8878550608854,49.1824673690486,49.8860463105785,45.0894512207197,46.1544944696221,43.1319907826361,51.767936880082,42.9452661307815,46.2804129096843,43.844210043924,62.4571898981427,51.211175515504,51.6384346654592,49.0491718666375,45.5752142532966,52.7933554041627,42.9039466107288,42.8814775896147,48.8345568622315,48.9957553793841,44.232820374748,43.9110192007404,48.3300246032306,43.1665489657796,43.2483737843685,46.5897839872236,45.9006145397169,50.7228445870187,48.3793035019506,48.4818028541834,48.4821570212571,46.426074255079,47.0188073970145,49.5943098438057,46.2297243046687,46.2021829968671,45.2637851674069,44.3045137719973,43.8986081322879,44.3277764293226,49.6005404873807,52.3260375120822,50.3435655361489,50.6831316020147,51.5537216967264,53.8147139178564,50.0084807339705,50.4904402612394,46.2278462516947,41.9989263627232,45.9311000873443,42.8864513025478,50.6456708877614,46.4097326143397,47.1699927703889,51.8026423375219,53.3720008228044,42.6661960314524,49.1907412384931,52.3877605474507,52.8780110000225,50.2510302080727,44.4981961994359,45.3410279014126,45.7636535285432,45.956965180152,45.7844741224687,55.0923277208263,50.5848263759665,55.1493660500554,52.1353154969788,53.7654915232638,53.902083307676,53.087545025511,53.3523694127531,49.0136024417216,45.6754299179621,43.6145856599037,50.4825183426647,52.3429871662799,52.2889805008609,53.8392103088978,51.4344382518894,49.4626392191933,49.0584065259936,50.8232641243614,54.3940496587888,50.6587963778481,50.2528797927826,52.3587540868541,52.332776958899,46.0645749903565,48.3713038163735,42.8841084583114,55.1324644816671,44.305429342036,55.352143996314,43.5367884049913,44.190574252734,49.7438815453182,45.8995319373781,49.673139786992,43.3979175492832,49.0780593543451,53.5261815568893,45.8242070562671,50.044101599912,45.1442375179671,44.7363612328713,43.1556552017024,45.7185516353198,44.1417523192244,47.6813948426256,50.7894842529858,49.1937058393115,49.0043919990095,46.543266120703,45.8565108781915,43.7425963409141,43.3042420479608,43.4755545007727,49.4692158646161,44.0414290379957,53.7120500018441,45.8022433356239,45.2565521000395,44.2997700581561,44.1505043717337,50.1152470366698,54.7121582307183,42.3092078801219,49.0717826344319,43.2453552646356,43.7543734970328,45.8331354097971,43.8635058174562,62.8124195906909,45.4965436616695,45.2329157377064,49.2365469330509,44.6993915670439,50.4391269293724,50.4884144245462,44.1952270540393,44.4903292836722,45.4378146387282,45.4693735006458,45.8223092045182,45.649677723898,48.1043677898981,48.9445786284662,50.416484721964,53.7958076667503,46.4847689885999,45.8591439203509,45.0580344036142,55.252872403432,58.1862314975722,50.8788320675065,50.3221760730868,46.1455314087415,44.5541608168108,43.8775425711151,43.9985973337238,46.2724231000697,45.3140902608178,53.26606983816,45.3110710907654,45.4634211434573,45.6302510270181,49.9375052023569,50.9711374882515,51.0369708976003,51.3180087373777,44.0440593070473,43.2198464842452,49.7410883398522,50.7917292851724,48.8712039551371,49.4252039305808,49.2962386108668,55.4106083663135,51.4839323751843,51.9314892799853,51.0168489236198,51.2752374019996,69.1177976848908,61.1007668357203,44.6991018016721,45.8981914411109,50.2143131181999,46.6026937729641,46.8411264131777,45.8961049134989,48.0644475895854,45.2604530220256,44.1829228613829,43.1199609020563,43.0792335802276,49.8800991038966,49.0547099878183,49.3848156286149,48.7353250121265,49.5334710349775,53.7009532828648,53.8274984217974,49.406510887787,56.3380305249951,49.6033285873716,51.8245264703535,52.3627061478771,54.911010736066,52.9863720158355,55.1723204355783,49.4763406075468,51.2570142968992,43.3504881913174,44.2625726542773,46.7713328928984,47.2192770375157,45.8619571851691,45.8315893172874,45.2425579846619,45.3519861190349,45.2354566772388,64.3215549756315,67.8238530717693,52.3644322244197,48.9365230053643,47.6485248498549,45.1299503096542,44.9689295739536,44.7434768848674,45.9339815721028,45.099362770775,45.904358513213,45.407673032489,46.5891467277742,46.3656301645358,45.3820480033477,45.5276630637124,46.8318970997065,46.0489659943971,45.4662303740969,47.0325434457334,48.2429849542374,46.8776993754624,46.2967913539436,58.4582689749331,58.1100971205675,45.9000487356176,45.4269449845616,48.1806163432156,45.3136364797861,46.7037127951213,48.6582976170695,46.562682560003,46.2969985876304,60.0357533538407,45.6413227824702,46.0796605956605,46.4975290571494,46.4966947795609,45.1037119256714,46.031850395566,46.9792119996232,46.4063935630337,45.5103669253124,46.1086107070669,46.8702002846403,45.3018668855865,48.5985201087041,46.0166062737733,62.2037193383523,46.8880751774311,45.0115192584483,47.0119001178026,45.3725504874236,47.9024821627215,52.9256631477681,46.5507972183723,43.5597458131103,45.4384996866587,46.0184150392392,46.5702032503978,43.0507180969378,43.9741174416395,47.3995860599251,46.4905897486941,42.8828689056002,42.9876573181488,45.0535100525573,45.0007052952736,44.3149827260495,43.9311661509607,45.3352006522984,45.0322561347545,44.6135907792666,42.1452083627699,47.5105969629515,43.9093551046259,44.4462777466359,43.9461254873114,43.309685223427,42.8925275983023,42.6247636701798,42.940333610518,44.7480708586719,43.0026922290393,45.5715885954678,50.9092710381374,54.6491739738056,49.7113692620022,49.6943662184816,49.6714473110419,49.7759060581403,49.4401481785102,50.3842137382296,52.737758264182,51.9268277564088,53.6732165705293,52.466317605627,54.4691971674664,49.6354977625548,50.7290751158081,55.7331542327645,53.6904857347655,50.8422249887357,53.6700648841032,53.9489974364972,50.07296635977,52.1792734400585,50.6691967839644,50.0696315915727,55.2171443554729,50.7519417615785,49.2817181658465,48.6891854683958,49.2054588325195,49.092596697193,49.149339828095,49.5929282216888,49.3398673227176,49.779923733071,49.6717879064736,50.7990448686817,49.1837779753102,48.6509978346195,54.6893069892644,49.0939521991339,49.017962122322,60.0066784313724,68.6265517096694,46.060348577978,47.2476146973856,49.1069429343024],&quot;hoverinfo&quot;:&quot;text&quot;,&quot;text&quot;:[&quot;Acton pop: 9462.0&quot;,&quot;Acton Vale pop: 5399.0&quot;,&quot;Airdrie pop: 61082.0&quot;,&quot;Alençon pop: 1562.0&quot;,&quot;Alexandria pop: 2845.0&quot;,&quot;Alfred pop: 1185.0&quot;,&quot;Alliston pop: 18809.0&quot;,&quot;Alma pop: 21406.0&quot;,&quot;Almonte pop: 5039.0&quot;,&quot;Altona pop: 4167.0&quot;,&quot;Amherst pop: 9550.0&quot;,&quot;Amherstburg pop: 13910.0&quot;,&quot;Amos pop: 10005.0&quot;,&quot;Amqui pop: 4511.0&quot;,&quot;Angus - Borden CFB-BFC pop: 12640.0&quot;,&quot;Antigonish pop: 5002.0&quot;,&quot;Armstrong pop: 5114.0&quot;,&quot;Arnprior pop: 10426.0&quot;,&quot;Arthur pop: 2333.0&quot;,&quot;Asbestos pop: 5205.0&quot;,&quot;Ashcroft pop: 1084.0&quot;,&quot;Assiniboia pop: 2389.0&quot;,&quot;Atikokan pop: 1944.0&quot;,&quot;Aylmer pop: 7621.0&quot;,&quot;Ayr pop: 4171.0&quot;,&quot;Baie-Comeau pop: 9610.0&quot;,&quot;Baie-Saint-Paul pop: 4868.0&quot;,&quot;Golden pop: 1154.0&quot;,&quot;Banff pop: 7851.0&quot;,&quot;Barraute pop: 1099.0&quot;,&quot;Barrhead pop: 4387.0&quot;,&quot;Barrie pop: 145614.0&quot;,&quot;Barry&#39;s Bay pop: 1259.0&quot;,&quot;Bathurst pop: 15557.0&quot;,&quot;Bay Roberts pop: 7100.0&quot;,&quot;Beauceville pop: 3769.0&quot;,&quot;Beaupré pop: 5889.0&quot;,&quot;Beausejour pop: 2895.0&quot;,&quot;Beaverlodge pop: 2327.0&quot;,&quot;Beaverton pop: 2822.0&quot;,&quot;Gentilly pop: 1673.0&quot;,&quot;Bedford pop: 2550.0&quot;,&quot;Beeton pop: 3891.0&quot;,&quot;Belleville pop: 67666.0&quot;,&quot;Beloeil pop: 50845.0&quot;,&quot;Berthierville pop: 4715.0&quot;,&quot;Berwick pop: 2449.0&quot;,&quot;Biggar pop: 2165.0&quot;,&quot;Bishop&#39;s Falls pop: 2581.0&quot;,&quot;Blairmore pop: 1545.0&quot;,&quot;Blenheim pop: 4344.0&quot;,&quot;Blind River pop: 2284.0&quot;,&quot;Bobcaygeon pop: 3525.0&quot;,&quot;Boissevain pop: 1656.0&quot;,&quot;Saint-Martin pop: 1582.0&quot;,&quot;Bolton pop: 26378.0&quot;,&quot;Bonaventure pop: 1439.0&quot;,&quot;Bonavista pop: 3140.0&quot;,&quot;Bonnyville pop: 5081.0&quot;,&quot;Botwood pop: 2763.0&quot;,&quot;Bow Island pop: 1773.0&quot;,&quot;Bowmanville pop: 39371.0&quot;,&quot;Bracebridge pop: 9232.0&quot;,&quot;Bradford pop: 29862.0&quot;,&quot;Brandon pop: 48324.0&quot;,&quot;Brantford pop: 98179.0&quot;,&quot;Bridgenorth - Chemong Park Area pop: 2945.0&quot;,&quot;Bridgewater pop: 8532.0&quot;,&quot;Brighton pop: 5861.0&quot;,&quot;Brockville pop: 21854.0&quot;,&quot;Brooks pop: 14436.0&quot;,&quot;Bouctouche pop: 1722.0&quot;,&quot;Burgeo pop: 1307.0&quot;,&quot;Burns Lake pop: 1932.0&quot;,&quot;Cabano pop: 2438.0&quot;,&quot;Caledonia pop: 9674.0&quot;,&quot;Calgary pop: 1.237656e6&quot;,&quot;Campbell River pop: 35138.0&quot;,&quot;Campbellford pop: 3473.0&quot;,&quot;Campbellton pop: 10716.0&quot;,&quot;Camrose pop: 18520.0&quot;,&quot;Canmore pop: 11764.0&quot;,&quot;Cannington pop: 1845.0&quot;,&quot;Canora pop: 1700.0&quot;,&quot;Cap-aux-Meules pop: 2028.0&quot;,&quot;Cap-Chat pop: 1072.0&quot;,&quot;Capreol pop: 2815.0&quot;,&quot;Caraquet pop: 3108.0&quot;,&quot;Carberry pop: 1682.0&quot;,&quot;Carbonear pop: 6520.0&quot;,&quot;Cardinal pop: 1717.0&quot;,&quot;Cardston pop: 3258.0&quot;,&quot;Carleton Place pop: 11936.0&quot;,&quot;Carlyle pop: 1503.0&quot;,&quot;Carman pop: 2980.0&quot;,&quot;Carnduff pop: 1023.0&quot;,&quot;Casselman pop: 3563.0&quot;,&quot;Castlegar pop: 9023.0&quot;,&quot;Causapscal pop: 1041.0&quot;,&quot;Cayuga pop: 1713.0&quot;,&quot;Chandler pop: 2285.0&quot;,&quot;Channel-Port aux Basques pop: 3665.0&quot;,&quot;Chapais pop: 1318.0&quot;,&quot;Chapleau pop: 1170.0&quot;,&quot;Charlottetown pop: 44739.0&quot;,&quot;Chase pop: 2263.0&quot;,&quot;Château-Richer pop: 1503.0&quot;,&quot;Chatham pop: 43550.0&quot;,&quot;Chemainus pop: 3021.0&quot;,&quot;Chesley pop: 1843.0&quot;,&quot;Chester pop: 1458.0&quot;,&quot;Chesterville pop: 1677.0&quot;,&quot;Chibougamau pop: 6862.0&quot;,&quot;Chicoutimi - Jonquière pop: 104222.0&quot;,&quot;Chilliwack pop: 73161.0&quot;,&quot;Chute-aux-Outardes pop: 1059.0&quot;,&quot;Clarenville-Shoal Harbour pop: 5809.0&quot;,&quot;Claresholm pop: 3424.0&quot;,&quot;Clermont pop: 2765.0&quot;,&quot;Clinton pop: 3049.0&quot;,&quot;Coaldale pop: 8153.0&quot;,&quot;Coaticook pop: 6524.0&quot;,&quot;Cobourg pop: 19031.0&quot;,&quot;Cochrane pop: 25289.0&quot;,&quot;Cochrane pop: 3648.0&quot;,&quot;Colborne pop: 1577.0&quot;,&quot;Collingwood pop: 20102.0&quot;,&quot;Contrecoeur pop: 6236.0&quot;,&quot;Cookshire pop: 1021.0&quot;,&quot;Corner Brook pop: 19547.0&quot;,&quot;Cornwall pop: 45723.0&quot;,&quot;Courtenay pop: 45018.0&quot;,&quot;Cowansville pop: 11809.0&quot;,&quot;Crabtree pop: 3004.0&quot;,&quot;Cranbrook pop: 19259.0&quot;,&quot;Creston pop: 5226.0&quot;,&quot;Cumberland pop: 3600.0&quot;,&quot;Dalhousie pop: 2351.0&quot;,&quot;Dauphin pop: 8095.0&quot;,&quot;Dawson Creek pop: 11574.0&quot;,&quot;Deep River pop: 3658.0&quot;,&quot;Deer Lake pop: 4602.0&quot;,&quot;Dégelis pop: 1798.0&quot;,&quot;Delhi pop: 4240.0&quot;,&quot;Deseronto pop: 1645.0&quot;,&quot;Devon pop: 6578.0&quot;,&quot;Didsbury pop: 5222.0&quot;,&quot;Digby pop: 2060.0&quot;,&quot;Disraeli pop: 2212.0&quot;,&quot;Dolbeau pop: 11388.0&quot;,&quot;Donnacona pop: 8418.0&quot;,&quot;Drayton Valley pop: 6867.0&quot;,&quot;Dresden pop: 2451.0&quot;,&quot;Drumheller pop: 6439.0&quot;,&quot;Drummondville pop: 68601.0&quot;,&quot;Dryden pop: 5586.0&quot;,&quot;Duncan pop: 23278.0&quot;,&quot;Dundalk pop: 2046.0&quot;,&quot;Dunnville pop: 5759.0&quot;,&quot;Durham pop: 2609.0&quot;,&quot;East Angus pop: 3472.0&quot;,&quot;East Broughton pop: 1832.0&quot;,&quot;Edmonton pop: 1.062643e6&quot;,&quot;Edmundston pop: 12086.0&quot;,&quot;Edson pop: 8148.0&quot;,&quot;Eganville pop: 1022.0&quot;,&quot;Elliot Lake pop: 10498.0&quot;,&quot;Elmira pop: 10161.0&quot;,&quot;Elmvale pop: 2314.0&quot;,&quot;Embrun pop: 6918.0&quot;,&quot;Enderby pop: 2964.0&quot;,&quot;Englehart pop: 1418.0&quot;,&quot;Erin pop: 2647.0&quot;,&quot;Les Escoumins pop: 1339.0&quot;,&quot;Espanola pop: 3693.0&quot;,&quot;Essex pop: 7446.0&quot;,&quot;Esterhazy pop: 2367.0&quot;,&quot;Estevan pop: 11258.0&quot;,&quot;Exeter pop: 4649.0&quot;,&quot;Fairview pop: 2598.0&quot;,&quot;Farnham pop: 6731.0&quot;,&quot;Fenelon Falls pop: 2464.0&quot;,&quot;Fergus pop: 20767.0&quot;,&quot;Ferme-Neuve pop: 1706.0&quot;,&quot;Fernie pop: 4850.0&quot;,&quot;Flin Flon pop: 4791.0&quot;,&quot;Foam Lake pop: 1022.0&quot;,&quot;Forest pop: 2277.0&quot;,&quot;Forestville pop: 2333.0&quot;,&quot;Fort Frances pop: 7420.0&quot;,&quot;Fort Macleod pop: 2708.0&quot;,&quot;Fort McMurray pop: 66573.0&quot;,&quot;Fort Nelson pop: 3366.0&quot;,&quot;Fort Qu&#39;Appelle pop: 1920.0&quot;,&quot;Fort St. James pop: 1510.0&quot;,&quot;Fort St. John pop: 19897.0&quot;,&quot;Fort-Coulonge pop: 2359.0&quot;,&quot;Fortune pop: 1007.0&quot;,&quot;Fox Creek pop: 1720.0&quot;,&quot;Saint-Apollinaire pop: 3335.0&quot;,&quot;Frankford pop: 2825.0&quot;,&quot;Fredericton pop: 59405.0&quot;,&quot;Iqaluit pop: 7082.0&quot;,&quot;Gananoque pop: 5159.0&quot;,&quot;Gander pop: 10220.0&quot;,&quot;Georgetown pop: 42123.0&quot;,&quot;Geraldton pop: 1828.0&quot;,&quot;Gibsons pop: 9132.0&quot;,&quot;Gimli pop: 2246.0&quot;,&quot;Glace Bay pop: 17556.0&quot;,&quot;Glencoe pop: 2126.0&quot;,&quot;Goderich pop: 7536.0&quot;,&quot;Golden pop: 3240.0&quot;,&quot;Granby pop: 59691.0&quot;,&quot;Grand Bank pop: 2230.0&quot;,&quot;Grand Centre pop: 7256.0&quot;,&quot;Grand Falls / Grand-Sault pop: 4221.0&quot;,&quot;Grand Falls-Windsor pop: 12046.0&quot;,&quot;Grand Forks pop: 3953.0&quot;,&quot;Grande Cache pop: 3286.0&quot;,&quot;Grande Prairie pop: 62320.0&quot;,&quot;Grande-Rivière pop: 1517.0&quot;,&quot;Gravenhurst pop: 5349.0&quot;,&quot;Grimshaw pop: 2599.0&quot;,&quot;Guelph pop: 132397.0&quot;,&quot;Hagersville pop: 2939.0&quot;,&quot;Haileybury pop: 3266.0&quot;,&quot;Halifax pop: 316701.0&quot;,&quot;Hamilton pop: 693645.0&quot;,&quot;Hampton pop: 3436.0&quot;,&quot;Hanna pop: 2332.0&quot;,&quot;Hanover pop: 7413.0&quot;,&quot;Hantsport pop: 1560.0&quot;,&quot;Happy Valley-Goose Bay pop: 6408.0&quot;,&quot;Harriston pop: 1797.0&quot;,&quot;Harrow pop: 2710.0&quot;,&quot;Havelock pop: 1175.0&quot;,&quot;Havre-Saint-Pierre pop: 2925.0&quot;,&quot;Hawkesbury pop: 11715.0&quot;,&quot;Hay River pop: 2728.0&quot;,&quot;Hearst pop: 3835.0&quot;,&quot;Saint-Bruno pop: 1756.0&quot;,&quot;High Level pop: 2741.0&quot;,&quot;High Prairie pop: 2264.0&quot;,&quot;High River pop: 13420.0&quot;,&quot;Hinton pop: 9205.0&quot;,&quot;Hope pop: 4067.0&quot;,&quot;Hudson pop: 21419.0&quot;,&quot;Hudson Bay pop: 1306.0&quot;,&quot;Humboldt pop: 4872.0&quot;,&quot;Huntingdon pop: 2525.0&quot;,&quot;Huntsville pop: 6482.0&quot;,&quot;Indian Head pop: 1802.0&quot;,&quot;Ingersoll pop: 12587.0&quot;,&quot;Innisfail pop: 6927.0&quot;,&quot;Inuvik pop: 3140.0&quot;,&quot;Invermere pop: 2882.0&quot;,&quot;Inverness pop: 1248.0&quot;,&quot;Iroquois pop: 1027.0&quot;,&quot;Iroquois Falls pop: 2955.0&quot;,&quot;Wawa pop: 2610.0&quot;,&quot;Joliette pop: 45508.0&quot;,&quot;Kamloops pop: 78026.0&quot;,&quot;Kamsack pop: 1775.0&quot;,&quot;Kanata pop: 117304.0&quot;,&quot;Kapuskasing pop: 7378.0&quot;,&quot;Kelowna pop: 151957.0&quot;,&quot;Kemptville pop: 3911.0&quot;,&quot;Kenora pop: 10687.0&quot;,&quot;Kensington pop: 1562.0&quot;,&quot;Kentville pop: 12088.0&quot;,&quot;Killarney pop: 2150.0&quot;,&quot;Kimberley pop: 4513.0&quot;,&quot;Kincardine pop: 8315.0&quot;,&quot;Kindersley pop: 3052.0&quot;,&quot;Kingston pop: 117660.0&quot;,&quot;Kingston - Greenwood pop: 6879.0&quot;,&quot;Kirkland Lake pop: 6305.0&quot;,&quot;Kitchener pop: 470015.0&quot;,&quot;Kitimat pop: 6394.0&quot;,&quot;L&#39;Assomption pop: 15906.0&quot;,&quot;L&#39;Épiphanie pop: 7225.0&quot;,&quot;L&#39;Orignal pop: 1450.0&quot;,&quot;La Malbaie pop: 3520.0&quot;,&quot;La Pocatière pop: 3928.0&quot;,&quot;La Sarre pop: 4570.0&quot;,&quot;La Tuque pop: 7751.0&quot;,&quot;Labelle pop: 1136.0&quot;,&quot;Labrador City pop: 8622.0&quot;,&quot;Lac la Biche pop: 2294.0&quot;,&quot;Lac-Etchemin pop: 1782.0&quot;,&quot;Lac-Mégantic pop: 5647.0&quot;,&quot;Lachute pop: 10082.0&quot;,&quot;Lacolle pop: 1288.0&quot;,&quot;Lacombe pop: 12442.0&quot;,&quot;Ladysmith pop: 10637.0&quot;,&quot;Lake Cowichan pop: 3013.0&quot;,&quot;Lakefield pop: 2753.0&quot;,&quot;Lanigan pop: 1213.0&quot;,&quot;Laurentides pop: 12710.0&quot;,&quot;Lavaltrie pop: 10767.0&quot;,&quot;Leamington pop: 32991.0&quot;,&quot;Lebel-sur-Quévillon pop: 2015.0&quot;,&quot;Leduc pop: 29556.0&quot;,&quot;Lethbridge pop: 87572.0&quot;,&quot;Lewisporte pop: 2174.0&quot;,&quot;Lillooet pop: 1560.0&quot;,&quot;Lindsay pop: 20713.0&quot;,&quot;Linière pop: 1385.0&quot;,&quot;Listowel pop: 7530.0&quot;,&quot;Little Current pop: 1558.0&quot;,&quot;Liverpool pop: 2549.0&quot;,&quot;Lloydminster pop: 31400.0&quot;,&quot;London pop: 383437.0&quot;,&quot;Longlac pop: 1434.0&quot;,&quot;Louiseville pop: 5396.0&quot;,&quot;Lucan pop: 2541.0&quot;,&quot;Luceville pop: 1112.0&quot;,&quot;Lucknow pop: 1121.0&quot;,&quot;Lunenburg pop: 2085.0&quot;,&quot;Macamic pop: 1307.0&quot;,&quot;Mackenzie pop: 3262.0&quot;,&quot;Madoc pop: 1535.0&quot;,&quot;Magog pop: 20830.0&quot;,&quot;Magrath pop: 2179.0&quot;,&quot;Malartic pop: 2972.0&quot;,&quot;Manitouwadge pop: 1708.0&quot;,&quot;Maniwaki pop: 3778.0&quot;,&quot;Manning pop: 1072.0&quot;,&quot;Maple Creek pop: 2074.0&quot;,&quot;Marathon pop: 3138.0&quot;,&quot;Marieville pop: 8891.0&quot;,&quot;Markdale pop: 1216.0&quot;,&quot;Marmora pop: 1629.0&quot;,&quot;Marystown pop: 2697.0&quot;,&quot;Matagami pop: 1396.0&quot;,&quot;Matane pop: 10787.0&quot;,&quot;Mattawa pop: 1786.0&quot;,&quot;Mayerthorpe pop: 1205.0&quot;,&quot;Meadow Lake pop: 5266.0&quot;,&quot;Meaford pop: 4910.0&quot;,&quot;Medicine Hat pop: 62935.0&quot;,&quot;Melfort pop: 5778.0&quot;,&quot;Melville pop: 4127.0&quot;,&quot;Merritt pop: 5321.0&quot;,&quot;Middleton pop: 1391.0&quot;,&quot;Midland pop: 24353.0&quot;,&quot;Milton pop: 101715.0&quot;,&quot;Milverton pop: 1576.0&quot;,&quot;Minnedosa pop: 2178.0&quot;,&quot;Mitchell pop: 4573.0&quot;,&quot;Moncton pop: 108620.0&quot;,&quot;Mont-Joli pop: 5604.0&quot;,&quot;Mont-Laurier pop: 7644.0&quot;,&quot;Montague pop: 1834.0&quot;,&quot;Montmagny pop: 9041.0&quot;,&quot;Montréal pop: 3.519595e6&quot;,&quot;Moose Jaw pop: 32724.0&quot;,&quot;Moosomin pop: 2548.0&quot;,&quot;Morden pop: 7907.0&quot;,&quot;Morinville pop: 9848.0&quot;,&quot;Morris pop: 1714.0&quot;,&quot;Morrisburg pop: 2385.0&quot;,&quot;Mount Brydges pop: 1842.0&quot;,&quot;Mount Forest pop: 4643.0&quot;,&quot;Hébertville pop: 1085.0&quot;,&quot;Notre-Dame-du-Bon-Conseil pop: 1018.0&quot;,&quot;Notre-Dame-du-Lac pop: 1184.0&quot;,&quot;Nakusp pop: 1130.0&quot;,&quot;Nanaimo pop: 92004.0&quot;,&quot;Napanee pop: 7439.0&quot;,&quot;Napierville pop: 4708.0&quot;,&quot;Neepawa pop: 3939.0&quot;,&quot;Nelson pop: 10664.0&quot;,&quot;New Glasgow pop: 18665.0&quot;,&quot;New Hamburg pop: 13595.0&quot;,&quot;New Richmond pop: 1901.0&quot;,&quot;New Waterford pop: 7344.0&quot;,&quot;Nicolet pop: 5669.0&quot;,&quot;Nipawin pop: 3989.0&quot;,&quot;Normandin pop: 1910.0&quot;,&quot;North Battleford pop: 13567.0&quot;,&quot;North Bay pop: 50396.0&quot;,&quot;Norwich pop: 2852.0&quot;,&quot;Norwood pop: 1380.0&quot;,&quot;Okotoks pop: 28833.0&quot;,&quot;Olds pop: 8944.0&quot;,&quot;Oliver pop: 5279.0&quot;,&quot;Orangeville pop: 30734.0&quot;,&quot;Orillia pop: 31128.0&quot;,&quot;Ormstown pop: 1730.0&quot;,&quot;Oromocto pop: 8805.0&quot;,&quot;Orono pop: 1105.0&quot;,&quot;Oshawa pop: 308875.0&quot;,&quot;Osoyoos pop: 4520.0&quot;,&quot;Ottawa - Gatineau pop: 989567.0&quot;,&quot;Outlook pop: 1829.0&quot;,&quot;Owen Sound pop: 22032.0&quot;,&quot;Oxbow pop: 1126.0&quot;,&quot;Palmerston pop: 2624.0&quot;,&quot;Papineauville pop: 1105.0&quot;,&quot;Paris pop: 12310.0&quot;,&quot;Parkhill pop: 1737.0&quot;,&quot;Parksville pop: 23574.0&quot;,&quot;Parry Sound pop: 6321.0&quot;,&quot;Peace River pop: 3924.0&quot;,&quot;Pembroke pop: 15940.0&quot;,&quot;Penticton pop: 33617.0&quot;,&quot;Perth pop: 5573.0&quot;,&quot;Peterborough pop: 82094.0&quot;,&quot;Petrolia pop: 5375.0&quot;,&quot;Picton pop: 4702.0&quot;,&quot;Pictou pop: 2711.0&quot;,&quot;Picture Butte pop: 1700.0&quot;,&quot;Pierreville pop: 1119.0&quot;,&quot;Pinawa pop: 1331.0&quot;,&quot;Pincher Creek pop: 3523.0&quot;,&quot;Plessisville pop: 7195.0&quot;,&quot;Ponoka pop: 6899.0&quot;,&quot;Pont-Rouge pop: 6239.0&quot;,&quot;Port Alberni pop: 20712.0&quot;,&quot;Port Dover pop: 6161.0&quot;,&quot;Port Elgin pop: 7862.0&quot;,&quot;Port Hawkesbury pop: 3004.0&quot;,&quot;Port Hope pop: 12587.0&quot;,&quot;Port Perry pop: 9453.0&quot;,&quot;Port Stanley pop: 2148.0&quot;,&quot;Port-Cartier pop: 5609.0&quot;,&quot;Portage la Prairie pop: 12949.0&quot;,&quot;Portneuf pop: 2004.0&quot;,&quot;Powassan pop: 1343.0&quot;,&quot;Powell River pop: 12384.0&quot;,&quot;Prescott pop: 3965.0&quot;,&quot;Price pop: 1679.0&quot;,&quot;Prince Albert pop: 35102.0&quot;,&quot;Prince George pop: 65510.0&quot;,&quot;Prince Rupert pop: 11733.0&quot;,&quot;Princeton pop: 2745.0&quot;,&quot;Princeville pop: 4384.0&quot;,&quot;Provost pop: 1945.0&quot;,&quot;Québec pop: 705103.0&quot;,&quot;Quesnel pop: 12064.0&quot;,&quot;Rawdon pop: 5188.0&quot;,&quot;Raymond pop: 3533.0&quot;,&quot;Red Deer pop: 99718.0&quot;,&quot;Redwater pop: 1591.0&quot;,&quot;Regina pop: 214631.0&quot;,&quot;Renfrew pop: 8152.0&quot;,&quot;Revelstoke pop: 6719.0&quot;,&quot;Richmond pop: 4055.0&quot;,&quot;Richmond pop: 3046.0&quot;,&quot;Ridgetown pop: 3002.0&quot;,&quot;Rigaud pop: 3613.0&quot;,&quot;Rimbey pop: 2086.0&quot;,&quot;Rimouski pop: 36942.0&quot;,&quot;Rivers pop: 1257.0&quot;,&quot;Rivière-du-Loup pop: 17973.0&quot;,&quot;Roberval pop: 8204.0&quot;,&quot;Roblin pop: 1614.0&quot;,&quot;Rockland pop: 12302.0&quot;,&quot;Rocky Mountain House pop: 6429.0&quot;,&quot;Rosetown pop: 2331.0&quot;,&quot;Rosthern pop: 1488.0&quot;,&quot;Rouyn-Noranda pop: 23504.0&quot;,&quot;Roxton Falls pop: 1003.0&quot;,&quot;Russell pop: 1395.0&quot;,&quot;Sackville pop: 2963.0&quot;,&quot;Saint John pop: 58341.0&quot;,&quot;Salisbury pop: 1534.0&quot;,&quot;Salmon Arm pop: 12875.0&quot;,&quot;Sarnia pop: 72125.0&quot;,&quot;Saskatoon pop: 245181.0&quot;,&quot;Sault Ste. Marie pop: 66313.0&quot;,&quot;Seaforth pop: 2680.0&quot;,&quot;Selkirk pop: 9839.0&quot;,&quot;Senneterre pop: 2239.0&quot;,&quot;Sept-Îles pop: 22218.0&quot;,&quot;Shaunavon pop: 1699.0&quot;,&quot;Shawinigan pop: 38211.0&quot;,&quot;Shawville pop: 1203.0&quot;,&quot;Shediac pop: 7184.0&quot;,&quot;Shelburne pop: 1330.0&quot;,&quot;Shelburne pop: 8126.0&quot;,&quot;Shellbrook pop: 1277.0&quot;,&quot;Sherbrooke pop: 139565.0&quot;,&quot;Shilo CFB-BFC pop: 1419.0&quot;,&quot;Shippagan pop: 2130.0&quot;,&quot;Simcoe pop: 13922.0&quot;,&quot;Sioux Lookout pop: 2941.0&quot;,&quot;Slave Lake pop: 6155.0&quot;,&quot;Smithers pop: 5351.0&quot;,&quot;Smiths Falls pop: 8885.0&quot;,&quot;Smithville pop: 5489.0&quot;,&quot;Sorel pop: 36088.0&quot;,&quot;Souris pop: 1876.0&quot;,&quot;Sparwood pop: 3490.0&quot;,&quot;Springdale pop: 2080.0&quot;,&quot;Springhill pop: 2743.0&quot;,&quot;Spruce Grove pop: 36135.0&quot;,&quot;Squamish pop: 17587.0&quot;,&quot;Saint Andrews pop: 1501.0&quot;,&quot;St. Anthony pop: 2049.0&quot;,&quot;St. Catharines - Niagara Falls pop: 229246.0&quot;,&quot;St. John&#39;s pop: 178427.0&quot;,&quot;St. Marys pop: 6951.0&quot;,&quot;St. Paul pop: 5728.0&quot;,&quot;Saint-Quentin pop: 2194.0&quot;,&quot;St. Stephen pop: 3233.0&quot;,&quot;St. Thomas pop: 41813.0&quot;,&quot;Saint-Agapit pop: 2906.0&quot;,&quot;Saint-Alexis-des-Monts pop: 1546.0&quot;,&quot;Saint-Ambroise pop: 1678.0&quot;,&quot;Saint-André-Avellin pop: 1903.0&quot;,&quot;Saint-Anselme pop: 2541.0&quot;,&quot;Saint-Basile-Sud pop: 1387.0&quot;,&quot;Saint-Césaire pop: 3815.0&quot;,&quot;Saint-Damase pop: 1138.0&quot;,&quot;Saint-Damien-de-Buckland pop: 1203.0&quot;,&quot;Saint-Donat-de-Montcalm pop: 1213.0&quot;,&quot;Saint-Fabien pop: 1145.0&quot;,&quot;Saint-Félicien pop: 7096.0&quot;,&quot;Saint-Félix-de-Valois pop: 2978.0&quot;,&quot;Saint-Gabriel pop: 2664.0&quot;,&quot;Saint-Gédéon pop: 1542.0&quot;,&quot;Saint-Georges pop: 26921.0&quot;,&quot;Saint-Germain-de-Grantham pop: 3485.0&quot;,&quot;Saint-Henri-de-Lévis pop: 1735.0&quot;,&quot;Saint-Honoré pop: 2265.0&quot;,&quot;Saint-Hyacinthe pop: 50032.0&quot;,&quot;Saint-Jacques pop: 2126.0&quot;,&quot;Saint-Jean-sur-Richelieu pop: 84685.0&quot;,&quot;Saint-Jean-Port-Joli pop: 1407.0&quot;,&quot;Métabetchouan pop: 2123.0&quot;,&quot;Saint-Jérôme pop: 77146.0&quot;,&quot;Saint-Joseph-de-Beauce pop: 3695.0&quot;,&quot;Saint-Joseph-de-Lanoraie pop: 2576.0&quot;,&quot;Saint-Jovite pop: 5515.0&quot;,&quot;Saint-Marc-des-Carrières pop: 2134.0&quot;,&quot;Saint-Michel-des-Saints pop: 1131.0&quot;,&quot;Saint-Pascal pop: 2471.0&quot;,&quot;Saint-Pie pop: 2980.0&quot;,&quot;Saint-Prosper pop: 2319.0&quot;,&quot;Saint-Raphaël pop: 1113.0&quot;,&quot;Saint-Raymond pop: 3227.0&quot;,&quot;Saint-Rémi pop: 6891.0&quot;,&quot;Saint-Sauveur-des-Monts pop: 7849.0&quot;,&quot;Saint-Tite pop: 2381.0&quot;,&quot;Stayner pop: 4029.0&quot;,&quot;Ste. Anne pop: 2114.0&quot;,&quot;Sainte-Adèle pop: 5786.0&quot;,&quot;Sainte-Anne-des-Monts pop: 3277.0&quot;,&quot;Sainte-Claire pop: 2389.0&quot;,&quot;Sainte-Croix pop: 1401.0&quot;,&quot;Sainte-Madeleine pop: 1959.0&quot;,&quot;Sainte-Marie pop: 11083.0&quot;,&quot;Sainte-Martine pop: 3931.0&quot;,&quot;Sainte-Thècle pop: 1333.0&quot;,&quot;Steinbach pop: 14753.0&quot;,&quot;Stephenville pop: 7114.0&quot;,&quot;Stettler pop: 5862.0&quot;,&quot;Stirling pop: 2030.0&quot;,&quot;Stonewall pop: 4644.0&quot;,&quot;Stony Mountain pop: 1800.0&quot;,&quot;Stratford pop: 31053.0&quot;,&quot;Strathmore pop: 13592.0&quot;,&quot;Strathroy pop: 14401.0&quot;,&quot;Sturgeon Falls pop: 6798.0&quot;,&quot;Sudbury pop: 88054.0&quot;,&quot;Summerside pop: 13814.0&quot;,&quot;Sussex pop: 5298.0&quot;,&quot;Sutton pop: 7531.0&quot;,&quot;Swan Hills pop: 1275.0&quot;,&quot;Swan River pop: 3964.0&quot;,&quot;Swift Current pop: 16022.0&quot;,&quot;Cape Breton - Sydney pop: 29904.0&quot;,&quot;Sydney Mines pop: 12823.0&quot;,&quot;Sylvan Lake pop: 14942.0&quot;,&quot;Taber pop: 8548.0&quot;,&quot;Tavistock pop: 2955.0&quot;,&quot;Témiscaming pop: 1361.0&quot;,&quot;Terrace pop: 13663.0&quot;,&quot;Thamesford pop: 2116.0&quot;,&quot;The Pas pop: 5368.0&quot;,&quot;Thessalon pop: 1175.0&quot;,&quot;Thetford Mines pop: 16174.0&quot;,&quot;Thompson pop: 12878.0&quot;,&quot;Thornbury pop: 2485.0&quot;,&quot;Three Hills pop: 3078.0&quot;,&quot;Thunder Bay pop: 93952.0&quot;,&quot;Thurso pop: 2533.0&quot;,&quot;Tilbury pop: 4768.0&quot;,&quot;Tillsonburg pop: 15594.0&quot;,&quot;Tisdale pop: 3136.0&quot;,&quot;Toronto pop: 5.429524e6&quot;,&quot;Tottenham pop: 5143.0&quot;,&quot;Tracadie-Sheila pop: 3184.0&quot;,&quot;Trois-Pistoles pop: 3058.0&quot;,&quot;Trois-Rivières pop: 114203.0&quot;,&quot;Truro pop: 22954.0&quot;,&quot;Tweed pop: 1701.0&quot;,&quot;Ucluelet pop: 1576.0&quot;,&quot;Unity pop: 2475.0&quot;,&quot;Uxbridge pop: 11832.0&quot;,&quot;Val-d&#39;Or pop: 25541.0&quot;,&quot;Valcourt pop: 1806.0&quot;,&quot;Vallée-Jonction pop: 1268.0&quot;,&quot;Valley East pop: 17451.0&quot;,&quot;Salaberry-de-Valleyfield pop: 39048.0&quot;,&quot;Valleyview pop: 1421.0&quot;,&quot;Vancouver pop: 2.264823e6&quot;,&quot;Vanderhoof pop: 1979.0&quot;,&quot;Vankleek Hill pop: 1742.0&quot;,&quot;Varennes pop: 20575.0&quot;,&quot;Vegreville pop: 5436.0&quot;,&quot;Verchères pop: 4429.0&quot;,&quot;Vermilion pop: 3617.0&quot;,&quot;Vernon pop: 48073.0&quot;,&quot;Victoria pop: 335696.0&quot;,&quot;Victoriaville pop: 44735.0&quot;,&quot;Viking pop: 1039.0&quot;,&quot;Ville-Marie pop: 2113.0&quot;,&quot;Virden pop: 3082.0&quot;,&quot;Vulcan pop: 1680.0&quot;,&quot;Wabana pop: 1325.0&quot;,&quot;Wadena pop: 1134.0&quot;,&quot;Wainwright pop: 6153.0&quot;,&quot;Walkerton pop: 4517.0&quot;,&quot;Wallaceburg pop: 10098.0&quot;,&quot;Warwick pop: 3200.0&quot;,&quot;Waterford pop: 3132.0&quot;,&quot;Waterloo pop: 3401.0&quot;,&quot;Watford pop: 1536.0&quot;,&quot;Watrous pop: 1865.0&quot;,&quot;West Lorne pop: 1337.0&quot;,&quot;Westlock pop: 4678.0&quot;,&quot;Wetaskiwin pop: 12486.0&quot;,&quot;Weyburn pop: 10679.0&quot;,&quot;Wheatley pop: 2868.0&quot;,&quot;Stouffville pop: 32634.0&quot;,&quot;White Rock pop: 93729.0&quot;,&quot;Whitecourt pop: 9515.0&quot;,&quot;Whitehorse pop: 21732.0&quot;,&quot;Wiarton pop: 1989.0&quot;,&quot;Wilkie pop: 1149.0&quot;,&quot;Williams Lake pop: 10508.0&quot;,&quot;Winchester pop: 2394.0&quot;,&quot;Windsor pop: 5248.0&quot;,&quot;Windsor pop: 287069.0&quot;,&quot;Windsor pop: 5064.0&quot;,&quot;Wingham pop: 2934.0&quot;,&quot;Winkler pop: 14311.0&quot;,&quot;Winnipeg pop: 711925.0&quot;,&quot;Wolfville pop: 4195.0&quot;,&quot;Woodstock pop: 4277.0&quot;,&quot;Woodstock pop: 40404.0&quot;,&quot;Wynyard pop: 1732.0&quot;,&quot;Wyoming pop: 2361.0&quot;,&quot;Yamachiche pop: 1240.0&quot;,&quot;Yarmouth pop: 7217.0&quot;,&quot;Yellowknife pop: 18884.0&quot;,&quot;Yorkton pop: 16041.0&quot;,&quot;One Hundred Mile House pop: 1811.0&quot;,&quot;Abbotsford pop: 121279.0&quot;,&quot;Buckingham pop: 16685.0&quot;,&quot;Fermont pop: 2288.0&quot;,&quot;Fort Erie pop: 14621.0&quot;,&quot;Crystal Beach pop: 8524.0&quot;,&quot;Gaspé pop: 2609.0&quot;,&quot;Rivière-au-Renard pop: 1074.0&quot;,&quot;Keswick - Elmhurst Beach pop: 26757.0&quot;,&quot;Nobleton pop: 4614.0&quot;,&quot;Port-Alfred-Bagotville pop: 13865.0&quot;,&quot;Beamsville pop: 11834.0&quot;,&quot;Mississauga Beach pop: 4662.0&quot;,&quot;Dowling pop: 1466.0&quot;,&quot;Petawawa pop: 13701.0&quot;,&quot;Port Hardy pop: 3643.0&quot;,&quot;Sooke pop: 9269.0&quot;,&quot;Timmins pop: 29331.0&quot;,&quot;Porcupine pop: 4716.0&quot;,&quot;Lively pop: 5608.0&quot;,&quot;Chatham - Douglastown pop: 11329.0&quot;,&quot;Summerland pop: 8742.0&quot;,&quot;Cornwall pop: 2460.0&quot;,&quot;Daveluyville pop: 1236.0&quot;,&quot;Les Coteaux pop: 17396.0&quot;,&quot;Paisley pop: 1045.0&quot;,&quot;Grand Valley pop: 1643.0&quot;,&quot;Creemore pop: 1170.0&quot;,&quot;Niverville pop: 4083.0&quot;,&quot;Warman pop: 10961.0&quot;,&quot;Nanton pop: 1965.0&quot;,&quot;Black Diamond pop: 2552.0&quot;,&quot;Carstairs pop: 3080.0&quot;,&quot;Gibbons pop: 2661.0&quot;,&quot;Elkford pop: 1752.0&quot;,&quot;Logan Lake pop: 1208.0&quot;,&quot;Maskinongé pop: 1368.0&quot;,&quot;Colchester pop: 2229.0&quot;,&quot;Saint-Cyrille-de-Wendover pop: 1216.0&quot;,&quot;Jarvis pop: 1037.0&quot;,&quot;Lumsden pop: 1824.0&quot;,&quot;Sainte-Justine pop: 1077.0&quot;,&quot;St. Leonard pop: 1099.0&quot;,&quot;Sundre pop: 1866.0&quot;,&quot;Tofield pop: 1854.0&quot;,&quot;Dutton pop: 1368.0&quot;,&quot;Salmo pop: 1141.0&quot;,&quot;Blackfalds pop: 8749.0&quot;,&quot;Jasper pop: 3948.0&quot;,&quot;Lumby pop: 1303.0&quot;,&quot;Southampton pop: 3678.0&quot;,&quot;Châteauguay pop: 71164.0&quot;,&quot;Sainte-Anne-des-Plaines pop: 10865.0&quot;,&quot;Sainte-Julienne pop: 3263.0&quot;,&quot;Danville pop: 1577.0&quot;,&quot;La Ronge pop: 5671.0&quot;,&quot;Port McNeill pop: 2064.0&quot;,&quot;Wembley pop: 1516.0&quot;,&quot;Penhold pop: 3165.0&quot;,&quot;Lamont pop: 1347.0&quot;,&quot;Elk Point pop: 1437.0&quot;,&quot;Millet pop: 1905.0&quot;,&quot;Beaumont pop: 17396.0&quot;,&quot;Pasadena pop: 2800.0&quot;,&quot;Brownsburg pop: 1425.0&quot;,&quot;Rockwood pop: 4629.0&quot;,&quot;Pilot Butte pop: 1800.0&quot;,&quot;Dalmeny pop: 1769.0&quot;,&quot;Martensville pop: 9533.0&quot;,&quot;Bon Accord pop: 1529.0&quot;,&quot;Crossfield pop: 2973.0&quot;,&quot;Lions Bay pop: 1334.0&quot;,&quot;Aldergrove pop: 12007.0&quot;,&quot;Sicamous pop: 1786.0&quot;,&quot;Houston pop: 2126.0&quot;,&quot;Dallas pop: 4479.0&quot;,&quot;Lac du Bonnet pop: 1089.0&quot;,&quot;Langham pop: 1319.0&quot;,&quot;Macklin pop: 1193.0&quot;,&quot;Saint-Éphrem-de-Tring pop: 1385.0&quot;,&quot;Le Bic pop: 1115.0&quot;,&quot;Belmont pop: 1140.0&quot;,&quot;Tumbler Ridge pop: 1982.0&quot;,&quot;Hastings pop: 1115.0&quot;,&quot;Sexsmith pop: 2461.0&quot;,&quot;St. Jacobs pop: 1988.0&quot;,&quot;Cookstown pop: 1214.0&quot;,&quot;Coalhurst pop: 2623.0&quot;,&quot;Lac-Lapierre pop: 2480.0&quot;,&quot;St. Adolphe pop: 1362.0&quot;,&quot;Carlisle pop: 1869.0&quot;,&quot;Rossland pop: 3219.0&quot;,&quot;Stony Plain pop: 16271.0&quot;,&quot;Saint-Sulpice pop: 1753.0&quot;,&quot;Duck Lake pop: 6982.0&quot;,&quot;Osgoode pop: 2578.0&quot;,&quot;Lake Echo pop: 2515.0&quot;,&quot;Vineland pop: 4074.0&quot;,&quot;Saint-Canut pop: 10643.0&quot;,&quot;Mount Albert pop: 4925.0&quot;,&quot;Saint-Alexandre pop: 1304.0&quot;,&quot;Bassano pop: 1196.0&quot;,&quot;Hauterive pop: 11549.0&quot;,&quot;Humber Arm South pop: 1168.0&quot;,&quot;Laurier-Station pop: 1894.0&quot;,&quot;Kingsey Falls pop: 1452.0&quot;,&quot;Brussels pop: 1158.0&quot;,&quot;Grand Bend pop: 2684.0&quot;,&quot;Wellesley pop: 3246.0&quot;,&quot;Sechelt pop: 8832.0&quot;,&quot;Mildmay pop: 1219.0&quot;,&quot;Two Hills pop: 1198.0&quot;,&quot;Wikwemikong pop: 1342.0&quot;,&quot;Russell pop: 4464.0&quot;,&quot;Omemee pop: 1271.0&quot;,&quot;Millbrook pop: 1695.0&quot;,&quot;Whistler pop: 8713.0&quot;,&quot;Athabasca pop: 1250.0&quot;,&quot;Stoney Point pop: 1087.0&quot;,&quot;Cultus Lake pop: 1053.0&quot;,&quot;St. George pop: 3255.0&quot;,&quot;Drayton pop: 2111.0&quot;,&quot;Filion pop: 3334.0&quot;,&quot;Caledon pop: 1482.0&quot;,&quot;Rankin Inlet pop: 2441.0&quot;,&quot;Constance Bay pop: 2314.0&quot;,&quot;Metcalfe pop: 1776.0&quot;,&quot;Kent pop: 3802.0&quot;,&quot;Amigo Beach pop: 1545.0&quot;,&quot;White City pop: 4234.0&quot;,&quot;Balgonie pop: 1745.0&quot;,&quot;Everett pop: 1670.0&quot;,&quot;Wasaga Beach pop: 17808.0&quot;,&quot;Rougemont pop: 1481.0&quot;,&quot;Roxton Pond pop: 2301.0&quot;,&quot;Lac-Alouette pop: 4473.0&quot;,&quot;Saint-Liboire pop: 1775.0&quot;,&quot;Carleton pop: 1101.0&quot;,&quot;Betsiamites pop: 2105.0&quot;,&quot;Mistissini pop: 2869.0&quot;,&quot;Chisasibi pop: 2967.0&quot;,&quot;Notre-Dame-du-Mont-Carmel pop: 1091.0&quot;,&quot;Saint-Roch-de-l&#39;Achigan pop: 1373.0&quot;,&quot;Hayes Subdivision pop: 1121.0&quot;,&quot;Clairmont pop: 1922.0&quot;,&quot;La Crète pop: 1860.0&quot;,&quot;Blind Bay pop: 1976.0&quot;,&quot;Pemberton pop: 1957.0&quot;,&quot;McEwen pop: 1462.0&quot;,&quot;Brookside pop: 1441.0&quot;,&quot;Caledon East pop: 4282.0&quot;,&quot;Schomberg pop: 2691.0&quot;,&quot;Saint Grégoire pop: 1400.0&quot;,&quot;Bromont pop: 3895.0&quot;,&quot;Calmar pop: 1849.0&quot;,&quot;Les Cèdres pop: 2233.0&quot;,&quot;Oka pop: 1254.0&quot;,&quot;Saint-Augustin pop: 9399.0&quot;,&quot;Oakbank pop: 4604.0&quot;,&quot;Langdon pop: 5060.0&quot;,&quot;Chestermere pop: 19472.0&quot;,&quot;Irricana pop: 1160.0&quot;,&quot;Ballantrae pop: 3223.0&quot;,&quot;Virgil pop: 2937.0&quot;,&quot;Lorette pop: 2904.0&quot;,&quot;Regina Beach pop: 1629.0&quot;,&quot;Crofton pop: 1373.0&quot;,&quot;Roberts Creek pop: 1848.0&quot;,&quot;Harrison Hot Springs pop: 1242.0&quot;,&quot;Stanley 157 pop: 1545.0&quot;,&quot;Waskaganish pop: 1839.0&quot;,&quot;Bowden pop: 1240.0&quot;,&quot;Red Lake pop: 1177.0&quot;,&quot;Moosonee pop: 1405.0&quot;,&quot;Cambridge Bay pop: 1619.0&quot;,&quot;Arviat pop: 2514.0&quot;,&quot;Still Water Lake pop: 1586.0&quot;,&quot;Starlight Village pop: 2127.0&quot;,&quot;Maliotenam pop: 1363.0&quot;,&quot;Ville Lambert pop: 2443.0&quot;,&quot;Sainte-Catherine-de-la-Jacques-Cartier pop: 1633.0&quot;,&quot;Domaine-Ouellet pop: 2894.0&quot;,&quot;Lac-Simon pop: 1243.0&quot;,&quot;Manotick Station pop: 5738.0&quot;,&quot;Bath pop: 1180.0&quot;,&quot;Binbrook pop: 8794.0&quot;,&quot;Ilderton pop: 1856.0&quot;,&quot;Nobleford pop: 1278.0&quot;,&quot;Aldergrove East pop: 3491.0&quot;,&quot;Miller&#39;s Landing pop: 1097.0&quot;,&quot;Cowichan Bay pop: 2394.0&quot;,&quot;Mitchell pop: 2523.0&quot;,&quot;Moose Lake pop: 1225.0&quot;,&quot;St. Theresa Point pop: 1038.0&quot;,&quot;Grunthal pop: 1680.0&quot;,&quot;Gillam pop: 1036.0&quot;,&quot;Blumenort pop: 1675.0&quot;,&quot;Trochu pop: 1058.0&quot;,&quot;Eckville pop: 1085.0&quot;,&quot;Kimosom Pwatinahk 203 (Deschambault Lake) pop: 1046.0&quot;,&quot;Birch Hills pop: 1033.0&quot;,&quot;Pelican Narrows pop: 1942.0&quot;,&quot;Welcome Beach pop: 1125.0&quot;,&quot;Factory Island pop: 1807.0&quot;,&quot;New Dundee pop: 1119.0&quot;,&quot;Sunderland pop: 1243.0&quot;,&quot;Saint-Charles pop: 1482.0&quot;,&quot;Manawan pop: 1648.0&quot;,&quot;Terrasse-des-Pins pop: 4268.0&quot;,&quot;Domaine-C.-L.-C. pop: 1521.0&quot;,&quot;Saint-Michel pop: 1558.0&quot;,&quot;L&#39;Ange-Gardien pop: 1585.0&quot;,&quot;Saint-Alexandre pop: 1093.0&quot;,&quot;Baker Lake pop: 1690.0&quot;,&quot;Kugluktuk pop: 1057.0&quot;,&quot;Osler pop: 1237.0&quot;,&quot;Massey Drive pop: 1632.0&quot;,&quot;Upper Island Cove pop: 1142.0&quot;,&quot;Centreville pop: 1129.0&quot;,&quot;Enfield - Lantz pop: 6807.0&quot;,&quot;English Corner pop: 1151.0&quot;,&quot;Eskasoni 3 pop: 2120.0&quot;,&quot;Port Williams pop: 1120.0&quot;,&quot;New Maryland pop: 2219.0&quot;,&quot;Quispamsis - Rothesay pop: 24445.0&quot;,&quot;Richibucto 15 pop: 1053.0&quot;,&quot;Saint-Antoine pop: 1252.0&quot;,&quot;Wells pop: 1266.0&quot;,&quot;Angers pop: 6973.0&quot;,&quot;Beaumont pop: 1210.0&quot;,&quot;Black Lake pop: 3298.0&quot;,&quot;Bromptonville pop: 2725.0&quot;,&quot;Cap-Saint-Ignace pop: 1214.0&quot;,&quot;Évain pop: 2426.0&quot;,&quot;Fossambault-sur-le-Lac pop: 2769.0&quot;,&quot;Godefroy pop: 1410.0&quot;,&quot;Inukjuak pop: 1312.0&quot;,&quot;Kuujjuaq pop: 1353.0&quot;,&quot;Lac-Connelly pop: 1212.0&quot;,&quot;LeBlanc pop: 1513.0&quot;,&quot;Maria pop: 1124.0&quot;,&quot;Melocheville pop: 2621.0&quot;,&quot;Neuville pop: 2435.0&quot;,&quot;Obedjiwan pop: 1404.0&quot;,&quot;Parc-Boutin pop: 1127.0&quot;,&quot;Pointe-du-Lac pop: 7104.0&quot;,&quot;Puvirnituq pop: 1038.0&quot;,&quot;Saint-Amable pop: 9486.0&quot;,&quot;Saint-Ambroise-de-Kildare pop: 1655.0&quot;,&quot;Saint-Bernard pop: 1075.0&quot;,&quot;Saint-Boniface pop: 1035.0&quot;,&quot;Saint-Chrysostome pop: 1218.0&quot;,&quot;Sainte-Agathe-des-Monts - Val-David pop: 11108.0&quot;,&quot;Sainte-Brigitte-de-Laval pop: 3917.0&quot;,&quot;Saint-Elzéar pop: 1057.0&quot;,&quot;Saint-Jean-Baptiste pop: 1703.0&quot;,&quot;Saint-Léonard-d&#39;Aston pop: 1336.0&quot;,&quot;Saint-Michel-de-Bellechasse pop: 1146.0&quot;,&quot;Saint-Polycarpe pop: 1165.0&quot;,&quot;Saint-Prime pop: 1021.0&quot;,&quot;Saint-Thomas pop: 1395.0&quot;,&quot;Salluit pop: 1075.0&quot;,&quot;Shannon pop: 2846.0&quot;,&quot;Stanstead pop: 1475.0&quot;,&quot;Stoneham pop: 1854.0&quot;,&quot;Val-Maher pop: 1668.0&quot;,&quot;Wemotaci pop: 1038.0&quot;,&quot;Attawapiskat 91A pop: 1501.0&quot;,&quot;Azilda pop: 4663.0&quot;,&quot;Bayfield pop: 1112.0&quot;,&quot;Bourget pop: 1169.0&quot;,&quot;Chalk River pop: 1029.0&quot;,&quot;Chelmsford pop: 6215.0&quot;,&quot;Chippawa pop: 5620.0&quot;,&quot;Claremont pop: 1202.0&quot;,&quot;Cobalt pop: 1118.0&quot;,&quot;Coniston pop: 1814.0&quot;,&quot;Corunna pop: 5686.0&quot;,&quot;Dorchester pop: 3911.0&quot;,&quot;Haliburton Village pop: 1149.0&quot;,&quot;Ingleside pop: 1384.0&quot;,&quot;Innisfil pop: 23992.0&quot;,&quot;King pop: 6970.0&quot;,&quot;Limoges pop: 2048.0&quot;,&quot;Long Sault pop: 1779.0&quot;,&quot;Marchmont - Bass Lake pop: 1191.0&quot;,&quot;McGregor pop: 1859.0&quot;,&quot;New Liskeard pop: 4402.0&quot;,&quot;Newcastle pop: 9167.0&quot;,&quot;Oro Station - Hawkestone pop: 1691.0&quot;,&quot;Palgrave pop: 1044.0&quot;,&quot;Plattsville pop: 1366.0&quot;,&quot;Port Colborne pop: 15037.0&quot;,&quot;Port Rowan pop: 1102.0&quot;,&quot;Stevensville pop: 1179.0&quot;,&quot;Tay pop: 5408.0&quot;,&quot;Welland - Pelham pop: 62388.0&quot;,&quot;Wendover pop: 1785.0&quot;,&quot;Arborg pop: 1222.0&quot;,&quot;Cross Lake 19A pop: 2018.0&quot;,&quot;Ile des Chênes pop: 1528.0&quot;,&quot;La Salle pop: 1589.0&quot;,&quot;Landmark pop: 1237.0&quot;,&quot;Oak Bluff pop: 1051.0&quot;,&quot;St-Pierre-Jolys pop: 1170.0&quot;,&quot;Teulon pop: 1095.0&quot;,&quot;Battleford pop: 3750.0&quot;,&quot;Delisle pop: 1038.0&quot;,&quot;Alberta Beach - Val Quentin pop: 1204.0&quot;,&quot;Bentley pop: 1027.0&quot;,&quot;Cold Lake pop: 6678.0&quot;,&quot;Coleman pop: 1475.0&quot;,&quot;Duchess pop: 1009.0&quot;,&quot;Falher pop: 1032.0&quot;,&quot;Fort Saskatchewan pop: 23895.0&quot;,&quot;Heritage Pointe pop: 2075.0&quot;,&quot;Lancaster Park pop: 1501.0&quot;,&quot;Legal pop: 1135.0&quot;,&quot;Redcliff pop: 5474.0&quot;,&quot;Springbrook pop: 1502.0&quot;,&quot;Turner Valley pop: 2249.0&quot;,&quot;Vauxhall pop: 1222.0&quot;,&quot;Westlake pop: 1363.0&quot;,&quot;Canoe pop: 1081.0&quot;,&quot;Fairwinds pop: 1147.0&quot;,&quot;Cobble Hill pop: 3580.0&quot;,&quot;Keremeos pop: 1714.0&quot;,&quot;Ladner pop: 22193.0&quot;,&quot;Mission pop: 33261.0&quot;,&quot;Naramata pop: 1003.0&quot;,&quot;Okanagan Falls pop: 2167.0&quot;,&quot;Peachland pop: 4698.0&quot;,&quot;Puntledge pop: 1387.0&quot;,&quot;Rayleigh pop: 1951.0&quot;,&quot;Rosedale pop: 1741.0&quot;,&quot;Shawnigan - Mill Bay pop: 7021.0&quot;,&quot;Telkwa pop: 1160.0&quot;,&quot;Trail - Fruitvale pop: 12643.0&quot;,&quot;Tsawwassen pop: 21588.0&quot;,&quot;Fort Smith pop: 2031.0&quot;,&quot;Gjoa Haven pop: 1197.0&quot;,&quot;Howie Centre pop: 1733.0&quot;,&quot;Placentia pop: 1553.0&quot;,&quot;Cedar pop: 1674.0&quot;],&quot;locationmode&quot;:&quot;ISO-3&quot;,&quot;lon&quot;:[-80.0331821616776,-72.5692909534327,-114.012822143418,-73.1319647520581,-74.6347143399694,-74.8811067224624,-79.8502025603996,-71.6497324730681,-76.1955033834664,-97.5609256894579,-64.2052657161713,-83.1013739305684,-78.1184044161772,-67.4315749117355,-79.8810854299637,-61.9909741702926,-119.19785053074,-76.3672331472666,-80.5417198191074,-71.9283275041143,-121.273514404526,-105.990033874284,-91.6115902565501,-80.9853048136856,-80.4545082206485,-68.1622928962527,-70.508623535525,-93.7442019745293,-115.566336226609,-77.6383625443018,-114.40736366675,-79.6855600369909,-77.6772639771854,-65.6843502130585,-53.2807744953012,-70.7788998625486,-70.9141605295361,-96.5152486397001,-119.420381302459,-79.1657927155506,-72.2719615305106,-72.9842475933959,-79.7884356092311,-77.447496000818,-73.2056115310957,-73.1844523778665,-64.7368029358313,-107.988527952201,-55.4976203279771,-114.446189056928,-81.9988763634316,-82.9480625938229,-78.5456768630589,-100.059843921742,-70.6521791956325,-79.7316623668449,-65.4800040475434,-53.1093941723061,-110.734183578476,-55.3540681956933,-111.379976624061,-78.6900034691311,-79.3150988374362,-79.5780010773879,-99.9575330049332,-80.267384374617,-78.4031510928875,-64.5251237678368,-77.7302584598583,-75.6969447338931,-111.896981503693,-64.7183639013081,-57.6219378523908,-125.752546515258,-68.8923331211159,-79.9555016159104,-114.068486872956,-125.242753689108,-77.7990768585753,-66.7001737575328,-112.836122120354,-115.35165554486,-79.0375924539828,-102.435763154446,-61.8734140641466,-66.6926754410198,-80.9237919459378,-64.9389964135421,-99.3644418353616,-53.2266436185542,-75.3805137908139,-113.307535836957,-76.1353483013341,-102.266940541802,-98.0083336175955,-101.793564139637,-75.0903492604549,-117.657853884216,-67.2316656434251,-79.8524886061769,-64.6780697093712,-59.1541572591622,-74.8536534662882,-83.4011260750675,-63.1247912696963,-119.687910294146,-71.0251326872998,-82.1937850221741,-123.724983800109,-81.095229075554,-64.2397897661185,-75.2346045287475,-74.3748175848389,-71.1290100569853,-121.962409016999,-68.3939975987758,-53.9775988270907,-113.585257773927,-70.2222316123678,-81.5382192933586,-112.6197201842,-71.8057934563581,-78.1734261119156,-114.470389823399,-81.024346410731,-77.8878394378562,-80.2191681688407,-73.2350562679021,-71.6161133514615,-57.9598519757598,-74.7310916848336,-124.947820044487,-72.7447538215276,-73.4751130794107,-115.757604975153,-116.512267400317,-125.030008514707,-66.3720991925819,-100.049047068036,-120.228595992706,-77.4924632059976,-57.4389226196333,-68.6418260327318,-80.4946446890649,-77.0554653927035,-113.725930547347,-114.135788546725,-65.7613515493698,-71.3575038125052,-72.2171422594617,-71.7480912545458,-114.974551940936,-82.1811808015953,-112.731461618779,-72.4768415759322,-92.834356653377,-123.697912607301,-80.3929260932653,-79.615651910797,-80.8214908193025,-71.6632913117205,-71.0776623296876,-113.49633560394,-68.3341996676482,-116.429641683437,-77.102056631686,-82.6511143042753,-80.5640992647629,-79.8661595830103,-75.2774736426372,-119.143881302485,-79.8713981243109,-80.0661471940436,-69.4046476165742,-81.7725475611098,-82.8243494559788,-102.076025525012,-102.989101544635,-81.4803941654032,-118.388571924802,-72.9760765601159,-78.7461948035717,-80.398357211241,-75.4502301541678,-115.06773784052,-101.871224839526,-103.530433412559,-81.9966741071397,-69.0883470138541,-93.4076182474818,-113.402212137424,-111.414328813195,-122.694008964118,-103.795055051423,-124.257003532447,-120.841038426628,-76.7320007967228,-55.8248375062256,-116.807203276319,-71.5093771896594,-77.5959753338304,-66.6279895874762,-68.5130841577683,-76.1663177082106,-54.5933094747605,-79.9030166157502,-86.9499414293776,-123.522415571444,-96.9938417074877,-59.9854743014143,-81.7094171320135,-81.7095589231673,-116.963087567699,-72.7320760670756,-55.7541474435609,-110.253953607927,-67.7413252720658,-55.6480623003597,-118.447044493615,-119.131715379632,-118.805373193424,-64.4867781109299,-79.3723526203309,-117.607754311416,-80.2470631143153,-80.0525321760534,-79.637576994284,-63.6139675873987,-79.8288999860818,-65.8277999040543,-111.936863019751,-81.0241206153051,-64.1812722470056,-60.3311235603312,-80.8709222029317,-82.9172616342508,-77.8854024739901,-63.5950398411225,-74.6005257972574,-115.789775989282,-83.6688923233551,-71.6522529354245,-117.14268193701,-116.479500542265,-113.866571716208,-117.57433450167,-121.442618314106,-74.1449720990354,-102.391456996844,-105.125523722181,-74.1786634707929,-79.2193419008024,-103.667873697483,-80.8836974927668,-113.954777627371,-133.725449605029,-116.029748163945,-61.2985760193598,-75.3148171119535,-80.685736024828,-84.7762151068555,-73.4462394578912,-120.342176245325,-101.894273909327,-75.9067739028432,-82.4159621631431,-119.498465368833,-75.6481477248085,-94.4907832060025,-63.6398364559172,-64.4813474876411,-99.6663152115854,-115.982457472264,-81.6387294194334,-109.158949239229,-76.5407464999616,-64.9455691866198,-80.0285930185409,-80.4355762542531,-128.645504811174,-73.4281324468803,-73.5085584849108,-74.681536807245,-70.156421494085,-70.0291254232615,-79.2009914030488,-72.7884645968326,-74.734838883355,-66.8855537211462,-111.970806980129,-70.5042326153892,-70.9000644346073,-74.3429757126567,-73.3733053333838,-113.736719685579,-123.800609951147,-124.047819380742,-78.2697190973303,-105.021718886077,-73.7378924809076,-73.2860062829345,-82.6598893833344,-76.968756591378,-113.559271960004,-112.828889376357,-55.0651208398032,-121.933742149206,-78.7453851002666,-70.5243443795584,-80.9562916152893,-81.931370381822,-64.7192505859542,-110.028194525329,-81.2541730763721,-86.5341748640063,-72.9468142810081,-81.4058101908244,-68.3443829785684,-81.5131103820093,-64.3188812916604,-78.9976311720729,-123.092380848164,-77.4732856852716,-72.1420245156537,-112.867458767291,-78.1271133501575,-85.8393805578487,-75.9778529710954,-117.6312482348,-109.481605650022,-86.3713105216659,-73.1647462025725,-80.6507871926617,-77.6812259384415,-55.1828216092027,-77.6276975749018,-67.5417322625682,-78.7126136075735,-115.13683346398,-108.435420002363,-80.5926380051871,-110.679248003633,-104.606773697191,-102.803538827054,-120.784341707765,-65.066284827093,-79.9015926660508,-79.8689705399225,-80.9210321271329,-99.8400212029685,-81.1994313433046,-64.771480227293,-68.2001935072309,-75.505363180554,-62.6482678796887,-70.556613985584,-73.6584349353312,-105.545984970381,-101.666898605386,-98.1114181098616,-113.638437281806,-97.3608992284439,-75.1856138780029,-81.4964037657029,-80.735598179551,-71.6819731807342,-72.3411156702001,-68.7889449066811,-117.801918837737,-123.997462803671,-76.9539085973737,-73.4069827156434,-99.4641957919559,-117.286990552382,-62.6661306889899,-80.6973803712601,-65.8602243932564,-60.0892464377656,-72.6090732560123,-104.007755759701,-72.5276459487182,-108.296563745063,-79.4396227404126,-80.600423492332,-77.9758795648886,-113.968362964703,-114.120056390418,-119.550228427645,-80.1052415697369,-79.4145352993846,-73.9910063441536,-66.4900533184113,-78.6157093398555,-78.8856049957936,-119.460474805124,-75.7287047966526,-107.056573087979,-80.9344800411658,-102.174699130498,-80.845294696369,-75.0111880463102,-80.3855345012226,-81.6849355622791,-124.376572167462,-80.0270044131475,-117.286543131563,-77.1067139939611,-119.586243183928,-76.2594379199619,-78.3267261499271,-82.1505593157409,-77.1464432563131,-62.7167785977955,-112.78453251029,-72.8094305053797,-95.8805809837588,-113.952576385233,-71.775095708849,-113.580905508361,-71.7026464892235,-124.808568858222,-80.2041185827299,-81.3895408267969,-61.3488090413938,-78.2982234066817,-78.9465486620521,-81.2136699720165,-66.8698720720618,-98.2882116718665,-71.8851029217911,-79.3617767376918,-124.523607531136,-75.5165396388541,-68.1213183058482,-105.738771981803,-122.779904435565,-130.31351897199,-120.513427391899,-71.8794929187835,-110.255692120443,-71.2886439283458,-122.477559338914,-73.7178636554728,-112.661445802607,-113.79713353188,-113.116919815144,-104.614450277612,-76.6788387652559,-118.193620781562,-75.8331207156931,-72.1476742546182,-81.8843116270897,-74.3022224101947,-114.235090633417,-68.5276163844323,-100.239212970773,-69.5190372541332,-72.2168382619055,-101.357448483729,-75.2862201608538,-114.928813809971,-107.986358379409,-106.339275687498,-79.0123479758825,-72.5198875265645,-101.283251787852,-64.3723732139746,-66.0981062351046,-65.03518792521,-119.260259671357,-82.3517862775075,-106.646787045045,-84.3277384966762,-81.395804568599,-96.8862376583474,-77.2473895313723,-66.3879842493877,-108.409566499776,-72.7291800751842,-76.486638785573,-64.5265312434759,-65.3202313398941,-80.2035116691376,-106.387274041316,-71.9330153591838,-99.6489743464852,-64.7186950453885,-80.3091570071329,-91.9112902963411,-114.772798101823,-127.17179345406,-76.0171803353136,-79.552086139659,-73.1264392085463,-100.258239394415,-114.880596561523,-56.0835408358883,-64.0557380986333,-113.907476199223,-123.138804114149,-67.0515108185907,-55.5847150177346,-79.1852742293696,-52.8146357857216,-81.1385214580094,-111.299960330778,-67.3892381502782,-67.2853246979046,-81.1774383293925,-71.4365375833446,-73.1467346155799,-71.324990685289,-75.0565115362676,-70.9642696985804,-71.824503850504,-73.0093216578073,-73.0038500036181,-70.6633250467815,-74.2219576002818,-68.8655402531945,-72.4329987239696,-73.4371125623137,-73.3823677460044,-70.6377412256052,-70.6684514062173,-72.5718364097865,-71.0703488053291,-71.0871923094297,-72.9540427395564,-73.5704009559293,-73.2670990801273,-70.2632391239723,-71.8780043232904,-74.0333599444116,-70.8736003783066,-73.2236436796123,-74.5809649356491,-72.0606438072266,-73.9135550593379,-69.8040159839392,-72.9045550311475,-70.4888174748723,-70.7550824641092,-71.8270440972388,-73.6153710475703,-74.1608876256225,-72.5633336818805,-80.0911054860698,-96.6482707882074,-74.1290472338101,-66.4789080593823,-70.86707425896,-71.7339712785987,-73.0926447030532,-71.0312463036887,-73.7950082270033,-72.4998378868981,-96.6782036802765,-58.5828993720884,-112.718258728578,-77.5523442765519,-97.3324301260675,-97.2190709385488,-80.9846898135522,-113.399268395592,-81.6196096311827,-79.9295817045277,-80.9636221280699,-63.7878883389568,-65.4969191580373,-79.3916973701589,-115.401251961968,-101.256723927867,-107.792651312517,-60.1945697815276,-60.2447461761426,-114.097898242475,-112.145223331103,-80.8349572874983,-79.1014851570993,-128.57946650754,-80.9982500000391,-101.242391676586,-83.5609450362923,-71.2901688733315,-97.8689344028415,-80.4581739396874,-113.268366944715,-89.264147359949,-75.2401482076717,-82.4332552420154,-80.7337836938726,-104.049481050489,-79.4968511073473,-79.8058709825005,-64.9194295090442,-69.1695021661041,-72.5690756418115,-63.2619910768449,-77.3130901886373,-125.543075697539,-109.157339744352,-79.1186440475279,-77.7952283414583,-72.3060778919781,-70.921779509045,-80.9877253270891,-74.1137494730878,-117.277641617237,-122.901989500728,-124.003094204977,-74.6489509591679,-73.42881073657,-112.049684708724,-73.3570137571581,-110.857344277916,-119.273622685765,-123.416587530942,-71.9548629942417,-111.776886868429,-79.4404625667687,-100.93216733306,-113.267571166356,-52.9484731244608,-103.796025321361,-110.84686326272,-81.1503341244845,-82.386968658986,-71.9891252525164,-80.2926481396716,-72.5233271869164,-81.8818656097829,-105.461565474342,-81.6063629068884,-113.850076325481,-113.370428801337,-103.845216578201,-82.4591225902276,-79.251840773146,-122.803648214343,-115.676786724426,-135.098480213626,-81.1350944228153,-108.707989427196,-122.123514238627,-75.3518428845434,-64.1427114815223,-82.9609256731303,-72.0031839797106,-81.3097070460581,-97.9295155927275,-97.1433636525538,-64.3608079995209,-67.5787859755553,-80.7401170442249,-104.183911176289,-82.1198433478566,-72.8321643267341,-66.1084660665467,-114.406615964046,-102.46427936499,-121.295926999694,-122.298793731497,-75.4219002829575,-67.0901733210946,-78.9432649679054,-79.0470682135334,-64.498314796316,-64.3877162642108,-79.4818036286408,-79.6470905669892,-70.8778313274839,-79.4787367072252,-79.082878412704,-81.3362729429508,-77.2730752945653,-127.501982118881,-123.732590001329,-81.3489965326211,-81.2068953147374,-81.142848523503,-65.5154048458467,-119.661872176966,-63.2165566707659,-72.1328167356371,-74.2190911716411,-81.2733320532139,-80.3140667316678,-80.1042627655014,-97.0363020654825,-106.578418485248,-113.777079804664,-114.232724424098,-114.100585658528,-113.333771254523,-114.923743169716,-120.811596107358,-73.0185399992526,-82.9575706155757,-72.4244961266129,-80.1103661852515,-104.871015630413,-70.351676160939,-67.9237121337476,-114.633980344133,-112.662464481303,-81.5049041772957,-117.280267686729,-113.799921514892,-118.087974448002,-118.967815587045,-81.364791663487,-73.7569576928658,-73.8146209990359,-73.7296204212779,-72.0166833413752,-105.288529694451,-127.077600857154,-119.139992256271,-113.868679472304,-112.785786440384,-110.905805046524,-113.47780056197,-113.41534941315,-57.6037747004937,-74.409216832666,-80.1317235605528,-104.42191182027,-106.770453236645,-106.658719773983,-113.407043593252,-114.037382903405,-123.235691475081,-122.478776468342,-118.980370402502,-126.649911852707,-120.167730903657,-96.0621176056646,-106.962548189906,-109.94070020818,-70.9507742708485,-68.708710259797,-81.0849449675698,-120.999218741495,-77.9575897839518,-118.780483481348,-80.5524784810571,-79.6992009905629,-112.926184303057,-73.7683399077867,-97.1125644983887,-79.9734330808494,-117.797829383289,-113.992832954864,-73.364410995724,-119.421604645099,-75.6042259898608,-63.389467696837,-79.3853375620206,-74.1142294284372,-79.3100659451905,-69.6194024822928,-112.467813605844,-68.2754038271983,-58.1211461400066,-71.6282914948063,-72.0740088125355,-81.2502756384357,-81.7640362662279,-80.7619242482601,-123.755382900527,-81.1194437807556,-111.737330527621,-81.721535755901,-75.3602003680684,-78.5634422762761,-78.4516960531065,-122.97077529676,-113.286621946345,-82.5452621182564,-121.969691761726,-80.2507070985492,-80.6704458564379,-74.0509184356224,-79.9911086210797,-92.1028940284418,-76.0885619361845,-75.4728766816152,-121.76897681411,-79.3763955984452,-104.371294537611,-104.272079637532,-79.9350699806456,-80.0393481523818,-73.0591009045416,-72.6552199993727,-73.9646254748656,-72.7615161615012,-66.1184095982636,-68.6442228242125,-73.8665063785507,-78.9053616642563,-72.7102080606961,-73.5927888967355,-64.5919576279562,-118.783735750918,-116.413656649775,-119.384085359421,-122.802128184998,-64.7838089322001,-63.718031311942,-79.8720446539481,-79.6835247671883,-72.5127890805069,-72.6539469789533,-113.809504542068,-74.0589883113641,-74.0866722003959,-74.0160105233317,-96.8424445816038,-113.672765529886,-113.823969158368,-113.601661474346,-79.2865612235507,-79.1225369105363,-96.8683903736016,-104.978061022357,-123.650585200715,-123.644297657616,-121.780890300579,-104.567472887054,-78.7497830399253,-114.028161036624,-93.8265846656072,-80.6383837667343,-105.057086397768,-94.0614349674295,-63.8322996245889,-66.7575366660122,-66.1971617711674,-71.2262588787725,-71.6154769447866,-73.4266889846512,-77.3510365116545,-75.5777148242172,-76.776102257078,-79.8171969240665,-81.3761986346759,-113.051778650971,-122.451425497928,-123.334126013444,-123.613357241284,-96.7635695943221,-100.330240326985,-94.8510960312824,-96.860319858042,-94.7777573791577,-96.7005962017309,-113.232162963521,-114.371557305887,-103.372457424628,-105.436492171317,-102.92518731043,-123.877451504305,-80.6046640491953,-80.5334172433296,-79.0675458374478,-70.9415640721594,-74.38850084335,-74.0636614284544,-73.8081629952922,-73.5776463009603,-72.9358582595447,-73.1229419736335,-96.0188978877705,-115.099088251988,-106.538090781067,-57.8935051424616,-53.2125694026462,-64.5224290044925,-63.503002602744,-63.7862218766919,-60.6269611810828,-64.4168958564154,-66.6839585110609,-65.9780055749041,-64.9931143855368,-64.7509571369843,-65.9368059948057,-75.4891837463549,-71.0109629157153,-71.3643560716267,-71.9426326676574,-70.4494196070303,-79.1186583637564,-71.6224846530556,-72.5344344533895,-78.1052146124612,-68.3937722910182,-73.9706880940667,-72.8133796234465,-65.977987496017,-73.9538580984794,-71.5773623656736,-74.9392749472993,-71.2632882401609,-72.6525933558443,-77.2800925112007,-73.3025400041805,-73.5172114419146,-71.139194185378,-72.8295177143151,-73.7550248084283,-74.2383696566651,-71.2008938373057,-71.0619806907556,-73.1259574518742,-72.3724267047958,-70.9259545983724,-74.304509439122,-72.3292991217503,-73.3489619985234,-75.642689212386,-71.5135667655488,-72.0979277190061,-71.3574492414742,-72.6574582300201,-73.7817088953589,-82.4239024162034,-81.1210332755781,-81.6998182266245,-75.1648021392348,-77.4541574056813,-81.1915761654401,-79.0579359604655,-79.131638345063,-79.6818837554512,-80.854069259885,-82.4474180445407,-81.0611854943584,-78.5079388334649,-74.9914094936603,-79.5362192944476,-79.5298434269432,-75.2510704629052,-74.8951303831582,-79.4998617913954,-82.9550986884176,-79.6784920603185,-78.5942522530446,-79.4758332470594,-79.8381338176881,-80.6176204892999,-79.2590873754346,-80.4616808997264,-79.0562722507391,-79.7811338287698,-79.2709684490313,-75.1185936942063,-97.2163086498693,-97.7559629193708,-96.9905975914798,-97.2608598758284,-96.8176713439249,-97.3345696485882,-96.9867022957176,-97.2598520423531,-108.3081109368,-107.134200259688,-114.361332837807,-114.046132510849,-110.189465940133,-114.497551002032,-111.907077235705,-117.197321567951,-113.226572825189,-113.994390486788,-113.492426063775,-113.594994077181,-110.786270471593,-113.871242129691,-114.282952466425,-112.10855259917,-118.80911478553,-119.235043796097,-124.134012465796,-123.571904598418,-119.829273216621,-123.071484972143,-122.304248221247,-119.583160294533,-119.565232119775,-119.731583304245,-125.026826374603,-120.317225617397,-121.786741023995,-123.609412928444,-127.057535524562,-117.627321781109,-123.071793635025,-111.886634950023,-95.8723049757321,-60.2562198275144,-53.9677987353085,-123.856286093459],&quot;marker&quot;:{&quot;line&quot;:{&quot;color&quot;:&quot;black&quot;,&quot;width&quot;:2},&quot;size&quot;:[9.155039056191093,8.593969030218288,11.019972502738868,7.3537223303996315,7.953318346560431,7.077498053569231,9.842090757670805,9.971426535544321,8.524962928680598,8.334951631422454,9.164296433474776,9.540363284917488,9.210840247017833,8.414274137408396,9.444621667700849,8.517593111437565,8.539737155851132,9.252057965328051,7.75491027202143,8.557374981049069,6.988413181999592,7.77863014732581,7.572502985020384,8.938662873666118,8.335911094196945,9.170559501964338,8.490438454107418,7.050989447068045,8.968396191198256,7.002155954403621,8.386400901166214,11.888714563968392,7.138073034044347,9.652265977087122,8.867850063029406,8.234564993267135,8.68084148294457,7.970740390007095,7.752335163302292,7.945201132412759,7.422373700986824,7.843848638152472,8.266421472984554,11.122339117090533,10.836537068225239,8.458504195067558,7.803435056952168,7.68017564043659,7.855932199718614,7.3427791893318455,8.37655086161377,7.7336835707759,8.16763571524637,7.412160334945205,7.366445148327599,10.18028560838583,7.271703706887368,8.0519780789023,8.533263371593732,7.924072324923417,7.480428306074208,10.580784783666008,9.13043098874788,10.304342048086609,10.785683610639454,11.494547622186369,7.987864096085687,9.05157907959124,8.676075516476429,9.992139250130691,9.577480365762678,7.451241684987676,7.175489713624222,7.566311014772463,7.798933310041217,9.177197153382929,14.028729826086073,10.467038444924999,8.152774052744075,9.2794932306645,9.82660650820017,9.372799299673886,7.520234556474628,7.438383530044307,7.614805364711073,6.977281341630747,7.942717540573791,8.041734711487537,7.427738840532894,8.782629654920699,7.448333860897476,8.08886878916199,9.387314322443542,7.315218389752975,7.9996785794994505,6.930494765951626,8.178358165605836,9.107532151994501,6.947937068614969,7.44600149832412,7.734121303328305,8.206583614320753,7.183870715062453,7.064759027791802,10.708600883430892,7.724446645633537,7.315218389752975,10.68166498228065,8.013343181386672,7.519149957669823,7.284820912568604,7.424761761823209,8.833754223418396,11.554278518453707,11.200417771082792,6.9650803456014065,8.667163717992533,8.138564737261632,7.9247959139564355,8.022568946988255,9.006141236662911,8.783242963740905,9.853824507517027,10.138124797561552,8.201934351194222,7.3632795869630385,9.908574591584685,8.738094230177667,6.928537818164665,9.880577100953023,10.73035673255396,10.714817688773783,9.376617231601282,8.007700012884026,9.865733762924211,8.561401446080557,8.1886891244442,7.762596048540069,8.999001866111735,9.356516482133785,8.204671828950811,8.434246270595311,7.494430215031565,8.352318548226004,7.405495663199472,8.791486026749002,8.560635749259074,7.630461261783627,7.701652362642226,9.340315448397929,9.038127549330516,8.834482608620677,7.804251383528112,8.770128527538184,11.136062390867204,8.628018746505122,10.055263987501922,7.6236419465115715,8.658519127506672,7.866722285136729,8.15248607578024,7.513163545234075,13.876269758959818,9.399803036921504,9.005527777346696,6.92951677076365,9.258940041812245,9.22631214148588,7.746732907753622,8.841881989497114,7.994294986415977,7.257002707092073,7.881182202227102,7.199678345691172,8.214194414852564,8.915432254432663,7.769378609513984,9.328834266023971,8.444407421690585,7.862497197230545,8.814479000010714,7.80954132465341,9.941120467342978,7.441906728051625,8.48673398393153,8.474494436883122,6.92951677076365,7.7306140660637395,7.75491027202143,8.911934336161426,7.903965634032166,11.106054368924086,8.121480374750751,7.560080465021827,7.31986492980897,9.898324245579248,7.765993079407675,6.914730892718563,7.450079569807499,8.112227958349724,7.946263643580541,10.992133676892388,8.86531163267185,8.54849804124465,9.232101863757695,10.648349188782753,7.510977752014095,9.119540007649686,7.716906135298388,9.773151050808124,7.661997558901893,8.927446816256198,8.083328608786376,10.996936534247357,7.709756864454165,8.889583991794973,8.347827345782498,9.396487933603666,8.282230063296685,8.097426298597213,11.04003768054463,7.324489979348532,8.58466490653125,7.8628820346414905,11.793560263618064,7.985824666418917,8.09132127353041,12.665713390084107,13.449715581236658,8.142063283104147,7.754481547470383,8.910990494656719,7.352441100243583,8.765302488748196,7.493873886783559,7.904703913873747,7.069023426578259,7.981049759665957,9.368625350941896,7.911324018963353,8.251924713801357,7.470793774195062,7.916078096302786,7.724888439323074,9.504501410525673,9.127502093667179,8.310660905907225,9.972033657571142,7.174724309836376,8.491259809389733,7.83399634170946,8.776784383701493,7.496652438168283,9.440419814291506,8.843182098022606,8.0519780789023,7.966239776559467,7.129297548929373,6.934397209928558,7.991253929840199,7.867105500316739,10.725643413659608,11.264797383461849,7.4815557019095165,11.672524134656916,8.906257878156621,11.931352865069307,8.271548374755515,9.276783328524896,7.3537223303996315,9.399968503952575,7.673223121121708,8.414717399827001,9.025816391627028,8.023552392404348,11.675554388418448,8.836228571526014,8.74909824839902,13.060519888070589,8.763115329619787,9.67445167551708,8.885302512980633,7.27931883541462,8.166216268592143,8.275885669474356,8.42726848388825,8.955577146281511,7.035268599281097,9.06207235530708,7.738052297689316,7.485491608030754,8.638879709672837,9.218506934642576,7.160845906664299,9.428833125074965,9.272093768251665,8.0106915391303,7.920446505142607,7.10085190894405,9.4501443641835,9.284241179815718,10.403990075979044,7.608374474380783,10.294042047908539,11.380216591127226,7.684324067681155,7.352441100243583,9.938516801455522,7.233455418621439,8.92665032079394,7.351158226430694,7.8434564043761155,10.354563171896345,12.856930609893038,7.2682230211595655,8.593413217327646,7.840312983320164,7.013915474810528,7.02197642307216,7.642524134232902,7.175489713624222,8.09009578318096,7.336285660021297,9.944149534255018,7.68662133494462,7.99699040583765,7.443078374348516,8.236950048061455,6.977281341630747,7.637234388789473,8.051340933292979,9.09279480812114,7.103322062526113,7.395721608602045,7.89989532313973,7.241366283322318,9.28609698437543,7.487733761436444,7.094234845924755,8.569026340056254,8.499029220788566,11.049857726725605,8.661812881026181,8.325306029752582,8.579416534596369,7.237778191923443,10.100410324207255,11.529930063786052,7.362645270417825,7.686162303492906,8.427924723658055,11.595610831588836,8.631235907456897,8.941676305360163,7.51425465281641,9.109525066737367,15.073856484136554,10.39586403263359,7.843064016692054,8.975503722070927,9.19502366786429,7.446585099157725,7.776954403322442,7.518607216815252,8.443115988019922,6.98933526597456,6.925595197110468,7.076653815443951,7.029972911706386,11.429587333346895,8.914491710191342,8.457018468380168,8.278682162970906,9.274628861858545,9.834405391348684,9.51745735706657,7.550135342488429,8.901638932300326,8.642768014324304,8.291295851905407,7.554858521040676,9.515395652485308,10.82766708583052,7.955775781534187,7.22983877815125,10.269275843491394,9.09873819539488,8.571491964823617,10.333124812615278,10.34586301466439,7.455876687491824,9.083075020930307,7.007600613951853,12.64069194329091,8.416267272826277,13.805022752697607,7.511524648390866,10.000251220968437,7.026426808699636,7.8724551500639794,7.007600613951853,9.4181672191785,7.459914766241105,10.067899688786515,8.751632702472298,8.274866820685254,9.676586952344206,10.422787170381499,8.625688787569537,11.315620211162134,8.589513852995864,8.455743229100015,7.905072849498666,7.438383530044307,7.020190708311925,7.193685818395112,8.167068178341237,8.881141619321468,8.839131752546109,8.738575192110787,9.938468521431373,8.725994381014571,8.969796305981806,8.007700012884026,9.440419814291506,9.154087430425385,7.672292455628756,8.632127729508337,9.46877384406884,7.602900462204755,7.202661196523238,9.424160595829509,8.285261134068948,7.425953657077541,10.466013387887635,11.089958081725921,9.370160663423624,7.917536353943631,8.385716828627851,7.573017256052546,13.466099170413724,9.397981090247738,8.554103545436334,8.169902647359145,11.510101481279127,7.372118028337787,12.276675553545772,9.00601857490256,8.81269461292015,8.307705966549513,8.021584533455107,8.007034012193408,8.19229373114764,7.643003635560718,10.517104394139265,7.136483208590247,9.796625910752034,9.012377119192271,7.3864708488298945,9.417517129768314,8.768574284141687,7.754052639035757,7.305188215393037,10.064925898413659,6.910750787961936,7.240649694255466,7.993957547573565,10.974060384172992,7.335633981927201,9.463042725531936,11.186156003810401,12.409751992276771,11.102141235384464,7.893572073504902,9.194109358865765,7.713784616598755,10.008658050141667,7.4377951216719325,10.55087871125787,7.0925737159746784,8.879611609982035,7.1929342212158,9.002824076547672,7.152268856032539,11.846285721543437,7.257707677160043,7.6638772587034705,9.541225601728613,7.9865049385539955,8.725020038618554,8.585038738311304,9.092119740588751,8.610501368549889,10.493715679088233,7.53689712956617,8.157657015196472,7.640123172695364,7.916807490937603,10.495017203717081,9.774915271736365,7.313886831633462,7.6251071482389,12.342550941765836,12.091934832967983,8.846640813100485,8.653121708640482,7.693481640835175,8.081165777725433,10.640962574945574,7.974532844130228,7.343426229147367,7.425357887027151,7.551186867296149,7.840312983320164,7.234898420314831,8.246695943718557,7.037027614686276,7.0925737159746784,7.10085190894405,7.0431599159883405,8.867286523989415,7.999007213243955,7.88758403166028,7.340835554123275,10.200661930171254,8.156223323194624,7.45876269238096,7.725330037917135,10.820418079697623,7.661997558901893,11.346693769325222,7.249215057114389,7.660585461703256,11.253455009396003,8.214735833382303,7.853993087224244,8.615226931687603,7.665753431861699,7.030857476116121,7.81237820598861,7.9996785794994505,7.7488913372555315,7.014814351275545,8.079308192051961,8.837971491357209,8.968141414126814,7.7752758464868625,8.301273485191347,7.656337166430183,8.66319648553608,8.094683648698815,7.77863014732581,7.244941546337007,7.580189417944541,9.313167681775653,8.27664912542186,7.195187320178709,9.599201730917567,8.8698199525084,8.676246121270838,7.615791072035833,8.443331342817782,7.495541943884256,10.343450701051859,9.517236663351769,9.575052927597383,8.824383730256061,11.385705541626173,9.533437849648918,8.575084669832014,8.926783114101351,7.150701457592526,8.285008895449879,9.681718056775063,10.305747529695344,9.458995712459116,9.611931318535747,9.053452616439039,7.991253929840199,7.215975002651466,9.522446728338489,7.65728279297819,8.588210678651517,7.069023426578259,9.691160293655768,9.463275708098129,7.818027938530729,8.032035314398824,11.450539292534133,7.837159650001675,8.469682208745185,9.654641503869545,8.0507033814703,15.50736202692585,8.545391845774915,8.065893546964274,8.025516386489008,11.64573284556128,10.041247492240613,7.438971592395862,7.362645270417825,7.813995675002791,9.378563004390635,10.148040283087838,7.498869733976931,7.145196134997171,9.767152232578871,10.572546937566983,7.259116128097101,14.633007168150373,7.590346945602565,7.462789157412448,9.93183202554527,8.600798775271034,8.395929103923198,8.193400231952097,10.78047596792754,12.723961267496483,10.708511471981696,6.946013991099227,7.655864017616056,8.033334015880062,7.426549072397305,7.1891677384203225,7.033506484287697,8.724695046740491,8.415603335654604,9.22009266341886,8.070906088787819,8.049427057110695,8.131824785007195,7.336936913707618,7.5310163320779155,7.198183577101943,8.450625947144124,9.43236329562169,9.276034475171546,7.961370201719511,10.393109968651016,11.44816291874091,9.16062477973025,9.986541107671414,7.5953872788539725,7.046647277848756,9.259892150805431,7.780720886117918,8.565602330623925,12.56747788396442,8.529911963824013,7.984121958702927,9.568783751310876,13.475727847767121,8.341648618901306,8.361007108226909,10.606684068949075,7.4570320891223805,7.766840537085513,7.122866658599083,8.884194633072273,9.846070281666178,9.682903223616842,7.501634457883413,11.70584895545962,9.722265391185474,7.7354333524996886,9.590214130417438,9.050640993218508,7.866722285136729,6.97914527506881,10.194551400334317,8.4368504387337,9.537122958049878,9.378732023236639,8.447199819595703,7.290292882446597,9.525224101853109,8.200562797008564,9.134430777875833,10.286400256173781,8.458716261657262,8.631949428714426,9.335121088873489,9.07589427542326,7.807916628926408,7.119635638017636,9.76399557371753,6.951772164398911,7.404279118037268,7.064759027791802,8.314587291319576,9.302098797215724,7.583247524303362,7.844632644464681,8.03268487596762,7.886457270977689,7.468513271496337,7.0967213784947605,7.221105098182496,7.709308333385869,7.103322062526113,6.9440872082295275,7.508787170634276,6.981934677156389,7.002155954403621,7.531552381407289,7.5251007461258,7.221105098182496,7.039660349862076,9.076694687106265,8.280964400553373,7.172424577124845,8.210124405164267,11.172742351554666,9.29330189269053,8.09040229659332,7.3632795869630385,8.643120748014027,7.6324011266014535,7.323830566202317,8.059908334578276,7.205635176410364,7.270312886079025,7.552237287560802,9.76399557371753,7.937374696163295,7.261927092702751,8.44009614103127,7.495541943884256,7.478169694159785,9.162514742493578,7.332369205929062,7.997326822998097,7.195937226475569,9.393245092030718,7.487733761436444,7.661997558901893,8.4071550862073,6.9930151229329605,7.1846291527173145,7.084226422097916,7.233455418621439,7.016609683894219,7.038783541388542,7.591861714889934,7.016609683894219,7.8083230503910555,7.59488438721652,7.101675971619444,7.872073979866873,7.8160138391590275,7.216709486709457,7.533158807455563,8.076826031298808,9.69713966113932,7.469083884921234,8.851090687664982,7.8547691834991324,7.83002808253384,8.31238059678675,9.272657678041044,8.502079553606189,7.1731917424865985,7.086737934510577,9.354354132115088,7.0630481633881725,7.546446273746024,7.280697195384741,7.05444965813294,7.895063498091573,8.085178748074537,9.086136768516877,7.105786129481271,7.088408778675395,7.201916317531627,8.403800504061147,7.147559271189454,7.43543801981455,9.072571442231286,7.1308988302963465,6.99117688712121,6.959398512133975,8.08794755464267,7.65491704784832,8.111928063310739,7.301147805856032,7.80016307039296,7.746732907753622,7.4821189235521155,8.243282523048375,7.3427791893318455,8.350902451694811,7.4645098346365275,7.4205789054108005,9.787403073515327,7.300472814267799,7.741099090035366,8.405814603432848,7.4815557019095165,7.00397413672268,7.652070746116482,7.9617188159813645,7.995306620290822,6.994849985833071,7.224753405767971,7.02197642307216,7.561121589530238,7.528331766707247,7.588829878307813,7.579167967396076,7.2875606403097235,7.273092595999522,8.362175469149628,7.897668150726906,7.24422751560335,8.267448958304849,7.522400231387125,7.711101251840158,7.134093721192866,9.148358579620302,8.434680769841773,8.52912176228151,9.876732815227308,7.05617528410041,8.078067881815437,7.98514393119862,7.973844375944687,7.395721608602045,7.224753405767971,7.521859252201629,7.124478262493424,7.3427791893318455,7.516977224604321,7.122866658599083,7.0707241072602764,7.247792581767846,7.389563953677635,7.829630389150193,7.368970402194793,7.6624678152002375,7.217443431696533,7.8009820712577405,7.398174092970465,7.970394907191429,7.1252830915107115,8.65486599654131,7.07326971745971,9.081824949740755,7.526178913346146,7.15305163493748,8.157943507105037,7.00033446027523,7.780720886117918,7.833203948641057,7.110696122978827,6.945051063725834,7.426549072397305,6.943122422819428,7.423568444259167,6.964135612418245,6.98933526597456,6.952728644624869,6.940222469119639,7.571473648851271,7.025538314638521,7.499423290592229,7.020190708311925,7.1252830915107115,7.301147805856032,7.4073177104694174,8.358900612421644,7.327123292259293,7.351158226430694,7.368339686311381,6.996681488176539,7.432483807917119,6.963189985870238,7.1204443723924875,7.397561535524052,7.040536390215956,7.029087564149662,8.825706773447951,7.048386408721883,7.659171367666058,7.02108396428914,7.704811922932594,10.104180975012746,6.959398512133975,7.132497551660044,7.143617602704121,8.84980082722101,7.098375638590786,8.101071503119543,7.9102237070973445,7.101675971619444,7.793999089503996,7.926241523170962,7.251344983372214,7.179307969504034,7.210079628170788,7.10002716662926,7.321849713788356,7.024649030453636,7.8713112033234065,7.79770203551669,7.247080584585756,7.027314514039777,8.868413284672005,6.945051063725834,9.157572306437528,7.411556287811163,6.980075940561763,6.942156705699469,7.1049654482698426,9.31542084842669,8.27308133366583,6.963189985870238,7.440146680662688,7.197435354096591,7.044032897274685,7.060476365999801,6.928537818164665,7.240649694255466,6.980075940561763,7.953669778649798,7.29641326877392,7.5251007461258,7.419380582918692,6.945051063725834,7.313886831633462,8.44741429680832,7.013915474810528,7.063903961472068,6.9363427358340495,8.734721003944811,8.634086942887738,7.091742115095153,7.0192966537150445,7.503289630675082,8.645762292210945,8.271548374755515,7.046647277848756,7.232733136177615,10.085475720428844,8.84937050375457,7.6246189861593985,7.483806687665835,7.0825485693553,7.527793987721444,8.389814262086407,9.123365357961776,7.43307534889858,6.950814768442584,7.2196420401307355,9.61826910952232,7.004881989712859,7.072421900537371,8.5956346177228,11.041128228171717,7.487173694213739,7.108244139731541,7.609862200913554,7.331714969726466,7.370860166536716,7.1204443723924875,6.957497370876951,7.064759027791802,6.9985096422506015,8.229511118964457,6.945051063725834,7.093404625868766,6.934397209928558,8.8065738205036,7.29641326877392,6.9167150203536085,6.939253946041508,10.081424511012258,7.637716432664798,7.313886831633462,7.034387929915503,8.607764889600624,7.31455283232408,7.718240951959316,7.108244139731541,7.217443431696533,6.985641817639208,7.044905117129371,8.183118079394745,7.446585099157725,10.007532202822729,10.412140818440461,6.910750787961936,7.681099001536359,8.454892165218858,7.234898420314831,7.576097340623111,7.462214939768189,8.85666093701725,7.05617528410041,9.444858981311897,9.979892883738533,7.616283561580385,7.087573705557973,7.457609289715606,7.347943823148687,7.422971251049421]}},{&quot;type&quot;:&quot;scattergeo&quot;,&quot;lat&quot;:[49.0292,48.428821,49.05798,49.054932,49.172018,49.23298,49.262001,49.260742,49.059278,50.577234,49.167398,49.232972,49.077394,49.187112,49.860072,49.280985,50.448974,50.720988,50.737506,49.038359,49.150454,48.940769,49.373711,49.253399,49.267685,49.280985,49.027553,49.172018,49.179555,50.1102,49.067104,49.262639,49.229924,49.219898,49.264084,49.076129,49.075217,49.043287,49.272436,49.223174,49.172955,49.26636,49.269616,50.01634,49.184202,49.280985,49.178077,49.178077,49.135796,49.211505,49.885994,48.436194,49.483353,49.316435,49.3847,49.242179,49.168645,49.184356,49.163548,49.252325,49.216323,49.16638,48.928631,49.172018,49.16638,49.458439,55.75984,50.671374,49.280985,49.674874,49.192914,48.42685,48.532384,49.278285,49.280033,49.253339,49.191987,49.152089,49.885994,50.655161,49.05798,49.260744,48.460496,49.119841,49.278536,49.674392,49.143445,48.861708,49.721265,49.721265,50.042856,49.47512,49.492452,48.42444,49.05798,49.26378,49.152089,49.326776,49.150454,51.64982,49.283293,49.221934,49.483353,50.26676,54.2331,52.114795,49.282973,49.284807,49.88202,49.886319,49.901178,49.221934,50.05007,50.5498,48.438166,49.281743,49.219898,49.140837,49.223174,49.150454,49.029286,48.429117,48.439161,48.465052,48.457248,53.25494,58.805029,48.430064,48.438252,50.448974,49.379483,49.198845,54.05814,49.10107,52.982877,50.31641,49.116016,49.051692,49.280946,49.215134,49.263363,49.105496,49.223174,49.034977,49.280926,50.66648,49.21939,51.30913,48.4153,48.474572,51.29995,49.166133,49.21939,49.158457,50.588149,48.94153,50.72418,53.990521,49.261974,49.090243,49.286103,49.21308,49.184568,49.321875,48.415523,49.13298,49.047949,48.99016,49.16638,50.265318,49.379483,49.434226,49.511052,49.202713,48.779254,49.15379,48.825982,48.827393,48.780465,48.778507,48.721283,48.65055,49.91658,50.668486,50.66648,50.675707,50.66648,49.458439,52.126314,50.025927,48.424638,48.431782,50.51666,49.24966,49.880638,49.048346,49.109878,48.409593,49.264012,50.6856,49.279605,49.721265,49.259247,49.152089,49.143445,50.026249,49.229019,49.28297,49.71371,50.287029,49.458439,49.839934,49.49991,49.150454,49.22119,49.19268,49.184657,49.034977,49.13298,49.117916,48.792346,49.26497,49.674874,49.09983,49.49996,50.697209,49.215843,49.47512,54.013891,49.262867,49.220453,49.03309,52.964568,50.121877,49.094789,48.432946,49.16638,49.286103,49.23288,49.881963,49.28297,49.150454,49.249684,50.676678,49.091666,50.265318,49.326792,49.21939,53.9166,49.129464,49.267132,49.413647,49.68657,49.476938,49.200859,49.221091,49.119581,49.839934,48.784871,49.282662,49.270288,49.202124,50.248817,49.263664,55.344178,55.33637,49.280158,48.783372,50.677569,50.689316,49.21939,49.150454,49.278574,49.038423,49.035421,49.166487,49.267685,49.271236,49.287948,49.190381,48.483249,49.035421,49.178077,49.31947,49.47512,48.432549,49.244642,49.24133,49.34783,49.126427,49.166487,49.231785,49.261802,49.176147,49.05798,49.119517,49.25062,49.828375,50.256801,49.675971,49.28073,49.829445,49.458439,49.88307,49.228651,49.281743,49.26637,49.152089,49.172018,49.21939,49.323599,49.16638,49.323864,49.060143,50.6998,49.261974,50.01634,49.060461,50.88311,48.657057,50.24987,49.27237,49.150454,49.489714,49.489548,49.69925,50.126341,49.035421,49.130349,50.26729,50.264568,55.782237,50.256801,50.01634,50.692843,49.323864,49.784686,49.948077,49.198876,49.068109,49.153848,49.26637,49.228179,49.239444,50.5498,49.791427,48.78056,48.647645,53.907171,55.75984,49.227289,50.817209,50.909873,49.095034,49.162257,49.258451,49.104836,49.034977,49.03223,54.39976,54.78036,49.780848,49.35,53.914128,49.195797,49.232065,49.275652,49.133775,50.26729,49.323864,53.926586,50.676504,48.91633,54.798563,49.028586,49.294059,48.431782,51.64982,48.995609,49.489548,49.157368,49.180128,49.323599,48.779275,49.28122,49.379483,50.51666,48.64964,49.163123,51.002454,49.343541,51.644409,49.780848,50.6998,49.093097,49.606946,49.19975,49.941244,49.49991,49.47512,54.2331,49.685491,49.16638,49.202124,49.88307,49.280985,49.097503,49.280874,49.095524,48.514488,48.44883,49.002539,49.104836,49.82969,48.37463,49.049339,49.882742,55.696636,50.026249,49.732095,54.51634,50.670676,50.11225,48.861708,49.263353,49.26894,49.165302,49.22119,49.279227,49.03306,49.10107,49.506706,50.007511,49.31947,49.273046,49.283062,49.15314,49.276701,49.038423,49.234236,48.432956,49.249155,49.501125,49.054742,49.115372,49.275374,49.10107,49.17178,49.038359,49.870935,49.223968,49.683402,49.046502,48.415849,49.178077,49.116766,49.279403,53.91525,49.046502,49.263548,50.722015,49.828375,50.672106,49.864813,49.172018,49.152089,49.45802,49.164099,49.103822,49.133737,49.278841,49.266898,49.170261,49.710357,48.43839,49.34783,49.188553,49.458439,54.054139,49.279337,52.97842,49.846476,49.31947,48.654725,49.280793,49.110359,49.096257,49.88307,49.92906,49.228651,50.999892,48.44883,48.91633,48.423531,50.652591,48.414093,48.432406,49.188351,49.828375,49.104836,49.224897,49.13298,49.228866,49.03223,49.0292,49.029286,49.463254,49.184356,49.839934,49.26636,50.120474,48.423904,49.198845,50.1164,48.430537,49.249722,49.119581,49.865842,49.888993,54.2331,54.01657,49.471423,48.99016,49.090338,49.162426,49.184356,49.179892,49.323864,49.264498,49.885994,50.264568,49.290819,49.343541,49.280985,49.10107,50.699531,49.224175,50.265318,52.97842,54.314893,49.202713,49.23171,49.051692,50.66648,49.227289,49.15502,49.03223,49.232065,49.268469,54.51634,49.499955,49.155611,49.13298,54.78036,49.458439,52.128277,49.315841,49.8863,49.841822,49.261781,49.157538,49.316435,49.21939,55.757456,49.49991,49.219898,49.266521,49.19986,50.6998,48.772109,49.140837,49.05798,49.25062,49.152089,49.508429,48.431035,48.648814,49.21939,51.64982,54.051236,50.666209,49.780848,48.78293,49.21939,49.269616,49.271236,49.002539,49.129464,49.187084,49.140837,49.828383,49.260744,49.476938,53.868161,53.909961,53.988672,54.314313,52.972926,50.692661,49.69925,49.039151,49.49996,54.51634,49.162999,49.87022,52.128277,49.119507,49.254765,49.22119,49.28297,49.051692,50.771942,49.15502,49.03309,49.09987,58.80533,48.460496,49.200859,49.10107,49.323864,49.233132,49.27479,49.277265,49.221934,49.292624,49.260021,49.458439,49.262386,49.05798,48.426977,50.029074,49.002539,52.979167,55.75984,49.16638,49.69925,48.426088,48.37463,49.890772,50.256801,49.263506,49.234889,49.267917,49.16269,49.166545,49.684595,49.59977,48.648814,49.326792,49.25062,50.6998,49.266521,49.315841,48.78293,49.092469,50.66648,49.029347,54.51634,49.097503,49.280996,49.03223,49.49985,49.87022,50.671374,52.132978,49.075529,49.49991,49.283263,49.293133,49.10107,49.133519,50.700093,49.458133,49.18306,49.280985,49.780848,49.23298,49.973118,49.227289,49.191662,50.060438,49.8863,49.28297,49.21939,49.13298,49.22119,48.431782,49.316435,49.31947,49.154372,49.152089,49.269616,49.184584,49.20678,49.276701,49.279473,49.237229,49.225878,49.107851,54.31507,54.781883,54.51868,54.054139,49.045534,50.281969,49.26685,49.692235,49.095524,53.990458,49.039151,49.68294,49.275737,49.286103,50.252736,49.261092,49.319923,49.205656,49.690327,49.05798,49.316435,49.495972,48.647645,49.13298,49.205061,49.23473,49.19735,49.73332,49.230581,49.69925,49.882742,49.269616,50.23194,50.260938,49.126427,48.428839,48.791161,49.604568,49.475073,49.403055,49.61967,49.458439,49.249155,49.17178,49.152089,49.319922,53.912262,49.157538,49.269848,49.038359,49.780848,49.236114,49.002539,53.917541,55.24973,48.415392,49.31947,49.231785,50.028077,49.278645,48.784801,49.060214,49.710357,49.721265,49.153,49.281743,49.064778,49.002539,55.125479,50.060647,49.233974,49.26685,54.01657,49.230385,48.423194,48.42465,49.251118,49.254715,48.429428,49.19268,49.084868,49.722744,49.26497,50.123536,50.026249,49.839934,50.692661,49.259226,52.113719,49.258388,49.13298,54.31507,49.228651,49.28297,49.224123,49.249684,49.033872,48.803131,49.88616,49.49985,49.48062,49.87022,49.196803,48.496753,49.121094,49.721265,50.26729,49.527587,52.970033,53.863934,55.772736,49.193528,54.51634,49.164543,49.26379,49.10107,49.155611,49.244356,49.21939,49.279711,49.150454,49.280985,49.188351,49.150454,49.246548,49.027553,49.260869,49.246548,49.15502,49.292624,49.269616,49.901515,49.888736,49.501013,49.190034,50.908101,49.87086,49.872424,49.904146,49.952533,49.883656,50.0622,49.4992,50.4225,49.1817,49.840601,49.840566,49.883701,49.91619,49.914261,49.90265,49.880529,50.144174,49.895267,49.504077,49.4992,49.4992,49.893161,58.76811,49.815663,55.741703,49.863735,49.81852,49.893042,51.147735,51.14699,49.877271,49.822098,53.82509,52.106945,49.923499,49.17787,49.2406,49.915939,49.003831,49.919493,50.862516,49.89762,49.901328,49.871174,49.89459,51.082621,49.84692,54.76824,49.931148,51.1497,50.22569,49.55582,49.917169,49.875515,49.878325,51.1742,50.229095,49.189254,49.230285,49.868317,49.867155,49.881751,49.886006,49.909337,49.827384,49.96923,49.973026,50.258265,49.828947,49.913876,49.901318,49.860141,49.851517,49.882309,49.882484,49.93875,49.884289,49.52579,49.895267,49.880908,49.1817,49.928064,49.856882,49.842015,49.861621,51.148907,50.144956,49.966207,49.927529,49.911766,49.947749,49.933794,49.823733,49.910788,49.907025,49.889579,49.932741,49.902825,49.843779,49.271939,49.902293,49.890101,49.84692,50.251276,49.878833,51.230739,49.190067,49.352095,49.910034,50.498443,49.911887,49.88436,49.905069,50.234311,50.22892,49.60559,56.34745,54.62747,49.890613,49.886378,49.868171,49.853668,49.881682,50.14227,49.948847,49.5331,49.905627,49.879693,49.10469,49.879832,49.1817,49.526168,49.51688,49.66969,49.930234,50.631909,49.189742,54.76867,54.764557,49.203173,50.1489,49.982127,49.853285,49.894889,50.130997,50.781481,49.859461,49.925871,49.853941,49.916977,49.894032,49.90173,49.893258,49.895158,50.779195,49.10469,49.88025,49.90959,49.847938,50.134693,50.0622,49.867971,49.847938,49.926932,49.881708,49.887794,49.890494,50.144956,49.945077,50.99831,49.868875,51.222447,49.878467,50.668502,49.84862,49.937459,50.777815,49.894655,49.945742,49.884289,49.924248,50.147485,49.866563,55.745527,49.881921,49.863476,49.924533,49.895267,49.855763,49.900724,49.878602,49.853668,52.106201,50.1436,50.142313,50.150449,49.8844,50.43781,49.884982,49.878474,49.884057,49.190332,49.932011,49.842302,49.824434,49.86378,49.957212,49.81852,50.38581,53.822857,49.867737,49.895267,49.973085,49.525305,50.144956,49.858579,55.741412,49.892836,49.84692,49.938525,49.187796,49.854215,49.529213,49.877852,54.87903,49.853763,49.926932,49.911119,49.824498,49.52579,49.8844,49.508844,49.83039,49.1817,49.909266,49.817397,49.884057,49.881363,49.863766,51.052422,49.903467,49.52579,49.42623,50.13441,53.82509,49.827287,51.151115,50.182118,50.121351,50.142525,49.846678,52.105349,52.106296,52.1058,49.884752,50.631909,49.932965,49.878819,49.878986,49.853668,49.84692,53.822107,53.828188,49.867737,49.894891,55.747613,49.62941,49.357066,49.855192,49.193843,50.156408,49.52579,49.855688,49.847938,49.866227,51.14499,49.975553,55.745527,49.895267,49.896479,49.853668,54.76824,49.924533,49.885749,49.936363,49.853385,49.84692,49.970582,49.885852,49.953061,49.616567,49.181851,50.49972,49.889436,49.912074],&quot;lon&quot;:[-122.780686,-123.352762,-122.25257,-122.324,-123.136467,-121.76926,-123.069422,-123.069471,-122.471183,-126.915144,-122.988422,-122.593763,-117.807014,-123.962622,-119.551296,-122.997475,-119.184324,-121.280406,-119.271692,-122.799908,-122.89155,-125.545235,-123.274942,-122.892914,-122.689284,-122.997475,-122.799747,-123.136467,-123.071441,-120.789491,-122.345171,-123.096001,-122.994201,-123.140105,-123.151229,-122.67036,-122.666538,-122.290711,-122.771733,-122.932914,-123.14783,-122.95263,-123.114817,-125.24459,-122.812078,-122.997475,-122.888808,-122.888808,-122.288496,-124.03502,-119.425878,-123.369771,-119.570299,-117.664148,-123.33622,-124.026424,-123.940401,-123.958646,-123.938001,-124.123013,-124.03353,-123.94003,-123.719044,-123.136467,-121.95257,-119.578094,-120.2403,-120.318994,-122.997475,-124.924234,-123.128129,-123.363941,-123.377355,-123.098541,-123.100178,-122.919024,-123.129503,-122.841664,-119.425878,-120.388446,-122.25257,-122.746465,-123.496108,-122.655167,-123.110205,-125.01926,-121.978222,-123.513476,-124.995004,-124.995004,-125.206008,-123.75903,-115.748373,-123.366825,-122.25257,-122.989395,-122.841664,-122.951938,-122.89155,-121.28594,-123.091806,-122.94505,-119.570299,-119.273781,-125.7533,-122.121322,-123.101568,-123.063553,-119.495043,-119.491804,-119.453189,-122.94505,-114.8854,-119.15234,-123.312134,-122.796097,-123.140105,-121.960056,-122.932914,-122.89155,-122.801112,-123.3306,-123.370126,-123.43043,-123.497393,-132.08788,-122.708149,-123.330838,-123.364065,-119.184324,-121.441653,-122.786988,-124.8504,-122.65883,-122.498951,-122.80273,-117.542318,-122.331194,-123.09874,-123.031027,-123.113356,-121.966958,-122.932914,-122.31559,-122.801751,-120.3192,-122.60193,-116.976435,-123.328958,-123.336274,-116.9689,-122.637348,-122.60193,-122.667046,-127.091952,-125.54635,-127.49496,-122.785745,-123.098669,-123.062905,-123.031289,-122.937415,-123.091519,-123.056331,-123.327035,-122.30258,-122.330007,-123.81699,-121.95257,-119.272264,-121.441653,-123.485454,-115.053518,-122.911419,-123.710473,-123.7058,-124.053226,-124.050489,-123.702028,-123.707189,-123.604691,-123.64494,-116.91887,-120.186557,-120.3192,-120.334632,-120.3192,-119.578094,-122.137355,-119.405131,-123.352402,-123.39429,-116.03538,-123.11934,-119.458211,-122.33104,-122.650919,-123.510009,-123.123308,-121.942,-122.794326,-124.995004,-123.035854,-122.841664,-121.978222,-125.241328,-124.043523,-122.75262,-124.959443,-119.270652,-119.578094,-119.618572,-115.76879,-122.89155,-122.68965,-122.816946,-123.136555,-122.31559,-122.30258,-122.673349,-123.736189,-124.791436,-124.924234,-117.70223,-115.06871,-120.360844,-123.030419,-123.75903,-124.008086,-123.111741,-122.512498,-118.4356,-122.466882,-120.760198,-116.502501,-123.39431,-121.95257,-123.031289,-123.123902,-119.447619,-122.75262,-122.89155,-122.893966,-120.331993,-123.086563,-119.272264,-123.137792,-122.60193,-122.75301,-122.312205,-123.00261,-123.518393,-124.9936,-119.577723,-122.984126,-124.022992,-122.708741,-119.618572,-123.708316,-123.107959,-123.106099,-122.909873,-118.955999,-123.125127,-123.094221,-123.09374,-123.099261,-123.710244,-120.349348,-120.3578,-122.60193,-122.89155,-123.129295,-122.254483,-122.29309,-123.131495,-122.689284,-122.741404,-123.141142,-122.989226,-123.396395,-122.29309,-122.888808,-124.31575,-123.75903,-123.323482,-123.064799,-124.8028,-124.44231,-123.184253,-123.131495,-124.029789,-124.952485,-123.946941,-122.25257,-122.659121,-124.797829,-124.520571,-119.271326,-124.936882,-122.793407,-119.62774,-119.578094,-119.48568,-122.601248,-122.796097,-122.76932,-122.841664,-123.136467,-122.60193,-124.441417,-121.95257,-123.102143,-122.705658,-119.30237,-123.098669,-125.24459,-122.376633,-119.4691,-123.416824,-117.80226,-124.19332,-122.89155,-117.286499,-117.300508,-123.15631,-122.956461,-122.29309,-122.893618,-119.27337,-119.270722,-120.279041,-119.271326,-125.24459,-120.360027,-123.102143,-119.718501,-119.389092,-119.628635,-122.535888,-123.936189,-122.76932,-122.819275,-123.053583,-119.15234,-119.702779,-123.28056,-123.400307,-122.755424,-120.2403,-122.795615,-119.69278,-119.448268,-117.705914,-122.658927,-123.238577,-122.689032,-122.31559,-122.82688,-126.67008,-127.17428,-119.572195,-119.56667,-122.748607,-119.555513,-123.118855,-123.130477,-122.332501,-119.27337,-123.102143,-122.802831,-120.33499,-123.71937,-127.191322,-118.459743,-117.641242,-123.39429,-121.28594,-123.820843,-117.300508,-122.903962,-123.96573,-124.441417,-123.708327,-122.756098,-121.441653,-116.03538,-123.40262,-122.638911,-118.199239,-123.257935,-120.044441,-119.572195,-119.30237,-123.085974,-119.675546,-119.8357,-119.43118,-115.76879,-123.75903,-125.7533,-124.900507,-123.94003,-122.909873,-119.48568,-122.997475,-117.711043,-123.058285,-116.508319,-123.52018,-123.425693,-123.06868,-122.689032,-119.630457,-123.72762,-118.206877,-119.493495,-121.627931,-125.241328,-114.886968,-128.60345,-120.226486,-120.7942,-123.513476,-122.779722,-123.045648,-122.660971,-122.68965,-123.128405,-119.45237,-122.65883,-115.778805,-125.238194,-124.31575,-123.125063,-122.825872,-125.90744,-122.852449,-122.254483,-123.153533,-123.380867,-122.978198,-119.610998,-122.271638,-122.853924,-122.946372,-122.65883,-121.954917,-122.799908,-125.141724,-122.695281,-124.991479,-122.336984,-123.374134,-122.888808,-122.666709,-123.095461,-122.765825,-122.336984,-123.20988,-127.493095,-124.520571,-120.333936,-119.491228,-123.136467,-122.841664,-120.51076,-121.960605,-121.93518,-122.862311,-123.115953,-123.136099,-122.578602,-124.965591,-123.358144,-124.44231,-122.941178,-119.578094,-128.652711,-123.128157,-122.4931,-124.517702,-124.31575,-123.402852,-123.087397,-122.647748,-122.611414,-119.48568,-119.384485,-122.601248,-118.184016,-123.425693,-123.71937,-123.366042,-120.366741,-123.357318,-123.32283,-122.777198,-124.520571,-122.689032,-123.090403,-122.30258,-123.000777,-122.82688,-122.780686,-122.801112,-119.587841,-123.958646,-119.618572,-122.95263,-122.955808,-123.353364,-122.786988,-122.95275,-123.33022,-122.865528,-122.708741,-119.563781,-119.395652,-125.7533,-124.01982,-123.756351,-123.81699,-122.607402,-122.656089,-123.958646,-123.969068,-123.102143,-123.167389,-119.425878,-119.270722,-123.13506,-123.257935,-122.997475,-122.65883,-120.362355,-122.916321,-119.272264,-122.4931,-130.323269,-122.911419,-123.031877,-122.331194,-120.3192,-122.795615,-121.961339,-122.82688,-123.118855,-123.157857,-128.60345,-117.282168,-123.169836,-122.30258,-127.17428,-119.578094,-122.138718,-122.993638,-119.482752,-124.522363,-123.068058,-123.181116,-117.664148,-122.60193,-120.22456,-115.76879,-123.140105,-122.883743,-117.2689,-119.30237,-123.461841,-121.960056,-122.25257,-124.797829,-122.841664,-115.751741,-123.323727,-123.395235,-122.60193,-121.28594,-128.649545,-120.351274,-119.572195,-123.70266,-122.60193,-123.114817,-122.741404,-123.06868,-122.312205,-123.985525,-121.960056,-119.629065,-122.746465,-119.577723,-122.774998,-122.758697,-122.791864,-130.322244,-122.506592,-119.32947,-123.15631,-122.220005,-115.06871,-128.60345,-122.636442,-124.54926,-122.138718,-122.661725,-123.236283,-122.68965,-122.75262,-122.331194,-120.341971,-121.961339,-118.4356,-116.50211,-122.7002,-123.496108,-122.984126,-122.65883,-123.102143,-122.90136,-121.709256,-123.12937,-122.94505,-123.133719,-123.138285,-119.578094,-123.097583,-122.25257,-123.335039,-125.245529,-123.06868,-122.493949,-120.2403,-121.95257,-123.15631,-123.365445,-123.72762,-119.465809,-119.271326,-122.858981,-123.159794,-123.157949,-123.158854,-123.141065,-125.007203,-119.66911,-123.395235,-123.137792,-124.797829,-119.30237,-122.883743,-122.993638,-123.70266,-122.60805,-120.3192,-119.461366,-128.60345,-117.711043,-123.131603,-122.82688,-117.28553,-124.54926,-120.318994,-122.145364,-122.668954,-115.76879,-122.828115,-122.728211,-122.65883,-123.151771,-120.394362,-120.505191,-119.5524,-122.997475,-119.572195,-121.76926,-125.229811,-122.795615,-122.848021,-119.408932,-119.482752,-122.75262,-122.60193,-122.30258,-122.68965,-123.39429,-117.664148,-124.31575,-123.971689,-122.841664,-123.114817,-123.10275,-122.91092,-122.852449,-123.116883,-124.799174,-123.002789,-121.947292,-130.32098,-127.16222,-128.596526,-128.652711,-122.782769,-119.266722,-123.239517,-115.969655,-116.508319,-122.789918,-122.220005,-124.93613,-123.126941,-123.031289,-119.266037,-123.06842,-124.316833,-123.010135,-115.978375,-122.25257,-117.664148,-119.589749,-123.400307,-122.30258,-119.81872,-123.167395,-123.063463,-114.88532,-122.817501,-123.15631,-119.493495,-123.114817,-121.58196,-119.273682,-123.184253,-123.360882,-123.712858,-119.677682,-123.756308,-123.52417,-124.02319,-119.578094,-122.978198,-121.954917,-122.841664,-124.309997,-122.780889,-123.181116,-123.069304,-122.799908,-119.572195,-123.040773,-123.06868,-122.748593,-127.67025,-123.375198,-124.31575,-124.029789,-125.254965,-122.828298,-123.687518,-122.798199,-124.965591,-124.995004,-125.906615,-122.796097,-122.359903,-123.06868,-120.99975,-119.418315,-123.03487,-123.239517,-124.01982,-123.090239,-123.354613,-123.36032,-122.900742,-123.086279,-123.329371,-122.816946,-117.622227,-123.150841,-124.791436,-120.750664,-125.241328,-119.618572,-119.32947,-123.027288,-122.12569,-122.73781,-122.30258,-130.32098,-122.601248,-122.75262,-122.999931,-122.893966,-122.270986,-123.725622,-119.425295,-117.28553,-119.58584,-124.54926,-122.796514,-123.390411,-122.662799,-124.995004,-119.27337,-115.745749,-122.509026,-122.784111,-120.263287,-122.940023,-128.60345,-123.938057,-123.122237,-122.65883,-123.169836,-123.025893,-122.60193,-123.10763,-122.89155,-122.997475,-122.777198,-122.89155,-122.748054,-122.799747,-122.781116,-122.748054,-121.961339,-123.133719,-123.114817,-97.159541,-97.158586,-98.004418,-98.102481,-97.218394,-97.090417,-97.114177,-97.168024,-97.05574,-97.207381,-96.51669,-98.00156,-101.0484,-97.94104,-99.938971,-99.937663,-97.211897,-97.1469,-97.114631,-97.158281,-97.286387,-96.874354,-96.994215,-98.001779,-98.00156,-98.00156,-97.169721,-94.16674,-97.210044,-97.853955,-97.196541,-97.208906,-97.156912,-100.061038,-100.06195,-97.234426,-97.083081,-101.25413,-101.260132,-97.091216,-97.956029,-98.53749,-97.131968,-97.215701,-97.155501,-98.103731,-97.141547,-97.208534,-99.358528,-97.216538,-97.602938,-99.95306,-101.86497,-97.06898,-100.48865,-98.950569,-99.29191,-97.149758,-97.252718,-97.273988,-100.69867,-99.466543,-100.493853,-100.059363,-97.110584,-97.081469,-97.118944,-97.168521,-97.133572,-99.951899,-98.279153,-98.287797,-96.059349,-97.216361,-97.138888,-97.150081,-97.107499,-97.100815,-97.123419,-97.122997,-97.116552,-97.216715,-96.68451,-96.994215,-97.288381,-97.94104,-97.072233,-97.10508,-99.949599,-97.187226,-100.051166,-96.872634,-98.778254,-97.140636,-97.132779,-97.182727,-97.165016,-97.113773,-97.133238,-97.134144,-97.146994,-97.206609,-97.132555,-99.961703,-100.993635,-97.148883,-97.152863,-99.95306,-99.838551,-97.160453,-101.348992,-98.098542,-97.369831,-97.133214,-99.912847,-97.081411,-97.175214,-97.10634,-99.464379,-99.46642,-97.04234,-94.70808,-97.777004,-97.182429,-97.145411,-97.255986,-97.111622,-97.120042,-96.876293,-97.134027,-98.55856,-97.172828,-97.145062,-97.55961,-97.202438,-97.94104,-96.510416,-96.50029,-96.65,-97.122828,-97.000384,-98.101691,-101.877983,-101.876499,-98.894766,-95.88115,-98.296331,-97.167584,-97.005838,-97.328169,-101.287975,-97.165037,-97.124742,-97.074197,-97.119908,-97.14186,-97.145054,-97.164173,-97.020869,-99.495462,-97.55961,-97.271553,-97.133467,-97.077145,-97.33073,-96.51669,-97.161405,-97.077145,-97.105126,-97.294051,-97.159938,-97.142719,-96.872634,-97.086283,-96.99676,-97.12202,-101.361186,-97.273461,-100.81067,-99.949595,-97.080207,-101.276269,-97.14634,-97.086495,-97.216715,-97.143407,-96.877285,-99.96177,-97.850873,-97.115232,-97.133055,-97.195351,-96.994215,-97.102869,-96.986487,-97.148346,-97.111622,-101.264651,-96.88452,-96.870719,-96.882673,-97.14704,-100.59196,-97.171515,-97.216024,-97.123588,-97.93125,-97.166092,-99.937654,-97.083787,-97.316767,-97.094805,-97.208906,-97.26176,-101.250474,-97.136935,-96.994215,-98.289287,-96.683426,-96.872634,-97.167238,-97.851767,-97.145916,-99.95306,-97.092387,-98.100964,-97.071266,-96.679568,-97.228864,-100.0374,-97.16611,-97.105126,-97.028334,-97.102157,-96.68451,-97.14704,-96.68721,-97.100996,-97.94104,-97.025196,-97.132104,-97.123588,-97.121393,-97.157925,-99.523896,-97.160925,-96.68451,-98.754269,-97.32676,-101.25413,-99.953638,-100.048266,-100.594953,-100.031362,-96.870407,-100.927685,-101.268411,-101.263159,-101.26759,-97.123486,-97.000384,-97.172089,-97.219244,-97.210198,-97.111622,-99.95306,-101.251069,-101.250635,-97.136935,-97.006345,-97.870541,-98.69856,-97.364246,-100.9268,-97.936392,-96.898165,-96.68451,-97.158653,-97.077145,-99.961773,-100.054969,-98.321759,-97.850873,-96.994215,-97.195571,-97.111622,-101.86497,-97.195351,-97.153797,-97.118218,-99.946114,-99.95306,-98.304101,-97.156759,-95.972889,-100.257792,-97.93945,-96.97535,-97.147104,-97.107416],&quot;marker&quot;:{&quot;color&quot;:&quot;green&quot;,&quot;size&quot;:10}},{&quot;type&quot;:&quot;scattergeo&quot;,&quot;lat&quot;:[49.198845,49.051692,49.225844,59.785092,49.140937,49.320258,48.426922,49.321018,49.038359,49.152089,49.286551,49.10635,49.262639,49.10635,49.26636,48.696901,49.047077,49.185612,49.27706,49.170794,49.313175,49.038359,49.258451,49.155659,49.170794,49.172724,49.321018,49.213447,49.152089,49.060135,49.05798,49.27706,49.24966,49.038359,49.10635,49.202124,48.423997,49.170794,49.14399,49.27706,49.187084,53.884408,49.26636,49.17003,49.213447,49.21709,49.343248,null,49.237983,49.19268,49.152089,49.286103,48.429315,49.26636,49.176992,49.176465,49.262639,49.038359,48.441949,48.43294,48.427779,49.669456,49.257164,49.257164,49.257164,49.257164,49.152089,49.224089,49.152089,49.256766,49.193214,46.493607,49.249386,49.152089,49.187062,49.184657,49.27706,48.436934,48.43605,49.213447,49.191526,49.19268,48.54964,49.221947,49.202124,49.237983,49.258282,49.26636,54.99489,48.465052,48.445786,49.286103,49.24966,49.24966,49.19268,49.170919,49.261974,49.24966,49.10635,49.88307,null,49.173571,49.278841,49.343248,49.25403,49.234939,49.287334,49.28297,50.668392,48.434318,49.188351,49.285309,53.888619,null,null,49.321018,49.249386,49.839659,49.10635,48.500672,49.219898,49.101973,49.262639,49.321018,49.213447,49.152089,49.038359,49.212489,48.428514,49.05798,49.10107,49.278841,49.261974,48.425042,49.176147,49.1598,49.045534,48.39781,49.21709,49.133519,49.27706,48.43294,49.960525,49.262639,49.740523,49.050184,49.05798,49.320258,49.321018,49.25403,49.27706,49.31636,49.262639,49.242265,49.24966,49.237983,49.28297,49.25403,49.25403,49.281922,49.234939,49.28297,49.16312,49.116954,49.152089,49.17003,49.17246,49.202124,49.060309,49.27706,49.168284,49.263597,49.257164,48.43605,49.26636,49.16638,49.257193,49.10635,49.16638,49.178077,49.10635,49.17003,49.88307,53.923123,49.213447,49.169284,49.152089,49.27706,49.128334,49.27706,49.206701,49.10107,49.10635,49.16312,49.10635,49.25403,null,49.286103,49.20678,49.320024,49.322966,49.321018,49.23473,49.210534,49.28297,49.282576,null,48.39781,49.286103,49.257164,49.133737,49.089931,49.178077,null,49.17003,58.515507,49.10635,49.178077,49.185736,49.321018,49.25403,49.220453,49.218549,49.214683,49.178077,49.05798,49.26636,49.339497,49.839659,49.178077,49.195547,49.106579,49.17003,49.257164,49.17003,49.25403,49.237983,49.326389,49.25403,49.245293,49.249057,48.696901,49.10635,49.215457,49.187062,54.99489,48.499238,49.10635,49.172724,49.865752,49.155611,48.444956,49.337373,49.007399,49.10107,49.007399,49.257738,null,49.36672,49.26636,49.17003,49.10635,49.219898,49.262639,49.227254,49.261974,49.278841,49.188351,49.10635,49.26225,49.218753,49.88307,49.264925,49.173571,48.426448,50.314003,49.157538,49.103818,49.25403,49.300229,49.152089,49.098831,49.213447,49.045534,49.26911,49.262639,49.264797,49.36672,49.227254,49.330058,49.26636,49.202124,49.263243,49.330498,49.17003,48.428514,49.261974,49.237983,49.137854,49.10107,49.865752,48.471742,48.440045,null,48.471742,49.32862,null,null,49.219898,49.102246,48.447204,49.280165,53.923123,48.43294,49.16312,49.237983,49.351186,49.289784,null,48.43294,49.17003,49.224089,59.785092,49.152089,49.150454,49.326389,49.280985,49.045534,49.164395,49.038359,49.281903,49.249057,49.21709,49.178077,49.247912,49.229929,49.31636,49.184657,59.785092,49.116954,49.16638,null,49.261974,49.25403,49.10635,49.315453,59.785092,49.10635,49.213447,49.202124,49.038359,49.20678,48.43294,48.43294,53.335937,49.162062,49.248745,49.187084,49.350817,49.959714,49.14399,53.910279,49.17003,49.17003,48.43294,48.429315,null,null,49.31636,49.309314,49.249057,49.26636,49.168336,49.152089,49.800693,49.26636,49.88307,49.213447,49.01636,49.24966,49.10635,49.150454,49.10635,49.17003,49.262639,53.9166,49.351186,49.280985,49.257164,48.448202,49.17003,49.155611,48.429315,49.262639,49.26636,49.213447,49.10107,48.462936,49.262639,49.244658,49.10635,53.9166,48.696901,null,48.43294,null,49.24966,null,50.66648,49.264797,49.31636,49.144061,49.10107,48.54964,50.121427,49.212675,49.86563,49.16638,49.309314,null,49.321018,49.10107,49.220453,49.26636,49.16638,49.038359,56.895941,49.865752,49.261781,49.317636,49.198845,49.31636,53.9166,49.234939,49.24966,49.137854,49.10635,49.178077,49.28297,49.162062,49.10635,49.05798,49.281881,49.248173,49.25403,49.202124,49.26636,49.245685,59.785092,49.88307,49.10635,49.226132,49.28298,49.257164,49.219898,49.227254,49.213447,49.261974,49.05798,49.351186,49.88307,49.839659,49.237983,49.875416,49.28297,49.21082,49.055292,49.281863,49.178077,49.10635,48.442176,49.286103,49.178077,49.119581,49.038359,49.152089,49.157538,49.257164,49.261974,49.10635,49.26637,49.17003,49.213447,49.176465,48.428514,49.25403,49.202124,49.051268,48.43605,49.21709,48.43294,49.17246,49.155659,49.24966,49.262537,49.126712,49.14399,49.05798,null,49.20678,49.152089,49.150454,50.66648,49.339497,49.16638,49.16638,48.434318,49.170211,46.364022,49.16312,49.188351,49.176992,49.321018,49.257164,49.170794,49.150454,49.263243,49.262953,49.324839,49.263195,49.10107,null,49.05798,49.219898,49.264797,49.170794,49.050755,49.25403,49.923323,49.895136,49.89326,49.8844,null,49.8844,49.8844,null,49.880009,null,49.89241,null,49.8844,49.919633,49.8844,49.911708,49.911708,49.895444,49.904651,49.8844,49.952317,null,53.55118,49.83001,49.878474,49.8844,49.891612,null,49.8844,44.237201,49.199853,49.8844,49.903397,49.8844,49.904075,49.84692,null,49.8844,49.8844,null,null,49.8844,49.8844,49.947999,49.801454,49.897611,49.8844,43.679544,49.8844,49.521822,null,null,null,null,49.937843,49.906724,49.8844,49.8844,43.679544,null,null,49.84692,null,null,49.8844,49.8844,49.878474,49.8844,43.253854,49.8844,49.8844,49.8844,49.824498,null,49.923179,49.853668,49.926932,49.8844,49.868121,49.8844,49.8844,49.8844,49.896425,49.8844,49.8844,49.868121,49.878474,49.944074,49.856574,49.864279,49.8844,49.929974,49.896671,49.8844,49.929974,49.901745,49.8844,49.911708,49.890558,49.8844,49.89445,49.948715,49.8844,49.8844,49.878474,49.8844,49.824498,49.923179,49.868121,49.954514,49.8844,49.8844,49.901087,49.924533,null,49.864279,49.8844,49.877823,49.902623,49.923179,49.818635,49.878474,49.8844,44.72159,null,null,null,45.263492,49.8844,null,49.66969,49.923179,49.911708,49.8844,49.8844,49.8844,49.889043,49.8844,49.8844,49.8844,49.8844,49.896552,49.878474,49.929974,49.864279,null,49.8844,50.659655],&quot;hoverinfo&quot;:&quot;text&quot;,&quot;text&quot;:[&quot;13444 108 Ave, Surrey, BC  V3T 2K1, Canada zip: V3T 2K1&quot;,&quot;6 - 33324 South Fraser Way, Abbotsford, BC  V2S 2B4, Canada zip: V2S 2B4&quot;,&quot;118 - 5589 Byrne Rd, Burnaby, BC  V5J 3J1, Canada zip: V5J 3J1&quot;,&quot;106 - 27105 Fraser Hwy, Aldergrove, BC  V4W 3R2, Canada zip: V4W 3R2&quot;,&quot;101 - 12827 76 Ave, Surrey, BC  V3W 2V3, Canada zip: V3W 2V3&quot;,&quot;127 3rd St W, North Vancouver, BC  V7M 1E7, Canada zip: V7M 1E7&quot;,&quot;888 Pandora Ave, Victoria, BC  V8W 1P4, Canada zip: V8W 1P4&quot;,&quot;102 - 88 Lonsdale Ave, North Vancouver, BC  V7M 2E6, Canada zip: V7M 2E6&quot;,&quot;206 - 2828 152 St, Surrey, BC  V4P 1G6, Canada zip: V4P 1G6&quot;,&quot;10519 King George Blvd, Surrey, BC  V3T 2X1, Canada zip: V3T 2X1&quot;,&quot;400 - 1055 Dunsmuir St\\nPO Box 49326 - Van Stn Bentall Centre, Vancouver, BC  V7X 1L4, Canada zip: V7X 1L4&quot;,&quot;#101 - 19211 Fraser Hwy, Surrey, BC  V3S 7C9, Canada zip: V3S 7C9&quot;,&quot;845 Broadway W, Vancouver, BC  V5Z 1J9, Canada zip: V5Z 1J9&quot;,&quot;1673 - 128 Street, Surrey, BC  V4A 3V2, Canada zip: V4A 3V2&quot;,&quot;4451 Lougheed Hwy, Burnaby, BC  V5C 3Z2, Canada zip: V5C 3Z2&quot;,&quot;7143 W. Saanich Road, Brentwood Bay, BC  V8M 1P7, Canada zip: V8M 1P7&quot;,&quot;105 - 11267 125A St, Surrey, BC  V3V 8C5, Canada zip: V3V 8C5&quot;,&quot;#202 - 8322 130 St, Surrey, BC  V3W 8J9, Canada zip: V3W 8J9&quot;,&quot;5853 Victoria Drive, Vancouver, BC  V5P 3W5, Canada zip: V5P 3W5&quot;,&quot;177 - 8138 128 St, Surrey, BC  V3W 1R1, Canada zip: V3W 1R1&quot;,&quot;108 - 930 1st St W, North Vancouver, BC  V7P 3N4, Canada zip: V7P 3N4&quot;,&quot;107 - 8927 152 St, Surrey, BC  V3R 4E5, Canada zip: V3R 4E5&quot;,&quot;3317 Wesbrook Mall, Vancouver, BC  V6S 0B1, Canada zip: V6S 0B1&quot;,&quot;Unit A - 46298 Yale Rd, Chilliwack, BC  V2P 2P6, Canada zip: V2P 2P6&quot;,&quot;10269 128 St, Surrey, BC  V3T 2Z2, Canada zip: V3T 2Z2&quot;,&quot;#16 - 2220 Bowen Road, Nanaimo, BC  V9S 1H9, Canada zip: V9S 1H9&quot;,&quot;1562 Lonsdale Ave, North Vancouver, BC  V7M 2J3, Canada zip: V7M 2J3&quot;,&quot;3963 Kingsway, Burnaby, BC  V5H 1Y7, Canada zip: V5H 1Y7&quot;,&quot;105 - 9093 King George Blvd., Surrey, BC  V3V 5V7, Canada zip: V3V 5V7&quot;,&quot;102 - 7170 188 St, Surrey, BC  V4N 6R4, Canada zip: V4N 6R4&quot;,&quot;#1 - 2629 Cedar Park Place, Abbotsford, BC  V2T 3S4, Canada zip: V2T 3S4&quot;,&quot;4918 Victoria Drive, Vancouver, BC  V5P 3T6, Canada zip: V5P 3T6&quot;,&quot;Unit B - 622 Bute St, Vancouver, BC  V6E 3M1, Canada zip: V6E 3M1&quot;,&quot;101 - 10183 152A St, Surrey, BC  V3R 4H6, Canada zip: V3R 4H6&quot;,&quot;103 - 15420 Fraser Hwy, Surrey, BC  V3R 3P5, Canada zip: V3R 3P5&quot;,&quot;317 Columbia St E, New Westminster, BC  V3L 3W8, Canada zip: V3L 3W8&quot;,&quot;210 - 990 Fort Street, Victoria, BC  V8V 3K2, Canada zip: V8V 3K2&quot;,&quot;#102 - 9648 - 128th St, Surrey, BC  V3T 2X9, Canada zip: V3T 2X9&quot;,&quot;Unit 5 - 1080 Cliveden Ave, Delta, BC  V3M 6G6, Canada zip: V3M 6G6&quot;,&quot;5316 Victoria Dr, Vancouver, BC  V5P 3V7, Canada zip: V5P 3V7&quot;,&quot;6700 Island Highway, Nanaimo, BC  V9V 1K8, Canada zip: V9V 1K8&quot;,&quot;2555 Range Road, Prince George, BC  V2N 4G8, Canada zip: V2N 4G8&quot;,&quot;4500 Still Creek Dr, Burnaby, BC  V5C 0E5, Canada zip: V5C 0E5&quot;,&quot;Unit 103 - 7435 Nelson Rd, Richmond, BC  V6W 1G3, Canada zip: V6W 1G3&quot;,&quot;1611 - 4500 Kingsway, Burnaby, BC  V5H 2A9, Canada zip: V5H 2A9&quot;,&quot;1232 Davie St, Vancouver, BC  V6E 1N3, Canada zip: V6E 1N3&quot;,&quot;1401 St. Georges Ave., North Vancouver, BC  V7L 3J3, Canada zip: V7L 3J3&quot;,&quot;1111 Springfield Road, Kelowna, BC  V1Y 8R7, Canada zip: V1Y 8R7&quot;,&quot;2021 Commercial Drive, Vancouver, BC  V5N 4B1, Canada zip: V5N 4B1&quot;,&quot;102 - 14045 104 Ave, Surrey, BC  V3T 1X4, Canada zip: V3T 1X4&quot;,&quot;#101 - 10663 King George Blvd, Surrey, BC  V3T 2X6, Canada zip: V3T 2X6&quot;,&quot;398 Hastings St E, Vancouver, BC  V6A 1P4, Canada zip: V6A 1P4&quot;,&quot;3540 Blanshard St, Victoria, BC  V8X 1W3, Canada zip: V8X 1W3&quot;,&quot;Unit 125 - 2250 Boundary Rd, Burnaby, BC  V5M 3Z3, Canada zip: V5M 3Z3&quot;,&quot;12815B  96 Ave, Surrey, BC  V3V 6V9, Canada zip: V3V 6V9&quot;,&quot;5581 204 St, Langley, BC  V3A 1Z4, Canada zip: V3A 1Z4&quot;,&quot;1111 West Broadway, Vancouver, BC  V6H 1G1, Canada zip: V6H 1G1&quot;,&quot;305 - 9014 152 St, Surrey, BC  V3R 4E7, Canada zip: V3R 4E7&quot;,&quot;1 - 101 Burnside Rd, Victoria, BC  V9A 1B7, Canada zip: V9A 1B7&quot;,&quot;Unit 111 - 755 Goldstream Ave, Victoria, BC  V9B 2X4, Canada zip: V9B 2X4&quot;,&quot;922 Pandora Ave, Victoria, BC  V8V 3P3, Canada zip: V8V 3P3&quot;,&quot;#300 - 9730 - 101st Ave, Fort St. John, BC  V1J 2A8, Canada zip: V1J 2A8&quot;,&quot;3373 Fraser Street, Vancouver, BC  V5V 4C2, Canada zip: V5V 4C2&quot;,&quot;4127 Fraser St, Vancouver, BC  V5V 4E9, Canada zip: V5V 4E9&quot;,&quot;4207 Fraser St, Vancouver, BC  V5V 4G1, Canada zip: V5V 4G1&quot;,&quot;6448 Fraser St., Vancouver, BC  V5W 3A4, Canada zip: V5W 3A4&quot;,&quot;#101 - 10677 King George Blvd, Surrey, BC  V3T 2X6, Canada zip: V3T 2X6&quot;,&quot;4315 Canada Way, Burnaby, BC  V5G 1J3, Canada zip: V5G 1J3&quot;,&quot;101 - 10751 King George Blvd, Surrey, BC  V3T 2X6, Canada zip: V3T 2X6&quot;,&quot;320 Gilmore Ave, Burnaby, BC  V5C 4R1, Canada zip: V5C 4R1&quot;,&quot;105-106, 19515 - 56th Ave, Surrey, BC  V3S 6K3, Canada zip: V3S 6K3&quot;,&quot;Bay B\\n417 304th St, Marysville, BC  V1A 3H4, Canada zip: V1A 3H4&quot;,&quot;210 - 329 North Rd, Coquitlam, BC  V3K 3V8, Canada zip: V3K 3V8&quot;,&quot;103 - 6321 King George Blvd, Surrey, BC  V3X 1G1, Canada zip: V3X 1G1&quot;,&quot;200 - 15135 101 Ave, Surrey, BC  V3R 7Z1, Canada zip: V3R 7Z1&quot;,&quot;170 - 8980 No. 3 Rd, Richmond, BC  V6Y 2E8, Canada zip: V6Y 2E8&quot;,&quot;5448 Victoria Drive, Vancouver, BC  V5P 3V8, Canada zip: V5P 3V8&quot;,&quot;3825 Cadboro Bay Road, Victoria, BC  V8N 4G1, Canada zip: V8N 4G1&quot;,&quot;3643 Shelbourne Street, Victoria, BC  V8P 4H1, Canada zip: V8P 4H1&quot;,&quot;#102 - 7188 Kingsway, Burnaby, BC  V5E 1G3, Canada zip: V5E 1G3&quot;,&quot;110 - 6245 136 St, Surrey, BC  V3X 1H3, Canada zip: V3X 1H3&quot;,&quot;103 - 13805 104 Ave, Surrey, BC  V3T 1W7, Canada zip: V3T 1W7&quot;,&quot;#103 - 7784 East Saanich Road, Saanichton, BC  V8M 2B3, Canada zip: V8M 2B3&quot;,&quot;4648 Imperial St, Burnaby, BC  V5J 1B8, Canada zip: V5J 1B8&quot;,&quot;447 East Columbia Street, New Westminster, BC  V3L 3X3, Canada zip: V3L 3X3&quot;,&quot;1623 Commercial Dr, Vancouver, BC  V5L 3Y3, Canada zip: V5L 3Y3&quot;,&quot;7944 Winston St, Burnaby, BC  V5A 2H5, Canada zip: V5A 2H5&quot;,&quot;Unit 1 - 4655 Central Blvd, Burnaby, BC  V5H 4J5, Canada zip: V5H 4J5&quot;,&quot;Unit A - 845 Deloume Rd\\nRR 2, Mill Bay, BC  V0R 2P2, Canada zip: V0R 2P2&quot;,&quot;#106 - 284 Helmcken Road, Victoria, BC  V9B 1T2, Canada zip: V9B 1T2&quot;,&quot;211 - 3214 Douglas St, Victoria, BC  V8Z 3K6, Canada zip: V8Z 3K6&quot;,&quot;410 East Hastings Street, Vancouver, BC  V6A 1P7, Canada zip: V6A 1P7&quot;,&quot;Unit 290 - 2083 Alma St., Vancouver, BC  V6R 4N6, Canada zip: V6R 4N6&quot;,&quot;5591 West Boulevard, Vancouver, BC  V6M 3W6, Canada zip: V6M 3W6&quot;,&quot;102 - 14333 104 Ave, Surrey, BC  V3T 0E1, Canada zip: V3T 0E1&quot;,&quot;10051 Whalley Blvd, Surrey, BC  V3T 4G1, Canada zip: V3T 4G1&quot;,&quot;1671 Kingsway, Vancouver, BC  V5N 2S2, Canada zip: V5N 2S2&quot;,&quot;5413 West Blvd, Vancouver, BC  V6M 3W5, Canada zip: V6M 3W5&quot;,&quot;North Surrey Medical Building\\n#100 - 9656 King George Blvd, Surrey, BC  V3T 2V5, Canada zip: V3T 2V5&quot;,&quot;#112A - 2365 Gordon Drive, Kelowna, BC  V1W 3C2, Canada zip: V1W 3C2&quot;,&quot;374B Stuart Dr W\\nBox 760, Fort St. James, BC  V0J 1P0, Canada zip: V0J 1P0&quot;,&quot;#101 - 13710  94A Ave, Surrey, BC  V3V 1N1, Canada zip: V3V 1N1&quot;,&quot;1519 Robson St, Vancouver, BC  V6G 1C3, Canada zip: V6G 1C3&quot;,&quot;1309 St. Georges Ave, North Vancouver, BC  V7L 3J2, Canada zip: V7L 3J2&quot;,&quot;4484 Main Street, Vancouver, BC  V5V 3R3, Canada zip: V5V 3R3&quot;,&quot;350 Marine Dr SE, Vancouver, BC  V5X 2S5, Canada zip: V5X 2S5&quot;,&quot;1105 Eaton Centre\\n4700 Kingsway, Burnaby, BC  V5H 4M1, Canada zip: V5H 4M1&quot;,&quot;1301 Lougheed Highway, Coquitlam, BC  V3K 6P9, Canada zip: V3K 6P9&quot;,&quot;910 Columbia Street W., Kamloops, BC  V2C 1L2, Canada zip: V2C 1L2&quot;,&quot;835 Langford Pky, Victoria, BC  V9B 4V5, Canada zip: V9B 4V5&quot;,&quot;2332 160 St, Surrey, BC  V3Z 0R5, Canada zip: V3Z 0R5&quot;,&quot;333 Seymour Blvd., North Vancouver, BC  V7J 2J4, Canada zip: V7J 2J4&quot;,&quot;2155 Ferry Ave, Prince George, BC  V2N 5E8, Canada zip: V2N 5E8&quot;,&quot;2280 Baron Rd, Kelowna, BC  V1X 7W3, Canada zip: V1X 7W3&quot;,&quot;Unit 1 - 9831 98A Ave, Fort St. John, BC  V1J 1S3, Canada zip: V1J 1S3&quot;,&quot;1650 Lonsdale Ave, North Vancouver, BC  V7M 2J3, Canada zip: V7M 2J3&quot;,&quot;455 North Rd, Coquitlam, BC  V3K 3V9, Canada zip: V3K 3V9&quot;,&quot;127 - 1835 Gordon Drive, Kelowna, BC  V1Y 3H4, Canada zip: V1Y 3H4&quot;,&quot;18765 Fraser Hwy\\nRR 10, Surrey, BC  V3S 8E7, Canada zip: V3S 8E7&quot;,&quot;1900 Garibaldi Way\\nBox 190, Garibaldi Highlands, BC  V0N 1T0, Canada zip: V0N 1T0&quot;,&quot;710 Granville St, Vancouver, BC  V6Z 1E4, Canada zip: V6Z 1E4&quot;,&quot;Westminster Centre\\n#100 - 555 Sixth St, New Westminster, BC  V3L 5H1, Canada zip: V3L 5H1&quot;,&quot;525 Broadway W, Vancouver, BC  V5Z 1E6, Canada zip: V5Z 1E6&quot;,&quot;2032 Lonsdale Ave., North Vancouver, BC  V7M 2K5, Canada zip: V7M 2K5&quot;,&quot;4970 Kingsway, Burnaby, BC  V5H 2E2, Canada zip: V5H 2E2&quot;,&quot;10348 King George Blvd, Surrey, BC  V3T 2W5, Canada zip: V3T 2W5&quot;,&quot;2300 10355 152nd St, Surrey, BC  V3R 7B9, Canada zip: V3R 7B9&quot;,&quot;London Plaza\\n5971 No. 3 Road, Richmond, BC  V6X 2E3, Canada zip: V6X 2E3&quot;,&quot;#127 - 3995 Quadra St., Victoria, BC  V8X 1J8, Canada zip: V8X 1J8&quot;,&quot;West Oaks Mall\\n#26 - 32700 S. Fraser Way, Abbotsford, BC  V2T 4M5, Canada zip: V2T 4M5&quot;,&quot;Unit B1 - 20202  66 Ave, Langley, BC  V2Y 1P3, Canada zip: V2Y 1P3&quot;,&quot;1187 Robson St., Vancouver, BC  V6E 1B5, Canada zip: V6E 1B5&quot;,&quot;3328 Kingsway, Vancouver, BC  V5R 5L1, Canada zip: V5R 5L1&quot;,&quot;#201 - 911 Yates St., Victoria, BC  V8V 3M4, Canada zip: V8V 3M4&quot;,&quot;#2 - 650 Terminal Ave, Nanaimo, BC  V9R 5E2, Canada zip: V9R 5E2&quot;,&quot;Cottonwood Mall\\n#21 - 45585 Luckakuck Way, Chilliwack, BC  V2R 1A1, Canada zip: V2R 1A1&quot;,&quot;#100 - 15355 - 24 Ave, Surrey, BC  V4A 2H9, Canada zip: V4A 2H9&quot;,&quot;1907 Sooke Rd, Victoria, BC  V9B 1V8, Canada zip: V9B 1V8&quot;,&quot;1650 Davie Street, Vancouver, BC  V6G 1V9, Canada zip: V6G 1V9&quot;,&quot;#3200 - 11666 Steveston Hwy., Richmond, BC  V7A 5J3, Canada zip: V7A 5J3&quot;,&quot;5639 Victoria Drive, Vancouver, BC  V5P 3W2, Canada zip: V5P 3W2&quot;,&quot;Box 3\\n3170 Tillicum Road, Victoria, BC  V9A 7C5, Canada zip: V9A 7C5&quot;,&quot;Mariner Square\\n#260 - 1400 Dogwood St, Campbell River, BC  V9W 3A6, Canada zip: V9W 3A6&quot;,&quot;2230 Broadway W, Vancouver, BC  V6K 2E3, Canada zip: V6K 2E3&quot;,&quot;Garibaldi Village\\nUnit G - 40282 Glenalder Pl, Squamish, BC  V8B 0G2, Canada zip: V8B 0G2&quot;,&quot;#130 - 15850 26 Ave, Surrey, BC  V3Z 2N6, Canada zip: V3Z 2N6&quot;,&quot;Highstreet Mall\\nL110 - 3122 Mt Lehman Rd, Abbotsford, BC  V2T 0C5, Canada zip: V2T 0C5&quot;,&quot;105 3rd St E, North Vancouver, BC  V7M 2G1, Canada zip: V7M 2G1&quot;,&quot;1531 Lonsdale Ave, North Vancouver, BC  V7M 2J2, Canada zip: V7M 2J2&quot;,&quot;535 Main St., Vancouver, BC  V6A 2V1, Canada zip: V6A 2V1&quot;,&quot;#7 - 5579 Victoria Dr, Vancouver, BC  V5P 3W2, Canada zip: V5P 3W2&quot;,&quot;104 - 1200 Lynn Valley Rd, North Vancouver, BC  V7J 2A2, Canada zip: V7J 2A2&quot;,&quot;2188 W. Broadway, Vancouver, BC  V6K 2C8, Canada zip: V6K 2C8&quot;,&quot;Fairmont Medical Bldg.\\n746 W. Broadway, Vancouver, BC  V5Z 1G8, Canada zip: V5Z 1G8&quot;,&quot;2nd Floor - 148 West 6th Ave, Vancouver, BC  V5Y 1K6, Canada zip: V5Y 1K6&quot;,&quot;2591 Commercial Dr, Vancouver, BC  V5N 4C1, Canada zip: V5N 4C1&quot;,&quot;Rm.108 - 1015 Austin Ave., Coquitlam, BC  V3K 3N9, Canada zip: V3K 3N9&quot;,&quot;1149 Main St, Vancouver, BC  V6A 4B6, Canada zip: V6A 4B6&quot;,&quot;7297 Main St, Vancouver, BC  V5X 3J3, Canada zip: V5X 3J3&quot;,&quot;15 E. Hastings St., Vancouver, BC  V6A 1M9, Canada zip: V6A 1M9&quot;,&quot;239 Marine Dr SE, Vancouver, BC  V5X 2S4, Canada zip: V5X 2S4&quot;,&quot;#201B - 1194 Lansdowne Dr, Coquitlam, BC  V3E 1J7, Canada zip: V3E 1J7&quot;,&quot;110 - 13588 88 Ave, Surrey, BC  V3W 3K8, Canada zip: V3W 3K8&quot;,&quot;9839 138 St, Surrey, BC  V3T 5E3, Canada zip: V3T 5E3&quot;,&quot;10225 King George Blvd, Surrey, BC  V3T 2W6, Canada zip: V3T 2W6&quot;,&quot;Unit 190 - 7031 Westminster Hwy, Richmond, BC  V6X 1A3, Canada zip: V6X 1A3&quot;,&quot;20435 Douglas Cres, Langley, BC  V3A 4B6, Canada zip: V3A 4B6&quot;,&quot;413 East Columbia St., New Westminster, BC  V3L 0B4, Canada zip: V3L 0B4&quot;,&quot;#9 - 31205 MacLure Rd, Abbotsford, BC  V2T 5E5, Canada zip: V2T 5E5&quot;,&quot;6495 Victoria Dr., Vancouver, BC  V5P 3X5, Canada zip: V5P 3X5&quot;,&quot;Fleetwood Professional Centre\\n#104 - 16088 - 84th Ave, Surrey, BC  V4N 0V9, Canada zip: V4N 0V9&quot;,&quot;#101 - 777 West Broadway, Vancouver, BC  V5Z 4J7, Canada zip: V5Z 4J7&quot;,&quot;6180 Fraser St, Vancouver, BC  V5W 3A1, Canada zip: V5W 3A1&quot;,&quot;#4 - 4071 Shelbourne St, Victoria, BC  V8N 5Y1, Canada zip: V8N 5Y1&quot;,&quot;Unit M41 - 4277 Kingsway, Burnaby, BC  V5H 3Z2, Canada zip: V5H 3Z2&quot;,&quot;2A - 1834 Cedar Rd, Nanaimo, BC  V9X 1H9, Canada zip: V9X 1H9&quot;,&quot;#6 - 3195 Granville St., Vancouver, BC  V6H 3K2, Canada zip: V6H 3K2&quot;,&quot;#303 - 15988 Fraser Hwy, Surrey, BC  V4N 0X8, Canada zip: V4N 0X8&quot;,&quot;A - 4186 Departure Bay Rd, Nanaimo, BC  V9T 4B7, Canada zip: V9T 4B7&quot;,&quot;#2 - 8181 - 120A Street, Surrey, BC  V3W 3P2, Canada zip: V3W 3P2&quot;,&quot;Unit 12 - 6828 128 St, Surrey, BC  V3W 4C9, Canada zip: V3W 4C9&quot;,&quot;Unit 1110, Ground Floor\\n13560 Maycrest Way, Richmond, BC  V6V 2W9, Canada zip: V6V 2W9&quot;,&quot;180 - 1516 Keehn Rd, Kelowna, BC  V1X 5T3, Canada zip: V1X 5T3&quot;,&quot;1531 Victoria St, Prince George, BC  V2L 2L4, Canada zip: V2L 2L4&quot;,&quot;4649 Kingsway, Burnaby, BC  V5H 2B3, Canada zip: V5H 2B3&quot;,&quot;#102 - 7380 Westminster Hwy, Richmond, BC  V6X 1A1, Canada zip: V6X 1A1&quot;,&quot;100 - 6329 King George Blvd, Surrey, BC  V3X 1G1, Canada zip: V3X 1G1&quot;,&quot;6255 Victoria Dr, Vancouver, BC  V5P 3X5, Canada zip: V5P 3X5&quot;,&quot;Richmond Public Market\\n1130 - 8260 Westminster Hwy, Richmond, BC  V6X 3Y2, Canada zip: V6X 3Y2&quot;,&quot;6689 Victoria Dr, Vancouver, BC  V5P 3Y2, Canada zip: V5P 3Y2&quot;,&quot;1299 Nanaimo St, Vancouver, BC  V5L 4T5, Canada zip: V5L 4T5&quot;,&quot;PO Box 1680\\n102 - 9103 Glover Rd, Langley, BC  V1M 0E8, Canada zip: V1M 0E8&quot;,&quot;113 - 12578 72nd Ave, Surrey, BC  V3W 2M6, Canada zip: V3W 2M6&quot;,&quot;101 - 12565 88 Ave, Surrey, BC  V3W 3J7, Canada zip: V3W 3J7&quot;,&quot;Unit 17 - 15300 105 Ave, Surrey, BC  V3R 6A7, Canada zip: V3R 6A7&quot;,&quot;6410 Main St., Vancouver, BC  V5W 2V4, Canada zip: V5W 2V4&quot;,&quot;9000 University High St, Burnaby, BC  V5A 0C1, Canada zip: V5A 0C1&quot;,&quot;463 Hastings St E, Vancouver, BC  V6A 1P5, Canada zip: V6A 1P5&quot;,&quot;25 - Eighth Ave, New Westminster, BC  V3L 1X6, Canada zip: V3L 1X6&quot;,&quot;#101 - 145 East 13th St., North Vancouver, BC  V7L 2L4, Canada zip: V7L 2L4&quot;,&quot;113 West 16th St, North Vancouver, BC  V7M 1T3, Canada zip: V7M 1T3&quot;,&quot;120 - 1100 Lonsdale Ave, North Vancouver, BC  V7M 2H3, Canada zip: V7M 2H3&quot;,&quot;2732 41st Ave E, Vancouver, BC  V5R 2X1, Canada zip: V5R 2X1&quot;,&quot;1880 Marine Drive, West Vancouver, BC  V7V 1J6, Canada zip: V7V 1J6&quot;,&quot;#100A - 504 Cottonwood Ave, Coquitlam, BC  V3J 2R5, Canada zip: V3J 2R5&quot;,&quot;#130 - 1 East Cordova St, Vancouver, BC  V6A 4H3, Canada zip: V6A 4H3&quot;,&quot;152 - 1876 Cooper Rd, Kelowna, BC  V1Y 9N6, Canada zip: V1Y 9N6&quot;,&quot;103 - 1910 Sooke Rd, Victoria, BC  V9B 1V7, Canada zip: V9B 1V7&quot;,&quot;199 East Hastings St., Vancouver, BC  V6A 1N5, Canada zip: V6A 1N5&quot;,&quot;4336 Fraser St., Vancouver, BC  V5V 4G3, Canada zip: V5V 4G3&quot;,&quot;101 - 15122 72 Ave, Surrey, BC  V3S 2G2, Canada zip: V3S 2G2&quot;,&quot;11944 88 Ave, Delta, BC  V4C 3C8, Canada zip: V4C 3C8&quot;,&quot;101 - 8386 120 St, Surrey, BC  V3W 3N4, Canada zip: V3W 3N4&quot;,&quot;#110 - 3001 Gordon Ave, Coquitlam, BC  V3C 2K7, Canada zip: V3C 2K7&quot;,&quot;Yaohan Centre\\n#2260 - 3700 No. 3 Road, Richmond, BC  V6X 3X2, Canada zip: V6X 3X2&quot;,&quot;9840 101 Ave, Fort St. John, BC  V1J 2B2, Canada zip: V1J 2B2&quot;,&quot;107 - 15551 Fraser Hwy, Surrey, BC  V3S 2V8, Canada zip: V3S 2V8&quot;,&quot;104 - 8140 120 St, Surrey, BC  V3W 3N3, Canada zip: V3W 3N3&quot;,&quot;115 - 6363 168 St, Surrey, BC  V3S 2Y2, Canada zip: V3S 2Y2&quot;,&quot;102 - 1200 Lonsdale Ave, North Vancouver, BC  V7M 3H6, Canada zip: V7M 3H6&quot;,&quot;3882 Main St, Vancouver, BC  V5V 3N9, Canada zip: V5V 3N9&quot;,&quot;100 - 22470 Dewdney Trunk Rd, Maple Ridge, BC  V2X 5Z6, Canada zip: V2X 5Z6&quot;,&quot;571 West 57th Ave., Vancouver, BC  V6P 1R8, Canada zip: V6P 1R8&quot;,&quot;5203 Rumble Street, Burnaby, BC  V5J 2B7, Canada zip: V5J 2B7&quot;,&quot;101 - 8338 120 St, Surrey, BC  V3W 3N4, Canada zip: V3W 3N4&quot;,&quot;Unit 102 - 2752 Allwood St, Abbotsford, BC  V2T 3R7, Canada zip: V2T 3R7&quot;,&quot;Unit A - 7487 Edmonds St, Burnaby, BC  V3N 1B3, Canada zip: V3N 1B3&quot;,&quot;Capilano Mall\\n60 - 935 Marine Dr, North Vancouver, BC  V7P 1S3, Canada zip: V7P 1S3&quot;,&quot;104 - 1824 Gordon Dr, Kelowna, BC  V1Y 0E2, Canada zip: V1Y 0E2&quot;,&quot;110 - 6350 120 St, Surrey, BC  V3X 3K1, Canada zip: V3X 3K1&quot;,&quot;101 - 12005 238B St, Maple Ridge, BC  V4R 1W1, Canada zip: V4R 1W1&quot;,&quot;1517 57 Ave W, Vancouver, BC  V6P 6E9, Canada zip: V6P 6E9&quot;,&quot;Suite 1103.8 - 3880 Grant McConachie Way\\nVanc. Int&#39;l Airport, Domestic Terminal, Richmond, BC  V7B 0A5, Canada zip: V7B 0A5&quot;,&quot;6447 Fraser St, Vancouver, BC  V5W 3A6, Canada zip: V5W 3A6&quot;,&quot;Unit 1020 - 4151 Hazelbridge Way, Richmond, BC  V6X 4J7, Canada zip: V6X 4J7&quot;,&quot;16 - 2949 Main St, Vancouver, BC  V5T 3G4, Canada zip: V5T 3G4&quot;,&quot;1308 Commercial Dr, Vancouver, BC  V5L 3X6, Canada zip: V5L 3X6&quot;,&quot;103 - 2609 Westview Dr, North Vancouver, BC  V7N 4M2, Canada zip: V7N 4M2&quot;,&quot;4628 Main St, Vancouver, BC  V5V 3R7, Canada zip: V5V 3R7&quot;,&quot;1007 - 3713 Kensington Ave, Burnaby, BC  V5B 0A7, Canada zip: V5B 0A7&quot;,&quot;1109 Austin Ave., Coquitlam, BC  V3K 3P4, Canada zip: V3K 3P4&quot;,&quot;101-7111 West Saanich Rd, Brentwood Bay, BC  V8M 1P7, Canada zip: V8M 1P7&quot;,&quot;Dell Shopping Centre\\n10654 King George Blvd, Surrey, BC  V3T 2X3, Canada zip: V3T 2X3&quot;,&quot;8697 - 10th Ave, Burnaby, BC  V3N 2S9, Canada zip: V3N 2S9&quot;,&quot;#119 - 15280 - 101st Ave., Surrey, BC  V3R 8X7, Canada zip: V3R 8X7&quot;,&quot;#11A - 2720 Mill Bay Road\\nBox 160, Mill Bay, BC  V0R 2P0, Canada zip: V0R 2P0&quot;,&quot;#310 - 777 Royal Oak Dr., Victoria, BC  V8X 4V1, Canada zip: V8X 4V1&quot;,&quot;#409 - 15940 Fraser Highway, Surrey, BC  V4N 0X8, Canada zip: V4N 0X8&quot;,&quot;1816 Bowen Rd, Nanaimo, BC  V9S 5W4, Canada zip: V9S 5W4&quot;,&quot;104 - 330 Highway 33 W, Kelowna, BC  V1X 1X9, Canada zip: V1X 1X9&quot;,&quot;130 - 8780 Blundell Rd, Richmond, BC  V6Y 3Y8, Canada zip: V6Y 3Y8&quot;,&quot;1641 Hillside Ave., Victoria, BC  V8T 5G1, Canada zip: V8T 5G1&quot;,&quot;3233 Connaught Cres, North Vancouver, BC  V7R 2V7, Canada zip: V7R 2V7&quot;,&quot;376 175A St, Surrey, BC  V3S 6S7, Canada zip: V3S 6S7&quot;,&quot;P.O. Box 940 Stn Fort Langley\\n#100 - 23148 96 Ave, Langley, BC  V1M 2S3, Canada zip: V1M 2S3&quot;,&quot;5778 - 176A St, Surrey, BC  V3S 4H3, Canada zip: V3S 4H3&quot;,&quot;1025 15th Ave W, Vancouver, BC  V6H 1R7, Canada zip: V6H 1R7&quot;,&quot;#103 - 625 - 5th Ave, New Westminster, BC  V3M 1X4, Canada zip: V3M 1X4&quot;,&quot;Unit J3 - 925 Main Street, West Vancouver, BC  V7T 2Z3, Canada zip: V7T 2Z3&quot;,&quot;Summitview Medical Centre\\n100A - 3300 Boundary Rd, Burnaby, BC  V5M 4A4, Canada zip: V5M 4A4&quot;,&quot;Richlea Shopping Centre\\n116 - 10151 No. 3 Rd, Richmond, BC  V7A 4R6, Canada zip: V7A 4R6&quot;,&quot;15168 Fraser Hwy, Surrey, BC  V3R 3P1, Canada zip: V3R 3P1&quot;,&quot;2580 Granville St, Vancouver, BC  V6H 3G8, Canada zip: V6H 3G8&quot;,&quot;1671 Broadway E, Vancouver, BC  V5N 1V9, Canada zip: V5N 1V9&quot;,&quot;5791 Oak St, Vancouver, BC  V6M 2V7, Canada zip: V6M 2V7&quot;,&quot;1808 Kingsway, Vancouver, BC  V5N 2S7, Canada zip: V5N 2S7&quot;,&quot;1747 Robson St, Vancouver, BC  V6G 1C9, Canada zip: V6G 1C9&quot;,&quot;#10 - 2448 160 St, Surrey, BC  V3Z 0C8, Canada zip: V3Z 0C8&quot;,&quot;Unit 103B - 19161 Fraser Hwy, Surrey, BC  V3S 7H2, Canada zip: V3S 7H2&quot;,&quot;2957 Broadway W, Vancouver, BC  V6K 2G9, Canada zip: V6K 2G9&quot;,&quot;4390 Beresford St, Burnaby, BC  V5H 0E7, Canada zip: V5H 0E7&quot;,&quot;304 - 1750 Pier Mac Way, Kelowna, BC  V1V 3E7, Canada zip: V1V 3E7&quot;,&quot;#1 - 1530 West 7th Avenue, Vancouver, BC  V6J 1S2, Canada zip: V6J 1S2&quot;,&quot;#110 - 13798 - 94A Ave., Surrey, BC  V3V 1N1, Canada zip: V3V 1N1&quot;,&quot;2200 Oak Bay Ave., Victoria, BC  V8R 1G3, Canada zip: V8R 1G3&quot;,&quot;Old Mill Plaza\\nBox 910, Lillooet, BC  V0K 1V0, Canada zip: V0K 1V0&quot;,&quot;105 - 12420 No. 1 Rd, Richmond, BC  V7E 6N2, Canada zip: V7E 6N2&quot;,&quot;#101 - 20560 56 Ave, Langley, BC  V3A 3Y8, Canada zip: V3A 3Y8&quot;,&quot;223 Main St, Vancouver, BC  V6A 2S7, Canada zip: V6A 2S7&quot;,&quot;103 - 3007 Glen Dr, Coquitlam, BC  V3B 0L8, Canada zip: V3B 0L8&quot;,&quot;3 - 3238 King George Blvd, Surrey, BC  V4P 1A5, Canada zip: V4P 1A5&quot;,&quot;233 - 18525 53 Ave\\nSurrey, BC  V3S 7A4, 233 - 18525 53 Ave\\nSurrey, BC  V3S 7A4, BC  V3S 7A4, Canada zip: V3S 7A4&quot;,&quot;110 - 4650 Kingsway, Burnaby, BC  V5H 4L9, Canada zip: V5H 4L9&quot;,&quot;111 - 15388 24 Ave, Surrey, BC  V4A 2J2, Canada zip: V4A 2J2&quot;,&quot;3533 4th Ave W, Vancouver, BC  V6R 1N9, Canada zip: V6R 1N9&quot;,&quot;2685 Broadway W, Vancouver, BC  V6K 2G2, Canada zip: V6K 2G2&quot;,&quot;3228 Dunbar Street, Vancouver, BC  V6S 2B7, Canada zip: V6S 2B7&quot;,&quot;Hollyburn Plaza\\n#117 - 1760 Marine Dr, West Vancouver, BC  V7V 1J4, Canada zip: V7V 1J4&quot;,&quot;3750 Oak St, Vancouver, BC  V6H 2M3, Canada zip: V6H 2M3&quot;,&quot;103 - 3053 Edgemont Blvd, North Vancouver, BC  V7R 2N5, Canada zip: V7R 2N5&quot;,&quot;105A - 7635 North Fraser Way, Burnaby, BC  V5J 0B8, Canada zip: V5J 0B8&quot;,&quot;#101 - 301 Columbia St E, New Westminster, BC  V3L 3W5, Canada zip: V3L 3W5&quot;,&quot;4444 10th Ave W, Vancouver, BC  V6R 2H9, Canada zip: V6R 2H9&quot;,&quot;1405 Bellevue Ave, West Vancouver, BC  V7T 1C3, Canada zip: V7T 1C3&quot;,&quot;Unit 160 - 6111 River Rd, Richmond, BC  V7C 0A2, Canada zip: V7C 0A2&quot;,&quot;Quadra Centre\\n108 - 3960 Quadra St, Victoria, BC  V8X 4A3, Canada zip: V8X 4A3&quot;,&quot;2235 Kingsway, Vancouver, BC  V5N 2T6, Canada zip: V5N 2T6&quot;,&quot;1145 Commercial Drive, Vancouver, BC  V5L 3X3, Canada zip: V5L 3X3&quot;,&quot;#100 - 6091 Gilbert Road, Richmond, BC  V7C 5L9, Canada zip: V7C 5L9&quot;,&quot;1A - 20363 65 Ave, Langley, BC  V2Y 3E3, Canada zip: V2Y 3E3&quot;,&quot;115 Hwy 33 W, Kelowna, BC  V1X 1X6, Canada zip: V1X 1X6&quot;,&quot;103 - 1646 McKenzie Ave, Victoria, BC  V8N 0A3, Canada zip: V8N 0A3&quot;,&quot;Victoria Med-Dental Bldg.\\n#120 - 1120 Yates St., Victoria, BC  V8V 3M9, Canada zip: V8V 3M9&quot;,&quot;Unit B - 2241 Louie Dr, Westbank, BC  V4T 3K3, Canada zip: V4T 3K3&quot;,&quot;#210 - 1595 McKenzie Ave., Victoria, BC  V8N 1A4, Canada zip: V8N 1A4&quot;,&quot;#107 - 575 16th St, West Vancouver, BC  V7V 4Y1, Canada zip: V7V 4Y1&quot;,&quot;700 Sixth St, New Westminster, BC  V3L 3C5, Canada zip: V3L 3C5&quot;,&quot;Ocean Park Shopping Ctr.\\n12851 - 16th Ave., Surrey, BC  V4A 1N5, Canada zip: V4A 1N5&quot;,&quot;499 Granville St, Vancouver, BC  V6C 1T1, Canada zip: V6C 1T1&quot;,&quot;9200 Mary St., Chilliwack, BC  V2P 4H6, Canada zip: V2P 4H6&quot;,&quot;102 - 1880 Island Hwy, Victoria, BC  V9B 1J2, Canada zip: V9B 1J2&quot;,&quot;#1173 - 88 Pender St W\\nVancouver, BC  V6B 6N9, #1173 - 88 Pender St W\\nVancouver, BC  V6B 6N9, BC  V6B 6N9, Canada zip: V6B 6N9&quot;,&quot;Victoria Medical Bldg.\\n1669 Victoria Street, Prince George, BC  V2L 2L5, Canada zip: V2L 2L5&quot;,&quot;Unit B\\n3388 Douglas St, Victoria, BC  V8Z 3L3, Canada zip: V8Z 3L3&quot;,&quot;#103 - 12837 88 Ave, Surrey, BC  V3W 3K2, Canada zip: V3W 3K2&quot;,&quot;908 Commercial Dr, Vancouver, BC  V5L 3W7, Canada zip: V5L 3W7&quot;,&quot;1483 Marine Dr, West Vancouver, BC  V7T 1B8, Canada zip: V7T 1B8&quot;,&quot;#122 - 1055 Georgia St W, Vancouver, BC  V6E 3P3, Canada zip: V6E 3P3&quot;,&quot;708 Sixth Street, New Westminster, BC  V3L 3C5, Canada zip: V3L 3C5&quot;,&quot;DT 1200 - 1952 Bay St, Victoria, BC  V8R 1J8, Canada zip: V8R 1J8&quot;,&quot;2nd Floor\\n1133 - 11871 Horseshoe Way, Richmond, BC  V7A 5H5, Canada zip: V7A 5H5&quot;,&quot;4695 Canada Way, Burnaby, BC  V5G 1K8, Canada zip: V5G 1K8&quot;,&quot;27265 Fraser Hwy, Aldergrove, BC  V4W 3P9, Canada zip: V4W 3P9&quot;,&quot;10355 King George Blvd, Surrey, BC  V3T 2W6, Canada zip: V3T 2W6&quot;,&quot;6401 - 120th Street, Delta, BC  V4E 3G3, Canada zip: V4E 3G3&quot;,&quot;Westview Shopping Centre\\n#780 - 2601 Westview Dr, North Vancouver, BC  V7N 3X4, Canada zip: V7N 3X4&quot;,&quot;6564 Hastings St., Burnaby, BC  V5B 1S2, Canada zip: V5B 1S2&quot;,&quot;#700 - 15355 - 24th Ave, Surrey, BC  V4A 2H9, Canada zip: V4A 2H9&quot;,&quot;6153 - 200th Street, Langley, BC  V2Y 1A2, Canada zip: V2Y 1A2&quot;,&quot;8870 - 152nd Street, Surrey, BC  V3R 4E4, Canada zip: V3R 4E4&quot;,&quot;1599 - 2nd Avenue, Trail, BC  V1R 1M3, Canada zip: V1R 1M3&quot;,&quot;1038 Austin Ave, Coquitlam, BC  V3K 3P3, Canada zip: V3K 3P3&quot;,&quot;1682 Davie St, Vancouver, BC  V6G 1V9, Canada zip: V6G 1V9&quot;,&quot;7450 - 120th Street, Surrey, BC  V3W 3M9, Canada zip: V3W 3M9&quot;,&quot;990 West 25th Ave., Vancouver, BC  V5Z 2E2, Canada zip: V5Z 2E2&quot;,&quot;4189 Yew St, Vancouver, BC  V6L 0B4, Canada zip: V6L 0B4&quot;,&quot;Westlynn Mall\\n1170 East 27th Street, North Vancouver, BC  V7J 1S1, Canada zip: V7J 1S1&quot;,&quot;10151 No. 3 Road, Richmond, BC  V7A 4R6, Canada zip: V7A 4R6&quot;,&quot;PO Box 48\\n27566 Fraser Hwy, Aldergrove, BC  V4W 3N5, Canada zip: V4W 3N5&quot;,&quot;7165 - 138th Street, Surrey, BC  V3W 7T9, Canada zip: V3W 7T9&quot;,&quot;Chilliwack Mall\\n45610 Luckakuck Way, Chilliwack, BC  V2R 1A2, Canada zip: V2R 1A2&quot;,&quot;9123 - 100 St, Fort St. John, BC  V1J 3X3, Canada zip: V1J 3X3&quot;,&quot;1080 Kingsway, Vancouver, BC  V5V 3C6, Canada zip: V5V 3C6&quot;,&quot;465 Main St., Vancouver, BC  V6A 2T7, Canada zip: V6A 2T7&quot;,&quot;Satnam Plaza\\n#115 - 7130 120 St, Surrey, BC  V3W 3M8, Canada zip: V3W 3M8&quot;,&quot;818 Island Hwy W, Parksville, BC  V9P 2B7, Canada zip: V9P 2B7&quot;,&quot;26310 Fraser Highway, Aldergrove, BC  V4W 2Z7, Canada zip: V4W 2Z7&quot;,&quot;South Point Exchange\\n3033 - 152nd Street, Surrey, BC  V4P 3K1, Canada zip: V4P 3K1&quot;,&quot;200 - 7155 Kingsway, Burnaby, BC  V5E 2V1, Canada zip: V5E 2V1&quot;,&quot;270 Columbia St E, New Westminster, BC  V3L 0E3, Canada zip: V3L 0E3&quot;,&quot;9014 - 152nd St, Surrey, BC  V3R 4E7, Canada zip: V3R 4E7&quot;,&quot;Lower Level\\n198 - 610 Sixth St, New Westminster, BC  V3L 3C2, Canada zip: V3L 3C2&quot;,&quot;Tillicum Mall\\n108 - 3170 Tillicum Road, Victoria, BC  V9A 7C5, Canada zip: V9A 7C5&quot;,&quot;University Heights Shopping Ctr.\\n3958 Shelbourne St., Victoria, BC  V8N 3E2, Canada zip: V8N 3E2&quot;,&quot;5186 - 48 Ave, Ladner, BC  V4K 1W3, Canada zip: V4K 1W3&quot;,&quot;12130 Nordel Way, Surrey, BC  V3W 1P6, Canada zip: V3W 1P6&quot;,&quot;1403 King Edward Ave E, Vancouver, BC  V5N 5Z4, Canada zip: V5N 5Z4&quot;,&quot;6901 Island Hwy N, Nanaimo, BC  V9T 6N8, Canada zip: V9T 6N8&quot;,&quot;Country Club Mall\\n3200 N. Island Hwy., Nanaimo, BC  V9T 1W1, Canada zip: V9T 1W1&quot;,&quot;#400 - 1400 Dogwood St, Campbell River, BC  V9W 3A6, Canada zip: V9W 3A6&quot;,&quot;Scottsdale Mall\\n7015 - 120th St., North Delta, BC  V4E 2A9, Canada zip: V4E 2A9&quot;,&quot;555 Central St W, Prince George, BC  V2M 3C6, Canada zip: V2M 3C6&quot;,&quot;Ironwood Mall\\n#3000-11666 Steveston Hwy., Richmond, BC  V7A 5J3, Canada zip: V7A 5J3&quot;,&quot;Terra Nova Village\\n3673 Westminster Highway, Richmond, BC  V7C 5V2, Canada zip: V7C 5V2&quot;,&quot;Westside Village\\n#100 - 172 Wilson St, Victoria, BC  V9A 7N6, Canada zip: V9A 7N6&quot;,&quot;3510 Blanshard St., Victoria, BC  V8X 1W3, Canada zip: V8X 1W3&quot;,&quot;#101 - 1876 Cooper Rd, Kelowna, BC  V1Y 9N6, Canada zip: V1Y 9N6&quot;,&quot;4900 - 27th St, Vernon, BC  V1T 7G7, Canada zip: V1T 7G7&quot;,&quot;1221 - 1199 Lynn Valley Rd, North Vancouver, BC  V7J 3H2, Canada zip: V7J 3H2&quot;,&quot;333 Brooksbank Ave., North Vancouver, BC  V7J 3S8, Canada zip: V7J 3S8&quot;,&quot;2662 Austin Ave, Coquitlam, BC  V3K 6C4, Canada zip: V3K 6C4&quot;,&quot;4399 Lougheed Hwy., Burnaby, BC  V5C 3Y7, Canada zip: V5C 3Y7&quot;,&quot;Pemberton Plaza\\n1250 Marine Drive, North Vancouver, BC  V7P 1T2, Canada zip: V7P 1T2&quot;,&quot;10312 King George Blvd, Surrey, BC  V3T 2W5, Canada zip: V3T 2W5&quot;,&quot;17745 64 Ave, Cloverdale, BC  V3X 1Z2, Canada zip: V3X 1Z2&quot;,&quot;#102 - 3433 North Rd, Burnaby, BC  V3J 0A9, Canada zip: V3J 0A9&quot;,&quot;600 - 1984 Kane Rd, Kelowna, BC  V1V 3C4, Canada zip: V1V 3C4&quot;,&quot;4469 Kingsway, Burnaby, BC  V5H 2A1, Canada zip: V5H 2A1&quot;,&quot;1641 - 152nd St, White Rock, BC  V4A 4N3, Canada zip: V4A 4N3&quot;,&quot;6455 West Boulevard, Vancouver, BC  V6M 3X6, Canada zip: V6M 3X6&quot;,&quot;18710 Fraser Hwy, Surrey, BC  V3S 7Y4, Canada zip: V3S 7Y4&quot;,&quot;102 - 6905 120th St, Delta, BC  V4E 2A8, Canada zip: V4E 2A8&quot;,&quot;Unit 202 - 204 9278 120 St, Surrey, BC  V3V 4B8, Canada zip: V3V 4B8&quot;,&quot;Unit 1560 - 4380 No. 3 Rd, Richmond, BC  V6X 3V7, Canada zip: V6X 3V7&quot;,&quot;1265 W Broadway, Vancouver, BC  V6H 1G7, Canada zip: V6H 1G7&quot;,&quot;Spruceland Shopping Ctr.\\n693 Central St. W, Prince George, BC  V2M 3C6, Canada zip: V2M 3C6&quot;,&quot;1583 Marine Drive, West Vancouver, BC  V7V 1H9, Canada zip: V7V 1H9&quot;,&quot;6508 Hastings St., Burnaby, BC  V5B 1S2, Canada zip: V5B 1S2&quot;,&quot;6305 Fraser St., Vancouver, BC  V5W 3A3, Canada zip: V5W 3A3&quot;,&quot;Hillside Shopping Centre\\n#126 - 1644 Hillside Ave., Victoria, BC  V8T 2C5, Canada zip: V8T 2C5&quot;,&quot;#11  - 8671 No. 1 Road, Richmond, BC  V7C 1V2, Canada zip: V7C 1V2&quot;,&quot;#380 - 9100 Blundell Road, Richmond, BC  V6Y 3X9, Canada zip: V6Y 3X9&quot;,&quot;3511 Blanshard St, Victoria, BC  V8Z 0B9, Canada zip: V8Z 0B9&quot;,&quot;3020 Broadway W, Vancouver, BC  V6K 2H1, Canada zip: V6K 2H1&quot;,&quot;Old Orchard Shopping Ctr.\\n4429 Kingsway, Burnaby, BC  V5H 2A1, Canada zip: V5H 2A1&quot;,&quot;#250 - 7155 Kingsway, Burnaby, BC  V5E 2V1, Canada zip: V5E 2V1&quot;,&quot;Langley Crossing\\n101 - 6339 200 St, Langley, BC  V2Y 1A2, Canada zip: V2Y 1A2&quot;,&quot;2947 Tillicum Road, Victoria, BC  V9A 2A6, Canada zip: V9A 2A6&quot;,&quot;885 West Broadway, Vancouver, BC  V5Z 1J9, Canada zip: V5Z 1J9&quot;,&quot;Clover Square Village\\nUnit 104 - 17790 No. 10 Highway, Surrey, BC  V3S 1C7, Canada zip: V3S 1C7&quot;,&quot;Central City Shopping Centre\\n#3100 - 10153 King George Blvd, Surrey, BC  V3T 2W1, Canada zip: V3T 2W1&quot;,&quot;Unit 185 - 3055 Massey Drive, Prince George, BC  V2N 2S9, Canada zip: V2N 2S9&quot;,&quot;#100 - 4440 W. Saanich Road, Victoria, BC  V8Z 3E9, Canada zip: V8Z 3E9&quot;,&quot;10351 100 St, Fort St. John, BC  V1J 3Z2, Canada zip: V1J 3Z2&quot;,&quot;Westshore Town Centre\\n#300 - 2945 Jacklin Rd., Victoria, BC  V9B 5E3, Canada zip: V9B 5E3&quot;,&quot;#141 - 610 Sixth St, New Westminster, BC  V3L 3C2, Canada zip: V3L 3C2&quot;,&quot;The Hub\\n1755 East Broadway, Vancouver, BC  V5N 1W2, Canada zip: V5N 1W2&quot;,&quot;6681 Mary Ellen Dr, Nanaimo, BC  V9V 1T7, Canada zip: V9V 1T7&quot;,&quot;North Hills Shop. Centre\\n#48 - 700 Tranquille Road, Kamloops, BC  V2B 3H9, Canada zip: V2B 3H9&quot;,&quot;4326 Dunbar St., Vancouver, BC  V6S 2G3, Canada zip: V6S 2G3&quot;,&quot;Lynn Valley Shopping Centre\\n1199 Lynn Valley Rd, North Vancouver, BC  V7J 3H2, Canada zip: V7J 3H2&quot;,&quot;#100 - 7820 Williams Rd, Richmond, BC  V7A 1G3, Canada zip: V7A 1G3&quot;,&quot;A100 - 20678 Willoughby Town Centre Dr, Langley, BC  V2Y 0L7, Canada zip: V2Y 0L7&quot;,&quot;7816 E. Saanich Road, Saanichton, BC  V8M 2B3, Canada zip: V8M 2B3&quot;,&quot;121 - 4295 Blackcomb Way\\nRR 4, Whistler, BC  V8E 0X2, Canada zip: V8E 0X2&quot;,&quot;Surrey Outpatient Clinic\\nUnit 151 - 9750 140 St, Surrey, BC  V3V 5Z5, Canada zip: V3V 5Z5&quot;,&quot;#31 - 590 Hwy. 33 West, Kelowna, BC  V1X 6A8, Canada zip: V1X 6A8&quot;,&quot;110F - 6640 Vedder Rd, Chilliwack, BC  V2R 0J2, Canada zip: V2R 0J2&quot;,&quot;730 - 333 Brooksbank Ave, North Vancouver, BC  V7J 3S8, Canada zip: V7J 3S8&quot;,&quot;#217 - 5000 Canoe Pass Way, Tsawwassen, BC  V4M 0B3, Canada zip: V4M 0B3&quot;,&quot;1306 Lonsdale Avenue, North Vancouver, BC  V7M 2H8, Canada zip: V7M 2H8&quot;,&quot;Thunderbird Village\\n20159 88 Ave, Langley, BC  V1M 0A4, Canada zip: V1M 0A4&quot;,&quot;#102 - 22441 Dewdney Trunk Rd, Maple Ridge, BC  V2X 7X7, Canada zip: V2X 7X7&quot;,&quot;4460 Lougheed Hwy, Burnaby, BC  V5C 3Z3, Canada zip: V5C 3Z3&quot;,&quot;#38 - 3200 North Island Hwy., Nanaimo, BC  V9T 1W1, Canada zip: V9T 1W1&quot;,&quot;8962 152 St, Surrey, BC  V3R 4E4, Canada zip: V3R 4E4&quot;,&quot;Town Centre Mall\\n3 - 2475 Dobbin Rd, Westbank, BC  V4T 2E9, Canada zip: V4T 2E9&quot;,&quot;#38 - 301 Highway 33 W, Kelowna, BC  V1X 1X8, Canada zip: V1X 1X8&quot;,&quot;1780 Broadway W, Vancouver, BC  V6J 1Y1, Canada zip: V6J 1Y1&quot;,&quot;#120 - 150 Esplanade W, North Vancouver, BC  V7M 1A3, Canada zip: V7M 1A3&quot;,&quot;14867A 108 Ave, Surrey, BC  V3R 1W2, Canada zip: V3R 1W2&quot;,&quot;Unit 110 - 879 Marine Dr, North Vancouver, BC  V7P 1R7, Canada zip: V7P 1R7&quot;,&quot;College Heights Plaza\\n470 - 5240 Domano Blvd, Prince George, BC  V2N 4A1, Canada zip: V2N 4A1&quot;,&quot;432 Marine Dr SW, Vancouver, BC  V5X 0C4, Canada zip: V5X 0C4&quot;,&quot;Champlain Square\\n7160 Kerr Street, Vancouver, BC  V5S 4W2, Canada zip: V5S 4W2&quot;,&quot;#155-5555 Gilbert Road, Richmond, BC  V7C 0B8, Canada zip: V7C 0B8&quot;,&quot;Unit 6 - 12830 96 Ave, Surrey, BC  V3V 6A8, Canada zip: V3V 6A8&quot;,&quot;7538 120 St, Surrey, BC  V3W 3N1, Canada zip: V3W 3N1&quot;,&quot;F8 - 1410 Parkway Blvd, Coquitlam, BC  V3E 3J7, Canada zip: V3E 3J7&quot;,&quot;101-12080 Nordel Way, Surrey, BC  V3W 1P6, Canada zip: V3W 1P6&quot;,&quot;18677 Fraser Hwy, Surrey, BC  V3S 8E7, Canada zip: V3S 8E7&quot;,&quot;Unit 1 - 2871 Livingstone Ave, Abbotsford, BC  V2T 0E2, Canada zip: V2T 0E2&quot;,&quot;748 Burrard St, Vancouver, BC  V6Z 2V6, Canada zip: V6Z 2V6&quot;,&quot;5968 Webber Lane, Vancouver, BC  V6S 0J9, Canada zip: V6S 0J9&quot;,&quot;3303 Main St, Vancouver, BC  V5V 0B7, Canada zip: V5V 0B7&quot;,&quot;288 Columbia St E, New Westminster, BC  V3L 0E7, Canada zip: V3L 0E7&quot;,&quot;104 - 3433 North Rd, Burnaby, BC  V3J 0A9, Canada zip: V3J 0A9&quot;,&quot;876 Village Dr, Port Coquitlam, BC  V3B 0G9, Canada zip: V3B 0G9&quot;,&quot;Unit 700 - 26310 Fraser Hwy, Aldergrove, BC  V4W 2Z7, Canada zip: V4W 2Z7&quot;,&quot;Unit 100 - 1972 Kane Road, Kelowna, BC  V1V 3C4, Canada zip: V1V 3C4&quot;,&quot;100 - 15157 - No. 10 Hwy, Surrey, BC  V3S 9A5, Canada zip: V3S 9A5&quot;,&quot;#102 - 2607 East 49th Ave, Vancouver, BC  V5S 1J9, Canada zip: V5S 1J9&quot;,&quot;1202 Pender St W, Vancouver, BC  V6E 2S8, Canada zip: V6E 2S8&quot;,&quot;4590 Fraser St, Vancouver, BC  V5V 4G7, Canada zip: V5V 4G7&quot;,&quot;586 Granville St, Vancouver, BC  V6C 1X5, Canada zip: V6C 1X5&quot;,&quot;2730 Oak St, Vancouver, BC  V6H 0A5, Canada zip: V6H 0A5&quot;,&quot;4827 Kingsway, Burnaby, BC  V5H 4T6, Canada zip: V5H 4T6&quot;,&quot;2330 Kingsway, Vancouver, BC  V5R 5G9, Canada zip: V5R 5G9&quot;,&quot;Unit 1 - 32390 South Fraser Way, Abbotsford, BC  V2T 1X2, Canada zip: V2T 1X2&quot;,&quot;2490 Marine Dr, West Vancouver, BC  V7V 1L1, Canada zip: V7V 1L1&quot;,&quot;Unit 100 - 525 Highway 97 S, Kelowna, BC  V1Z 4C9, Canada zip: V1Z 4C9&quot;,&quot;#1 - 1499 Gordon Dr, Kelowna, BC  V1Y 9R2, Canada zip: V1Y 9R2&quot;,&quot;1517 Commercial Drive, Vancouver, BC  V5L 3Y1, Canada zip: V5L 3Y1&quot;,&quot;#103 - 3320 Richter St, Kelowna, BC  V1W 4V5, Canada zip: V1W 4V5&quot;,&quot;G - 1001 Austin Ave, Coquitlam, BC  V3K 3N9, Canada zip: V3K 3N9&quot;,&quot;601 Queens Avenue, New Westminster, BC  V3M 1L1, Canada zip: V3M 1L1&quot;,&quot;8 - 32442 George Ferguson Way, Abbotsford, BC  V2T 4Y4, Canada zip: V2T 4Y4&quot;,&quot;505 Smithe St, Vancouver, BC  V6B 6H1, Canada zip: V6B 6H1&quot;,&quot;103 - 7110 120 St, Surrey, BC  V3W 3M8, Canada zip: V3W 3M8&quot;,&quot;#7 - 13791 - 72nd Ave, Surrey, BC  V3W 9Y9, Canada zip: V3W 9Y9&quot;,&quot;582 Goldstream Ave, Victoria, BC  V9B 2W7, Canada zip: V9B 2W7&quot;,&quot;1979 East Hastings Street, Vancouver, BC  V5L 1T5, Canada zip: V5L 1T5&quot;,&quot;7166 120 St, Surrey, BC  V3W 3M8, Canada zip: V3W 3M8&quot;,&quot;#105 - 14340 64 Ave, Surrey, BC  V3W 1Z1, Canada zip: V3W 1Z1&quot;,&quot;#202 - 6355 152 St, Surrey, BC  V3S 3K8, Canada zip: V3S 3K8&quot;,&quot;2397 King George Blvd, Surrey, BC  V4A 5A4, Canada zip: V4A 5A4&quot;,&quot;12051 No. 1 Road, Richmond, BC  V7E 1T5, Canada zip: V7E 1T5&quot;,&quot;5848 Fraser St., Vancouver, BC  V5W 2Z5, Canada zip: V5W 2Z5&quot;,&quot;3443 Kingsway, Vancouver, BC  V5R 5L3, Canada zip: V5R 5L3&quot;,&quot;105 - 19475 Fraser Hwy, Surrey, BC  V3S 6K7, Canada zip: V3S 6K7&quot;,&quot;106 -3200 Westwood Street, Port Coquitlam, BC  V3C 6C7, Canada zip: V3C 6C7&quot;,&quot;MAJ1 - 8311 Lansdowne Rd, Richmond, BC  V6X 3A4, Canada zip: V6X 3A4&quot;,&quot;147 - 4800 Kingsway, Burnaby, BC  V5H 4J2, Canada zip: V5H 4J2&quot;,&quot;116 - 5501 204 St, Langley, BC  V3A 5N8, Canada zip: V3A 5N8&quot;,&quot;3475 Quadra Street, Victoria, BC  V8X 1G8, Canada zip: V8X 1G8&quot;,&quot;6604 Main St, Vancouver, BC  V5X 3H2, Canada zip: V5X 3H2&quot;,&quot;424 Columbia St, New Westminster, BC  V3L 1B1, Canada zip: V3L 1B1&quot;,&quot;1115 - 7318 137 St, Surrey, BC  V3W 1A3, Canada zip: V3W 1A3&quot;,&quot;317 - 3980 Shelbourne St, Victoria, BC  V8N 6J1, Canada zip: V8N 6J1&quot;,&quot;177 Davie St, Vancouver, BC  V6Z 2Y1, Canada zip: V6Z 2Y1&quot;,&quot;University of Victoria, S.U.B. #B138\\n3800 Finnerty Rd, Victoria, BC  V8P 5C2, Canada zip: V8P 5C2&quot;,&quot;20577 Douglas Crescent, Langley, BC  V3A 4B6, Canada zip: V3A 4B6&quot;,&quot;Unit 10 - 45955 Yale Rd, Chilliwack, BC  V2P 2M4, Canada zip: V2P 2M4&quot;,&quot;The Lux\\n67 Hastings St E, Vancouver, BC  V6A 0A7, Canada zip: V6A 0A7&quot;,&quot;2215 West Broadway, Vancouver, BC  V6K 2E4, Canada zip: V6K 2E4&quot;,&quot;#126 - 15299 68 Ave, Surrey, BC  V3S 2C1, Canada zip: V3S 2C1&quot;,&quot;Unit 120 - 6345 120 St, Delta, BC  V4E 2A6, Canada zip: V4E 2A6&quot;,&quot;Ground Level\\n3122 Mt Lehman Rd, Abbotsford, BC  V2T 0E5, Canada zip: V2T 0E5&quot;,&quot;5143 Canoe Pass Way, Tsawwassen, BC  V4M 0B2, Canada zip: V4M 0B2&quot;,&quot;Royal City Center\\n610 Sixth St, New Westminster, BC  V3L 3C2, Canada zip: V3L 3C2&quot;,&quot;2151 - 10153 King George Blvd, Surrey, BC  V3T 2W3, Canada zip: V3T 2W3&quot;,&quot;7155 120 St, Delta, BC  V4E 2B1, Canada zip: V4E 2B1&quot;,&quot;Unit #100 - 1055 Hillside Drive, Kamloops, BC  V2E 2S5, Canada zip: V2E 2S5&quot;,&quot;Capilano Mall\\n925 Marine Drive, North Vancouver, BC  V7P 1S2, Canada zip: V7P 1S2&quot;,&quot;Woodgrove Centre\\n6801 Island Hwy N, Nanaimo, BC  V9T 6N8, Canada zip: V9T 6N8&quot;,&quot;Eagle Landing South\\n8249 Eagle Landing Pky, Chilliwack, BC  V2R 0P9, Canada zip: V2R 0P9&quot;,&quot;860 Langford Parkway, Victoria, BC  V9B 2P3, Canada zip: V9B 2P3&quot;,&quot;9251 Alderbridge Way, Richmond, BC  V6X 0N1, Canada zip: V6X 0N1&quot;,&quot;9007 96A St, Fort St. John, BC  V1J 7B6, Canada zip: V1J 7B6&quot;,&quot;12451 - 88 Ave, Surrey, BC  V3W 1P8, Canada zip: V3W 1P8&quot;,&quot;2355 160 St, Surrey, BC  V3Z 9N6, Canada zip: V3Z 9N6&quot;,&quot;103 - 13737 96 Ave, Surrey, BC  V3V 0C6, Canada zip: V3V 0C6&quot;,&quot;100 - 1133 Lonsdale Ave, North Vancouver, BC  V7M 2H4, Canada zip: V7M 2H4&quot;,&quot;6686 Fraser St., Vancouver, BC  V5X 3T5, Canada zip: V5X 3T5&quot;,&quot;#7 - 8388 - 128th Street, Surrey, BC  V3W 4G2, Canada zip: V3W 4G2&quot;,&quot;#103 - 6935 - 120 St, Delta, BC  V4E 2A8, Canada zip: V4E 2A8&quot;,&quot;4307 West 10th Ave., Vancouver, BC  V6R 2H6, Canada zip: V6R 2H6&quot;,&quot;2004 Eighth Ave., New Westminster, BC  V3M 2T5, Canada zip: V3M 2T5&quot;,&quot;1 - 137 17th St W, North Vancouver, BC  V7M 1V5, Canada zip: V7M 1V5&quot;,&quot;33 Broadway W, Vancouver, BC  V5Y 1P1, Canada zip: V5Y 1P1&quot;,&quot;158B - 19653 Willowbrook Dr, Langley, BC  V2Y 1A5, Canada zip: V2Y 1A5&quot;,&quot;Unit 50 - 9522 Main St, Winfield, BC  V4V 2L9, Canada zip: V4V 2L9&quot;,&quot;#104 - 32450 Simon Ave, Abbotsford, BC  V2T 4J2, Canada zip: V2T 4J2&quot;,&quot;1284 Granville St, Vancouver, BC  V6Z 1M4, Canada zip: V6Z 1M4&quot;,&quot;4198 Dunbar St, Vancouver, BC  V6S 2E7, Canada zip: V6S 2E7&quot;,&quot;110 - 7938 128 St, Surrey, BC  V3W 4E8, Canada zip: V3W 4E8&quot;,&quot;104 - 2596 McMillan Rd, Abbotsford, BC  V3G 1C2, Canada zip: V3G 1C2&quot;,&quot;1721 Main St, Vancouver, BC  V5T 3B5, Canada zip: V5T 3B5&quot;,&quot;1553 Arlington Street, Winnipeg, MB  R2X 1V3, Canada zip: R2X 1V3&quot;,&quot;1332 Clifton Street, Winnipeg, MB  R3E 2V2, Canada zip: R3E 2V2&quot;,&quot;975 St. James Street, Winnipeg, MB  R3H 0X2, Canada zip: R3H 0X2&quot;,&quot;Unit 5B - 851 Lagimodiere Blvd., Winnipeg, MB  R2J 3K4, Canada zip: R2J 3K4&quot;,&quot;Box 490, Ashern, MB  R0C 0E0, Canada zip: R0C 0E0&quot;,&quot;D-3111 Portage Avenue, Winnipeg, MB  R3K 0W4, Canada zip: R3K 0W4&quot;,&quot;Unit 10, 414 Westmount Drive, Winnipeg, MB  R2J 1P3, Canada zip: R2J 1P3&quot;,&quot;531 Elizabeth Avenue E., Box 99, Baldur, MB  R0K 0B0, Canada zip: R0K 0B0&quot;,&quot;101-1661 Portage Avenue, Winnipeg, MB  R3J 3T7, Canada zip: R3J 3T7&quot;,&quot;P.O. Box 130, 2 Bear Road, Scanterbury, MB  R0E 1W0, Canada zip: R0E 1W0&quot;,&quot;384 Portage Avenue, Winnipeg, MB  R3C 0C7, Canada zip: R3C 0C7&quot;,&quot;P.O. Box 159, Peguis Mall, Peguis, MB  R0C 3J0, Canada zip: R0C 3J0&quot;,&quot;1600 Pembina Highway, Winnipeg, MB  R3T 5Z2, Canada zip: R3T 5Z2&quot;,&quot;101-1020 Lorimer Blvd., Winnipeg, MB  R3P 1C7, Canada zip: R3P 1C7&quot;,&quot;Unit 1 - 1099 Kingsbury Avenue, Winnipeg, MB  R2P 2P9, Canada zip: R2P 2P9&quot;,&quot;4-1095 Concordia Avenue, Winnipeg, MB  R2K 3S8, Canada zip: R2K 3S8&quot;,&quot;1095 Concordia Avenue, Winnipeg, MB  R2K 3S8, Canada zip: R2K 3S8&quot;,&quot;1499 Regent Avenue, Winnipeg, MB  R2C 4M4, Canada zip: R2C 4M4&quot;,&quot;1315 St. James Street, Winnipeg, MB  R3H 0K9, Canada zip: R3H 0K9&quot;,&quot;Unit 2, 505 Sargent Avenue, Winnipeg, MB  R3B 1V9, Canada zip: R3B 1V9&quot;,&quot;207 Railway Avenue, Box 190, Vita, MB  R0A 2K0, Canada zip: R0A 2K0&quot;,&quot;Unit 4 - 3014 Henderson Highway, East St. Paul, MB  R2E 0H9, Canada zip: R2E 0H9&quot;,&quot;7 Main Street, Box 160, Elie, MB  R0H 0H0, Canada zip: R0H 0H0&quot;,&quot;Box 248, Fort Alexander, MB  R0E 0P0, Canada zip: R0E 0P0&quot;,&quot;3012 Portage Avenue, Winnipeg, MB  R3K 0X8, Canada zip: R3K 0X8&quot;,&quot;SR171 - 820 Sherbrook Street, Winnipeg, MB  R3A 1R9, Canada zip: R3A 1R9&quot;,&quot;220 Cree Crescent, Suite A, Winnipeg, MB  R3J 3W1, Canada zip: R3J 3W1&quot;,&quot;Box 87, Lot 39, Hwy 325, Hodgson, MB  R0C 1N0, Canada zip: R0C 1N0&quot;,&quot;B-2750 Pembina Highway, Winnipeg, MB  R3T 2H8, Canada zip: R3T 2H8&quot;,&quot;112 Main Street, Box 1011, Grunthal, MB  R0A 0R0, Canada zip: R0A 0R0&quot;,&quot;104-650 South Railway Avenue, Box 1024, Winkler, MB  R6W 4B1, Canada zip: R6W 4B1&quot;,&quot;Unit 10, 1320 Concordia Avenue, Winnipeg, MB  R3W 0G6, Canada zip: R3W 0G6&quot;,&quot;820 Sherbrook Street, Winnipeg, MB  R3A 1R9, Canada zip: R3A 1R9&quot;,&quot;Room PX 155, 771 Bannatyne Avenue, Winnipeg, MB  R3E 3N4, Canada zip: R3E 3N4&quot;,&quot;670 Main Street, Winnipeg, MB  R3B 1E4, Canada zip: R3B 1E4&quot;,&quot;Unit A, 3000 Victoria Avenue, Brandon, MB  R7B 3Y3, Canada zip: R7B 3Y3&quot;,&quot;Box 1120, Unit 7 - 449 Main Street, Ile-des-Chenes, MB  R0A 0T0, Canada zip: R0A 0T0&quot;,&quot;Unit 6, 20 Island Shore Blvd., Winnipeg, MB  R3X 1N6, Canada zip: R3X 1N6&quot;,&quot;Unit 6 - 998 Keewatin Street, Winnipeg, MB  R2R 2V1, Canada zip: R2R 2V1&quot;,&quot;Box 850, 7A-530 Williams Avenue, Killarney, MB  R0K 1G0, Canada zip: R0K 1G0&quot;,&quot;Unit 2, 49 Rue Principale, Box 529, La Salle, MB  R0G 1B0, Canada zip: R0G 1B0&quot;,&quot;1686 Pembina Highway, Winnipeg , MB  R3T 2G2, Canada zip: R3T 2G2&quot;,&quot;2A - 230 Osborne Street, Winnipeg, MB  R3L 1Y8, Canada zip: R3L 1Y8&quot;,&quot;2132 McPhillips Street, Winnipeg, MB  R2V 3C8, Canada zip: R2V 3C8&quot;,&quot;80 Bison Drive, Winnipeg, MB  R3T 4Z7, Canada zip: R3T 4Z7&quot;,&quot;1385 Sargent Avenue, Winnipeg, MB  R3E 3P8, Canada zip: R3E 3P8&quot;,&quot;#23C-1225 St. Mary&#39;s Road, Winnipeg, MB  R2M 5E5, Canada zip: R2M 5E5&quot;,&quot;18 Main Street, Lundar, MB  R0C 1Y0, Canada zip: R0C 1Y0&quot;,&quot;Unit 3A - 1353 McPhillips Street, Winnipeg, MB  R2X 3A6, Canada zip: R2X 3A6&quot;,&quot;1287 Jefferson Street, Winnipeg, MB  R2P 1S7, Canada zip: R2P 1S7&quot;,&quot;Canex Mall, CFB Shilo, PO Box 87, Shilo, MB  R0K 2A0, Canada zip: R0K 2A0&quot;,&quot;Box 550, 102-19 Pine Street, Pine Falls, MB  R0E 1M0, Canada zip: R0E 1M0&quot;,&quot;Box 520, Kistapinanihk Shopping Mall, Norway House, MB  R0B 1B0, Canada zip: R0B 1B0&quot;,&quot;Box 339, Unit #1, 559 Main Street, Oakbank, MB  R0E 1J0, Canada zip: R0E 1J0&quot;,&quot;105 - 1021 Court Avenue, Winnipeg, MB  R2P 1V7, Canada zip: R2P 1V7&quot;,&quot;940 Sherbrook Street, Winnipeg, MB  R3A 1N4, Canada zip: R3A 1N4&quot;,&quot;Unit 17 - 2595 Main Street, Winnipeg, MB  R2V 4W3, Canada zip: R2V 4W3&quot;,&quot;2725 Pembina Highway - Unit 3, Winnipeg, MB  R3T 2H5, Canada zip: R3T 2H5&quot;,&quot;18 Main Street, Ashern, MB  R0C 0E0, Canada zip: R0C 0E0&quot;,&quot;10-1321 Dawson Road, Box 229, Lorette, MB  R5K 0S2, Canada zip: R5K 0S2&quot;,&quot;Box 730, 465 Rue Sabourin, St. Pierre-Jolys, MB  R0A 1V0, Canada zip: R0A 1V0&quot;,&quot;2425 Unit C Victoria Avenue West, Brandon, MB  R7B 0M6, Canada zip: R7B 0M6&quot;,&quot;Box 2000, 37 Maple Street, Pine Falls, MB  R0E 1M0, Canada zip: R0E 1M0&quot;,&quot;Box 520, Pine Falls, MB  R0E 1M0, Canada zip: R0E 1M0&quot;,&quot;Unit 15 - 801 Regent Avenue, Winnipeg, MB  R2C 3A7, Canada zip: R2C 3A7&quot;,&quot;200-1383 Pembina Highway, Winnipeg, MB  R3T 2B9, Canada zip: R3T 2B9&quot;,&quot;3250 Portage Avenue, Winnipeg, MB  R3K 0Y9, Canada zip: R3K 0Y9&quot;,&quot;3556 Pembina Highway, Winnipeg, MB  R3V 1A7, Canada zip: R3V 1A7&quot;,&quot;171 Main Street, Powerview, MB  R0E 1P0, Canada zip: R0E 1P0&quot;,&quot;120 - 600 St. Anne&#39;s Road, Winnipeg, MB  R2M 2S2, Canada zip: R2M 2S2&quot;,&quot;Unit 365, 550 Century Street, Winnipeg, MB  R3H 0Y1, Canada zip: R3H 0Y1&quot;,&quot;15-584 Pembina Highway, Winnipeg, MB  R3M 3X7, Canada zip: R3M 3X7&quot;,&quot;850 Dakota Street, Winnipeg, MB  R2M 5R9, Canada zip: R2M 5R9&quot;,&quot;P.O. Box 459, 209-4th Street, Reston, MB  R0M 1X0, Canada zip: R0M 1X0&quot;,&quot;2110 Main Street, Winnipeg, MB  R2V 2C2, Canada zip: R2V 2C2&quot;,&quot;1633 St. Mary&#39;s Road Unit F, Winnipeg, MB  R2N 1Z3, Canada zip: R2N 1Z3&quot;,&quot;1795 Henderson Highway, Winnipeg, MB  R2G 1P3, Canada zip: R2G 1P3&quot;,&quot;2271 Pembina Highway, Winnipeg, MB  R3T 2H1, Canada zip: R3T 2H1&quot;,&quot;1425 Corydon Avenue, Suite 101A, Winnipeg, MB  R3N 2C7, Canada zip: R3N 2C7&quot;,&quot;Unit 5 - 6500 Roblin Blvd., Winnipeg, MB  R3R 3P9, Canada zip: R3R 3P9&quot;,&quot;Unit D - 1046 Henderson Highway, Winnipeg, MB  R2K 2M5, Canada zip: R2K 2M5&quot;,&quot;Unit F - 228 Waterfront Drive, Winnipeg, MB  R3B 0C5, Canada zip: R3B 0C5&quot;,&quot;600 Sargent Avenue, Winnipeg, MB  R3E 0A1, Canada zip: R3E 0A1&quot;,&quot;1319 Pembina Highway, Winnipeg, MB  R3T 2B6, Canada zip: R3T 2B6&quot;,&quot;2155 Pembina Highway, Winnipeg, MB  R3T 2H1, Canada zip: R3T 2H1&quot;,&quot;2025 Corydon Avenue, Winnipeg, MB  R3P 0N5, Canada zip: R3P 0N5&quot;,&quot;3393 Portage Avenue, Winnipeg, MB  R3K 2G7, Canada zip: R3K 2G7&quot;,&quot;920 Jefferson Avenue, Winnipeg, MB  R2P 1W1, Canada zip: R2P 1W1&quot;,&quot;3900 Grant Avenue, Winnipeg, MB  R3R 3C2, Canada zip: R3R 3C2&quot;,&quot;1625 Kenaston Blvd, Winnipeg, MB  R3P 2M4, Canada zip: R3P 2M4&quot;,&quot;#410 - 400 North Town Road, Winnipeg, MB  R3Y 0Y3, Canada zip: R3Y 0Y3&quot;,&quot;1399 McPhillips Street, Winnipeg, MB  R2V 3C4, Canada zip: R2V 3C4&quot;,&quot;850 St. James Street, Winnipeg, MB  R3G 3L7, Canada zip: R3G 3L7&quot;,&quot;1189 Pembina Highway, Winnipeg, MB  R3T 2A5, Canada zip: R3T 2A5&quot;,&quot;2300 McPhillips Street, Winnipeg, MB  R2V 3M3, Canada zip: R2V 3M3&quot;,&quot;777 Sherbrook Street W., Winnipeg, MB  R3A 1M2, Canada zip: R3A 1M2&quot;,&quot;1122 Pembina Highway, Winnipeg, MB  R3T 2A2, Canada zip: R3T 2A2&quot;,&quot;100-1155 Concordia Avenue, Winnipeg, MB  R2K 2M9, Canada zip: R2K 2M9&quot;,&quot;700-50 Sage Creek Blvd., Winnipeg, MB  R3X 0J6, Canada zip: R3X 0J6&quot;,&quot;520 - 350 North Town Road, Winnipeg, MB  R3Y 0Y4, Canada zip: R3Y 0Y4&quot;,&quot;1750 Plessis Road, Winnipeg, MB  R3W 0H5, Canada zip: R3W 0H5&quot;,&quot;1050 Leila Avenue, Winnipeg, MB  R2P 1W6, Canada zip: R2P 1W6&quot;,&quot;2656 Pembina Highway, Winnipeg, MB  R3T 2H6, Canada zip: R3T 2H6&quot;,&quot;Unit C - 1155 Main Street, Winnipeg, MB  R2W 3S4, Canada zip: R2W 3S4&quot;,&quot;3665 Portage Avenue, Winnipeg, MB  R3K 2G6, Canada zip: R3K 2G6&quot;,&quot;2211 Pembina Highway, Winnipeg, MB  R3T 2H1, Canada zip: R3T 2H1&quot;,&quot;1-785 Dakota Street, Winnipeg, MB  R2M 5M3, Canada zip: R2M 5M3&quot;,&quot;2-360 Main Street, Winnipeg, MB  R3C 3Z8, Canada zip: R3C 3Z8&quot;,&quot;2025 Corydon Avenue, Winnipeg, MB  R3P 0N5, Canada zip: R3P 0N5&quot;,&quot;43 Marion Street, Winnipeg, MB  R2H 0S8, Canada zip: R2H 0S8&quot;,&quot;L178, 1485 Portage Avenue, Winnipeg, MB  R3G 0W4, Canada zip: R3G 0W4&quot;,&quot;1A - 3900 Grant Avenue, Winnipeg, MB  R3R 3C2, Canada zip: R3R 3C2&quot;,&quot;790 Sherbrook Street, Winnipeg, MB  R3A 1M3, Canada zip: R3A 1M3&quot;,&quot;795 Keewatin Street, Winnipeg, MB  R2X 3B9, Canada zip: R2X 3B9&quot;,&quot;P.O. Box 38108, East St. Paul, MB  R2E 1H3, Canada zip: R2E 1H3&quot;,&quot;1660 Kenaston Blvd., Winnipeg, MB  R3P 2M6, Canada zip: R3P 2M6&quot;,&quot;2850 Pembina Highway, Winnipeg, MB  R3T 6E4, Canada zip: R3T 6E4&quot;,&quot;1570 - 18th Street, Brandon, MB  R7A 5C5, Canada zip: R7A 5C5&quot;,&quot;7 Reenders Drive, Winnipeg, MB  R2C 5K5, Canada zip: R2C 5K5&quot;,&quot;2575 Main Street, Winnipeg, MB  R2V 4G4, Canada zip: R2V 4G4&quot;,&quot;1939 Bishop Grandin Blvd., Winnipeg, MB  R2M 5S1, Canada zip: R2M 5S1&quot;,&quot;3635 Portage Avenue, Winnipeg, MB  R3K 2G6, Canada zip: R3K 2G6&quot;,&quot;103-1151 Pembina Highway, Winnipeg, MB  R3T 2A3, Canada zip: R3T 2A3&quot;,&quot;2-30 Co-op Drive, PO Box 255, Oakbank, MB  R0E 1J0, Canada zip: R0E 1J0&quot;,&quot;P.O. Box 394, 457 Main Street, St. Adolphe, MB  R5A 1A2, Canada zip: R5A 1A2&quot;,&quot;Box 235, 109 Aspen Avenue S., St. Claude, MB  R0G 1Z0, Canada zip: R0G 1Z0&quot;,&quot;Box 355, St. Laurent, MB  R0C 2S0, Canada zip: R0C 2S0&quot;,&quot;122 St. Malo Street, P.O. Box 70, St. Malo, MB  R0A 1T0, Canada zip: R0A 1T0&quot;,&quot;6-980 St. Anne&#39;s Road, Winnipeg, MB  R2N 0A5, Canada zip: R2N 0A5&quot;,&quot;480-3rd Avenue S.E., Ste. Rose Du Lac, MB  R0L 1S0, Canada zip: R0L 1S0&quot;,&quot;Box 489, 5 Main Street, Stony Mountain, MB  R0C 3A0, Canada zip: R0C 3A0&quot;,&quot;Main Floor, 2300 McPhillips Street, Winnipeg, MB  R2V 3M3, Canada zip: R2V 3M3&quot;,&quot;115-1100 Concordia Avenue, Winnipeg, MB  R2K 4B8, Canada zip: R2K 4B8&quot;,&quot;101-2800 Pembina Highway, Winnipeg, MB  R3T 5P3, Canada zip: R3T 5P3&quot;,&quot;Unit 10 - 1399 McPhillips Street, Winnipeg, MB  R2V 3C4, Canada zip: R2V 3C4&quot;,&quot;Unit 1A - 660 Osborne Street, Winnipeg, MB  R3L 2B6, Canada zip: R3L 2B6&quot;,&quot;#3-555 Balmoral Street, Winnipeg, MB  R3B 2R2, Canada zip: R3B 2R2&quot;,&quot;Suite 103 -1780 Wellington Avenue, Winnipeg, MB  R3H 1B3, Canada zip: R3H 1B3&quot;,&quot;301 Nassau Street N., Winnipeg, MB  R3L 2J5, Canada zip: R3L 2J5&quot;,&quot;Rm.111, Univ. Centre Bldg., University Of Manitoba, Winnipeg, MB  R3T 2N2, Canada zip: R3T 2N2&quot;,&quot;2340 Pembina Highway, Winnipeg, MB  R3T 2E8, Canada zip: R3T 2E8&quot;,&quot;709 Sargent Avenue, Winnipeg, MB  R3E 0B1, Canada zip: R3E 0B1&quot;,&quot;3655 Portage Avenue, Winnipeg, MB  R3K 2G6, Canada zip: R3K 2G6&quot;,&quot;2370 McPhillips Street, Winnipeg, MB  R2V 4S6, Canada zip: R2V 4S6&quot;,&quot;1665 Kenaston Blvd., Winnipeg, MB  R3P 2M4, Canada zip: R3P 2M4&quot;,&quot;Box 278, 445 Norton Avenue, Miami, MB  R0G 1H0, Canada zip: R0G 1H0&quot;,&quot;7-1421 St. James Street, Winnipeg, MB  R3H 0Y9, Canada zip: R3H 0Y9&quot;,&quot;200-1st Street, Winnipegosis, MB  R0L 2G0, Canada zip: R0L 2G0&quot;],&quot;lon&quot;:[-122.786988,-122.331194,-122.977389,-134.944639,-122.773234,-123.107836,-123.347157,-123.072348,-122.799908,-122.841664,-123.120916,-122.82509,-123.096001,-122.82509,-122.95263,-123.457804,-122.875286,-122.861874,-123.065614,-122.868057,-123.081815,-122.799908,-123.238577,-121.815256,-122.868057,-123.959447,-123.072348,-122.937887,-122.841664,-122.702525,-122.25257,-123.065614,-123.11934,-122.799908,-122.82509,-122.909873,-123.357167,-122.868057,-122.9068,-123.065614,-123.985525,-122.771814,-122.95263,-123.13683,-122.937887,-123.064673,-123.068524,null,-123.068585,-122.816946,-122.841664,-123.031289,-123.361795,-122.95263,-122.753373,-122.655969,-123.096001,-122.799908,-123.369235,-123.3693,-123.357812,-115.971299,-123.089441,-123.089441,-123.089441,-123.089441,-122.841664,-122.940994,-122.841664,-123.013939,-122.804226,-84.075776,-122.892765,-122.841664,-122.785431,-123.136555,-123.065614,-123.312889,-123.333662,-122.937887,-122.84331,-122.816946,-123.36931,-122.961767,-122.909873,-123.068585,-122.964601,-122.95263,-129.89385,-123.43043,-123.3711,-123.031289,-123.11934,-123.11934,-122.816946,-122.87532,-123.098669,-123.11934,-122.82509,-119.48568,null,-122.68227,-123.115953,-123.068524,-123.029302,-123.197167,-123.005744,-122.75262,-120.355123,-123.381812,-122.777198,-123.112468,-122.769478,null,null,-123.072348,-122.892765,-119.482181,-122.82509,-123.50605,-123.140105,-123.072077,-123.096001,-123.072348,-122.937887,-122.841664,-122.799908,-122.937299,-123.358915,-122.25257,-122.65883,-123.115953,-123.098669,-123.357665,-123.946941,-121.9459,-122.782769,-123.61749,-123.064673,-123.151771,-123.065614,-123.3693,-125.230421,-123.096001,-123.129111,-122.830992,-122.25257,-123.107836,-123.072348,-123.029302,-123.065614,-123.06934,-123.096001,-123.0416,-123.11934,-123.068585,-122.75262,-123.029302,-123.029302,-123.105221,-123.197167,-122.75262,-122.792145,-122.839876,-122.841664,-123.13683,-122.580791,-122.909873,-122.302132,-123.065614,-122.799114,-123.121382,-123.089441,-123.333662,-122.95263,-123.94003,-123.139226,-122.82509,-123.94003,-122.888808,-122.82509,-123.13683,-119.48568,-122.806159,-122.937887,-123.182501,-122.841664,-123.065614,-123.184243,-123.065614,-123.059569,-122.65883,-122.82509,-122.792145,-122.82509,-123.029302,null,-123.031289,-122.91092,-123.075547,-123.059976,-123.072348,-123.167395,-123.15075,-122.75262,-123.103734,null,-123.61749,-123.031289,-123.089441,-122.862311,-122.979477,-122.888808,null,-123.13683,-117.126333,-122.82509,-122.888808,-122.756478,-123.072348,-123.029302,-122.512498,-123.09345,-122.961388,-122.888808,-122.25257,-122.95263,-123.114487,-119.482181,-122.888808,-122.560105,-122.631953,-123.13683,-123.089441,-123.13683,-123.029302,-123.068585,-123.089469,-123.029302,-122.96726,-122.829877,-123.457804,-122.82509,-122.934213,-122.785431,-129.89385,-123.390997,-122.82509,-123.959447,-119.146072,-123.169836,-123.333787,-123.056295,-122.260811,-122.65883,-122.260811,-123.111115,null,-123.16652,-122.95263,-123.13683,-122.82509,-123.140105,-123.096001,-123.128281,-123.098669,-123.115953,-122.777198,-122.82509,-123.042626,-122.982918,-119.48568,-123.105063,-122.68227,-123.328163,-122.729335,-123.181116,-122.490041,-123.029302,-122.761371,-122.841664,-122.884104,-122.937887,-122.782769,-123.214999,-123.096001,-123.183769,-123.16652,-123.128281,-123.094079,-122.95263,-122.909873,-123.170153,-123.172648,-123.13683,-123.358915,-123.098669,-123.068585,-123.147848,-122.65883,-119.146072,-123.352616,-123.337232,null,-123.352616,-123.158906,null,null,-123.140105,-121.962567,-123.465962,-123.102599,-122.806159,-123.3693,-122.792145,-123.068585,-123.266198,-123.129403,null,-123.3693,-123.13683,-122.940994,-134.944639,-122.841664,-122.89155,-123.089469,-122.997475,-122.782769,-122.6685,-122.799908,-117.214998,-122.829877,-123.064673,-122.888808,-123.023814,-123.15868,-123.06934,-123.136555,-134.944639,-122.839876,-121.95257,null,-123.098669,-123.029302,-122.82509,-124.280345,-134.944639,-122.82509,-122.937887,-122.909873,-122.799908,-122.91092,-123.3693,-123.3693,-111.183402,-122.890423,-123.099075,-123.985525,-124.404516,-125.234061,-122.9068,-122.782228,-123.13683,-123.13683,-123.3693,-123.361795,null,null,-123.06934,-123.040457,-122.829877,-122.95263,-122.907147,-122.841664,-112.145186,-122.95263,-119.48568,-122.937887,-122.8026,-123.11934,-122.82509,-122.89155,-122.82509,-123.13683,-123.096001,-122.75301,-123.266198,-122.997475,-123.089441,-123.337429,-123.13683,-123.169836,-123.361795,-123.096001,-122.95263,-122.937887,-122.65883,-123.386205,-123.096001,-122.810124,-122.82509,-122.75301,-123.457804,null,-123.3693,null,-123.11934,null,-120.3192,-123.183769,-123.06934,-123.19359,-122.65883,-123.36931,-122.93677,-122.815105,-119.145556,-121.95257,-123.040457,null,-123.072348,-122.65883,-122.512498,-122.95263,-123.94003,-122.799908,-121.250291,-119.146072,-123.068058,-123.089597,-122.786988,-123.06934,-122.75301,-123.197167,-123.11934,-123.147848,-122.82509,-122.888808,-122.75262,-122.890423,-122.82509,-122.25257,-123.124969,-123.098101,-123.029302,-122.909873,-122.95263,-122.997971,-134.944639,-119.48568,-122.82509,-123.11812,-123.049331,-123.089441,-123.140105,-123.128281,-122.937887,-123.098669,-122.25257,-123.266198,-119.48568,-119.482181,-123.068585,-119.488232,-122.75262,-122.905853,-122.316623,-123.123839,-122.888808,-122.82509,-123.469686,-123.031289,-122.888808,-122.708741,-122.799908,-122.841664,-123.181116,-123.089441,-123.098669,-122.82509,-122.76932,-123.13683,-122.937887,-122.655969,-123.358915,-123.029302,-122.909873,-122.842836,-123.333662,-123.064673,-123.3693,-122.580791,-121.815256,-123.11934,-123.059629,-122.888841,-122.9068,-122.25257,null,-122.91092,-122.841664,-122.89155,-120.3192,-123.114487,-123.94003,-121.95257,-123.381812,-123.144622,-66.566883,-122.792145,-122.777198,-122.753373,-123.072348,-123.089441,-122.868057,-122.89155,-123.170153,-123.063767,-123.113344,-123.10413,-122.65883,null,-122.25257,-123.140105,-123.183769,-122.868057,-122.26036,-123.029302,-97.153295,-97.185236,-97.20057,-97.14704,null,-97.14704,-97.14704,null,-97.203048,null,-97.14708,null,-97.14704,-97.213584,-97.14704,-97.053601,-97.053601,-97.051031,-97.199666,-97.14704,-95.969321,null,-113.143169,-100.29619,-97.216024,-97.14704,-97.139498,null,-97.14704,-76.493413,-98.894906,-97.14704,-97.156352,-97.14704,-97.135082,-99.95306,null,-97.14704,-97.14704,null,null,-97.14704,-97.14704,-97.152778,-97.1591,-97.198939,-97.14704,-79.298336,-97.14704,-96.655492,null,null,null,null,-97.209788,-97.153982,-97.14704,-97.14704,-79.298336,null,null,-99.95306,null,null,-97.14704,-97.14704,-97.216024,-97.14704,-79.862839,-97.14704,-97.14704,-97.14704,-97.102157,null,-97.126986,-97.111622,-97.105126,-97.14704,-97.161405,-97.14704,-97.14704,-97.14704,-97.158997,-97.14704,-97.14704,-97.161405,-97.216024,-97.151758,-97.194067,-97.206181,-97.14704,-97.168025,-97.200368,-97.14704,-97.168025,-97.157485,-97.14704,-97.053601,-97.296427,-97.14704,-97.02527,-97.132856,-97.14704,-97.14704,-97.216024,-97.14704,-97.102157,-97.126986,-97.161405,-97.199626,-97.14704,-97.14704,-97.157966,-97.195351,null,-97.206181,-97.14704,-99.961769,-97.065803,-97.126986,-97.157206,-97.216024,-97.14704,-76.56915,null,null,null,-75.287396,-97.14704,null,-96.65,-97.126986,-97.053601,-97.14704,-97.14704,-97.14704,-97.152965,-97.14704,-97.14704,-97.14704,-97.14704,-97.163898,-97.216024,-97.168025,-97.206181,null,-97.14704,-99.975127],&quot;marker&quot;:{&quot;color&quot;:&quot;red&quot;,&quot;size&quot;:10}},{&quot;mode&quot;:&quot;lines&quot;,&quot;line&quot;:{&quot;color&quot;:&quot;black&quot;},&quot;type&quot;:&quot;scattergeo&quot;,&quot;lat&quot;:[49.198845,49.190394728435],&quot;hoverinfo&quot;:&quot;none&quot;,&quot;lon&quot;:[-122.786988,-122.848462790325]},{&quot;mode&quot;:&quot;lines&quot;,&quot;line&quot;:{&quot;color&quot;:&quot;black&quot;},&quot;type&quot;:&quot;scattergeo&quot;,&quot;lat&quot;:[49.051692,49.0397175093574],&quot;hoverinfo&quot;:&quot;none&quot;,&quot;lon&quot;:[-122.331194,-122.285383962384]},{&quot;mode&quot;:&quot;lines&quot;,&quot;line&quot;:{&quot;color&quot;:&quot;black&quot;},&quot;type&quot;:&quot;scattergeo&quot;,&quot;lat&quot;:[49.225844,49.2031043659851],&quot;hoverinfo&quot;:&quot;none&quot;,&quot;lon&quot;:[-122.977389,-122.992325673539]},{&quot;mode&quot;:&quot;lines&quot;,&quot;line&quot;:{&quot;color&quot;:&quot;black&quot;},&quot;type&quot;:&quot;scattergeo&quot;,&quot;lat&quot;:[59.785092,49.0691909915843],&quot;hoverinfo&quot;:&quot;none&quot;,&quot;lon&quot;:[-134.944639,-122.502340746886]},{&quot;mode&quot;:&quot;lines&quot;,&quot;line&quot;:{&quot;color&quot;:&quot;black&quot;},&quot;type&quot;:&quot;scattergeo&quot;,&quot;lat&quot;:[49.140937,49.1410042094931],&quot;hoverinfo&quot;:&quot;none&quot;,&quot;lon&quot;:[-122.773234,-122.856837478998]},{&quot;mode&quot;:&quot;lines&quot;,&quot;line&quot;:{&quot;color&quot;:&quot;black&quot;},&quot;type&quot;:&quot;scattergeo&quot;,&quot;lat&quot;:[49.320258,49.3224863139215],&quot;hoverinfo&quot;:&quot;none&quot;,&quot;lon&quot;:[-123.107836,-123.084865113587]},{&quot;mode&quot;:&quot;lines&quot;,&quot;line&quot;:{&quot;color&quot;:&quot;black&quot;},&quot;type&quot;:&quot;scattergeo&quot;,&quot;lat&quot;:[48.426922,48.4276915424915],&quot;hoverinfo&quot;:&quot;none&quot;,&quot;lon&quot;:[-123.347157,-123.364360876863]},{&quot;mode&quot;:&quot;lines&quot;,&quot;line&quot;:{&quot;color&quot;:&quot;black&quot;},&quot;type&quot;:&quot;scattergeo&quot;,&quot;lat&quot;:[49.321018,49.3224863139215],&quot;hoverinfo&quot;:&quot;none&quot;,&quot;lon&quot;:[-123.072348,-123.084865113587]},{&quot;mode&quot;:&quot;lines&quot;,&quot;line&quot;:{&quot;color&quot;:&quot;black&quot;},&quot;type&quot;:&quot;scattergeo&quot;,&quot;lat&quot;:[49.038359,49.0552243022838],&quot;hoverinfo&quot;:&quot;none&quot;,&quot;lon&quot;:[-122.799908,-122.828060602292]},{&quot;mode&quot;:&quot;lines&quot;,&quot;line&quot;:{&quot;color&quot;:&quot;black&quot;},&quot;type&quot;:&quot;scattergeo&quot;,&quot;lat&quot;:[49.152089,49.190394728435],&quot;hoverinfo&quot;:&quot;none&quot;,&quot;lon&quot;:[-122.841664,-122.848462790325]},{&quot;mode&quot;:&quot;lines&quot;,&quot;line&quot;:{&quot;color&quot;:&quot;black&quot;},&quot;type&quot;:&quot;scattergeo&quot;,&quot;lat&quot;:[49.286551,0.0],&quot;hoverinfo&quot;:&quot;none&quot;,&quot;lon&quot;:[-123.120916,0.0]},{&quot;mode&quot;:&quot;lines&quot;,&quot;line&quot;:{&quot;color&quot;:&quot;black&quot;},&quot;type&quot;:&quot;scattergeo&quot;,&quot;lat&quot;:[49.10635,49.1176110168489],&quot;hoverinfo&quot;:&quot;none&quot;,&quot;lon&quot;:[-122.82509,-122.754853365374]},{&quot;mode&quot;:&quot;lines&quot;,&quot;line&quot;:{&quot;color&quot;:&quot;black&quot;},&quot;type&quot;:&quot;scattergeo&quot;,&quot;lat&quot;:[49.262639,49.2474770879481],&quot;hoverinfo&quot;:&quot;none&quot;,&quot;lon&quot;:[-123.096001,-123.121233343796]},{&quot;mode&quot;:&quot;lines&quot;,&quot;line&quot;:{&quot;color&quot;:&quot;black&quot;},&quot;type&quot;:&quot;scattergeo&quot;,&quot;lat&quot;:[49.10635,49.0385145601345],&quot;hoverinfo&quot;:&quot;none&quot;,&quot;lon&quot;:[-122.82509,-122.83110874713]},{&quot;mode&quot;:&quot;lines&quot;,&quot;line&quot;:{&quot;color&quot;:&quot;black&quot;},&quot;type&quot;:&quot;scattergeo&quot;,&quot;lat&quot;:[49.26636,49.2766738428341],&quot;hoverinfo&quot;:&quot;none&quot;,&quot;lon&quot;:[-122.95263,-123.007422486654]},{&quot;mode&quot;:&quot;lines&quot;,&quot;line&quot;:{&quot;color&quot;:&quot;black&quot;},&quot;type&quot;:&quot;scattergeo&quot;,&quot;lat&quot;:[48.696901,48.5816953672664],&quot;hoverinfo&quot;:&quot;none&quot;,&quot;lon&quot;:[-123.457804,-123.422318363172]},{&quot;mode&quot;:&quot;lines&quot;,&quot;line&quot;:{&quot;color&quot;:&quot;black&quot;},&quot;type&quot;:&quot;scattergeo&quot;,&quot;lat&quot;:[49.047077,49.1831831533453],&quot;hoverinfo&quot;:&quot;none&quot;,&quot;lon&quot;:[-122.875286,-122.876242276909]},{&quot;mode&quot;:&quot;lines&quot;,&quot;line&quot;:{&quot;color&quot;:&quot;black&quot;},&quot;type&quot;:&quot;scattergeo&quot;,&quot;lat&quot;:[49.185612,49.1410042094931],&quot;hoverinfo&quot;:&quot;none&quot;,&quot;lon&quot;:[-122.861874,-122.856837478998]},{&quot;mode&quot;:&quot;lines&quot;,&quot;line&quot;:{&quot;color&quot;:&quot;black&quot;},&quot;type&quot;:&quot;scattergeo&quot;,&quot;lat&quot;:[49.27706,49.2235963510792],&quot;hoverinfo&quot;:&quot;none&quot;,&quot;lon&quot;:[-123.065614,-123.067835340981]},{&quot;mode&quot;:&quot;lines&quot;,&quot;line&quot;:{&quot;color&quot;:&quot;black&quot;},&quot;type&quot;:&quot;scattergeo&quot;,&quot;lat&quot;:[49.170794,49.1410042094931],&quot;hoverinfo&quot;:&quot;none&quot;,&quot;lon&quot;:[-122.868057,-122.856837478998]},{&quot;mode&quot;:&quot;lines&quot;,&quot;line&quot;:{&quot;color&quot;:&quot;black&quot;},&quot;type&quot;:&quot;scattergeo&quot;,&quot;lat&quot;:[49.313175,49.322209821279],&quot;hoverinfo&quot;:&quot;none&quot;,&quot;lon&quot;:[-123.081815,-123.113622357888]},{&quot;mode&quot;:&quot;lines&quot;,&quot;line&quot;:{&quot;color&quot;:&quot;black&quot;},&quot;type&quot;:&quot;scattergeo&quot;,&quot;lat&quot;:[49.038359,49.1963107379676],&quot;hoverinfo&quot;:&quot;none&quot;,&quot;lon&quot;:[-122.799908,-122.824169757623]},{&quot;mode&quot;:&quot;lines&quot;,&quot;line&quot;:{&quot;color&quot;:&quot;black&quot;},&quot;type&quot;:&quot;scattergeo&quot;,&quot;lat&quot;:[49.258451,49.2508143510126],&quot;hoverinfo&quot;:&quot;none&quot;,&quot;lon&quot;:[-123.238577,-123.215501310984]},{&quot;mode&quot;:&quot;lines&quot;,&quot;line&quot;:{&quot;color&quot;:&quot;black&quot;},&quot;type&quot;:&quot;scattergeo&quot;,&quot;lat&quot;:[49.155659,49.1806404435479],&quot;hoverinfo&quot;:&quot;none&quot;,&quot;lon&quot;:[-121.815256,-121.900229531001]},{&quot;mode&quot;:&quot;lines&quot;,&quot;line&quot;:{&quot;color&quot;:&quot;black&quot;},&quot;type&quot;:&quot;scattergeo&quot;,&quot;lat&quot;:[49.170794,49.190394728435],&quot;hoverinfo&quot;:&quot;none&quot;,&quot;lon&quot;:[-122.868057,-122.848462790325]},{&quot;mode&quot;:&quot;lines&quot;,&quot;line&quot;:{&quot;color&quot;:&quot;black&quot;},&quot;type&quot;:&quot;scattergeo&quot;,&quot;lat&quot;:[49.172724,49.1894387656804],&quot;hoverinfo&quot;:&quot;none&quot;,&quot;lon&quot;:[-123.959447,-123.963586439922]},{&quot;mode&quot;:&quot;lines&quot;,&quot;line&quot;:{&quot;color&quot;:&quot;black&quot;},&quot;type&quot;:&quot;scattergeo&quot;,&quot;lat&quot;:[49.321018,49.3224863139215],&quot;hoverinfo&quot;:&quot;none&quot;,&quot;lon&quot;:[-123.072348,-123.084865113587]},{&quot;mode&quot;:&quot;lines&quot;,&quot;line&quot;:{&quot;color&quot;:&quot;black&quot;},&quot;type&quot;:&quot;scattergeo&quot;,&quot;lat&quot;:[49.213447,49.2287120398275],&quot;hoverinfo&quot;:&quot;none&quot;,&quot;lon&quot;:[-122.937887,-122.996471986297]},{&quot;mode&quot;:&quot;lines&quot;,&quot;line&quot;:{&quot;color&quot;:&quot;black&quot;},&quot;type&quot;:&quot;scattergeo&quot;,&quot;lat&quot;:[49.152089,49.1831831533453],&quot;hoverinfo&quot;:&quot;none&quot;,&quot;lon&quot;:[-122.841664,-122.876242276909]},{&quot;mode&quot;:&quot;lines&quot;,&quot;line&quot;:{&quot;color&quot;:&quot;black&quot;},&quot;type&quot;:&quot;scattergeo&quot;,&quot;lat&quot;:[49.060135,49.1719889563992],&quot;hoverinfo&quot;:&quot;none&quot;,&quot;lon&quot;:[-122.702525,-122.734851508864]},{&quot;mode&quot;:&quot;lines&quot;,&quot;line&quot;:{&quot;color&quot;:&quot;black&quot;},&quot;type&quot;:&quot;scattergeo&quot;,&quot;lat&quot;:[49.05798,49.0391641015383],&quot;hoverinfo&quot;:&quot;none&quot;,&quot;lon&quot;:[-122.25257,-122.347843226749]},{&quot;mode&quot;:&quot;lines&quot;,&quot;line&quot;:{&quot;color&quot;:&quot;black&quot;},&quot;type&quot;:&quot;scattergeo&quot;,&quot;lat&quot;:[49.27706,49.2235963510792],&quot;hoverinfo&quot;:&quot;none&quot;,&quot;lon&quot;:[-123.065614,-123.067835340981]},{&quot;mode&quot;:&quot;lines&quot;,&quot;line&quot;:{&quot;color&quot;:&quot;black&quot;},&quot;type&quot;:&quot;scattergeo&quot;,&quot;lat&quot;:[49.24966,49.2834575694212],&quot;hoverinfo&quot;:&quot;none&quot;,&quot;lon&quot;:[-123.11934,-123.129406113292]},{&quot;mode&quot;:&quot;lines&quot;,&quot;line&quot;:{&quot;color&quot;:&quot;black&quot;},&quot;type&quot;:&quot;scattergeo&quot;,&quot;lat&quot;:[49.038359,49.1963107379676],&quot;hoverinfo&quot;:&quot;none&quot;,&quot;lon&quot;:[-122.799908,-122.824169757623]},{&quot;mode&quot;:&quot;lines&quot;,&quot;line&quot;:{&quot;color&quot;:&quot;black&quot;},&quot;type&quot;:&quot;scattergeo&quot;,&quot;lat&quot;:[49.10635,49.1963107379676],&quot;hoverinfo&quot;:&quot;none&quot;,&quot;lon&quot;:[-122.82509,-122.824169757623]},{&quot;mode&quot;:&quot;lines&quot;,&quot;line&quot;:{&quot;color&quot;:&quot;black&quot;},&quot;type&quot;:&quot;scattergeo&quot;,&quot;lat&quot;:[49.202124,49.2211306947439],&quot;hoverinfo&quot;:&quot;none&quot;,&quot;lon&quot;:[-122.909873,-122.898883878006]},{&quot;mode&quot;:&quot;lines&quot;,&quot;line&quot;:{&quot;color&quot;:&quot;black&quot;},&quot;type&quot;:&quot;scattergeo&quot;,&quot;lat&quot;:[48.423997,48.4164754620703],&quot;hoverinfo&quot;:&quot;none&quot;,&quot;lon&quot;:[-123.357167,-123.365138868897]},{&quot;mode&quot;:&quot;lines&quot;,&quot;line&quot;:{&quot;color&quot;:&quot;black&quot;},&quot;type&quot;:&quot;scattergeo&quot;,&quot;lat&quot;:[49.170794,49.190394728435],&quot;hoverinfo&quot;:&quot;none&quot;,&quot;lon&quot;:[-122.868057,-122.848462790325]},{&quot;mode&quot;:&quot;lines&quot;,&quot;line&quot;:{&quot;color&quot;:&quot;black&quot;},&quot;type&quot;:&quot;scattergeo&quot;,&quot;lat&quot;:[49.14399,49.1984065446686],&quot;hoverinfo&quot;:&quot;none&quot;,&quot;lon&quot;:[-122.9068,-122.934408509512]},{&quot;mode&quot;:&quot;lines&quot;,&quot;line&quot;:{&quot;color&quot;:&quot;black&quot;},&quot;type&quot;:&quot;scattergeo&quot;,&quot;lat&quot;:[49.27706,49.2235963510792],&quot;hoverinfo&quot;:&quot;none&quot;,&quot;lon&quot;:[-123.065614,-123.067835340981]},{&quot;mode&quot;:&quot;lines&quot;,&quot;line&quot;:{&quot;color&quot;:&quot;black&quot;},&quot;type&quot;:&quot;scattergeo&quot;,&quot;lat&quot;:[49.187084,49.2391998662373],&quot;hoverinfo&quot;:&quot;none&quot;,&quot;lon&quot;:[-123.985525,-124.023245438063]},{&quot;mode&quot;:&quot;lines&quot;,&quot;line&quot;:{&quot;color&quot;:&quot;black&quot;},&quot;type&quot;:&quot;scattergeo&quot;,&quot;lat&quot;:[53.884408,53.6493565080645],&quot;hoverinfo&quot;:&quot;none&quot;,&quot;lon&quot;:[-122.771814,-122.957816392392]},{&quot;mode&quot;:&quot;lines&quot;,&quot;line&quot;:{&quot;color&quot;:&quot;black&quot;},&quot;type&quot;:&quot;scattergeo&quot;,&quot;lat&quot;:[49.26636,49.2766738428341],&quot;hoverinfo&quot;:&quot;none&quot;,&quot;lon&quot;:[-122.95263,-123.007422486654]},{&quot;mode&quot;:&quot;lines&quot;,&quot;line&quot;:{&quot;color&quot;:&quot;black&quot;},&quot;type&quot;:&quot;scattergeo&quot;,&quot;lat&quot;:[49.17003,49.1546181747017],&quot;hoverinfo&quot;:&quot;none&quot;,&quot;lon&quot;:[-123.13683,-123.050841826166]},{&quot;mode&quot;:&quot;lines&quot;,&quot;line&quot;:{&quot;color&quot;:&quot;black&quot;},&quot;type&quot;:&quot;scattergeo&quot;,&quot;lat&quot;:[49.213447,49.2287120398275],&quot;hoverinfo&quot;:&quot;none&quot;,&quot;lon&quot;:[-122.937887,-122.996471986297]},{&quot;mode&quot;:&quot;lines&quot;,&quot;line&quot;:{&quot;color&quot;:&quot;black&quot;},&quot;type&quot;:&quot;scattergeo&quot;,&quot;lat&quot;:[49.21709,49.2834575694212],&quot;hoverinfo&quot;:&quot;none&quot;,&quot;lon&quot;:[-123.064673,-123.129406113292]},{&quot;mode&quot;:&quot;lines&quot;,&quot;line&quot;:{&quot;color&quot;:&quot;black&quot;},&quot;type&quot;:&quot;scattergeo&quot;,&quot;lat&quot;:[49.343248,49.3157977072378],&quot;hoverinfo&quot;:&quot;none&quot;,&quot;lon&quot;:[-123.068524,-123.057394813444]},{&quot;mode&quot;:&quot;lines&quot;,&quot;line&quot;:{&quot;color&quot;:&quot;black&quot;},&quot;type&quot;:&quot;scattergeo&quot;,&quot;lat&quot;:[null,49.892071734828],&quot;hoverinfo&quot;:&quot;none&quot;,&quot;lon&quot;:[null,-119.484658444334]},{&quot;mode&quot;:&quot;lines&quot;,&quot;line&quot;:{&quot;color&quot;:&quot;black&quot;},&quot;type&quot;:&quot;scattergeo&quot;,&quot;lat&quot;:[49.237983,49.2553846831502],&quot;hoverinfo&quot;:&quot;none&quot;,&quot;lon&quot;:[-123.068585,-123.066013649185]},{&quot;mode&quot;:&quot;lines&quot;,&quot;line&quot;:{&quot;color&quot;:&quot;black&quot;},&quot;type&quot;:&quot;scattergeo&quot;,&quot;lat&quot;:[49.19268,49.190394728435],&quot;hoverinfo&quot;:&quot;none&quot;,&quot;lon&quot;:[-122.816946,-122.848462790325]},{&quot;mode&quot;:&quot;lines&quot;,&quot;line&quot;:{&quot;color&quot;:&quot;black&quot;},&quot;type&quot;:&quot;scattergeo&quot;,&quot;lat&quot;:[49.152089,49.190394728435],&quot;hoverinfo&quot;:&quot;none&quot;,&quot;lon&quot;:[-122.841664,-122.848462790325]},{&quot;mode&quot;:&quot;lines&quot;,&quot;line&quot;:{&quot;color&quot;:&quot;black&quot;},&quot;type&quot;:&quot;scattergeo&quot;,&quot;lat&quot;:[49.286103,49.2792476329574],&quot;hoverinfo&quot;:&quot;none&quot;,&quot;lon&quot;:[-123.031289,-123.089566417568]},{&quot;mode&quot;:&quot;lines&quot;,&quot;line&quot;:{&quot;color&quot;:&quot;black&quot;},&quot;type&quot;:&quot;scattergeo&quot;,&quot;lat&quot;:[48.429315,48.477480017302],&quot;hoverinfo&quot;:&quot;none&quot;,&quot;lon&quot;:[-123.361795,-123.36608053282]},{&quot;mode&quot;:&quot;lines&quot;,&quot;line&quot;:{&quot;color&quot;:&quot;black&quot;},&quot;type&quot;:&quot;scattergeo&quot;,&quot;lat&quot;:[49.26636,49.2599844835188],&quot;hoverinfo&quot;:&quot;none&quot;,&quot;lon&quot;:[-122.95263,-123.039291252264]},{&quot;mode&quot;:&quot;lines&quot;,&quot;line&quot;:{&quot;color&quot;:&quot;black&quot;},&quot;type&quot;:&quot;scattergeo&quot;,&quot;lat&quot;:[49.176992,49.1831831533453],&quot;hoverinfo&quot;:&quot;none&quot;,&quot;lon&quot;:[-122.753373,-122.876242276909]},{&quot;mode&quot;:&quot;lines&quot;,&quot;line&quot;:{&quot;color&quot;:&quot;black&quot;},&quot;type&quot;:&quot;scattergeo&quot;,&quot;lat&quot;:[49.176465,49.0938916038734],&quot;hoverinfo&quot;:&quot;none&quot;,&quot;lon&quot;:[-122.655969,-122.647453561111]},{&quot;mode&quot;:&quot;lines&quot;,&quot;line&quot;:{&quot;color&quot;:&quot;black&quot;},&quot;type&quot;:&quot;scattergeo&quot;,&quot;lat&quot;:[49.262639,49.2560324587443],&quot;hoverinfo&quot;:&quot;none&quot;,&quot;lon&quot;:[-123.096001,-123.132777904483]},{&quot;mode&quot;:&quot;lines&quot;,&quot;line&quot;:{&quot;color&quot;:&quot;black&quot;},&quot;type&quot;:&quot;scattergeo&quot;,&quot;lat&quot;:[49.038359,49.1963107379676],&quot;hoverinfo&quot;:&quot;none&quot;,&quot;lon&quot;:[-122.799908,-122.824169757623]},{&quot;mode&quot;:&quot;lines&quot;,&quot;line&quot;:{&quot;color&quot;:&quot;black&quot;},&quot;type&quot;:&quot;scattergeo&quot;,&quot;lat&quot;:[48.441949,48.438852542965],&quot;hoverinfo&quot;:&quot;none&quot;,&quot;lon&quot;:[-123.369235,-123.407442429181]},{&quot;mode&quot;:&quot;lines&quot;,&quot;line&quot;:{&quot;color&quot;:&quot;black&quot;},&quot;type&quot;:&quot;scattergeo&quot;,&quot;lat&quot;:[48.43294,48.4827382013408],&quot;hoverinfo&quot;:&quot;none&quot;,&quot;lon&quot;:[-123.3693,-123.506344576293]},{&quot;mode&quot;:&quot;lines&quot;,&quot;line&quot;:{&quot;color&quot;:&quot;black&quot;},&quot;type&quot;:&quot;scattergeo&quot;,&quot;lat&quot;:[48.427779,48.4164754620703],&quot;hoverinfo&quot;:&quot;none&quot;,&quot;lon&quot;:[-123.357812,-123.365138868897]},{&quot;mode&quot;:&quot;lines&quot;,&quot;line&quot;:{&quot;color&quot;:&quot;black&quot;},&quot;type&quot;:&quot;scattergeo&quot;,&quot;lat&quot;:[49.669456,56.2740795809477],&quot;hoverinfo&quot;:&quot;none&quot;,&quot;lon&quot;:[-115.971299,-120.801104114379]},{&quot;mode&quot;:&quot;lines&quot;,&quot;line&quot;:{&quot;color&quot;:&quot;black&quot;},&quot;type&quot;:&quot;scattergeo&quot;,&quot;lat&quot;:[49.257164,49.2483683725875],&quot;hoverinfo&quot;:&quot;none&quot;,&quot;lon&quot;:[-123.089441,-123.090270017544]},{&quot;mode&quot;:&quot;lines&quot;,&quot;line&quot;:{&quot;color&quot;:&quot;black&quot;},&quot;type&quot;:&quot;scattergeo&quot;,&quot;lat&quot;:[49.257164,49.2483683725875],&quot;hoverinfo&quot;:&quot;none&quot;,&quot;lon&quot;:[-123.089441,-123.090270017544]},{&quot;mode&quot;:&quot;lines&quot;,&quot;line&quot;:{&quot;color&quot;:&quot;black&quot;},&quot;type&quot;:&quot;scattergeo&quot;,&quot;lat&quot;:[49.257164,49.2483683725875],&quot;hoverinfo&quot;:&quot;none&quot;,&quot;lon&quot;:[-123.089441,-123.090270017544]},{&quot;mode&quot;:&quot;lines&quot;,&quot;line&quot;:{&quot;color&quot;:&quot;black&quot;},&quot;type&quot;:&quot;scattergeo&quot;,&quot;lat&quot;:[49.257164,49.2329747531744],&quot;hoverinfo&quot;:&quot;none&quot;,&quot;lon&quot;:[-123.089441,-123.092112415841]},{&quot;mode&quot;:&quot;lines&quot;,&quot;line&quot;:{&quot;color&quot;:&quot;black&quot;},&quot;type&quot;:&quot;scattergeo&quot;,&quot;lat&quot;:[49.152089,49.190394728435],&quot;hoverinfo&quot;:&quot;none&quot;,&quot;lon&quot;:[-122.841664,-122.848462790325]},{&quot;mode&quot;:&quot;lines&quot;,&quot;line&quot;:{&quot;color&quot;:&quot;black&quot;},&quot;type&quot;:&quot;scattergeo&quot;,&quot;lat&quot;:[49.224089,49.2493050777848],&quot;hoverinfo&quot;:&quot;none&quot;,&quot;lon&quot;:[-122.940994,-122.993815083006]},{&quot;mode&quot;:&quot;lines&quot;,&quot;line&quot;:{&quot;color&quot;:&quot;black&quot;},&quot;type&quot;:&quot;scattergeo&quot;,&quot;lat&quot;:[49.152089,49.190394728435],&quot;hoverinfo&quot;:&quot;none&quot;,&quot;lon&quot;:[-122.841664,-122.848462790325]},{&quot;mode&quot;:&quot;lines&quot;,&quot;line&quot;:{&quot;color&quot;:&quot;black&quot;},&quot;type&quot;:&quot;scattergeo&quot;,&quot;lat&quot;:[49.256766,49.2766738428341],&quot;hoverinfo&quot;:&quot;none&quot;,&quot;lon&quot;:[-123.013939,-123.007422486654]},{&quot;mode&quot;:&quot;lines&quot;,&quot;line&quot;:{&quot;color&quot;:&quot;black&quot;},&quot;type&quot;:&quot;scattergeo&quot;,&quot;lat&quot;:[49.193214,49.1176110168489],&quot;hoverinfo&quot;:&quot;none&quot;,&quot;lon&quot;:[-122.804226,-122.754853365374]},{&quot;mode&quot;:&quot;lines&quot;,&quot;line&quot;:{&quot;color&quot;:&quot;black&quot;},&quot;type&quot;:&quot;scattergeo&quot;,&quot;lat&quot;:[46.493607,49.6960071548991],&quot;hoverinfo&quot;:&quot;none&quot;,&quot;lon&quot;:[-84.075776,-116.33379949076]},{&quot;mode&quot;:&quot;lines&quot;,&quot;line&quot;:{&quot;color&quot;:&quot;black&quot;},&quot;type&quot;:&quot;scattergeo&quot;,&quot;lat&quot;:[49.249386,49.2364668900495],&quot;hoverinfo&quot;:&quot;none&quot;,&quot;lon&quot;:[-122.892765,-122.852141086465]},{&quot;mode&quot;:&quot;lines&quot;,&quot;line&quot;:{&quot;color&quot;:&quot;black&quot;},&quot;type&quot;:&quot;scattergeo&quot;,&quot;lat&quot;:[49.152089,49.1073342505904],&quot;hoverinfo&quot;:&quot;none&quot;,&quot;lon&quot;:[-122.841664,-122.855372149511]},{&quot;mode&quot;:&quot;lines&quot;,&quot;line&quot;:{&quot;color&quot;:&quot;black&quot;},&quot;type&quot;:&quot;scattergeo&quot;,&quot;lat&quot;:[49.187062,49.1963107379676],&quot;hoverinfo&quot;:&quot;none&quot;,&quot;lon&quot;:[-122.785431,-122.824169757623]},{&quot;mode&quot;:&quot;lines&quot;,&quot;line&quot;:{&quot;color&quot;:&quot;black&quot;},&quot;type&quot;:&quot;scattergeo&quot;,&quot;lat&quot;:[49.184657,49.159590837299],&quot;hoverinfo&quot;:&quot;none&quot;,&quot;lon&quot;:[-123.136555,-123.11946654448]},{&quot;mode&quot;:&quot;lines&quot;,&quot;line&quot;:{&quot;color&quot;:&quot;black&quot;},&quot;type&quot;:&quot;scattergeo&quot;,&quot;lat&quot;:[49.27706,49.2235963510792],&quot;hoverinfo&quot;:&quot;none&quot;,&quot;lon&quot;:[-123.065614,-123.067835340981]},{&quot;mode&quot;:&quot;lines&quot;,&quot;line&quot;:{&quot;color&quot;:&quot;black&quot;},&quot;type&quot;:&quot;scattergeo&quot;,&quot;lat&quot;:[48.436934,48.4765793361461],&quot;hoverinfo&quot;:&quot;none&quot;,&quot;lon&quot;:[-123.312889,-123.314845757847]},{&quot;mode&quot;:&quot;lines&quot;,&quot;line&quot;:{&quot;color&quot;:&quot;black&quot;},&quot;type&quot;:&quot;scattergeo&quot;,&quot;lat&quot;:[48.43605,48.4585245729765],&quot;hoverinfo&quot;:&quot;none&quot;,&quot;lon&quot;:[-123.333662,-123.332376533154]},{&quot;mode&quot;:&quot;lines&quot;,&quot;line&quot;:{&quot;color&quot;:&quot;black&quot;},&quot;type&quot;:&quot;scattergeo&quot;,&quot;lat&quot;:[49.213447,49.231084104224],&quot;hoverinfo&quot;:&quot;none&quot;,&quot;lon&quot;:[-122.937887,-122.954299843948]},{&quot;mode&quot;:&quot;lines&quot;,&quot;line&quot;:{&quot;color&quot;:&quot;black&quot;},&quot;type&quot;:&quot;scattergeo&quot;,&quot;lat&quot;:[49.191526,49.1073342505904],&quot;hoverinfo&quot;:&quot;none&quot;,&quot;lon&quot;:[-122.84331,-122.855372149511]},{&quot;mode&quot;:&quot;lines&quot;,&quot;line&quot;:{&quot;color&quot;:&quot;black&quot;},&quot;type&quot;:&quot;scattergeo&quot;,&quot;lat&quot;:[49.19268,49.190394728435],&quot;hoverinfo&quot;:&quot;none&quot;,&quot;lon&quot;:[-122.816946,-122.848462790325]},{&quot;mode&quot;:&quot;lines&quot;,&quot;line&quot;:{&quot;color&quot;:&quot;black&quot;},&quot;type&quot;:&quot;scattergeo&quot;,&quot;lat&quot;:[48.54964,48.5816953672664],&quot;hoverinfo&quot;:&quot;none&quot;,&quot;lon&quot;:[-123.36931,-123.422318363172]},{&quot;mode&quot;:&quot;lines&quot;,&quot;line&quot;:{&quot;color&quot;:&quot;black&quot;},&quot;type&quot;:&quot;scattergeo&quot;,&quot;lat&quot;:[49.221947,49.2031043659851],&quot;hoverinfo&quot;:&quot;none&quot;,&quot;lon&quot;:[-122.961767,-122.992325673539]},{&quot;mode&quot;:&quot;lines&quot;,&quot;line&quot;:{&quot;color&quot;:&quot;black&quot;},&quot;type&quot;:&quot;scattergeo&quot;,&quot;lat&quot;:[49.202124,49.2211306947439],&quot;hoverinfo&quot;:&quot;none&quot;,&quot;lon&quot;:[-122.909873,-122.898883878006]},{&quot;mode&quot;:&quot;lines&quot;,&quot;line&quot;:{&quot;color&quot;:&quot;black&quot;},&quot;type&quot;:&quot;scattergeo&quot;,&quot;lat&quot;:[49.237983,49.2798017113343],&quot;hoverinfo&quot;:&quot;none&quot;,&quot;lon&quot;:[-123.068585,-123.066047262467]},{&quot;mode&quot;:&quot;lines&quot;,&quot;line&quot;:{&quot;color&quot;:&quot;black&quot;},&quot;type&quot;:&quot;scattergeo&quot;,&quot;lat&quot;:[49.258282,49.2687688423554],&quot;hoverinfo&quot;:&quot;none&quot;,&quot;lon&quot;:[-122.964601,-122.929926374963]},{&quot;mode&quot;:&quot;lines&quot;,&quot;line&quot;:{&quot;color&quot;:&quot;black&quot;},&quot;type&quot;:&quot;scattergeo&quot;,&quot;lat&quot;:[49.26636,49.2287120398275],&quot;hoverinfo&quot;:&quot;none&quot;,&quot;lon&quot;:[-122.95263,-122.996471986297]},{&quot;mode&quot;:&quot;lines&quot;,&quot;line&quot;:{&quot;color&quot;:&quot;black&quot;},&quot;type&quot;:&quot;scattergeo&quot;,&quot;lat&quot;:[54.99489,49.1018732261522],&quot;hoverinfo&quot;:&quot;none&quot;,&quot;lon&quot;:[-129.89385,-125.019665241324]},{&quot;mode&quot;:&quot;lines&quot;,&quot;line&quot;:{&quot;color&quot;:&quot;black&quot;},&quot;type&quot;:&quot;scattergeo&quot;,&quot;lat&quot;:[48.465052,48.4827382013408],&quot;hoverinfo&quot;:&quot;none&quot;,&quot;lon&quot;:[-123.43043,-123.506344576293]},{&quot;mode&quot;:&quot;lines&quot;,&quot;line&quot;:{&quot;color&quot;:&quot;black&quot;},&quot;type&quot;:&quot;scattergeo&quot;,&quot;lat&quot;:[48.445786,48.4960159700356],&quot;hoverinfo&quot;:&quot;none&quot;,&quot;lon&quot;:[-123.3711,-123.400130211172]},{&quot;mode&quot;:&quot;lines&quot;,&quot;line&quot;:{&quot;color&quot;:&quot;black&quot;},&quot;type&quot;:&quot;scattergeo&quot;,&quot;lat&quot;:[49.286103,49.2792476329574],&quot;hoverinfo&quot;:&quot;none&quot;,&quot;lon&quot;:[-123.031289,-123.089566417568]},{&quot;mode&quot;:&quot;lines&quot;,&quot;line&quot;:{&quot;color&quot;:&quot;black&quot;},&quot;type&quot;:&quot;scattergeo&quot;,&quot;lat&quot;:[49.24966,49.2663229578375],&quot;hoverinfo&quot;:&quot;none&quot;,&quot;lon&quot;:[-123.11934,-123.197873679399]},{&quot;mode&quot;:&quot;lines&quot;,&quot;line&quot;:{&quot;color&quot;:&quot;black&quot;},&quot;type&quot;:&quot;scattergeo&quot;,&quot;lat&quot;:[49.24966,49.2337945141212],&quot;hoverinfo&quot;:&quot;none&quot;,&quot;lon&quot;:[-123.11934,-123.145782384338]},{&quot;mode&quot;:&quot;lines&quot;,&quot;line&quot;:{&quot;color&quot;:&quot;black&quot;},&quot;type&quot;:&quot;scattergeo&quot;,&quot;lat&quot;:[49.19268,49.190394728435],&quot;hoverinfo&quot;:&quot;none&quot;,&quot;lon&quot;:[-122.816946,-122.848462790325]},{&quot;mode&quot;:&quot;lines&quot;,&quot;line&quot;:{&quot;color&quot;:&quot;black&quot;},&quot;type&quot;:&quot;scattergeo&quot;,&quot;lat&quot;:[49.170919,49.190394728435],&quot;hoverinfo&quot;:&quot;none&quot;,&quot;lon&quot;:[-122.87532,-122.848462790325]},{&quot;mode&quot;:&quot;lines&quot;,&quot;line&quot;:{&quot;color&quot;:&quot;black&quot;},&quot;type&quot;:&quot;scattergeo&quot;,&quot;lat&quot;:[49.261974,49.2553846831502],&quot;hoverinfo&quot;:&quot;none&quot;,&quot;lon&quot;:[-123.098669,-123.066013649185]},{&quot;mode&quot;:&quot;lines&quot;,&quot;line&quot;:{&quot;color&quot;:&quot;black&quot;},&quot;type&quot;:&quot;scattergeo&quot;,&quot;lat&quot;:[49.24966,49.2337945141212],&quot;hoverinfo&quot;:&quot;none&quot;,&quot;lon&quot;:[-123.11934,-123.145782384338]},{&quot;mode&quot;:&quot;lines&quot;,&quot;line&quot;:{&quot;color&quot;:&quot;black&quot;},&quot;type&quot;:&quot;scattergeo&quot;,&quot;lat&quot;:[49.10635,49.190394728435],&quot;hoverinfo&quot;:&quot;none&quot;,&quot;lon&quot;:[-122.82509,-122.848462790325]},{&quot;mode&quot;:&quot;lines&quot;,&quot;line&quot;:{&quot;color&quot;:&quot;black&quot;},&quot;type&quot;:&quot;scattergeo&quot;,&quot;lat&quot;:[49.88307,49.825491060816],&quot;hoverinfo&quot;:&quot;none&quot;,&quot;lon&quot;:[-119.48568,-119.471541715992]},{&quot;mode&quot;:&quot;lines&quot;,&quot;line&quot;:{&quot;color&quot;:&quot;black&quot;},&quot;type&quot;:&quot;scattergeo&quot;,&quot;lat&quot;:[null,55.2162327988935],&quot;hoverinfo&quot;:&quot;none&quot;,&quot;lon&quot;:[null,-126.402446521041]},{&quot;mode&quot;:&quot;lines&quot;,&quot;line&quot;:{&quot;color&quot;:&quot;black&quot;},&quot;type&quot;:&quot;scattergeo&quot;,&quot;lat&quot;:[49.173571,49.1831831533453],&quot;hoverinfo&quot;:&quot;none&quot;,&quot;lon&quot;:[-122.68227,-122.876242276909]},{&quot;mode&quot;:&quot;lines&quot;,&quot;line&quot;:{&quot;color&quot;:&quot;black&quot;},&quot;type&quot;:&quot;scattergeo&quot;,&quot;lat&quot;:[49.278841,49.2990081073594],&quot;hoverinfo&quot;:&quot;none&quot;,&quot;lon&quot;:[-123.115953,-123.140823913795]},{&quot;mode&quot;:&quot;lines&quot;,&quot;line&quot;:{&quot;color&quot;:&quot;black&quot;},&quot;type&quot;:&quot;scattergeo&quot;,&quot;lat&quot;:[49.343248,49.3157977072378],&quot;hoverinfo&quot;:&quot;none&quot;,&quot;lon&quot;:[-123.068524,-123.057394813444]},{&quot;mode&quot;:&quot;lines&quot;,&quot;line&quot;:{&quot;color&quot;:&quot;black&quot;},&quot;type&quot;:&quot;scattergeo&quot;,&quot;lat&quot;:[49.25403,49.2483683725875],&quot;hoverinfo&quot;:&quot;none&quot;,&quot;lon&quot;:[-123.029302,-123.090270017544]},{&quot;mode&quot;:&quot;lines&quot;,&quot;line&quot;:{&quot;color&quot;:&quot;black&quot;},&quot;type&quot;:&quot;scattergeo&quot;,&quot;lat&quot;:[49.234939,49.2150978094316],&quot;hoverinfo&quot;:&quot;none&quot;,&quot;lon&quot;:[-123.197167,-123.097310727838]},{&quot;mode&quot;:&quot;lines&quot;,&quot;line&quot;:{&quot;color&quot;:&quot;black&quot;},&quot;type&quot;:&quot;scattergeo&quot;,&quot;lat&quot;:[49.287334,49.2287120398275],&quot;hoverinfo&quot;:&quot;none&quot;,&quot;lon&quot;:[-123.005744,-122.996471986297]},{&quot;mode&quot;:&quot;lines&quot;,&quot;line&quot;:{&quot;color&quot;:&quot;black&quot;},&quot;type&quot;:&quot;scattergeo&quot;,&quot;lat&quot;:[49.28297,49.2364668900495],&quot;hoverinfo&quot;:&quot;none&quot;,&quot;lon&quot;:[-122.75262,-122.852141086465]},{&quot;mode&quot;:&quot;lines&quot;,&quot;line&quot;:{&quot;color&quot;:&quot;black&quot;},&quot;type&quot;:&quot;scattergeo&quot;,&quot;lat&quot;:[50.668392,50.5376609383155],&quot;hoverinfo&quot;:&quot;none&quot;,&quot;lon&quot;:[-120.355123,-120.0112256856]},{&quot;mode&quot;:&quot;lines&quot;,&quot;line&quot;:{&quot;color&quot;:&quot;black&quot;},&quot;type&quot;:&quot;scattergeo&quot;,&quot;lat&quot;:[48.434318,48.4827382013408],&quot;hoverinfo&quot;:&quot;none&quot;,&quot;lon&quot;:[-123.381812,-123.506344576293]},{&quot;mode&quot;:&quot;lines&quot;,&quot;line&quot;:{&quot;color&quot;:&quot;black&quot;},&quot;type&quot;:&quot;scattergeo&quot;,&quot;lat&quot;:[49.188351,49.0571619551277],&quot;hoverinfo&quot;:&quot;none&quot;,&quot;lon&quot;:[-122.777198,-122.754315950226]},{&quot;mode&quot;:&quot;lines&quot;,&quot;line&quot;:{&quot;color&quot;:&quot;black&quot;},&quot;type&quot;:&quot;scattergeo&quot;,&quot;lat&quot;:[49.285309,49.3612978273612],&quot;hoverinfo&quot;:&quot;none&quot;,&quot;lon&quot;:[-123.112468,-123.01847527487]},{&quot;mode&quot;:&quot;lines&quot;,&quot;line&quot;:{&quot;color&quot;:&quot;black&quot;},&quot;type&quot;:&quot;scattergeo&quot;,&quot;lat&quot;:[53.888619,53.6493565080645],&quot;hoverinfo&quot;:&quot;none&quot;,&quot;lon&quot;:[-122.769478,-122.957816392392]},{&quot;mode&quot;:&quot;lines&quot;,&quot;line&quot;:{&quot;color&quot;:&quot;black&quot;},&quot;type&quot;:&quot;scattergeo&quot;,&quot;lat&quot;:[null,50.0457888438141],&quot;hoverinfo&quot;:&quot;none&quot;,&quot;lon&quot;:[null,-119.291583751319]},{&quot;mode&quot;:&quot;lines&quot;,&quot;line&quot;:{&quot;color&quot;:&quot;black&quot;},&quot;type&quot;:&quot;scattergeo&quot;,&quot;lat&quot;:[null,56.2740795809477],&quot;hoverinfo&quot;:&quot;none&quot;,&quot;lon&quot;:[null,-120.801104114379]},{&quot;mode&quot;:&quot;lines&quot;,&quot;line&quot;:{&quot;color&quot;:&quot;black&quot;},&quot;type&quot;:&quot;scattergeo&quot;,&quot;lat&quot;:[49.321018,49.3224863139215],&quot;hoverinfo&quot;:&quot;none&quot;,&quot;lon&quot;:[-123.072348,-123.084865113587]},{&quot;mode&quot;:&quot;lines&quot;,&quot;line&quot;:{&quot;color&quot;:&quot;black&quot;},&quot;type&quot;:&quot;scattergeo&quot;,&quot;lat&quot;:[49.249386,49.2364668900495],&quot;hoverinfo&quot;:&quot;none&quot;,&quot;lon&quot;:[-122.892765,-122.852141086465]},{&quot;mode&quot;:&quot;lines&quot;,&quot;line&quot;:{&quot;color&quot;:&quot;black&quot;},&quot;type&quot;:&quot;scattergeo&quot;,&quot;lat&quot;:[49.839659,49.892071734828],&quot;hoverinfo&quot;:&quot;none&quot;,&quot;lon&quot;:[-119.482181,-119.484658444334]},{&quot;mode&quot;:&quot;lines&quot;,&quot;line&quot;:{&quot;color&quot;:&quot;black&quot;},&quot;type&quot;:&quot;scattergeo&quot;,&quot;lat&quot;:[49.10635,49.1176110168489],&quot;hoverinfo&quot;:&quot;none&quot;,&quot;lon&quot;:[-122.82509,-122.754853365374]},{&quot;mode&quot;:&quot;lines&quot;,&quot;line&quot;:{&quot;color&quot;:&quot;black&quot;},&quot;type&quot;:&quot;scattergeo&quot;,&quot;lat&quot;:[48.500672,50.2542502949404],&quot;hoverinfo&quot;:&quot;none&quot;,&quot;lon&quot;:[-123.50605,-124.686309260507]},{&quot;mode&quot;:&quot;lines&quot;,&quot;line&quot;:{&quot;color&quot;:&quot;black&quot;},&quot;type&quot;:&quot;scattergeo&quot;,&quot;lat&quot;:[49.219898,49.2746756191813],&quot;hoverinfo&quot;:&quot;none&quot;,&quot;lon&quot;:[-123.140105,-123.125856387968]},{&quot;mode&quot;:&quot;lines&quot;,&quot;line&quot;:{&quot;color&quot;:&quot;black&quot;},&quot;type&quot;:&quot;scattergeo&quot;,&quot;lat&quot;:[49.101973,49.2211306947439],&quot;hoverinfo&quot;:&quot;none&quot;,&quot;lon&quot;:[-123.072077,-122.898883878006]},{&quot;mode&quot;:&quot;lines&quot;,&quot;line&quot;:{&quot;color&quot;:&quot;black&quot;},&quot;type&quot;:&quot;scattergeo&quot;,&quot;lat&quot;:[49.262639,49.2474770879481],&quot;hoverinfo&quot;:&quot;none&quot;,&quot;lon&quot;:[-123.096001,-123.121233343796]},{&quot;mode&quot;:&quot;lines&quot;,&quot;line&quot;:{&quot;color&quot;:&quot;black&quot;},&quot;type&quot;:&quot;scattergeo&quot;,&quot;lat&quot;:[49.321018,49.3224863139215],&quot;hoverinfo&quot;:&quot;none&quot;,&quot;lon&quot;:[-123.072348,-123.084865113587]},{&quot;mode&quot;:&quot;lines&quot;,&quot;line&quot;:{&quot;color&quot;:&quot;black&quot;},&quot;type&quot;:&quot;scattergeo&quot;,&quot;lat&quot;:[49.213447,49.2287120398275],&quot;hoverinfo&quot;:&quot;none&quot;,&quot;lon&quot;:[-122.937887,-122.996471986297]},{&quot;mode&quot;:&quot;lines&quot;,&quot;line&quot;:{&quot;color&quot;:&quot;black&quot;},&quot;type&quot;:&quot;scattergeo&quot;,&quot;lat&quot;:[49.152089,49.190394728435],&quot;hoverinfo&quot;:&quot;none&quot;,&quot;lon&quot;:[-122.841664,-122.848462790325]},{&quot;mode&quot;:&quot;lines&quot;,&quot;line&quot;:{&quot;color&quot;:&quot;black&quot;},&quot;type&quot;:&quot;scattergeo&quot;,&quot;lat&quot;:[49.038359,49.1963107379676],&quot;hoverinfo&quot;:&quot;none&quot;,&quot;lon&quot;:[-122.799908,-122.824169757623]},{&quot;mode&quot;:&quot;lines&quot;,&quot;line&quot;:{&quot;color&quot;:&quot;black&quot;},&quot;type&quot;:&quot;scattergeo&quot;,&quot;lat&quot;:[49.212489,49.1863745873237],&quot;hoverinfo&quot;:&quot;none&quot;,&quot;lon&quot;:[-122.937299,-123.111677711376]},{&quot;mode&quot;:&quot;lines&quot;,&quot;line&quot;:{&quot;color&quot;:&quot;black&quot;},&quot;type&quot;:&quot;scattergeo&quot;,&quot;lat&quot;:[48.428514,48.477480017302],&quot;hoverinfo&quot;:&quot;none&quot;,&quot;lon&quot;:[-123.358915,-123.36608053282]},{&quot;mode&quot;:&quot;lines&quot;,&quot;line&quot;:{&quot;color&quot;:&quot;black&quot;},&quot;type&quot;:&quot;scattergeo&quot;,&quot;lat&quot;:[49.05798,49.0391641015383],&quot;hoverinfo&quot;:&quot;none&quot;,&quot;lon&quot;:[-122.25257,-122.347843226749]},{&quot;mode&quot;:&quot;lines&quot;,&quot;line&quot;:{&quot;color&quot;:&quot;black&quot;},&quot;type&quot;:&quot;scattergeo&quot;,&quot;lat&quot;:[49.10107,49.1277794033541],&quot;hoverinfo&quot;:&quot;none&quot;,&quot;lon&quot;:[-122.65883,-122.621185397052]},{&quot;mode&quot;:&quot;lines&quot;,&quot;line&quot;:{&quot;color&quot;:&quot;black&quot;},&quot;type&quot;:&quot;scattergeo&quot;,&quot;lat&quot;:[49.278841,49.2834575694212],&quot;hoverinfo&quot;:&quot;none&quot;,&quot;lon&quot;:[-123.115953,-123.129406113292]},{&quot;mode&quot;:&quot;lines&quot;,&quot;line&quot;:{&quot;color&quot;:&quot;black&quot;},&quot;type&quot;:&quot;scattergeo&quot;,&quot;lat&quot;:[49.261974,49.2397224546965],&quot;hoverinfo&quot;:&quot;none&quot;,&quot;lon&quot;:[-123.098669,-123.040753717645]},{&quot;mode&quot;:&quot;lines&quot;,&quot;line&quot;:{&quot;color&quot;:&quot;black&quot;},&quot;type&quot;:&quot;scattergeo&quot;,&quot;lat&quot;:[48.425042,48.4164754620703],&quot;hoverinfo&quot;:&quot;none&quot;,&quot;lon&quot;:[-123.357665,-123.365138868897]},{&quot;mode&quot;:&quot;lines&quot;,&quot;line&quot;:{&quot;color&quot;:&quot;black&quot;},&quot;type&quot;:&quot;scattergeo&quot;,&quot;lat&quot;:[49.176147,49.1637063144196],&quot;hoverinfo&quot;:&quot;none&quot;,&quot;lon&quot;:[-123.946941,-123.977995931183]},{&quot;mode&quot;:&quot;lines&quot;,&quot;line&quot;:{&quot;color&quot;:&quot;black&quot;},&quot;type&quot;:&quot;scattergeo&quot;,&quot;lat&quot;:[49.1598,49.0771170456374],&quot;hoverinfo&quot;:&quot;none&quot;,&quot;lon&quot;:[-121.9459,-121.991756609719]},{&quot;mode&quot;:&quot;lines&quot;,&quot;line&quot;:{&quot;color&quot;:&quot;black&quot;},&quot;type&quot;:&quot;scattergeo&quot;,&quot;lat&quot;:[49.045534,49.0385145601345],&quot;hoverinfo&quot;:&quot;none&quot;,&quot;lon&quot;:[-122.782769,-122.83110874713]},{&quot;mode&quot;:&quot;lines&quot;,&quot;line&quot;:{&quot;color&quot;:&quot;black&quot;},&quot;type&quot;:&quot;scattergeo&quot;,&quot;lat&quot;:[48.39781,48.4827382013408],&quot;hoverinfo&quot;:&quot;none&quot;,&quot;lon&quot;:[-123.61749,-123.506344576293]},{&quot;mode&quot;:&quot;lines&quot;,&quot;line&quot;:{&quot;color&quot;:&quot;black&quot;},&quot;type&quot;:&quot;scattergeo&quot;,&quot;lat&quot;:[49.21709,49.2990081073594],&quot;hoverinfo&quot;:&quot;none&quot;,&quot;lon&quot;:[-123.064673,-123.140823913795]},{&quot;mode&quot;:&quot;lines&quot;,&quot;line&quot;:{&quot;color&quot;:&quot;black&quot;},&quot;type&quot;:&quot;scattergeo&quot;,&quot;lat&quot;:[49.133519,49.117565817857],&quot;hoverinfo&quot;:&quot;none&quot;,&quot;lon&quot;:[-123.151771,-123.117052820606]},{&quot;mode&quot;:&quot;lines&quot;,&quot;line&quot;:{&quot;color&quot;:&quot;black&quot;},&quot;type&quot;:&quot;scattergeo&quot;,&quot;lat&quot;:[49.27706,49.2235963510792],&quot;hoverinfo&quot;:&quot;none&quot;,&quot;lon&quot;:[-123.065614,-123.067835340981]},{&quot;mode&quot;:&quot;lines&quot;,&quot;line&quot;:{&quot;color&quot;:&quot;black&quot;},&quot;type&quot;:&quot;scattergeo&quot;,&quot;lat&quot;:[48.43294,48.438852542965],&quot;hoverinfo&quot;:&quot;none&quot;,&quot;lon&quot;:[-123.3693,-123.407442429181]},{&quot;mode&quot;:&quot;lines&quot;,&quot;line&quot;:{&quot;color&quot;:&quot;black&quot;},&quot;type&quot;:&quot;scattergeo&quot;,&quot;lat&quot;:[49.960525,50.0290593358728],&quot;hoverinfo&quot;:&quot;none&quot;,&quot;lon&quot;:[-125.230421,-125.312111889001]},{&quot;mode&quot;:&quot;lines&quot;,&quot;line&quot;:{&quot;color&quot;:&quot;black&quot;},&quot;type&quot;:&quot;scattergeo&quot;,&quot;lat&quot;:[49.262639,49.2653172633961],&quot;hoverinfo&quot;:&quot;none&quot;,&quot;lon&quot;:[-123.096001,-123.165649863758]},{&quot;mode&quot;:&quot;lines&quot;,&quot;line&quot;:{&quot;color&quot;:&quot;black&quot;},&quot;type&quot;:&quot;scattergeo&quot;,&quot;lat&quot;:[49.740523,49.7066694937424],&quot;hoverinfo&quot;:&quot;none&quot;,&quot;lon&quot;:[-123.129111,-123.134752654783]},{&quot;mode&quot;:&quot;lines&quot;,&quot;line&quot;:{&quot;color&quot;:&quot;black&quot;},&quot;type&quot;:&quot;scattergeo&quot;,&quot;lat&quot;:[49.050184,49.0571619551277],&quot;hoverinfo&quot;:&quot;none&quot;,&quot;lon&quot;:[-122.830992,-122.754315950226]},{&quot;mode&quot;:&quot;lines&quot;,&quot;line&quot;:{&quot;color&quot;:&quot;black&quot;},&quot;type&quot;:&quot;scattergeo&quot;,&quot;lat&quot;:[49.05798,49.0391641015383],&quot;hoverinfo&quot;:&quot;none&quot;,&quot;lon&quot;:[-122.25257,-122.347843226749]},{&quot;mode&quot;:&quot;lines&quot;,&quot;line&quot;:{&quot;color&quot;:&quot;black&quot;},&quot;type&quot;:&quot;scattergeo&quot;,&quot;lat&quot;:[49.320258,49.3224863139215],&quot;hoverinfo&quot;:&quot;none&quot;,&quot;lon&quot;:[-123.107836,-123.084865113587]},{&quot;mode&quot;:&quot;lines&quot;,&quot;line&quot;:{&quot;color&quot;:&quot;black&quot;},&quot;type&quot;:&quot;scattergeo&quot;,&quot;lat&quot;:[49.321018,49.3224863139215],&quot;hoverinfo&quot;:&quot;none&quot;,&quot;lon&quot;:[-123.072348,-123.084865113587]},{&quot;mode&quot;:&quot;lines&quot;,&quot;line&quot;:{&quot;color&quot;:&quot;black&quot;},&quot;type&quot;:&quot;scattergeo&quot;,&quot;lat&quot;:[49.25403,49.2792476329574],&quot;hoverinfo&quot;:&quot;none&quot;,&quot;lon&quot;:[-123.029302,-123.089566417568]},{&quot;mode&quot;:&quot;lines&quot;,&quot;line&quot;:{&quot;color&quot;:&quot;black&quot;},&quot;type&quot;:&quot;scattergeo&quot;,&quot;lat&quot;:[49.27706,49.2235963510792],&quot;hoverinfo&quot;:&quot;none&quot;,&quot;lon&quot;:[-123.065614,-123.067835340981]},{&quot;mode&quot;:&quot;lines&quot;,&quot;line&quot;:{&quot;color&quot;:&quot;black&quot;},&quot;type&quot;:&quot;scattergeo&quot;,&quot;lat&quot;:[49.31636,49.3612978273612],&quot;hoverinfo&quot;:&quot;none&quot;,&quot;lon&quot;:[-123.06934,-123.01847527487]},{&quot;mode&quot;:&quot;lines&quot;,&quot;line&quot;:{&quot;color&quot;:&quot;black&quot;},&quot;type&quot;:&quot;scattergeo&quot;,&quot;lat&quot;:[49.262639,49.2653172633961],&quot;hoverinfo&quot;:&quot;none&quot;,&quot;lon&quot;:[-123.096001,-123.165649863758]},{&quot;mode&quot;:&quot;lines&quot;,&quot;line&quot;:{&quot;color&quot;:&quot;black&quot;},&quot;type&quot;:&quot;scattergeo&quot;,&quot;lat&quot;:[49.242265,49.2474770879481],&quot;hoverinfo&quot;:&quot;none&quot;,&quot;lon&quot;:[-123.0416,-123.121233343796]},{&quot;mode&quot;:&quot;lines&quot;,&quot;line&quot;:{&quot;color&quot;:&quot;black&quot;},&quot;type&quot;:&quot;scattergeo&quot;,&quot;lat&quot;:[49.24966,49.2501828672927],&quot;hoverinfo&quot;:&quot;none&quot;,&quot;lon&quot;:[-123.11934,-123.109998145249]},{&quot;mode&quot;:&quot;lines&quot;,&quot;line&quot;:{&quot;color&quot;:&quot;black&quot;},&quot;type&quot;:&quot;scattergeo&quot;,&quot;lat&quot;:[49.237983,49.2553846831502],&quot;hoverinfo&quot;:&quot;none&quot;,&quot;lon&quot;:[-123.068585,-123.066013649185]},{&quot;mode&quot;:&quot;lines&quot;,&quot;line&quot;:{&quot;color&quot;:&quot;black&quot;},&quot;type&quot;:&quot;scattergeo&quot;,&quot;lat&quot;:[49.28297,49.2364668900495],&quot;hoverinfo&quot;:&quot;none&quot;,&quot;lon&quot;:[-122.75262,-122.852141086465]},{&quot;mode&quot;:&quot;lines&quot;,&quot;line&quot;:{&quot;color&quot;:&quot;black&quot;},&quot;type&quot;:&quot;scattergeo&quot;,&quot;lat&quot;:[49.25403,49.2792476329574],&quot;hoverinfo&quot;:&quot;none&quot;,&quot;lon&quot;:[-123.029302,-123.089566417568]},{&quot;mode&quot;:&quot;lines&quot;,&quot;line&quot;:{&quot;color&quot;:&quot;black&quot;},&quot;type&quot;:&quot;scattergeo&quot;,&quot;lat&quot;:[49.25403,49.2150978094316],&quot;hoverinfo&quot;:&quot;none&quot;,&quot;lon&quot;:[-123.029302,-123.097310727838]},{&quot;mode&quot;:&quot;lines&quot;,&quot;line&quot;:{&quot;color&quot;:&quot;black&quot;},&quot;type&quot;:&quot;scattergeo&quot;,&quot;lat&quot;:[49.281922,49.2792476329574],&quot;hoverinfo&quot;:&quot;none&quot;,&quot;lon&quot;:[-123.105221,-123.089566417568]},{&quot;mode&quot;:&quot;lines&quot;,&quot;line&quot;:{&quot;color&quot;:&quot;black&quot;},&quot;type&quot;:&quot;scattergeo&quot;,&quot;lat&quot;:[49.234939,49.2150978094316],&quot;hoverinfo&quot;:&quot;none&quot;,&quot;lon&quot;:[-123.197167,-123.097310727838]},{&quot;mode&quot;:&quot;lines&quot;,&quot;line&quot;:{&quot;color&quot;:&quot;black&quot;},&quot;type&quot;:&quot;scattergeo&quot;,&quot;lat&quot;:[49.28297,49.3193274323444],&quot;hoverinfo&quot;:&quot;none&quot;,&quot;lon&quot;:[-122.75262,-122.739297891156]},{&quot;mode&quot;:&quot;lines&quot;,&quot;line&quot;:{&quot;color&quot;:&quot;black&quot;},&quot;type&quot;:&quot;scattergeo&quot;,&quot;lat&quot;:[49.16312,49.1410042094931],&quot;hoverinfo&quot;:&quot;none&quot;,&quot;lon&quot;:[-122.792145,-122.856837478998]},{&quot;mode&quot;:&quot;lines&quot;,&quot;line&quot;:{&quot;color&quot;:&quot;black&quot;},&quot;type&quot;:&quot;scattergeo&quot;,&quot;lat&quot;:[49.116954,49.190394728435],&quot;hoverinfo&quot;:&quot;none&quot;,&quot;lon&quot;:[-122.839876,-122.848462790325]},{&quot;mode&quot;:&quot;lines&quot;,&quot;line&quot;:{&quot;color&quot;:&quot;black&quot;},&quot;type&quot;:&quot;scattergeo&quot;,&quot;lat&quot;:[49.152089,49.190394728435],&quot;hoverinfo&quot;:&quot;none&quot;,&quot;lon&quot;:[-122.841664,-122.848462790325]},{&quot;mode&quot;:&quot;lines&quot;,&quot;line&quot;:{&quot;color&quot;:&quot;black&quot;},&quot;type&quot;:&quot;scattergeo&quot;,&quot;lat&quot;:[49.17003,49.1863745873237],&quot;hoverinfo&quot;:&quot;none&quot;,&quot;lon&quot;:[-123.13683,-123.111677711376]},{&quot;mode&quot;:&quot;lines&quot;,&quot;line&quot;:{&quot;color&quot;:&quot;black&quot;},&quot;type&quot;:&quot;scattergeo&quot;,&quot;lat&quot;:[49.17246,49.0938916038734],&quot;hoverinfo&quot;:&quot;none&quot;,&quot;lon&quot;:[-122.580791,-122.647453561111]},{&quot;mode&quot;:&quot;lines&quot;,&quot;line&quot;:{&quot;color&quot;:&quot;black&quot;},&quot;type&quot;:&quot;scattergeo&quot;,&quot;lat&quot;:[49.202124,49.2211306947439],&quot;hoverinfo&quot;:&quot;none&quot;,&quot;lon&quot;:[-122.909873,-122.898883878006]},{&quot;mode&quot;:&quot;lines&quot;,&quot;line&quot;:{&quot;color&quot;:&quot;black&quot;},&quot;type&quot;:&quot;scattergeo&quot;,&quot;lat&quot;:[49.060309,49.0391641015383],&quot;hoverinfo&quot;:&quot;none&quot;,&quot;lon&quot;:[-122.302132,-122.347843226749]},{&quot;mode&quot;:&quot;lines&quot;,&quot;line&quot;:{&quot;color&quot;:&quot;black&quot;},&quot;type&quot;:&quot;scattergeo&quot;,&quot;lat&quot;:[49.27706,49.2235963510792],&quot;hoverinfo&quot;:&quot;none&quot;,&quot;lon&quot;:[-123.065614,-123.067835340981]},{&quot;mode&quot;:&quot;lines&quot;,&quot;line&quot;:{&quot;color&quot;:&quot;black&quot;},&quot;type&quot;:&quot;scattergeo&quot;,&quot;lat&quot;:[49.168284,49.1719889563992],&quot;hoverinfo&quot;:&quot;none&quot;,&quot;lon&quot;:[-122.799114,-122.734851508864]},{&quot;mode&quot;:&quot;lines&quot;,&quot;line&quot;:{&quot;color&quot;:&quot;black&quot;},&quot;type&quot;:&quot;scattergeo&quot;,&quot;lat&quot;:[49.263597,49.2474770879481],&quot;hoverinfo&quot;:&quot;none&quot;,&quot;lon&quot;:[-123.121382,-123.121233343796]},{&quot;mode&quot;:&quot;lines&quot;,&quot;line&quot;:{&quot;color&quot;:&quot;black&quot;},&quot;type&quot;:&quot;scattergeo&quot;,&quot;lat&quot;:[49.257164,49.2329747531744],&quot;hoverinfo&quot;:&quot;none&quot;,&quot;lon&quot;:[-123.089441,-123.092112415841]},{&quot;mode&quot;:&quot;lines&quot;,&quot;line&quot;:{&quot;color&quot;:&quot;black&quot;},&quot;type&quot;:&quot;scattergeo&quot;,&quot;lat&quot;:[48.43605,48.4765793361461],&quot;hoverinfo&quot;:&quot;none&quot;,&quot;lon&quot;:[-123.333662,-123.314845757847]},{&quot;mode&quot;:&quot;lines&quot;,&quot;line&quot;:{&quot;color&quot;:&quot;black&quot;},&quot;type&quot;:&quot;scattergeo&quot;,&quot;lat&quot;:[49.26636,49.2287120398275],&quot;hoverinfo&quot;:&quot;none&quot;,&quot;lon&quot;:[-122.95263,-122.996471986297]},{&quot;mode&quot;:&quot;lines&quot;,&quot;line&quot;:{&quot;color&quot;:&quot;black&quot;},&quot;type&quot;:&quot;scattergeo&quot;,&quot;lat&quot;:[49.16638,49.1202165306208],&quot;hoverinfo&quot;:&quot;none&quot;,&quot;lon&quot;:[-123.94003,-124.264420416604]},{&quot;mode&quot;:&quot;lines&quot;,&quot;line&quot;:{&quot;color&quot;:&quot;black&quot;},&quot;type&quot;:&quot;scattergeo&quot;,&quot;lat&quot;:[49.257193,49.2560324587443],&quot;hoverinfo&quot;:&quot;none&quot;,&quot;lon&quot;:[-123.139226,-123.132777904483]},{&quot;mode&quot;:&quot;lines&quot;,&quot;line&quot;:{&quot;color&quot;:&quot;black&quot;},&quot;type&quot;:&quot;scattergeo&quot;,&quot;lat&quot;:[49.10635,49.1719889563992],&quot;hoverinfo&quot;:&quot;none&quot;,&quot;lon&quot;:[-122.82509,-122.734851508864]},{&quot;mode&quot;:&quot;lines&quot;,&quot;line&quot;:{&quot;color&quot;:&quot;black&quot;},&quot;type&quot;:&quot;scattergeo&quot;,&quot;lat&quot;:[49.16638,49.2168198317455],&quot;hoverinfo&quot;:&quot;none&quot;,&quot;lon&quot;:[-123.94003,-124.006702443619]},{&quot;mode&quot;:&quot;lines&quot;,&quot;line&quot;:{&quot;color&quot;:&quot;black&quot;},&quot;type&quot;:&quot;scattergeo&quot;,&quot;lat&quot;:[49.178077,49.1410042094931],&quot;hoverinfo&quot;:&quot;none&quot;,&quot;lon&quot;:[-122.888808,-122.856837478998]},{&quot;mode&quot;:&quot;lines&quot;,&quot;line&quot;:{&quot;color&quot;:&quot;black&quot;},&quot;type&quot;:&quot;scattergeo&quot;,&quot;lat&quot;:[49.10635,49.1410042094931],&quot;hoverinfo&quot;:&quot;none&quot;,&quot;lon&quot;:[-122.82509,-122.856837478998]},{&quot;mode&quot;:&quot;lines&quot;,&quot;line&quot;:{&quot;color&quot;:&quot;black&quot;},&quot;type&quot;:&quot;scattergeo&quot;,&quot;lat&quot;:[49.17003,49.1849260491468],&quot;hoverinfo&quot;:&quot;none&quot;,&quot;lon&quot;:[-123.13683,-123.031056110956]},{&quot;mode&quot;:&quot;lines&quot;,&quot;line&quot;:{&quot;color&quot;:&quot;black&quot;},&quot;type&quot;:&quot;scattergeo&quot;,&quot;lat&quot;:[49.88307,50.0457888438141],&quot;hoverinfo&quot;:&quot;none&quot;,&quot;lon&quot;:[-119.48568,-119.291583751319]},{&quot;mode&quot;:&quot;lines&quot;,&quot;line&quot;:{&quot;color&quot;:&quot;black&quot;},&quot;type&quot;:&quot;scattergeo&quot;,&quot;lat&quot;:[53.923123,53.9016967692326],&quot;hoverinfo&quot;:&quot;none&quot;,&quot;lon&quot;:[-122.806159,-122.754683060268]},{&quot;mode&quot;:&quot;lines&quot;,&quot;line&quot;:{&quot;color&quot;:&quot;black&quot;},&quot;type&quot;:&quot;scattergeo&quot;,&quot;lat&quot;:[49.213447,49.2287120398275],&quot;hoverinfo&quot;:&quot;none&quot;,&quot;lon&quot;:[-122.937887,-122.996471986297]},{&quot;mode&quot;:&quot;lines&quot;,&quot;line&quot;:{&quot;color&quot;:&quot;black&quot;},&quot;type&quot;:&quot;scattergeo&quot;,&quot;lat&quot;:[49.169284,49.1863745873237],&quot;hoverinfo&quot;:&quot;none&quot;,&quot;lon&quot;:[-123.182501,-123.111677711376]},{&quot;mode&quot;:&quot;lines&quot;,&quot;line&quot;:{&quot;color&quot;:&quot;black&quot;},&quot;type&quot;:&quot;scattergeo&quot;,&quot;lat&quot;:[49.152089,49.1073342505904],&quot;hoverinfo&quot;:&quot;none&quot;,&quot;lon&quot;:[-122.841664,-122.855372149511]},{&quot;mode&quot;:&quot;lines&quot;,&quot;line&quot;:{&quot;color&quot;:&quot;black&quot;},&quot;type&quot;:&quot;scattergeo&quot;,&quot;lat&quot;:[49.27706,49.2235963510792],&quot;hoverinfo&quot;:&quot;none&quot;,&quot;lon&quot;:[-123.065614,-123.067835340981]},{&quot;mode&quot;:&quot;lines&quot;,&quot;line&quot;:{&quot;color&quot;:&quot;black&quot;},&quot;type&quot;:&quot;scattergeo&quot;,&quot;lat&quot;:[49.128334,49.1863745873237],&quot;hoverinfo&quot;:&quot;none&quot;,&quot;lon&quot;:[-123.184243,-123.111677711376]},{&quot;mode&quot;:&quot;lines&quot;,&quot;line&quot;:{&quot;color&quot;:&quot;black&quot;},&quot;type&quot;:&quot;scattergeo&quot;,&quot;lat&quot;:[49.27706,49.2235963510792],&quot;hoverinfo&quot;:&quot;none&quot;,&quot;lon&quot;:[-123.065614,-123.067835340981]},{&quot;mode&quot;:&quot;lines&quot;,&quot;line&quot;:{&quot;color&quot;:&quot;black&quot;},&quot;type&quot;:&quot;scattergeo&quot;,&quot;lat&quot;:[49.206701,49.2798017113343],&quot;hoverinfo&quot;:&quot;none&quot;,&quot;lon&quot;:[-123.059569,-123.066047262467]},{&quot;mode&quot;:&quot;lines&quot;,&quot;line&quot;:{&quot;color&quot;:&quot;black&quot;},&quot;type&quot;:&quot;scattergeo&quot;,&quot;lat&quot;:[49.10107,49.166916594348],&quot;hoverinfo&quot;:&quot;none&quot;,&quot;lon&quot;:[-122.65883,-122.579859195355]},{&quot;mode&quot;:&quot;lines&quot;,&quot;line&quot;:{&quot;color&quot;:&quot;black&quot;},&quot;type&quot;:&quot;scattergeo&quot;,&quot;lat&quot;:[49.10635,49.1410042094931],&quot;hoverinfo&quot;:&quot;none&quot;,&quot;lon&quot;:[-122.82509,-122.856837478998]},{&quot;mode&quot;:&quot;lines&quot;,&quot;line&quot;:{&quot;color&quot;:&quot;black&quot;},&quot;type&quot;:&quot;scattergeo&quot;,&quot;lat&quot;:[49.16312,49.1410042094931],&quot;hoverinfo&quot;:&quot;none&quot;,&quot;lon&quot;:[-122.792145,-122.856837478998]},{&quot;mode&quot;:&quot;lines&quot;,&quot;line&quot;:{&quot;color&quot;:&quot;black&quot;},&quot;type&quot;:&quot;scattergeo&quot;,&quot;lat&quot;:[49.10635,49.1963107379676],&quot;hoverinfo&quot;:&quot;none&quot;,&quot;lon&quot;:[-122.82509,-122.824169757623]},{&quot;mode&quot;:&quot;lines&quot;,&quot;line&quot;:{&quot;color&quot;:&quot;black&quot;},&quot;type&quot;:&quot;scattergeo&quot;,&quot;lat&quot;:[49.25403,49.2329747531744],&quot;hoverinfo&quot;:&quot;none&quot;,&quot;lon&quot;:[-123.029302,-123.092112415841]},{&quot;mode&quot;:&quot;lines&quot;,&quot;line&quot;:{&quot;color&quot;:&quot;black&quot;},&quot;type&quot;:&quot;scattergeo&quot;,&quot;lat&quot;:[null,49.2687688423554],&quot;hoverinfo&quot;:&quot;none&quot;,&quot;lon&quot;:[null,-122.929926374963]},{&quot;mode&quot;:&quot;lines&quot;,&quot;line&quot;:{&quot;color&quot;:&quot;black&quot;},&quot;type&quot;:&quot;scattergeo&quot;,&quot;lat&quot;:[49.286103,49.2792476329574],&quot;hoverinfo&quot;:&quot;none&quot;,&quot;lon&quot;:[-123.031289,-123.089566417568]},{&quot;mode&quot;:&quot;lines&quot;,&quot;line&quot;:{&quot;color&quot;:&quot;black&quot;},&quot;type&quot;:&quot;scattergeo&quot;,&quot;lat&quot;:[49.20678,49.2211306947439],&quot;hoverinfo&quot;:&quot;none&quot;,&quot;lon&quot;:[-122.91092,-122.898883878006]},{&quot;mode&quot;:&quot;lines&quot;,&quot;line&quot;:{&quot;color&quot;:&quot;black&quot;},&quot;type&quot;:&quot;scattergeo&quot;,&quot;lat&quot;:[49.320024,49.3157977072378],&quot;hoverinfo&quot;:&quot;none&quot;,&quot;lon&quot;:[-123.075547,-123.057394813444]},{&quot;mode&quot;:&quot;lines&quot;,&quot;line&quot;:{&quot;color&quot;:&quot;black&quot;},&quot;type&quot;:&quot;scattergeo&quot;,&quot;lat&quot;:[49.322966,49.3224863139215],&quot;hoverinfo&quot;:&quot;none&quot;,&quot;lon&quot;:[-123.059976,-123.084865113587]},{&quot;mode&quot;:&quot;lines&quot;,&quot;line&quot;:{&quot;color&quot;:&quot;black&quot;},&quot;type&quot;:&quot;scattergeo&quot;,&quot;lat&quot;:[49.321018,49.3224863139215],&quot;hoverinfo&quot;:&quot;none&quot;,&quot;lon&quot;:[-123.072348,-123.084865113587]},{&quot;mode&quot;:&quot;lines&quot;,&quot;line&quot;:{&quot;color&quot;:&quot;black&quot;},&quot;type&quot;:&quot;scattergeo&quot;,&quot;lat&quot;:[49.23473,49.2397224546965],&quot;hoverinfo&quot;:&quot;none&quot;,&quot;lon&quot;:[-123.167395,-123.040753717645]},{&quot;mode&quot;:&quot;lines&quot;,&quot;line&quot;:{&quot;color&quot;:&quot;black&quot;},&quot;type&quot;:&quot;scattergeo&quot;,&quot;lat&quot;:[49.210534,49.3397464394847],&quot;hoverinfo&quot;:&quot;none&quot;,&quot;lon&quot;:[-123.15075,-123.192793552348]},{&quot;mode&quot;:&quot;lines&quot;,&quot;line&quot;:{&quot;color&quot;:&quot;black&quot;},&quot;type&quot;:&quot;scattergeo&quot;,&quot;lat&quot;:[49.28297,49.2598783495975],&quot;hoverinfo&quot;:&quot;none&quot;,&quot;lon&quot;:[-122.75262,-122.859911962369]},{&quot;mode&quot;:&quot;lines&quot;,&quot;line&quot;:{&quot;color&quot;:&quot;black&quot;},&quot;type&quot;:&quot;scattergeo&quot;,&quot;lat&quot;:[49.282576,49.2792476329574],&quot;hoverinfo&quot;:&quot;none&quot;,&quot;lon&quot;:[-123.103734,-123.089566417568]},{&quot;mode&quot;:&quot;lines&quot;,&quot;line&quot;:{&quot;color&quot;:&quot;black&quot;},&quot;type&quot;:&quot;scattergeo&quot;,&quot;lat&quot;:[null,49.892071734828],&quot;hoverinfo&quot;:&quot;none&quot;,&quot;lon&quot;:[null,-119.484658444334]},{&quot;mode&quot;:&quot;lines&quot;,&quot;line&quot;:{&quot;color&quot;:&quot;black&quot;},&quot;type&quot;:&quot;scattergeo&quot;,&quot;lat&quot;:[48.39781,48.4827382013408],&quot;hoverinfo&quot;:&quot;none&quot;,&quot;lon&quot;:[-123.61749,-123.506344576293]},{&quot;mode&quot;:&quot;lines&quot;,&quot;line&quot;:{&quot;color&quot;:&quot;black&quot;},&quot;type&quot;:&quot;scattergeo&quot;,&quot;lat&quot;:[49.286103,49.2792476329574],&quot;hoverinfo&quot;:&quot;none&quot;,&quot;lon&quot;:[-123.031289,-123.089566417568]},{&quot;mode&quot;:&quot;lines&quot;,&quot;line&quot;:{&quot;color&quot;:&quot;black&quot;},&quot;type&quot;:&quot;scattergeo&quot;,&quot;lat&quot;:[49.257164,49.2483683725875],&quot;hoverinfo&quot;:&quot;none&quot;,&quot;lon&quot;:[-123.089441,-123.090270017544]},{&quot;mode&quot;:&quot;lines&quot;,&quot;line&quot;:{&quot;color&quot;:&quot;black&quot;},&quot;type&quot;:&quot;scattergeo&quot;,&quot;lat&quot;:[49.133737,49.1176110168489],&quot;hoverinfo&quot;:&quot;none&quot;,&quot;lon&quot;:[-122.862311,-122.754853365374]},{&quot;mode&quot;:&quot;lines&quot;,&quot;line&quot;:{&quot;color&quot;:&quot;black&quot;},&quot;type&quot;:&quot;scattergeo&quot;,&quot;lat&quot;:[49.089931,49.1562750066142],&quot;hoverinfo&quot;:&quot;none&quot;,&quot;lon&quot;:[-122.979477,-122.910958159732]},{&quot;mode&quot;:&quot;lines&quot;,&quot;line&quot;:{&quot;color&quot;:&quot;black&quot;},&quot;type&quot;:&quot;scattergeo&quot;,&quot;lat&quot;:[49.178077,49.1410042094931],&quot;hoverinfo&quot;:&quot;none&quot;,&quot;lon&quot;:[-122.888808,-122.856837478998]},{&quot;mode&quot;:&quot;lines&quot;,&quot;line&quot;:{&quot;color&quot;:&quot;black&quot;},&quot;type&quot;:&quot;scattergeo&quot;,&quot;lat&quot;:[null,49.2434793968708],&quot;hoverinfo&quot;:&quot;none&quot;,&quot;lon&quot;:[null,-122.786754985938]},{&quot;mode&quot;:&quot;lines&quot;,&quot;line&quot;:{&quot;color&quot;:&quot;black&quot;},&quot;type&quot;:&quot;scattergeo&quot;,&quot;lat&quot;:[49.17003,49.1863745873237],&quot;hoverinfo&quot;:&quot;none&quot;,&quot;lon&quot;:[-123.13683,-123.111677711376]},{&quot;mode&quot;:&quot;lines&quot;,&quot;line&quot;:{&quot;color&quot;:&quot;black&quot;},&quot;type&quot;:&quot;scattergeo&quot;,&quot;lat&quot;:[58.515507,56.2740795809477],&quot;hoverinfo&quot;:&quot;none&quot;,&quot;lon&quot;:[-117.126333,-120.801104114379]},{&quot;mode&quot;:&quot;lines&quot;,&quot;line&quot;:{&quot;color&quot;:&quot;black&quot;},&quot;type&quot;:&quot;scattergeo&quot;,&quot;lat&quot;:[49.10635,49.1176110168489],&quot;hoverinfo&quot;:&quot;none&quot;,&quot;lon&quot;:[-122.82509,-122.754853365374]},{&quot;mode&quot;:&quot;lines&quot;,&quot;line&quot;:{&quot;color&quot;:&quot;black&quot;},&quot;type&quot;:&quot;scattergeo&quot;,&quot;lat&quot;:[49.178077,49.1410042094931],&quot;hoverinfo&quot;:&quot;none&quot;,&quot;lon&quot;:[-122.888808,-122.856837478998]},{&quot;mode&quot;:&quot;lines&quot;,&quot;line&quot;:{&quot;color&quot;:&quot;black&quot;},&quot;type&quot;:&quot;scattergeo&quot;,&quot;lat&quot;:[49.185736,49.1176110168489],&quot;hoverinfo&quot;:&quot;none&quot;,&quot;lon&quot;:[-122.756478,-122.754853365374]},{&quot;mode&quot;:&quot;lines&quot;,&quot;line&quot;:{&quot;color&quot;:&quot;black&quot;},&quot;type&quot;:&quot;scattergeo&quot;,&quot;lat&quot;:[49.321018,49.3224863139215],&quot;hoverinfo&quot;:&quot;none&quot;,&quot;lon&quot;:[-123.072348,-123.084865113587]},{&quot;mode&quot;:&quot;lines&quot;,&quot;line&quot;:{&quot;color&quot;:&quot;black&quot;},&quot;type&quot;:&quot;scattergeo&quot;,&quot;lat&quot;:[49.25403,49.2483683725875],&quot;hoverinfo&quot;:&quot;none&quot;,&quot;lon&quot;:[-123.029302,-123.090270017544]},{&quot;mode&quot;:&quot;lines&quot;,&quot;line&quot;:{&quot;color&quot;:&quot;black&quot;},&quot;type&quot;:&quot;scattergeo&quot;,&quot;lat&quot;:[49.220453,49.2197678565689],&quot;hoverinfo&quot;:&quot;none&quot;,&quot;lon&quot;:[-122.512498,-122.615084831127]},{&quot;mode&quot;:&quot;lines&quot;,&quot;line&quot;:{&quot;color&quot;:&quot;black&quot;},&quot;type&quot;:&quot;scattergeo&quot;,&quot;lat&quot;:[49.218549,49.2151894721671],&quot;hoverinfo&quot;:&quot;none&quot;,&quot;lon&quot;:[-123.09345,-123.139811386092]},{&quot;mode&quot;:&quot;lines&quot;,&quot;line&quot;:{&quot;color&quot;:&quot;black&quot;},&quot;type&quot;:&quot;scattergeo&quot;,&quot;lat&quot;:[49.214683,49.2031043659851],&quot;hoverinfo&quot;:&quot;none&quot;,&quot;lon&quot;:[-122.961388,-122.992325673539]},{&quot;mode&quot;:&quot;lines&quot;,&quot;line&quot;:{&quot;color&quot;:&quot;black&quot;},&quot;type&quot;:&quot;scattergeo&quot;,&quot;lat&quot;:[49.178077,49.1410042094931],&quot;hoverinfo&quot;:&quot;none&quot;,&quot;lon&quot;:[-122.888808,-122.856837478998]},{&quot;mode&quot;:&quot;lines&quot;,&quot;line&quot;:{&quot;color&quot;:&quot;black&quot;},&quot;type&quot;:&quot;scattergeo&quot;,&quot;lat&quot;:[49.05798,49.0391641015383],&quot;hoverinfo&quot;:&quot;none&quot;,&quot;lon&quot;:[-122.25257,-122.347843226749]},{&quot;mode&quot;:&quot;lines&quot;,&quot;line&quot;:{&quot;color&quot;:&quot;black&quot;},&quot;type&quot;:&quot;scattergeo&quot;,&quot;lat&quot;:[49.26636,49.2264196469788],&quot;hoverinfo&quot;:&quot;none&quot;,&quot;lon&quot;:[-122.95263,-122.930978717438]},{&quot;mode&quot;:&quot;lines&quot;,&quot;line&quot;:{&quot;color&quot;:&quot;black&quot;},&quot;type&quot;:&quot;scattergeo&quot;,&quot;lat&quot;:[49.339497,49.322209821279],&quot;hoverinfo&quot;:&quot;none&quot;,&quot;lon&quot;:[-123.114487,-123.113622357888]},{&quot;mode&quot;:&quot;lines&quot;,&quot;line&quot;:{&quot;color&quot;:&quot;black&quot;},&quot;type&quot;:&quot;scattergeo&quot;,&quot;lat&quot;:[49.839659,49.892071734828],&quot;hoverinfo&quot;:&quot;none&quot;,&quot;lon&quot;:[-119.482181,-119.484658444334]},{&quot;mode&quot;:&quot;lines&quot;,&quot;line&quot;:{&quot;color&quot;:&quot;black&quot;},&quot;type&quot;:&quot;scattergeo&quot;,&quot;lat&quot;:[49.178077,49.1073342505904],&quot;hoverinfo&quot;:&quot;none&quot;,&quot;lon&quot;:[-122.888808,-122.855372149511]},{&quot;mode&quot;:&quot;lines&quot;,&quot;line&quot;:{&quot;color&quot;:&quot;black&quot;},&quot;type&quot;:&quot;scattergeo&quot;,&quot;lat&quot;:[49.195547,49.2895690694205],&quot;hoverinfo&quot;:&quot;none&quot;,&quot;lon&quot;:[-122.560105,-122.515863836411]},{&quot;mode&quot;:&quot;lines&quot;,&quot;line&quot;:{&quot;color&quot;:&quot;black&quot;},&quot;type&quot;:&quot;scattergeo&quot;,&quot;lat&quot;:[49.106579,49.2151894721671],&quot;hoverinfo&quot;:&quot;none&quot;,&quot;lon&quot;:[-122.631953,-123.139811386092]},{&quot;mode&quot;:&quot;lines&quot;,&quot;line&quot;:{&quot;color&quot;:&quot;black&quot;},&quot;type&quot;:&quot;scattergeo&quot;,&quot;lat&quot;:[49.17003,49.2017555361651],&quot;hoverinfo&quot;:&quot;none&quot;,&quot;lon&quot;:[-123.13683,-123.184036593146]},{&quot;mode&quot;:&quot;lines&quot;,&quot;line&quot;:{&quot;color&quot;:&quot;black&quot;},&quot;type&quot;:&quot;scattergeo&quot;,&quot;lat&quot;:[49.257164,49.2329747531744],&quot;hoverinfo&quot;:&quot;none&quot;,&quot;lon&quot;:[-123.089441,-123.092112415841]},{&quot;mode&quot;:&quot;lines&quot;,&quot;line&quot;:{&quot;color&quot;:&quot;black&quot;},&quot;type&quot;:&quot;scattergeo&quot;,&quot;lat&quot;:[49.17003,49.1863745873237],&quot;hoverinfo&quot;:&quot;none&quot;,&quot;lon&quot;:[-123.13683,-123.111677711376]},{&quot;mode&quot;:&quot;lines&quot;,&quot;line&quot;:{&quot;color&quot;:&quot;black&quot;},&quot;type&quot;:&quot;scattergeo&quot;,&quot;lat&quot;:[49.25403,49.2634062814426],&quot;hoverinfo&quot;:&quot;none&quot;,&quot;lon&quot;:[-123.029302,-123.090819401467]},{&quot;mode&quot;:&quot;lines&quot;,&quot;line&quot;:{&quot;color&quot;:&quot;black&quot;},&quot;type&quot;:&quot;scattergeo&quot;,&quot;lat&quot;:[49.237983,49.2798017113343],&quot;hoverinfo&quot;:&quot;none&quot;,&quot;lon&quot;:[-123.068585,-123.066047262467]},{&quot;mode&quot;:&quot;lines&quot;,&quot;line&quot;:{&quot;color&quot;:&quot;black&quot;},&quot;type&quot;:&quot;scattergeo&quot;,&quot;lat&quot;:[49.326389,49.3669503539618],&quot;hoverinfo&quot;:&quot;none&quot;,&quot;lon&quot;:[-123.089469,-123.061702768441]},{&quot;mode&quot;:&quot;lines&quot;,&quot;line&quot;:{&quot;color&quot;:&quot;black&quot;},&quot;type&quot;:&quot;scattergeo&quot;,&quot;lat&quot;:[49.25403,49.2483683725875],&quot;hoverinfo&quot;:&quot;none&quot;,&quot;lon&quot;:[-123.029302,-123.090270017544]},{&quot;mode&quot;:&quot;lines&quot;,&quot;line&quot;:{&quot;color&quot;:&quot;black&quot;},&quot;type&quot;:&quot;scattergeo&quot;,&quot;lat&quot;:[49.245293,49.2774564884192],&quot;hoverinfo&quot;:&quot;none&quot;,&quot;lon&quot;:[-122.96726,-122.975964564566]},{&quot;mode&quot;:&quot;lines&quot;,&quot;line&quot;:{&quot;color&quot;:&quot;black&quot;},&quot;type&quot;:&quot;scattergeo&quot;,&quot;lat&quot;:[49.249057,49.2364668900495],&quot;hoverinfo&quot;:&quot;none&quot;,&quot;lon&quot;:[-122.829877,-122.852141086465]},{&quot;mode&quot;:&quot;lines&quot;,&quot;line&quot;:{&quot;color&quot;:&quot;black&quot;},&quot;type&quot;:&quot;scattergeo&quot;,&quot;lat&quot;:[48.696901,48.5816953672664],&quot;hoverinfo&quot;:&quot;none&quot;,&quot;lon&quot;:[-123.457804,-123.422318363172]},{&quot;mode&quot;:&quot;lines&quot;,&quot;line&quot;:{&quot;color&quot;:&quot;black&quot;},&quot;type&quot;:&quot;scattergeo&quot;,&quot;lat&quot;:[49.10635,49.190394728435],&quot;hoverinfo&quot;:&quot;none&quot;,&quot;lon&quot;:[-122.82509,-122.848462790325]},{&quot;mode&quot;:&quot;lines&quot;,&quot;line&quot;:{&quot;color&quot;:&quot;black&quot;},&quot;type&quot;:&quot;scattergeo&quot;,&quot;lat&quot;:[49.215457,49.2264196469788],&quot;hoverinfo&quot;:&quot;none&quot;,&quot;lon&quot;:[-122.934213,-122.930978717438]},{&quot;mode&quot;:&quot;lines&quot;,&quot;line&quot;:{&quot;color&quot;:&quot;black&quot;},&quot;type&quot;:&quot;scattergeo&quot;,&quot;lat&quot;:[49.187062,49.1963107379676],&quot;hoverinfo&quot;:&quot;none&quot;,&quot;lon&quot;:[-122.785431,-122.824169757623]},{&quot;mode&quot;:&quot;lines&quot;,&quot;line&quot;:{&quot;color&quot;:&quot;black&quot;},&quot;type&quot;:&quot;scattergeo&quot;,&quot;lat&quot;:[54.99489,49.1018732261522],&quot;hoverinfo&quot;:&quot;none&quot;,&quot;lon&quot;:[-129.89385,-125.019665241324]},{&quot;mode&quot;:&quot;lines&quot;,&quot;line&quot;:{&quot;color&quot;:&quot;black&quot;},&quot;type&quot;:&quot;scattergeo&quot;,&quot;lat&quot;:[48.499238,48.477480017302],&quot;hoverinfo&quot;:&quot;none&quot;,&quot;lon&quot;:[-123.390997,-123.36608053282]},{&quot;mode&quot;:&quot;lines&quot;,&quot;line&quot;:{&quot;color&quot;:&quot;black&quot;},&quot;type&quot;:&quot;scattergeo&quot;,&quot;lat&quot;:[49.10635,49.1719889563992],&quot;hoverinfo&quot;:&quot;none&quot;,&quot;lon&quot;:[-122.82509,-122.734851508864]},{&quot;mode&quot;:&quot;lines&quot;,&quot;line&quot;:{&quot;color&quot;:&quot;black&quot;},&quot;type&quot;:&quot;scattergeo&quot;,&quot;lat&quot;:[49.172724,49.1894387656804],&quot;hoverinfo&quot;:&quot;none&quot;,&quot;lon&quot;:[-123.959447,-123.963586439922]},{&quot;mode&quot;:&quot;lines&quot;,&quot;line&quot;:{&quot;color&quot;:&quot;black&quot;},&quot;type&quot;:&quot;scattergeo&quot;,&quot;lat&quot;:[49.865752,50.0457888438141],&quot;hoverinfo&quot;:&quot;none&quot;,&quot;lon&quot;:[-119.146072,-119.291583751319]},{&quot;mode&quot;:&quot;lines&quot;,&quot;line&quot;:{&quot;color&quot;:&quot;black&quot;},&quot;type&quot;:&quot;scattergeo&quot;,&quot;lat&quot;:[49.155611,49.159590837299],&quot;hoverinfo&quot;:&quot;none&quot;,&quot;lon&quot;:[-123.169836,-123.11946654448]},{&quot;mode&quot;:&quot;lines&quot;,&quot;line&quot;:{&quot;color&quot;:&quot;black&quot;},&quot;type&quot;:&quot;scattergeo&quot;,&quot;lat&quot;:[48.444956,48.440018157679],&quot;hoverinfo&quot;:&quot;none&quot;,&quot;lon&quot;:[-123.333787,-123.357355323014]},{&quot;mode&quot;:&quot;lines&quot;,&quot;line&quot;:{&quot;color&quot;:&quot;black&quot;},&quot;type&quot;:&quot;scattergeo&quot;,&quot;lat&quot;:[49.337373,49.3744165251405],&quot;hoverinfo&quot;:&quot;none&quot;,&quot;lon&quot;:[-123.056295,-123.097541300827]},{&quot;mode&quot;:&quot;lines&quot;,&quot;line&quot;:{&quot;color&quot;:&quot;black&quot;},&quot;type&quot;:&quot;scattergeo&quot;,&quot;lat&quot;:[49.007399,49.1176110168489],&quot;hoverinfo&quot;:&quot;none&quot;,&quot;lon&quot;:[-122.260811,-122.754853365374]},{&quot;mode&quot;:&quot;lines&quot;,&quot;line&quot;:{&quot;color&quot;:&quot;black&quot;},&quot;type&quot;:&quot;scattergeo&quot;,&quot;lat&quot;:[49.10107,49.166916594348],&quot;hoverinfo&quot;:&quot;none&quot;,&quot;lon&quot;:[-122.65883,-122.579859195355]},{&quot;mode&quot;:&quot;lines&quot;,&quot;line&quot;:{&quot;color&quot;:&quot;black&quot;},&quot;type&quot;:&quot;scattergeo&quot;,&quot;lat&quot;:[49.007399,49.1176110168489],&quot;hoverinfo&quot;:&quot;none&quot;,&quot;lon&quot;:[-122.260811,-122.754853365374]},{&quot;mode&quot;:&quot;lines&quot;,&quot;line&quot;:{&quot;color&quot;:&quot;black&quot;},&quot;type&quot;:&quot;scattergeo&quot;,&quot;lat&quot;:[49.257738,49.2560324587443],&quot;hoverinfo&quot;:&quot;none&quot;,&quot;lon&quot;:[-123.111115,-123.132777904483]},{&quot;mode&quot;:&quot;lines&quot;,&quot;line&quot;:{&quot;color&quot;:&quot;black&quot;},&quot;type&quot;:&quot;scattergeo&quot;,&quot;lat&quot;:[null,49.1984065446686],&quot;hoverinfo&quot;:&quot;none&quot;,&quot;lon&quot;:[null,-122.934408509512]},{&quot;mode&quot;:&quot;lines&quot;,&quot;line&quot;:{&quot;color&quot;:&quot;black&quot;},&quot;type&quot;:&quot;scattergeo&quot;,&quot;lat&quot;:[49.36672,49.3311374602925],&quot;hoverinfo&quot;:&quot;none&quot;,&quot;lon&quot;:[-123.16652,-123.140270612201]},{&quot;mode&quot;:&quot;lines&quot;,&quot;line&quot;:{&quot;color&quot;:&quot;black&quot;},&quot;type&quot;:&quot;scattergeo&quot;,&quot;lat&quot;:[49.26636,49.2599844835188],&quot;hoverinfo&quot;:&quot;none&quot;,&quot;lon&quot;:[-122.95263,-123.039291252264]},{&quot;mode&quot;:&quot;lines&quot;,&quot;line&quot;:{&quot;color&quot;:&quot;black&quot;},&quot;type&quot;:&quot;scattergeo&quot;,&quot;lat&quot;:[49.17003,49.117565817857],&quot;hoverinfo&quot;:&quot;none&quot;,&quot;lon&quot;:[-123.13683,-123.117052820606]},{&quot;mode&quot;:&quot;lines&quot;,&quot;line&quot;:{&quot;color&quot;:&quot;black&quot;},&quot;type&quot;:&quot;scattergeo&quot;,&quot;lat&quot;:[49.10635,49.1963107379676],&quot;hoverinfo&quot;:&quot;none&quot;,&quot;lon&quot;:[-122.82509,-122.824169757623]},{&quot;mode&quot;:&quot;lines&quot;,&quot;line&quot;:{&quot;color&quot;:&quot;black&quot;},&quot;type&quot;:&quot;scattergeo&quot;,&quot;lat&quot;:[49.219898,49.2560324587443],&quot;hoverinfo&quot;:&quot;none&quot;,&quot;lon&quot;:[-123.140105,-123.132777904483]},{&quot;mode&quot;:&quot;lines&quot;,&quot;line&quot;:{&quot;color&quot;:&quot;black&quot;},&quot;type&quot;:&quot;scattergeo&quot;,&quot;lat&quot;:[49.262639,49.2553846831502],&quot;hoverinfo&quot;:&quot;none&quot;,&quot;lon&quot;:[-123.096001,-123.066013649185]},{&quot;mode&quot;:&quot;lines&quot;,&quot;line&quot;:{&quot;color&quot;:&quot;black&quot;},&quot;type&quot;:&quot;scattergeo&quot;,&quot;lat&quot;:[49.227254,49.2337945141212],&quot;hoverinfo&quot;:&quot;none&quot;,&quot;lon&quot;:[-123.128281,-123.145782384338]},{&quot;mode&quot;:&quot;lines&quot;,&quot;line&quot;:{&quot;color&quot;:&quot;black&quot;},&quot;type&quot;:&quot;scattergeo&quot;,&quot;lat&quot;:[49.261974,49.2553846831502],&quot;hoverinfo&quot;:&quot;none&quot;,&quot;lon&quot;:[-123.098669,-123.066013649185]},{&quot;mode&quot;:&quot;lines&quot;,&quot;line&quot;:{&quot;color&quot;:&quot;black&quot;},&quot;type&quot;:&quot;scattergeo&quot;,&quot;lat&quot;:[49.278841,49.2990081073594],&quot;hoverinfo&quot;:&quot;none&quot;,&quot;lon&quot;:[-123.115953,-123.140823913795]},{&quot;mode&quot;:&quot;lines&quot;,&quot;line&quot;:{&quot;color&quot;:&quot;black&quot;},&quot;type&quot;:&quot;scattergeo&quot;,&quot;lat&quot;:[49.188351,49.0571619551277],&quot;hoverinfo&quot;:&quot;none&quot;,&quot;lon&quot;:[-122.777198,-122.754315950226]},{&quot;mode&quot;:&quot;lines&quot;,&quot;line&quot;:{&quot;color&quot;:&quot;black&quot;},&quot;type&quot;:&quot;scattergeo&quot;,&quot;lat&quot;:[49.10635,49.1176110168489],&quot;hoverinfo&quot;:&quot;none&quot;,&quot;lon&quot;:[-122.82509,-122.754853365374]},{&quot;mode&quot;:&quot;lines&quot;,&quot;line&quot;:{&quot;color&quot;:&quot;black&quot;},&quot;type&quot;:&quot;scattergeo&quot;,&quot;lat&quot;:[49.26225,49.2653172633961],&quot;hoverinfo&quot;:&quot;none&quot;,&quot;lon&quot;:[-123.042626,-123.165649863758]},{&quot;mode&quot;:&quot;lines&quot;,&quot;line&quot;:{&quot;color&quot;:&quot;black&quot;},&quot;type&quot;:&quot;scattergeo&quot;,&quot;lat&quot;:[49.218753,49.2287120398275],&quot;hoverinfo&quot;:&quot;none&quot;,&quot;lon&quot;:[-122.982918,-122.996471986297]},{&quot;mode&quot;:&quot;lines&quot;,&quot;line&quot;:{&quot;color&quot;:&quot;black&quot;},&quot;type&quot;:&quot;scattergeo&quot;,&quot;lat&quot;:[49.88307,49.9494031638513],&quot;hoverinfo&quot;:&quot;none&quot;,&quot;lon&quot;:[-119.48568,-119.433353966091]},{&quot;mode&quot;:&quot;lines&quot;,&quot;line&quot;:{&quot;color&quot;:&quot;black&quot;},&quot;type&quot;:&quot;scattergeo&quot;,&quot;lat&quot;:[49.264925,49.2610047203502],&quot;hoverinfo&quot;:&quot;none&quot;,&quot;lon&quot;:[-123.105063,-123.145479801502]},{&quot;mode&quot;:&quot;lines&quot;,&quot;line&quot;:{&quot;color&quot;:&quot;black&quot;},&quot;type&quot;:&quot;scattergeo&quot;,&quot;lat&quot;:[49.173571,49.1831831533453],&quot;hoverinfo&quot;:&quot;none&quot;,&quot;lon&quot;:[-122.68227,-122.876242276909]},{&quot;mode&quot;:&quot;lines&quot;,&quot;line&quot;:{&quot;color&quot;:&quot;black&quot;},&quot;type&quot;:&quot;scattergeo&quot;,&quot;lat&quot;:[48.426448,48.4381324963577],&quot;hoverinfo&quot;:&quot;none&quot;,&quot;lon&quot;:[-123.328163,-123.318423151507]},{&quot;mode&quot;:&quot;lines&quot;,&quot;line&quot;:{&quot;color&quot;:&quot;black&quot;},&quot;type&quot;:&quot;scattergeo&quot;,&quot;lat&quot;:[50.314003,51.1250429917237],&quot;hoverinfo&quot;:&quot;none&quot;,&quot;lon&quot;:[-122.729335,-121.61558960958]},{&quot;mode&quot;:&quot;lines&quot;,&quot;line&quot;:{&quot;color&quot;:&quot;black&quot;},&quot;type&quot;:&quot;scattergeo&quot;,&quot;lat&quot;:[49.157538,49.1288299968612],&quot;hoverinfo&quot;:&quot;none&quot;,&quot;lon&quot;:[-123.181116,-123.148738771175]},{&quot;mode&quot;:&quot;lines&quot;,&quot;line&quot;:{&quot;color&quot;:&quot;black&quot;},&quot;type&quot;:&quot;scattergeo&quot;,&quot;lat&quot;:[49.103818,49.0938916038734],&quot;hoverinfo&quot;:&quot;none&quot;,&quot;lon&quot;:[-122.490041,-122.647453561111]},{&quot;mode&quot;:&quot;lines&quot;,&quot;line&quot;:{&quot;color&quot;:&quot;black&quot;},&quot;type&quot;:&quot;scattergeo&quot;,&quot;lat&quot;:[49.25403,49.2792476329574],&quot;hoverinfo&quot;:&quot;none&quot;,&quot;lon&quot;:[-123.029302,-123.089566417568]},{&quot;mode&quot;:&quot;lines&quot;,&quot;line&quot;:{&quot;color&quot;:&quot;black&quot;},&quot;type&quot;:&quot;scattergeo&quot;,&quot;lat&quot;:[49.300229,49.2724993577155],&quot;hoverinfo&quot;:&quot;none&quot;,&quot;lon&quot;:[-122.761371,-122.756523735201]},{&quot;mode&quot;:&quot;lines&quot;,&quot;line&quot;:{&quot;color&quot;:&quot;black&quot;},&quot;type&quot;:&quot;scattergeo&quot;,&quot;lat&quot;:[49.152089,49.0552243022838],&quot;hoverinfo&quot;:&quot;none&quot;,&quot;lon&quot;:[-122.841664,-122.828060602292]},{&quot;mode&quot;:&quot;lines&quot;,&quot;line&quot;:{&quot;color&quot;:&quot;black&quot;},&quot;type&quot;:&quot;scattergeo&quot;,&quot;lat&quot;:[49.098831,49.1176110168489],&quot;hoverinfo&quot;:&quot;none&quot;,&quot;lon&quot;:[-122.884104,-122.754853365374]},{&quot;mode&quot;:&quot;lines&quot;,&quot;line&quot;:{&quot;color&quot;:&quot;black&quot;},&quot;type&quot;:&quot;scattergeo&quot;,&quot;lat&quot;:[49.213447,49.2287120398275],&quot;hoverinfo&quot;:&quot;none&quot;,&quot;lon&quot;:[-122.937887,-122.996471986297]},{&quot;mode&quot;:&quot;lines&quot;,&quot;line&quot;:{&quot;color&quot;:&quot;black&quot;},&quot;type&quot;:&quot;scattergeo&quot;,&quot;lat&quot;:[49.045534,49.0385145601345],&quot;hoverinfo&quot;:&quot;none&quot;,&quot;lon&quot;:[-122.782769,-122.83110874713]},{&quot;mode&quot;:&quot;lines&quot;,&quot;line&quot;:{&quot;color&quot;:&quot;black&quot;},&quot;type&quot;:&quot;scattergeo&quot;,&quot;lat&quot;:[49.26911,49.2663229578375],&quot;hoverinfo&quot;:&quot;none&quot;,&quot;lon&quot;:[-123.214999,-123.197873679399]},{&quot;mode&quot;:&quot;lines&quot;,&quot;line&quot;:{&quot;color&quot;:&quot;black&quot;},&quot;type&quot;:&quot;scattergeo&quot;,&quot;lat&quot;:[49.262639,49.2653172633961],&quot;hoverinfo&quot;:&quot;none&quot;,&quot;lon&quot;:[-123.096001,-123.165649863758]},{&quot;mode&quot;:&quot;lines&quot;,&quot;line&quot;:{&quot;color&quot;:&quot;black&quot;},&quot;type&quot;:&quot;scattergeo&quot;,&quot;lat&quot;:[49.264797,49.2508143510126],&quot;hoverinfo&quot;:&quot;none&quot;,&quot;lon&quot;:[-123.183769,-123.215501310984]},{&quot;mode&quot;:&quot;lines&quot;,&quot;line&quot;:{&quot;color&quot;:&quot;black&quot;},&quot;type&quot;:&quot;scattergeo&quot;,&quot;lat&quot;:[49.36672,49.3397464394847],&quot;hoverinfo&quot;:&quot;none&quot;,&quot;lon&quot;:[-123.16652,-123.192793552348]},{&quot;mode&quot;:&quot;lines&quot;,&quot;line&quot;:{&quot;color&quot;:&quot;black&quot;},&quot;type&quot;:&quot;scattergeo&quot;,&quot;lat&quot;:[49.227254,49.2560324587443],&quot;hoverinfo&quot;:&quot;none&quot;,&quot;lon&quot;:[-123.128281,-123.132777904483]},{&quot;mode&quot;:&quot;lines&quot;,&quot;line&quot;:{&quot;color&quot;:&quot;black&quot;},&quot;type&quot;:&quot;scattergeo&quot;,&quot;lat&quot;:[49.330058,49.3744165251405],&quot;hoverinfo&quot;:&quot;none&quot;,&quot;lon&quot;:[-123.094079,-123.097541300827]},{&quot;mode&quot;:&quot;lines&quot;,&quot;line&quot;:{&quot;color&quot;:&quot;black&quot;},&quot;type&quot;:&quot;scattergeo&quot;,&quot;lat&quot;:[49.26636,49.2031043659851],&quot;hoverinfo&quot;:&quot;none&quot;,&quot;lon&quot;:[-122.95263,-122.992325673539]},{&quot;mode&quot;:&quot;lines&quot;,&quot;line&quot;:{&quot;color&quot;:&quot;black&quot;},&quot;type&quot;:&quot;scattergeo&quot;,&quot;lat&quot;:[49.202124,49.2211306947439],&quot;hoverinfo&quot;:&quot;none&quot;,&quot;lon&quot;:[-122.909873,-122.898883878006]},{&quot;mode&quot;:&quot;lines&quot;,&quot;line&quot;:{&quot;color&quot;:&quot;black&quot;},&quot;type&quot;:&quot;scattergeo&quot;,&quot;lat&quot;:[49.263243,49.2663229578375],&quot;hoverinfo&quot;:&quot;none&quot;,&quot;lon&quot;:[-123.170153,-123.197873679399]},{&quot;mode&quot;:&quot;lines&quot;,&quot;line&quot;:{&quot;color&quot;:&quot;black&quot;},&quot;type&quot;:&quot;scattergeo&quot;,&quot;lat&quot;:[49.330498,49.3311374602925],&quot;hoverinfo&quot;:&quot;none&quot;,&quot;lon&quot;:[-123.172648,-123.140270612201]},{&quot;mode&quot;:&quot;lines&quot;,&quot;line&quot;:{&quot;color&quot;:&quot;black&quot;},&quot;type&quot;:&quot;scattergeo&quot;,&quot;lat&quot;:[49.17003,49.1626286600844],&quot;hoverinfo&quot;:&quot;none&quot;,&quot;lon&quot;:[-123.13683,-123.172127771816]},{&quot;mode&quot;:&quot;lines&quot;,&quot;line&quot;:{&quot;color&quot;:&quot;black&quot;},&quot;type&quot;:&quot;scattergeo&quot;,&quot;lat&quot;:[48.428514,48.477480017302],&quot;hoverinfo&quot;:&quot;none&quot;,&quot;lon&quot;:[-123.358915,-123.36608053282]},{&quot;mode&quot;:&quot;lines&quot;,&quot;line&quot;:{&quot;color&quot;:&quot;black&quot;},&quot;type&quot;:&quot;scattergeo&quot;,&quot;lat&quot;:[49.261974,49.2553846831502],&quot;hoverinfo&quot;:&quot;none&quot;,&quot;lon&quot;:[-123.098669,-123.066013649185]},{&quot;mode&quot;:&quot;lines&quot;,&quot;line&quot;:{&quot;color&quot;:&quot;black&quot;},&quot;type&quot;:&quot;scattergeo&quot;,&quot;lat&quot;:[49.237983,49.2798017113343],&quot;hoverinfo&quot;:&quot;none&quot;,&quot;lon&quot;:[-123.068585,-123.066047262467]},{&quot;mode&quot;:&quot;lines&quot;,&quot;line&quot;:{&quot;color&quot;:&quot;black&quot;},&quot;type&quot;:&quot;scattergeo&quot;,&quot;lat&quot;:[49.137854,49.1626286600844],&quot;hoverinfo&quot;:&quot;none&quot;,&quot;lon&quot;:[-123.147848,-123.172127771816]},{&quot;mode&quot;:&quot;lines&quot;,&quot;line&quot;:{&quot;color&quot;:&quot;black&quot;},&quot;type&quot;:&quot;scattergeo&quot;,&quot;lat&quot;:[49.10107,49.1277794033541],&quot;hoverinfo&quot;:&quot;none&quot;,&quot;lon&quot;:[-122.65883,-122.621185397052]},{&quot;mode&quot;:&quot;lines&quot;,&quot;line&quot;:{&quot;color&quot;:&quot;black&quot;},&quot;type&quot;:&quot;scattergeo&quot;,&quot;lat&quot;:[49.865752,50.0457888438141],&quot;hoverinfo&quot;:&quot;none&quot;,&quot;lon&quot;:[-119.146072,-119.291583751319]},{&quot;mode&quot;:&quot;lines&quot;,&quot;line&quot;:{&quot;color&quot;:&quot;black&quot;},&quot;type&quot;:&quot;scattergeo&quot;,&quot;lat&quot;:[48.471742,48.4765793361461],&quot;hoverinfo&quot;:&quot;none&quot;,&quot;lon&quot;:[-123.352616,-123.314845757847]},{&quot;mode&quot;:&quot;lines&quot;,&quot;line&quot;:{&quot;color&quot;:&quot;black&quot;},&quot;type&quot;:&quot;scattergeo&quot;,&quot;lat&quot;:[48.440045,48.4164754620703],&quot;hoverinfo&quot;:&quot;none&quot;,&quot;lon&quot;:[-123.337232,-123.365138868897]},{&quot;mode&quot;:&quot;lines&quot;,&quot;line&quot;:{&quot;color&quot;:&quot;black&quot;},&quot;type&quot;:&quot;scattergeo&quot;,&quot;lat&quot;:[null,49.853974371311],&quot;hoverinfo&quot;:&quot;none&quot;,&quot;lon&quot;:[null,-119.62915661075]},{&quot;mode&quot;:&quot;lines&quot;,&quot;line&quot;:{&quot;color&quot;:&quot;black&quot;},&quot;type&quot;:&quot;scattergeo&quot;,&quot;lat&quot;:[48.471742,48.4765793361461],&quot;hoverinfo&quot;:&quot;none&quot;,&quot;lon&quot;:[-123.352616,-123.314845757847]},{&quot;mode&quot;:&quot;lines&quot;,&quot;line&quot;:{&quot;color&quot;:&quot;black&quot;},&quot;type&quot;:&quot;scattergeo&quot;,&quot;lat&quot;:[49.32862,49.3397464394847],&quot;hoverinfo&quot;:&quot;none&quot;,&quot;lon&quot;:[-123.158906,-123.192793552348]},{&quot;mode&quot;:&quot;lines&quot;,&quot;line&quot;:{&quot;color&quot;:&quot;black&quot;},&quot;type&quot;:&quot;scattergeo&quot;,&quot;lat&quot;:[null,49.2211306947439],&quot;hoverinfo&quot;:&quot;none&quot;,&quot;lon&quot;:[null,-122.898883878006]},{&quot;mode&quot;:&quot;lines&quot;,&quot;line&quot;:{&quot;color&quot;:&quot;black&quot;},&quot;type&quot;:&quot;scattergeo&quot;,&quot;lat&quot;:[null,49.0385145601345],&quot;hoverinfo&quot;:&quot;none&quot;,&quot;lon&quot;:[null,-122.83110874713]},{&quot;mode&quot;:&quot;lines&quot;,&quot;line&quot;:{&quot;color&quot;:&quot;black&quot;},&quot;type&quot;:&quot;scattergeo&quot;,&quot;lat&quot;:[49.219898,49.2894310875386],&quot;hoverinfo&quot;:&quot;none&quot;,&quot;lon&quot;:[-123.140105,-123.119462061727]},{&quot;mode&quot;:&quot;lines&quot;,&quot;line&quot;:{&quot;color&quot;:&quot;black&quot;},&quot;type&quot;:&quot;scattergeo&quot;,&quot;lat&quot;:[49.102246,49.1806404435479],&quot;hoverinfo&quot;:&quot;none&quot;,&quot;lon&quot;:[-121.962567,-121.900229531001]},{&quot;mode&quot;:&quot;lines&quot;,&quot;line&quot;:{&quot;color&quot;:&quot;black&quot;},&quot;type&quot;:&quot;scattergeo&quot;,&quot;lat&quot;:[48.447204,48.4827382013408],&quot;hoverinfo&quot;:&quot;none&quot;,&quot;lon&quot;:[-123.465962,-123.506344576293]},{&quot;mode&quot;:&quot;lines&quot;,&quot;line&quot;:{&quot;color&quot;:&quot;black&quot;},&quot;type&quot;:&quot;scattergeo&quot;,&quot;lat&quot;:[49.280165,49.2803210569917],&quot;hoverinfo&quot;:&quot;none&quot;,&quot;lon&quot;:[-123.102599,-123.113580759168]},{&quot;mode&quot;:&quot;lines&quot;,&quot;line&quot;:{&quot;color&quot;:&quot;black&quot;},&quot;type&quot;:&quot;scattergeo&quot;,&quot;lat&quot;:[53.923123,53.9016967692326],&quot;hoverinfo&quot;:&quot;none&quot;,&quot;lon&quot;:[-122.806159,-122.754683060268]},{&quot;mode&quot;:&quot;lines&quot;,&quot;line&quot;:{&quot;color&quot;:&quot;black&quot;},&quot;type&quot;:&quot;scattergeo&quot;,&quot;lat&quot;:[48.43294,48.4960159700356],&quot;hoverinfo&quot;:&quot;none&quot;,&quot;lon&quot;:[-123.3693,-123.400130211172]},{&quot;mode&quot;:&quot;lines&quot;,&quot;line&quot;:{&quot;color&quot;:&quot;black&quot;},&quot;type&quot;:&quot;scattergeo&quot;,&quot;lat&quot;:[49.16312,49.1410042094931],&quot;hoverinfo&quot;:&quot;none&quot;,&quot;lon&quot;:[-122.792145,-122.856837478998]},{&quot;mode&quot;:&quot;lines&quot;,&quot;line&quot;:{&quot;color&quot;:&quot;black&quot;},&quot;type&quot;:&quot;scattergeo&quot;,&quot;lat&quot;:[49.237983,49.2798017113343],&quot;hoverinfo&quot;:&quot;none&quot;,&quot;lon&quot;:[-123.068585,-123.066047262467]},{&quot;mode&quot;:&quot;lines&quot;,&quot;line&quot;:{&quot;color&quot;:&quot;black&quot;},&quot;type&quot;:&quot;scattergeo&quot;,&quot;lat&quot;:[49.351186,49.3311374602925],&quot;hoverinfo&quot;:&quot;none&quot;,&quot;lon&quot;:[-123.266198,-123.140270612201]},{&quot;mode&quot;:&quot;lines&quot;,&quot;line&quot;:{&quot;color&quot;:&quot;black&quot;},&quot;type&quot;:&quot;scattergeo&quot;,&quot;lat&quot;:[49.289784,49.2834575694212],&quot;hoverinfo&quot;:&quot;none&quot;,&quot;lon&quot;:[-123.129403,-123.129406113292]},{&quot;mode&quot;:&quot;lines&quot;,&quot;line&quot;:{&quot;color&quot;:&quot;black&quot;},&quot;type&quot;:&quot;scattergeo&quot;,&quot;lat&quot;:[null,49.2211306947439],&quot;hoverinfo&quot;:&quot;none&quot;,&quot;lon&quot;:[null,-122.898883878006]},{&quot;mode&quot;:&quot;lines&quot;,&quot;line&quot;:{&quot;color&quot;:&quot;black&quot;},&quot;type&quot;:&quot;scattergeo&quot;,&quot;lat&quot;:[48.43294,48.4381324963577],&quot;hoverinfo&quot;:&quot;none&quot;,&quot;lon&quot;:[-123.3693,-123.318423151507]},{&quot;mode&quot;:&quot;lines&quot;,&quot;line&quot;:{&quot;color&quot;:&quot;black&quot;},&quot;type&quot;:&quot;scattergeo&quot;,&quot;lat&quot;:[49.17003,49.117565817857],&quot;hoverinfo&quot;:&quot;none&quot;,&quot;lon&quot;:[-123.13683,-123.117052820606]},{&quot;mode&quot;:&quot;lines&quot;,&quot;line&quot;:{&quot;color&quot;:&quot;black&quot;},&quot;type&quot;:&quot;scattergeo&quot;,&quot;lat&quot;:[49.224089,49.2493050777848],&quot;hoverinfo&quot;:&quot;none&quot;,&quot;lon&quot;:[-122.940994,-122.993815083006]},{&quot;mode&quot;:&quot;lines&quot;,&quot;line&quot;:{&quot;color&quot;:&quot;black&quot;},&quot;type&quot;:&quot;scattergeo&quot;,&quot;lat&quot;:[59.785092,49.0691909915843],&quot;hoverinfo&quot;:&quot;none&quot;,&quot;lon&quot;:[-134.944639,-122.502340746886]},{&quot;mode&quot;:&quot;lines&quot;,&quot;line&quot;:{&quot;color&quot;:&quot;black&quot;},&quot;type&quot;:&quot;scattergeo&quot;,&quot;lat&quot;:[49.152089,49.190394728435],&quot;hoverinfo&quot;:&quot;none&quot;,&quot;lon&quot;:[-122.841664,-122.848462790325]},{&quot;mode&quot;:&quot;lines&quot;,&quot;line&quot;:{&quot;color&quot;:&quot;black&quot;},&quot;type&quot;:&quot;scattergeo&quot;,&quot;lat&quot;:[49.150454,49.1187964384755],&quot;hoverinfo&quot;:&quot;none&quot;,&quot;lon&quot;:[-122.89155,-122.903580634172]},{&quot;mode&quot;:&quot;lines&quot;,&quot;line&quot;:{&quot;color&quot;:&quot;black&quot;},&quot;type&quot;:&quot;scattergeo&quot;,&quot;lat&quot;:[49.326389,49.3669503539618],&quot;hoverinfo&quot;:&quot;none&quot;,&quot;lon&quot;:[-123.089469,-123.061702768441]},{&quot;mode&quot;:&quot;lines&quot;,&quot;line&quot;:{&quot;color&quot;:&quot;black&quot;},&quot;type&quot;:&quot;scattergeo&quot;,&quot;lat&quot;:[49.280985,49.2774564884192],&quot;hoverinfo&quot;:&quot;none&quot;,&quot;lon&quot;:[-122.997475,-122.975964564566]},{&quot;mode&quot;:&quot;lines&quot;,&quot;line&quot;:{&quot;color&quot;:&quot;black&quot;},&quot;type&quot;:&quot;scattergeo&quot;,&quot;lat&quot;:[49.045534,49.0385145601345],&quot;hoverinfo&quot;:&quot;none&quot;,&quot;lon&quot;:[-122.782769,-122.83110874713]},{&quot;mode&quot;:&quot;lines&quot;,&quot;line&quot;:{&quot;color&quot;:&quot;black&quot;},&quot;type&quot;:&quot;scattergeo&quot;,&quot;lat&quot;:[49.164395,49.1277794033541],&quot;hoverinfo&quot;:&quot;none&quot;,&quot;lon&quot;:[-122.6685,-122.621185397052]},{&quot;mode&quot;:&quot;lines&quot;,&quot;line&quot;:{&quot;color&quot;:&quot;black&quot;},&quot;type&quot;:&quot;scattergeo&quot;,&quot;lat&quot;:[49.038359,49.1963107379676],&quot;hoverinfo&quot;:&quot;none&quot;,&quot;lon&quot;:[-122.799908,-122.824169757623]},{&quot;mode&quot;:&quot;lines&quot;,&quot;line&quot;:{&quot;color&quot;:&quot;black&quot;},&quot;type&quot;:&quot;scattergeo&quot;,&quot;lat&quot;:[49.281903,49.1316251641677],&quot;hoverinfo&quot;:&quot;none&quot;,&quot;lon&quot;:[-117.214998,-117.87778874206]},{&quot;mode&quot;:&quot;lines&quot;,&quot;line&quot;:{&quot;color&quot;:&quot;black&quot;},&quot;type&quot;:&quot;scattergeo&quot;,&quot;lat&quot;:[49.249057,49.2364668900495],&quot;hoverinfo&quot;:&quot;none&quot;,&quot;lon&quot;:[-122.829877,-122.852141086465]},{&quot;mode&quot;:&quot;lines&quot;,&quot;line&quot;:{&quot;color&quot;:&quot;black&quot;},&quot;type&quot;:&quot;scattergeo&quot;,&quot;lat&quot;:[49.21709,49.2990081073594],&quot;hoverinfo&quot;:&quot;none&quot;,&quot;lon&quot;:[-123.064673,-123.140823913795]},{&quot;mode&quot;:&quot;lines&quot;,&quot;line&quot;:{&quot;color&quot;:&quot;black&quot;},&quot;type&quot;:&quot;scattergeo&quot;,&quot;lat&quot;:[49.178077,49.1410042094931],&quot;hoverinfo&quot;:&quot;none&quot;,&quot;lon&quot;:[-122.888808,-122.856837478998]},{&quot;mode&quot;:&quot;lines&quot;,&quot;line&quot;:{&quot;color&quot;:&quot;black&quot;},&quot;type&quot;:&quot;scattergeo&quot;,&quot;lat&quot;:[49.247912,49.2474770879481],&quot;hoverinfo&quot;:&quot;none&quot;,&quot;lon&quot;:[-123.023814,-123.121233343796]},{&quot;mode&quot;:&quot;lines&quot;,&quot;line&quot;:{&quot;color&quot;:&quot;black&quot;},&quot;type&quot;:&quot;scattergeo&quot;,&quot;lat&quot;:[49.229929,49.2494762920413],&quot;hoverinfo&quot;:&quot;none&quot;,&quot;lon&quot;:[-123.15868,-123.164322725527]},{&quot;mode&quot;:&quot;lines&quot;,&quot;line&quot;:{&quot;color&quot;:&quot;black&quot;},&quot;type&quot;:&quot;scattergeo&quot;,&quot;lat&quot;:[49.31636,49.3612978273612],&quot;hoverinfo&quot;:&quot;none&quot;,&quot;lon&quot;:[-123.06934,-123.01847527487]},{&quot;mode&quot;:&quot;lines&quot;,&quot;line&quot;:{&quot;color&quot;:&quot;black&quot;},&quot;type&quot;:&quot;scattergeo&quot;,&quot;lat&quot;:[49.184657,49.117565817857],&quot;hoverinfo&quot;:&quot;none&quot;,&quot;lon&quot;:[-123.136555,-123.117052820606]},{&quot;mode&quot;:&quot;lines&quot;,&quot;line&quot;:{&quot;color&quot;:&quot;black&quot;},&quot;type&quot;:&quot;scattergeo&quot;,&quot;lat&quot;:[59.785092,49.0691909915843],&quot;hoverinfo&quot;:&quot;none&quot;,&quot;lon&quot;:[-134.944639,-122.502340746886]},{&quot;mode&quot;:&quot;lines&quot;,&quot;line&quot;:{&quot;color&quot;:&quot;black&quot;},&quot;type&quot;:&quot;scattergeo&quot;,&quot;lat&quot;:[49.116954,49.1410042094931],&quot;hoverinfo&quot;:&quot;none&quot;,&quot;lon&quot;:[-122.839876,-122.856837478998]},{&quot;mode&quot;:&quot;lines&quot;,&quot;line&quot;:{&quot;color&quot;:&quot;black&quot;},&quot;type&quot;:&quot;scattergeo&quot;,&quot;lat&quot;:[49.16638,49.0771170456374],&quot;hoverinfo&quot;:&quot;none&quot;,&quot;lon&quot;:[-121.95257,-121.991756609719]},{&quot;mode&quot;:&quot;lines&quot;,&quot;line&quot;:{&quot;color&quot;:&quot;black&quot;},&quot;type&quot;:&quot;scattergeo&quot;,&quot;lat&quot;:[null,56.2740795809477],&quot;hoverinfo&quot;:&quot;none&quot;,&quot;lon&quot;:[null,-120.801104114379]},{&quot;mode&quot;:&quot;lines&quot;,&quot;line&quot;:{&quot;color&quot;:&quot;black&quot;},&quot;type&quot;:&quot;scattergeo&quot;,&quot;lat&quot;:[49.261974,49.2483683725875],&quot;hoverinfo&quot;:&quot;none&quot;,&quot;lon&quot;:[-123.098669,-123.090270017544]},{&quot;mode&quot;:&quot;lines&quot;,&quot;line&quot;:{&quot;color&quot;:&quot;black&quot;},&quot;type&quot;:&quot;scattergeo&quot;,&quot;lat&quot;:[49.25403,49.2792476329574],&quot;hoverinfo&quot;:&quot;none&quot;,&quot;lon&quot;:[-123.029302,-123.089566417568]},{&quot;mode&quot;:&quot;lines&quot;,&quot;line&quot;:{&quot;color&quot;:&quot;black&quot;},&quot;type&quot;:&quot;scattergeo&quot;,&quot;lat&quot;:[49.10635,49.1410042094931],&quot;hoverinfo&quot;:&quot;none&quot;,&quot;lon&quot;:[-122.82509,-122.856837478998]},{&quot;mode&quot;:&quot;lines&quot;,&quot;line&quot;:{&quot;color&quot;:&quot;black&quot;},&quot;type&quot;:&quot;scattergeo&quot;,&quot;lat&quot;:[49.315453,49.2787517880738],&quot;hoverinfo&quot;:&quot;none&quot;,&quot;lon&quot;:[-124.280345,-124.233946599315]},{&quot;mode&quot;:&quot;lines&quot;,&quot;line&quot;:{&quot;color&quot;:&quot;black&quot;},&quot;type&quot;:&quot;scattergeo&quot;,&quot;lat&quot;:[59.785092,49.0691909915843],&quot;hoverinfo&quot;:&quot;none&quot;,&quot;lon&quot;:[-134.944639,-122.502340746886]},{&quot;mode&quot;:&quot;lines&quot;,&quot;line&quot;:{&quot;color&quot;:&quot;black&quot;},&quot;type&quot;:&quot;scattergeo&quot;,&quot;lat&quot;:[49.10635,49.0552243022838],&quot;hoverinfo&quot;:&quot;none&quot;,&quot;lon&quot;:[-122.82509,-122.828060602292]},{&quot;mode&quot;:&quot;lines&quot;,&quot;line&quot;:{&quot;color&quot;:&quot;black&quot;},&quot;type&quot;:&quot;scattergeo&quot;,&quot;lat&quot;:[49.213447,49.231084104224],&quot;hoverinfo&quot;:&quot;none&quot;,&quot;lon&quot;:[-122.937887,-122.954299843948]},{&quot;mode&quot;:&quot;lines&quot;,&quot;line&quot;:{&quot;color&quot;:&quot;black&quot;},&quot;type&quot;:&quot;scattergeo&quot;,&quot;lat&quot;:[49.202124,49.2211306947439],&quot;hoverinfo&quot;:&quot;none&quot;,&quot;lon&quot;:[-122.909873,-122.898883878006]},{&quot;mode&quot;:&quot;lines&quot;,&quot;line&quot;:{&quot;color&quot;:&quot;black&quot;},&quot;type&quot;:&quot;scattergeo&quot;,&quot;lat&quot;:[49.038359,49.1963107379676],&quot;hoverinfo&quot;:&quot;none&quot;,&quot;lon&quot;:[-122.799908,-122.824169757623]},{&quot;mode&quot;:&quot;lines&quot;,&quot;line&quot;:{&quot;color&quot;:&quot;black&quot;},&quot;type&quot;:&quot;scattergeo&quot;,&quot;lat&quot;:[49.20678,49.2211306947439],&quot;hoverinfo&quot;:&quot;none&quot;,&quot;lon&quot;:[-122.91092,-122.898883878006]},{&quot;mode&quot;:&quot;lines&quot;,&quot;line&quot;:{&quot;color&quot;:&quot;black&quot;},&quot;type&quot;:&quot;scattergeo&quot;,&quot;lat&quot;:[48.43294,48.438852542965],&quot;hoverinfo&quot;:&quot;none&quot;,&quot;lon&quot;:[-123.3693,-123.407442429181]},{&quot;mode&quot;:&quot;lines&quot;,&quot;line&quot;:{&quot;color&quot;:&quot;black&quot;},&quot;type&quot;:&quot;scattergeo&quot;,&quot;lat&quot;:[48.43294,48.4765793361461],&quot;hoverinfo&quot;:&quot;none&quot;,&quot;lon&quot;:[-123.3693,-123.314845757847]},{&quot;mode&quot;:&quot;lines&quot;,&quot;line&quot;:{&quot;color&quot;:&quot;black&quot;},&quot;type&quot;:&quot;scattergeo&quot;,&quot;lat&quot;:[53.335937,49.0951064005428],&quot;hoverinfo&quot;:&quot;none&quot;,&quot;lon&quot;:[-111.183402,-123.03175653102]},{&quot;mode&quot;:&quot;lines&quot;,&quot;line&quot;:{&quot;color&quot;:&quot;black&quot;},&quot;type&quot;:&quot;scattergeo&quot;,&quot;lat&quot;:[49.162062,49.1410042094931],&quot;hoverinfo&quot;:&quot;none&quot;,&quot;lon&quot;:[-122.890423,-122.856837478998]},{&quot;mode&quot;:&quot;lines&quot;,&quot;line&quot;:{&quot;color&quot;:&quot;black&quot;},&quot;type&quot;:&quot;scattergeo&quot;,&quot;lat&quot;:[49.248745,49.2553846831502],&quot;hoverinfo&quot;:&quot;none&quot;,&quot;lon&quot;:[-123.099075,-123.066013649185]},{&quot;mode&quot;:&quot;lines&quot;,&quot;line&quot;:{&quot;color&quot;:&quot;black&quot;},&quot;type&quot;:&quot;scattergeo&quot;,&quot;lat&quot;:[49.187084,49.2168198317455],&quot;hoverinfo&quot;:&quot;none&quot;,&quot;lon&quot;:[-123.985525,-124.006702443619]},{&quot;mode&quot;:&quot;lines&quot;,&quot;line&quot;:{&quot;color&quot;:&quot;black&quot;},&quot;type&quot;:&quot;scattergeo&quot;,&quot;lat&quot;:[49.350817,49.2168198317455],&quot;hoverinfo&quot;:&quot;none&quot;,&quot;lon&quot;:[-124.404516,-124.006702443619]},{&quot;mode&quot;:&quot;lines&quot;,&quot;line&quot;:{&quot;color&quot;:&quot;black&quot;},&quot;type&quot;:&quot;scattergeo&quot;,&quot;lat&quot;:[49.959714,50.0290593358728],&quot;hoverinfo&quot;:&quot;none&quot;,&quot;lon&quot;:[-125.234061,-125.312111889001]},{&quot;mode&quot;:&quot;lines&quot;,&quot;line&quot;:{&quot;color&quot;:&quot;black&quot;},&quot;type&quot;:&quot;scattergeo&quot;,&quot;lat&quot;:[49.14399,49.1187964384755],&quot;hoverinfo&quot;:&quot;none&quot;,&quot;lon&quot;:[-122.9068,-122.903580634172]},{&quot;mode&quot;:&quot;lines&quot;,&quot;line&quot;:{&quot;color&quot;:&quot;black&quot;},&quot;type&quot;:&quot;scattergeo&quot;,&quot;lat&quot;:[53.910279,53.9120950136368],&quot;hoverinfo&quot;:&quot;none&quot;,&quot;lon&quot;:[-122.782228,-122.870537473543]},{&quot;mode&quot;:&quot;lines&quot;,&quot;line&quot;:{&quot;color&quot;:&quot;black&quot;},&quot;type&quot;:&quot;scattergeo&quot;,&quot;lat&quot;:[49.17003,49.117565817857],&quot;hoverinfo&quot;:&quot;none&quot;,&quot;lon&quot;:[-123.13683,-123.117052820606]},{&quot;mode&quot;:&quot;lines&quot;,&quot;line&quot;:{&quot;color&quot;:&quot;black&quot;},&quot;type&quot;:&quot;scattergeo&quot;,&quot;lat&quot;:[49.17003,49.1626286600844],&quot;hoverinfo&quot;:&quot;none&quot;,&quot;lon&quot;:[-123.13683,-123.172127771816]},{&quot;mode&quot;:&quot;lines&quot;,&quot;line&quot;:{&quot;color&quot;:&quot;black&quot;},&quot;type&quot;:&quot;scattergeo&quot;,&quot;lat&quot;:[48.43294,48.438852542965],&quot;hoverinfo&quot;:&quot;none&quot;,&quot;lon&quot;:[-123.3693,-123.407442429181]},{&quot;mode&quot;:&quot;lines&quot;,&quot;line&quot;:{&quot;color&quot;:&quot;black&quot;},&quot;type&quot;:&quot;scattergeo&quot;,&quot;lat&quot;:[48.429315,48.477480017302],&quot;hoverinfo&quot;:&quot;none&quot;,&quot;lon&quot;:[-123.361795,-123.36608053282]},{&quot;mode&quot;:&quot;lines&quot;,&quot;line&quot;:{&quot;color&quot;:&quot;black&quot;},&quot;type&quot;:&quot;scattergeo&quot;,&quot;lat&quot;:[null,49.892071734828],&quot;hoverinfo&quot;:&quot;none&quot;,&quot;lon&quot;:[null,-119.484658444334]},{&quot;mode&quot;:&quot;lines&quot;,&quot;line&quot;:{&quot;color&quot;:&quot;black&quot;},&quot;type&quot;:&quot;scattergeo&quot;,&quot;lat&quot;:[null,50.2582379440622],&quot;hoverinfo&quot;:&quot;none&quot;,&quot;lon&quot;:[null,-119.280102978158]},{&quot;mode&quot;:&quot;lines&quot;,&quot;line&quot;:{&quot;color&quot;:&quot;black&quot;},&quot;type&quot;:&quot;scattergeo&quot;,&quot;lat&quot;:[49.31636,49.3612978273612],&quot;hoverinfo&quot;:&quot;none&quot;,&quot;lon&quot;:[-123.06934,-123.01847527487]},{&quot;mode&quot;:&quot;lines&quot;,&quot;line&quot;:{&quot;color&quot;:&quot;black&quot;},&quot;type&quot;:&quot;scattergeo&quot;,&quot;lat&quot;:[49.309314,49.3612978273612],&quot;hoverinfo&quot;:&quot;none&quot;,&quot;lon&quot;:[-123.040457,-123.01847527487]},{&quot;mode&quot;:&quot;lines&quot;,&quot;line&quot;:{&quot;color&quot;:&quot;black&quot;},&quot;type&quot;:&quot;scattergeo&quot;,&quot;lat&quot;:[49.249057,49.2364668900495],&quot;hoverinfo&quot;:&quot;none&quot;,&quot;lon&quot;:[-122.829877,-122.852141086465]},{&quot;mode&quot;:&quot;lines&quot;,&quot;line&quot;:{&quot;color&quot;:&quot;black&quot;},&quot;type&quot;:&quot;scattergeo&quot;,&quot;lat&quot;:[49.26636,49.2766738428341],&quot;hoverinfo&quot;:&quot;none&quot;,&quot;lon&quot;:[-122.95263,-123.007422486654]},{&quot;mode&quot;:&quot;lines&quot;,&quot;line&quot;:{&quot;color&quot;:&quot;black&quot;},&quot;type&quot;:&quot;scattergeo&quot;,&quot;lat&quot;:[49.168336,49.322209821279],&quot;hoverinfo&quot;:&quot;none&quot;,&quot;lon&quot;:[-122.907147,-123.113622357888]},{&quot;mode&quot;:&quot;lines&quot;,&quot;line&quot;:{&quot;color&quot;:&quot;black&quot;},&quot;type&quot;:&quot;scattergeo&quot;,&quot;lat&quot;:[49.152089,49.190394728435],&quot;hoverinfo&quot;:&quot;none&quot;,&quot;lon&quot;:[-122.841664,-122.848462790325]},{&quot;mode&quot;:&quot;lines&quot;,&quot;line&quot;:{&quot;color&quot;:&quot;black&quot;},&quot;type&quot;:&quot;scattergeo&quot;,&quot;lat&quot;:[49.800693,49.1073342505904],&quot;hoverinfo&quot;:&quot;none&quot;,&quot;lon&quot;:[-112.145186,-122.855372149511]},{&quot;mode&quot;:&quot;lines&quot;,&quot;line&quot;:{&quot;color&quot;:&quot;black&quot;},&quot;type&quot;:&quot;scattergeo&quot;,&quot;lat&quot;:[49.26636,49.2598783495975],&quot;hoverinfo&quot;:&quot;none&quot;,&quot;lon&quot;:[-122.95263,-122.859911962369]},{&quot;mode&quot;:&quot;lines&quot;,&quot;line&quot;:{&quot;color&quot;:&quot;black&quot;},&quot;type&quot;:&quot;scattergeo&quot;,&quot;lat&quot;:[49.88307,49.9494031638513],&quot;hoverinfo&quot;:&quot;none&quot;,&quot;lon&quot;:[-119.48568,-119.433353966091]},{&quot;mode&quot;:&quot;lines&quot;,&quot;line&quot;:{&quot;color&quot;:&quot;black&quot;},&quot;type&quot;:&quot;scattergeo&quot;,&quot;lat&quot;:[49.213447,49.2287120398275],&quot;hoverinfo&quot;:&quot;none&quot;,&quot;lon&quot;:[-122.937887,-122.996471986297]},{&quot;mode&quot;:&quot;lines&quot;,&quot;line&quot;:{&quot;color&quot;:&quot;black&quot;},&quot;type&quot;:&quot;scattergeo&quot;,&quot;lat&quot;:[49.01636,49.0385145601345],&quot;hoverinfo&quot;:&quot;none&quot;,&quot;lon&quot;:[-122.8026,-122.83110874713]},{&quot;mode&quot;:&quot;lines&quot;,&quot;line&quot;:{&quot;color&quot;:&quot;black&quot;},&quot;type&quot;:&quot;scattergeo&quot;,&quot;lat&quot;:[49.24966,49.2337945141212],&quot;hoverinfo&quot;:&quot;none&quot;,&quot;lon&quot;:[-123.11934,-123.145782384338]},{&quot;mode&quot;:&quot;lines&quot;,&quot;line&quot;:{&quot;color&quot;:&quot;black&quot;},&quot;type&quot;:&quot;scattergeo&quot;,&quot;lat&quot;:[49.10635,49.1176110168489],&quot;hoverinfo&quot;:&quot;none&quot;,&quot;lon&quot;:[-122.82509,-122.754853365374]},{&quot;mode&quot;:&quot;lines&quot;,&quot;line&quot;:{&quot;color&quot;:&quot;black&quot;},&quot;type&quot;:&quot;scattergeo&quot;,&quot;lat&quot;:[49.150454,49.1187964384755],&quot;hoverinfo&quot;:&quot;none&quot;,&quot;lon&quot;:[-122.89155,-122.903580634172]},{&quot;mode&quot;:&quot;lines&quot;,&quot;line&quot;:{&quot;color&quot;:&quot;black&quot;},&quot;type&quot;:&quot;scattergeo&quot;,&quot;lat&quot;:[49.10635,49.1831831533453],&quot;hoverinfo&quot;:&quot;none&quot;,&quot;lon&quot;:[-122.82509,-122.876242276909]},{&quot;mode&quot;:&quot;lines&quot;,&quot;line&quot;:{&quot;color&quot;:&quot;black&quot;},&quot;type&quot;:&quot;scattergeo&quot;,&quot;lat&quot;:[49.17003,49.1863745873237],&quot;hoverinfo&quot;:&quot;none&quot;,&quot;lon&quot;:[-123.13683,-123.111677711376]},{&quot;mode&quot;:&quot;lines&quot;,&quot;line&quot;:{&quot;color&quot;:&quot;black&quot;},&quot;type&quot;:&quot;scattergeo&quot;,&quot;lat&quot;:[49.262639,49.2560324587443],&quot;hoverinfo&quot;:&quot;none&quot;,&quot;lon&quot;:[-123.096001,-123.132777904483]},{&quot;mode&quot;:&quot;lines&quot;,&quot;line&quot;:{&quot;color&quot;:&quot;black&quot;},&quot;type&quot;:&quot;scattergeo&quot;,&quot;lat&quot;:[53.9166,53.9120950136368],&quot;hoverinfo&quot;:&quot;none&quot;,&quot;lon&quot;:[-122.75301,-122.870537473543]},{&quot;mode&quot;:&quot;lines&quot;,&quot;line&quot;:{&quot;color&quot;:&quot;black&quot;},&quot;type&quot;:&quot;scattergeo&quot;,&quot;lat&quot;:[49.351186,49.3397464394847],&quot;hoverinfo&quot;:&quot;none&quot;,&quot;lon&quot;:[-123.266198,-123.192793552348]},{&quot;mode&quot;:&quot;lines&quot;,&quot;line&quot;:{&quot;color&quot;:&quot;black&quot;},&quot;type&quot;:&quot;scattergeo&quot;,&quot;lat&quot;:[49.280985,49.2774564884192],&quot;hoverinfo&quot;:&quot;none&quot;,&quot;lon&quot;:[-122.997475,-122.975964564566]},{&quot;mode&quot;:&quot;lines&quot;,&quot;line&quot;:{&quot;color&quot;:&quot;black&quot;},&quot;type&quot;:&quot;scattergeo&quot;,&quot;lat&quot;:[49.257164,49.2329747531744],&quot;hoverinfo&quot;:&quot;none&quot;,&quot;lon&quot;:[-123.089441,-123.092112415841]},{&quot;mode&quot;:&quot;lines&quot;,&quot;line&quot;:{&quot;color&quot;:&quot;black&quot;},&quot;type&quot;:&quot;scattergeo&quot;,&quot;lat&quot;:[48.448202,48.440018157679],&quot;hoverinfo&quot;:&quot;none&quot;,&quot;lon&quot;:[-123.337429,-123.357355323014]},{&quot;mode&quot;:&quot;lines&quot;,&quot;line&quot;:{&quot;color&quot;:&quot;black&quot;},&quot;type&quot;:&quot;scattergeo&quot;,&quot;lat&quot;:[49.17003,49.1626286600844],&quot;hoverinfo&quot;:&quot;none&quot;,&quot;lon&quot;:[-123.13683,-123.172127771816]},{&quot;mode&quot;:&quot;lines&quot;,&quot;line&quot;:{&quot;color&quot;:&quot;black&quot;},&quot;type&quot;:&quot;scattergeo&quot;,&quot;lat&quot;:[49.155611,49.159590837299],&quot;hoverinfo&quot;:&quot;none&quot;,&quot;lon&quot;:[-123.169836,-123.11946654448]},{&quot;mode&quot;:&quot;lines&quot;,&quot;line&quot;:{&quot;color&quot;:&quot;black&quot;},&quot;type&quot;:&quot;scattergeo&quot;,&quot;lat&quot;:[48.429315,48.4960159700356],&quot;hoverinfo&quot;:&quot;none&quot;,&quot;lon&quot;:[-123.361795,-123.400130211172]},{&quot;mode&quot;:&quot;lines&quot;,&quot;line&quot;:{&quot;color&quot;:&quot;black&quot;},&quot;type&quot;:&quot;scattergeo&quot;,&quot;lat&quot;:[49.262639,49.2653172633961],&quot;hoverinfo&quot;:&quot;none&quot;,&quot;lon&quot;:[-123.096001,-123.165649863758]},{&quot;mode&quot;:&quot;lines&quot;,&quot;line&quot;:{&quot;color&quot;:&quot;black&quot;},&quot;type&quot;:&quot;scattergeo&quot;,&quot;lat&quot;:[49.26636,49.2287120398275],&quot;hoverinfo&quot;:&quot;none&quot;,&quot;lon&quot;:[-122.95263,-122.996471986297]},{&quot;mode&quot;:&quot;lines&quot;,&quot;line&quot;:{&quot;color&quot;:&quot;black&quot;},&quot;type&quot;:&quot;scattergeo&quot;,&quot;lat&quot;:[49.213447,49.231084104224],&quot;hoverinfo&quot;:&quot;none&quot;,&quot;lon&quot;:[-122.937887,-122.954299843948]},{&quot;mode&quot;:&quot;lines&quot;,&quot;line&quot;:{&quot;color&quot;:&quot;black&quot;},&quot;type&quot;:&quot;scattergeo&quot;,&quot;lat&quot;:[49.10107,49.1277794033541],&quot;hoverinfo&quot;:&quot;none&quot;,&quot;lon&quot;:[-122.65883,-122.621185397052]},{&quot;mode&quot;:&quot;lines&quot;,&quot;line&quot;:{&quot;color&quot;:&quot;black&quot;},&quot;type&quot;:&quot;scattergeo&quot;,&quot;lat&quot;:[48.462936,48.438852542965],&quot;hoverinfo&quot;:&quot;none&quot;,&quot;lon&quot;:[-123.386205,-123.407442429181]},{&quot;mode&quot;:&quot;lines&quot;,&quot;line&quot;:{&quot;color&quot;:&quot;black&quot;},&quot;type&quot;:&quot;scattergeo&quot;,&quot;lat&quot;:[49.262639,49.2474770879481],&quot;hoverinfo&quot;:&quot;none&quot;,&quot;lon&quot;:[-123.096001,-123.121233343796]},{&quot;mode&quot;:&quot;lines&quot;,&quot;line&quot;:{&quot;color&quot;:&quot;black&quot;},&quot;type&quot;:&quot;scattergeo&quot;,&quot;lat&quot;:[49.244658,49.1176110168489],&quot;hoverinfo&quot;:&quot;none&quot;,&quot;lon&quot;:[-122.810124,-122.754853365374]},{&quot;mode&quot;:&quot;lines&quot;,&quot;line&quot;:{&quot;color&quot;:&quot;black&quot;},&quot;type&quot;:&quot;scattergeo&quot;,&quot;lat&quot;:[49.10635,49.190394728435],&quot;hoverinfo&quot;:&quot;none&quot;,&quot;lon&quot;:[-122.82509,-122.848462790325]},{&quot;mode&quot;:&quot;lines&quot;,&quot;line&quot;:{&quot;color&quot;:&quot;black&quot;},&quot;type&quot;:&quot;scattergeo&quot;,&quot;lat&quot;:[53.9166,53.6493565080645],&quot;hoverinfo&quot;:&quot;none&quot;,&quot;lon&quot;:[-122.75301,-122.957816392392]},{&quot;mode&quot;:&quot;lines&quot;,&quot;line&quot;:{&quot;color&quot;:&quot;black&quot;},&quot;type&quot;:&quot;scattergeo&quot;,&quot;lat&quot;:[48.696901,48.4960159700356],&quot;hoverinfo&quot;:&quot;none&quot;,&quot;lon&quot;:[-123.457804,-123.400130211172]},{&quot;mode&quot;:&quot;lines&quot;,&quot;line&quot;:{&quot;color&quot;:&quot;black&quot;},&quot;type&quot;:&quot;scattergeo&quot;,&quot;lat&quot;:[null,56.2740795809477],&quot;hoverinfo&quot;:&quot;none&quot;,&quot;lon&quot;:[null,-120.801104114379]},{&quot;mode&quot;:&quot;lines&quot;,&quot;line&quot;:{&quot;color&quot;:&quot;black&quot;},&quot;type&quot;:&quot;scattergeo&quot;,&quot;lat&quot;:[48.43294,48.4827382013408],&quot;hoverinfo&quot;:&quot;none&quot;,&quot;lon&quot;:[-123.3693,-123.506344576293]},{&quot;mode&quot;:&quot;lines&quot;,&quot;line&quot;:{&quot;color&quot;:&quot;black&quot;},&quot;type&quot;:&quot;scattergeo&quot;,&quot;lat&quot;:[null,49.2211306947439],&quot;hoverinfo&quot;:&quot;none&quot;,&quot;lon&quot;:[null,-122.898883878006]},{&quot;mode&quot;:&quot;lines&quot;,&quot;line&quot;:{&quot;color&quot;:&quot;black&quot;},&quot;type&quot;:&quot;scattergeo&quot;,&quot;lat&quot;:[49.24966,49.2553846831502],&quot;hoverinfo&quot;:&quot;none&quot;,&quot;lon&quot;:[-123.11934,-123.066013649185]},{&quot;mode&quot;:&quot;lines&quot;,&quot;line&quot;:{&quot;color&quot;:&quot;black&quot;},&quot;type&quot;:&quot;scattergeo&quot;,&quot;lat&quot;:[null,49.2391998662373],&quot;hoverinfo&quot;:&quot;none&quot;,&quot;lon&quot;:[null,-124.023245438063]},{&quot;mode&quot;:&quot;lines&quot;,&quot;line&quot;:{&quot;color&quot;:&quot;black&quot;},&quot;type&quot;:&quot;scattergeo&quot;,&quot;lat&quot;:[50.66648,50.7712259558725],&quot;hoverinfo&quot;:&quot;none&quot;,&quot;lon&quot;:[-120.3192,-120.375253448043]},{&quot;mode&quot;:&quot;lines&quot;,&quot;line&quot;:{&quot;color&quot;:&quot;black&quot;},&quot;type&quot;:&quot;scattergeo&quot;,&quot;lat&quot;:[49.264797,49.2508143510126],&quot;hoverinfo&quot;:&quot;none&quot;,&quot;lon&quot;:[-123.183769,-123.215501310984]},{&quot;mode&quot;:&quot;lines&quot;,&quot;line&quot;:{&quot;color&quot;:&quot;black&quot;},&quot;type&quot;:&quot;scattergeo&quot;,&quot;lat&quot;:[49.31636,49.3612978273612],&quot;hoverinfo&quot;:&quot;none&quot;,&quot;lon&quot;:[-123.06934,-123.01847527487]},{&quot;mode&quot;:&quot;lines&quot;,&quot;line&quot;:{&quot;color&quot;:&quot;black&quot;},&quot;type&quot;:&quot;scattergeo&quot;,&quot;lat&quot;:[49.144061,49.117565817857],&quot;hoverinfo&quot;:&quot;none&quot;,&quot;lon&quot;:[-123.19359,-123.117052820606]},{&quot;mode&quot;:&quot;lines&quot;,&quot;line&quot;:{&quot;color&quot;:&quot;black&quot;},&quot;type&quot;:&quot;scattergeo&quot;,&quot;lat&quot;:[49.10107,49.1277794033541],&quot;hoverinfo&quot;:&quot;none&quot;,&quot;lon&quot;:[-122.65883,-122.621185397052]},{&quot;mode&quot;:&quot;lines&quot;,&quot;line&quot;:{&quot;color&quot;:&quot;black&quot;},&quot;type&quot;:&quot;scattergeo&quot;,&quot;lat&quot;:[48.54964,48.5816953672664],&quot;hoverinfo&quot;:&quot;none&quot;,&quot;lon&quot;:[-123.36931,-123.422318363172]},{&quot;mode&quot;:&quot;lines&quot;,&quot;line&quot;:{&quot;color&quot;:&quot;black&quot;},&quot;type&quot;:&quot;scattergeo&quot;,&quot;lat&quot;:[50.121427,0.0],&quot;hoverinfo&quot;:&quot;none&quot;,&quot;lon&quot;:[-122.93677,0.0]},{&quot;mode&quot;:&quot;lines&quot;,&quot;line&quot;:{&quot;color&quot;:&quot;black&quot;},&quot;type&quot;:&quot;scattergeo&quot;,&quot;lat&quot;:[49.212675,49.1831831533453],&quot;hoverinfo&quot;:&quot;none&quot;,&quot;lon&quot;:[-122.815105,-122.876242276909]},{&quot;mode&quot;:&quot;lines&quot;,&quot;line&quot;:{&quot;color&quot;:&quot;black&quot;},&quot;type&quot;:&quot;scattergeo&quot;,&quot;lat&quot;:[49.86563,50.0457888438141],&quot;hoverinfo&quot;:&quot;none&quot;,&quot;lon&quot;:[-119.145556,-119.291583751319]},{&quot;mode&quot;:&quot;lines&quot;,&quot;line&quot;:{&quot;color&quot;:&quot;black&quot;},&quot;type&quot;:&quot;scattergeo&quot;,&quot;lat&quot;:[49.16638,49.0771170456374],&quot;hoverinfo&quot;:&quot;none&quot;,&quot;lon&quot;:[-121.95257,-121.991756609719]},{&quot;mode&quot;:&quot;lines&quot;,&quot;line&quot;:{&quot;color&quot;:&quot;black&quot;},&quot;type&quot;:&quot;scattergeo&quot;,&quot;lat&quot;:[49.309314,49.3612978273612],&quot;hoverinfo&quot;:&quot;none&quot;,&quot;lon&quot;:[-123.040457,-123.01847527487]},{&quot;mode&quot;:&quot;lines&quot;,&quot;line&quot;:{&quot;color&quot;:&quot;black&quot;},&quot;type&quot;:&quot;scattergeo&quot;,&quot;lat&quot;:[null,49.0311471806227],&quot;hoverinfo&quot;:&quot;none&quot;,&quot;lon&quot;:[null,-123.089212490261]},{&quot;mode&quot;:&quot;lines&quot;,&quot;line&quot;:{&quot;color&quot;:&quot;black&quot;},&quot;type&quot;:&quot;scattergeo&quot;,&quot;lat&quot;:[49.321018,49.3224863139215],&quot;hoverinfo&quot;:&quot;none&quot;,&quot;lon&quot;:[-123.072348,-123.084865113587]},{&quot;mode&quot;:&quot;lines&quot;,&quot;line&quot;:{&quot;color&quot;:&quot;black&quot;},&quot;type&quot;:&quot;scattergeo&quot;,&quot;lat&quot;:[49.10107,49.166916594348],&quot;hoverinfo&quot;:&quot;none&quot;,&quot;lon&quot;:[-122.65883,-122.579859195355]},{&quot;mode&quot;:&quot;lines&quot;,&quot;line&quot;:{&quot;color&quot;:&quot;black&quot;},&quot;type&quot;:&quot;scattergeo&quot;,&quot;lat&quot;:[49.220453,49.2197678565689],&quot;hoverinfo&quot;:&quot;none&quot;,&quot;lon&quot;:[-122.512498,-122.615084831127]},{&quot;mode&quot;:&quot;lines&quot;,&quot;line&quot;:{&quot;color&quot;:&quot;black&quot;},&quot;type&quot;:&quot;scattergeo&quot;,&quot;lat&quot;:[49.26636,49.2766738428341],&quot;hoverinfo&quot;:&quot;none&quot;,&quot;lon&quot;:[-122.95263,-123.007422486654]},{&quot;mode&quot;:&quot;lines&quot;,&quot;line&quot;:{&quot;color&quot;:&quot;black&quot;},&quot;type&quot;:&quot;scattergeo&quot;,&quot;lat&quot;:[49.16638,49.2168198317455],&quot;hoverinfo&quot;:&quot;none&quot;,&quot;lon&quot;:[-123.94003,-124.006702443619]},{&quot;mode&quot;:&quot;lines&quot;,&quot;line&quot;:{&quot;color&quot;:&quot;black&quot;},&quot;type&quot;:&quot;scattergeo&quot;,&quot;lat&quot;:[49.038359,49.1963107379676],&quot;hoverinfo&quot;:&quot;none&quot;,&quot;lon&quot;:[-122.799908,-122.824169757623]},{&quot;mode&quot;:&quot;lines&quot;,&quot;line&quot;:{&quot;color&quot;:&quot;black&quot;},&quot;type&quot;:&quot;scattergeo&quot;,&quot;lat&quot;:[56.895941,49.853974371311],&quot;hoverinfo&quot;:&quot;none&quot;,&quot;lon&quot;:[-121.250291,-119.62915661075]},{&quot;mode&quot;:&quot;lines&quot;,&quot;line&quot;:{&quot;color&quot;:&quot;black&quot;},&quot;type&quot;:&quot;scattergeo&quot;,&quot;lat&quot;:[49.865752,50.0457888438141],&quot;hoverinfo&quot;:&quot;none&quot;,&quot;lon&quot;:[-119.146072,-119.291583751319]},{&quot;mode&quot;:&quot;lines&quot;,&quot;line&quot;:{&quot;color&quot;:&quot;black&quot;},&quot;type&quot;:&quot;scattergeo&quot;,&quot;lat&quot;:[49.261781,49.2610047203502],&quot;hoverinfo&quot;:&quot;none&quot;,&quot;lon&quot;:[-123.068058,-123.145479801502]},{&quot;mode&quot;:&quot;lines&quot;,&quot;line&quot;:{&quot;color&quot;:&quot;black&quot;},&quot;type&quot;:&quot;scattergeo&quot;,&quot;lat&quot;:[49.317636,49.3224863139215],&quot;hoverinfo&quot;:&quot;none&quot;,&quot;lon&quot;:[-123.089597,-123.084865113587]},{&quot;mode&quot;:&quot;lines&quot;,&quot;line&quot;:{&quot;color&quot;:&quot;black&quot;},&quot;type&quot;:&quot;scattergeo&quot;,&quot;lat&quot;:[49.198845,49.1963107379676],&quot;hoverinfo&quot;:&quot;none&quot;,&quot;lon&quot;:[-122.786988,-122.824169757623]},{&quot;mode&quot;:&quot;lines&quot;,&quot;line&quot;:{&quot;color&quot;:&quot;black&quot;},&quot;type&quot;:&quot;scattergeo&quot;,&quot;lat&quot;:[49.31636,49.322209821279],&quot;hoverinfo&quot;:&quot;none&quot;,&quot;lon&quot;:[-123.06934,-123.113622357888]},{&quot;mode&quot;:&quot;lines&quot;,&quot;line&quot;:{&quot;color&quot;:&quot;black&quot;},&quot;type&quot;:&quot;scattergeo&quot;,&quot;lat&quot;:[53.9166,53.6493565080645],&quot;hoverinfo&quot;:&quot;none&quot;,&quot;lon&quot;:[-122.75301,-122.957816392392]},{&quot;mode&quot;:&quot;lines&quot;,&quot;line&quot;:{&quot;color&quot;:&quot;black&quot;},&quot;type&quot;:&quot;scattergeo&quot;,&quot;lat&quot;:[49.234939,49.2150978094316],&quot;hoverinfo&quot;:&quot;none&quot;,&quot;lon&quot;:[-123.197167,-123.097310727838]},{&quot;mode&quot;:&quot;lines&quot;,&quot;line&quot;:{&quot;color&quot;:&quot;black&quot;},&quot;type&quot;:&quot;scattergeo&quot;,&quot;lat&quot;:[49.24966,49.2163875370486],&quot;hoverinfo&quot;:&quot;none&quot;,&quot;lon&quot;:[-123.11934,-123.040409606919]},{&quot;mode&quot;:&quot;lines&quot;,&quot;line&quot;:{&quot;color&quot;:&quot;black&quot;},&quot;type&quot;:&quot;scattergeo&quot;,&quot;lat&quot;:[49.137854,49.1626286600844],&quot;hoverinfo&quot;:&quot;none&quot;,&quot;lon&quot;:[-123.147848,-123.172127771816]},{&quot;mode&quot;:&quot;lines&quot;,&quot;line&quot;:{&quot;color&quot;:&quot;black&quot;},&quot;type&quot;:&quot;scattergeo&quot;,&quot;lat&quot;:[49.10635,49.1831831533453],&quot;hoverinfo&quot;:&quot;none&quot;,&quot;lon&quot;:[-122.82509,-122.876242276909]},{&quot;mode&quot;:&quot;lines&quot;,&quot;line&quot;:{&quot;color&quot;:&quot;black&quot;},&quot;type&quot;:&quot;scattergeo&quot;,&quot;lat&quot;:[49.178077,49.1410042094931],&quot;hoverinfo&quot;:&quot;none&quot;,&quot;lon&quot;:[-122.888808,-122.856837478998]},{&quot;mode&quot;:&quot;lines&quot;,&quot;line&quot;:{&quot;color&quot;:&quot;black&quot;},&quot;type&quot;:&quot;scattergeo&quot;,&quot;lat&quot;:[49.28297,49.3193274323444],&quot;hoverinfo&quot;:&quot;none&quot;,&quot;lon&quot;:[-122.75262,-122.739297891156]},{&quot;mode&quot;:&quot;lines&quot;,&quot;line&quot;:{&quot;color&quot;:&quot;black&quot;},&quot;type&quot;:&quot;scattergeo&quot;,&quot;lat&quot;:[49.162062,49.1410042094931],&quot;hoverinfo&quot;:&quot;none&quot;,&quot;lon&quot;:[-122.890423,-122.856837478998]},{&quot;mode&quot;:&quot;lines&quot;,&quot;line&quot;:{&quot;color&quot;:&quot;black&quot;},&quot;type&quot;:&quot;scattergeo&quot;,&quot;lat&quot;:[49.10635,49.1176110168489],&quot;hoverinfo&quot;:&quot;none&quot;,&quot;lon&quot;:[-122.82509,-122.754853365374]},{&quot;mode&quot;:&quot;lines&quot;,&quot;line&quot;:{&quot;color&quot;:&quot;black&quot;},&quot;type&quot;:&quot;scattergeo&quot;,&quot;lat&quot;:[49.05798,49.0391641015383],&quot;hoverinfo&quot;:&quot;none&quot;,&quot;lon&quot;:[-122.25257,-122.347843226749]},{&quot;mode&quot;:&quot;lines&quot;,&quot;line&quot;:{&quot;color&quot;:&quot;black&quot;},&quot;type&quot;:&quot;scattergeo&quot;,&quot;lat&quot;:[49.281881,49.2746756191813],&quot;hoverinfo&quot;:&quot;none&quot;,&quot;lon&quot;:[-123.124969,-123.125856387968]},{&quot;mode&quot;:&quot;lines&quot;,&quot;line&quot;:{&quot;color&quot;:&quot;black&quot;},&quot;type&quot;:&quot;scattergeo&quot;,&quot;lat&quot;:[49.248173,49.2508143510126],&quot;hoverinfo&quot;:&quot;none&quot;,&quot;lon&quot;:[-123.098101,-123.215501310984]},{&quot;mode&quot;:&quot;lines&quot;,&quot;line&quot;:{&quot;color&quot;:&quot;black&quot;},&quot;type&quot;:&quot;scattergeo&quot;,&quot;lat&quot;:[49.25403,49.2483683725875],&quot;hoverinfo&quot;:&quot;none&quot;,&quot;lon&quot;:[-123.029302,-123.090270017544]},{&quot;mode&quot;:&quot;lines&quot;,&quot;line&quot;:{&quot;color&quot;:&quot;black&quot;},&quot;type&quot;:&quot;scattergeo&quot;,&quot;lat&quot;:[49.202124,49.2211306947439],&quot;hoverinfo&quot;:&quot;none&quot;,&quot;lon&quot;:[-122.909873,-122.898883878006]},{&quot;mode&quot;:&quot;lines&quot;,&quot;line&quot;:{&quot;color&quot;:&quot;black&quot;},&quot;type&quot;:&quot;scattergeo&quot;,&quot;lat&quot;:[49.26636,49.2598783495975],&quot;hoverinfo&quot;:&quot;none&quot;,&quot;lon&quot;:[-122.95263,-122.859911962369]},{&quot;mode&quot;:&quot;lines&quot;,&quot;line&quot;:{&quot;color&quot;:&quot;black&quot;},&quot;type&quot;:&quot;scattergeo&quot;,&quot;lat&quot;:[49.245685,49.2724993577155],&quot;hoverinfo&quot;:&quot;none&quot;,&quot;lon&quot;:[-122.997971,-122.756523735201]},{&quot;mode&quot;:&quot;lines&quot;,&quot;line&quot;:{&quot;color&quot;:&quot;black&quot;},&quot;type&quot;:&quot;scattergeo&quot;,&quot;lat&quot;:[59.785092,49.0691909915843],&quot;hoverinfo&quot;:&quot;none&quot;,&quot;lon&quot;:[-134.944639,-122.502340746886]},{&quot;mode&quot;:&quot;lines&quot;,&quot;line&quot;:{&quot;color&quot;:&quot;black&quot;},&quot;type&quot;:&quot;scattergeo&quot;,&quot;lat&quot;:[49.88307,49.9494031638513],&quot;hoverinfo&quot;:&quot;none&quot;,&quot;lon&quot;:[-119.48568,-119.433353966091]},{&quot;mode&quot;:&quot;lines&quot;,&quot;line&quot;:{&quot;color&quot;:&quot;black&quot;},&quot;type&quot;:&quot;scattergeo&quot;,&quot;lat&quot;:[49.10635,49.1176110168489],&quot;hoverinfo&quot;:&quot;none&quot;,&quot;lon&quot;:[-122.82509,-122.754853365374]},{&quot;mode&quot;:&quot;lines&quot;,&quot;line&quot;:{&quot;color&quot;:&quot;black&quot;},&quot;type&quot;:&quot;scattergeo&quot;,&quot;lat&quot;:[49.226132,49.2163875370486],&quot;hoverinfo&quot;:&quot;none&quot;,&quot;lon&quot;:[-123.11812,-123.040409606919]},{&quot;mode&quot;:&quot;lines&quot;,&quot;line&quot;:{&quot;color&quot;:&quot;black&quot;},&quot;type&quot;:&quot;scattergeo&quot;,&quot;lat&quot;:[49.28298,49.2834575694212],&quot;hoverinfo&quot;:&quot;none&quot;,&quot;lon&quot;:[-123.049331,-123.129406113292]},{&quot;mode&quot;:&quot;lines&quot;,&quot;line&quot;:{&quot;color&quot;:&quot;black&quot;},&quot;type&quot;:&quot;scattergeo&quot;,&quot;lat&quot;:[49.257164,49.2483683725875],&quot;hoverinfo&quot;:&quot;none&quot;,&quot;lon&quot;:[-123.089441,-123.090270017544]},{&quot;mode&quot;:&quot;lines&quot;,&quot;line&quot;:{&quot;color&quot;:&quot;black&quot;},&quot;type&quot;:&quot;scattergeo&quot;,&quot;lat&quot;:[49.219898,49.2894310875386],&quot;hoverinfo&quot;:&quot;none&quot;,&quot;lon&quot;:[-123.140105,-123.119462061727]},{&quot;mode&quot;:&quot;lines&quot;,&quot;line&quot;:{&quot;color&quot;:&quot;black&quot;},&quot;type&quot;:&quot;scattergeo&quot;,&quot;lat&quot;:[49.227254,49.2560324587443],&quot;hoverinfo&quot;:&quot;none&quot;,&quot;lon&quot;:[-123.128281,-123.132777904483]},{&quot;mode&quot;:&quot;lines&quot;,&quot;line&quot;:{&quot;color&quot;:&quot;black&quot;},&quot;type&quot;:&quot;scattergeo&quot;,&quot;lat&quot;:[49.213447,49.2287120398275],&quot;hoverinfo&quot;:&quot;none&quot;,&quot;lon&quot;:[-122.937887,-122.996471986297]},{&quot;mode&quot;:&quot;lines&quot;,&quot;line&quot;:{&quot;color&quot;:&quot;black&quot;},&quot;type&quot;:&quot;scattergeo&quot;,&quot;lat&quot;:[49.261974,49.2397224546965],&quot;hoverinfo&quot;:&quot;none&quot;,&quot;lon&quot;:[-123.098669,-123.040753717645]},{&quot;mode&quot;:&quot;lines&quot;,&quot;line&quot;:{&quot;color&quot;:&quot;black&quot;},&quot;type&quot;:&quot;scattergeo&quot;,&quot;lat&quot;:[49.05798,49.0391641015383],&quot;hoverinfo&quot;:&quot;none&quot;,&quot;lon&quot;:[-122.25257,-122.347843226749]},{&quot;mode&quot;:&quot;lines&quot;,&quot;line&quot;:{&quot;color&quot;:&quot;black&quot;},&quot;type&quot;:&quot;scattergeo&quot;,&quot;lat&quot;:[49.351186,49.3397464394847],&quot;hoverinfo&quot;:&quot;none&quot;,&quot;lon&quot;:[-123.266198,-123.192793552348]},{&quot;mode&quot;:&quot;lines&quot;,&quot;line&quot;:{&quot;color&quot;:&quot;black&quot;},&quot;type&quot;:&quot;scattergeo&quot;,&quot;lat&quot;:[49.88307,49.9151554494484],&quot;hoverinfo&quot;:&quot;none&quot;,&quot;lon&quot;:[-119.48568,-119.741065669257]},{&quot;mode&quot;:&quot;lines&quot;,&quot;line&quot;:{&quot;color&quot;:&quot;black&quot;},&quot;type&quot;:&quot;scattergeo&quot;,&quot;lat&quot;:[49.839659,49.892071734828],&quot;hoverinfo&quot;:&quot;none&quot;,&quot;lon&quot;:[-119.482181,-119.484658444334]},{&quot;mode&quot;:&quot;lines&quot;,&quot;line&quot;:{&quot;color&quot;:&quot;black&quot;},&quot;type&quot;:&quot;scattergeo&quot;,&quot;lat&quot;:[49.237983,49.2798017113343],&quot;hoverinfo&quot;:&quot;none&quot;,&quot;lon&quot;:[-123.068585,-123.066047262467]},{&quot;mode&quot;:&quot;lines&quot;,&quot;line&quot;:{&quot;color&quot;:&quot;black&quot;},&quot;type&quot;:&quot;scattergeo&quot;,&quot;lat&quot;:[49.875416,49.825491060816],&quot;hoverinfo&quot;:&quot;none&quot;,&quot;lon&quot;:[-119.488232,-119.471541715992]},{&quot;mode&quot;:&quot;lines&quot;,&quot;line&quot;:{&quot;color&quot;:&quot;black&quot;},&quot;type&quot;:&quot;scattergeo&quot;,&quot;lat&quot;:[49.28297,49.2364668900495],&quot;hoverinfo&quot;:&quot;none&quot;,&quot;lon&quot;:[-122.75262,-122.852141086465]},{&quot;mode&quot;:&quot;lines&quot;,&quot;line&quot;:{&quot;color&quot;:&quot;black&quot;},&quot;type&quot;:&quot;scattergeo&quot;,&quot;lat&quot;:[49.21082,49.1984065446686],&quot;hoverinfo&quot;:&quot;none&quot;,&quot;lon&quot;:[-122.905853,-122.934408509512]},{&quot;mode&quot;:&quot;lines&quot;,&quot;line&quot;:{&quot;color&quot;:&quot;black&quot;},&quot;type&quot;:&quot;scattergeo&quot;,&quot;lat&quot;:[49.055292,49.0391641015383],&quot;hoverinfo&quot;:&quot;none&quot;,&quot;lon&quot;:[-122.316623,-122.347843226749]},{&quot;mode&quot;:&quot;lines&quot;,&quot;line&quot;:{&quot;color&quot;:&quot;black&quot;},&quot;type&quot;:&quot;scattergeo&quot;,&quot;lat&quot;:[49.281863,49.2803210569917],&quot;hoverinfo&quot;:&quot;none&quot;,&quot;lon&quot;:[-123.123839,-123.113580759168]},{&quot;mode&quot;:&quot;lines&quot;,&quot;line&quot;:{&quot;color&quot;:&quot;black&quot;},&quot;type&quot;:&quot;scattergeo&quot;,&quot;lat&quot;:[49.178077,49.1410042094931],&quot;hoverinfo&quot;:&quot;none&quot;,&quot;lon&quot;:[-122.888808,-122.856837478998]},{&quot;mode&quot;:&quot;lines&quot;,&quot;line&quot;:{&quot;color&quot;:&quot;black&quot;},&quot;type&quot;:&quot;scattergeo&quot;,&quot;lat&quot;:[49.10635,49.1410042094931],&quot;hoverinfo&quot;:&quot;none&quot;,&quot;lon&quot;:[-122.82509,-122.856837478998]},{&quot;mode&quot;:&quot;lines&quot;,&quot;line&quot;:{&quot;color&quot;:&quot;black&quot;},&quot;type&quot;:&quot;scattergeo&quot;,&quot;lat&quot;:[48.442176,48.4827382013408],&quot;hoverinfo&quot;:&quot;none&quot;,&quot;lon&quot;:[-123.469686,-123.506344576293]},{&quot;mode&quot;:&quot;lines&quot;,&quot;line&quot;:{&quot;color&quot;:&quot;black&quot;},&quot;type&quot;:&quot;scattergeo&quot;,&quot;lat&quot;:[49.286103,49.2798017113343],&quot;hoverinfo&quot;:&quot;none&quot;,&quot;lon&quot;:[-123.031289,-123.066047262467]},{&quot;mode&quot;:&quot;lines&quot;,&quot;line&quot;:{&quot;color&quot;:&quot;black&quot;},&quot;type&quot;:&quot;scattergeo&quot;,&quot;lat&quot;:[49.178077,49.1410042094931],&quot;hoverinfo&quot;:&quot;none&quot;,&quot;lon&quot;:[-122.888808,-122.856837478998]},{&quot;mode&quot;:&quot;lines&quot;,&quot;line&quot;:{&quot;color&quot;:&quot;black&quot;},&quot;type&quot;:&quot;scattergeo&quot;,&quot;lat&quot;:[49.119581,49.1410042094931],&quot;hoverinfo&quot;:&quot;none&quot;,&quot;lon&quot;:[-122.708741,-122.856837478998]},{&quot;mode&quot;:&quot;lines&quot;,&quot;line&quot;:{&quot;color&quot;:&quot;black&quot;},&quot;type&quot;:&quot;scattergeo&quot;,&quot;lat&quot;:[49.038359,49.1176110168489],&quot;hoverinfo&quot;:&quot;none&quot;,&quot;lon&quot;:[-122.799908,-122.754853365374]},{&quot;mode&quot;:&quot;lines&quot;,&quot;line&quot;:{&quot;color&quot;:&quot;black&quot;},&quot;type&quot;:&quot;scattergeo&quot;,&quot;lat&quot;:[49.152089,49.0385145601345],&quot;hoverinfo&quot;:&quot;none&quot;,&quot;lon&quot;:[-122.841664,-122.83110874713]},{&quot;mode&quot;:&quot;lines&quot;,&quot;line&quot;:{&quot;color&quot;:&quot;black&quot;},&quot;type&quot;:&quot;scattergeo&quot;,&quot;lat&quot;:[49.157538,49.1288299968612],&quot;hoverinfo&quot;:&quot;none&quot;,&quot;lon&quot;:[-123.181116,-123.148738771175]},{&quot;mode&quot;:&quot;lines&quot;,&quot;line&quot;:{&quot;color&quot;:&quot;black&quot;},&quot;type&quot;:&quot;scattergeo&quot;,&quot;lat&quot;:[49.257164,49.2329747531744],&quot;hoverinfo&quot;:&quot;none&quot;,&quot;lon&quot;:[-123.089441,-123.092112415841]},{&quot;mode&quot;:&quot;lines&quot;,&quot;line&quot;:{&quot;color&quot;:&quot;black&quot;},&quot;type&quot;:&quot;scattergeo&quot;,&quot;lat&quot;:[49.261974,49.2397224546965],&quot;hoverinfo&quot;:&quot;none&quot;,&quot;lon&quot;:[-123.098669,-123.040753717645]},{&quot;mode&quot;:&quot;lines&quot;,&quot;line&quot;:{&quot;color&quot;:&quot;black&quot;},&quot;type&quot;:&quot;scattergeo&quot;,&quot;lat&quot;:[49.10635,49.1176110168489],&quot;hoverinfo&quot;:&quot;none&quot;,&quot;lon&quot;:[-122.82509,-122.754853365374]},{&quot;mode&quot;:&quot;lines&quot;,&quot;line&quot;:{&quot;color&quot;:&quot;black&quot;},&quot;type&quot;:&quot;scattergeo&quot;,&quot;lat&quot;:[49.26637,49.2434793968708],&quot;hoverinfo&quot;:&quot;none&quot;,&quot;lon&quot;:[-122.76932,-122.786754985938]},{&quot;mode&quot;:&quot;lines&quot;,&quot;line&quot;:{&quot;color&quot;:&quot;black&quot;},&quot;type&quot;:&quot;scattergeo&quot;,&quot;lat&quot;:[49.17003,49.1863745873237],&quot;hoverinfo&quot;:&quot;none&quot;,&quot;lon&quot;:[-123.13683,-123.111677711376]},{&quot;mode&quot;:&quot;lines&quot;,&quot;line&quot;:{&quot;color&quot;:&quot;black&quot;},&quot;type&quot;:&quot;scattergeo&quot;,&quot;lat&quot;:[49.213447,49.2287120398275],&quot;hoverinfo&quot;:&quot;none&quot;,&quot;lon&quot;:[-122.937887,-122.996471986297]},{&quot;mode&quot;:&quot;lines&quot;,&quot;line&quot;:{&quot;color&quot;:&quot;black&quot;},&quot;type&quot;:&quot;scattergeo&quot;,&quot;lat&quot;:[49.176465,49.0938916038734],&quot;hoverinfo&quot;:&quot;none&quot;,&quot;lon&quot;:[-122.655969,-122.647453561111]},{&quot;mode&quot;:&quot;lines&quot;,&quot;line&quot;:{&quot;color&quot;:&quot;black&quot;},&quot;type&quot;:&quot;scattergeo&quot;,&quot;lat&quot;:[48.428514,48.477480017302],&quot;hoverinfo&quot;:&quot;none&quot;,&quot;lon&quot;:[-123.358915,-123.36608053282]},{&quot;mode&quot;:&quot;lines&quot;,&quot;line&quot;:{&quot;color&quot;:&quot;black&quot;},&quot;type&quot;:&quot;scattergeo&quot;,&quot;lat&quot;:[49.25403,49.2150978094316],&quot;hoverinfo&quot;:&quot;none&quot;,&quot;lon&quot;:[-123.029302,-123.097310727838]},{&quot;mode&quot;:&quot;lines&quot;,&quot;line&quot;:{&quot;color&quot;:&quot;black&quot;},&quot;type&quot;:&quot;scattergeo&quot;,&quot;lat&quot;:[49.202124,49.2211306947439],&quot;hoverinfo&quot;:&quot;none&quot;,&quot;lon&quot;:[-122.909873,-122.898883878006]},{&quot;mode&quot;:&quot;lines&quot;,&quot;line&quot;:{&quot;color&quot;:&quot;black&quot;},&quot;type&quot;:&quot;scattergeo&quot;,&quot;lat&quot;:[49.051268,49.1410042094931],&quot;hoverinfo&quot;:&quot;none&quot;,&quot;lon&quot;:[-122.842836,-122.856837478998]},{&quot;mode&quot;:&quot;lines&quot;,&quot;line&quot;:{&quot;color&quot;:&quot;black&quot;},&quot;type&quot;:&quot;scattergeo&quot;,&quot;lat&quot;:[48.43605,48.4765793361461],&quot;hoverinfo&quot;:&quot;none&quot;,&quot;lon&quot;:[-123.333662,-123.314845757847]},{&quot;mode&quot;:&quot;lines&quot;,&quot;line&quot;:{&quot;color&quot;:&quot;black&quot;},&quot;type&quot;:&quot;scattergeo&quot;,&quot;lat&quot;:[49.21709,49.2746756191813],&quot;hoverinfo&quot;:&quot;none&quot;,&quot;lon&quot;:[-123.064673,-123.125856387968]},{&quot;mode&quot;:&quot;lines&quot;,&quot;line&quot;:{&quot;color&quot;:&quot;black&quot;},&quot;type&quot;:&quot;scattergeo&quot;,&quot;lat&quot;:[48.43294,48.4585245729765],&quot;hoverinfo&quot;:&quot;none&quot;,&quot;lon&quot;:[-123.3693,-123.332376533154]},{&quot;mode&quot;:&quot;lines&quot;,&quot;line&quot;:{&quot;color&quot;:&quot;black&quot;},&quot;type&quot;:&quot;scattergeo&quot;,&quot;lat&quot;:[49.17246,49.0938916038734],&quot;hoverinfo&quot;:&quot;none&quot;,&quot;lon&quot;:[-122.580791,-122.647453561111]},{&quot;mode&quot;:&quot;lines&quot;,&quot;line&quot;:{&quot;color&quot;:&quot;black&quot;},&quot;type&quot;:&quot;scattergeo&quot;,&quot;lat&quot;:[49.155659,49.1806404435479],&quot;hoverinfo&quot;:&quot;none&quot;,&quot;lon&quot;:[-121.815256,-121.900229531001]},{&quot;mode&quot;:&quot;lines&quot;,&quot;line&quot;:{&quot;color&quot;:&quot;black&quot;},&quot;type&quot;:&quot;scattergeo&quot;,&quot;lat&quot;:[49.24966,49.2792476329574],&quot;hoverinfo&quot;:&quot;none&quot;,&quot;lon&quot;:[-123.11934,-123.089566417568]},{&quot;mode&quot;:&quot;lines&quot;,&quot;line&quot;:{&quot;color&quot;:&quot;black&quot;},&quot;type&quot;:&quot;scattergeo&quot;,&quot;lat&quot;:[49.262537,49.2653172633961],&quot;hoverinfo&quot;:&quot;none&quot;,&quot;lon&quot;:[-123.059629,-123.165649863758]},{&quot;mode&quot;:&quot;lines&quot;,&quot;line&quot;:{&quot;color&quot;:&quot;black&quot;},&quot;type&quot;:&quot;scattergeo&quot;,&quot;lat&quot;:[49.126712,49.1176110168489],&quot;hoverinfo&quot;:&quot;none&quot;,&quot;lon&quot;:[-122.888841,-122.754853365374]},{&quot;mode&quot;:&quot;lines&quot;,&quot;line&quot;:{&quot;color&quot;:&quot;black&quot;},&quot;type&quot;:&quot;scattergeo&quot;,&quot;lat&quot;:[49.14399,49.1187964384755],&quot;hoverinfo&quot;:&quot;none&quot;,&quot;lon&quot;:[-122.9068,-122.903580634172]},{&quot;mode&quot;:&quot;lines&quot;,&quot;line&quot;:{&quot;color&quot;:&quot;black&quot;},&quot;type&quot;:&quot;scattergeo&quot;,&quot;lat&quot;:[49.05798,49.0391641015383],&quot;hoverinfo&quot;:&quot;none&quot;,&quot;lon&quot;:[-122.25257,-122.347843226749]},{&quot;mode&quot;:&quot;lines&quot;,&quot;line&quot;:{&quot;color&quot;:&quot;black&quot;},&quot;type&quot;:&quot;scattergeo&quot;,&quot;lat&quot;:[null,49.0311471806227],&quot;hoverinfo&quot;:&quot;none&quot;,&quot;lon&quot;:[null,-123.089212490261]},{&quot;mode&quot;:&quot;lines&quot;,&quot;line&quot;:{&quot;color&quot;:&quot;black&quot;},&quot;type&quot;:&quot;scattergeo&quot;,&quot;lat&quot;:[49.20678,49.2211306947439],&quot;hoverinfo&quot;:&quot;none&quot;,&quot;lon&quot;:[-122.91092,-122.898883878006]},{&quot;mode&quot;:&quot;lines&quot;,&quot;line&quot;:{&quot;color&quot;:&quot;black&quot;},&quot;type&quot;:&quot;scattergeo&quot;,&quot;lat&quot;:[49.152089,49.190394728435],&quot;hoverinfo&quot;:&quot;none&quot;,&quot;lon&quot;:[-122.841664,-122.848462790325]},{&quot;mode&quot;:&quot;lines&quot;,&quot;line&quot;:{&quot;color&quot;:&quot;black&quot;},&quot;type&quot;:&quot;scattergeo&quot;,&quot;lat&quot;:[49.150454,49.1187964384755],&quot;hoverinfo&quot;:&quot;none&quot;,&quot;lon&quot;:[-122.89155,-122.903580634172]},{&quot;mode&quot;:&quot;lines&quot;,&quot;line&quot;:{&quot;color&quot;:&quot;black&quot;},&quot;type&quot;:&quot;scattergeo&quot;,&quot;lat&quot;:[50.66648,50.6602204029918],&quot;hoverinfo&quot;:&quot;none&quot;,&quot;lon&quot;:[-120.3192,-120.332088855085]},{&quot;mode&quot;:&quot;lines&quot;,&quot;line&quot;:{&quot;color&quot;:&quot;black&quot;},&quot;type&quot;:&quot;scattergeo&quot;,&quot;lat&quot;:[49.339497,49.322209821279],&quot;hoverinfo&quot;:&quot;none&quot;,&quot;lon&quot;:[-123.114487,-123.113622357888]},{&quot;mode&quot;:&quot;lines&quot;,&quot;line&quot;:{&quot;color&quot;:&quot;black&quot;},&quot;type&quot;:&quot;scattergeo&quot;,&quot;lat&quot;:[49.16638,49.2168198317455],&quot;hoverinfo&quot;:&quot;none&quot;,&quot;lon&quot;:[-123.94003,-124.006702443619]},{&quot;mode&quot;:&quot;lines&quot;,&quot;line&quot;:{&quot;color&quot;:&quot;black&quot;},&quot;type&quot;:&quot;scattergeo&quot;,&quot;lat&quot;:[49.16638,49.0771170456374],&quot;hoverinfo&quot;:&quot;none&quot;,&quot;lon&quot;:[-121.95257,-121.991756609719]},{&quot;mode&quot;:&quot;lines&quot;,&quot;line&quot;:{&quot;color&quot;:&quot;black&quot;},&quot;type&quot;:&quot;scattergeo&quot;,&quot;lat&quot;:[48.434318,48.4827382013408],&quot;hoverinfo&quot;:&quot;none&quot;,&quot;lon&quot;:[-123.381812,-123.506344576293]},{&quot;mode&quot;:&quot;lines&quot;,&quot;line&quot;:{&quot;color&quot;:&quot;black&quot;},&quot;type&quot;:&quot;scattergeo&quot;,&quot;lat&quot;:[49.170211,49.1863745873237],&quot;hoverinfo&quot;:&quot;none&quot;,&quot;lon&quot;:[-123.144622,-123.111677711376]},{&quot;mode&quot;:&quot;lines&quot;,&quot;line&quot;:{&quot;color&quot;:&quot;black&quot;},&quot;type&quot;:&quot;scattergeo&quot;,&quot;lat&quot;:[46.364022,56.2740795809477],&quot;hoverinfo&quot;:&quot;none&quot;,&quot;lon&quot;:[-66.566883,-120.801104114379]},{&quot;mode&quot;:&quot;lines&quot;,&quot;line&quot;:{&quot;color&quot;:&quot;black&quot;},&quot;type&quot;:&quot;scattergeo&quot;,&quot;lat&quot;:[49.16312,49.1410042094931],&quot;hoverinfo&quot;:&quot;none&quot;,&quot;lon&quot;:[-122.792145,-122.856837478998]},{&quot;mode&quot;:&quot;lines&quot;,&quot;line&quot;:{&quot;color&quot;:&quot;black&quot;},&quot;type&quot;:&quot;scattergeo&quot;,&quot;lat&quot;:[49.188351,49.0571619551277],&quot;hoverinfo&quot;:&quot;none&quot;,&quot;lon&quot;:[-122.777198,-122.754315950226]},{&quot;mode&quot;:&quot;lines&quot;,&quot;line&quot;:{&quot;color&quot;:&quot;black&quot;},&quot;type&quot;:&quot;scattergeo&quot;,&quot;lat&quot;:[49.176992,49.1831831533453],&quot;hoverinfo&quot;:&quot;none&quot;,&quot;lon&quot;:[-122.753373,-122.876242276909]},{&quot;mode&quot;:&quot;lines&quot;,&quot;line&quot;:{&quot;color&quot;:&quot;black&quot;},&quot;type&quot;:&quot;scattergeo&quot;,&quot;lat&quot;:[49.321018,49.3224863139215],&quot;hoverinfo&quot;:&quot;none&quot;,&quot;lon&quot;:[-123.072348,-123.084865113587]},{&quot;mode&quot;:&quot;lines&quot;,&quot;line&quot;:{&quot;color&quot;:&quot;black&quot;},&quot;type&quot;:&quot;scattergeo&quot;,&quot;lat&quot;:[49.257164,49.2150978094316],&quot;hoverinfo&quot;:&quot;none&quot;,&quot;lon&quot;:[-123.089441,-123.097310727838]},{&quot;mode&quot;:&quot;lines&quot;,&quot;line&quot;:{&quot;color&quot;:&quot;black&quot;},&quot;type&quot;:&quot;scattergeo&quot;,&quot;lat&quot;:[49.170794,49.1410042094931],&quot;hoverinfo&quot;:&quot;none&quot;,&quot;lon&quot;:[-122.868057,-122.856837478998]},{&quot;mode&quot;:&quot;lines&quot;,&quot;line&quot;:{&quot;color&quot;:&quot;black&quot;},&quot;type&quot;:&quot;scattergeo&quot;,&quot;lat&quot;:[49.150454,49.1187964384755],&quot;hoverinfo&quot;:&quot;none&quot;,&quot;lon&quot;:[-122.89155,-122.903580634172]},{&quot;mode&quot;:&quot;lines&quot;,&quot;line&quot;:{&quot;color&quot;:&quot;black&quot;},&quot;type&quot;:&quot;scattergeo&quot;,&quot;lat&quot;:[49.263243,49.2663229578375],&quot;hoverinfo&quot;:&quot;none&quot;,&quot;lon&quot;:[-123.170153,-123.197873679399]},{&quot;mode&quot;:&quot;lines&quot;,&quot;line&quot;:{&quot;color&quot;:&quot;black&quot;},&quot;type&quot;:&quot;scattergeo&quot;,&quot;lat&quot;:[49.262953,49.1984065446686],&quot;hoverinfo&quot;:&quot;none&quot;,&quot;lon&quot;:[-123.063767,-122.934408509512]},{&quot;mode&quot;:&quot;lines&quot;,&quot;line&quot;:{&quot;color&quot;:&quot;black&quot;},&quot;type&quot;:&quot;scattergeo&quot;,&quot;lat&quot;:[49.324839,49.3224863139215],&quot;hoverinfo&quot;:&quot;none&quot;,&quot;lon&quot;:[-123.113344,-123.084865113587]},{&quot;mode&quot;:&quot;lines&quot;,&quot;line&quot;:{&quot;color&quot;:&quot;black&quot;},&quot;type&quot;:&quot;scattergeo&quot;,&quot;lat&quot;:[49.263195,49.2501828672927],&quot;hoverinfo&quot;:&quot;none&quot;,&quot;lon&quot;:[-123.10413,-123.109998145249]},{&quot;mode&quot;:&quot;lines&quot;,&quot;line&quot;:{&quot;color&quot;:&quot;black&quot;},&quot;type&quot;:&quot;scattergeo&quot;,&quot;lat&quot;:[49.10107,49.1277794033541],&quot;hoverinfo&quot;:&quot;none&quot;,&quot;lon&quot;:[-122.65883,-122.621185397052]},{&quot;mode&quot;:&quot;lines&quot;,&quot;line&quot;:{&quot;color&quot;:&quot;black&quot;},&quot;type&quot;:&quot;scattergeo&quot;,&quot;lat&quot;:[null,50.0763115301736],&quot;hoverinfo&quot;:&quot;none&quot;,&quot;lon&quot;:[null,-119.399707386739]},{&quot;mode&quot;:&quot;lines&quot;,&quot;line&quot;:{&quot;color&quot;:&quot;black&quot;},&quot;type&quot;:&quot;scattergeo&quot;,&quot;lat&quot;:[49.05798,49.0391641015383],&quot;hoverinfo&quot;:&quot;none&quot;,&quot;lon&quot;:[-122.25257,-122.347843226749]},{&quot;mode&quot;:&quot;lines&quot;,&quot;line&quot;:{&quot;color&quot;:&quot;black&quot;},&quot;type&quot;:&quot;scattergeo&quot;,&quot;lat&quot;:[49.219898,49.2746756191813],&quot;hoverinfo&quot;:&quot;none&quot;,&quot;lon&quot;:[-123.140105,-123.125856387968]},{&quot;mode&quot;:&quot;lines&quot;,&quot;line&quot;:{&quot;color&quot;:&quot;black&quot;},&quot;type&quot;:&quot;scattergeo&quot;,&quot;lat&quot;:[49.264797,49.2508143510126],&quot;hoverinfo&quot;:&quot;none&quot;,&quot;lon&quot;:[-123.183769,-123.215501310984]},{&quot;mode&quot;:&quot;lines&quot;,&quot;line&quot;:{&quot;color&quot;:&quot;black&quot;},&quot;type&quot;:&quot;scattergeo&quot;,&quot;lat&quot;:[49.170794,49.1410042094931],&quot;hoverinfo&quot;:&quot;none&quot;,&quot;lon&quot;:[-122.868057,-122.856837478998]},{&quot;mode&quot;:&quot;lines&quot;,&quot;line&quot;:{&quot;color&quot;:&quot;black&quot;},&quot;type&quot;:&quot;scattergeo&quot;,&quot;lat&quot;:[49.050755,49.074817840519],&quot;hoverinfo&quot;:&quot;none&quot;,&quot;lon&quot;:[-122.26036,-122.180158212858]},{&quot;mode&quot;:&quot;lines&quot;,&quot;line&quot;:{&quot;color&quot;:&quot;black&quot;},&quot;type&quot;:&quot;scattergeo&quot;,&quot;lat&quot;:[49.25403,49.2634062814426],&quot;hoverinfo&quot;:&quot;none&quot;,&quot;lon&quot;:[-123.029302,-123.090819401467]},{&quot;mode&quot;:&quot;lines&quot;,&quot;line&quot;:{&quot;color&quot;:&quot;black&quot;},&quot;type&quot;:&quot;scattergeo&quot;,&quot;lat&quot;:[49.923323,49.9321075397755],&quot;hoverinfo&quot;:&quot;none&quot;,&quot;lon&quot;:[-97.153295,-97.1735542589426]},{&quot;mode&quot;:&quot;lines&quot;,&quot;line&quot;:{&quot;color&quot;:&quot;black&quot;},&quot;type&quot;:&quot;scattergeo&quot;,&quot;lat&quot;:[49.895136,49.9085461037283],&quot;hoverinfo&quot;:&quot;none&quot;,&quot;lon&quot;:[-97.185236,-97.177989932005]},{&quot;mode&quot;:&quot;lines&quot;,&quot;line&quot;:{&quot;color&quot;:&quot;black&quot;},&quot;type&quot;:&quot;scattergeo&quot;,&quot;lat&quot;:[49.89326,49.9030174739611],&quot;hoverinfo&quot;:&quot;none&quot;,&quot;lon&quot;:[-97.20057,-97.2085643092654]},{&quot;mode&quot;:&quot;lines&quot;,&quot;line&quot;:{&quot;color&quot;:&quot;black&quot;},&quot;type&quot;:&quot;scattergeo&quot;,&quot;lat&quot;:[49.8844,49.8670743729595],&quot;hoverinfo&quot;:&quot;none&quot;,&quot;lon&quot;:[-97.14704,-97.0641263899241]},{&quot;mode&quot;:&quot;lines&quot;,&quot;line&quot;:{&quot;color&quot;:&quot;black&quot;},&quot;type&quot;:&quot;scattergeo&quot;,&quot;lat&quot;:[null,50.8573388683205],&quot;hoverinfo&quot;:&quot;none&quot;,&quot;lon&quot;:[null,-97.797425232004]},{&quot;mode&quot;:&quot;lines&quot;,&quot;line&quot;:{&quot;color&quot;:&quot;black&quot;},&quot;type&quot;:&quot;scattergeo&quot;,&quot;lat&quot;:[49.8844,49.8734500204612],&quot;hoverinfo&quot;:&quot;none&quot;,&quot;lon&quot;:[-97.14704,-97.2995596807409]},{&quot;mode&quot;:&quot;lines&quot;,&quot;line&quot;:{&quot;color&quot;:&quot;black&quot;},&quot;type&quot;:&quot;scattergeo&quot;,&quot;lat&quot;:[49.8844,49.8670743729595],&quot;hoverinfo&quot;:&quot;none&quot;,&quot;lon&quot;:[-97.14704,-97.0641263899241]},{&quot;mode&quot;:&quot;lines&quot;,&quot;line&quot;:{&quot;color&quot;:&quot;black&quot;},&quot;type&quot;:&quot;scattergeo&quot;,&quot;lat&quot;:[null,49.5732548274926],&quot;hoverinfo&quot;:&quot;none&quot;,&quot;lon&quot;:[null,-99.6763717618068]},{&quot;mode&quot;:&quot;lines&quot;,&quot;line&quot;:{&quot;color&quot;:&quot;black&quot;},&quot;type&quot;:&quot;scattergeo&quot;,&quot;lat&quot;:[49.880009,49.8927420100425],&quot;hoverinfo&quot;:&quot;none&quot;,&quot;lon&quot;:[-97.203048,-97.2433785402827]},{&quot;mode&quot;:&quot;lines&quot;,&quot;line&quot;:{&quot;color&quot;:&quot;black&quot;},&quot;type&quot;:&quot;scattergeo&quot;,&quot;lat&quot;:[null,51.0473387247898],&quot;hoverinfo&quot;:&quot;none&quot;,&quot;lon&quot;:[null,-96.3178031764161]},{&quot;mode&quot;:&quot;lines&quot;,&quot;line&quot;:{&quot;color&quot;:&quot;black&quot;},&quot;type&quot;:&quot;scattergeo&quot;,&quot;lat&quot;:[49.89241,50.0026996074731],&quot;hoverinfo&quot;:&quot;none&quot;,&quot;lon&quot;:[-97.14708,-97.260483095031]},{&quot;mode&quot;:&quot;lines&quot;,&quot;line&quot;:{&quot;color&quot;:&quot;black&quot;},&quot;type&quot;:&quot;scattergeo&quot;,&quot;lat&quot;:[null,50.8573388683205],&quot;hoverinfo&quot;:&quot;none&quot;,&quot;lon&quot;:[null,-97.797425232004]},{&quot;mode&quot;:&quot;lines&quot;,&quot;line&quot;:{&quot;color&quot;:&quot;black&quot;},&quot;type&quot;:&quot;scattergeo&quot;,&quot;lat&quot;:[49.8844,49.815247321227],&quot;hoverinfo&quot;:&quot;none&quot;,&quot;lon&quot;:[-97.14704,-97.1530208040786]},{&quot;mode&quot;:&quot;lines&quot;,&quot;line&quot;:{&quot;color&quot;:&quot;black&quot;},&quot;type&quot;:&quot;scattergeo&quot;,&quot;lat&quot;:[49.919633,49.8425075692549],&quot;hoverinfo&quot;:&quot;none&quot;,&quot;lon&quot;:[-97.213584,-97.2165857746472]},{&quot;mode&quot;:&quot;lines&quot;,&quot;line&quot;:{&quot;color&quot;:&quot;black&quot;},&quot;type&quot;:&quot;scattergeo&quot;,&quot;lat&quot;:[49.8844,49.967371584139],&quot;hoverinfo&quot;:&quot;none&quot;,&quot;lon&quot;:[-97.14704,-97.1559834424231]},{&quot;mode&quot;:&quot;lines&quot;,&quot;line&quot;:{&quot;color&quot;:&quot;black&quot;},&quot;type&quot;:&quot;scattergeo&quot;,&quot;lat&quot;:[49.911708,49.9216210047124],&quot;hoverinfo&quot;:&quot;none&quot;,&quot;lon&quot;:[-97.053601,-97.084751904388]},{&quot;mode&quot;:&quot;lines&quot;,&quot;line&quot;:{&quot;color&quot;:&quot;black&quot;},&quot;type&quot;:&quot;scattergeo&quot;,&quot;lat&quot;:[49.911708,49.9216210047124],&quot;hoverinfo&quot;:&quot;none&quot;,&quot;lon&quot;:[-97.053601,-97.084751904388]},{&quot;mode&quot;:&quot;lines&quot;,&quot;line&quot;:{&quot;color&quot;:&quot;black&quot;},&quot;type&quot;:&quot;scattergeo&quot;,&quot;lat&quot;:[49.895444,49.9216401834937],&quot;hoverinfo&quot;:&quot;none&quot;,&quot;lon&quot;:[-97.051031,-96.9624729438158]},{&quot;mode&quot;:&quot;lines&quot;,&quot;line&quot;:{&quot;color&quot;:&quot;black&quot;},&quot;type&quot;:&quot;scattergeo&quot;,&quot;lat&quot;:[49.904651,49.9030174739611],&quot;hoverinfo&quot;:&quot;none&quot;,&quot;lon&quot;:[-97.199666,-97.2085643092654]},{&quot;mode&quot;:&quot;lines&quot;,&quot;line&quot;:{&quot;color&quot;:&quot;black&quot;},&quot;type&quot;:&quot;scattergeo&quot;,&quot;lat&quot;:[49.8844,49.8978322535866],&quot;hoverinfo&quot;:&quot;none&quot;,&quot;lon&quot;:[-97.14704,-97.1400782950995]},{&quot;mode&quot;:&quot;lines&quot;,&quot;line&quot;:{&quot;color&quot;:&quot;black&quot;},&quot;type&quot;:&quot;scattergeo&quot;,&quot;lat&quot;:[49.952317,49.2786588938955],&quot;hoverinfo&quot;:&quot;none&quot;,&quot;lon&quot;:[-95.969321,-96.4733278772925]},{&quot;mode&quot;:&quot;lines&quot;,&quot;line&quot;:{&quot;color&quot;:&quot;black&quot;},&quot;type&quot;:&quot;scattergeo&quot;,&quot;lat&quot;:[null,49.9810801901537],&quot;hoverinfo&quot;:&quot;none&quot;,&quot;lon&quot;:[null,-97.0150480190604]},{&quot;mode&quot;:&quot;lines&quot;,&quot;line&quot;:{&quot;color&quot;:&quot;black&quot;},&quot;type&quot;:&quot;scattergeo&quot;,&quot;lat&quot;:[53.55118,50.2717833661156],&quot;hoverinfo&quot;:&quot;none&quot;,&quot;lon&quot;:[-113.143169,-98.6122338284385]},{&quot;mode&quot;:&quot;lines&quot;,&quot;line&quot;:{&quot;color&quot;:&quot;black&quot;},&quot;type&quot;:&quot;scattergeo&quot;,&quot;lat&quot;:[49.83001,51.0473387247898],&quot;hoverinfo&quot;:&quot;none&quot;,&quot;lon&quot;:[-100.29619,-96.3178031764161]},{&quot;mode&quot;:&quot;lines&quot;,&quot;line&quot;:{&quot;color&quot;:&quot;black&quot;},&quot;type&quot;:&quot;scattergeo&quot;,&quot;lat&quot;:[49.878474,49.8734500204612],&quot;hoverinfo&quot;:&quot;none&quot;,&quot;lon&quot;:[-97.216024,-97.2995596807409]},{&quot;mode&quot;:&quot;lines&quot;,&quot;line&quot;:{&quot;color&quot;:&quot;black&quot;},&quot;type&quot;:&quot;scattergeo&quot;,&quot;lat&quot;:[49.8844,49.9041875372142],&quot;hoverinfo&quot;:&quot;none&quot;,&quot;lon&quot;:[-97.14704,-97.1466666962781]},{&quot;mode&quot;:&quot;lines&quot;,&quot;line&quot;:{&quot;color&quot;:&quot;black&quot;},&quot;type&quot;:&quot;scattergeo&quot;,&quot;lat&quot;:[49.891612,49.8927420100425],&quot;hoverinfo&quot;:&quot;none&quot;,&quot;lon&quot;:[-97.139498,-97.2433785402827]},{&quot;mode&quot;:&quot;lines&quot;,&quot;line&quot;:{&quot;color&quot;:&quot;black&quot;},&quot;type&quot;:&quot;scattergeo&quot;,&quot;lat&quot;:[null,50.8573388683205],&quot;hoverinfo&quot;:&quot;none&quot;,&quot;lon&quot;:[null,-97.797425232004]},{&quot;mode&quot;:&quot;lines&quot;,&quot;line&quot;:{&quot;color&quot;:&quot;black&quot;},&quot;type&quot;:&quot;scattergeo&quot;,&quot;lat&quot;:[49.8844,49.815247321227],&quot;hoverinfo&quot;:&quot;none&quot;,&quot;lon&quot;:[-97.14704,-97.1530208040786]},{&quot;mode&quot;:&quot;lines&quot;,&quot;line&quot;:{&quot;color&quot;:&quot;black&quot;},&quot;type&quot;:&quot;scattergeo&quot;,&quot;lat&quot;:[44.237201,49.2786588938955],&quot;hoverinfo&quot;:&quot;none&quot;,&quot;lon&quot;:[-76.493413,-96.4733278772925]},{&quot;mode&quot;:&quot;lines&quot;,&quot;line&quot;:{&quot;color&quot;:&quot;black&quot;},&quot;type&quot;:&quot;scattergeo&quot;,&quot;lat&quot;:[49.199853,49.1349396525949],&quot;hoverinfo&quot;:&quot;none&quot;,&quot;lon&quot;:[-98.894906,-97.9553030681071]},{&quot;mode&quot;:&quot;lines&quot;,&quot;line&quot;:{&quot;color&quot;:&quot;black&quot;},&quot;type&quot;:&quot;scattergeo&quot;,&quot;lat&quot;:[49.8844,49.9173074257486],&quot;hoverinfo&quot;:&quot;none&quot;,&quot;lon&quot;:[-97.14704,-97.0387693609069]},{&quot;mode&quot;:&quot;lines&quot;,&quot;line&quot;:{&quot;color&quot;:&quot;black&quot;},&quot;type&quot;:&quot;scattergeo&quot;,&quot;lat&quot;:[49.903397,49.9041875372142],&quot;hoverinfo&quot;:&quot;none&quot;,&quot;lon&quot;:[-97.156352,-97.1466666962781]},{&quot;mode&quot;:&quot;lines&quot;,&quot;line&quot;:{&quot;color&quot;:&quot;black&quot;},&quot;type&quot;:&quot;scattergeo&quot;,&quot;lat&quot;:[49.8844,49.9085461037283],&quot;hoverinfo&quot;:&quot;none&quot;,&quot;lon&quot;:[-97.14704,-97.177989932005]},{&quot;mode&quot;:&quot;lines&quot;,&quot;line&quot;:{&quot;color&quot;:&quot;black&quot;},&quot;type&quot;:&quot;scattergeo&quot;,&quot;lat&quot;:[49.904075,49.8978322535866],&quot;hoverinfo&quot;:&quot;none&quot;,&quot;lon&quot;:[-97.135082,-97.1400782950995]},{&quot;mode&quot;:&quot;lines&quot;,&quot;line&quot;:{&quot;color&quot;:&quot;black&quot;},&quot;type&quot;:&quot;scattergeo&quot;,&quot;lat&quot;:[49.84692,49.8406716578271],&quot;hoverinfo&quot;:&quot;none&quot;,&quot;lon&quot;:[-99.95306,-99.981400840747]},{&quot;mode&quot;:&quot;lines&quot;,&quot;line&quot;:{&quot;color&quot;:&quot;black&quot;},&quot;type&quot;:&quot;scattergeo&quot;,&quot;lat&quot;:[null,49.2786588938955],&quot;hoverinfo&quot;:&quot;none&quot;,&quot;lon&quot;:[null,-96.4733278772925]},{&quot;mode&quot;:&quot;lines&quot;,&quot;line&quot;:{&quot;color&quot;:&quot;black&quot;},&quot;type&quot;:&quot;scattergeo&quot;,&quot;lat&quot;:[49.8844,49.8175963840014],&quot;hoverinfo&quot;:&quot;none&quot;,&quot;lon&quot;:[-97.14704,-97.0543700485492]},{&quot;mode&quot;:&quot;lines&quot;,&quot;line&quot;:{&quot;color&quot;:&quot;black&quot;},&quot;type&quot;:&quot;scattergeo&quot;,&quot;lat&quot;:[49.8844,49.9473841994423],&quot;hoverinfo&quot;:&quot;none&quot;,&quot;lon&quot;:[-97.14704,-97.2106383060693]},{&quot;mode&quot;:&quot;lines&quot;,&quot;line&quot;:{&quot;color&quot;:&quot;black&quot;},&quot;type&quot;:&quot;scattergeo&quot;,&quot;lat&quot;:[null,49.5732548274926],&quot;hoverinfo&quot;:&quot;none&quot;,&quot;lon&quot;:[null,-99.6763717618068]},{&quot;mode&quot;:&quot;lines&quot;,&quot;line&quot;:{&quot;color&quot;:&quot;black&quot;},&quot;type&quot;:&quot;scattergeo&quot;,&quot;lat&quot;:[null,49.4311206483548],&quot;hoverinfo&quot;:&quot;none&quot;,&quot;lon&quot;:[null,-98.0260802110283]},{&quot;mode&quot;:&quot;lines&quot;,&quot;line&quot;:{&quot;color&quot;:&quot;black&quot;},&quot;type&quot;:&quot;scattergeo&quot;,&quot;lat&quot;:[49.8844,49.815247321227],&quot;hoverinfo&quot;:&quot;none&quot;,&quot;lon&quot;:[-97.14704,-97.1530208040786]},{&quot;mode&quot;:&quot;lines&quot;,&quot;line&quot;:{&quot;color&quot;:&quot;black&quot;},&quot;type&quot;:&quot;scattergeo&quot;,&quot;lat&quot;:[49.8844,49.8674348090377],&quot;hoverinfo&quot;:&quot;none&quot;,&quot;lon&quot;:[-97.14704,-97.1351286124883]},{&quot;mode&quot;:&quot;lines&quot;,&quot;line&quot;:{&quot;color&quot;:&quot;black&quot;},&quot;type&quot;:&quot;scattergeo&quot;,&quot;lat&quot;:[49.947999,49.956763627294],&quot;hoverinfo&quot;:&quot;none&quot;,&quot;lon&quot;:[-97.152778,-97.1126084183615]},{&quot;mode&quot;:&quot;lines&quot;,&quot;line&quot;:{&quot;color&quot;:&quot;black&quot;},&quot;type&quot;:&quot;scattergeo&quot;,&quot;lat&quot;:[49.801454,49.815247321227],&quot;hoverinfo&quot;:&quot;none&quot;,&quot;lon&quot;:[-97.1591,-97.1530208040786]},{&quot;mode&quot;:&quot;lines&quot;,&quot;line&quot;:{&quot;color&quot;:&quot;black&quot;},&quot;type&quot;:&quot;scattergeo&quot;,&quot;lat&quot;:[49.897611,49.9085461037283],&quot;hoverinfo&quot;:&quot;none&quot;,&quot;lon&quot;:[-97.198939,-97.177989932005]},{&quot;mode&quot;:&quot;lines&quot;,&quot;line&quot;:{&quot;color&quot;:&quot;black&quot;},&quot;type&quot;:&quot;scattergeo&quot;,&quot;lat&quot;:[49.8844,49.8398976784109],&quot;hoverinfo&quot;:&quot;none&quot;,&quot;lon&quot;:[-97.14704,-97.1147932462383]},{&quot;mode&quot;:&quot;lines&quot;,&quot;line&quot;:{&quot;color&quot;:&quot;black&quot;},&quot;type&quot;:&quot;scattergeo&quot;,&quot;lat&quot;:[43.679544,50.8573388683205],&quot;hoverinfo&quot;:&quot;none&quot;,&quot;lon&quot;:[-79.298336,-97.797425232004]},{&quot;mode&quot;:&quot;lines&quot;,&quot;line&quot;:{&quot;color&quot;:&quot;black&quot;},&quot;type&quot;:&quot;scattergeo&quot;,&quot;lat&quot;:[49.8844,49.9321075397755],&quot;hoverinfo&quot;:&quot;none&quot;,&quot;lon&quot;:[-97.14704,-97.1735542589426]},{&quot;mode&quot;:&quot;lines&quot;,&quot;line&quot;:{&quot;color&quot;:&quot;black&quot;},&quot;type&quot;:&quot;scattergeo&quot;,&quot;lat&quot;:[49.521822,49.967371584139],&quot;hoverinfo&quot;:&quot;none&quot;,&quot;lon&quot;:[-96.655492,-97.1559834424231]},{&quot;mode&quot;:&quot;lines&quot;,&quot;line&quot;:{&quot;color&quot;:&quot;black&quot;},&quot;type&quot;:&quot;scattergeo&quot;,&quot;lat&quot;:[null,49.5732548274926],&quot;hoverinfo&quot;:&quot;none&quot;,&quot;lon&quot;:[null,-99.6763717618068]},{&quot;mode&quot;:&quot;lines&quot;,&quot;line&quot;:{&quot;color&quot;:&quot;black&quot;},&quot;type&quot;:&quot;scattergeo&quot;,&quot;lat&quot;:[null,51.0473387247898],&quot;hoverinfo&quot;:&quot;none&quot;,&quot;lon&quot;:[null,-96.3178031764161]},{&quot;mode&quot;:&quot;lines&quot;,&quot;line&quot;:{&quot;color&quot;:&quot;black&quot;},&quot;type&quot;:&quot;scattergeo&quot;,&quot;lat&quot;:[null,56.5689821099317],&quot;hoverinfo&quot;:&quot;none&quot;,&quot;lon&quot;:[null,-96.9362538147141]},{&quot;mode&quot;:&quot;lines&quot;,&quot;line&quot;:{&quot;color&quot;:&quot;black&quot;},&quot;type&quot;:&quot;scattergeo&quot;,&quot;lat&quot;:[null,51.0473387247898],&quot;hoverinfo&quot;:&quot;none&quot;,&quot;lon&quot;:[null,-96.3178031764161]},{&quot;mode&quot;:&quot;lines&quot;,&quot;line&quot;:{&quot;color&quot;:&quot;black&quot;},&quot;type&quot;:&quot;scattergeo&quot;,&quot;lat&quot;:[49.937843,49.967371584139],&quot;hoverinfo&quot;:&quot;none&quot;,&quot;lon&quot;:[-97.209788,-97.1559834424231]},{&quot;mode&quot;:&quot;lines&quot;,&quot;line&quot;:{&quot;color&quot;:&quot;black&quot;},&quot;type&quot;:&quot;scattergeo&quot;,&quot;lat&quot;:[49.906724,49.9041875372142],&quot;hoverinfo&quot;:&quot;none&quot;,&quot;lon&quot;:[-97.153982,-97.1466666962781]},{&quot;mode&quot;:&quot;lines&quot;,&quot;line&quot;:{&quot;color&quot;:&quot;black&quot;},&quot;type&quot;:&quot;scattergeo&quot;,&quot;lat&quot;:[49.8844,49.956763627294],&quot;hoverinfo&quot;:&quot;none&quot;,&quot;lon&quot;:[-97.14704,-97.1126084183615]},{&quot;mode&quot;:&quot;lines&quot;,&quot;line&quot;:{&quot;color&quot;:&quot;black&quot;},&quot;type&quot;:&quot;scattergeo&quot;,&quot;lat&quot;:[49.8844,49.815247321227],&quot;hoverinfo&quot;:&quot;none&quot;,&quot;lon&quot;:[-97.14704,-97.1530208040786]},{&quot;mode&quot;:&quot;lines&quot;,&quot;line&quot;:{&quot;color&quot;:&quot;black&quot;},&quot;type&quot;:&quot;scattergeo&quot;,&quot;lat&quot;:[43.679544,50.8573388683205],&quot;hoverinfo&quot;:&quot;none&quot;,&quot;lon&quot;:[-79.298336,-97.797425232004]},{&quot;mode&quot;:&quot;lines&quot;,&quot;line&quot;:{&quot;color&quot;:&quot;black&quot;},&quot;type&quot;:&quot;scattergeo&quot;,&quot;lat&quot;:[null,0.0],&quot;hoverinfo&quot;:&quot;none&quot;,&quot;lon&quot;:[null,0.0]},{&quot;mode&quot;:&quot;lines&quot;,&quot;line&quot;:{&quot;color&quot;:&quot;black&quot;},&quot;type&quot;:&quot;scattergeo&quot;,&quot;lat&quot;:[null,49.2786588938955],&quot;hoverinfo&quot;:&quot;none&quot;,&quot;lon&quot;:[null,-96.4733278772925]},{&quot;mode&quot;:&quot;lines&quot;,&quot;line&quot;:{&quot;color&quot;:&quot;black&quot;},&quot;type&quot;:&quot;scattergeo&quot;,&quot;lat&quot;:[49.84692,49.8406716578271],&quot;hoverinfo&quot;:&quot;none&quot;,&quot;lon&quot;:[-99.95306,-99.981400840747]},{&quot;mode&quot;:&quot;lines&quot;,&quot;line&quot;:{&quot;color&quot;:&quot;black&quot;},&quot;type&quot;:&quot;scattergeo&quot;,&quot;lat&quot;:[null,51.0473387247898],&quot;hoverinfo&quot;:&quot;none&quot;,&quot;lon&quot;:[null,-96.3178031764161]},{&quot;mode&quot;:&quot;lines&quot;,&quot;line&quot;:{&quot;color&quot;:&quot;black&quot;},&quot;type&quot;:&quot;scattergeo&quot;,&quot;lat&quot;:[null,51.0473387247898],&quot;hoverinfo&quot;:&quot;none&quot;,&quot;lon&quot;:[null,-96.3178031764161]},{&quot;mode&quot;:&quot;lines&quot;,&quot;line&quot;:{&quot;color&quot;:&quot;black&quot;},&quot;type&quot;:&quot;scattergeo&quot;,&quot;lat&quot;:[49.8844,49.9216401834937],&quot;hoverinfo&quot;:&quot;none&quot;,&quot;lon&quot;:[-97.14704,-96.9624729438158]},{&quot;mode&quot;:&quot;lines&quot;,&quot;line&quot;:{&quot;color&quot;:&quot;black&quot;},&quot;type&quot;:&quot;scattergeo&quot;,&quot;lat&quot;:[49.8844,49.815247321227],&quot;hoverinfo&quot;:&quot;none&quot;,&quot;lon&quot;:[-97.14704,-97.1530208040786]},{&quot;mode&quot;:&quot;lines&quot;,&quot;line&quot;:{&quot;color&quot;:&quot;black&quot;},&quot;type&quot;:&quot;scattergeo&quot;,&quot;lat&quot;:[49.878474,49.8734500204612],&quot;hoverinfo&quot;:&quot;none&quot;,&quot;lon&quot;:[-97.216024,-97.2995596807409]},{&quot;mode&quot;:&quot;lines&quot;,&quot;line&quot;:{&quot;color&quot;:&quot;black&quot;},&quot;type&quot;:&quot;scattergeo&quot;,&quot;lat&quot;:[49.8844,49.7490381026102],&quot;hoverinfo&quot;:&quot;none&quot;,&quot;lon&quot;:[-97.14704,-97.179578364092]},{&quot;mode&quot;:&quot;lines&quot;,&quot;line&quot;:{&quot;color&quot;:&quot;black&quot;},&quot;type&quot;:&quot;scattergeo&quot;,&quot;lat&quot;:[43.253854,51.0473387247898],&quot;hoverinfo&quot;:&quot;none&quot;,&quot;lon&quot;:[-79.862839,-96.3178031764161]},{&quot;mode&quot;:&quot;lines&quot;,&quot;line&quot;:{&quot;color&quot;:&quot;black&quot;},&quot;type&quot;:&quot;scattergeo&quot;,&quot;lat&quot;:[49.8844,49.8398976784109],&quot;hoverinfo&quot;:&quot;none&quot;,&quot;lon&quot;:[-97.14704,-97.1147932462383]},{&quot;mode&quot;:&quot;lines&quot;,&quot;line&quot;:{&quot;color&quot;:&quot;black&quot;},&quot;type&quot;:&quot;scattergeo&quot;,&quot;lat&quot;:[49.8844,49.9030174739611],&quot;hoverinfo&quot;:&quot;none&quot;,&quot;lon&quot;:[-97.14704,-97.2085643092654]},{&quot;mode&quot;:&quot;lines&quot;,&quot;line&quot;:{&quot;color&quot;:&quot;black&quot;},&quot;type&quot;:&quot;scattergeo&quot;,&quot;lat&quot;:[49.8844,49.8623491998175],&quot;hoverinfo&quot;:&quot;none&quot;,&quot;lon&quot;:[-97.14704,-97.1655013085463]},{&quot;mode&quot;:&quot;lines&quot;,&quot;line&quot;:{&quot;color&quot;:&quot;black&quot;},&quot;type&quot;:&quot;scattergeo&quot;,&quot;lat&quot;:[49.824498,49.8398976784109],&quot;hoverinfo&quot;:&quot;none&quot;,&quot;lon&quot;:[-97.102157,-97.1147932462383]},{&quot;mode&quot;:&quot;lines&quot;,&quot;line&quot;:{&quot;color&quot;:&quot;black&quot;},&quot;type&quot;:&quot;scattergeo&quot;,&quot;lat&quot;:[null,49.6892600620865],&quot;hoverinfo&quot;:&quot;none&quot;,&quot;lon&quot;:[null,-100.930436747744]},{&quot;mode&quot;:&quot;lines&quot;,&quot;line&quot;:{&quot;color&quot;:&quot;black&quot;},&quot;type&quot;:&quot;scattergeo&quot;,&quot;lat&quot;:[49.923179,49.956763627294],&quot;hoverinfo&quot;:&quot;none&quot;,&quot;lon&quot;:[-97.126986,-97.1126084183615]},{&quot;mode&quot;:&quot;lines&quot;,&quot;line&quot;:{&quot;color&quot;:&quot;black&quot;},&quot;type&quot;:&quot;scattergeo&quot;,&quot;lat&quot;:[49.853668,49.7844138289138],&quot;hoverinfo&quot;:&quot;none&quot;,&quot;lon&quot;:[-97.111622,-97.097847074096]},{&quot;mode&quot;:&quot;lines&quot;,&quot;line&quot;:{&quot;color&quot;:&quot;black&quot;},&quot;type&quot;:&quot;scattergeo&quot;,&quot;lat&quot;:[49.926932,49.9428476364164],&quot;hoverinfo&quot;:&quot;none&quot;,&quot;lon&quot;:[-97.105126,-97.0682276122556]},{&quot;mode&quot;:&quot;lines&quot;,&quot;line&quot;:{&quot;color&quot;:&quot;black&quot;},&quot;type&quot;:&quot;scattergeo&quot;,&quot;lat&quot;:[49.8844,49.815247321227],&quot;hoverinfo&quot;:&quot;none&quot;,&quot;lon&quot;:[-97.14704,-97.1530208040786]},{&quot;mode&quot;:&quot;lines&quot;,&quot;line&quot;:{&quot;color&quot;:&quot;black&quot;},&quot;type&quot;:&quot;scattergeo&quot;,&quot;lat&quot;:[49.868121,49.8651175625422],&quot;hoverinfo&quot;:&quot;none&quot;,&quot;lon&quot;:[-97.161405,-97.2041780002176]},{&quot;mode&quot;:&quot;lines&quot;,&quot;line&quot;:{&quot;color&quot;:&quot;black&quot;},&quot;type&quot;:&quot;scattergeo&quot;,&quot;lat&quot;:[49.8844,49.8546255598238],&quot;hoverinfo&quot;:&quot;none&quot;,&quot;lon&quot;:[-97.14704,-97.287282441911]},{&quot;mode&quot;:&quot;lines&quot;,&quot;line&quot;:{&quot;color&quot;:&quot;black&quot;},&quot;type&quot;:&quot;scattergeo&quot;,&quot;lat&quot;:[49.8844,49.9216210047124],&quot;hoverinfo&quot;:&quot;none&quot;,&quot;lon&quot;:[-97.14704,-97.084751904388]},{&quot;mode&quot;:&quot;lines&quot;,&quot;line&quot;:{&quot;color&quot;:&quot;black&quot;},&quot;type&quot;:&quot;scattergeo&quot;,&quot;lat&quot;:[49.8844,49.8978322535866],&quot;hoverinfo&quot;:&quot;none&quot;,&quot;lon&quot;:[-97.14704,-97.1400782950995]},{&quot;mode&quot;:&quot;lines&quot;,&quot;line&quot;:{&quot;color&quot;:&quot;black&quot;},&quot;type&quot;:&quot;scattergeo&quot;,&quot;lat&quot;:[49.896425,49.9085461037283],&quot;hoverinfo&quot;:&quot;none&quot;,&quot;lon&quot;:[-97.158997,-97.177989932005]},{&quot;mode&quot;:&quot;lines&quot;,&quot;line&quot;:{&quot;color&quot;:&quot;black&quot;},&quot;type&quot;:&quot;scattergeo&quot;,&quot;lat&quot;:[49.8844,49.815247321227],&quot;hoverinfo&quot;:&quot;none&quot;,&quot;lon&quot;:[-97.14704,-97.1530208040786]},{&quot;mode&quot;:&quot;lines&quot;,&quot;line&quot;:{&quot;color&quot;:&quot;black&quot;},&quot;type&quot;:&quot;scattergeo&quot;,&quot;lat&quot;:[49.8844,49.815247321227],&quot;hoverinfo&quot;:&quot;none&quot;,&quot;lon&quot;:[-97.14704,-97.1530208040786]},{&quot;mode&quot;:&quot;lines&quot;,&quot;line&quot;:{&quot;color&quot;:&quot;black&quot;},&quot;type&quot;:&quot;scattergeo&quot;,&quot;lat&quot;:[49.868121,49.8425075692549],&quot;hoverinfo&quot;:&quot;none&quot;,&quot;lon&quot;:[-97.161405,-97.2165857746472]},{&quot;mode&quot;:&quot;lines&quot;,&quot;line&quot;:{&quot;color&quot;:&quot;black&quot;},&quot;type&quot;:&quot;scattergeo&quot;,&quot;lat&quot;:[49.878474,49.8734500204612],&quot;hoverinfo&quot;:&quot;none&quot;,&quot;lon&quot;:[-97.216024,-97.2995596807409]},{&quot;mode&quot;:&quot;lines&quot;,&quot;line&quot;:{&quot;color&quot;:&quot;black&quot;},&quot;type&quot;:&quot;scattergeo&quot;,&quot;lat&quot;:[49.944074,49.967371584139],&quot;hoverinfo&quot;:&quot;none&quot;,&quot;lon&quot;:[-97.151758,-97.1559834424231]},{&quot;mode&quot;:&quot;lines&quot;,&quot;line&quot;:{&quot;color&quot;:&quot;black&quot;},&quot;type&quot;:&quot;scattergeo&quot;,&quot;lat&quot;:[49.856574,49.8546255598238],&quot;hoverinfo&quot;:&quot;none&quot;,&quot;lon&quot;:[-97.194067,-97.287282441911]},{&quot;mode&quot;:&quot;lines&quot;,&quot;line&quot;:{&quot;color&quot;:&quot;black&quot;},&quot;type&quot;:&quot;scattergeo&quot;,&quot;lat&quot;:[49.864279,49.8425075692549],&quot;hoverinfo&quot;:&quot;none&quot;,&quot;lon&quot;:[-97.206181,-97.2165857746472]},{&quot;mode&quot;:&quot;lines&quot;,&quot;line&quot;:{&quot;color&quot;:&quot;black&quot;},&quot;type&quot;:&quot;scattergeo&quot;,&quot;lat&quot;:[49.8844,49.7959671195233],&quot;hoverinfo&quot;:&quot;none&quot;,&quot;lon&quot;:[-97.14704,-97.1936027687693]},{&quot;mode&quot;:&quot;lines&quot;,&quot;line&quot;:{&quot;color&quot;:&quot;black&quot;},&quot;type&quot;:&quot;scattergeo&quot;,&quot;lat&quot;:[49.929974,49.956763627294],&quot;hoverinfo&quot;:&quot;none&quot;,&quot;lon&quot;:[-97.168025,-97.1126084183615]},{&quot;mode&quot;:&quot;lines&quot;,&quot;line&quot;:{&quot;color&quot;:&quot;black&quot;},&quot;type&quot;:&quot;scattergeo&quot;,&quot;lat&quot;:[49.896671,49.8881694617469],&quot;hoverinfo&quot;:&quot;none&quot;,&quot;lon&quot;:[-97.200368,-97.1814314509261]},{&quot;mode&quot;:&quot;lines&quot;,&quot;line&quot;:{&quot;color&quot;:&quot;black&quot;},&quot;type&quot;:&quot;scattergeo&quot;,&quot;lat&quot;:[49.8844,49.815247321227],&quot;hoverinfo&quot;:&quot;none&quot;,&quot;lon&quot;:[-97.14704,-97.1530208040786]},{&quot;mode&quot;:&quot;lines&quot;,&quot;line&quot;:{&quot;color&quot;:&quot;black&quot;},&quot;type&quot;:&quot;scattergeo&quot;,&quot;lat&quot;:[49.929974,49.956763627294],&quot;hoverinfo&quot;:&quot;none&quot;,&quot;lon&quot;:[-97.168025,-97.1126084183615]},{&quot;mode&quot;:&quot;lines&quot;,&quot;line&quot;:{&quot;color&quot;:&quot;black&quot;},&quot;type&quot;:&quot;scattergeo&quot;,&quot;lat&quot;:[49.901745,49.9041875372142],&quot;hoverinfo&quot;:&quot;none&quot;,&quot;lon&quot;:[-97.157485,-97.1466666962781]},{&quot;mode&quot;:&quot;lines&quot;,&quot;line&quot;:{&quot;color&quot;:&quot;black&quot;},&quot;type&quot;:&quot;scattergeo&quot;,&quot;lat&quot;:[49.8844,49.815247321227],&quot;hoverinfo&quot;:&quot;none&quot;,&quot;lon&quot;:[-97.14704,-97.1530208040786]},{&quot;mode&quot;:&quot;lines&quot;,&quot;line&quot;:{&quot;color&quot;:&quot;black&quot;},&quot;type&quot;:&quot;scattergeo&quot;,&quot;lat&quot;:[49.911708,49.9216210047124],&quot;hoverinfo&quot;:&quot;none&quot;,&quot;lon&quot;:[-97.053601,-97.084751904388]},{&quot;mode&quot;:&quot;lines&quot;,&quot;line&quot;:{&quot;color&quot;:&quot;black&quot;},&quot;type&quot;:&quot;scattergeo&quot;,&quot;lat&quot;:[49.890558,49.8175963840014],&quot;hoverinfo&quot;:&quot;none&quot;,&quot;lon&quot;:[-97.296427,-97.0543700485492]},{&quot;mode&quot;:&quot;lines&quot;,&quot;line&quot;:{&quot;color&quot;:&quot;black&quot;},&quot;type&quot;:&quot;scattergeo&quot;,&quot;lat&quot;:[49.8844,49.7959671195233],&quot;hoverinfo&quot;:&quot;none&quot;,&quot;lon&quot;:[-97.14704,-97.1936027687693]},{&quot;mode&quot;:&quot;lines&quot;,&quot;line&quot;:{&quot;color&quot;:&quot;black&quot;},&quot;type&quot;:&quot;scattergeo&quot;,&quot;lat&quot;:[49.89445,49.9173074257486],&quot;hoverinfo&quot;:&quot;none&quot;,&quot;lon&quot;:[-97.02527,-97.0387693609069]},{&quot;mode&quot;:&quot;lines&quot;,&quot;line&quot;:{&quot;color&quot;:&quot;black&quot;},&quot;type&quot;:&quot;scattergeo&quot;,&quot;lat&quot;:[49.948715,49.967371584139],&quot;hoverinfo&quot;:&quot;none&quot;,&quot;lon&quot;:[-97.132856,-97.1559834424231]},{&quot;mode&quot;:&quot;lines&quot;,&quot;line&quot;:{&quot;color&quot;:&quot;black&quot;},&quot;type&quot;:&quot;scattergeo&quot;,&quot;lat&quot;:[49.8844,49.815247321227],&quot;hoverinfo&quot;:&quot;none&quot;,&quot;lon&quot;:[-97.14704,-97.1530208040786]},{&quot;mode&quot;:&quot;lines&quot;,&quot;line&quot;:{&quot;color&quot;:&quot;black&quot;},&quot;type&quot;:&quot;scattergeo&quot;,&quot;lat&quot;:[49.8844,49.9195505643806],&quot;hoverinfo&quot;:&quot;none&quot;,&quot;lon&quot;:[-97.14704,-97.1349834808163]},{&quot;mode&quot;:&quot;lines&quot;,&quot;line&quot;:{&quot;color&quot;:&quot;black&quot;},&quot;type&quot;:&quot;scattergeo&quot;,&quot;lat&quot;:[49.878474,49.8734500204612],&quot;hoverinfo&quot;:&quot;none&quot;,&quot;lon&quot;:[-97.216024,-97.2995596807409]},{&quot;mode&quot;:&quot;lines&quot;,&quot;line&quot;:{&quot;color&quot;:&quot;black&quot;},&quot;type&quot;:&quot;scattergeo&quot;,&quot;lat&quot;:[49.8844,49.815247321227],&quot;hoverinfo&quot;:&quot;none&quot;,&quot;lon&quot;:[-97.14704,-97.1530208040786]},{&quot;mode&quot;:&quot;lines&quot;,&quot;line&quot;:{&quot;color&quot;:&quot;black&quot;},&quot;type&quot;:&quot;scattergeo&quot;,&quot;lat&quot;:[49.824498,49.8398976784109],&quot;hoverinfo&quot;:&quot;none&quot;,&quot;lon&quot;:[-97.102157,-97.1147932462383]},{&quot;mode&quot;:&quot;lines&quot;,&quot;line&quot;:{&quot;color&quot;:&quot;black&quot;},&quot;type&quot;:&quot;scattergeo&quot;,&quot;lat&quot;:[49.923179,50.0026996074731],&quot;hoverinfo&quot;:&quot;none&quot;,&quot;lon&quot;:[-97.126986,-97.260483095031]},{&quot;mode&quot;:&quot;lines&quot;,&quot;line&quot;:{&quot;color&quot;:&quot;black&quot;},&quot;type&quot;:&quot;scattergeo&quot;,&quot;lat&quot;:[49.868121,49.8425075692549],&quot;hoverinfo&quot;:&quot;none&quot;,&quot;lon&quot;:[-97.161405,-97.2165857746472]},{&quot;mode&quot;:&quot;lines&quot;,&quot;line&quot;:{&quot;color&quot;:&quot;black&quot;},&quot;type&quot;:&quot;scattergeo&quot;,&quot;lat&quot;:[49.954514,49.8850792463023],&quot;hoverinfo&quot;:&quot;none&quot;,&quot;lon&quot;:[-97.199626,-97.1170775188847]},{&quot;mode&quot;:&quot;lines&quot;,&quot;line&quot;:{&quot;color&quot;:&quot;black&quot;},&quot;type&quot;:&quot;scattergeo&quot;,&quot;lat&quot;:[49.8844,49.8881694617469],&quot;hoverinfo&quot;:&quot;none&quot;,&quot;lon&quot;:[-97.14704,-97.1814314509261]},{&quot;mode&quot;:&quot;lines&quot;,&quot;line&quot;:{&quot;color&quot;:&quot;black&quot;},&quot;type&quot;:&quot;scattergeo&quot;,&quot;lat&quot;:[49.8844,49.8546255598238],&quot;hoverinfo&quot;:&quot;none&quot;,&quot;lon&quot;:[-97.14704,-97.287282441911]},{&quot;mode&quot;:&quot;lines&quot;,&quot;line&quot;:{&quot;color&quot;:&quot;black&quot;},&quot;type&quot;:&quot;scattergeo&quot;,&quot;lat&quot;:[49.901087,49.9041875372142],&quot;hoverinfo&quot;:&quot;none&quot;,&quot;lon&quot;:[-97.157966,-97.1466666962781]},{&quot;mode&quot;:&quot;lines&quot;,&quot;line&quot;:{&quot;color&quot;:&quot;black&quot;},&quot;type&quot;:&quot;scattergeo&quot;,&quot;lat&quot;:[49.924533,49.9321075397755],&quot;hoverinfo&quot;:&quot;none&quot;,&quot;lon&quot;:[-97.195351,-97.1735542589426]},{&quot;mode&quot;:&quot;lines&quot;,&quot;line&quot;:{&quot;color&quot;:&quot;black&quot;},&quot;type&quot;:&quot;scattergeo&quot;,&quot;lat&quot;:[null,49.9810801901537],&quot;hoverinfo&quot;:&quot;none&quot;,&quot;lon&quot;:[null,-97.0150480190604]},{&quot;mode&quot;:&quot;lines&quot;,&quot;line&quot;:{&quot;color&quot;:&quot;black&quot;},&quot;type&quot;:&quot;scattergeo&quot;,&quot;lat&quot;:[49.864279,49.8425075692549],&quot;hoverinfo&quot;:&quot;none&quot;,&quot;lon&quot;:[-97.206181,-97.2165857746472]},{&quot;mode&quot;:&quot;lines&quot;,&quot;line&quot;:{&quot;color&quot;:&quot;black&quot;},&quot;type&quot;:&quot;scattergeo&quot;,&quot;lat&quot;:[49.8844,49.815247321227],&quot;hoverinfo&quot;:&quot;none&quot;,&quot;lon&quot;:[-97.14704,-97.1530208040786]},{&quot;mode&quot;:&quot;lines&quot;,&quot;line&quot;:{&quot;color&quot;:&quot;black&quot;},&quot;type&quot;:&quot;scattergeo&quot;,&quot;lat&quot;:[49.877823,49.7935270025983],&quot;hoverinfo&quot;:&quot;none&quot;,&quot;lon&quot;:[-99.961769,-99.9593823803396]},{&quot;mode&quot;:&quot;lines&quot;,&quot;line&quot;:{&quot;color&quot;:&quot;black&quot;},&quot;type&quot;:&quot;scattergeo&quot;,&quot;lat&quot;:[49.902623,49.9216401834937],&quot;hoverinfo&quot;:&quot;none&quot;,&quot;lon&quot;:[-97.065803,-96.9624729438158]},{&quot;mode&quot;:&quot;lines&quot;,&quot;line&quot;:{&quot;color&quot;:&quot;black&quot;},&quot;type&quot;:&quot;scattergeo&quot;,&quot;lat&quot;:[49.923179,49.956763627294],&quot;hoverinfo&quot;:&quot;none&quot;,&quot;lon&quot;:[-97.126986,-97.1126084183615]},{&quot;mode&quot;:&quot;lines&quot;,&quot;line&quot;:{&quot;color&quot;:&quot;black&quot;},&quot;type&quot;:&quot;scattergeo&quot;,&quot;lat&quot;:[49.818635,49.8398976784109],&quot;hoverinfo&quot;:&quot;none&quot;,&quot;lon&quot;:[-97.157206,-97.1147932462383]},{&quot;mode&quot;:&quot;lines&quot;,&quot;line&quot;:{&quot;color&quot;:&quot;black&quot;},&quot;type&quot;:&quot;scattergeo&quot;,&quot;lat&quot;:[49.878474,49.8734500204612],&quot;hoverinfo&quot;:&quot;none&quot;,&quot;lon&quot;:[-97.216024,-97.2995596807409]},{&quot;mode&quot;:&quot;lines&quot;,&quot;line&quot;:{&quot;color&quot;:&quot;black&quot;},&quot;type&quot;:&quot;scattergeo&quot;,&quot;lat&quot;:[49.8844,49.815247321227],&quot;hoverinfo&quot;:&quot;none&quot;,&quot;lon&quot;:[-97.14704,-97.1530208040786]},{&quot;mode&quot;:&quot;lines&quot;,&quot;line&quot;:{&quot;color&quot;:&quot;black&quot;},&quot;type&quot;:&quot;scattergeo&quot;,&quot;lat&quot;:[44.72159,51.0473387247898],&quot;hoverinfo&quot;:&quot;none&quot;,&quot;lon&quot;:[-76.56915,-96.3178031764161]},{&quot;mode&quot;:&quot;lines&quot;,&quot;line&quot;:{&quot;color&quot;:&quot;black&quot;},&quot;type&quot;:&quot;scattergeo&quot;,&quot;lat&quot;:[null,49.6501667851854],&quot;hoverinfo&quot;:&quot;none&quot;,&quot;lon&quot;:[null,-97.0927385025878]},{&quot;mode&quot;:&quot;lines&quot;,&quot;line&quot;:{&quot;color&quot;:&quot;black&quot;},&quot;type&quot;:&quot;scattergeo&quot;,&quot;lat&quot;:[null,49.4311206483548],&quot;hoverinfo&quot;:&quot;none&quot;,&quot;lon&quot;:[null,-98.0260802110283]},{&quot;mode&quot;:&quot;lines&quot;,&quot;line&quot;:{&quot;color&quot;:&quot;black&quot;},&quot;type&quot;:&quot;scattergeo&quot;,&quot;lat&quot;:[null,50.8573388683205],&quot;hoverinfo&quot;:&quot;none&quot;,&quot;lon&quot;:[null,-97.797425232004]},{&quot;mode&quot;:&quot;lines&quot;,&quot;line&quot;:{&quot;color&quot;:&quot;black&quot;},&quot;type&quot;:&quot;scattergeo&quot;,&quot;lat&quot;:[45.263492,49.2786588938955],&quot;hoverinfo&quot;:&quot;none&quot;,&quot;lon&quot;:[-75.287396,-96.4733278772925]},{&quot;mode&quot;:&quot;lines&quot;,&quot;line&quot;:{&quot;color&quot;:&quot;black&quot;},&quot;type&quot;:&quot;scattergeo&quot;,&quot;lat&quot;:[49.8844,49.7844138289138],&quot;hoverinfo&quot;:&quot;none&quot;,&quot;lon&quot;:[-97.14704,-97.097847074096]},{&quot;mode&quot;:&quot;lines&quot;,&quot;line&quot;:{&quot;color&quot;:&quot;black&quot;},&quot;type&quot;:&quot;scattergeo&quot;,&quot;lat&quot;:[null,52.3283909066327],&quot;hoverinfo&quot;:&quot;none&quot;,&quot;lon&quot;:[null,-98.7772322568499]},{&quot;mode&quot;:&quot;lines&quot;,&quot;line&quot;:{&quot;color&quot;:&quot;black&quot;},&quot;type&quot;:&quot;scattergeo&quot;,&quot;lat&quot;:[49.66969,50.8573388683205],&quot;hoverinfo&quot;:&quot;none&quot;,&quot;lon&quot;:[-96.65,-97.797425232004]},{&quot;mode&quot;:&quot;lines&quot;,&quot;line&quot;:{&quot;color&quot;:&quot;black&quot;},&quot;type&quot;:&quot;scattergeo&quot;,&quot;lat&quot;:[49.923179,49.956763627294],&quot;hoverinfo&quot;:&quot;none&quot;,&quot;lon&quot;:[-97.126986,-97.1126084183615]},{&quot;mode&quot;:&quot;lines&quot;,&quot;line&quot;:{&quot;color&quot;:&quot;black&quot;},&quot;type&quot;:&quot;scattergeo&quot;,&quot;lat&quot;:[49.911708,49.9216210047124],&quot;hoverinfo&quot;:&quot;none&quot;,&quot;lon&quot;:[-97.053601,-97.084751904388]},{&quot;mode&quot;:&quot;lines&quot;,&quot;line&quot;:{&quot;color&quot;:&quot;black&quot;},&quot;type&quot;:&quot;scattergeo&quot;,&quot;lat&quot;:[49.8844,49.815247321227],&quot;hoverinfo&quot;:&quot;none&quot;,&quot;lon&quot;:[-97.14704,-97.1530208040786]},{&quot;mode&quot;:&quot;lines&quot;,&quot;line&quot;:{&quot;color&quot;:&quot;black&quot;},&quot;type&quot;:&quot;scattergeo&quot;,&quot;lat&quot;:[49.8844,49.956763627294],&quot;hoverinfo&quot;:&quot;none&quot;,&quot;lon&quot;:[-97.14704,-97.1126084183615]},{&quot;mode&quot;:&quot;lines&quot;,&quot;line&quot;:{&quot;color&quot;:&quot;black&quot;},&quot;type&quot;:&quot;scattergeo&quot;,&quot;lat&quot;:[49.8844,49.8674348090377],&quot;hoverinfo&quot;:&quot;none&quot;,&quot;lon&quot;:[-97.14704,-97.1351286124883]},{&quot;mode&quot;:&quot;lines&quot;,&quot;line&quot;:{&quot;color&quot;:&quot;black&quot;},&quot;type&quot;:&quot;scattergeo&quot;,&quot;lat&quot;:[49.889043,49.8978322535866],&quot;hoverinfo&quot;:&quot;none&quot;,&quot;lon&quot;:[-97.152965,-97.1400782950995]},{&quot;mode&quot;:&quot;lines&quot;,&quot;line&quot;:{&quot;color&quot;:&quot;black&quot;},&quot;type&quot;:&quot;scattergeo&quot;,&quot;lat&quot;:[49.8844,49.9030174739611],&quot;hoverinfo&quot;:&quot;none&quot;,&quot;lon&quot;:[-97.14704,-97.2085643092654]},{&quot;mode&quot;:&quot;lines&quot;,&quot;line&quot;:{&quot;color&quot;:&quot;black&quot;},&quot;type&quot;:&quot;scattergeo&quot;,&quot;lat&quot;:[49.8844,49.8674348090377],&quot;hoverinfo&quot;:&quot;none&quot;,&quot;lon&quot;:[-97.14704,-97.1351286124883]},{&quot;mode&quot;:&quot;lines&quot;,&quot;line&quot;:{&quot;color&quot;:&quot;black&quot;},&quot;type&quot;:&quot;scattergeo&quot;,&quot;lat&quot;:[49.8844,49.815247321227],&quot;hoverinfo&quot;:&quot;none&quot;,&quot;lon&quot;:[-97.14704,-97.1530208040786]},{&quot;mode&quot;:&quot;lines&quot;,&quot;line&quot;:{&quot;color&quot;:&quot;black&quot;},&quot;type&quot;:&quot;scattergeo&quot;,&quot;lat&quot;:[49.8844,49.815247321227],&quot;hoverinfo&quot;:&quot;none&quot;,&quot;lon&quot;:[-97.14704,-97.1530208040786]},{&quot;mode&quot;:&quot;lines&quot;,&quot;line&quot;:{&quot;color&quot;:&quot;black&quot;},&quot;type&quot;:&quot;scattergeo&quot;,&quot;lat&quot;:[49.896552,49.9085461037283],&quot;hoverinfo&quot;:&quot;none&quot;,&quot;lon&quot;:[-97.163898,-97.177989932005]},{&quot;mode&quot;:&quot;lines&quot;,&quot;line&quot;:{&quot;color&quot;:&quot;black&quot;},&quot;type&quot;:&quot;scattergeo&quot;,&quot;lat&quot;:[49.878474,49.8734500204612],&quot;hoverinfo&quot;:&quot;none&quot;,&quot;lon&quot;:[-97.216024,-97.2995596807409]},{&quot;mode&quot;:&quot;lines&quot;,&quot;line&quot;:{&quot;color&quot;:&quot;black&quot;},&quot;type&quot;:&quot;scattergeo&quot;,&quot;lat&quot;:[49.929974,49.956763627294],&quot;hoverinfo&quot;:&quot;none&quot;,&quot;lon&quot;:[-97.168025,-97.1126084183615]},{&quot;mode&quot;:&quot;lines&quot;,&quot;line&quot;:{&quot;color&quot;:&quot;black&quot;},&quot;type&quot;:&quot;scattergeo&quot;,&quot;lat&quot;:[49.864279,49.8425075692549],&quot;hoverinfo&quot;:&quot;none&quot;,&quot;lon&quot;:[-97.206181,-97.2165857746472]},{&quot;mode&quot;:&quot;lines&quot;,&quot;line&quot;:{&quot;color&quot;:&quot;black&quot;},&quot;type&quot;:&quot;scattergeo&quot;,&quot;lat&quot;:[null,49.4311206483548],&quot;hoverinfo&quot;:&quot;none&quot;,&quot;lon&quot;:[null,-98.0260802110283]},{&quot;mode&quot;:&quot;lines&quot;,&quot;line&quot;:{&quot;color&quot;:&quot;black&quot;},&quot;type&quot;:&quot;scattergeo&quot;,&quot;lat&quot;:[49.8844,49.9030174739611],&quot;hoverinfo&quot;:&quot;none&quot;,&quot;lon&quot;:[-97.14704,-97.2085643092654]},{&quot;mode&quot;:&quot;lines&quot;,&quot;line&quot;:{&quot;color&quot;:&quot;black&quot;},&quot;type&quot;:&quot;scattergeo&quot;,&quot;lat&quot;:[50.659655,52.3283909066327],&quot;hoverinfo&quot;:&quot;none&quot;,&quot;lon&quot;:[-99.975127,-98.7772322568499]}],{&quot;showlegend&quot;:false,&quot;geo&quot;:{&quot;showland&quot;:true,&quot;subunitcolor&quot;:&quot;#d3d3d3&quot;,&quot;scope&quot;:&quot;north america&quot;,&quot;subunitwidth&quot;:1,&quot;landcolor&quot;:&quot;#EAEAAE&quot;,&quot;showlakes&quot;:true,&quot;rivercolor&quot;:&quot;#fff&quot;,&quot;countrywidth&quot;:1.5,&quot;resolution&quot;:50,&quot;countrycolor&quot;:&quot;#d3d3d3&quot;,&quot;showrivers&quot;:true,&quot;lakecolor&quot;:&quot;#fff&quot;},&quot;margin&quot;:{&quot;l&quot;:50,&quot;b&quot;:50,&quot;r&quot;:50,&quot;t&quot;:60},&quot;title&quot;:&quot;Canada population centres and pharmacies&quot;},{}); gd.on(&quot;plotly_hover&quot;,(function (data){var filtered_data=WebIO.CommandSets.Plotly.filterEventData(gd,data,&quot;hover&quot;); return !(filtered_data.isnil) ? (WebIO.setval({&quot;name&quot;:&quot;hover&quot;,&quot;scope&quot;:&quot;scope-57226ab5-272a-41be-a023-68af4c78d913&quot;,&quot;id&quot;:&quot;ob_01&quot;,&quot;type&quot;:&quot;observable&quot;},filtered_data.out)) : undefined})); gd.on(&quot;plotly_unhover&quot;,(function (){return WebIO.setval({&quot;name&quot;:&quot;hover&quot;,&quot;scope&quot;:&quot;scope-57226ab5-272a-41be-a023-68af4c78d913&quot;,&quot;id&quot;:&quot;ob_01&quot;,&quot;type&quot;:&quot;observable&quot;},{})})); gd.on(&quot;plotly_selected&quot;,(function (data){var filtered_data=WebIO.CommandSets.Plotly.filterEventData(gd,data,&quot;selected&quot;); return !(filtered_data.isnil) ? (WebIO.setval({&quot;name&quot;:&quot;selected&quot;,&quot;scope&quot;:&quot;scope-57226ab5-272a-41be-a023-68af4c78d913&quot;,&quot;id&quot;:&quot;ob_02&quot;,&quot;type&quot;:&quot;observable&quot;},filtered_data.out)) : undefined})); gd.on(&quot;plotly_deselect&quot;,(function (){return WebIO.setval({&quot;name&quot;:&quot;selected&quot;,&quot;scope&quot;:&quot;scope-57226ab5-272a-41be-a023-68af4c78d913&quot;,&quot;id&quot;:&quot;ob_02&quot;,&quot;type&quot;:&quot;observable&quot;},{})})); gd.on(&quot;plotly_relayout&quot;,(function (data){var filtered_data=WebIO.CommandSets.Plotly.filterEventData(gd,data,&quot;relayout&quot;); return !(filtered_data.isnil) ? (WebIO.setval({&quot;name&quot;:&quot;relayout&quot;,&quot;scope&quot;:&quot;scope-57226ab5-272a-41be-a023-68af4c78d913&quot;,&quot;id&quot;:&quot;ob_04&quot;,&quot;type&quot;:&quot;observable&quot;},filtered_data.out)) : undefined})); return gd.on(&quot;plotly_click&quot;,(function (data){var filtered_data=WebIO.CommandSets.Plotly.filterEventData(gd,data,&quot;click&quot;); return !(filtered_data.isnil) ? (WebIO.setval({&quot;name&quot;:&quot;click&quot;,&quot;scope&quot;:&quot;scope-57226ab5-272a-41be-a023-68af4c78d913&quot;,&quot;id&quot;:&quot;ob_03&quot;,&quot;type&quot;:&quot;observable&quot;},filtered_data.out)) : undefined}))})]},&quot;_downloadImage&quot;:[(function (options){return this.Plotly.downloadImage(this.plotElem,options)})],&quot;_commands&quot;:[(function (args){var fn=args.shift(); var elem=this.plotElem; var Plotly=this.Plotly; args.unshift(elem); return Plotly[fn].apply(this,args)})]},&quot;systemjs_options&quot;:null,&quot;observables&quot;:{&quot;_toImage&quot;:{&quot;sync&quot;:false,&quot;id&quot;:&quot;ob_08&quot;,&quot;value&quot;:{}},&quot;hover&quot;:{&quot;sync&quot;:false,&quot;id&quot;:&quot;ob_01&quot;,&quot;value&quot;:{}},&quot;selected&quot;:{&quot;sync&quot;:false,&quot;id&quot;:&quot;ob_02&quot;,&quot;value&quot;:{}},&quot;__gd_contents&quot;:{&quot;sync&quot;:false,&quot;id&quot;:&quot;ob_06&quot;,&quot;value&quot;:{}},&quot;click&quot;:{&quot;sync&quot;:false,&quot;id&quot;:&quot;ob_03&quot;,&quot;value&quot;:{}},&quot;image&quot;:{&quot;sync&quot;:true,&quot;id&quot;:&quot;ob_05&quot;,&quot;value&quot;:&quot;&quot;},&quot;__get_gd_contents&quot;:{&quot;sync&quot;:false,&quot;id&quot;:&quot;ob_10&quot;,&quot;value&quot;:&quot;&quot;},&quot;_downloadImage&quot;:{&quot;sync&quot;:false,&quot;id&quot;:&quot;ob_09&quot;,&quot;value&quot;:{}},&quot;relayout&quot;:{&quot;sync&quot;:false,&quot;id&quot;:&quot;ob_04&quot;,&quot;value&quot;:{}},&quot;_commands&quot;:{&quot;sync&quot;:false,&quot;id&quot;:&quot;ob_07&quot;,&quot;value&quot;:[]}}},&quot;children&quot;:[{&quot;props&quot;:{&quot;id&quot;:&quot;plot-370e9f2f-5b39-41ae-9ce4-d1c0b798f736&quot;},&quot;nodeType&quot;:&quot;DOM&quot;,&quot;type&quot;:&quot;node&quot;,&quot;instanceArgs&quot;:{&quot;namespace&quot;:&quot;html&quot;,&quot;tag&quot;:&quot;div&quot;},&quot;children&quot;:[]}]})</unsafe-script>"
      ],
      "text/plain": [
       "data: [\n",
       "  \"scattergeo with fields hoverinfo, lat, locationmode, lon, marker, text, and type\",\n",
       "  \"scattergeo with fields lat, lon, marker, and type\",\n",
       "  \"scattergeo with fields hoverinfo, lat, lon, marker, text, and type\",\n",
       "  \"scattergeo with fields hoverinfo, lat, line, lon, mode, and type\",\n",
       "  \"scattergeo with fields hoverinfo, lat, line, lon, mode, and type\",\n",
       "  \"scattergeo with fields hoverinfo, lat, line, lon, mode, and type\",\n",
       "  \"scattergeo with fields hoverinfo, lat, line, lon, mode, and type\",\n",
       "  \"scattergeo with fields hoverinfo, lat, line, lon, mode, and type\",\n",
       "  \"scattergeo with fields hoverinfo, lat, line, lon, mode, and type\",\n",
       "  \"scattergeo with fields hoverinfo, lat, line, lon, mode, and type\",\n",
       "  \"scattergeo with fields hoverinfo, lat, line, lon, mode, and type\",\n",
       "  \"scattergeo with fields hoverinfo, lat, line, lon, mode, and type\",\n",
       "  \"scattergeo with fields hoverinfo, lat, line, lon, mode, and type\",\n",
       "  \"scattergeo with fields hoverinfo, lat, line, lon, mode, and type\",\n",
       "  \"scattergeo with fields hoverinfo, lat, line, lon, mode, and type\",\n",
       "  \"scattergeo with fields hoverinfo, lat, line, lon, mode, and type\",\n",
       "  \"scattergeo with fields hoverinfo, lat, line, lon, mode, and type\",\n",
       "  \"scattergeo with fields hoverinfo, lat, line, lon, mode, and type\",\n",
       "  \"scattergeo with fields hoverinfo, lat, line, lon, mode, and type\",\n",
       "  \"scattergeo with fields hoverinfo, lat, line, lon, mode, and type\",\n",
       "  \"scattergeo with fields hoverinfo, lat, line, lon, mode, and type\",\n",
       "  \"scattergeo with fields hoverinfo, lat, line, lon, mode, and type\",\n",
       "  \"scattergeo with fields hoverinfo, lat, line, lon, mode, and type\",\n",
       "  \"scattergeo with fields hoverinfo, lat, line, lon, mode, and type\",\n",
       "  \"scattergeo with fields hoverinfo, lat, line, lon, mode, and type\",\n",
       "  \"scattergeo with fields hoverinfo, lat, line, lon, mode, and type\",\n",
       "  \"scattergeo with fields hoverinfo, lat, line, lon, mode, and type\",\n",
       "  \"scattergeo with fields hoverinfo, lat, line, lon, mode, and type\",\n",
       "  \"scattergeo with fields hoverinfo, lat, line, lon, mode, and type\",\n",
       "  \"scattergeo with fields hoverinfo, lat, line, lon, mode, and type\",\n",
       "  \"scattergeo with fields hoverinfo, lat, line, lon, mode, and type\",\n",
       "  \"scattergeo with fields hoverinfo, lat, line, lon, mode, and type\",\n",
       "  \"scattergeo with fields hoverinfo, lat, line, lon, mode, and type\",\n",
       "  \"scattergeo with fields hoverinfo, lat, line, lon, mode, and type\",\n",
       "  \"scattergeo with fields hoverinfo, lat, line, lon, mode, and type\",\n",
       "  \"scattergeo with fields hoverinfo, lat, line, lon, mode, and type\",\n",
       "  \"scattergeo with fields hoverinfo, lat, line, lon, mode, and type\",\n",
       "  \"scattergeo with fields hoverinfo, lat, line, lon, mode, and type\",\n",
       "  \"scattergeo with fields hoverinfo, lat, line, lon, mode, and type\",\n",
       "  \"scattergeo with fields hoverinfo, lat, line, lon, mode, and type\",\n",
       "  \"scattergeo with fields hoverinfo, lat, line, lon, mode, and type\",\n",
       "  \"scattergeo with fields hoverinfo, lat, line, lon, mode, and type\",\n",
       "  \"scattergeo with fields hoverinfo, lat, line, lon, mode, and type\",\n",
       "  \"scattergeo with fields hoverinfo, lat, line, lon, mode, and type\",\n",
       "  \"scattergeo with fields hoverinfo, lat, line, lon, mode, and type\",\n",
       "  \"scattergeo with fields hoverinfo, lat, line, lon, mode, and type\",\n",
       "  \"scattergeo with fields hoverinfo, lat, line, lon, mode, and type\",\n",
       "  \"scattergeo with fields hoverinfo, lat, line, lon, mode, and type\",\n",
       "  \"scattergeo with fields hoverinfo, lat, line, lon, mode, and type\",\n",
       "  \"scattergeo with fields hoverinfo, lat, line, lon, mode, and type\",\n",
       "  \"scattergeo with fields hoverinfo, lat, line, lon, mode, and type\",\n",
       "  \"scattergeo with fields hoverinfo, lat, line, lon, mode, and type\",\n",
       "  \"scattergeo with fields hoverinfo, lat, line, lon, mode, and type\",\n",
       "  \"scattergeo with fields hoverinfo, lat, line, lon, mode, and type\",\n",
       "  \"scattergeo with fields hoverinfo, lat, line, lon, mode, and type\",\n",
       "  \"scattergeo with fields hoverinfo, lat, line, lon, mode, and type\",\n",
       "  \"scattergeo with fields hoverinfo, lat, line, lon, mode, and type\",\n",
       "  \"scattergeo with fields hoverinfo, lat, line, lon, mode, and type\",\n",
       "  \"scattergeo with fields hoverinfo, lat, line, lon, mode, and type\",\n",
       "  \"scattergeo with fields hoverinfo, lat, line, lon, mode, and type\",\n",
       "  \"scattergeo with fields hoverinfo, lat, line, lon, mode, and type\",\n",
       "  \"scattergeo with fields hoverinfo, lat, line, lon, mode, and type\",\n",
       "  \"scattergeo with fields hoverinfo, lat, line, lon, mode, and type\",\n",
       "  \"scattergeo with fields hoverinfo, lat, line, lon, mode, and type\",\n",
       "  \"scattergeo with fields hoverinfo, lat, line, lon, mode, and type\",\n",
       "  \"scattergeo with fields hoverinfo, lat, line, lon, mode, and type\",\n",
       "  \"scattergeo with fields hoverinfo, lat, line, lon, mode, and type\",\n",
       "  \"scattergeo with fields hoverinfo, lat, line, lon, mode, and type\",\n",
       "  \"scattergeo with fields hoverinfo, lat, line, lon, mode, and type\",\n",
       "  \"scattergeo with fields hoverinfo, lat, line, lon, mode, and type\",\n",
       "  \"scattergeo with fields hoverinfo, lat, line, lon, mode, and type\",\n",
       "  \"scattergeo with fields hoverinfo, lat, line, lon, mode, and type\",\n",
       "  \"scattergeo with fields hoverinfo, lat, line, lon, mode, and type\",\n",
       "  \"scattergeo with fields hoverinfo, lat, line, lon, mode, and type\",\n",
       "  \"scattergeo with fields hoverinfo, lat, line, lon, mode, and type\",\n",
       "  \"scattergeo with fields hoverinfo, lat, line, lon, mode, and type\",\n",
       "  \"scattergeo with fields hoverinfo, lat, line, lon, mode, and type\",\n",
       "  \"scattergeo with fields hoverinfo, lat, line, lon, mode, and type\",\n",
       "  \"scattergeo with fields hoverinfo, lat, line, lon, mode, and type\",\n",
       "  \"scattergeo with fields hoverinfo, lat, line, lon, mode, and type\",\n",
       "  \"scattergeo with fields hoverinfo, lat, line, lon, mode, and type\",\n",
       "  \"scattergeo with fields hoverinfo, lat, line, lon, mode, and type\",\n",
       "  \"scattergeo with fields hoverinfo, lat, line, lon, mode, and type\",\n",
       "  \"scattergeo with fields hoverinfo, lat, line, lon, mode, and type\",\n",
       "  \"scattergeo with fields hoverinfo, lat, line, lon, mode, and type\",\n",
       "  \"scattergeo with fields hoverinfo, lat, line, lon, mode, and type\",\n",
       "  \"scattergeo with fields hoverinfo, lat, line, lon, mode, and type\",\n",
       "  \"scattergeo with fields hoverinfo, lat, line, lon, mode, and type\",\n",
       "  \"scattergeo with fields hoverinfo, lat, line, lon, mode, and type\",\n",
       "  \"scattergeo with fields hoverinfo, lat, line, lon, mode, and type\",\n",
       "  \"scattergeo with fields hoverinfo, lat, line, lon, mode, and type\",\n",
       "  \"scattergeo with fields hoverinfo, lat, line, lon, mode, and type\",\n",
       "  \"scattergeo with fields hoverinfo, lat, line, lon, mode, and type\",\n",
       "  \"scattergeo with fields hoverinfo, lat, line, lon, mode, and type\",\n",
       "  \"scattergeo with fields hoverinfo, lat, line, lon, mode, and type\",\n",
       "  \"scattergeo with fields hoverinfo, lat, line, lon, mode, and type\",\n",
       "  \"scattergeo with fields hoverinfo, lat, line, lon, mode, and type\",\n",
       "  \"scattergeo with fields hoverinfo, lat, line, lon, mode, and type\",\n",
       "  \"scattergeo with fields hoverinfo, lat, line, lon, mode, and type\",\n",
       "  \"scattergeo with fields hoverinfo, lat, line, lon, mode, and type\",\n",
       "  \"scattergeo with fields hoverinfo, lat, line, lon, mode, and type\",\n",
       "  \"scattergeo with fields hoverinfo, lat, line, lon, mode, and type\",\n",
       "  \"scattergeo with fields hoverinfo, lat, line, lon, mode, and type\",\n",
       "  \"scattergeo with fields hoverinfo, lat, line, lon, mode, and type\",\n",
       "  \"scattergeo with fields hoverinfo, lat, line, lon, mode, and type\",\n",
       "  \"scattergeo with fields hoverinfo, lat, line, lon, mode, and type\",\n",
       "  \"scattergeo with fields hoverinfo, lat, line, lon, mode, and type\",\n",
       "  \"scattergeo with fields hoverinfo, lat, line, lon, mode, and type\",\n",
       "  \"scattergeo with fields hoverinfo, lat, line, lon, mode, and type\",\n",
       "  \"scattergeo with fields hoverinfo, lat, line, lon, mode, and type\",\n",
       "  \"scattergeo with fields hoverinfo, lat, line, lon, mode, and type\",\n",
       "  \"scattergeo with fields hoverinfo, lat, line, lon, mode, and type\",\n",
       "  \"scattergeo with fields hoverinfo, lat, line, lon, mode, and type\",\n",
       "  \"scattergeo with fields hoverinfo, lat, line, lon, mode, and type\",\n",
       "  \"scattergeo with fields hoverinfo, lat, line, lon, mode, and type\",\n",
       "  \"scattergeo with fields hoverinfo, lat, line, lon, mode, and type\",\n",
       "  \"scattergeo with fields hoverinfo, lat, line, lon, mode, and type\",\n",
       "  \"scattergeo with fields hoverinfo, lat, line, lon, mode, and type\",\n",
       "  \"scattergeo with fields hoverinfo, lat, line, lon, mode, and type\",\n",
       "  \"scattergeo with fields hoverinfo, lat, line, lon, mode, and type\",\n",
       "  \"scattergeo with fields hoverinfo, lat, line, lon, mode, and type\",\n",
       "  \"scattergeo with fields hoverinfo, lat, line, lon, mode, and type\",\n",
       "  \"scattergeo with fields hoverinfo, lat, line, lon, mode, and type\",\n",
       "  \"scattergeo with fields hoverinfo, lat, line, lon, mode, and type\",\n",
       "  \"scattergeo with fields hoverinfo, lat, line, lon, mode, and type\",\n",
       "  \"scattergeo with fields hoverinfo, lat, line, lon, mode, and type\",\n",
       "  \"scattergeo with fields hoverinfo, lat, line, lon, mode, and type\",\n",
       "  \"scattergeo with fields hoverinfo, lat, line, lon, mode, and type\",\n",
       "  \"scattergeo with fields hoverinfo, lat, line, lon, mode, and type\",\n",
       "  \"scattergeo with fields hoverinfo, lat, line, lon, mode, and type\",\n",
       "  \"scattergeo with fields hoverinfo, lat, line, lon, mode, and type\",\n",
       "  \"scattergeo with fields hoverinfo, lat, line, lon, mode, and type\",\n",
       "  \"scattergeo with fields hoverinfo, lat, line, lon, mode, and type\",\n",
       "  \"scattergeo with fields hoverinfo, lat, line, lon, mode, and type\",\n",
       "  \"scattergeo with fields hoverinfo, lat, line, lon, mode, and type\",\n",
       "  \"scattergeo with fields hoverinfo, lat, line, lon, mode, and type\",\n",
       "  \"scattergeo with fields hoverinfo, lat, line, lon, mode, and type\",\n",
       "  \"scattergeo with fields hoverinfo, lat, line, lon, mode, and type\",\n",
       "  \"scattergeo with fields hoverinfo, lat, line, lon, mode, and type\",\n",
       "  \"scattergeo with fields hoverinfo, lat, line, lon, mode, and type\",\n",
       "  \"scattergeo with fields hoverinfo, lat, line, lon, mode, and type\",\n",
       "  \"scattergeo with fields hoverinfo, lat, line, lon, mode, and type\",\n",
       "  \"scattergeo with fields hoverinfo, lat, line, lon, mode, and type\",\n",
       "  \"scattergeo with fields hoverinfo, lat, line, lon, mode, and type\",\n",
       "  \"scattergeo with fields hoverinfo, lat, line, lon, mode, and type\",\n",
       "  \"scattergeo with fields hoverinfo, lat, line, lon, mode, and type\",\n",
       "  \"scattergeo with fields hoverinfo, lat, line, lon, mode, and type\",\n",
       "  \"scattergeo with fields hoverinfo, lat, line, lon, mode, and type\",\n",
       "  \"scattergeo with fields hoverinfo, lat, line, lon, mode, and type\",\n",
       "  \"scattergeo with fields hoverinfo, lat, line, lon, mode, and type\",\n",
       "  \"scattergeo with fields hoverinfo, lat, line, lon, mode, and type\",\n",
       "  \"scattergeo with fields hoverinfo, lat, line, lon, mode, and type\",\n",
       "  \"scattergeo with fields hoverinfo, lat, line, lon, mode, and type\",\n",
       "  \"scattergeo with fields hoverinfo, lat, line, lon, mode, and type\",\n",
       "  \"scattergeo with fields hoverinfo, lat, line, lon, mode, and type\",\n",
       "  \"scattergeo with fields hoverinfo, lat, line, lon, mode, and type\",\n",
       "  \"scattergeo with fields hoverinfo, lat, line, lon, mode, and type\",\n",
       "  \"scattergeo with fields hoverinfo, lat, line, lon, mode, and type\",\n",
       "  \"scattergeo with fields hoverinfo, lat, line, lon, mode, and type\",\n",
       "  \"scattergeo with fields hoverinfo, lat, line, lon, mode, and type\",\n",
       "  \"scattergeo with fields hoverinfo, lat, line, lon, mode, and type\",\n",
       "  \"scattergeo with fields hoverinfo, lat, line, lon, mode, and type\",\n",
       "  \"scattergeo with fields hoverinfo, lat, line, lon, mode, and type\",\n",
       "  \"scattergeo with fields hoverinfo, lat, line, lon, mode, and type\",\n",
       "  \"scattergeo with fields hoverinfo, lat, line, lon, mode, and type\",\n",
       "  \"scattergeo with fields hoverinfo, lat, line, lon, mode, and type\",\n",
       "  \"scattergeo with fields hoverinfo, lat, line, lon, mode, and type\",\n",
       "  \"scattergeo with fields hoverinfo, lat, line, lon, mode, and type\",\n",
       "  \"scattergeo with fields hoverinfo, lat, line, lon, mode, and type\",\n",
       "  \"scattergeo with fields hoverinfo, lat, line, lon, mode, and type\",\n",
       "  \"scattergeo with fields hoverinfo, lat, line, lon, mode, and type\",\n",
       "  \"scattergeo with fields hoverinfo, lat, line, lon, mode, and type\",\n",
       "  \"scattergeo with fields hoverinfo, lat, line, lon, mode, and type\",\n",
       "  \"scattergeo with fields hoverinfo, lat, line, lon, mode, and type\",\n",
       "  \"scattergeo with fields hoverinfo, lat, line, lon, mode, and type\",\n",
       "  \"scattergeo with fields hoverinfo, lat, line, lon, mode, and type\",\n",
       "  \"scattergeo with fields hoverinfo, lat, line, lon, mode, and type\",\n",
       "  \"scattergeo with fields hoverinfo, lat, line, lon, mode, and type\",\n",
       "  \"scattergeo with fields hoverinfo, lat, line, lon, mode, and type\",\n",
       "  \"scattergeo with fields hoverinfo, lat, line, lon, mode, and type\",\n",
       "  \"scattergeo with fields hoverinfo, lat, line, lon, mode, and type\",\n",
       "  \"scattergeo with fields hoverinfo, lat, line, lon, mode, and type\",\n",
       "  \"scattergeo with fields hoverinfo, lat, line, lon, mode, and type\",\n",
       "  \"scattergeo with fields hoverinfo, lat, line, lon, mode, and type\",\n",
       "  \"scattergeo with fields hoverinfo, lat, line, lon, mode, and type\",\n",
       "  \"scattergeo with fields hoverinfo, lat, line, lon, mode, and type\",\n",
       "  \"scattergeo with fields hoverinfo, lat, line, lon, mode, and type\",\n",
       "  \"scattergeo with fields hoverinfo, lat, line, lon, mode, and type\",\n",
       "  \"scattergeo with fields hoverinfo, lat, line, lon, mode, and type\",\n",
       "  \"scattergeo with fields hoverinfo, lat, line, lon, mode, and type\",\n",
       "  \"scattergeo with fields hoverinfo, lat, line, lon, mode, and type\",\n",
       "  \"scattergeo with fields hoverinfo, lat, line, lon, mode, and type\",\n",
       "  \"scattergeo with fields hoverinfo, lat, line, lon, mode, and type\",\n",
       "  \"scattergeo with fields hoverinfo, lat, line, lon, mode, and type\",\n",
       "  \"scattergeo with fields hoverinfo, lat, line, lon, mode, and type\",\n",
       "  \"scattergeo with fields hoverinfo, lat, line, lon, mode, and type\",\n",
       "  \"scattergeo with fields hoverinfo, lat, line, lon, mode, and type\",\n",
       "  \"scattergeo with fields hoverinfo, lat, line, lon, mode, and type\",\n",
       "  \"scattergeo with fields hoverinfo, lat, line, lon, mode, and type\",\n",
       "  \"scattergeo with fields hoverinfo, lat, line, lon, mode, and type\",\n",
       "  \"scattergeo with fields hoverinfo, lat, line, lon, mode, and type\",\n",
       "  \"scattergeo with fields hoverinfo, lat, line, lon, mode, and type\",\n",
       "  \"scattergeo with fields hoverinfo, lat, line, lon, mode, and type\",\n",
       "  \"scattergeo with fields hoverinfo, lat, line, lon, mode, and type\",\n",
       "  \"scattergeo with fields hoverinfo, lat, line, lon, mode, and type\",\n",
       "  \"scattergeo with fields hoverinfo, lat, line, lon, mode, and type\",\n",
       "  \"scattergeo with fields hoverinfo, lat, line, lon, mode, and type\",\n",
       "  \"scattergeo with fields hoverinfo, lat, line, lon, mode, and type\",\n",
       "  \"scattergeo with fields hoverinfo, lat, line, lon, mode, and type\",\n",
       "  \"scattergeo with fields hoverinfo, lat, line, lon, mode, and type\",\n",
       "  \"scattergeo with fields hoverinfo, lat, line, lon, mode, and type\",\n",
       "  \"scattergeo with fields hoverinfo, lat, line, lon, mode, and type\",\n",
       "  \"scattergeo with fields hoverinfo, lat, line, lon, mode, and type\",\n",
       "  \"scattergeo with fields hoverinfo, lat, line, lon, mode, and type\",\n",
       "  \"scattergeo with fields hoverinfo, lat, line, lon, mode, and type\",\n",
       "  \"scattergeo with fields hoverinfo, lat, line, lon, mode, and type\",\n",
       "  \"scattergeo with fields hoverinfo, lat, line, lon, mode, and type\",\n",
       "  \"scattergeo with fields hoverinfo, lat, line, lon, mode, and type\",\n",
       "  \"scattergeo with fields hoverinfo, lat, line, lon, mode, and type\",\n",
       "  \"scattergeo with fields hoverinfo, lat, line, lon, mode, and type\",\n",
       "  \"scattergeo with fields hoverinfo, lat, line, lon, mode, and type\",\n",
       "  \"scattergeo with fields hoverinfo, lat, line, lon, mode, and type\",\n",
       "  \"scattergeo with fields hoverinfo, lat, line, lon, mode, and type\",\n",
       "  \"scattergeo with fields hoverinfo, lat, line, lon, mode, and type\",\n",
       "  \"scattergeo with fields hoverinfo, lat, line, lon, mode, and type\",\n",
       "  \"scattergeo with fields hoverinfo, lat, line, lon, mode, and type\",\n",
       "  \"scattergeo with fields hoverinfo, lat, line, lon, mode, and type\",\n",
       "  \"scattergeo with fields hoverinfo, lat, line, lon, mode, and type\",\n",
       "  \"scattergeo with fields hoverinfo, lat, line, lon, mode, and type\",\n",
       "  \"scattergeo with fields hoverinfo, lat, line, lon, mode, and type\",\n",
       "  \"scattergeo with fields hoverinfo, lat, line, lon, mode, and type\",\n",
       "  \"scattergeo with fields hoverinfo, lat, line, lon, mode, and type\",\n",
       "  \"scattergeo with fields hoverinfo, lat, line, lon, mode, and type\",\n",
       "  \"scattergeo with fields hoverinfo, lat, line, lon, mode, and type\",\n",
       "  \"scattergeo with fields hoverinfo, lat, line, lon, mode, and type\",\n",
       "  \"scattergeo with fields hoverinfo, lat, line, lon, mode, and type\",\n",
       "  \"scattergeo with fields hoverinfo, lat, line, lon, mode, and type\",\n",
       "  \"scattergeo with fields hoverinfo, lat, line, lon, mode, and type\",\n",
       "  \"scattergeo with fields hoverinfo, lat, line, lon, mode, and type\",\n",
       "  \"scattergeo with fields hoverinfo, lat, line, lon, mode, and type\",\n",
       "  \"scattergeo with fields hoverinfo, lat, line, lon, mode, and type\",\n",
       "  \"scattergeo with fields hoverinfo, lat, line, lon, mode, and type\",\n",
       "  \"scattergeo with fields hoverinfo, lat, line, lon, mode, and type\",\n",
       "  \"scattergeo with fields hoverinfo, lat, line, lon, mode, and type\",\n",
       "  \"scattergeo with fields hoverinfo, lat, line, lon, mode, and type\",\n",
       "  \"scattergeo with fields hoverinfo, lat, line, lon, mode, and type\",\n",
       "  \"scattergeo with fields hoverinfo, lat, line, lon, mode, and type\",\n",
       "  \"scattergeo with fields hoverinfo, lat, line, lon, mode, and type\",\n",
       "  \"scattergeo with fields hoverinfo, lat, line, lon, mode, and type\",\n",
       "  \"scattergeo with fields hoverinfo, lat, line, lon, mode, and type\",\n",
       "  \"scattergeo with fields hoverinfo, lat, line, lon, mode, and type\",\n",
       "  \"scattergeo with fields hoverinfo, lat, line, lon, mode, and type\",\n",
       "  \"scattergeo with fields hoverinfo, lat, line, lon, mode, and type\",\n",
       "  \"scattergeo with fields hoverinfo, lat, line, lon, mode, and type\",\n",
       "  \"scattergeo with fields hoverinfo, lat, line, lon, mode, and type\",\n",
       "  \"scattergeo with fields hoverinfo, lat, line, lon, mode, and type\",\n",
       "  \"scattergeo with fields hoverinfo, lat, line, lon, mode, and type\",\n",
       "  \"scattergeo with fields hoverinfo, lat, line, lon, mode, and type\",\n",
       "  \"scattergeo with fields hoverinfo, lat, line, lon, mode, and type\",\n",
       "  \"scattergeo with fields hoverinfo, lat, line, lon, mode, and type\",\n",
       "  \"scattergeo with fields hoverinfo, lat, line, lon, mode, and type\",\n",
       "  \"scattergeo with fields hoverinfo, lat, line, lon, mode, and type\",\n",
       "  \"scattergeo with fields hoverinfo, lat, line, lon, mode, and type\",\n",
       "  \"scattergeo with fields hoverinfo, lat, line, lon, mode, and type\",\n",
       "  \"scattergeo with fields hoverinfo, lat, line, lon, mode, and type\",\n",
       "  \"scattergeo with fields hoverinfo, lat, line, lon, mode, and type\",\n",
       "  \"scattergeo with fields hoverinfo, lat, line, lon, mode, and type\",\n",
       "  \"scattergeo with fields hoverinfo, lat, line, lon, mode, and type\",\n",
       "  \"scattergeo with fields hoverinfo, lat, line, lon, mode, and type\",\n",
       "  \"scattergeo with fields hoverinfo, lat, line, lon, mode, and type\",\n",
       "  \"scattergeo with fields hoverinfo, lat, line, lon, mode, and type\",\n",
       "  \"scattergeo with fields hoverinfo, lat, line, lon, mode, and type\",\n",
       "  \"scattergeo with fields hoverinfo, lat, line, lon, mode, and type\",\n",
       "  \"scattergeo with fields hoverinfo, lat, line, lon, mode, and type\",\n",
       "  \"scattergeo with fields hoverinfo, lat, line, lon, mode, and type\",\n",
       "  \"scattergeo with fields hoverinfo, lat, line, lon, mode, and type\",\n",
       "  \"scattergeo with fields hoverinfo, lat, line, lon, mode, and type\",\n",
       "  \"scattergeo with fields hoverinfo, lat, line, lon, mode, and type\",\n",
       "  \"scattergeo with fields hoverinfo, lat, line, lon, mode, and type\",\n",
       "  \"scattergeo with fields hoverinfo, lat, line, lon, mode, and type\",\n",
       "  \"scattergeo with fields hoverinfo, lat, line, lon, mode, and type\",\n",
       "  \"scattergeo with fields hoverinfo, lat, line, lon, mode, and type\",\n",
       "  \"scattergeo with fields hoverinfo, lat, line, lon, mode, and type\",\n",
       "  \"scattergeo with fields hoverinfo, lat, line, lon, mode, and type\",\n",
       "  \"scattergeo with fields hoverinfo, lat, line, lon, mode, and type\",\n",
       "  \"scattergeo with fields hoverinfo, lat, line, lon, mode, and type\",\n",
       "  \"scattergeo with fields hoverinfo, lat, line, lon, mode, and type\",\n",
       "  \"scattergeo with fields hoverinfo, lat, line, lon, mode, and type\",\n",
       "  \"scattergeo with fields hoverinfo, lat, line, lon, mode, and type\",\n",
       "  \"scattergeo with fields hoverinfo, lat, line, lon, mode, and type\",\n",
       "  \"scattergeo with fields hoverinfo, lat, line, lon, mode, and type\",\n",
       "  \"scattergeo with fields hoverinfo, lat, line, lon, mode, and type\",\n",
       "  \"scattergeo with fields hoverinfo, lat, line, lon, mode, and type\",\n",
       "  \"scattergeo with fields hoverinfo, lat, line, lon, mode, and type\",\n",
       "  \"scattergeo with fields hoverinfo, lat, line, lon, mode, and type\",\n",
       "  \"scattergeo with fields hoverinfo, lat, line, lon, mode, and type\",\n",
       "  \"scattergeo with fields hoverinfo, lat, line, lon, mode, and type\",\n",
       "  \"scattergeo with fields hoverinfo, lat, line, lon, mode, and type\",\n",
       "  \"scattergeo with fields hoverinfo, lat, line, lon, mode, and type\",\n",
       "  \"scattergeo with fields hoverinfo, lat, line, lon, mode, and type\",\n",
       "  \"scattergeo with fields hoverinfo, lat, line, lon, mode, and type\",\n",
       "  \"scattergeo with fields hoverinfo, lat, line, lon, mode, and type\",\n",
       "  \"scattergeo with fields hoverinfo, lat, line, lon, mode, and type\",\n",
       "  \"scattergeo with fields hoverinfo, lat, line, lon, mode, and type\",\n",
       "  \"scattergeo with fields hoverinfo, lat, line, lon, mode, and type\",\n",
       "  \"scattergeo with fields hoverinfo, lat, line, lon, mode, and type\",\n",
       "  \"scattergeo with fields hoverinfo, lat, line, lon, mode, and type\",\n",
       "  \"scattergeo with fields hoverinfo, lat, line, lon, mode, and type\",\n",
       "  \"scattergeo with fields hoverinfo, lat, line, lon, mode, and type\",\n",
       "  \"scattergeo with fields hoverinfo, lat, line, lon, mode, and type\",\n",
       "  \"scattergeo with fields hoverinfo, lat, line, lon, mode, and type\",\n",
       "  \"scattergeo with fields hoverinfo, lat, line, lon, mode, and type\",\n",
       "  \"scattergeo with fields hoverinfo, lat, line, lon, mode, and type\",\n",
       "  \"scattergeo with fields hoverinfo, lat, line, lon, mode, and type\",\n",
       "  \"scattergeo with fields hoverinfo, lat, line, lon, mode, and type\",\n",
       "  \"scattergeo with fields hoverinfo, lat, line, lon, mode, and type\",\n",
       "  \"scattergeo with fields hoverinfo, lat, line, lon, mode, and type\",\n",
       "  \"scattergeo with fields hoverinfo, lat, line, lon, mode, and type\",\n",
       "  \"scattergeo with fields hoverinfo, lat, line, lon, mode, and type\",\n",
       "  \"scattergeo with fields hoverinfo, lat, line, lon, mode, and type\",\n",
       "  \"scattergeo with fields hoverinfo, lat, line, lon, mode, and type\",\n",
       "  \"scattergeo with fields hoverinfo, lat, line, lon, mode, and type\",\n",
       "  \"scattergeo with fields hoverinfo, lat, line, lon, mode, and type\",\n",
       "  \"scattergeo with fields hoverinfo, lat, line, lon, mode, and type\",\n",
       "  \"scattergeo with fields hoverinfo, lat, line, lon, mode, and type\",\n",
       "  \"scattergeo with fields hoverinfo, lat, line, lon, mode, and type\",\n",
       "  \"scattergeo with fields hoverinfo, lat, line, lon, mode, and type\",\n",
       "  \"scattergeo with fields hoverinfo, lat, line, lon, mode, and type\",\n",
       "  \"scattergeo with fields hoverinfo, lat, line, lon, mode, and type\",\n",
       "  \"scattergeo with fields hoverinfo, lat, line, lon, mode, and type\",\n",
       "  \"scattergeo with fields hoverinfo, lat, line, lon, mode, and type\",\n",
       "  \"scattergeo with fields hoverinfo, lat, line, lon, mode, and type\",\n",
       "  \"scattergeo with fields hoverinfo, lat, line, lon, mode, and type\",\n",
       "  \"scattergeo with fields hoverinfo, lat, line, lon, mode, and type\",\n",
       "  \"scattergeo with fields hoverinfo, lat, line, lon, mode, and type\",\n",
       "  \"scattergeo with fields hoverinfo, lat, line, lon, mode, and type\",\n",
       "  \"scattergeo with fields hoverinfo, lat, line, lon, mode, and type\",\n",
       "  \"scattergeo with fields hoverinfo, lat, line, lon, mode, and type\",\n",
       "  \"scattergeo with fields hoverinfo, lat, line, lon, mode, and type\",\n",
       "  \"scattergeo with fields hoverinfo, lat, line, lon, mode, and type\",\n",
       "  \"scattergeo with fields hoverinfo, lat, line, lon, mode, and type\",\n",
       "  \"scattergeo with fields hoverinfo, lat, line, lon, mode, and type\",\n",
       "  \"scattergeo with fields hoverinfo, lat, line, lon, mode, and type\",\n",
       "  \"scattergeo with fields hoverinfo, lat, line, lon, mode, and type\",\n",
       "  \"scattergeo with fields hoverinfo, lat, line, lon, mode, and type\",\n",
       "  \"scattergeo with fields hoverinfo, lat, line, lon, mode, and type\",\n",
       "  \"scattergeo with fields hoverinfo, lat, line, lon, mode, and type\",\n",
       "  \"scattergeo with fields hoverinfo, lat, line, lon, mode, and type\",\n",
       "  \"scattergeo with fields hoverinfo, lat, line, lon, mode, and type\",\n",
       "  \"scattergeo with fields hoverinfo, lat, line, lon, mode, and type\",\n",
       "  \"scattergeo with fields hoverinfo, lat, line, lon, mode, and type\",\n",
       "  \"scattergeo with fields hoverinfo, lat, line, lon, mode, and type\",\n",
       "  \"scattergeo with fields hoverinfo, lat, line, lon, mode, and type\",\n",
       "  \"scattergeo with fields hoverinfo, lat, line, lon, mode, and type\",\n",
       "  \"scattergeo with fields hoverinfo, lat, line, lon, mode, and type\",\n",
       "  \"scattergeo with fields hoverinfo, lat, line, lon, mode, and type\",\n",
       "  \"scattergeo with fields hoverinfo, lat, line, lon, mode, and type\",\n",
       "  \"scattergeo with fields hoverinfo, lat, line, lon, mode, and type\",\n",
       "  \"scattergeo with fields hoverinfo, lat, line, lon, mode, and type\",\n",
       "  \"scattergeo with fields hoverinfo, lat, line, lon, mode, and type\",\n",
       "  \"scattergeo with fields hoverinfo, lat, line, lon, mode, and type\",\n",
       "  \"scattergeo with fields hoverinfo, lat, line, lon, mode, and type\",\n",
       "  \"scattergeo with fields hoverinfo, lat, line, lon, mode, and type\",\n",
       "  \"scattergeo with fields hoverinfo, lat, line, lon, mode, and type\",\n",
       "  \"scattergeo with fields hoverinfo, lat, line, lon, mode, and type\",\n",
       "  \"scattergeo with fields hoverinfo, lat, line, lon, mode, and type\",\n",
       "  \"scattergeo with fields hoverinfo, lat, line, lon, mode, and type\",\n",
       "  \"scattergeo with fields hoverinfo, lat, line, lon, mode, and type\",\n",
       "  \"scattergeo with fields hoverinfo, lat, line, lon, mode, and type\",\n",
       "  \"scattergeo with fields hoverinfo, lat, line, lon, mode, and type\",\n",
       "  \"scattergeo with fields hoverinfo, lat, line, lon, mode, and type\",\n",
       "  \"scattergeo with fields hoverinfo, lat, line, lon, mode, and type\",\n",
       "  \"scattergeo with fields hoverinfo, lat, line, lon, mode, and type\",\n",
       "  \"scattergeo with fields hoverinfo, lat, line, lon, mode, and type\",\n",
       "  \"scattergeo with fields hoverinfo, lat, line, lon, mode, and type\",\n",
       "  \"scattergeo with fields hoverinfo, lat, line, lon, mode, and type\",\n",
       "  \"scattergeo with fields hoverinfo, lat, line, lon, mode, and type\",\n",
       "  \"scattergeo with fields hoverinfo, lat, line, lon, mode, and type\",\n",
       "  \"scattergeo with fields hoverinfo, lat, line, lon, mode, and type\",\n",
       "  \"scattergeo with fields hoverinfo, lat, line, lon, mode, and type\",\n",
       "  \"scattergeo with fields hoverinfo, lat, line, lon, mode, and type\",\n",
       "  \"scattergeo with fields hoverinfo, lat, line, lon, mode, and type\",\n",
       "  \"scattergeo with fields hoverinfo, lat, line, lon, mode, and type\",\n",
       "  \"scattergeo with fields hoverinfo, lat, line, lon, mode, and type\",\n",
       "  \"scattergeo with fields hoverinfo, lat, line, lon, mode, and type\",\n",
       "  \"scattergeo with fields hoverinfo, lat, line, lon, mode, and type\",\n",
       "  \"scattergeo with fields hoverinfo, lat, line, lon, mode, and type\",\n",
       "  \"scattergeo with fields hoverinfo, lat, line, lon, mode, and type\",\n",
       "  \"scattergeo with fields hoverinfo, lat, line, lon, mode, and type\",\n",
       "  \"scattergeo with fields hoverinfo, lat, line, lon, mode, and type\",\n",
       "  \"scattergeo with fields hoverinfo, lat, line, lon, mode, and type\",\n",
       "  \"scattergeo with fields hoverinfo, lat, line, lon, mode, and type\",\n",
       "  \"scattergeo with fields hoverinfo, lat, line, lon, mode, and type\",\n",
       "  \"scattergeo with fields hoverinfo, lat, line, lon, mode, and type\",\n",
       "  \"scattergeo with fields hoverinfo, lat, line, lon, mode, and type\",\n",
       "  \"scattergeo with fields hoverinfo, lat, line, lon, mode, and type\",\n",
       "  \"scattergeo with fields hoverinfo, lat, line, lon, mode, and type\",\n",
       "  \"scattergeo with fields hoverinfo, lat, line, lon, mode, and type\",\n",
       "  \"scattergeo with fields hoverinfo, lat, line, lon, mode, and type\",\n",
       "  \"scattergeo with fields hoverinfo, lat, line, lon, mode, and type\",\n",
       "  \"scattergeo with fields hoverinfo, lat, line, lon, mode, and type\",\n",
       "  \"scattergeo with fields hoverinfo, lat, line, lon, mode, and type\",\n",
       "  \"scattergeo with fields hoverinfo, lat, line, lon, mode, and type\",\n",
       "  \"scattergeo with fields hoverinfo, lat, line, lon, mode, and type\",\n",
       "  \"scattergeo with fields hoverinfo, lat, line, lon, mode, and type\",\n",
       "  \"scattergeo with fields hoverinfo, lat, line, lon, mode, and type\",\n",
       "  \"scattergeo with fields hoverinfo, lat, line, lon, mode, and type\",\n",
       "  \"scattergeo with fields hoverinfo, lat, line, lon, mode, and type\",\n",
       "  \"scattergeo with fields hoverinfo, lat, line, lon, mode, and type\",\n",
       "  \"scattergeo with fields hoverinfo, lat, line, lon, mode, and type\",\n",
       "  \"scattergeo with fields hoverinfo, lat, line, lon, mode, and type\",\n",
       "  \"scattergeo with fields hoverinfo, lat, line, lon, mode, and type\",\n",
       "  \"scattergeo with fields hoverinfo, lat, line, lon, mode, and type\",\n",
       "  \"scattergeo with fields hoverinfo, lat, line, lon, mode, and type\",\n",
       "  \"scattergeo with fields hoverinfo, lat, line, lon, mode, and type\",\n",
       "  \"scattergeo with fields hoverinfo, lat, line, lon, mode, and type\",\n",
       "  \"scattergeo with fields hoverinfo, lat, line, lon, mode, and type\",\n",
       "  \"scattergeo with fields hoverinfo, lat, line, lon, mode, and type\",\n",
       "  \"scattergeo with fields hoverinfo, lat, line, lon, mode, and type\",\n",
       "  \"scattergeo with fields hoverinfo, lat, line, lon, mode, and type\",\n",
       "  \"scattergeo with fields hoverinfo, lat, line, lon, mode, and type\",\n",
       "  \"scattergeo with fields hoverinfo, lat, line, lon, mode, and type\",\n",
       "  \"scattergeo with fields hoverinfo, lat, line, lon, mode, and type\",\n",
       "  \"scattergeo with fields hoverinfo, lat, line, lon, mode, and type\",\n",
       "  \"scattergeo with fields hoverinfo, lat, line, lon, mode, and type\",\n",
       "  \"scattergeo with fields hoverinfo, lat, line, lon, mode, and type\",\n",
       "  \"scattergeo with fields hoverinfo, lat, line, lon, mode, and type\",\n",
       "  \"scattergeo with fields hoverinfo, lat, line, lon, mode, and type\",\n",
       "  \"scattergeo with fields hoverinfo, lat, line, lon, mode, and type\",\n",
       "  \"scattergeo with fields hoverinfo, lat, line, lon, mode, and type\",\n",
       "  \"scattergeo with fields hoverinfo, lat, line, lon, mode, and type\",\n",
       "  \"scattergeo with fields hoverinfo, lat, line, lon, mode, and type\",\n",
       "  \"scattergeo with fields hoverinfo, lat, line, lon, mode, and type\",\n",
       "  \"scattergeo with fields hoverinfo, lat, line, lon, mode, and type\",\n",
       "  \"scattergeo with fields hoverinfo, lat, line, lon, mode, and type\",\n",
       "  \"scattergeo with fields hoverinfo, lat, line, lon, mode, and type\",\n",
       "  \"scattergeo with fields hoverinfo, lat, line, lon, mode, and type\",\n",
       "  \"scattergeo with fields hoverinfo, lat, line, lon, mode, and type\",\n",
       "  \"scattergeo with fields hoverinfo, lat, line, lon, mode, and type\",\n",
       "  \"scattergeo with fields hoverinfo, lat, line, lon, mode, and type\",\n",
       "  \"scattergeo with fields hoverinfo, lat, line, lon, mode, and type\",\n",
       "  \"scattergeo with fields hoverinfo, lat, line, lon, mode, and type\",\n",
       "  \"scattergeo with fields hoverinfo, lat, line, lon, mode, and type\",\n",
       "  \"scattergeo with fields hoverinfo, lat, line, lon, mode, and type\",\n",
       "  \"scattergeo with fields hoverinfo, lat, line, lon, mode, and type\",\n",
       "  \"scattergeo with fields hoverinfo, lat, line, lon, mode, and type\",\n",
       "  \"scattergeo with fields hoverinfo, lat, line, lon, mode, and type\",\n",
       "  \"scattergeo with fields hoverinfo, lat, line, lon, mode, and type\",\n",
       "  \"scattergeo with fields hoverinfo, lat, line, lon, mode, and type\",\n",
       "  \"scattergeo with fields hoverinfo, lat, line, lon, mode, and type\",\n",
       "  \"scattergeo with fields hoverinfo, lat, line, lon, mode, and type\",\n",
       "  \"scattergeo with fields hoverinfo, lat, line, lon, mode, and type\",\n",
       "  \"scattergeo with fields hoverinfo, lat, line, lon, mode, and type\",\n",
       "  \"scattergeo with fields hoverinfo, lat, line, lon, mode, and type\",\n",
       "  \"scattergeo with fields hoverinfo, lat, line, lon, mode, and type\",\n",
       "  \"scattergeo with fields hoverinfo, lat, line, lon, mode, and type\",\n",
       "  \"scattergeo with fields hoverinfo, lat, line, lon, mode, and type\",\n",
       "  \"scattergeo with fields hoverinfo, lat, line, lon, mode, and type\",\n",
       "  \"scattergeo with fields hoverinfo, lat, line, lon, mode, and type\",\n",
       "  \"scattergeo with fields hoverinfo, lat, line, lon, mode, and type\",\n",
       "  \"scattergeo with fields hoverinfo, lat, line, lon, mode, and type\",\n",
       "  \"scattergeo with fields hoverinfo, lat, line, lon, mode, and type\",\n",
       "  \"scattergeo with fields hoverinfo, lat, line, lon, mode, and type\",\n",
       "  \"scattergeo with fields hoverinfo, lat, line, lon, mode, and type\",\n",
       "  \"scattergeo with fields hoverinfo, lat, line, lon, mode, and type\",\n",
       "  \"scattergeo with fields hoverinfo, lat, line, lon, mode, and type\",\n",
       "  \"scattergeo with fields hoverinfo, lat, line, lon, mode, and type\",\n",
       "  \"scattergeo with fields hoverinfo, lat, line, lon, mode, and type\",\n",
       "  \"scattergeo with fields hoverinfo, lat, line, lon, mode, and type\",\n",
       "  \"scattergeo with fields hoverinfo, lat, line, lon, mode, and type\",\n",
       "  \"scattergeo with fields hoverinfo, lat, line, lon, mode, and type\",\n",
       "  \"scattergeo with fields hoverinfo, lat, line, lon, mode, and type\",\n",
       "  \"scattergeo with fields hoverinfo, lat, line, lon, mode, and type\",\n",
       "  \"scattergeo with fields hoverinfo, lat, line, lon, mode, and type\",\n",
       "  \"scattergeo with fields hoverinfo, lat, line, lon, mode, and type\",\n",
       "  \"scattergeo with fields hoverinfo, lat, line, lon, mode, and type\",\n",
       "  \"scattergeo with fields hoverinfo, lat, line, lon, mode, and type\",\n",
       "  \"scattergeo with fields hoverinfo, lat, line, lon, mode, and type\",\n",
       "  \"scattergeo with fields hoverinfo, lat, line, lon, mode, and type\",\n",
       "  \"scattergeo with fields hoverinfo, lat, line, lon, mode, and type\",\n",
       "  \"scattergeo with fields hoverinfo, lat, line, lon, mode, and type\",\n",
       "  \"scattergeo with fields hoverinfo, lat, line, lon, mode, and type\",\n",
       "  \"scattergeo with fields hoverinfo, lat, line, lon, mode, and type\",\n",
       "  \"scattergeo with fields hoverinfo, lat, line, lon, mode, and type\",\n",
       "  \"scattergeo with fields hoverinfo, lat, line, lon, mode, and type\",\n",
       "  \"scattergeo with fields hoverinfo, lat, line, lon, mode, and type\",\n",
       "  \"scattergeo with fields hoverinfo, lat, line, lon, mode, and type\",\n",
       "  \"scattergeo with fields hoverinfo, lat, line, lon, mode, and type\",\n",
       "  \"scattergeo with fields hoverinfo, lat, line, lon, mode, and type\",\n",
       "  \"scattergeo with fields hoverinfo, lat, line, lon, mode, and type\",\n",
       "  \"scattergeo with fields hoverinfo, lat, line, lon, mode, and type\",\n",
       "  \"scattergeo with fields hoverinfo, lat, line, lon, mode, and type\",\n",
       "  \"scattergeo with fields hoverinfo, lat, line, lon, mode, and type\",\n",
       "  \"scattergeo with fields hoverinfo, lat, line, lon, mode, and type\",\n",
       "  \"scattergeo with fields hoverinfo, lat, line, lon, mode, and type\",\n",
       "  \"scattergeo with fields hoverinfo, lat, line, lon, mode, and type\",\n",
       "  \"scattergeo with fields hoverinfo, lat, line, lon, mode, and type\",\n",
       "  \"scattergeo with fields hoverinfo, lat, line, lon, mode, and type\",\n",
       "  \"scattergeo with fields hoverinfo, lat, line, lon, mode, and type\",\n",
       "  \"scattergeo with fields hoverinfo, lat, line, lon, mode, and type\",\n",
       "  \"scattergeo with fields hoverinfo, lat, line, lon, mode, and type\",\n",
       "  \"scattergeo with fields hoverinfo, lat, line, lon, mode, and type\",\n",
       "  \"scattergeo with fields hoverinfo, lat, line, lon, mode, and type\",\n",
       "  \"scattergeo with fields hoverinfo, lat, line, lon, mode, and type\",\n",
       "  \"scattergeo with fields hoverinfo, lat, line, lon, mode, and type\",\n",
       "  \"scattergeo with fields hoverinfo, lat, line, lon, mode, and type\",\n",
       "  \"scattergeo with fields hoverinfo, lat, line, lon, mode, and type\",\n",
       "  \"scattergeo with fields hoverinfo, lat, line, lon, mode, and type\",\n",
       "  \"scattergeo with fields hoverinfo, lat, line, lon, mode, and type\",\n",
       "  \"scattergeo with fields hoverinfo, lat, line, lon, mode, and type\",\n",
       "  \"scattergeo with fields hoverinfo, lat, line, lon, mode, and type\",\n",
       "  \"scattergeo with fields hoverinfo, lat, line, lon, mode, and type\",\n",
       "  \"scattergeo with fields hoverinfo, lat, line, lon, mode, and type\",\n",
       "  \"scattergeo with fields hoverinfo, lat, line, lon, mode, and type\",\n",
       "  \"scattergeo with fields hoverinfo, lat, line, lon, mode, and type\",\n",
       "  \"scattergeo with fields hoverinfo, lat, line, lon, mode, and type\",\n",
       "  \"scattergeo with fields hoverinfo, lat, line, lon, mode, and type\",\n",
       "  \"scattergeo with fields hoverinfo, lat, line, lon, mode, and type\",\n",
       "  \"scattergeo with fields hoverinfo, lat, line, lon, mode, and type\",\n",
       "  \"scattergeo with fields hoverinfo, lat, line, lon, mode, and type\",\n",
       "  \"scattergeo with fields hoverinfo, lat, line, lon, mode, and type\",\n",
       "  \"scattergeo with fields hoverinfo, lat, line, lon, mode, and type\",\n",
       "  \"scattergeo with fields hoverinfo, lat, line, lon, mode, and type\",\n",
       "  \"scattergeo with fields hoverinfo, lat, line, lon, mode, and type\",\n",
       "  \"scattergeo with fields hoverinfo, lat, line, lon, mode, and type\",\n",
       "  \"scattergeo with fields hoverinfo, lat, line, lon, mode, and type\",\n",
       "  \"scattergeo with fields hoverinfo, lat, line, lon, mode, and type\",\n",
       "  \"scattergeo with fields hoverinfo, lat, line, lon, mode, and type\",\n",
       "  \"scattergeo with fields hoverinfo, lat, line, lon, mode, and type\",\n",
       "  \"scattergeo with fields hoverinfo, lat, line, lon, mode, and type\",\n",
       "  \"scattergeo with fields hoverinfo, lat, line, lon, mode, and type\",\n",
       "  \"scattergeo with fields hoverinfo, lat, line, lon, mode, and type\",\n",
       "  \"scattergeo with fields hoverinfo, lat, line, lon, mode, and type\",\n",
       "  \"scattergeo with fields hoverinfo, lat, line, lon, mode, and type\",\n",
       "  \"scattergeo with fields hoverinfo, lat, line, lon, mode, and type\",\n",
       "  \"scattergeo with fields hoverinfo, lat, line, lon, mode, and type\",\n",
       "  \"scattergeo with fields hoverinfo, lat, line, lon, mode, and type\",\n",
       "  \"scattergeo with fields hoverinfo, lat, line, lon, mode, and type\",\n",
       "  \"scattergeo with fields hoverinfo, lat, line, lon, mode, and type\",\n",
       "  \"scattergeo with fields hoverinfo, lat, line, lon, mode, and type\",\n",
       "  \"scattergeo with fields hoverinfo, lat, line, lon, mode, and type\",\n",
       "  \"scattergeo with fields hoverinfo, lat, line, lon, mode, and type\",\n",
       "  \"scattergeo with fields hoverinfo, lat, line, lon, mode, and type\",\n",
       "  \"scattergeo with fields hoverinfo, lat, line, lon, mode, and type\",\n",
       "  \"scattergeo with fields hoverinfo, lat, line, lon, mode, and type\",\n",
       "  \"scattergeo with fields hoverinfo, lat, line, lon, mode, and type\",\n",
       "  \"scattergeo with fields hoverinfo, lat, line, lon, mode, and type\",\n",
       "  \"scattergeo with fields hoverinfo, lat, line, lon, mode, and type\",\n",
       "  \"scattergeo with fields hoverinfo, lat, line, lon, mode, and type\",\n",
       "  \"scattergeo with fields hoverinfo, lat, line, lon, mode, and type\",\n",
       "  \"scattergeo with fields hoverinfo, lat, line, lon, mode, and type\",\n",
       "  \"scattergeo with fields hoverinfo, lat, line, lon, mode, and type\",\n",
       "  \"scattergeo with fields hoverinfo, lat, line, lon, mode, and type\",\n",
       "  \"scattergeo with fields hoverinfo, lat, line, lon, mode, and type\",\n",
       "  \"scattergeo with fields hoverinfo, lat, line, lon, mode, and type\",\n",
       "  \"scattergeo with fields hoverinfo, lat, line, lon, mode, and type\",\n",
       "  \"scattergeo with fields hoverinfo, lat, line, lon, mode, and type\",\n",
       "  \"scattergeo with fields hoverinfo, lat, line, lon, mode, and type\",\n",
       "  \"scattergeo with fields hoverinfo, lat, line, lon, mode, and type\",\n",
       "  \"scattergeo with fields hoverinfo, lat, line, lon, mode, and type\",\n",
       "  \"scattergeo with fields hoverinfo, lat, line, lon, mode, and type\",\n",
       "  \"scattergeo with fields hoverinfo, lat, line, lon, mode, and type\",\n",
       "  \"scattergeo with fields hoverinfo, lat, line, lon, mode, and type\",\n",
       "  \"scattergeo with fields hoverinfo, lat, line, lon, mode, and type\",\n",
       "  \"scattergeo with fields hoverinfo, lat, line, lon, mode, and type\",\n",
       "  \"scattergeo with fields hoverinfo, lat, line, lon, mode, and type\",\n",
       "  \"scattergeo with fields hoverinfo, lat, line, lon, mode, and type\",\n",
       "  \"scattergeo with fields hoverinfo, lat, line, lon, mode, and type\",\n",
       "  \"scattergeo with fields hoverinfo, lat, line, lon, mode, and type\",\n",
       "  \"scattergeo with fields hoverinfo, lat, line, lon, mode, and type\",\n",
       "  \"scattergeo with fields hoverinfo, lat, line, lon, mode, and type\",\n",
       "  \"scattergeo with fields hoverinfo, lat, line, lon, mode, and type\",\n",
       "  \"scattergeo with fields hoverinfo, lat, line, lon, mode, and type\",\n",
       "  \"scattergeo with fields hoverinfo, lat, line, lon, mode, and type\",\n",
       "  \"scattergeo with fields hoverinfo, lat, line, lon, mode, and type\",\n",
       "  \"scattergeo with fields hoverinfo, lat, line, lon, mode, and type\",\n",
       "  \"scattergeo with fields hoverinfo, lat, line, lon, mode, and type\",\n",
       "  \"scattergeo with fields hoverinfo, lat, line, lon, mode, and type\",\n",
       "  \"scattergeo with fields hoverinfo, lat, line, lon, mode, and type\",\n",
       "  \"scattergeo with fields hoverinfo, lat, line, lon, mode, and type\",\n",
       "  \"scattergeo with fields hoverinfo, lat, line, lon, mode, and type\",\n",
       "  \"scattergeo with fields hoverinfo, lat, line, lon, mode, and type\",\n",
       "  \"scattergeo with fields hoverinfo, lat, line, lon, mode, and type\",\n",
       "  \"scattergeo with fields hoverinfo, lat, line, lon, mode, and type\",\n",
       "  \"scattergeo with fields hoverinfo, lat, line, lon, mode, and type\",\n",
       "  \"scattergeo with fields hoverinfo, lat, line, lon, mode, and type\",\n",
       "  \"scattergeo with fields hoverinfo, lat, line, lon, mode, and type\",\n",
       "  \"scattergeo with fields hoverinfo, lat, line, lon, mode, and type\",\n",
       "  \"scattergeo with fields hoverinfo, lat, line, lon, mode, and type\",\n",
       "  \"scattergeo with fields hoverinfo, lat, line, lon, mode, and type\",\n",
       "  \"scattergeo with fields hoverinfo, lat, line, lon, mode, and type\",\n",
       "  \"scattergeo with fields hoverinfo, lat, line, lon, mode, and type\",\n",
       "  \"scattergeo with fields hoverinfo, lat, line, lon, mode, and type\",\n",
       "  \"scattergeo with fields hoverinfo, lat, line, lon, mode, and type\",\n",
       "  \"scattergeo with fields hoverinfo, lat, line, lon, mode, and type\",\n",
       "  \"scattergeo with fields hoverinfo, lat, line, lon, mode, and type\",\n",
       "  \"scattergeo with fields hoverinfo, lat, line, lon, mode, and type\",\n",
       "  \"scattergeo with fields hoverinfo, lat, line, lon, mode, and type\",\n",
       "  \"scattergeo with fields hoverinfo, lat, line, lon, mode, and type\",\n",
       "  \"scattergeo with fields hoverinfo, lat, line, lon, mode, and type\",\n",
       "  \"scattergeo with fields hoverinfo, lat, line, lon, mode, and type\",\n",
       "  \"scattergeo with fields hoverinfo, lat, line, lon, mode, and type\",\n",
       "  \"scattergeo with fields hoverinfo, lat, line, lon, mode, and type\",\n",
       "  \"scattergeo with fields hoverinfo, lat, line, lon, mode, and type\",\n",
       "  \"scattergeo with fields hoverinfo, lat, line, lon, mode, and type\",\n",
       "  \"scattergeo with fields hoverinfo, lat, line, lon, mode, and type\",\n",
       "  \"scattergeo with fields hoverinfo, lat, line, lon, mode, and type\",\n",
       "  \"scattergeo with fields hoverinfo, lat, line, lon, mode, and type\",\n",
       "  \"scattergeo with fields hoverinfo, lat, line, lon, mode, and type\",\n",
       "  \"scattergeo with fields hoverinfo, lat, line, lon, mode, and type\",\n",
       "  \"scattergeo with fields hoverinfo, lat, line, lon, mode, and type\",\n",
       "  \"scattergeo with fields hoverinfo, lat, line, lon, mode, and type\",\n",
       "  \"scattergeo with fields hoverinfo, lat, line, lon, mode, and type\",\n",
       "  \"scattergeo with fields hoverinfo, lat, line, lon, mode, and type\",\n",
       "  \"scattergeo with fields hoverinfo, lat, line, lon, mode, and type\",\n",
       "  \"scattergeo with fields hoverinfo, lat, line, lon, mode, and type\",\n",
       "  \"scattergeo with fields hoverinfo, lat, line, lon, mode, and type\",\n",
       "  \"scattergeo with fields hoverinfo, lat, line, lon, mode, and type\",\n",
       "  \"scattergeo with fields hoverinfo, lat, line, lon, mode, and type\",\n",
       "  \"scattergeo with fields hoverinfo, lat, line, lon, mode, and type\",\n",
       "  \"scattergeo with fields hoverinfo, lat, line, lon, mode, and type\",\n",
       "  \"scattergeo with fields hoverinfo, lat, line, lon, mode, and type\",\n",
       "  \"scattergeo with fields hoverinfo, lat, line, lon, mode, and type\",\n",
       "  \"scattergeo with fields hoverinfo, lat, line, lon, mode, and type\",\n",
       "  \"scattergeo with fields hoverinfo, lat, line, lon, mode, and type\",\n",
       "  \"scattergeo with fields hoverinfo, lat, line, lon, mode, and type\",\n",
       "  \"scattergeo with fields hoverinfo, lat, line, lon, mode, and type\",\n",
       "  \"scattergeo with fields hoverinfo, lat, line, lon, mode, and type\",\n",
       "  \"scattergeo with fields hoverinfo, lat, line, lon, mode, and type\",\n",
       "  \"scattergeo with fields hoverinfo, lat, line, lon, mode, and type\",\n",
       "  \"scattergeo with fields hoverinfo, lat, line, lon, mode, and type\",\n",
       "  \"scattergeo with fields hoverinfo, lat, line, lon, mode, and type\",\n",
       "  \"scattergeo with fields hoverinfo, lat, line, lon, mode, and type\",\n",
       "  \"scattergeo with fields hoverinfo, lat, line, lon, mode, and type\",\n",
       "  \"scattergeo with fields hoverinfo, lat, line, lon, mode, and type\",\n",
       "  \"scattergeo with fields hoverinfo, lat, line, lon, mode, and type\",\n",
       "  \"scattergeo with fields hoverinfo, lat, line, lon, mode, and type\",\n",
       "  \"scattergeo with fields hoverinfo, lat, line, lon, mode, and type\",\n",
       "  \"scattergeo with fields hoverinfo, lat, line, lon, mode, and type\",\n",
       "  \"scattergeo with fields hoverinfo, lat, line, lon, mode, and type\",\n",
       "  \"scattergeo with fields hoverinfo, lat, line, lon, mode, and type\",\n",
       "  \"scattergeo with fields hoverinfo, lat, line, lon, mode, and type\",\n",
       "  \"scattergeo with fields hoverinfo, lat, line, lon, mode, and type\",\n",
       "  \"scattergeo with fields hoverinfo, lat, line, lon, mode, and type\",\n",
       "  \"scattergeo with fields hoverinfo, lat, line, lon, mode, and type\",\n",
       "  \"scattergeo with fields hoverinfo, lat, line, lon, mode, and type\",\n",
       "  \"scattergeo with fields hoverinfo, lat, line, lon, mode, and type\",\n",
       "  \"scattergeo with fields hoverinfo, lat, line, lon, mode, and type\",\n",
       "  \"scattergeo with fields hoverinfo, lat, line, lon, mode, and type\",\n",
       "  \"scattergeo with fields hoverinfo, lat, line, lon, mode, and type\",\n",
       "  \"scattergeo with fields hoverinfo, lat, line, lon, mode, and type\",\n",
       "  \"scattergeo with fields hoverinfo, lat, line, lon, mode, and type\",\n",
       "  \"scattergeo with fields hoverinfo, lat, line, lon, mode, and type\",\n",
       "  \"scattergeo with fields hoverinfo, lat, line, lon, mode, and type\",\n",
       "  \"scattergeo with fields hoverinfo, lat, line, lon, mode, and type\",\n",
       "  \"scattergeo with fields hoverinfo, lat, line, lon, mode, and type\",\n",
       "  \"scattergeo with fields hoverinfo, lat, line, lon, mode, and type\",\n",
       "  \"scattergeo with fields hoverinfo, lat, line, lon, mode, and type\",\n",
       "  \"scattergeo with fields hoverinfo, lat, line, lon, mode, and type\",\n",
       "  \"scattergeo with fields hoverinfo, lat, line, lon, mode, and type\",\n",
       "  \"scattergeo with fields hoverinfo, lat, line, lon, mode, and type\",\n",
       "  \"scattergeo with fields hoverinfo, lat, line, lon, mode, and type\",\n",
       "  \"scattergeo with fields hoverinfo, lat, line, lon, mode, and type\",\n",
       "  \"scattergeo with fields hoverinfo, lat, line, lon, mode, and type\",\n",
       "  \"scattergeo with fields hoverinfo, lat, line, lon, mode, and type\",\n",
       "  \"scattergeo with fields hoverinfo, lat, line, lon, mode, and type\",\n",
       "  \"scattergeo with fields hoverinfo, lat, line, lon, mode, and type\",\n",
       "  \"scattergeo with fields hoverinfo, lat, line, lon, mode, and type\",\n",
       "  \"scattergeo with fields hoverinfo, lat, line, lon, mode, and type\",\n",
       "  \"scattergeo with fields hoverinfo, lat, line, lon, mode, and type\",\n",
       "  \"scattergeo with fields hoverinfo, lat, line, lon, mode, and type\",\n",
       "  \"scattergeo with fields hoverinfo, lat, line, lon, mode, and type\",\n",
       "  \"scattergeo with fields hoverinfo, lat, line, lon, mode, and type\",\n",
       "  \"scattergeo with fields hoverinfo, lat, line, lon, mode, and type\",\n",
       "  \"scattergeo with fields hoverinfo, lat, line, lon, mode, and type\",\n",
       "  \"scattergeo with fields hoverinfo, lat, line, lon, mode, and type\",\n",
       "  \"scattergeo with fields hoverinfo, lat, line, lon, mode, and type\",\n",
       "  \"scattergeo with fields hoverinfo, lat, line, lon, mode, and type\",\n",
       "  \"scattergeo with fields hoverinfo, lat, line, lon, mode, and type\"\n",
       "]\n",
       "\n",
       "layout: \"layout with fields geo, margin, showlegend, and title\"\n",
       "\n"
      ]
     },
     "execution_count": 6,
     "metadata": {},
     "output_type": "execute_result"
    }
   ],
   "source": [
    "plotmap(census, pharm)\n",
    "# Configuration problem with jupyter on vse.syzygy.ca makes PlotlyJS\n",
    "# not display. Problem with Weave.jl also make PlotlyJS not display in\n",
    "# html output ... :(\n",
    "#\n",
    "# Bonus problem: find a way to plot a map that works on vse.syzygy.ca"
   ]
  },
  {
   "cell_type": "markdown",
   "metadata": {},
   "source": [
    "### Problem 5: assign pharmacies to markets\n",
    "\n",
    "Decide on some rules for assigning pharmacies to markets (population\n",
    "centres). Implement your choice and create a variable giving the\n",
    "number of pharmacies in each population centre. The function\n",
    "`distance_m` in `geo.jl` might be useful. Create tables and/or graphs\n",
    "summarizing the distribution of number of pharmacies similar to Table\n",
    "2 and Figure 3 from @br1991. \n",
    "\n",
    "### Problem 6: summary statistics and figures\n",
    "\n",
    "Create additional summary statistics and figures.\n",
    "\n",
    "\n",
    "\n",
    "This will be continued in a second notebook. Save your data frame to\n",
    "load it there."
   ]
  },
  {
   "cell_type": "code",
   "execution_count": 7,
   "metadata": {},
   "outputs": [],
   "source": [
    "import CSV\n",
    "df = census ## CHANGE THIS TO YOUR COMBINED census + pharmacy counts\n",
    "            ## data\n",
    "CSV.write(\"cleandata.csv\",df);"
   ]
  }
 ],
 "metadata": {
  "kernelspec": {
   "display_name": "Julia 1.1.0",
   "language": "julia",
   "name": "julia-1.1"
  },
  "language_info": {
   "file_extension": ".jl",
   "mimetype": "application/julia",
   "name": "julia",
   "version": "1.1.0"
  }
 },
 "nbformat": 4,
 "nbformat_minor": 2
}
